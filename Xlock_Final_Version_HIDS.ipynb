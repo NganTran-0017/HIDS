{
  "nbformat": 4,
  "nbformat_minor": 0,
  "metadata": {
    "colab": {
      "name": "Copy of Final-Version HIDS.ipynb",
      "provenance": [],
      "collapsed_sections": [],
      "toc_visible": true,
      "include_colab_link": true
    },
    "kernelspec": {
      "display_name": "Python 3",
      "language": "python",
      "name": "python3"
    },
    "language_info": {
      "codemirror_mode": {
        "name": "ipython",
        "version": 3
      },
      "file_extension": ".py",
      "mimetype": "text/x-python",
      "name": "python",
      "nbconvert_exporter": "python",
      "pygments_lexer": "ipython3",
      "version": "3.8.5"
    },
    "accelerator": "GPU"
  },
  "cells": [
    {
      "cell_type": "markdown",
      "metadata": {
        "id": "view-in-github",
        "colab_type": "text"
      },
      "source": [
        "<a href=\"https://colab.research.google.com/github/NganTran-0017/HIDS/blob/main/Xlock_Final_Version_HIDS.ipynb\" target=\"_parent\"><img src=\"https://colab.research.google.com/assets/colab-badge.svg\" alt=\"Open In Colab\"/></a>"
      ]
    },
    {
      "cell_type": "markdown",
      "metadata": {
        "id": "h1zufIrelKfl"
      },
      "source": [
        "!rm *.txt\n",
        "! rm *.int"
      ]
    },
    {
      "cell_type": "code",
      "metadata": {
        "id": "dDDU0UkRplxK",
        "colab": {
          "base_uri": "https://localhost:8080/"
        },
        "outputId": "5316afa1-ef88-4a05-e9d0-4f57d7c7d235"
      },
      "source": [
        "import pandas as pd\n",
        "import numpy as np\n",
        "import matplotlib.pyplot as plt\n",
        "from scipy import stats\n",
        "from sklearn.metrics import confusion_matrix, classification_report, roc_auc_score, accuracy_score, roc_curve, auc, recall_score, precision_score,plot_confusion_matrix\n",
        "from sklearn.model_selection import train_test_split\n",
        "%matplotlib inline\n",
        "\n",
        "import nltk\n",
        "nltk.download(\"popular\")\n",
        "\n",
        "## Tokenizing syscall sequences into n-grams of 6\n",
        "\n",
        "from nltk.tokenize import word_tokenize\n",
        "from nltk import ngrams"
      ],
      "execution_count": 1,
      "outputs": [
        {
          "output_type": "stream",
          "name": "stdout",
          "text": [
            "[nltk_data] Downloading collection 'popular'\n",
            "[nltk_data]    | \n",
            "[nltk_data]    | Downloading package cmudict to /root/nltk_data...\n",
            "[nltk_data]    |   Unzipping corpora/cmudict.zip.\n",
            "[nltk_data]    | Downloading package gazetteers to /root/nltk_data...\n",
            "[nltk_data]    |   Unzipping corpora/gazetteers.zip.\n",
            "[nltk_data]    | Downloading package genesis to /root/nltk_data...\n",
            "[nltk_data]    |   Unzipping corpora/genesis.zip.\n",
            "[nltk_data]    | Downloading package gutenberg to /root/nltk_data...\n",
            "[nltk_data]    |   Unzipping corpora/gutenberg.zip.\n",
            "[nltk_data]    | Downloading package inaugural to /root/nltk_data...\n",
            "[nltk_data]    |   Unzipping corpora/inaugural.zip.\n",
            "[nltk_data]    | Downloading package movie_reviews to\n",
            "[nltk_data]    |     /root/nltk_data...\n",
            "[nltk_data]    |   Unzipping corpora/movie_reviews.zip.\n",
            "[nltk_data]    | Downloading package names to /root/nltk_data...\n",
            "[nltk_data]    |   Unzipping corpora/names.zip.\n",
            "[nltk_data]    | Downloading package shakespeare to /root/nltk_data...\n",
            "[nltk_data]    |   Unzipping corpora/shakespeare.zip.\n",
            "[nltk_data]    | Downloading package stopwords to /root/nltk_data...\n",
            "[nltk_data]    |   Unzipping corpora/stopwords.zip.\n",
            "[nltk_data]    | Downloading package treebank to /root/nltk_data...\n",
            "[nltk_data]    |   Unzipping corpora/treebank.zip.\n",
            "[nltk_data]    | Downloading package twitter_samples to\n",
            "[nltk_data]    |     /root/nltk_data...\n",
            "[nltk_data]    |   Unzipping corpora/twitter_samples.zip.\n",
            "[nltk_data]    | Downloading package omw to /root/nltk_data...\n",
            "[nltk_data]    |   Unzipping corpora/omw.zip.\n",
            "[nltk_data]    | Downloading package wordnet to /root/nltk_data...\n",
            "[nltk_data]    |   Unzipping corpora/wordnet.zip.\n",
            "[nltk_data]    | Downloading package wordnet_ic to /root/nltk_data...\n",
            "[nltk_data]    |   Unzipping corpora/wordnet_ic.zip.\n",
            "[nltk_data]    | Downloading package words to /root/nltk_data...\n",
            "[nltk_data]    |   Unzipping corpora/words.zip.\n",
            "[nltk_data]    | Downloading package maxent_ne_chunker to\n",
            "[nltk_data]    |     /root/nltk_data...\n",
            "[nltk_data]    |   Unzipping chunkers/maxent_ne_chunker.zip.\n",
            "[nltk_data]    | Downloading package punkt to /root/nltk_data...\n",
            "[nltk_data]    |   Unzipping tokenizers/punkt.zip.\n",
            "[nltk_data]    | Downloading package snowball_data to\n",
            "[nltk_data]    |     /root/nltk_data...\n",
            "[nltk_data]    | Downloading package averaged_perceptron_tagger to\n",
            "[nltk_data]    |     /root/nltk_data...\n",
            "[nltk_data]    |   Unzipping taggers/averaged_perceptron_tagger.zip.\n",
            "[nltk_data]    | \n",
            "[nltk_data]  Done downloading collection popular\n"
          ]
        }
      ]
    },
    {
      "cell_type": "markdown",
      "metadata": {
        "id": "F4SwCY4NVnCL"
      },
      "source": [
        "#**Processing data**"
      ]
    },
    {
      "cell_type": "markdown",
      "metadata": {
        "id": "mQhzBhHanZuz"
      },
      "source": [
        "Use the given datasets in our GitHub to load the data"
      ]
    },
    {
      "cell_type": "code",
      "metadata": {
        "id": "JHtiWDffY_so",
        "colab": {
          "base_uri": "https://localhost:8080/"
        },
        "outputId": "5885b3bc-a1ae-497e-f763-97f58425054e"
      },
      "source": [
        "  ## Uncomment each line to load Normal data\n",
        "\n",
        "# Synthetic sendmail csv_file = ['bounce-1.int', 'bounce.int', 'bounce-2.int', 'plus.int', 'queue.int', 'sendmail.daemon.int', 'sendmail.log.int']; DATA = 'Synthetic Sendmail'; DATA_I='Synthetic_Sendmail'\n",
        "#!wget 'https://raw.githubusercontent.com/NganTran-0017/HIDS/main/Datasets/UNM/1.Synthetic%20Sendmail/normal-data/bounce-1.int'\n",
        "#!wget 'https://raw.githubusercontent.com/NganTran-0017/HIDS/main/Datasets/UNM/1.Synthetic%20Sendmail/normal-data/bounce.int'\n",
        "#!wget 'https://raw.githubusercontent.com/NganTran-0017/HIDS/main/Datasets/UNM/1.Synthetic%20Sendmail/normal-data/bounce-2.int'\n",
        "#!wget 'https://raw.githubusercontent.com/NganTran-0017/HIDS/main/Datasets/UNM/1.Synthetic%20Sendmail/normal-data/plus.int'\n",
        "#!wget 'https://raw.githubusercontent.com/NganTran-0017/HIDS/main/Datasets/UNM/1.Synthetic%20Sendmail/normal-data/queue.int'\n",
        "#!wget 'https://raw.githubusercontent.com/NganTran-0017/HIDS/main/Datasets/UNM/1.Synthetic%20Sendmail/normal-data/sendmail.daemon.int'\n",
        "#!wget 'https://raw.githubusercontent.com/NganTran-0017/HIDS/main/Datasets/UNM/1.Synthetic%20Sendmail/normal-data/sendmail.log.int'\n",
        "\n",
        "# LIVE LPR csv_file = ['lpr-normal-10.txt', 'lpr-normal-11.txt']; DATA = 'Live Lpr'; DATA_I='Live-Lpr' \n",
        "#!wget 'https://raw.githubusercontent.com/NganTran-0017/HIDS/main/Datasets/UNM/4.%20Live%20lpr/Normal/real/lpr-normal-11.txt'\n",
        "#!wget 'https://raw.githubusercontent.com/NganTran-0017/HIDS/main/Datasets/UNM/4.%20Live%20lpr/Normal/real/lpr-normal-10.txt'\n",
        "\n",
        "# MIT live lpr csv_file = [ 'mit-lpr-mar.txt']; DATA = 'MIT Live Lpr'; DATA_I='MIT-Lpr' \n",
        "#!wget 'https://raw.githubusercontent.com/NganTran-0017/HIDS/main/Datasets/MIT/mit-lpr-mar.txt'\n",
        "\n",
        "# LOGIN and PS csv_file = [ 'login-normal.txt', 'ps-normal.txt']; DATA = 'Login and Ps'; DATA_I =\"Login-and-Ps\"\n",
        "#!wget 'https://raw.githubusercontent.com/NganTran-0017/HIDS/main/Datasets/UNM/7.Login_and_ps/normal/login-normal.txt'\n",
        "#!wget 'https://raw.githubusercontent.com/NganTran-0017/HIDS/main/Datasets/UNM/7.Login_and_ps/normal/ps-normal.txt'\n",
        "\n",
        "# INETD csv_file = [ 'inetd-live-unm.int']; DATA = 'Inetd';DATA_I =\"Inetd\" \n",
        "#!wget 'https://raw.githubusercontent.com/NganTran-0017/HIDS/main/Datasets/UNM/8.Inetd/inetd-live-unm.int'\n",
        "\n",
        "# STIDE csv_file = [ 'stide-normal-500k.txt']; DATA = 'Stide';DATA_I ='Stide' # change sep = '\\t'\n",
        "#!wget 'https://raw.githubusercontent.com/NganTran-0017/HIDS/main/Datasets/UNM/10.Stide/stide-normal-500k.txt'\n",
        "\n",
        "# Live Named  ==> Best result \n",
        "#csv_file = [ 'normal-named-live-2k.txt']; DATA = 'Live Named';DATA_I ='Live-Named' \n",
        "#!wget 'https://raw.githubusercontent.com/NganTran-0017/HIDS/main/Datasets/UNM/6.Live_named/normal-named-live-2k.txt'\n",
        "\n",
        "# Xlock \n",
        "csv_file = [ 'normal-xlock.txt']; DATA = 'Xlock';DATA_I='Xlock' \n",
        "!wget 'https://raw.githubusercontent.com/NganTran-0017/HIDS/main/Datasets/UNM/5.xlock/normal-xlock.txt'\n",
        "\n",
        "# Synthetic Ftp csv_file = [ 'nonself1.int','nonself2.int']; DATA = 'Synthetic Ftp'; DATA_I='Synthetic-Ftp'\n",
        "#!wget 'https://raw.githubusercontent.com/NganTran-0017/HIDS/main/Datasets/UNM/2.Synthetic%20Ftp/nonself1.int'\n",
        "#!wget 'https://raw.githubusercontent.com/NganTran-0017/HIDS/main/Datasets/UNM/2.Synthetic%20Ftp/nonself2.int'\n",
        "\n",
        "# Synthetic lpr csv_file = ['syn.int']; DATA = 'Synthetic Lpr';DATA_I='Synthetic-Lpr'\n",
        "#!wget 'https://raw.githubusercontent.com/NganTran-0017/HIDS/main/Datasets/UNM/3.Synthetic-lpr/syn.int'\n",
        "\n",
        "# Concat a list of files into normal df\n",
        "list_of_dataframes = []\n",
        "for filename in csv_file:\n",
        "    list_of_dataframes.append(pd.read_csv(filename, sep=' ', header=None, engine='python'))\n",
        "df = pd.concat(list_of_dataframes)\n",
        "\n",
        "# Check number of columns, if > 2, then drop the excess\n",
        "if len(df.columns) > 2:\n",
        "    df=df.drop(labels=None, axis=1, columns = [2,3])\n",
        "df =df.rename(columns= {0:\"PID\", 1:\"Syscall\"})\n",
        "\n",
        "print('Normal data size:', df.shape)\n",
        "\n",
        "\n",
        "  ## Uncomment each line to load Intrusion data:\n",
        "\n",
        "# Synthetic sendmail csv_file = ['sm-10763.int', 'fwd-loops-1.int', 'fwd-loops-2.int', 'fwd-loops-3.int', 'fwd-loops-4.int', 'fwd-loops-5.int','sm-280.int', 'sm-314.int','sm-10801.int', 'sm-10814.int']\n",
        "#!wget 'https://raw.githubusercontent.com/NganTran-0017/HIDS/main/Datasets/UNM/1.Synthetic%20Sendmail/Intrusion-trace-data/fwd-loops-1.int'\n",
        "#!wget 'https://raw.githubusercontent.com/NganTran-0017/HIDS/main/Datasets/UNM/1.Synthetic%20Sendmail/Intrusion-trace-data/fwd-loops-2.int'\n",
        "#!wget 'https://raw.githubusercontent.com/NganTran-0017/HIDS/main/Datasets/UNM/1.Synthetic%20Sendmail/Intrusion-trace-data/fwd-loops-3.int'\n",
        "#!wget 'https://raw.githubusercontent.com/NganTran-0017/HIDS/main/Datasets/UNM/1.Synthetic%20Sendmail/Intrusion-trace-data/fwd-loops-4.int'\n",
        "#!wget 'https://raw.githubusercontent.com/NganTran-0017/HIDS/main/Datasets/UNM/1.Synthetic%20Sendmail/Intrusion-trace-data/fwd-loops-5.int'\n",
        "#!wget 'https://raw.githubusercontent.com/NganTran-0017/HIDS/main/Datasets/UNM/1.Synthetic%20Sendmail/Intrusion-trace-data/sm-10763.int'\n",
        "#!wget 'https://raw.githubusercontent.com/NganTran-0017/HIDS/main/Datasets/UNM/1.Synthetic%20Sendmail/Intrusion-trace-data/sm-280.int'\n",
        "#!wget 'https://raw.githubusercontent.com/NganTran-0017/HIDS/main/Datasets/UNM/1.Synthetic%20Sendmail/Intrusion-trace-data/sm-314.int'\n",
        "#!wget 'https://raw.githubusercontent.com/NganTran-0017/HIDS/main/Datasets/UNM/1.Synthetic%20Sendmail/Intrusion-trace-data/sm-10801.int'\n",
        "#!wget 'https://raw.githubusercontent.com/NganTran-0017/HIDS/main/Datasets/UNM/1.Synthetic%20Sendmail/Intrusion-trace-data/sm-10814.int'\n",
        "\n",
        "# LIVE LPR csv_file =['exploit-unm.int'] \n",
        "#!wget 'https://raw.githubusercontent.com/NganTran-0017/HIDS/main/Datasets/UNM/4.%20Live%20lpr/Intrusion/exploit-unm.int'\n",
        "\n",
        "# MIT live lpr csv_file = [ 'exploit-ai.int'] \n",
        "#!wget 'https://raw.githubusercontent.com/NganTran-0017/HIDS/main/Datasets/MIT/exploit-ai.int'\n",
        "\n",
        "# LOGIN and PS csv_file = [ 'login-homegrown.int','ps-homegrown.int','login-recovered.int','ps-recovered.int']\n",
        "#!wget 'https://raw.githubusercontent.com/NganTran-0017/HIDS/main/Datasets/UNM/7.Login_and_ps/intrusion/ps-recovered.int'\n",
        "#!wget 'https://raw.githubusercontent.com/NganTran-0017/HIDS/main/Datasets/UNM/7.Login_and_ps/intrusion/ps-homegrown.int'\n",
        "#!wget 'https://raw.githubusercontent.com/NganTran-0017/HIDS/main/Datasets/UNM/7.Login_and_ps/intrusion/login-recovered.int'\n",
        "#!wget 'https://raw.githubusercontent.com/NganTran-0017/HIDS/main/Datasets/UNM/7.Login_and_ps/intrusion/login-homegrown.int'\n",
        "\n",
        "# INETD csv_file = [ 'inetd-intrusion.int'] \n",
        "#!wget 'https://raw.githubusercontent.com/NganTran-0017/HIDS/main/Datasets/UNM/8.Inetd/intrusion/inetd-intrusion.int'\n",
        "\n",
        "# STIDE csv_file = [ 'stide-intrusion'] \n",
        "#!wget 'https://raw.githubusercontent.com/NganTran-0017/HIDS/main/Datasets/UNM/10.Stide/intrusion/stide-intrusion'\n",
        "\n",
        "# Live Named  ==> Best Result csv_file = [ 'exploit-1.int','exploit-2.int'] \n",
        "#!wget 'https://raw.githubusercontent.com/NganTran-0017/HIDS/main/Datasets/UNM/6.Live_named/intrusion/exploit-1.int'\n",
        "#!wget 'https://raw.githubusercontent.com/NganTran-0017/HIDS/main/Datasets/UNM/6.Live_named/intrusion/exploit-2.int'\n",
        "\n",
        "# Xlock \n",
        "csv_file = [ 'nonself.cs.unm.edu-07.24.97-xlock-2822_new.log.int', 'nonself.cs.unm.edu-07.25.97-xlock-2691_new.log.int']\n",
        "!wget 'https://raw.githubusercontent.com/NganTran-0017/HIDS/main/Datasets/UNM/5.xlock/intrusion/nonself.cs.unm.edu-07.25.97-xlock-2691_new.log.int'\n",
        "!wget 'https://raw.githubusercontent.com/NganTran-0017/HIDS/main/Datasets/UNM/5.xlock/intrusion/nonself.cs.unm.edu-07.24.97-xlock-2822_new.log.int'\n",
        "\n",
        "# Synthetic Ftp csv_file = [ 'exploit2.int']\n",
        "#!wget 'https://raw.githubusercontent.com/NganTran-0017/HIDS/main/Datasets/UNM/2.Synthetic%20Ftp/intrusion/exploit2.int'\n",
        "\n",
        "# Synthetic Lpr csv_file = [ 'exploit-unm.int']\n",
        "#!wget 'https://raw.githubusercontent.com/NganTran-0017/HIDS/main/Datasets/UNM/3.Synthetic-lpr/intrusion/exploit-unm.int'\n",
        "\n",
        "list_of_dataframes = []\n",
        "for filename in csv_file:\n",
        "    list_of_dataframes.append(pd.read_csv(filename, sep=' ', header=None, engine='python'))\n",
        "intrusiondf = pd.concat(list_of_dataframes)\n",
        "\n",
        "if len(intrusiondf.columns) > 2:\n",
        "    intrusiondf = intrusiondf.drop(labels=None, axis=1, columns = [2,3])\n",
        "intrusiondf = intrusiondf.rename(columns= {0:\"PID\", 1:\"Syscall\"})\n",
        "\n",
        "print('intrusion data size: ', intrusiondf.shape)\n",
        "\n",
        "print('Normal:',df.head(3))\n",
        "#print(df['PID'].value_counts())\n",
        "print('Intrusion:',intrusiondf.head())"
      ],
      "execution_count": 119,
      "outputs": [
        {
          "output_type": "stream",
          "name": "stdout",
          "text": [
            "--2021-10-08 18:03:19--  https://raw.githubusercontent.com/NganTran-0017/HIDS/main/Datasets/UNM/5.xlock/normal-xlock.txt\n",
            "Resolving raw.githubusercontent.com (raw.githubusercontent.com)... 185.199.108.133, 185.199.109.133, 185.199.110.133, ...\n",
            "Connecting to raw.githubusercontent.com (raw.githubusercontent.com)|185.199.108.133|:443... connected.\n",
            "HTTP request sent, awaiting response... 200 OK\n",
            "Length: 192277 (188K) [text/plain]\n",
            "Saving to: ‘normal-xlock.txt’\n",
            "\n",
            "\rnormal-xlock.txt      0%[                    ]       0  --.-KB/s               \rnormal-xlock.txt    100%[===================>] 187.77K  --.-KB/s    in 0.01s   \n",
            "\n",
            "2021-10-08 18:03:19 (18.4 MB/s) - ‘normal-xlock.txt’ saved [192277/192277]\n",
            "\n",
            "Normal data size: (25225, 2)\n",
            "--2021-10-08 18:03:20--  https://raw.githubusercontent.com/NganTran-0017/HIDS/main/Datasets/UNM/5.xlock/intrusion/nonself.cs.unm.edu-07.25.97-xlock-2691_new.log.int\n",
            "Resolving raw.githubusercontent.com (raw.githubusercontent.com)... 185.199.108.133, 185.199.109.133, 185.199.110.133, ...\n",
            "Connecting to raw.githubusercontent.com (raw.githubusercontent.com)|185.199.108.133|:443... connected.\n",
            "HTTP request sent, awaiting response... 200 OK\n",
            "Length: 3666 (3.6K) [text/plain]\n",
            "Saving to: ‘nonself.cs.unm.edu-07.25.97-xlock-2691_new.log.int’\n",
            "\n",
            "nonself.cs.unm.edu- 100%[===================>]   3.58K  --.-KB/s    in 0s      \n",
            "\n",
            "2021-10-08 18:03:20 (43.7 MB/s) - ‘nonself.cs.unm.edu-07.25.97-xlock-2691_new.log.int’ saved [3666/3666]\n",
            "\n",
            "--2021-10-08 18:03:20--  https://raw.githubusercontent.com/NganTran-0017/HIDS/main/Datasets/UNM/5.xlock/intrusion/nonself.cs.unm.edu-07.24.97-xlock-2822_new.log.int\n",
            "Resolving raw.githubusercontent.com (raw.githubusercontent.com)... 185.199.108.133, 185.199.110.133, 185.199.109.133, ...\n",
            "Connecting to raw.githubusercontent.com (raw.githubusercontent.com)|185.199.108.133|:443... connected.\n",
            "HTTP request sent, awaiting response... 200 OK\n",
            "Length: 3901 (3.8K) [text/plain]\n",
            "Saving to: ‘nonself.cs.unm.edu-07.24.97-xlock-2822_new.log.int’\n",
            "\n",
            "nonself.cs.unm.edu- 100%[===================>]   3.81K  --.-KB/s    in 0s      \n",
            "\n",
            "2021-10-08 18:03:20 (15.9 MB/s) - ‘nonself.cs.unm.edu-07.24.97-xlock-2822_new.log.int’ saved [3901/3901]\n",
            "\n",
            "intrusion data size:  (949, 2)\n",
            "Normal:     PID  Syscall\n",
            "0  1877        5\n",
            "1  1877       90\n",
            "2  1877        6\n",
            "Intrusion:     PID  Syscall\n",
            "0  2826        5\n",
            "1  2826       90\n",
            "2  2826        6\n",
            "3  2826      125\n",
            "4  2826      125\n"
          ]
        }
      ]
    },
    {
      "cell_type": "markdown",
      "metadata": {
        "id": "09eozmwq9CFh"
      },
      "source": [
        "**Change to covert all syscall of 1 PID into a data record. Pasrse each data record to a length of 10 or 15, clean frequent records.**"
      ]
    },
    {
      "cell_type": "code",
      "metadata": {
        "colab": {
          "base_uri": "https://localhost:8080/",
          "height": 793
        },
        "id": "6OgG7OGdQ0Oi",
        "outputId": "cb76eba0-acd6-43b1-881e-0206088113af"
      },
      "source": [
        "print('Number of unique PID in normal data:', len(df['PID'].value_counts()), '\\n PIDs:', df['PID'].value_counts())\n",
        "df"
      ],
      "execution_count": 120,
      "outputs": [
        {
          "output_type": "stream",
          "name": "stdout",
          "text": [
            "Number of unique PID in normal data: 20 \n",
            " PIDs: 1991    3957\n",
            "1889    3920\n",
            "1915    2271\n",
            "1903    2139\n",
            "1909    1974\n",
            "1895    1673\n",
            "1965    1666\n",
            "1883     899\n",
            "1935     731\n",
            "1985     681\n",
            "1921     657\n",
            "1997     612\n",
            "1979     609\n",
            "1947     603\n",
            "1941     603\n",
            "1953     599\n",
            "1971     586\n",
            "1929     437\n",
            "1959     355\n",
            "1877     253\n",
            "Name: PID, dtype: int64\n"
          ]
        },
        {
          "output_type": "execute_result",
          "data": {
            "text/html": [
              "<div>\n",
              "<style scoped>\n",
              "    .dataframe tbody tr th:only-of-type {\n",
              "        vertical-align: middle;\n",
              "    }\n",
              "\n",
              "    .dataframe tbody tr th {\n",
              "        vertical-align: top;\n",
              "    }\n",
              "\n",
              "    .dataframe thead th {\n",
              "        text-align: right;\n",
              "    }\n",
              "</style>\n",
              "<table border=\"1\" class=\"dataframe\">\n",
              "  <thead>\n",
              "    <tr style=\"text-align: right;\">\n",
              "      <th></th>\n",
              "      <th>PID</th>\n",
              "      <th>Syscall</th>\n",
              "    </tr>\n",
              "  </thead>\n",
              "  <tbody>\n",
              "    <tr>\n",
              "      <th>0</th>\n",
              "      <td>1877</td>\n",
              "      <td>5</td>\n",
              "    </tr>\n",
              "    <tr>\n",
              "      <th>1</th>\n",
              "      <td>1877</td>\n",
              "      <td>90</td>\n",
              "    </tr>\n",
              "    <tr>\n",
              "      <th>2</th>\n",
              "      <td>1877</td>\n",
              "      <td>6</td>\n",
              "    </tr>\n",
              "    <tr>\n",
              "      <th>3</th>\n",
              "      <td>1877</td>\n",
              "      <td>125</td>\n",
              "    </tr>\n",
              "    <tr>\n",
              "      <th>4</th>\n",
              "      <td>1877</td>\n",
              "      <td>125</td>\n",
              "    </tr>\n",
              "    <tr>\n",
              "      <th>...</th>\n",
              "      <td>...</td>\n",
              "      <td>...</td>\n",
              "    </tr>\n",
              "    <tr>\n",
              "      <th>25220</th>\n",
              "      <td>1997</td>\n",
              "      <td>4</td>\n",
              "    </tr>\n",
              "    <tr>\n",
              "      <th>25221</th>\n",
              "      <td>1997</td>\n",
              "      <td>3</td>\n",
              "    </tr>\n",
              "    <tr>\n",
              "      <th>25222</th>\n",
              "      <td>1997</td>\n",
              "      <td>163</td>\n",
              "    </tr>\n",
              "    <tr>\n",
              "      <th>25223</th>\n",
              "      <td>1997</td>\n",
              "      <td>6</td>\n",
              "    </tr>\n",
              "    <tr>\n",
              "      <th>25224</th>\n",
              "      <td>1997</td>\n",
              "      <td>1</td>\n",
              "    </tr>\n",
              "  </tbody>\n",
              "</table>\n",
              "<p>25225 rows × 2 columns</p>\n",
              "</div>"
            ],
            "text/plain": [
              "        PID  Syscall\n",
              "0      1877        5\n",
              "1      1877       90\n",
              "2      1877        6\n",
              "3      1877      125\n",
              "4      1877      125\n",
              "...     ...      ...\n",
              "25220  1997        4\n",
              "25221  1997        3\n",
              "25222  1997      163\n",
              "25223  1997        6\n",
              "25224  1997        1\n",
              "\n",
              "[25225 rows x 2 columns]"
            ]
          },
          "metadata": {},
          "execution_count": 120
        }
      ]
    },
    {
      "cell_type": "code",
      "metadata": {
        "colab": {
          "base_uri": "https://localhost:8080/",
          "height": 487
        },
        "id": "D3SbpSdF7YDQ",
        "outputId": "d7dae2c4-0b53-4ad7-e153-b55e20b3bed1"
      },
      "source": [
        "print('Number of unique PID in intrusion data:', len(intrusiondf['PID'].value_counts()), '\\n PIDs:', intrusiondf['PID'].value_counts())\n",
        "intrusiondf"
      ],
      "execution_count": 121,
      "outputs": [
        {
          "output_type": "stream",
          "name": "stdout",
          "text": [
            "Number of unique PID in intrusion data: 2 \n",
            " PIDs: 2826    489\n",
            "2695    460\n",
            "Name: PID, dtype: int64\n"
          ]
        },
        {
          "output_type": "execute_result",
          "data": {
            "text/html": [
              "<div>\n",
              "<style scoped>\n",
              "    .dataframe tbody tr th:only-of-type {\n",
              "        vertical-align: middle;\n",
              "    }\n",
              "\n",
              "    .dataframe tbody tr th {\n",
              "        vertical-align: top;\n",
              "    }\n",
              "\n",
              "    .dataframe thead th {\n",
              "        text-align: right;\n",
              "    }\n",
              "</style>\n",
              "<table border=\"1\" class=\"dataframe\">\n",
              "  <thead>\n",
              "    <tr style=\"text-align: right;\">\n",
              "      <th></th>\n",
              "      <th>PID</th>\n",
              "      <th>Syscall</th>\n",
              "    </tr>\n",
              "  </thead>\n",
              "  <tbody>\n",
              "    <tr>\n",
              "      <th>0</th>\n",
              "      <td>2826</td>\n",
              "      <td>5</td>\n",
              "    </tr>\n",
              "    <tr>\n",
              "      <th>1</th>\n",
              "      <td>2826</td>\n",
              "      <td>90</td>\n",
              "    </tr>\n",
              "    <tr>\n",
              "      <th>2</th>\n",
              "      <td>2826</td>\n",
              "      <td>6</td>\n",
              "    </tr>\n",
              "    <tr>\n",
              "      <th>3</th>\n",
              "      <td>2826</td>\n",
              "      <td>125</td>\n",
              "    </tr>\n",
              "    <tr>\n",
              "      <th>4</th>\n",
              "      <td>2826</td>\n",
              "      <td>125</td>\n",
              "    </tr>\n",
              "    <tr>\n",
              "      <th>...</th>\n",
              "      <td>...</td>\n",
              "      <td>...</td>\n",
              "    </tr>\n",
              "    <tr>\n",
              "      <th>455</th>\n",
              "      <td>2695</td>\n",
              "      <td>126</td>\n",
              "    </tr>\n",
              "    <tr>\n",
              "      <th>456</th>\n",
              "      <td>2695</td>\n",
              "      <td>54</td>\n",
              "    </tr>\n",
              "    <tr>\n",
              "      <th>457</th>\n",
              "      <td>2695</td>\n",
              "      <td>126</td>\n",
              "    </tr>\n",
              "    <tr>\n",
              "      <th>458</th>\n",
              "      <td>2695</td>\n",
              "      <td>57</td>\n",
              "    </tr>\n",
              "    <tr>\n",
              "      <th>459</th>\n",
              "      <td>2695</td>\n",
              "      <td>1</td>\n",
              "    </tr>\n",
              "  </tbody>\n",
              "</table>\n",
              "<p>949 rows × 2 columns</p>\n",
              "</div>"
            ],
            "text/plain": [
              "      PID  Syscall\n",
              "0    2826        5\n",
              "1    2826       90\n",
              "2    2826        6\n",
              "3    2826      125\n",
              "4    2826      125\n",
              "..    ...      ...\n",
              "455  2695      126\n",
              "456  2695       54\n",
              "457  2695      126\n",
              "458  2695       57\n",
              "459  2695        1\n",
              "\n",
              "[949 rows x 2 columns]"
            ]
          },
          "metadata": {},
          "execution_count": 121
        }
      ]
    },
    {
      "cell_type": "markdown",
      "metadata": {
        "id": "vvHyIKtq9BCG"
      },
      "source": [
        "**Create syscall sequence per pid**"
      ]
    },
    {
      "cell_type": "code",
      "metadata": {
        "colab": {
          "base_uri": "https://localhost:8080/"
        },
        "id": "KXOlXVgyOHmA",
        "outputId": "554f3fc4-d6cc-4b2f-c08e-3eb4f53a8028"
      },
      "source": [
        "# This function groups data by PID, so the sequences appear by PID instead of by order, in case it was interrupted by other PID\n",
        "## It returns a dict with PID as key and syscall seq as item\n",
        "def group_syscalls_by_pid (data):\n",
        "  seq_per_pid = {}\n",
        "  for p in data['PID'].unique():\n",
        "    filt = data['PID'] == p\n",
        "    seq = data.loc[filt]['Syscall'].values.astype(str)\n",
        "    seq_per_pid[p] = ' '.join(seq)\n",
        "  return seq_per_pid\n",
        "\n",
        "# Group normal df by PID and drop PID column\n",
        "normal_seq_per_pid = group_syscalls_by_pid(df)\n",
        "print('Number of unique PID in normal:', len(normal_seq_per_pid))\n",
        "print('Normal PIDs and its sequences: ',normal_seq_per_pid)\n",
        "\n",
        "# Do the same thing to intrusion PID\n",
        "intrusion_seq_per_pid = group_syscalls_by_pid(intrusiondf)\n",
        "print('Number of unique PID in intrusion:', len(intrusion_seq_per_pid))\n",
        "print('Intrusion PIDs and its sequences: ', intrusion_seq_per_pid)"
      ],
      "execution_count": 122,
      "outputs": [
        {
          "output_type": "stream",
          "name": "stdout",
          "text": [
            "Number of unique PID in normal: 20\n",
            "Normal PIDs and its sequences:  {1877: '5 90 6 125 125 24 49 47 50 106 5 90 6 5 5 3 90 90 90 90 6 6 125 5 5 3 90 90 90 90 6 6 125 5 5 3 90 90 90 6 6 125 5 5 5 3 90 90 90 6 6 125 5 5 5 3 90 90 90 90 6 6 125 5 5 3 90 90 90 90 6 6 125 91 125 125 125 125 125 125 125 125 136 45 13 45 45 45 45 45 45 5 106 45 3 6 45 45 45 5 108 45 3 3 3 6 5 108 3 3 3 6 5 108 3 19 6 33 5 108 3 3 6 45 45 5 151 164 5 45 108 3 3 6 5 108 3 19 6 153 156 157 122 55 33 5 108 3 3 6 4 55 3 3 4 3 3 5 106 3 6 4 4 4 4 4 4 4 4 4 4 4 4 4 4 4 4 4 4 4 4 4 4 4 4 4 4 4 4 4 4 4 4 4 4 4 4 4 4 4 4 4 4 4 4 4 4 4 4 4 4 4 4 4 4 4 4 4 4 4 4 4 4 4 4 4 4 4 4 4 4 4 4 4 4 4 4 4 4 4 4 4 4 4 4 4 4 4 4 4 4 4 1', 1883: '5 90 6 125 125 24 49 47 50 106 5 90 6 5 5 3 90 90 90 90 6 6 125 5 5 3 90 90 90 90 6 6 125 5 5 3 90 90 90 6 6 125 5 5 5 3 90 90 90 6 6 125 5 5 5 3 90 90 90 90 6 6 125 5 5 3 90 90 90 90 6 6 125 91 125 125 125 125 125 125 125 125 136 45 13 45 45 45 45 45 45 5 106 45 3 6 45 45 45 5 108 45 3 3 3 6 5 108 3 3 3 6 5 108 3 19 6 33 5 108 3 3 6 45 45 5 151 164 5 45 108 3 3 6 5 108 3 19 6 153 156 157 122 55 33 5 108 3 3 6 4 55 3 3 4 3 3 5 106 3 6 24 5 108 45 3 19 6 24 5 108 3 19 6 5 108 3 19 6 49 4 3 3 3 3 4 3 4 3 3 4 3 4 3 4 3 4 3 4 3 4 3 4 3 4 3 4 3 4 3 4 3 4 3 4 3 4 3 4 3 4 3 4 3 4 3 4 3 4 3 4 3 4 3 4 3 4 3 4 3 4 3 4 3 4 3 4 3 4 3 4 3 4 3 4 3 4 3 106 5 108 45 3 19 3 6 4 3 4 3 4 3 4 3 4 3 3 4 3 4 3 3 4 3 4 3 4 3 4 3 4 3 4 3 4 3 4 3 4 3 4 3 4 3 4 3 4 3 4 3 4 3 4 3 4 3 4 3 4 3 4 3 4 3 4 3 4 3 4 3 4 3 4 3 4 3 4 3 4 3 4 3 4 3 4 3 4 3 4 3 4 3 4 3 4 3 4 3 4 3 4 3 4 3 4 3 4 3 4 3 4 3 4 3 4 3 4 3 4 3 4 3 4 3 4 3 4 3 4 3 4 3 4 3 4 3 4 3 4 3 4 3 4 3 4 3 4 3 4 3 4 3 4 3 3 4 3 3 4 3 67 34 126 67 67 67 67 4 3 3 126 4 54 3 4 54 78 104 82 54 3 4 3 3 3 4 3 4 78 4 3 3 3 78 54 78 78 104 82 54 3 78 54 78 78 82 54 3 4 3 3 4 3 3 54 78 54 78 78 82 54 3 54 78 54 78 78 82 54 3 78 54 78 78 82 54 3 78 54 78 78 82 54 3 54 78 54 78 78 82 54 3 54 78 54 78 78 82 54 3 54 78 54 78 78 82 54 3 54 78 54 78 78 82 54 3 78 54 78 54 78 78 82 54 3 54 78 54 78 78 82 54 3 78 54 78 78 82 54 3 78 54 78 78 82 54 3 78 54 78 78 82 54 3 54 78 54 78 78 82 54 3 54 78 54 78 78 82 54 3 78 54 78 78 82 54 3 78 54 78 78 82 54 3 54 78 54 78 78 82 54 3 78 54 78 54 78 78 82 54 3 78 54 78 78 82 54 3 78 54 78 54 78 78 82 54 3 78 54 78 78 82 54 3 78 54 78 78 82 54 3 78 54 78 78 82 54 3 78 54 78 78 82 54 3 78 54 78 78 82 54 3 78 54 78 78 82 54 3 4 4 3 126 67 13 27 72 119 13 67 27 126 78 4 3 3 3 3 78 78 54 78 78 82 119 4 3 78 82 54 3 78 54 78 78 82 54 3 78 54 78 78 82 54 3 4 3 4 54 3 54 78 104 82 54 3 54 78 82 54 3 4 3 3 3 4 3 4 78 4 3 3 3 3 78 78 54 78 78 104 82 54 3 78 54 78 78 82 54 3 54 78 54 78 78 82 54 3 54 78 54 78 78 82 54 3 78 54 78 78 82 54 3 78 54 78 78 82 54 3 54 78 54 78 78 82 54 3 54 78 54 78 78 82 54 3 78 54 78 78 82 54 3 78 54 78 78 82 54 3 54 78 54 78 78 82 54 3 78 54 78 78 82 54 3 54 78 54 78 78 82 54 3 78 54 78 78 82 54 3 54 78 54 78 78 82 54 3 54 78 54 78 78 82 54 3 78 54 78 78 82 54 3 78 54 78 78 82 54 3 4 4 3 4 4 3 163 6 1', 1889: '5 90 6 125 125 24 49 47 50 106 5 90 6 5 5 3 90 90 90 90 6 6 125 5 5 3 90 90 90 90 6 6 125 5 5 3 90 90 90 6 6 125 5 5 5 3 90 90 90 6 6 125 5 5 5 3 90 90 90 90 6 6 125 5 5 3 90 90 90 90 6 6 125 91 125 125 125 125 125 125 125 125 136 45 13 45 45 45 45 45 45 5 106 45 3 6 45 45 45 5 108 45 3 3 3 6 5 108 3 3 3 6 5 108 3 19 6 33 5 108 3 3 6 45 45 5 151 164 5 45 108 3 3 6 5 108 3 19 6 153 156 157 122 55 33 5 108 3 3 6 4 55 3 3 4 3 3 5 106 3 6 24 5 108 45 3 19 6 24 5 108 3 19 6 5 108 3 19 6 49 4 3 3 3 3 4 3 4 3 3 4 3 4 3 4 3 4 3 4 3 4 3 4 3 4 3 4 3 4 3 4 3 4 3 4 3 4 3 4 3 4 3 4 3 4 3 4 3 4 3 4 3 4 3 4 3 4 3 4 3 4 3 4 3 4 3 4 3 4 3 4 3 4 3 4 3 4 3 106 5 108 45 3 19 3 6 4 3 4 3 4 3 4 3 4 3 3 4 3 4 3 3 4 3 4 3 4 3 4 3 4 3 4 3 4 3 4 3 4 3 4 3 4 3 4 3 4 3 4 3 4 3 4 3 4 3 4 3 4 3 4 3 4 3 4 3 4 3 4 3 4 3 4 3 4 3 4 3 4 3 4 3 4 3 4 3 4 3 4 3 4 3 4 3 4 3 4 3 4 3 4 3 4 3 4 3 4 3 4 3 4 3 4 3 4 3 4 3 4 3 4 3 4 3 4 3 4 3 4 3 4 3 4 3 4 3 4 3 4 3 4 3 4 3 4 3 4 3 4 3 4 3 4 3 3 4 3 4 3 67 34 126 67 67 67 67 4 3 3 126 4 54 78 104 82 119 4 3 82 119 4 3 82 119 4 3 82 119 4 3 82 119 4 3 82 119 4 3 82 119 4 3 82 119 4 3 82 119 4 3 82 119 4 3 82 119 4 3 82 119 4 3 82 119 4 3 82 119 4 3 82 119 4 3 82 119 4 3 82 119 4 3 82 119 4 3 82 119 4 3 82 119 4 3 82 119 4 3 82 119 4 3 82 119 4 3 82 119 4 3 82 119 4 3 82 119 4 3 82 119 4 3 82 119 4 3 82 119 4 3 82 119 4 3 82 119 4 3 82 119 4 3 82 119 4 3 82 119 4 3 82 119 4 3 82 119 4 3 82 119 4 3 82 119 4 3 82 119 4 3 82 119 4 3 82 119 4 3 82 119 4 3 82 119 4 3 82 119 4 3 82 119 4 3 82 119 4 3 82 119 4 3 82 119 4 3 82 119 4 3 82 119 4 3 82 119 4 3 82 119 4 3 82 119 4 3 82 119 4 3 82 119 4 3 82 119 4 3 82 119 4 3 82 119 4 3 82 119 4 3 82 119 4 3 82 119 4 3 82 119 4 3 82 119 4 3 82 119 4 3 82 119 4 3 82 119 4 3 82 119 4 3 82 119 4 3 82 119 4 3 82 119 4 3 82 119 4 3 82 119 4 3 82 119 4 3 82 119 4 3 82 119 4 3 82 119 4 3 82 119 4 3 82 119 4 3 82 119 4 3 82 119 4 3 82 119 4 3 82 119 4 3 82 119 4 3 82 119 4 3 82 119 4 3 82 119 4 3 82 119 4 3 82 119 4 3 82 119 4 3 82 119 4 3 82 119 4 3 82 119 4 3 82 119 4 3 82 119 4 3 82 119 4 3 82 119 4 3 82 119 4 3 82 119 4 3 82 119 4 3 82 119 4 3 82 119 4 3 82 119 4 3 82 119 4 3 82 119 4 3 82 119 4 3 82 119 4 3 82 119 4 3 82 119 4 3 82 119 4 3 82 119 4 3 82 119 4 3 82 119 4 3 82 119 4 3 82 119 4 3 82 119 4 3 82 119 4 3 82 119 4 3 82 119 4 3 82 119 4 3 82 119 4 3 82 119 4 3 82 119 4 3 82 119 4 3 82 119 4 3 82 119 4 3 82 119 4 3 82 119 4 3 82 119 4 3 82 119 4 3 82 119 4 3 82 119 4 3 82 119 4 3 82 119 4 3 82 119 4 3 82 119 4 3 82 119 4 3 82 119 4 3 82 119 4 3 82 119 4 3 82 119 4 3 82 119 4 3 82 119 4 3 82 119 4 3 82 119 4 3 82 119 4 3 82 119 4 3 82 119 4 3 82 119 4 3 82 119 4 3 82 119 4 3 82 119 4 3 82 119 4 3 82 119 4 3 82 119 4 3 82 119 4 3 82 119 4 3 82 119 4 3 82 119 4 3 82 119 4 3 82 119 4 3 82 119 4 3 82 119 4 3 82 119 4 3 82 119 4 3 82 119 4 3 82 119 4 3 82 119 4 3 82 119 4 3 82 119 4 3 82 119 4 3 82 119 4 3 82 119 4 3 82 119 4 3 82 119 4 3 82 119 4 3 82 119 4 3 82 119 4 3 82 119 4 3 82 119 4 3 82 119 4 3 82 119 4 3 82 119 4 3 82 119 4 3 82 119 4 3 82 119 4 3 82 119 4 3 82 119 4 3 82 119 4 3 82 119 4 3 82 119 4 3 82 119 4 3 82 119 4 3 82 119 4 3 82 119 4 3 82 119 4 3 82 119 4 3 82 119 4 3 82 119 4 3 82 119 4 3 82 119 4 3 82 119 4 3 82 119 4 3 82 119 4 3 82 119 4 3 82 119 4 3 82 119 4 3 82 119 4 3 82 119 4 3 82 119 4 3 82 119 4 3 82 119 4 3 82 119 4 3 82 119 4 3 82 119 4 3 82 119 4 3 82 119 4 3 82 119 4 3 82 119 4 3 82 119 4 3 82 119 4 3 82 119 4 3 82 119 4 3 82 119 4 3 82 119 4 3 82 119 4 3 82 119 4 3 82 119 4 3 82 119 4 3 82 119 4 3 82 119 4 3 82 119 4 3 82 119 4 3 82 119 4 3 82 119 4 3 82 119 4 3 82 119 4 3 82 119 4 3 82 119 4 3 82 119 4 3 82 119 4 3 82 119 4 3 82 119 4 3 82 119 4 3 82 119 4 3 82 119 4 3 82 119 4 3 82 119 4 3 82 119 4 3 82 119 4 3 82 119 4 3 82 119 4 3 82 119 4 3 82 119 4 3 82 119 4 3 82 119 4 3 82 119 4 3 82 119 4 3 82 119 4 3 82 119 4 3 82 119 4 3 82 119 4 3 82 119 4 3 82 119 4 3 82 119 4 3 82 119 4 3 82 119 4 3 82 119 4 3 82 119 4 3 82 119 4 3 82 119 4 3 82 119 4 3 82 119 4 3 82 119 4 3 82 119 4 3 82 119 4 3 82 119 4 3 82 119 4 3 82 119 4 3 82 119 4 3 82 119 4 3 82 119 4 3 82 119 4 3 82 119 4 3 82 119 4 3 82 119 4 3 82 119 4 3 82 119 4 3 82 119 4 3 82 119 4 3 82 119 4 3 82 119 4 3 82 119 4 3 82 119 4 3 82 119 4 3 82 119 4 3 82 119 4 3 82 119 4 3 82 119 4 3 82 119 4 3 82 119 4 3 82 119 4 3 82 119 4 3 82 119 4 3 82 119 4 3 82 119 4 3 82 119 4 3 82 119 4 3 82 119 4 3 82 119 4 3 82 119 4 3 82 119 4 3 82 119 4 3 82 119 4 3 82 119 4 3 82 119 4 3 82 119 4 3 82 119 4 3 82 119 4 3 82 119 4 3 82 119 4 3 82 119 4 3 82 119 4 3 82 119 4 3 82 119 4 3 82 119 4 3 82 119 4 3 82 119 4 3 82 119 4 3 82 119 4 3 82 119 4 3 82 119 4 3 82 119 4 3 82 119 4 3 82 119 4 3 82 119 4 3 82 119 4 3 82 119 4 3 82 119 4 3 82 119 4 3 82 119 4 3 82 119 4 3 82 119 4 3 82 119 4 3 82 119 4 3 82 119 4 3 82 119 4 3 82 119 4 3 82 119 4 3 82 119 4 3 82 119 4 3 82 119 4 3 82 119 4 3 82 119 4 3 82 119 4 3 82 119 4 3 82 119 4 3 82 119 4 3 82 119 4 3 82 119 4 3 82 119 4 3 82 119 4 3 82 119 4 3 82 119 4 3 82 119 4 3 82 119 4 3 82 119 4 3 82 119 4 3 82 119 4 3 82 119 4 3 82 119 4 3 82 119 4 3 82 119 4 3 82 119 4 3 82 119 4 3 82 119 4 3 82 119 4 3 82 119 4 3 82 119 4 3 82 119 4 3 82 119 4 3 82 119 4 3 82 119 4 3 82 119 4 3 82 119 4 3 82 119 4 3 82 119 4 3 82 119 4 3 82 119 4 3 82 119 4 3 82 119 4 3 82 119 4 3 82 119 4 3 82 119 4 3 82 119 4 3 82 119 4 3 82 119 4 3 82 119 4 3 82 119 4 3 82 119 4 3 82 119 4 3 82 119 4 3 82 119 4 3 82 119 4 3 82 119 4 3 82 119 4 3 82 119 4 3 82 119 4 3 82 119 4 3 82 119 4 3 82 119 4 3 82 119 4 3 82 119 4 3 82 119 4 3 82 119 4 3 82 119 4 3 82 119 4 3 82 119 4 3 82 119 4 3 82 119 4 3 82 119 4 3 82 119 4 3 82 119 4 3 82 119 4 3 82 119 4 3 82 119 4 3 82 119 4 3 82 119 4 3 82 119 4 3 82 119 4 3 82 119 4 3 82 119 4 3 82 119 4 3 82 119 4 3 82 119 4 3 82 119 4 3 82 119 4 3 82 119 4 3 82 119 4 3 82 119 4 3 82 119 4 3 82 119 4 3 82 119 4 3 82 119 4 3 82 119 4 3 82 119 4 3 82 119 4 3 82 119 4 3 82 119 4 3 82 119 4 3 82 119 4 3 82 119 4 3 82 119 4 3 82 119 4 3 82 119 4 3 82 119 4 3 82 119 4 3 82 119 4 3 82 119 4 3 82 119 4 3 82 119 4 3 82 119 4 3 82 119 4 3 82 119 4 3 82 119 4 3 82 119 4 3 82 119 4 3 82 119 4 3 82 119 4 3 82 119 4 3 82 119 4 3 82 119 4 3 82 119 4 3 82 119 4 3 82 119 4 3 82 119 4 3 82 119 4 3 82 119 4 3 82 119 4 3 82 119 4 3 82 119 4 3 82 119 4 3 82 119 4 3 82 119 4 3 82 119 4 3 82 119 4 3 82 119 4 3 82 119 4 3 82 119 4 3 82 119 4 3 82 119 4 3 82 119 4 3 82 119 4 3 82 119 4 3 82 119 4 3 82 119 4 3 82 119 4 3 82 119 4 3 82 119 4 3 82 119 4 3 82 119 4 3 82 119 4 3 82 119 4 3 82 119 4 3 82 119 4 3 82 119 4 3 82 119 4 3 82 119 4 3 82 119 4 3 82 119 4 3 82 119 4 3 82 119 4 3 82 119 4 3 82 119 4 3 82 119 4 3 82 119 4 3 82 119 4 3 82 119 4 3 82 119 4 3 82 119 4 3 82 119 4 3 82 119 4 3 82 119 4 3 82 119 4 3 82 119 4 3 82 119 4 3 82 119 4 3 82 119 4 3 82 119 4 3 82 119 4 3 82 119 4 3 82 119 4 3 82 119 4 3 82 119 4 3 82 119 4 3 82 119 4 3 82 119 4 3 82 119 4 3 82 119 4 3 82 119 4 3 82 119 4 3 82 119 4 3 82 119 4 3 82 119 4 3 82 119 4 3 82 119 4 3 82 119 4 3 82 119 4 3 82 119 4 3 82 119 4 3 82 119 4 3 82 119 4 3 82 119 4 3 82 119 4 3 82 119 4 3 82 119 4 3 82 119 4 3 82 119 4 3 82 119 4 3 82 119 4 3 82 119 4 3 82 119 4 3 82 119 4 3 82 119 4 3 82 119 4 3 82 119 4 3 82 119 4 3 82 119 4 3 82 119 4 3 82 119 4 3 82 119 4 3 82 119 4 3 82 119 4 3 82 119 4 3 82 119 4 3 82 119 4 3 82 119 4 3 82 119 4 3 82 119 4 3 82 119 4 3 82 119 4 3 82 119 4 3 82 119 4 3 82 119 4 3 82 119 4 3 82 119 4 3 82 119 4 3 82 119 4 3 82 119 4 3 82 119 4 3 82 119 4 3 82 119 4 3 82 119 4 3 82 119 4 3 82 119 4 3 82 119 4 3 82 119 4 3 82 119 4 3 82 119 4 3 82 119 4 3 82 119 4 3 82 119 4 3 82 119 4 3 82 119 4 3 82 119 4 3 82 119 4 3 82 119 4 3 82 119 4 3 82 119 4 3 82 119 4 3 82 119 4 3 82 119 4 3 82 119 4 3 82 119 4 3 82 119 4 3 82 119 4 3 82 119 4 3 82 119 4 3 82 119 4 3 82 119 4 3 82 119 4 3 82 119 4 3 82 119 4 3 82 119 4 3 82 119 4 3 82 119 4 3 82 119 4 3 82 119 4 3 82 119 4 3 82 119 4 3 82 119 4 3 82 119 4 3 82 119 4 3 82 119 4 3 82 119 4 3 82 119 4 3 82 119 4 3 82 119 4 3 82 119 4 3 82 119 4 3 82 119 4 3 82 119 4 3 82 119 4 3 82 119 4 3 82 119 4 3 82 119 4 3 82 119 4 3 82 119 4 3 82 119 4 3 82 119 4 3 82 119 4 3 82 119 4 3 82 119 4 3 82 119 4 3 82 119 4 3 82 119 4 3 82 119 4 3 82 119 4 3 82 119 4 3 82 119 4 3 82 119 4 3 82 119 4 3 82 119 4 3 82 119 4 3 82 119 4 3 82 119 4 3 82 119 4 3 82 119 4 3 82 119 4 3 82 119 4 3 82 119 4 3 82 119 4 3 82 119 4 3 82 119 4 3 82 119 4 3 82 119 4 3 82 119 4 3 82 119 4 3 82 119 4 3 82 119 4 3 82 119 4 3 82 119 4 3 82 119 4 3 82 119 4 3 82 119 4 3 82 119 4 3 82 119 4 3 82 119 4 3 82 119 4 3 82 119 4 3 82 119 4 3 82 119 4 3 82 119 4 3 82 119 4 3 82 119 4 3 82 119 4 3 82 119 4 3 82 119 4 3 82 119 4 3 82 119 4 3 82 119 4 3 82 119 4 3 82 119 4 3 82 119 4 3 82 119 4 3 82 119 4 3 82 119 4 3 82 119 4 3 82 119 4 3 82 119 4 3 82 119 4 3 82 119 4 3 82 119 4 3 82 119 4 3 82 119 4 3 82 119 4 3 82 119 4 3 82 119 4 3 82 119 4 3 82 119 4 3 82 119 4 3 82 119 4 3 82 119 4 3 82 119 4 3 82 119 4 3 82 119 4 3 82 119 4 3 82 119 4 3 82 119 4 3 82 119 4 3 82 119 4 3 82 119 4 3 82 119 4 3 82 119 4 3 82 119 4 3 82 119 4 3 82 119 4 3 82 119 4 3 82 119 4 3 82 119 4 3 82 119 4 3 82 119 4 3 82 119 4 3 82 119 4 3 82 119 54 3 4 3 3 3 4 3 4 119 119 78 4 3 3 3 3 78 78 54 78 78 104 82 119 4 3 78 82 119 4 3 78 82 119 4 3 78 82 119 4 3 78 82 119 4 3 78 82 119 4 3 78 82 119 4 3 78 82 119 54 3 78 54 78 78 82 4 3 78 82 119 4 3 78 82 119 4 3 78 82 119 4 3 78 82 119 4 3 78 82 119 54 3 4 3 3 4 3 3 54 78 54 78 119 78 82 4 3 78 82 119 4 3 78 82 119 4 3 78 82 119 4 3 78 82 119 4 3 78 82 119 4 3 78 82 119 4 3 78 82 119 54 3 54 78 54 78 78 82 4 3 78 82 119 4 3 78 82 119 4 3 78 82 119 4 3 78 82 119 4 3 78 82 119 4 3 78 82 119 4 3 78 82 119 4 3 78 82 119 4 3 78 82 119 54 3 78 54 78 78 82 4 3 78 82 119 4 3 78 82 119 4 3 78 82 119 54 3 78 54 78 78 82 4 3 78 82 119 4 3 78 82 119 4 3 78 82 119 54 3 54 78 54 78 78 82 4 3 78 82 119 4 3 78 82 119 4 3 78 82 119 4 3 78 82 119 4 3 78 82 119 4 3 78 82 119 4 3 78 82 119 54 3 54 78 54 78 78 82 4 3 78 82 119 4 3 78 82 119 4 3 78 82 119 4 3 78 82 119 4 3 78 82 119 4 3 78 82 119 54 3 78 54 78 78 82 4 3 78 82 119 4 3 78 82 119 54 3 78 54 78 78 82 4 3 78 82 119 4 3 78 82 119 4 3 78 82 119 4 3 78 82 119 4 3 78 82 119 4 3 78 82 119 4 3 78 82 119 4 3 78 82 119 4 3 78 82 119 54 3 54 78 54 78 78 82 4 3 78 82 119 4 3 78 82 119 4 3 78 82 119 4 3 78 82 119 4 3 78 82 119 4 119 3 3 3 3 3 3 78 78 78 78 54 78 54 78 78 119 82 54 3 78 54 78 78 82 4 3 78 82 119 54 3 78 54 78 78 82 4 3 78 82 119 4 3 78 82 119 4 3 78 82 119 4 3 78 82 119 4 3 78 82 119 4 3 78 82 119 4 3 78 82 119 54 3 4 119 119 119 4 3 119 3 4 4 3 163 119 6 1', 1895: '5 90 6 125 125 24 49 47 50 106 5 90 6 5 5 3 90 90 90 90 6 6 125 5 5 3 90 90 90 90 6 6 125 5 5 3 90 90 90 6 6 125 5 5 5 3 90 90 90 6 6 125 5 5 5 3 90 90 90 90 6 6 125 5 5 3 90 90 90 90 6 6 125 91 125 125 125 125 125 125 125 125 136 45 13 45 45 45 45 45 45 5 106 45 3 6 45 45 45 5 108 45 3 3 3 6 5 108 3 3 3 6 5 108 3 19 6 33 5 108 3 3 6 45 45 5 151 164 5 45 108 3 3 6 5 108 3 19 6 153 156 157 122 55 33 5 108 3 3 6 4 55 3 3 4 3 3 5 106 3 6 24 5 108 45 3 19 6 24 5 108 3 19 6 5 108 3 19 6 49 4 3 3 3 3 4 3 4 3 3 4 3 4 3 4 3 4 3 4 3 4 3 4 3 4 3 4 3 4 3 4 3 4 3 4 3 4 3 4 3 4 3 4 3 4 3 4 3 4 3 4 3 4 3 4 3 4 3 4 3 4 3 4 3 4 3 4 3 4 3 4 3 4 3 4 3 4 3 106 5 108 45 3 19 3 6 4 3 4 3 4 3 4 3 4 3 3 4 3 4 3 3 4 3 4 3 4 3 4 3 4 3 4 3 4 3 4 3 4 3 4 3 4 3 4 3 4 3 4 3 4 3 4 3 4 3 4 3 4 3 4 3 4 3 4 3 4 3 4 3 4 3 4 3 4 3 4 3 4 3 4 3 4 3 4 3 4 3 4 3 4 3 4 3 4 3 4 3 4 3 4 3 4 3 4 3 4 3 4 3 4 3 4 3 4 3 4 3 4 3 4 3 4 3 4 3 4 3 4 3 4 3 4 3 4 3 4 3 4 3 4 3 4 3 4 3 4 3 4 3 4 3 4 3 3 4 3 4 3 67 34 126 67 67 67 67 4 3 3 126 4 3 3 3 4 54 78 104 82 119 4 3 82 119 4 3 82 119 4 3 82 119 4 3 82 119 4 3 82 119 4 3 82 119 4 3 82 119 4 3 82 119 4 3 82 119 4 3 82 119 4 3 82 119 4 3 82 119 4 3 82 119 4 3 82 119 4 3 82 119 4 3 82 119 4 3 82 119 4 3 82 119 4 3 82 119 4 3 82 119 4 3 82 119 4 3 82 119 4 3 82 119 4 3 82 119 4 3 82 119 4 3 82 119 4 3 82 119 4 3 82 119 4 3 82 119 4 3 82 119 4 3 82 119 4 3 82 119 4 3 82 119 4 3 82 119 4 3 82 119 4 3 82 119 4 3 82 119 4 3 82 119 4 3 82 119 4 3 82 119 4 3 82 119 4 3 82 119 4 3 82 119 4 3 82 119 4 3 82 119 4 3 82 119 4 3 82 119 4 3 82 119 4 3 82 119 4 3 82 119 4 3 82 119 4 3 82 119 4 3 82 119 4 3 82 119 4 3 82 119 4 3 82 119 4 3 82 119 4 3 82 119 4 3 82 119 4 3 82 119 4 3 82 119 4 3 82 119 4 3 82 119 4 3 82 119 4 3 82 119 4 3 82 119 4 3 82 119 4 3 82 119 4 3 82 119 4 3 82 119 4 3 82 119 4 3 82 119 4 3 82 119 4 3 82 119 4 3 82 119 4 3 82 119 4 3 82 119 4 3 82 119 4 3 82 119 4 3 82 119 4 3 82 119 4 3 82 119 4 3 82 119 4 3 82 119 4 3 82 119 4 3 82 119 4 3 82 119 4 3 82 119 4 3 82 119 4 3 82 119 4 3 82 119 4 3 82 119 4 3 82 119 4 3 82 119 4 3 82 119 4 3 82 119 4 3 82 119 4 3 82 119 4 3 82 119 4 3 82 119 4 3 82 119 4 3 82 119 4 3 82 119 4 3 82 119 4 3 82 119 4 3 82 119 4 3 82 119 4 3 82 119 4 3 82 119 4 3 82 119 4 3 82 119 4 3 82 119 4 3 82 119 4 3 82 119 4 3 82 119 4 3 82 119 4 3 82 119 4 3 82 119 4 3 82 119 4 3 82 119 4 3 82 119 4 3 82 119 4 3 82 119 4 3 82 119 4 3 82 119 4 3 82 119 4 3 82 119 4 3 82 119 4 3 82 119 4 3 82 119 4 3 82 119 4 3 82 119 4 3 82 119 4 3 82 119 4 3 82 119 4 3 82 119 4 3 82 119 4 3 82 119 4 3 82 119 4 3 82 119 4 3 82 119 4 3 82 119 4 3 82 119 4 3 82 119 4 3 82 119 4 3 82 119 4 3 82 119 4 3 82 119 4 3 82 119 4 3 82 119 4 3 82 119 4 3 82 119 4 3 82 119 4 3 82 119 4 3 82 119 4 3 82 119 4 3 82 119 4 3 82 119 4 3 82 119 4 3 82 119 4 3 82 119 4 3 82 119 4 3 82 119 4 3 82 119 4 3 82 119 4 3 82 119 4 3 82 119 4 3 82 119 4 3 82 119 4 3 82 119 4 3 82 119 4 3 82 119 4 3 82 119 4 3 82 119 4 3 82 119 4 3 82 119 4 3 82 119 4 3 82 119 4 3 82 119 4 3 82 119 4 3 82 119 4 3 82 119 4 3 82 119 4 3 82 119 4 3 82 119 4 3 82 119 4 3 82 119 4 3 82 119 4 3 82 119 4 3 82 119 4 3 82 119 4 3 82 119 4 3 82 119 4 3 82 119 4 3 82 119 4 3 82 119 4 3 82 119 4 3 82 119 4 3 82 119 4 3 82 119 4 3 82 119 4 3 82 119 4 3 82 119 4 3 82 119 4 3 82 119 4 3 82 119 4 3 82 119 4 3 82 119 4 3 82 119 4 3 82 119 4 3 82 119 4 3 82 119 4 3 82 119 4 3 82 119 4 3 82 119 4 3 82 119 4 3 82 119 4 3 82 119 4 3 82 119 4 3 82 119 4 3 82 119 4 3 82 119 4 3 82 119 4 3 82 119 4 3 82 119 4 3 82 119 4 3 82 119 4 3 82 119 4 3 82 119 4 3 82 119 4 3 3 3 3 4 3 3 3 4 3 4 119 4 3 3 3 3 78 4 3 3 3 78 78 4 3 3 4 3 3 78 78 54 78 78 104 82 54 3 54 78 54 78 78 82 119 4 3 78 82 119 4 3 78 82 54 3 78 54 78 78 82 119 4 3 78 82 54 3 78 54 78 78 82 119 4 3 78 82 119 54 3 54 78 54 78 78 82 4 3 78 82 119 4 3 78 82 119 4 3 78 82 54 3 54 78 54 78 78 82 119 4 3 78 82 119 4 3 78 82 54 3 78 54 78 78 82 119 54 3 78 54 78 78 82 4 3 78 82 119 4 3 78 82 119 4 3 78 82 119 54 3 54 78 54 78 78 82 4 3 78 82 119 4 3 78 82 119 4 3 78 82 54 3 78 54 78 78 82 119 4 3 78 82 119 4 3 78 82 119 54 3 54 78 54 78 78 82 4 3 78 82 119 4 3 78 82 119 4 3 78 82 119 54 3 78 54 78 78 82 4 3 78 82 119 4 3 78 82 54 3 54 78 54 78 78 82 119 4 3 78 82 119 4 3 78 82 54 3 54 78 54 78 78 82 119 4 3 78 82 119 4 3 78 82 54 3 78 54 78 78 82 119 4 3 78 82 54 3 78 54 78 78 82 119 4 3 78 82 119 4 3 78 82 119 4 3 78 82 54 3 4 119 4 3 4 4 3 163 119 6 1', 1903: '5 90 6 125 125 24 49 47 50 106 5 90 6 5 5 3 90 90 90 90 6 6 125 5 5 3 90 90 90 90 6 6 125 5 5 3 90 90 90 6 6 125 5 5 5 3 90 90 90 6 6 125 5 5 5 3 90 90 90 90 6 6 125 5 5 3 90 90 90 90 6 6 125 91 125 125 125 125 125 125 125 125 136 45 13 45 45 45 45 45 45 5 106 45 3 6 45 45 45 5 108 45 3 3 3 6 5 108 3 3 3 6 5 108 3 19 6 33 5 108 3 3 6 45 45 5 151 164 5 45 108 3 3 6 5 108 3 19 6 153 156 157 122 55 33 5 108 3 3 6 4 55 3 3 4 3 3 5 106 3 6 24 5 108 45 3 19 6 24 5 108 3 19 6 5 108 3 19 6 49 4 3 3 3 3 4 3 4 3 3 4 3 4 3 4 3 4 3 4 3 4 3 4 3 4 3 4 3 4 3 4 3 4 3 4 3 4 3 4 3 4 3 4 3 4 3 4 3 4 3 4 3 4 3 4 3 4 3 4 3 4 3 4 3 4 3 4 3 4 3 4 3 4 3 4 3 4 3 106 5 108 45 3 19 3 6 4 3 4 3 4 3 4 3 4 3 3 4 3 4 3 3 4 3 4 3 4 3 4 3 4 3 4 3 4 3 4 3 4 3 4 3 4 3 4 3 4 3 4 3 4 3 4 3 4 3 4 3 4 3 4 3 4 3 4 3 4 3 4 3 4 3 4 3 4 3 4 3 4 3 4 3 4 3 4 3 4 3 4 3 4 3 4 3 4 3 4 3 4 3 4 3 4 3 4 3 4 3 4 3 4 3 4 3 4 3 4 3 4 3 4 3 4 3 4 3 4 3 4 3 4 3 4 3 4 3 4 3 4 3 4 3 4 3 4 3 4 3 4 3 4 3 4 3 3 4 3 4 3 67 34 126 67 67 67 67 4 3 3 126 4 3 3 3 4 54 78 104 82 119 4 3 82 119 4 3 82 119 4 3 82 119 4 3 82 119 4 3 82 119 4 3 82 119 4 3 82 119 4 3 82 119 4 3 82 119 4 3 82 119 4 3 82 119 4 3 82 119 4 3 82 119 4 3 82 119 4 3 82 119 4 3 82 119 4 3 82 119 4 3 82 119 4 3 82 119 4 3 82 119 4 3 82 119 4 3 82 119 4 3 82 119 4 3 82 119 4 3 82 119 4 3 82 119 4 3 82 119 4 3 82 119 4 3 82 119 4 3 82 119 4 3 82 119 4 3 82 119 4 3 82 119 4 3 82 119 4 3 82 119 4 3 82 119 4 3 82 119 4 3 82 119 4 3 82 119 4 3 82 119 4 3 82 119 4 3 82 119 4 3 82 119 4 3 82 119 4 3 82 119 4 3 82 119 4 3 82 119 4 3 82 119 4 3 82 119 4 3 82 119 4 3 82 119 4 3 82 119 4 3 82 119 4 3 82 119 4 3 82 119 4 3 82 119 4 3 82 119 4 3 82 119 4 3 82 119 4 3 82 119 4 3 82 119 4 3 82 119 4 3 82 119 4 3 82 119 4 3 82 119 4 3 82 119 4 3 82 119 4 3 82 119 4 3 82 119 4 3 82 119 4 3 82 119 4 3 82 119 4 3 82 119 4 3 82 119 4 3 82 119 4 3 82 119 4 3 82 119 4 3 82 119 4 3 82 119 4 3 82 119 4 3 82 119 4 3 82 119 4 3 82 119 4 3 82 119 4 3 82 119 4 3 82 119 4 3 82 119 4 3 82 119 4 3 82 119 4 3 82 119 4 3 82 119 4 3 82 119 4 3 82 119 4 3 82 119 4 3 82 119 4 3 82 119 4 3 82 119 4 3 82 119 4 3 82 119 4 3 82 119 4 3 82 119 4 3 82 119 4 3 82 119 4 3 82 119 4 3 82 119 4 3 82 119 4 3 82 119 4 3 82 119 4 3 82 119 4 3 82 119 4 3 82 119 4 3 82 119 4 3 82 119 4 3 82 119 4 3 82 119 4 3 82 119 4 3 82 119 4 3 82 119 4 3 82 119 4 3 82 119 4 3 82 119 4 3 82 119 4 3 82 119 4 3 82 119 4 3 82 119 4 3 82 119 4 3 82 119 4 3 82 119 4 3 82 119 4 3 82 119 4 3 82 119 4 3 82 119 4 3 82 119 4 3 82 119 4 3 82 119 4 3 82 119 4 3 82 119 4 3 82 119 4 3 82 119 4 3 82 119 4 3 82 119 4 3 82 119 4 3 82 119 4 3 82 119 4 3 82 119 4 3 82 119 4 3 82 119 4 3 82 119 4 3 82 119 4 3 82 119 4 3 82 119 4 3 82 119 4 3 82 119 4 3 82 119 4 3 82 119 4 3 82 119 4 3 82 119 4 3 82 119 4 3 82 119 4 3 82 119 4 3 82 119 4 3 82 119 4 3 82 119 4 3 82 119 4 3 82 119 4 3 82 119 4 3 82 119 4 3 82 119 4 3 82 119 4 3 82 119 4 3 82 119 4 3 82 119 4 3 82 119 4 3 82 119 4 3 82 119 4 3 82 119 4 3 82 119 4 3 82 119 4 3 82 119 4 3 82 119 4 3 82 119 4 3 82 119 4 3 82 119 4 3 82 119 4 3 82 119 4 3 82 119 4 3 82 119 4 3 82 119 4 3 82 119 4 3 82 119 4 3 82 119 4 3 82 119 4 3 82 119 4 3 82 119 4 3 82 119 4 3 82 119 4 3 82 119 4 3 82 119 4 3 82 119 4 3 82 119 4 3 82 119 4 3 82 119 4 3 82 119 4 3 82 119 4 3 82 119 4 119 3 82 4 3 82 119 4 3 82 119 4 3 82 119 4 3 82 119 4 3 82 119 4 3 82 119 4 3 82 119 4 3 82 119 4 3 82 119 4 3 82 119 4 3 82 119 4 3 82 119 4 3 82 119 4 3 82 119 4 3 82 119 4 3 82 119 4 3 82 119 4 3 82 119 4 3 82 119 4 3 82 119 4 3 82 119 4 3 82 119 4 3 82 119 4 3 82 119 4 3 82 119 4 3 82 119 4 3 82 119 4 3 82 119 4 3 82 119 4 3 82 119 4 3 82 119 4 3 82 119 4 3 82 119 4 3 82 119 4 3 82 119 4 3 82 119 4 3 82 119 4 3 82 119 4 3 82 119 4 3 82 119 4 3 82 119 4 3 82 119 4 3 82 119 4 3 82 119 4 3 82 119 4 3 82 119 4 3 82 119 4 3 82 119 4 3 82 119 4 3 82 119 4 3 82 119 4 3 82 119 4 3 82 119 4 3 82 119 4 3 82 119 4 3 82 119 4 3 82 119 4 3 82 119 4 3 82 119 4 3 82 119 4 3 82 119 4 3 82 119 4 3 82 119 4 3 82 119 4 3 82 119 4 3 82 119 4 3 82 119 4 3 82 119 4 3 82 119 4 3 82 119 4 3 82 119 4 3 82 119 4 3 82 119 4 3 82 119 4 3 82 119 4 3 82 119 4 3 82 119 4 3 82 119 4 3 82 119 4 3 82 119 4 3 82 119 4 3 82 119 4 3 82 119 4 3 82 119 4 3 82 119 4 3 82 119 4 3 82 119 4 3 82 119 4 3 82 119 4 3 82 119 4 3 82 119 4 3 82 119 4 3 82 119 4 3 82 119 4 3 82 119 4 3 82 119 4 3 82 119 4 3 82 119 4 3 82 119 4 3 82 119 4 3 82 119 4 3 82 119 4 3 82 119 4 3 82 119 4 3 82 119 4 3 82 119 4 3 82 119 4 3 82 119 4 3 82 119 4 3 82 119 4 3 82 119 4 3 82 119 4 3 82 119 4 3 82 119 4 3 82 119 4 3 82 119 4 3 82 119 4 3 82 119 4 3 82 119 4 3 82 119 4 3 82 119 4 3 82 119 4 3 82 54 3 4 3 3 3 4 3 4 4 119 3 3 3 3 78 4 3 3 3 78 78 54 78 78 104 82 119 4 3 78 82 119 4 3 78 82 119 4 3 78 82 54 3 78 54 78 78 82 119 4 3 78 82 119 4 3 78 82 119 4 3 78 82 119 4 3 78 82 54 3 4 3 3 4 3 3 54 78 54 78 78 119 82 4 3 78 82 119 4 3 78 82 119 4 3 78 82 54 3 54 78 54 78 78 82 119 4 3 78 82 119 4 3 78 82 119 54 3 78 54 78 78 82 4 3 78 82 119 54 3 78 54 78 78 82 4 3 78 82 119 4 3 78 82 54 3 54 78 54 78 78 82 119 4 3 78 82 119 4 3 78 82 54 3 54 78 54 78 78 82 119 4 3 78 82 119 4 3 78 82 119 54 3 78 54 78 78 82 4 3 78 82 54 3 78 54 78 78 82 119 4 3 78 82 119 4 3 78 82 119 4 3 78 82 54 3 54 78 54 78 78 82 119 4 3 78 82 119 4 3 78 82 119 54 3 78 54 78 78 82 4 3 78 82 119 4 3 78 82 119 4 3 78 82 54 3 54 78 54 78 78 82 119 4 3 78 82 119 4 3 78 82 119 54 3 78 54 78 78 82 4 3 78 82 119 4 3 78 82 119 4 3 78 82 119 4 3 78 82 54 3 54 78 54 78 78 82 54 3 54 78 54 78 78 82 119 4 3 78 82 119 4 3 78 82 119 4 3 78 82 119 4 3 78 82 54 3 78 54 78 78 82 54 3 78 54 78 78 82 119 4 3 78 82 119 4 3 78 82 119 4 3 78 82 119 4 3 78 82 119 54 3 4 119 4 3 4 4 3 163 119 6 1', 1909: '5 90 6 125 125 24 49 47 50 106 5 90 6 5 5 3 90 90 90 90 6 6 125 5 5 3 90 90 90 90 6 6 125 5 5 3 90 90 90 6 6 125 5 5 5 3 90 90 90 6 6 125 5 5 5 3 90 90 90 90 6 6 125 5 5 3 90 90 90 90 6 6 125 91 125 125 125 125 125 125 125 125 136 45 13 45 45 45 45 45 45 5 106 45 3 6 45 45 45 5 108 45 3 3 3 6 5 108 3 3 3 6 5 108 3 19 6 33 5 108 3 3 6 45 45 5 151 164 5 45 108 3 3 6 5 108 3 19 6 153 156 157 122 55 33 5 108 3 3 6 4 55 3 3 4 3 3 5 106 3 6 24 5 108 45 3 19 6 24 5 108 3 19 6 5 108 3 19 6 49 4 3 3 3 3 4 3 4 3 3 4 3 4 3 4 3 4 3 4 3 4 3 4 3 4 3 4 3 4 3 4 3 4 3 4 3 4 3 4 3 4 3 4 3 4 3 4 3 4 3 4 3 4 3 4 3 4 3 4 3 4 3 4 3 4 3 4 3 4 3 4 3 4 3 4 3 4 3 106 5 108 45 3 19 3 6 4 3 4 3 4 3 4 3 4 3 3 4 3 4 3 3 4 3 4 3 4 3 4 3 4 3 4 3 4 3 4 3 4 3 4 3 4 3 4 3 4 3 4 3 4 3 4 3 4 3 4 3 4 3 4 3 4 3 4 3 4 3 4 3 4 3 4 3 4 3 4 3 4 3 4 3 4 3 4 3 4 3 4 3 4 3 4 3 4 3 4 3 4 3 4 3 4 3 4 3 4 3 4 3 4 3 4 3 4 3 4 3 4 3 4 3 4 3 4 3 4 3 4 3 4 3 4 3 4 3 4 3 4 3 4 3 4 3 4 3 4 3 4 3 4 3 4 3 3 4 3 4 3 67 34 126 67 67 67 67 4 3 3 126 4 3 3 3 4 54 78 104 82 119 4 3 82 119 4 3 82 119 4 3 82 119 4 3 82 119 4 3 82 119 4 3 82 119 4 3 82 119 4 3 82 119 4 3 82 119 4 3 82 119 4 3 82 119 4 3 82 119 4 3 82 119 4 3 82 119 4 3 82 119 4 3 82 119 4 3 82 119 4 3 82 119 4 3 82 119 4 3 82 119 4 3 82 119 4 3 82 119 4 3 82 119 4 3 82 119 4 3 82 119 4 3 82 119 4 3 82 119 4 3 82 119 4 3 82 119 4 3 82 119 4 3 82 119 4 3 82 119 4 3 82 119 4 3 82 119 4 3 82 119 4 3 82 119 4 3 82 119 4 3 82 119 4 3 82 119 4 3 82 119 4 3 82 119 4 3 82 119 4 3 82 119 4 3 82 119 4 3 82 119 4 3 82 119 4 3 82 119 4 3 82 119 4 3 82 119 4 3 82 119 4 3 82 119 4 3 82 119 4 3 82 119 4 3 82 119 4 3 82 119 4 3 82 119 4 3 82 119 4 3 82 119 4 3 82 119 4 3 82 119 4 3 82 119 4 3 82 119 4 3 82 119 4 3 82 119 4 3 82 119 4 3 82 119 4 3 82 119 4 3 82 119 4 3 82 119 4 3 82 119 4 3 82 119 4 3 82 119 4 3 82 119 4 3 82 119 4 3 82 119 4 3 82 119 4 3 82 119 4 3 82 119 4 3 82 119 4 3 82 119 4 3 82 119 4 3 82 119 4 3 82 119 4 3 82 119 4 3 82 119 4 3 82 119 4 3 82 119 4 3 82 119 4 3 82 119 4 3 82 119 4 3 82 119 4 3 82 119 4 3 82 119 4 3 82 119 4 3 82 119 4 3 82 119 4 3 82 119 4 3 82 119 4 3 82 119 4 3 82 119 4 3 82 119 4 3 82 119 4 3 82 119 4 3 82 119 4 3 82 119 4 3 82 119 4 3 82 119 4 3 82 119 4 3 82 119 4 3 82 119 4 3 82 119 4 3 82 119 4 3 82 119 4 3 82 119 4 3 82 119 4 3 82 119 4 3 82 119 4 3 82 119 4 3 82 119 4 3 82 119 4 3 82 119 4 3 82 119 4 3 82 119 4 3 82 119 4 3 82 119 4 3 82 119 4 3 82 119 4 3 82 119 4 3 82 119 4 3 82 119 4 3 82 119 4 3 82 119 4 3 82 119 4 3 82 119 4 3 82 119 4 3 82 119 4 3 82 119 4 3 82 119 4 3 82 119 4 3 82 119 4 3 82 119 4 3 82 119 4 3 82 119 4 3 82 119 4 3 82 119 4 3 82 119 4 3 82 119 4 3 82 119 4 3 82 119 4 3 82 119 4 3 82 119 4 3 82 119 4 3 82 119 4 3 82 119 4 3 82 119 4 3 82 119 4 3 82 119 4 3 82 119 4 3 82 119 4 3 82 119 4 3 82 119 4 3 82 119 4 3 82 119 4 3 82 119 4 3 82 119 4 3 82 119 4 3 82 119 4 3 82 119 4 3 82 119 4 3 82 119 4 3 82 119 4 3 82 119 4 3 82 119 4 3 82 119 4 3 82 119 4 3 82 119 4 3 82 119 4 3 82 119 4 3 82 119 4 3 82 119 4 3 82 119 4 3 82 119 4 3 82 119 4 3 82 119 4 3 82 119 4 3 82 119 4 3 82 119 4 3 82 119 4 3 82 119 4 3 82 119 4 3 82 119 4 3 82 119 4 3 82 119 4 3 82 119 4 3 82 119 4 3 82 119 4 3 82 119 4 3 82 119 4 3 82 119 4 3 82 119 4 3 82 119 4 3 82 119 4 3 82 119 4 3 82 119 4 3 82 119 4 3 82 119 4 3 82 119 4 3 82 119 4 3 82 119 4 3 82 119 4 3 82 119 4 3 82 119 4 3 82 119 4 3 82 119 4 3 82 119 4 3 82 119 4 3 82 119 4 3 82 119 4 3 82 119 4 3 82 119 4 3 82 119 4 3 82 119 4 3 82 119 4 3 82 119 4 3 82 119 4 3 82 119 4 3 82 119 4 3 82 119 4 3 82 119 4 3 82 119 4 3 82 119 4 3 82 119 4 3 82 119 4 3 82 119 4 3 82 119 4 3 82 119 4 3 82 119 4 3 82 119 4 3 82 119 4 3 82 119 4 3 82 119 4 3 82 119 4 3 82 119 4 3 82 119 4 3 82 119 4 3 82 119 4 3 82 119 4 3 82 119 4 3 82 119 4 3 82 119 4 3 82 119 4 3 82 119 4 3 82 119 4 3 82 119 4 3 82 119 4 3 82 119 4 3 82 119 4 3 82 119 4 3 82 119 4 3 82 119 4 3 82 119 4 3 82 119 4 3 82 119 4 3 82 119 4 3 82 119 4 3 82 119 4 3 82 119 4 3 82 119 4 3 82 119 4 3 82 119 4 3 82 119 4 3 82 119 4 3 82 119 4 3 82 119 4 3 82 119 4 3 82 119 4 3 82 119 4 3 82 119 4 3 82 119 4 3 82 119 4 3 82 119 4 3 82 119 4 3 82 119 4 3 82 119 4 3 82 119 4 3 82 119 4 3 82 119 4 3 82 54 3 4 3 3 3 4 3 4 4 119 3 3 3 3 78 4 3 3 3 78 78 54 78 78 104 82 119 4 3 78 82 119 4 3 78 82 54 3 78 54 78 78 82 119 4 3 78 82 119 4 3 78 82 119 4 3 78 82 119 54 3 4 3 3 4 3 3 54 78 54 78 78 82 4 3 78 82 119 4 3 78 82 119 4 3 78 82 54 3 54 78 54 78 78 82 119 4 3 78 82 119 4 3 78 82 119 4 3 78 82 119 4 3 78 82 54 3 78 54 78 78 82 54 3 78 54 78 78 82 119 4 3 78 82 119 4 3 78 82 119 54 3 54 78 54 78 78 82 4 3 78 82 119 4 3 78 82 119 4 3 78 82 54 3 54 78 54 78 78 82 119 4 3 78 82 119 4 3 78 82 54 3 78 54 78 78 82 119 4 3 78 82 54 3 78 54 78 78 82 119 4 3 78 82 119 4 3 78 82 119 4 3 78 82 54 3 54 78 54 78 78 82 119 4 3 78 82 119 4 3 78 82 119 54 3 78 54 78 78 82 4 3 78 82 119 4 3 78 82 119 4 3 78 82 54 3 54 78 54 78 78 82 119 4 3 78 82 119 4 3 78 82 119 54 3 78 54 78 78 82 4 3 78 82 119 4 3 78 82 119 4 3 78 82 54 3 54 78 54 78 78 82 119 4 3 78 82 119 4 3 78 82 54 3 54 78 54 78 78 82 119 4 3 78 82 119 4 3 78 82 119 54 3 78 54 78 78 82 4 3 78 82 119 54 3 78 54 78 78 82 4 3 78 82 119 4 3 78 82 119 4 3 78 82 119 4 3 78 82 54 3 4 119 4 3 4 4 3 163 119 6 1', 1915: '5 90 6 125 125 24 49 47 50 106 5 90 6 5 5 3 90 90 90 90 6 6 125 5 5 3 90 90 90 90 6 6 125 5 5 3 90 90 90 6 6 125 5 5 5 3 90 90 90 6 6 125 5 5 5 3 90 90 90 90 6 6 125 5 5 3 90 90 90 90 6 6 125 91 125 125 125 125 125 125 125 125 136 45 13 45 45 45 45 45 45 5 106 45 3 6 45 45 45 5 108 45 3 3 3 6 5 108 3 3 3 6 5 108 3 19 6 33 5 108 3 3 6 45 45 5 151 164 5 45 108 3 3 6 5 108 3 19 6 153 156 157 122 55 33 5 108 3 3 6 4 55 3 3 4 3 3 5 106 3 6 24 5 108 45 3 19 6 24 5 108 3 19 6 5 108 3 19 6 49 4 3 3 3 3 4 3 4 3 3 4 3 4 3 4 3 4 3 4 3 4 3 4 3 4 3 4 3 4 3 4 3 4 3 4 3 4 3 4 3 4 3 4 3 4 3 4 3 4 3 4 3 4 3 4 3 4 3 4 3 4 3 4 3 4 3 4 3 4 3 4 3 4 3 4 3 4 3 106 5 108 45 3 19 3 6 4 3 4 3 4 3 4 3 4 3 3 4 3 4 3 3 4 3 4 3 4 3 4 3 4 3 4 3 4 3 4 3 4 3 4 3 4 3 4 3 4 3 4 3 4 3 4 3 4 3 4 3 4 3 4 3 4 3 4 3 4 3 4 3 4 3 4 3 4 3 4 3 4 3 4 3 4 3 4 3 4 3 4 3 4 3 4 3 4 3 4 3 4 3 4 3 4 3 4 3 4 3 4 3 4 3 4 3 4 3 4 3 4 3 4 3 4 3 4 3 4 3 4 3 4 3 4 3 4 3 4 3 4 3 4 3 4 3 4 3 4 3 4 3 4 3 4 3 3 4 3 4 3 67 34 126 67 67 67 67 4 3 3 126 4 3 3 3 4 54 78 104 82 119 4 3 82 119 4 3 82 119 4 3 82 119 4 3 82 119 4 3 82 119 4 3 82 119 4 3 82 119 4 3 82 119 4 3 82 119 4 3 82 119 4 3 82 119 4 3 82 119 4 3 82 119 4 3 82 119 4 3 82 119 4 3 82 119 4 3 82 119 4 3 82 119 4 3 82 119 4 3 82 119 4 3 82 119 4 3 82 119 4 3 82 119 4 3 82 119 4 3 82 119 4 3 82 119 4 3 82 119 4 3 82 119 4 3 82 119 4 3 82 119 4 3 82 119 4 3 82 119 4 3 82 119 4 3 82 119 4 3 82 119 4 3 82 119 4 3 82 119 4 3 82 119 4 3 82 119 4 3 82 119 4 3 82 119 4 3 82 119 4 3 82 119 4 3 82 119 4 3 82 119 4 3 82 119 4 3 82 119 4 3 82 119 4 3 82 119 4 3 82 119 4 3 82 119 4 3 82 119 4 3 82 119 4 3 82 119 4 3 82 119 4 3 82 119 4 3 82 119 4 3 82 119 4 3 82 119 4 3 82 119 4 3 82 119 4 3 82 119 4 3 82 119 4 3 82 119 4 3 82 119 4 3 82 119 4 3 82 119 4 3 82 119 4 3 82 119 4 3 82 119 4 3 82 119 4 3 82 119 4 3 82 119 4 3 82 119 4 3 82 119 4 3 82 119 4 3 82 119 4 3 82 119 4 3 82 119 4 3 82 119 4 3 82 119 4 3 82 119 4 3 82 119 4 3 82 119 4 3 82 119 4 3 82 119 4 3 82 119 4 3 82 119 4 3 82 119 4 3 82 119 4 3 82 119 4 3 82 119 4 3 82 119 4 3 82 119 4 3 82 119 4 3 82 119 4 3 82 119 4 3 82 119 4 3 82 119 4 3 82 119 4 3 82 119 4 3 82 119 4 3 82 119 4 3 82 119 4 3 82 119 4 3 82 119 4 3 82 119 4 3 82 119 4 3 82 119 4 3 82 119 4 3 82 119 4 3 82 119 4 3 82 119 4 3 82 119 4 3 82 119 4 3 82 119 4 3 82 119 4 3 82 119 4 3 82 119 4 3 82 119 4 3 82 119 4 3 82 119 4 3 82 119 4 3 82 119 4 3 82 119 4 3 82 119 4 3 82 119 4 3 82 119 4 3 82 119 4 3 82 119 4 3 82 119 4 3 82 119 4 3 82 119 4 3 82 119 4 3 82 119 4 3 82 119 4 3 82 119 4 3 82 119 4 3 82 119 4 3 82 119 4 3 82 119 4 3 82 119 4 3 82 119 4 3 82 119 4 3 82 119 4 3 82 119 4 3 82 119 4 3 82 119 4 3 82 119 4 3 82 119 4 3 82 119 4 3 82 119 4 3 82 119 4 3 82 119 4 3 82 119 4 3 82 119 4 3 82 119 4 3 82 119 4 3 82 119 4 3 82 119 4 3 82 119 4 3 82 119 4 3 82 119 4 3 82 119 4 3 82 119 4 3 82 119 4 3 82 119 4 3 82 119 4 3 82 119 4 3 82 119 4 3 82 119 4 3 82 119 4 3 82 119 4 3 82 119 4 3 82 119 4 3 82 119 4 3 82 119 4 3 82 119 4 3 82 119 4 3 82 119 4 3 82 119 4 3 82 119 4 3 82 119 4 3 82 119 4 3 82 119 4 3 82 119 4 3 82 119 4 3 82 119 4 3 82 119 4 3 82 119 4 3 82 119 4 3 82 119 4 3 82 119 4 3 82 119 4 3 82 119 4 3 82 119 4 3 82 119 4 3 82 119 4 3 82 119 4 3 82 119 4 3 82 119 4 3 82 119 4 3 82 119 4 3 82 119 4 3 82 119 4 3 82 119 4 3 82 119 4 3 82 119 4 3 82 119 4 3 82 119 4 3 82 119 4 3 82 119 4 3 82 119 4 3 82 119 4 3 82 119 4 3 82 119 4 3 82 119 4 3 82 119 4 3 82 119 4 3 82 119 4 3 82 119 4 3 82 119 4 3 82 119 4 3 82 119 4 3 82 119 4 3 82 119 4 3 82 119 4 3 82 119 4 3 82 119 4 3 82 119 4 3 82 119 4 3 82 119 4 3 82 119 4 3 82 119 4 3 82 119 4 3 82 119 4 3 82 119 4 3 82 119 4 3 82 119 4 3 82 119 4 3 82 119 4 3 82 119 4 3 82 119 4 3 82 119 4 3 82 119 4 3 82 119 4 3 82 119 4 3 82 119 4 3 82 119 4 3 82 119 4 3 82 119 4 3 82 119 4 3 82 119 4 3 82 119 4 3 82 119 4 3 82 119 4 3 82 119 4 3 82 119 4 3 82 119 4 3 82 119 4 3 82 119 4 3 82 119 4 3 82 119 4 3 82 119 4 3 82 119 4 3 82 119 4 3 82 119 4 3 82 119 4 3 82 119 4 3 82 119 4 3 82 119 4 3 82 119 4 3 82 119 4 3 82 119 4 3 82 119 4 3 82 119 4 3 82 119 4 3 82 119 4 3 82 119 4 3 82 119 4 3 82 119 4 3 82 119 4 3 82 119 4 3 82 119 4 3 82 119 4 3 82 119 4 3 82 119 4 3 82 119 4 3 82 119 4 3 82 119 4 3 82 119 4 3 82 119 4 3 82 119 4 3 82 119 4 3 82 119 4 3 82 119 4 3 82 119 4 3 82 119 4 3 82 119 4 3 82 119 4 3 82 119 4 3 82 119 4 3 82 119 4 3 82 119 4 3 82 119 4 3 82 119 4 3 82 119 4 3 82 119 4 3 82 119 4 3 82 119 4 3 82 119 4 3 82 119 4 3 82 119 4 3 82 119 4 3 82 119 4 3 82 119 4 3 82 119 4 3 82 119 4 3 82 119 4 3 82 119 4 3 82 119 4 3 82 119 4 3 82 119 4 3 82 119 4 3 82 119 4 3 82 119 4 3 82 119 4 3 82 119 4 3 82 119 4 3 82 119 4 3 82 119 4 3 82 119 4 3 82 119 4 3 82 119 4 3 82 119 4 3 82 119 4 3 82 119 4 3 82 119 4 3 82 119 4 3 82 119 4 3 82 119 4 3 82 119 4 3 82 119 4 3 82 119 4 3 82 119 4 3 82 119 4 3 82 54 3 4 3 3 3 4 3 4 4 119 3 3 3 3 78 4 3 3 3 78 78 54 78 78 104 82 119 4 3 78 82 119 4 3 78 82 54 3 78 54 78 78 82 119 4 3 78 82 119 4 3 78 82 119 4 3 78 82 119 4 3 78 82 119 4 3 78 82 119 4 3 78 82 119 4 3 78 82 119 4 3 78 82 119 4 3 78 82 119 4 3 78 82 119 4 3 78 82 54 3 4 3 3 4 3 3 54 78 54 78 78 82 119 4 3 78 82 119 4 3 78 82 119 54 3 54 78 54 78 78 82 4 3 78 82 119 4 3 78 82 119 4 3 78 82 119 4 3 78 82 119 54 3 78 54 78 78 82 4 3 78 82 119 54 3 78 54 78 78 82 4 3 78 82 119 4 3 78 82 119 4 3 78 82 119 54 3 54 78 54 78 78 82 4 3 78 82 119 4 3 78 82 119 4 3 78 82 54 3 54 78 54 78 78 82 119 4 3 78 82 119 4 3 78 82 54 3 78 54 78 78 82 119 4 3 78 82 54 3 78 54 78 78 82 119 4 3 78 82 119 4 3 78 82 119 4 3 78 82 54 3 54 78 54 78 78 82 119 4 3 78 82 119 4 3 78 82 119 4 3 78 82 54 3 78 54 78 78 82 119 4 3 78 82 119 4 3 78 82 119 4 3 78 82 54 3 54 78 54 78 78 82 119 4 3 78 82 119 4 3 78 82 119 54 3 78 54 78 78 82 4 3 78 82 119 4 3 78 82 119 4 3 78 82 119 4 3 78 82 54 3 54 78 54 78 78 82 119 4 3 78 82 119 4 3 78 82 119 4 3 78 82 119 4 3 78 82 119 4 3 78 82 54 3 78 54 78 54 78 78 82 119 4 3 78 82 119 4 3 78 82 54 3 78 54 78 78 82 119 4 3 78 82 119 4 3 78 82 119 4 3 78 82 119 4 3 78 82 54 3 4 119 4 3 119 3 4 4 3 163 119 6 1', 1921: '5 90 6 125 125 24 49 47 50 106 5 90 6 5 5 3 90 90 90 90 6 6 125 5 5 3 90 90 90 90 6 6 125 5 5 3 90 90 90 6 6 125 5 5 5 3 90 90 90 6 6 125 5 5 5 3 90 90 90 90 6 6 125 5 5 3 90 90 90 90 6 6 125 91 125 125 125 125 125 125 125 125 136 45 13 45 45 45 45 45 45 5 106 45 3 6 45 45 45 5 108 45 3 3 3 6 5 108 3 3 3 6 5 108 3 19 6 33 5 108 3 3 6 45 45 5 151 164 5 45 108 3 3 6 5 108 3 19 6 153 156 157 122 55 33 5 108 3 3 6 4 55 3 3 4 3 3 5 106 3 6 24 5 108 45 3 19 6 24 5 108 3 19 6 5 108 3 19 6 49 4 3 3 3 3 4 3 4 3 3 4 3 4 3 4 3 4 3 4 3 4 3 4 3 4 3 4 3 4 3 4 3 4 3 4 3 4 3 4 3 4 3 4 3 4 3 4 3 4 3 4 3 4 3 4 3 4 3 4 3 4 3 4 3 4 3 4 3 4 3 4 3 4 3 4 3 4 3 106 5 108 45 3 19 3 6 4 3 4 3 4 3 4 3 4 3 3 4 3 4 3 3 4 3 4 3 4 3 4 3 4 3 4 3 4 3 4 3 4 3 4 3 4 3 4 3 4 3 4 3 4 3 4 3 4 3 4 3 4 3 4 3 4 3 4 3 4 3 4 3 4 3 4 3 4 3 4 3 4 3 4 3 4 3 4 3 4 3 4 3 4 3 4 3 4 3 4 3 4 3 4 3 4 3 4 3 4 3 4 3 4 3 4 3 4 3 4 3 4 3 4 3 4 3 4 3 4 3 4 3 4 3 4 3 4 3 4 3 4 3 4 3 4 3 4 3 4 3 4 3 4 3 4 3 3 4 3 4 3 67 34 126 67 67 67 67 4 3 3 126 4 54 78 104 82 119 4 3 82 54 3 4 3 3 3 4 3 4 78 4 3 3 3 3 78 78 54 78 78 104 82 54 3 78 54 78 78 82 119 4 3 78 82 119 4 3 78 78 4 3 4 54 3 54 78 104 82 119 4 3 82 54 3 4 3 3 3 4 3 4 78 4 3 3 3 3 78 78 54 78 78 104 82 54 3 78 54 78 78 82 54 3 4 3 3 4 3 3 54 78 54 78 78 82 54 3 54 78 54 78 78 82 54 3 78 54 78 78 82 54 3 78 54 78 78 82 54 3 54 78 54 78 78 82 54 3 54 78 54 78 78 82 54 3 78 54 78 78 82 54 3 78 54 78 78 82 54 3 54 78 54 78 78 82 54 3 78 54 78 78 82 54 3 54 78 54 78 78 82 54 3 78 54 78 78 82 54 3 54 78 54 78 78 82 54 3 54 78 54 78 78 82 54 3 78 54 78 78 82 54 3 78 54 78 78 82 54 3 4 4 3 4 4 3 163 6 1', 1929: '5 90 6 125 125 24 49 47 50 106 5 90 6 5 5 3 90 90 90 90 6 6 125 5 5 3 90 90 90 90 6 6 125 5 5 3 90 90 90 6 6 125 5 5 5 3 90 90 90 6 6 125 5 5 5 3 90 90 90 90 6 6 125 5 5 3 90 90 90 90 6 6 125 91 125 125 125 125 125 125 125 125 136 45 13 45 45 45 45 45 45 5 106 45 3 6 45 45 45 5 108 45 3 3 3 6 5 108 3 3 3 6 5 108 3 19 6 33 5 108 3 3 6 45 45 5 151 164 5 45 108 3 3 6 5 108 3 19 6 153 156 157 122 55 33 5 108 3 3 6 4 55 3 3 4 3 3 5 106 3 6 24 5 108 45 3 19 6 24 5 108 3 19 6 5 108 3 19 6 49 4 3 3 3 3 4 3 4 3 3 4 3 4 3 4 3 4 3 4 3 4 3 4 3 4 3 4 3 4 3 4 3 4 3 4 3 4 3 4 3 4 3 4 3 4 3 4 3 4 3 4 3 4 3 4 3 4 3 4 3 4 3 4 3 4 3 4 3 4 3 4 3 4 3 4 3 4 3 106 5 108 45 3 19 3 6 4 3 4 3 4 3 4 3 4 3 3 4 3 4 3 3 4 3 4 3 4 3 4 3 4 3 4 3 4 3 4 3 4 3 4 3 4 3 4 3 4 3 4 3 4 3 4 3 4 3 4 3 4 3 4 3 4 3 4 3 4 3 4 3 4 3 4 3 4 3 4 3 4 3 4 3 4 3 4 3 4 3 4 3 4 3 4 3 4 3 4 3 4 3 4 3 4 3 4 3 4 3 4 3 4 3 4 3 4 3 4 3 4 3 4 3 4 3 4 3 4 3 4 3 4 3 4 3 4 3 4 3 4 3 4 3 4 3 4 3 4 3 4 3 4 3 4 3 3 4 3 4 3 67 34 4 54 78 104 82 54 3 78 4 3 4 4 3 163 6 1', 1935: '5 90 6 125 125 24 49 47 50 106 5 90 6 5 5 3 90 90 90 90 6 6 125 5 5 3 90 90 90 90 6 6 125 5 5 3 90 90 90 6 6 125 5 5 5 3 90 90 90 6 6 125 5 5 5 3 90 90 90 90 6 6 125 5 5 3 90 90 90 90 6 6 125 91 125 125 125 125 125 125 125 125 136 45 13 45 45 45 45 45 45 5 106 45 3 6 45 45 45 5 108 45 3 3 3 6 5 108 3 3 3 6 5 108 3 19 6 33 5 108 3 3 6 45 45 5 151 164 5 45 108 3 3 6 5 108 3 19 6 153 156 157 122 55 33 5 108 3 3 6 4 55 3 3 4 3 3 5 106 3 6 24 5 108 45 3 19 6 24 5 108 3 19 6 5 108 3 19 6 49 4 3 3 3 3 4 3 4 3 3 4 3 4 3 4 3 4 3 4 3 4 3 4 3 4 3 4 3 4 3 4 3 4 3 4 3 4 3 4 3 4 3 4 3 4 3 4 3 4 3 4 3 4 3 4 3 4 3 4 3 4 3 4 3 4 3 4 3 4 3 4 3 4 3 4 3 4 3 106 5 108 45 3 19 3 6 4 3 4 3 4 3 4 3 4 3 3 4 3 4 3 3 4 3 4 3 4 3 4 3 4 3 4 3 4 3 4 3 4 3 4 3 4 3 4 3 4 3 4 3 4 3 4 3 4 3 4 3 4 3 4 3 4 3 4 3 4 3 4 3 4 3 4 3 4 3 4 3 4 3 4 3 4 3 4 3 4 3 4 3 4 3 4 3 4 3 4 3 4 3 4 3 4 3 4 3 4 3 4 3 4 3 4 3 4 3 4 3 4 3 4 3 4 3 4 3 4 3 4 3 4 3 4 3 4 3 4 3 4 3 4 3 4 3 4 3 4 3 4 3 4 3 4 3 3 4 3 4 3 67 34 4 54 78 104 82 119 4 3 82 54 3 78 126 67 67 67 67 4 3 3 126 4 54 78 82 54 3 54 78 82 119 4 3 82 54 3 4 3 3 3 3 3 3 4 3 4 78 4 3 3 3 3 78 4 3 3 4 3 3 78 78 78 78 54 78 78 104 82 54 3 54 78 54 78 78 82 54 3 54 78 54 78 78 82 54 3 78 54 78 78 82 54 3 78 54 78 78 82 54 3 54 78 54 78 78 82 54 3 78 54 78 78 82 54 3 54 78 54 78 78 82 54 3 78 54 78 78 82 54 3 54 78 54 78 78 82 54 3 54 78 54 78 78 82 54 3 78 54 78 78 82 54 3 78 54 78 78 82 54 3 4 4 3 126 67 13 27 72 119 13 67 27 126 78 4 3 3 3 3 3 3 78 78 78 54 78 54 78 78 82 54 3 78 54 78 78 82 54 3 78 54 78 78 82 54 3 54 78 54 78 78 82 54 3 54 78 54 78 78 82 54 3 78 54 78 78 82 54 3 78 54 78 78 82 54 3 54 78 54 78 78 82 54 3 78 54 78 78 82 54 3 54 78 54 78 78 82 54 3 78 54 78 78 82 54 3 54 78 54 78 78 82 54 3 54 78 54 78 78 82 54 3 78 54 78 78 82 54 3 78 54 78 78 82 119 4 3 78 82 54 3 4 4 3 4 4 3 163 6 1', 1941: '5 90 6 125 125 24 49 47 50 106 5 90 6 5 5 3 90 90 90 90 6 6 125 5 5 3 90 90 90 90 6 6 125 5 5 3 90 90 90 6 6 125 5 5 5 3 90 90 90 6 6 125 5 5 5 3 90 90 90 90 6 6 125 5 5 3 90 90 90 90 6 6 125 91 125 125 125 125 125 125 125 125 136 45 13 45 45 45 45 45 45 5 106 45 3 6 45 45 45 5 108 45 3 3 3 6 5 108 3 3 3 6 5 108 3 19 6 33 5 108 3 3 6 45 45 5 151 164 5 45 108 3 3 6 5 108 3 19 6 153 156 157 122 55 33 5 108 3 3 6 4 55 3 3 4 3 3 5 106 3 6 24 5 108 45 3 19 6 24 5 108 3 19 6 5 108 3 19 6 49 4 3 3 3 3 4 3 4 3 3 4 3 4 3 4 3 4 3 4 3 4 3 4 3 4 3 4 3 4 3 4 3 4 3 4 3 4 3 4 3 4 3 4 3 4 3 4 3 4 3 4 3 4 3 4 3 4 3 4 3 4 3 4 3 4 3 4 3 4 3 4 3 4 3 4 3 4 3 106 5 108 45 3 19 3 6 4 3 4 3 4 3 4 3 4 3 3 4 3 4 3 3 4 3 4 3 4 3 4 3 4 3 4 3 4 3 4 3 4 3 4 3 4 3 4 3 4 3 4 3 4 3 4 3 4 3 4 3 4 3 4 3 4 3 4 3 4 3 4 3 4 3 4 3 4 3 4 3 4 3 4 3 4 3 4 3 4 3 4 3 4 3 4 3 4 3 4 3 4 3 4 3 4 3 4 3 4 3 4 3 4 3 4 3 4 3 4 3 4 3 4 3 4 3 4 3 4 3 4 3 4 3 4 3 4 3 4 3 4 3 4 3 4 3 4 3 4 3 4 3 4 3 4 3 3 4 3 4 3 67 34 126 67 67 67 67 4 3 3 126 4 54 78 104 82 119 4 3 82 54 3 4 3 3 3 4 3 4 78 4 3 3 3 78 54 78 78 104 82 54 3 78 54 78 78 82 54 3 4 3 3 4 3 3 54 78 54 78 78 82 54 3 54 78 54 78 78 82 54 3 78 54 78 78 82 54 3 78 54 78 78 82 54 3 54 78 54 78 78 82 54 3 54 78 54 78 78 82 54 3 78 54 78 78 82 54 3 78 54 78 78 82 54 3 54 78 54 78 78 82 54 3 78 54 78 78 82 54 3 54 78 54 78 78 82 54 3 78 54 78 78 82 54 3 54 78 54 78 78 82 54 3 54 78 54 78 78 82 54 3 78 54 78 78 82 54 3 78 54 78 78 82 54 3 4 4 3 4 4 3 163 6 1', 1947: '5 90 6 125 125 24 49 47 50 106 5 90 6 5 5 3 90 90 90 90 6 6 125 5 5 3 90 90 90 90 6 6 125 5 5 3 90 90 90 6 6 125 5 5 5 3 90 90 90 6 6 125 5 5 5 3 90 90 90 90 6 6 125 5 5 3 90 90 90 90 6 6 125 91 125 125 125 125 125 125 125 125 136 45 13 45 45 45 45 45 45 5 106 45 3 6 45 45 45 5 108 45 3 3 3 6 5 108 3 3 3 6 5 108 3 19 6 33 5 108 3 3 6 45 45 5 151 164 5 45 108 3 3 6 5 108 3 19 6 153 156 157 122 55 33 5 108 3 3 6 4 55 3 3 4 3 3 5 106 3 6 24 5 108 45 3 19 6 24 5 108 3 19 6 5 108 3 19 6 49 4 3 3 3 3 4 3 4 3 3 4 3 4 3 4 3 4 3 4 3 4 3 4 3 4 3 4 3 4 3 4 3 4 3 4 3 4 3 4 3 4 3 4 3 4 3 4 3 4 3 4 3 4 3 4 3 4 3 4 3 4 3 4 3 4 3 4 3 4 3 4 3 4 3 4 3 4 3 106 5 108 45 3 19 3 6 4 3 4 3 4 3 4 3 3 4 3 4 3 3 4 3 4 3 4 3 4 3 4 3 4 3 4 3 4 3 4 3 4 3 4 3 4 3 4 3 4 3 4 3 4 3 4 3 4 3 4 3 4 3 4 3 4 3 4 3 4 3 4 3 4 3 4 3 4 3 4 3 4 3 4 3 4 3 4 3 4 3 4 3 4 3 4 3 4 3 4 3 4 3 4 3 4 3 4 3 4 3 4 3 4 3 4 3 4 3 4 3 4 3 4 3 4 3 4 3 4 3 4 3 4 3 4 3 4 3 4 3 4 3 4 3 4 3 4 3 4 3 4 3 4 3 3 4 3 4 3 67 34 126 67 67 67 67 4 3 3 126 4 54 78 104 82 119 4 3 82 54 3 4 3 3 3 4 3 4 78 4 3 3 3 3 78 78 54 78 78 104 82 54 3 78 54 78 78 82 54 3 4 3 3 4 3 3 54 78 54 78 78 82 54 3 54 78 54 78 78 82 54 3 78 54 78 78 82 54 3 78 54 78 78 82 54 3 54 78 54 78 78 82 54 3 54 78 54 78 78 82 54 3 78 54 78 78 82 54 3 78 54 78 78 82 54 3 54 78 54 78 78 82 54 3 78 54 78 78 82 54 3 54 78 54 78 78 82 54 3 78 54 78 78 82 54 3 54 78 54 78 78 82 54 3 54 78 54 78 78 82 54 3 78 54 78 78 82 54 3 78 54 78 78 82 54 3 4 4 3 4 4 3 163 6 1', 1953: '5 90 6 125 125 24 49 47 50 106 5 90 6 5 5 3 90 90 90 90 6 6 125 5 5 3 90 90 90 90 6 6 125 5 5 3 90 90 90 6 6 125 5 5 5 3 90 90 90 6 6 125 5 5 5 3 90 90 90 90 6 6 125 5 5 3 90 90 90 90 6 6 125 91 125 125 125 125 125 125 125 125 136 45 13 45 45 45 45 45 45 5 106 45 3 6 45 45 45 5 108 45 3 3 3 6 5 108 3 3 3 6 5 108 3 19 6 33 5 108 3 3 6 45 45 5 151 164 5 45 108 3 3 6 5 108 3 19 6 153 156 157 122 55 33 5 108 3 3 6 4 55 3 3 4 3 3 5 106 3 6 24 5 108 45 3 19 6 24 5 108 3 19 6 5 108 3 19 6 49 4 3 3 3 3 4 3 4 3 3 4 3 4 3 4 3 4 3 4 3 4 3 4 3 4 3 4 3 4 3 4 3 4 3 4 3 4 3 4 3 4 3 4 3 4 3 4 3 4 3 4 3 4 3 4 3 4 3 4 3 4 3 4 3 4 3 4 3 4 3 4 3 4 3 4 3 4 3 106 5 108 45 3 19 3 6 4 3 4 3 4 3 4 3 3 4 3 4 3 3 4 3 4 3 4 3 4 3 4 3 4 3 4 3 4 3 4 3 4 3 4 3 4 3 4 3 4 3 4 3 4 3 4 3 4 3 4 3 4 3 4 3 4 3 4 3 4 3 4 3 4 3 4 3 4 3 4 3 4 3 4 3 4 3 4 3 4 3 4 3 4 3 4 3 4 3 4 3 4 3 4 3 4 3 4 3 4 3 4 3 4 3 4 3 4 3 4 3 4 3 4 3 4 3 4 3 4 3 4 3 4 3 4 3 4 3 4 3 4 3 4 3 4 3 4 3 4 3 4 3 4 3 3 4 3 4 3 67 34 126 67 67 67 67 4 3 3 126 4 54 78 104 82 54 3 4 3 3 3 4 3 4 78 4 3 3 3 3 78 78 54 78 78 104 82 54 3 78 54 78 78 82 54 3 4 3 3 4 3 3 54 78 54 78 78 82 54 3 54 78 54 78 78 82 54 3 78 54 78 78 82 54 3 78 54 78 78 82 54 3 54 78 54 78 78 82 54 3 54 78 54 78 78 82 54 3 78 54 78 78 82 54 3 78 54 78 78 82 54 3 54 78 54 78 78 82 54 3 78 54 78 78 82 54 3 54 78 54 78 78 82 54 3 78 54 78 78 82 54 3 54 78 54 78 78 82 54 3 54 78 54 78 78 82 54 3 78 54 78 78 82 54 3 78 54 78 78 82 54 3 4 4 3 4 4 3 163 6 1', 1959: '5 90 6 125 125 24 49 47 50 106 5 90 6 5 5 3 90 90 90 90 6 6 125 5 5 3 90 90 90 90 6 6 125 5 5 3 90 90 90 6 6 125 5 5 5 3 90 90 90 6 6 125 5 5 5 3 90 90 90 90 6 6 125 5 5 3 90 90 90 90 6 6 125 91 125 125 125 125 125 125 125 125 136 45 13 45 45 45 45 45 45 5 106 45 3 6 45 45 45 5 108 45 3 3 3 6 5 108 3 3 3 6 5 108 3 19 6 33 5 108 3 3 6 45 45 5 151 164 5 45 108 3 3 6 5 108 3 19 6 153 156 157 122 55 33 5 108 3 3 6 4 55 3 3 4 3 3 5 106 3 6 108 45 54 4 4 4 4 4 4 4 4 4 4 4 4 4 4 4 4 4 4 4 4 4 4 4 4 4 4 4 4 4 4 4 4 4 4 4 4 4 4 4 4 4 4 4 4 4 4 4 4 4 4 4 4 4 4 4 4 4 4 4 4 4 4 4 4 4 4 4 4 4 4 4 4 4 4 4 4 4 4 4 4 4 4 4 4 4 4 4 4 4 4 4 4 4 4 4 4 4 4 4 4 4 4 4 4 4 4 4 4 4 4 4 4 4 4 4 4 4 4 4 4 4 4 4 4 4 4 4 4 4 4 4 4 4 4 4 4 4 4 4 4 4 4 4 4 4 4 4 4 4 4 4 4 4 4 4 4 4 4 4 4 4 4 4 4 4 4 4 4 4 4 4 4 4 4 4 4 4 4 4 4 4 4 4 4 4 4 4 4 4 4 1', 1965: '5 90 6 125 125 24 49 47 50 106 5 90 6 5 5 3 90 90 90 90 6 6 125 5 5 3 90 90 90 90 6 6 125 5 5 3 90 90 90 6 6 125 5 5 5 3 90 90 90 6 6 125 5 5 5 3 90 90 90 90 6 6 125 5 5 3 90 90 90 90 6 6 125 91 125 125 125 125 125 125 125 125 136 45 13 45 45 45 45 45 45 5 106 45 3 6 45 45 45 5 108 45 3 3 3 6 5 108 3 3 3 6 5 108 3 19 6 33 5 108 3 3 6 45 45 5 151 164 5 45 108 3 3 6 5 108 3 19 6 153 156 157 122 55 33 5 108 3 3 6 4 55 3 3 4 3 3 5 106 3 6 24 5 108 45 3 19 6 24 5 108 3 19 6 5 108 3 19 6 49 4 3 3 3 3 4 3 4 3 3 4 3 4 3 4 3 4 3 4 3 4 3 4 3 4 3 4 3 4 3 4 3 4 3 4 3 4 3 4 3 4 3 4 3 4 3 4 3 4 3 4 3 4 3 4 3 4 3 4 3 4 3 4 3 4 3 4 3 4 3 4 3 4 3 4 3 4 3 106 5 108 45 3 19 3 6 4 3 4 3 4 3 4 3 4 3 3 4 3 4 3 67 34 126 67 67 67 67 4 3 3 126 4 3 3 3 4 54 78 104 82 119 4 3 82 119 4 3 82 119 4 3 82 119 4 3 82 119 4 3 82 119 4 3 82 119 4 3 82 119 4 3 82 119 4 3 82 119 4 3 82 119 4 3 82 119 4 3 82 119 4 3 82 119 4 3 82 119 4 3 82 119 4 3 82 119 4 3 82 119 4 3 82 119 4 3 82 119 4 3 82 119 4 3 82 119 4 3 82 119 4 3 82 119 4 3 82 119 4 3 82 119 4 3 82 119 4 3 82 119 4 3 82 119 4 3 82 119 4 3 82 119 4 3 82 119 4 3 82 119 4 3 82 119 4 3 82 119 4 3 82 119 4 3 82 119 4 3 82 119 4 3 82 119 4 3 82 119 4 3 82 119 4 3 82 119 4 3 82 119 4 3 82 119 4 3 82 119 4 3 82 119 4 3 82 119 4 3 82 119 4 3 82 119 4 3 82 119 4 3 82 119 4 3 82 119 4 3 82 119 4 3 82 119 4 3 82 119 4 3 82 119 4 3 82 119 4 3 82 119 4 3 82 119 4 3 82 119 4 3 82 119 4 3 82 119 4 3 82 119 4 3 82 119 4 3 82 119 4 3 82 119 4 3 82 119 4 3 82 119 4 3 82 119 4 3 82 119 4 3 82 119 4 3 82 119 4 3 82 119 4 3 82 119 4 3 82 119 4 3 82 119 4 3 82 119 4 3 82 119 4 3 82 119 4 3 82 119 4 3 82 119 4 3 82 119 4 3 82 119 4 3 82 119 4 3 82 119 4 3 82 119 4 3 82 119 4 3 82 119 4 3 82 119 4 3 82 119 4 3 82 119 4 3 82 119 4 3 82 119 4 3 82 119 4 3 82 119 4 3 82 119 4 3 82 119 4 3 82 119 4 3 82 119 4 3 82 119 4 3 82 119 4 3 82 119 4 3 82 119 4 3 82 119 4 3 82 119 4 3 82 119 4 3 82 119 4 3 82 119 4 3 82 119 4 3 82 119 4 3 82 119 4 3 82 119 4 3 82 119 4 3 82 119 4 3 82 119 4 3 82 119 4 3 82 119 4 3 82 119 4 3 82 119 4 3 82 119 4 3 82 119 4 3 82 119 4 3 82 119 4 3 82 119 4 3 82 119 4 3 82 119 4 3 82 119 4 3 82 119 4 3 82 119 4 3 82 119 4 3 82 119 4 3 82 119 4 3 82 119 4 3 82 119 4 3 82 119 4 3 82 119 4 3 82 119 4 3 82 119 4 3 82 119 4 3 82 119 4 3 82 119 4 3 82 119 4 3 82 119 4 3 82 119 4 3 82 119 4 3 82 119 4 3 82 119 4 3 82 119 4 3 82 119 4 3 82 119 4 3 82 119 4 3 82 119 4 3 82 119 4 3 82 119 4 3 82 119 4 3 82 119 4 3 82 119 4 3 82 119 4 3 82 119 4 3 82 119 4 3 82 119 4 3 82 119 4 3 82 119 4 3 82 119 4 3 82 119 4 3 82 119 4 3 82 119 4 3 82 119 4 3 82 119 4 3 82 119 4 3 82 119 4 3 82 119 4 3 82 119 4 3 82 119 4 3 82 119 4 3 82 119 4 3 82 119 4 3 82 119 4 3 82 119 4 3 82 119 4 3 82 119 4 3 82 119 4 3 82 119 4 3 82 119 4 3 82 119 4 3 82 119 4 3 82 119 4 3 82 119 4 3 82 119 4 3 82 119 4 3 82 119 4 3 82 119 4 3 82 119 4 3 82 119 4 3 82 119 4 3 82 119 4 3 82 119 4 3 82 119 4 3 82 119 4 3 82 119 4 3 82 119 4 3 82 119 4 3 82 119 4 3 82 119 4 3 82 119 4 3 82 119 4 3 82 119 4 3 82 119 4 3 82 119 4 3 82 119 4 3 82 119 4 3 82 119 4 3 82 119 4 3 82 119 4 3 82 119 4 3 82 119 4 3 82 119 4 3 82 119 4 3 82 54 3 4 3 3 3 4 3 4 119 4 3 3 3 3 78 4 3 3 3 78 78 54 78 78 104 82 119 4 3 78 82 119 4 3 78 82 54 3 78 54 78 78 82 119 4 3 78 82 119 4 3 78 82 119 4 3 78 82 119 4 3 78 82 119 4 3 78 82 119 4 3 78 82 119 4 3 78 82 119 4 3 78 82 119 4 3 78 82 119 4 3 78 82 119 4 3 78 82 119 4 3 78 82 119 4 3 78 82 119 4 3 78 82 119 4 3 78 82 119 4 3 78 82 119 4 3 78 82 119 4 3 78 82 119 4 3 78 82 119 4 3 78 82 119 4 3 78 82 119 4 3 78 82 119 4 3 78 82 119 4 3 78 82 119 4 3 78 82 119 4 3 78 82 119 4 3 78 82 119 54 3 4 3 3 4 3 3 54 78 54 78 78 82 4 3 78 82 119 4 3 78 82 119 4 3 78 82 119 54 3 54 78 54 78 78 82 4 3 78 82 119 4 3 78 82 119 4 3 78 82 119 4 3 78 82 54 3 78 54 78 78 82 54 3 78 54 78 78 82 119 4 3 78 82 119 4 3 78 82 54 3 54 78 54 78 78 82 119 4 3 78 82 119 4 3 78 82 119 54 3 54 78 54 78 78 82 4 3 78 82 119 4 3 78 82 54 3 78 54 78 78 82 119 4 3 78 82 119 54 3 78 54 78 78 82 4 3 78 82 119 4 3 78 82 119 4 3 78 82 119 54 3 54 78 54 78 78 82 4 3 78 82 119 4 3 78 82 119 4 3 78 82 119 54 3 78 54 78 78 82 4 3 78 82 119 4 3 78 82 119 54 3 54 78 54 78 78 82 4 3 78 82 119 4 3 78 82 119 4 3 78 82 54 3 78 54 78 78 82 119 4 3 78 82 119 4 3 78 82 54 3 54 78 54 78 78 82 119 4 3 78 82 119 54 3 54 78 54 78 78 82 4 3 78 82 119 4 3 78 82 119 4 3 78 82 54 3 78 54 78 78 82 119 4 3 78 82 54 3 78 54 78 78 82 119 4 3 78 82 119 4 3 78 82 119 4 3 78 82 54 3 4 119 4 3 4 4 3 163 119 6 1', 1971: '5 90 6 125 125 24 49 47 50 106 5 90 6 5 5 3 90 90 90 90 6 6 125 5 5 3 90 90 90 90 6 6 125 5 5 3 90 90 90 6 6 125 5 5 5 3 90 90 90 6 6 125 5 5 5 3 90 90 90 90 6 6 125 5 5 3 90 90 90 90 6 6 125 91 125 125 125 125 125 125 125 125 136 45 13 45 45 45 45 45 45 5 106 45 3 6 45 45 45 5 108 45 3 3 3 6 5 108 3 3 3 6 5 108 3 19 6 33 5 108 3 3 6 45 45 5 151 164 5 45 108 3 3 6 5 108 3 19 6 153 156 157 122 55 33 5 108 3 3 6 4 55 3 3 4 3 3 5 106 3 6 24 5 108 45 3 19 6 24 5 108 3 19 6 5 108 3 19 6 49 4 3 3 3 3 4 3 4 3 3 4 3 4 3 4 3 4 3 4 3 4 3 4 3 4 3 4 3 4 3 4 3 4 3 4 3 4 3 4 3 4 3 4 3 4 3 4 3 4 3 4 3 4 3 4 3 4 3 4 3 4 3 4 3 4 3 4 3 4 3 4 3 4 3 4 3 4 3 106 5 108 45 3 19 3 6 4 3 4 3 4 3 4 3 4 3 3 4 3 4 3 3 4 3 4 3 4 3 4 3 4 3 4 3 4 3 4 3 4 3 4 3 4 3 4 3 4 3 4 3 4 3 4 3 4 3 4 3 4 3 4 3 4 3 4 3 4 3 4 3 4 3 4 3 4 3 4 3 4 3 4 3 4 3 4 3 4 3 4 3 4 3 4 3 4 3 4 3 4 3 4 3 4 3 4 3 4 3 4 3 4 3 4 3 4 3 4 3 4 3 4 3 4 3 4 3 4 3 4 3 4 3 4 3 4 3 4 3 4 3 4 3 4 3 4 3 4 3 4 3 4 3 4 3 3 4 3 4 3 67 34 126 67 67 67 67 4 3 3 126 4 54 78 104 82 54 3 4 3 3 3 4 3 4 78 4 3 3 3 3 78 78 54 78 78 104 82 54 3 78 54 78 78 82 54 3 4 3 3 4 3 3 54 78 54 78 78 82 54 3 54 78 54 78 78 82 54 3 78 54 78 78 82 54 3 54 78 54 78 78 82 54 3 78 54 78 78 82 54 3 54 78 54 78 78 82 54 3 78 54 78 78 82 54 3 54 78 54 78 78 82 54 3 78 54 78 78 82 54 3 78 54 78 78 82 54 3 54 78 54 78 78 82 54 3 54 78 54 78 78 82 54 3 78 54 78 78 82 54 3 78 54 78 78 82 54 3 4 4 3 4 4 3 163 6 1', 1979: '5 90 6 125 125 24 49 47 50 106 5 90 6 5 5 3 90 90 90 90 6 6 125 5 5 3 90 90 90 90 6 6 125 5 5 3 90 90 90 6 6 125 5 5 5 3 90 90 90 6 6 125 5 5 5 3 90 90 90 90 6 6 125 5 5 3 90 90 90 90 6 6 125 91 125 125 125 125 125 125 125 125 136 45 13 45 45 45 45 45 45 5 106 45 3 6 45 45 45 5 108 45 3 3 3 6 5 108 3 3 3 6 5 108 3 19 6 33 5 108 3 3 6 45 45 5 151 164 5 45 108 3 3 6 5 108 3 19 6 153 156 157 122 55 33 5 108 3 3 6 4 55 3 3 4 3 3 5 106 3 6 24 5 108 45 3 19 6 24 5 108 3 19 6 5 108 3 19 6 49 4 3 3 3 3 4 3 4 3 3 4 3 4 3 4 3 4 3 4 3 4 3 4 3 4 3 4 3 4 3 4 3 4 3 4 3 4 3 4 3 4 3 4 3 4 3 4 3 4 3 4 3 4 3 4 3 4 3 4 3 4 3 4 3 4 3 4 3 4 3 4 3 4 3 4 3 4 3 106 5 108 45 3 19 3 6 4 3 4 3 4 3 4 3 4 3 3 4 3 4 3 3 4 3 4 3 4 3 4 3 4 3 4 3 4 3 4 3 4 3 4 3 4 3 4 3 4 3 4 3 4 3 4 3 4 3 4 3 4 3 4 3 4 3 4 3 4 3 4 3 4 3 4 3 4 3 4 3 4 3 4 3 4 3 4 3 4 3 4 3 4 3 4 3 4 3 4 3 4 3 4 3 4 3 4 3 4 3 4 3 4 3 4 3 4 3 4 3 4 3 4 3 4 3 4 3 4 3 4 3 4 3 4 3 4 3 4 3 4 3 4 3 4 3 4 3 4 3 4 3 4 3 4 3 3 4 3 4 3 67 34 126 67 67 67 67 4 3 3 126 4 54 78 104 82 54 3 4 3 3 3 4 3 4 78 4 3 3 3 3 78 78 54 78 78 104 82 54 3 78 54 78 78 82 54 3 4 3 3 4 3 3 4 54 78 54 78 78 82 54 3 4 54 78 54 78 78 82 54 3 78 54 78 78 82 54 3 78 54 78 78 82 54 3 4 54 78 54 78 78 82 54 3 4 54 78 54 78 78 82 54 3 78 54 78 78 82 54 3 78 54 78 78 82 54 3 4 54 78 54 78 78 82 54 3 78 54 78 78 82 54 3 4 54 78 54 78 78 82 54 3 78 54 78 78 82 54 3 4 54 78 54 78 78 82 54 3 4 54 78 54 78 78 82 54 3 78 54 78 78 82 54 3 78 54 78 78 82 54 3 4 4 3 4 4 3 163 6 1', 1985: '5 90 6 125 125 24 49 47 50 106 5 90 6 5 5 3 90 90 90 90 6 6 125 5 5 3 90 90 90 90 6 6 125 5 5 3 90 90 90 6 6 125 5 5 5 3 90 90 90 6 6 125 5 5 5 3 90 90 90 90 6 6 125 5 5 3 90 90 90 90 6 6 125 91 125 125 125 125 125 125 125 125 136 45 13 45 45 45 45 45 45 5 106 45 3 6 45 45 45 5 108 45 3 3 3 6 5 108 3 3 3 6 5 108 3 19 6 33 5 108 3 3 6 45 45 5 151 164 5 45 108 3 3 6 5 108 3 19 6 153 156 157 122 55 33 5 108 3 3 6 4 55 3 3 4 3 3 5 106 3 6 4 4 4 4 4 4 4 4 4 4 4 4 4 4 4 4 4 4 4 4 4 4 4 4 4 4 4 4 4 24 5 108 45 3 19 6 24 5 108 3 19 6 5 108 3 19 6 49 4 3 82 3 3 3 3 4 3 82 3 4 3 82 3 3 4 3 82 3 4 3 82 3 4 3 82 3 4 3 82 3 4 3 82 3 4 3 82 3 4 3 82 3 4 3 82 3 4 3 82 3 4 3 82 3 4 3 82 3 4 3 82 3 4 3 82 3 4 3 82 3 4 3 82 3 4 3 82 3 4 3 4 3 4 3 4 3 4 3 4 3 4 3 82 3 4 3 82 3 4 3 82 3 4 3 4 3 82 3 4 3 82 3 4 3 82 3 4 3 4 3 4 3 4 3 4 3 106 5 108 45 3 19 3 6 4 3 4 3 4 3 4 3 4 3 3 4 3 4 3 3 4 3 4 3 4 3 4 3 4 3 4 3 4 3 4 3 4 3 4 3 4 3 4 3 4 3 4 3 4 3 4 3 4 3 4 3 4 3 4 3 4 3 4 3 4 3 4 3 4 3 4 3 4 3 4 3 4 3 4 3 4 3 4 3 4 3 4 3 4 3 4 3 4 3 4 3 4 3 4 3 4 3 4 3 4 3 4 3 4 3 4 3 4 3 4 3 4 3 4 3 4 3 4 3 4 3 4 3 4 3 4 3 4 3 4 3 4 3 4 3 4 3 4 3 4 3 4 3 4 3 4 4 3 3 4 3 4 3 67 34 126 67 67 67 67 4 3 3 126 4 54 78 104 82 54 3 4 3 3 3 4 3 4 78 4 3 3 3 3 78 78 54 78 78 104 82 54 3 78 54 78 78 82 54 3 4 3 3 4 3 3 54 78 54 78 78 82 54 3 54 78 54 78 78 82 54 3 78 54 78 78 82 54 3 78 54 78 78 82 54 3 54 78 54 78 78 82 54 3 54 78 54 78 78 82 54 3 78 54 78 78 82 54 3 78 54 78 78 82 54 3 54 78 54 78 78 82 54 3 78 54 78 78 82 54 3 54 78 54 78 78 82 54 3 78 54 78 78 82 54 3 54 78 54 78 78 82 54 3 54 78 54 78 78 82 54 3 78 54 78 78 82 54 3 78 54 78 78 82 54 3 4 4 3 4 4 3 163 6 1', 1991: '5 90 6 125 125 24 49 47 50 106 5 90 6 5 5 3 90 90 90 90 6 6 125 5 5 3 90 90 90 90 6 6 125 5 5 3 90 90 90 6 6 125 5 5 5 3 90 90 90 6 6 125 5 5 5 3 90 90 90 90 6 6 125 5 5 3 90 90 90 90 6 6 125 91 125 125 125 125 125 125 125 125 136 45 13 45 45 45 45 45 45 5 106 45 3 6 45 45 45 5 108 45 3 3 3 6 5 108 3 3 3 6 5 108 3 19 6 33 5 108 3 3 6 45 45 5 151 164 5 45 108 3 3 6 5 108 3 19 6 153 156 157 122 55 33 5 108 3 3 6 4 55 3 3 4 3 3 5 106 3 6 24 5 108 45 3 19 6 49 4 3 3 3 3 4 3 4 3 3 4 3 4 3 4 3 4 3 4 3 4 3 4 3 4 3 4 3 4 3 4 3 4 3 4 3 4 3 4 3 4 3 4 3 4 3 4 3 4 3 4 3 4 3 4 3 4 3 4 3 4 3 4 3 4 3 4 3 4 3 4 3 4 3 4 3 4 3 106 5 108 45 3 19 3 6 4 3 4 3 4 3 4 3 4 3 3 4 3 4 3 3 4 3 4 3 4 3 4 3 4 3 4 3 4 3 4 3 4 3 4 3 4 3 4 3 4 3 4 3 4 3 4 3 4 3 4 3 4 3 4 3 4 3 4 3 4 3 4 3 4 3 4 3 4 3 4 3 4 3 4 3 4 3 4 3 4 3 4 3 4 3 4 3 4 3 4 3 4 3 4 3 4 3 4 3 4 3 4 3 4 3 4 3 4 3 4 3 4 3 4 3 4 3 4 3 4 3 4 3 4 3 4 3 4 3 4 3 4 3 4 3 4 3 4 3 4 3 4 3 4 3 4 3 67 34 4 3 82 3 3 3 4 54 3 54 78 104 82 119 4 3 82 119 4 3 82 119 4 3 82 119 4 3 82 119 4 3 82 119 4 3 82 119 4 3 82 119 4 3 82 119 4 3 82 119 4 3 82 119 4 3 82 119 4 3 82 119 4 3 82 119 4 3 82 119 4 3 82 119 4 3 82 119 4 3 82 119 4 3 82 119 4 3 82 119 4 3 82 119 4 3 82 119 4 3 82 119 4 3 82 119 4 3 82 119 4 3 82 119 4 3 82 119 4 3 82 119 4 3 82 119 4 3 82 119 4 3 82 119 4 3 82 119 4 3 82 119 4 3 82 119 4 3 82 119 4 3 82 119 4 3 82 119 4 3 82 119 4 3 82 119 4 3 82 119 4 3 82 119 4 3 82 119 4 3 82 119 4 3 82 119 4 3 82 119 4 3 82 119 4 3 82 119 4 3 82 119 4 3 82 119 4 3 82 119 4 3 82 119 4 3 82 119 4 3 82 119 4 3 82 119 4 3 82 119 4 3 82 119 4 3 82 119 4 3 82 119 4 3 82 119 4 3 82 119 4 3 82 119 4 3 82 119 4 3 82 119 4 3 82 119 4 3 82 119 4 3 82 119 4 3 82 119 4 3 82 119 4 3 82 119 4 3 82 119 4 3 82 119 4 3 82 119 4 3 82 119 4 3 82 119 4 3 82 119 4 3 82 119 4 3 82 119 4 3 82 119 4 3 82 119 4 3 82 119 4 3 82 119 4 3 82 119 4 3 82 119 4 3 82 119 4 3 82 119 4 3 82 119 4 3 82 119 4 3 82 119 4 3 82 119 4 3 82 119 4 3 82 119 4 3 82 119 4 3 82 119 4 3 82 119 4 3 82 119 4 3 82 119 4 3 82 119 4 3 82 119 4 3 82 119 4 3 82 119 4 3 82 119 4 3 82 119 4 3 82 119 4 3 82 119 4 3 82 119 4 3 82 119 4 3 82 119 4 3 82 119 4 3 82 119 4 3 82 119 4 3 82 119 4 3 82 119 4 3 82 119 4 3 82 119 4 3 82 119 4 3 82 119 4 3 82 119 4 3 82 119 4 3 82 119 4 3 82 119 4 3 82 119 4 3 82 119 4 3 82 119 4 3 82 119 4 3 82 119 4 3 82 119 4 3 82 119 4 3 82 119 4 3 82 119 4 3 82 119 4 3 82 119 4 3 82 119 4 3 82 119 4 3 82 119 4 3 82 119 4 3 82 119 4 3 82 119 4 3 82 119 4 3 82 119 4 3 82 119 4 3 82 119 4 3 82 119 4 3 82 119 4 3 82 119 4 3 82 119 4 3 82 119 4 3 82 119 4 3 82 119 4 3 82 119 4 3 82 119 4 3 82 119 4 3 82 119 4 3 82 119 4 3 82 119 4 3 82 119 4 3 82 119 4 3 82 119 4 3 82 119 4 3 82 119 4 3 82 119 4 3 82 119 4 3 82 119 4 3 82 119 4 3 82 119 4 3 82 119 4 3 82 119 4 3 82 119 4 3 82 119 4 3 82 119 4 3 82 119 4 3 82 119 4 3 82 119 4 3 82 119 4 3 82 119 4 3 82 119 4 3 82 119 4 3 82 119 4 3 82 119 4 3 82 119 4 3 82 119 4 3 82 119 4 3 82 119 4 3 82 119 4 3 82 119 4 3 82 119 4 3 82 119 4 3 82 119 4 3 82 119 4 3 82 119 4 3 82 119 4 3 82 119 4 3 82 119 4 3 82 119 4 3 82 119 4 3 82 119 4 3 82 119 4 3 82 119 4 3 82 119 4 3 82 119 4 3 82 119 4 3 82 119 4 3 82 119 4 3 82 119 4 3 82 119 4 3 82 119 4 3 82 119 4 3 82 119 4 3 82 119 4 3 82 119 4 3 82 119 4 3 82 119 4 3 82 119 4 3 82 119 4 3 82 119 4 3 82 119 4 3 82 119 4 3 82 119 4 3 82 119 4 3 82 119 4 3 82 119 4 3 82 119 4 3 82 119 4 3 82 119 4 3 82 119 4 3 82 119 4 3 82 119 4 3 82 119 4 3 82 119 4 3 82 119 4 3 82 119 4 3 82 119 4 3 82 119 4 3 82 119 4 3 82 119 4 3 82 119 54 3 54 78 82 4 3 82 119 4 3 82 119 4 3 82 119 4 3 82 119 4 3 82 119 4 3 82 119 4 3 82 119 4 3 82 119 4 3 82 119 4 3 82 119 4 3 82 119 4 3 82 119 4 3 82 119 4 3 82 119 4 3 82 119 4 3 82 119 4 3 82 119 4 3 82 119 4 3 82 119 4 3 82 119 4 3 82 119 4 3 82 119 4 3 82 119 4 3 82 119 4 3 82 119 4 3 82 119 4 3 82 119 4 3 82 119 4 3 82 119 4 3 82 119 4 3 82 119 4 3 82 119 4 3 82 119 4 3 82 119 4 3 82 119 4 3 82 119 4 3 82 119 4 3 82 119 4 3 82 119 4 3 82 119 4 3 82 119 4 3 82 119 4 3 82 119 4 3 82 119 4 3 82 119 4 3 82 119 4 3 82 119 4 3 82 119 4 3 82 119 4 3 82 119 4 3 82 119 4 3 82 119 4 3 82 119 4 3 82 119 4 3 82 119 4 3 82 119 4 3 82 119 4 3 82 119 4 3 82 119 4 3 82 119 4 3 82 119 4 3 82 119 4 3 82 119 4 3 82 119 4 3 82 119 4 3 82 119 4 3 82 119 4 3 82 119 4 3 82 3 82 119 4 3 82 119 4 3 82 119 4 3 82 119 4 3 82 119 4 3 82 119 4 3 82 119 4 3 82 119 4 3 82 119 4 3 82 119 4 3 82 119 4 3 82 119 4 3 82 119 4 3 82 119 4 3 82 119 4 3 82 119 4 3 82 119 4 3 82 119 4 3 82 119 4 3 82 119 4 3 82 119 4 3 82 119 4 3 82 119 4 3 82 119 4 3 82 119 4 3 82 119 4 3 82 119 4 3 82 119 4 3 82 119 4 3 82 119 4 3 82 119 4 3 82 119 4 3 82 119 4 3 82 119 4 3 82 119 82 3 82 4 3 82 119 4 3 82 119 4 3 82 119 4 3 82 119 4 3 82 119 4 3 82 119 4 3 82 119 4 3 82 119 4 3 82 119 4 3 82 119 4 3 82 119 4 3 82 119 4 3 82 119 4 3 82 119 4 3 82 119 4 3 82 119 4 3 82 119 4 3 82 119 4 3 82 119 4 3 82 119 4 3 82 119 4 3 82 119 4 3 82 119 4 3 82 119 4 3 82 119 4 3 82 119 4 3 82 119 4 3 82 119 4 3 82 119 4 3 82 119 4 3 82 119 4 3 82 119 4 3 82 119 4 3 82 119 4 3 82 119 4 3 82 119 4 3 82 119 4 3 82 119 4 3 82 119 4 3 82 119 4 3 82 119 4 3 82 119 4 3 82 119 4 3 82 119 4 3 82 119 4 3 82 119 4 3 82 119 4 3 82 119 4 3 82 119 4 3 82 119 4 3 82 119 4 3 82 119 4 3 82 119 4 3 82 119 4 3 82 119 4 3 82 119 4 3 82 119 4 3 82 119 4 3 82 119 4 3 82 119 4 3 82 119 4 3 82 119 54 3 54 3 54 78 82 4 3 82 119 4 3 82 119 4 3 82 119 4 3 82 119 4 3 82 119 4 3 82 119 4 3 82 119 4 3 82 119 4 3 82 119 4 3 82 119 4 3 82 119 4 3 82 119 4 3 82 119 4 3 82 119 4 3 82 119 4 3 82 119 4 3 82 119 4 3 82 119 4 3 82 119 4 3 82 119 4 3 82 119 4 3 82 119 4 3 82 119 4 3 82 119 4 3 82 119 4 3 82 119 4 3 82 119 4 3 82 119 4 3 82 119 4 3 82 119 4 3 82 119 4 3 82 119 4 3 82 119 4 3 82 119 4 3 82 119 4 3 82 119 4 3 82 119 4 3 82 119 4 3 82 119 4 3 82 119 4 3 82 119 4 3 82 119 4 3 82 119 4 3 82 119 4 3 82 119 4 3 82 119 4 3 82 119 4 3 82 119 4 3 82 119 4 3 82 119 4 3 82 119 4 3 82 119 4 3 82 119 4 3 82 119 4 3 82 119 4 3 82 119 4 3 82 119 4 3 82 119 4 3 82 119 4 3 82 119 4 3 82 119 4 3 82 119 4 3 82 119 4 3 82 119 4 3 82 119 4 3 82 119 4 3 82 119 4 3 82 119 4 3 82 119 4 3 82 119 4 3 82 119 4 3 82 119 4 3 82 119 4 3 82 119 4 3 82 119 4 3 82 119 4 3 82 119 4 3 82 119 4 3 82 119 4 3 3 54 78 82 119 4 3 82 119 4 3 82 119 4 3 82 119 4 3 82 119 4 3 82 119 4 3 82 119 4 3 82 119 4 3 82 119 4 3 82 119 4 3 82 119 4 3 82 119 4 3 82 119 4 3 82 119 4 3 82 119 4 3 82 119 4 3 82 119 4 3 82 119 4 3 82 119 4 3 82 119 4 3 82 119 4 3 82 119 4 3 82 119 4 3 82 119 4 3 82 119 4 3 82 119 4 3 82 119 4 3 82 119 4 3 82 119 4 3 82 119 4 3 82 119 4 3 82 119 4 3 82 119 4 3 82 119 4 3 82 119 4 3 82 119 4 3 82 119 4 3 82 119 4 3 82 119 4 3 82 119 4 3 82 119 4 3 82 119 4 3 82 119 4 3 82 119 4 3 82 119 4 3 82 54 3 54 78 82 119 4 3 82 119 4 3 82 119 4 3 82 119 4 3 82 119 4 3 82 119 4 3 82 119 4 3 82 119 4 3 82 119 4 3 82 119 4 3 82 119 4 3 82 119 4 3 82 119 4 3 82 119 4 3 82 119 4 3 82 119 4 3 82 119 4 3 82 119 4 3 82 119 4 3 82 119 4 3 82 119 4 3 82 119 4 3 82 119 4 3 82 119 4 3 82 119 4 3 82 119 4 3 82 119 4 3 82 119 4 3 82 119 4 3 82 119 4 3 82 119 4 3 82 119 4 3 82 119 4 3 82 119 4 3 82 119 4 3 82 119 4 3 82 119 4 3 82 119 4 3 82 119 4 3 82 119 4 3 82 119 4 3 82 119 4 3 82 119 4 3 82 119 4 3 82 119 4 3 82 119 4 3 82 119 4 3 82 119 4 3 82 119 4 3 82 119 4 3 82 119 4 3 82 119 4 3 82 119 4 3 82 119 4 3 82 119 4 3 82 119 4 3 82 119 4 3 82 119 4 3 82 119 4 3 82 119 4 3 82 119 4 3 82 119 4 3 82 119 4 3 82 119 4 3 82 119 4 3 82 119 4 3 82 119 4 3 82 119 4 3 82 119 4 3 82 119 4 3 82 119 4 3 82 119 4 3 82 119 4 3 82 119 4 3 82 119 4 3 82 119 4 3 82 119 4 3 82 119 4 3 82 119 4 3 82 119 4 3 82 119 4 3 82 119 4 3 82 119 4 3 82 119 4 3 82 119 4 3 82 119 4 3 82 119 4 3 82 119 4 3 82 119 4 3 82 119 4 3 82 119 4 3 82 119 4 3 82 119 4 3 82 119 4 3 82 119 4 3 82 119 4 3 82 119 4 3 82 119 4 3 82 119 4 3 82 119 4 3 82 119 4 3 82 119 4 3 82 119 4 3 82 119 4 3 82 119 4 3 82 119 4 3 82 119 4 3 82 119 4 3 82 119 4 3 82 119 4 3 82 119 4 3 82 119 4 3 82 119 4 3 82 119 4 3 82 119 4 3 82 119 4 3 82 119 4 3 82 119 4 3 82 119 4 3 82 119 4 3 82 119 4 3 82 119 4 3 82 119 4 3 82 119 4 3 82 119 4 3 82 119 4 3 82 119 4 3 82 119 4 3 82 119 4 3 82 119 4 3 82 119 4 3 82 119 4 3 82 119 4 3 82 119 4 3 82 119 4 3 82 119 4 3 82 119 4 3 82 119 4 3 82 119 4 3 82 119 82 119 82 119 82 119 82 119 82 119 82 119 82 119 82 119 82 119 82 119 82 119 82 119 82 119 82 119 82 119 82 3 3 3 54 78 82 4 3 82 119 4 3 82 119 4 3 82 119 4 3 82 119 4 3 82 119 4 3 82 119 4 3 82 119 4 3 82 119 4 3 82 119 4 3 82 119 4 3 82 119 4 3 82 119 4 3 82 119 4 3 82 119 4 3 82 119 4 3 82 119 4 3 82 119 4 3 82 119 4 3 82 119 4 3 82 119 4 3 82 119 4 3 82 119 4 3 82 119 4 3 82 119 4 3 82 119 4 3 82 119 4 3 82 119 4 3 82 119 4 3 82 119 4 3 82 119 4 3 82 119 4 3 82 119 4 3 82 119 4 3 82 119 4 3 82 119 4 3 82 119 4 3 82 119 4 3 82 119 4 3 82 119 4 3 82 119 4 3 82 119 4 3 82 119 4 3 82 119 4 3 82 119 4 3 82 119 4 3 82 119 4 3 82 119 4 3 82 119 4 3 82 119 4 3 82 119 4 3 82 119 4 3 82 119 4 3 82 119 4 3 82 119 4 3 82 119 4 3 82 119 4 3 82 119 4 3 82 119 4 3 82 119 4 3 82 119 4 3 82 119 4 3 82 119 4 3 82 119 4 3 82 119 4 3 82 119 4 3 82 119 4 3 82 119 4 3 82 119 4 3 82 119 4 3 82 119 4 3 82 119 4 3 82 119 4 3 82 119 4 3 82 119 4 3 82 119 4 3 82 119 4 3 82 119 4 3 82 119 4 3 82 119 4 3 82 119 4 3 82 119 4 3 82 119 4 3 82 119 4 3 82 119 4 3 82 119 4 3 82 119 4 3 82 119 4 3 82 119 4 3 82 119 4 3 82 119 4 3 82 119 4 3 82 119 4 3 82 119 4 3 82 119 4 3 82 119 4 3 82 119 4 3 82 119 4 3 82 119 4 3 82 119 4 3 82 119 4 3 82 119 4 3 82 119 4 3 82 119 4 3 82 119 4 3 82 119 4 3 82 119 4 3 82 119 4 3 82 119 4 3 82 119 4 3 82 119 4 3 82 119 4 3 82 119 4 3 82 119 4 3 82 119 4 3 82 119 4 3 82 119 4 3 82 119 4 3 82 119 4 3 82 119 4 3 82 119 4 3 82 119 4 3 82 119 4 3 82 119 4 3 82 119 4 3 82 119 4 3 82 119 4 3 82 119 4 3 82 119 4 3 82 119 4 3 82 119 4 3 82 119 4 3 119 82 4 119 3 82 4 3 82 119 4 3 82 119 4 3 82 119 4 3 82 119 4 3 82 119 4 3 82 119 4 3 82 119 4 3 82 119 4 3 82 119 4 3 82 119 4 3 82 119 4 3 82 119 4 3 82 119 4 3 82 119 4 3 82 119 4 3 82 119 4 3 82 119 4 3 82 119 4 3 82 119 4 3 82 119 4 3 82 119 4 3 82 119 4 3 82 119 4 3 82 119 4 3 82 119 4 3 82 119 4 3 82 119 82 119 82 119 82 119 82 119 82 119 82 119 82 119 82 119 82 119 82 119 82 119 82 119 82 119 82 119 82 119 82 119 82 119 82 119 82 119 3 3 3 54 78 82 4 3 82 3 82 119 4 3 82 3 82 119 4 3 82 3 82 119 4 3 82 3 82 119 4 3 82 3 82 119 4 3 82 3 82 119 4 3 82 3 82 119 4 3 82 3 82 119 4 3 82 3 82 119 4 3 82 3 82 119 4 3 82 3 82 119 4 3 82 3 82 119 4 3 82 3 82 119 4 3 82 3 82 119 4 3 82 3 82 119 4 3 82 3 82 119 4 3 82 3 82 119 4 3 82 3 82 119 4 3 82 3 82 119 4 3 82 3 82 119 4 3 82 3 82 54 3 4 3 82 3 4 4 3 82 3 163 6 119 1', 1997: '5 90 6 125 125 24 49 47 50 106 5 90 6 5 5 3 90 90 90 90 6 6 125 5 5 3 90 90 90 90 6 6 125 5 5 3 90 90 90 6 6 125 5 5 5 3 90 90 90 6 6 125 5 5 5 3 90 90 90 90 6 6 125 5 5 3 90 90 90 90 6 6 125 91 125 125 125 125 125 125 125 125 136 45 13 45 45 45 45 45 45 5 106 45 3 6 45 45 45 5 108 45 3 3 3 6 5 108 3 3 3 6 5 108 3 19 6 33 5 108 3 3 6 45 45 5 151 164 5 45 108 3 3 6 5 108 3 19 6 153 156 157 122 55 33 5 108 3 3 6 4 55 3 3 4 3 3 5 106 3 6 24 5 108 45 3 19 6 24 5 108 3 19 6 5 108 3 19 6 49 4 3 3 3 3 4 3 4 3 3 4 3 4 3 4 3 4 3 4 3 4 3 4 3 4 3 4 3 4 3 4 3 4 3 4 3 4 3 4 3 4 3 4 3 4 3 4 3 4 3 4 3 4 3 4 3 4 3 4 3 4 3 4 3 4 3 4 3 4 3 4 3 4 3 4 3 4 3 106 5 108 45 3 19 3 6 4 3 4 3 4 3 4 3 4 3 3 4 3 4 3 3 4 3 4 3 4 3 4 3 4 3 4 3 4 3 4 3 4 3 4 3 4 3 4 3 4 3 4 3 4 3 4 3 4 3 4 3 4 3 4 3 4 3 4 3 4 3 4 3 4 3 4 3 4 3 4 3 4 3 4 3 4 3 4 3 4 3 4 3 4 3 4 3 4 3 4 3 4 3 4 3 4 3 4 3 4 3 4 3 4 3 4 3 4 3 4 3 4 3 4 3 4 3 4 3 4 3 4 3 4 3 4 3 4 3 4 3 4 3 4 3 4 3 4 3 4 3 4 3 4 3 4 3 3 4 3 4 3 67 34 126 67 67 67 67 4 3 3 126 4 54 78 104 82 119 4 3 82 119 4 3 82 119 4 3 82 54 3 4 3 3 3 4 3 4 78 4 3 3 3 78 4 54 78 78 104 82 54 3 78 54 78 78 82 54 3 4 3 3 4 3 3 54 78 54 78 78 82 54 3 54 78 54 78 78 82 54 3 78 54 78 78 82 54 3 78 54 78 78 82 54 3 54 78 54 78 78 82 54 3 54 78 54 78 78 82 54 3 78 54 78 78 82 54 3 78 54 78 78 82 54 3 54 78 54 78 78 82 54 3 78 54 78 78 82 54 3 54 78 54 78 78 82 54 3 78 54 78 78 82 54 3 54 78 54 78 78 82 54 3 54 78 54 78 78 82 54 3 78 54 78 78 82 54 3 78 54 78 78 82 54 3 4 4 3 4 4 3 163 6 1'}\n",
            "Number of unique PID in intrusion: 2\n",
            "Intrusion PIDs and its sequences:  {2826: '5 90 6 125 125 24 49 47 50 106 5 90 6 5 5 3 90 90 90 90 6 6 125 5 5 3 90 90 90 90 6 6 125 5 5 3 90 90 90 6 6 125 5 5 5 3 90 90 90 6 6 125 5 5 5 3 90 90 90 90 6 6 125 5 5 3 90 90 90 90 6 6 125 91 125 125 125 125 125 125 125 125 136 45 13 45 45 45 45 45 45 45 45 45 5 108 45 3 3 3 6 5 108 3 3 3 6 5 108 3 19 6 33 5 108 3 3 6 45 5 11 5 90 6 125 125 24 49 47 50 106 5 90 6 5 5 3 90 90 90 6 6 125 5 5 3 90 90 90 90 6 6 125 91 125 125 125 125 136 45 24 47 49 50 45 45 45 13 54 54 45 67 67 67 67 67 67 67 67 67 67 67 67 67 67 67 67 67 67 67 67 67 67 67 67 67 126 67 67 67 67 67 67 67 45 5 45 108 45 3 3 6 5 108 45 3 19 6 122 45 45 107 107 107 106 5 55 89 89 89 107 6 107 106 5 55 89 89 89 89 89 89 107 6 107 106 5 55 89 89 89 89 89 107 6 107 106 5 55 89 89 89 107 6 107 106 5 55 89 89 89 89 89 89 89 89 89 89 89 89 89 89 89 89 89 89 89 89 89 89 89 89 89 89 89 89 89 89 107 6 107 106 5 55 89 89 89 89 89 89 89 89 89 89 107 6 107 106 5 55 89 89 89 89 89 89 89 89 107 6 45 20 64 24 5 108 45 3 19 6 65 41 55 63 6 54 20 57 126 54 126 55 67 54 106 13 5 108 45 3 6 106 5 108 3 6 45 45 54 55 67 13 49 49 126 126 126 54 126 67 5 108 45 19 3 19 6 54 54 54 45 24 5 108 45 3 19 6 106 126 54 54 126 67 67 67 45 4 3 4 3 4 3 4 126 54 126 67 67 67 67 106 106 106 106 106 106 80 126 2 57 126 126 126 54 126 126 126 114 126 54 126 54 126 126 126 126 126 67 13 49 49 126 126 126 126 126 54 126 67 126 54 54 126 67 67 67 4 4 3 126 54 126 67 67 67 67 4 4 67 106 5 4 6 126 54 126 57 1', 2695: '5 90 6 125 125 24 49 47 50 106 5 90 6 5 5 3 90 90 90 90 6 6 125 5 5 3 90 90 90 90 6 6 125 5 5 3 90 90 90 6 6 125 5 5 5 3 90 90 90 6 6 125 5 5 5 3 90 90 90 90 6 6 125 5 5 3 90 90 90 90 6 6 125 91 125 125 125 125 125 125 125 125 136 45 13 45 45 45 45 45 45 45 45 45 5 108 45 3 3 3 6 5 108 3 3 3 6 5 108 3 19 6 33 5 108 3 3 6 45 5 11 5 90 6 125 125 24 49 47 50 106 5 90 6 5 5 3 90 90 90 6 6 125 5 5 3 90 90 90 90 6 6 125 91 125 125 125 125 136 45 24 47 49 50 45 45 45 13 54 54 45 67 67 67 67 67 67 67 67 67 67 67 67 67 67 67 67 67 67 67 67 67 67 67 67 67 126 67 67 67 67 67 67 67 45 5 45 108 45 3 3 6 5 108 45 3 19 6 122 45 45 107 107 107 106 5 55 89 89 89 89 89 89 107 6 107 106 5 55 89 89 89 89 89 89 89 89 89 89 89 89 89 89 89 89 89 89 89 89 89 89 89 89 89 89 89 89 89 89 107 6 107 106 5 55 89 89 89 89 89 89 89 89 89 89 107 6 107 106 5 55 89 89 89 89 89 89 89 89 107 6 20 45 64 24 5 108 45 3 19 6 65 41 55 63 6 54 20 57 126 54 126 55 67 54 106 13 5 108 45 3 6 106 5 108 3 6 45 45 54 55 67 13 49 49 126 126 126 54 126 67 5 108 45 19 3 19 6 54 54 54 45 24 5 108 45 3 19 6 106 126 54 54 126 67 67 67 45 4 3 4 3 4 3 4 126 54 126 67 67 67 67 106 106 106 106 106 106 80 126 2 57 126 126 126 54 126 126 126 114 126 54 126 54 126 126 126 126 126 67 13 49 49 126 126 126 126 126 54 126 67 126 54 54 126 67 67 67 4 4 3 126 54 126 67 67 67 67 4 4 67 106 5 4 6 126 54 126 57 1'}\n"
          ]
        }
      ]
    },
    {
      "cell_type": "code",
      "metadata": {
        "colab": {
          "base_uri": "https://localhost:8080/",
          "height": 436
        },
        "id": "ph244VM5_86n",
        "outputId": "90371804-b1bc-4ad4-81d5-07ac46d0a41c"
      },
      "source": [
        "## Parse an entire Syscall seq per PID into smaller sequences of size 15\n",
        "def parse_seq(seq_per_pid):\n",
        "  sequences = pd.DataFrame()\n",
        "  for p in seq_per_pid:\n",
        "    token = word_tokenize(seq_per_pid[p])  # Tokenize the string of sequence\n",
        "\n",
        "    # Parse the sequence into length of 15\n",
        "    sequences=sequences.append(list(nltk.ngrams(token,15)))\n",
        "    #print('PID %d - seq len: %d'% (p, len(sequences)))\n",
        "  return sequences\n",
        "\n",
        "normal = parse_seq(normal_seq_per_pid)\n",
        "print('Parsing Intrusion')\n",
        "intrusion = parse_seq(intrusion_seq_per_pid)\n",
        "normal"
      ],
      "execution_count": 123,
      "outputs": [
        {
          "output_type": "stream",
          "name": "stdout",
          "text": [
            "Parsing Intrusion\n"
          ]
        },
        {
          "output_type": "execute_result",
          "data": {
            "text/html": [
              "<div>\n",
              "<style scoped>\n",
              "    .dataframe tbody tr th:only-of-type {\n",
              "        vertical-align: middle;\n",
              "    }\n",
              "\n",
              "    .dataframe tbody tr th {\n",
              "        vertical-align: top;\n",
              "    }\n",
              "\n",
              "    .dataframe thead th {\n",
              "        text-align: right;\n",
              "    }\n",
              "</style>\n",
              "<table border=\"1\" class=\"dataframe\">\n",
              "  <thead>\n",
              "    <tr style=\"text-align: right;\">\n",
              "      <th></th>\n",
              "      <th>0</th>\n",
              "      <th>1</th>\n",
              "      <th>2</th>\n",
              "      <th>3</th>\n",
              "      <th>4</th>\n",
              "      <th>5</th>\n",
              "      <th>6</th>\n",
              "      <th>7</th>\n",
              "      <th>8</th>\n",
              "      <th>9</th>\n",
              "      <th>10</th>\n",
              "      <th>11</th>\n",
              "      <th>12</th>\n",
              "      <th>13</th>\n",
              "      <th>14</th>\n",
              "    </tr>\n",
              "  </thead>\n",
              "  <tbody>\n",
              "    <tr>\n",
              "      <th>0</th>\n",
              "      <td>5</td>\n",
              "      <td>90</td>\n",
              "      <td>6</td>\n",
              "      <td>125</td>\n",
              "      <td>125</td>\n",
              "      <td>24</td>\n",
              "      <td>49</td>\n",
              "      <td>47</td>\n",
              "      <td>50</td>\n",
              "      <td>106</td>\n",
              "      <td>5</td>\n",
              "      <td>90</td>\n",
              "      <td>6</td>\n",
              "      <td>5</td>\n",
              "      <td>5</td>\n",
              "    </tr>\n",
              "    <tr>\n",
              "      <th>1</th>\n",
              "      <td>90</td>\n",
              "      <td>6</td>\n",
              "      <td>125</td>\n",
              "      <td>125</td>\n",
              "      <td>24</td>\n",
              "      <td>49</td>\n",
              "      <td>47</td>\n",
              "      <td>50</td>\n",
              "      <td>106</td>\n",
              "      <td>5</td>\n",
              "      <td>90</td>\n",
              "      <td>6</td>\n",
              "      <td>5</td>\n",
              "      <td>5</td>\n",
              "      <td>3</td>\n",
              "    </tr>\n",
              "    <tr>\n",
              "      <th>2</th>\n",
              "      <td>6</td>\n",
              "      <td>125</td>\n",
              "      <td>125</td>\n",
              "      <td>24</td>\n",
              "      <td>49</td>\n",
              "      <td>47</td>\n",
              "      <td>50</td>\n",
              "      <td>106</td>\n",
              "      <td>5</td>\n",
              "      <td>90</td>\n",
              "      <td>6</td>\n",
              "      <td>5</td>\n",
              "      <td>5</td>\n",
              "      <td>3</td>\n",
              "      <td>90</td>\n",
              "    </tr>\n",
              "    <tr>\n",
              "      <th>3</th>\n",
              "      <td>125</td>\n",
              "      <td>125</td>\n",
              "      <td>24</td>\n",
              "      <td>49</td>\n",
              "      <td>47</td>\n",
              "      <td>50</td>\n",
              "      <td>106</td>\n",
              "      <td>5</td>\n",
              "      <td>90</td>\n",
              "      <td>6</td>\n",
              "      <td>5</td>\n",
              "      <td>5</td>\n",
              "      <td>3</td>\n",
              "      <td>90</td>\n",
              "      <td>90</td>\n",
              "    </tr>\n",
              "    <tr>\n",
              "      <th>4</th>\n",
              "      <td>125</td>\n",
              "      <td>24</td>\n",
              "      <td>49</td>\n",
              "      <td>47</td>\n",
              "      <td>50</td>\n",
              "      <td>106</td>\n",
              "      <td>5</td>\n",
              "      <td>90</td>\n",
              "      <td>6</td>\n",
              "      <td>5</td>\n",
              "      <td>5</td>\n",
              "      <td>3</td>\n",
              "      <td>90</td>\n",
              "      <td>90</td>\n",
              "      <td>90</td>\n",
              "    </tr>\n",
              "    <tr>\n",
              "      <th>...</th>\n",
              "      <td>...</td>\n",
              "      <td>...</td>\n",
              "      <td>...</td>\n",
              "      <td>...</td>\n",
              "      <td>...</td>\n",
              "      <td>...</td>\n",
              "      <td>...</td>\n",
              "      <td>...</td>\n",
              "      <td>...</td>\n",
              "      <td>...</td>\n",
              "      <td>...</td>\n",
              "      <td>...</td>\n",
              "      <td>...</td>\n",
              "      <td>...</td>\n",
              "      <td>...</td>\n",
              "    </tr>\n",
              "    <tr>\n",
              "      <th>593</th>\n",
              "      <td>82</td>\n",
              "      <td>54</td>\n",
              "      <td>3</td>\n",
              "      <td>78</td>\n",
              "      <td>54</td>\n",
              "      <td>78</td>\n",
              "      <td>78</td>\n",
              "      <td>82</td>\n",
              "      <td>54</td>\n",
              "      <td>3</td>\n",
              "      <td>4</td>\n",
              "      <td>4</td>\n",
              "      <td>3</td>\n",
              "      <td>4</td>\n",
              "      <td>4</td>\n",
              "    </tr>\n",
              "    <tr>\n",
              "      <th>594</th>\n",
              "      <td>54</td>\n",
              "      <td>3</td>\n",
              "      <td>78</td>\n",
              "      <td>54</td>\n",
              "      <td>78</td>\n",
              "      <td>78</td>\n",
              "      <td>82</td>\n",
              "      <td>54</td>\n",
              "      <td>3</td>\n",
              "      <td>4</td>\n",
              "      <td>4</td>\n",
              "      <td>3</td>\n",
              "      <td>4</td>\n",
              "      <td>4</td>\n",
              "      <td>3</td>\n",
              "    </tr>\n",
              "    <tr>\n",
              "      <th>595</th>\n",
              "      <td>3</td>\n",
              "      <td>78</td>\n",
              "      <td>54</td>\n",
              "      <td>78</td>\n",
              "      <td>78</td>\n",
              "      <td>82</td>\n",
              "      <td>54</td>\n",
              "      <td>3</td>\n",
              "      <td>4</td>\n",
              "      <td>4</td>\n",
              "      <td>3</td>\n",
              "      <td>4</td>\n",
              "      <td>4</td>\n",
              "      <td>3</td>\n",
              "      <td>163</td>\n",
              "    </tr>\n",
              "    <tr>\n",
              "      <th>596</th>\n",
              "      <td>78</td>\n",
              "      <td>54</td>\n",
              "      <td>78</td>\n",
              "      <td>78</td>\n",
              "      <td>82</td>\n",
              "      <td>54</td>\n",
              "      <td>3</td>\n",
              "      <td>4</td>\n",
              "      <td>4</td>\n",
              "      <td>3</td>\n",
              "      <td>4</td>\n",
              "      <td>4</td>\n",
              "      <td>3</td>\n",
              "      <td>163</td>\n",
              "      <td>6</td>\n",
              "    </tr>\n",
              "    <tr>\n",
              "      <th>597</th>\n",
              "      <td>54</td>\n",
              "      <td>78</td>\n",
              "      <td>78</td>\n",
              "      <td>82</td>\n",
              "      <td>54</td>\n",
              "      <td>3</td>\n",
              "      <td>4</td>\n",
              "      <td>4</td>\n",
              "      <td>3</td>\n",
              "      <td>4</td>\n",
              "      <td>4</td>\n",
              "      <td>3</td>\n",
              "      <td>163</td>\n",
              "      <td>6</td>\n",
              "      <td>1</td>\n",
              "    </tr>\n",
              "  </tbody>\n",
              "</table>\n",
              "<p>24945 rows × 15 columns</p>\n",
              "</div>"
            ],
            "text/plain": [
              "      0    1    2    3    4    5    6    7    8    9   10  11   12   13   14\n",
              "0      5   90    6  125  125   24   49   47   50  106   5  90    6    5    5\n",
              "1     90    6  125  125   24   49   47   50  106    5  90   6    5    5    3\n",
              "2      6  125  125   24   49   47   50  106    5   90   6   5    5    3   90\n",
              "3    125  125   24   49   47   50  106    5   90    6   5   5    3   90   90\n",
              "4    125   24   49   47   50  106    5   90    6    5   5   3   90   90   90\n",
              "..   ...  ...  ...  ...  ...  ...  ...  ...  ...  ...  ..  ..  ...  ...  ...\n",
              "593   82   54    3   78   54   78   78   82   54    3   4   4    3    4    4\n",
              "594   54    3   78   54   78   78   82   54    3    4   4   3    4    4    3\n",
              "595    3   78   54   78   78   82   54    3    4    4   3   4    4    3  163\n",
              "596   78   54   78   78   82   54    3    4    4    3   4   4    3  163    6\n",
              "597   54   78   78   82   54    3    4    4    3    4   4   3  163    6    1\n",
              "\n",
              "[24945 rows x 15 columns]"
            ]
          },
          "metadata": {},
          "execution_count": 123
        }
      ]
    },
    {
      "cell_type": "code",
      "metadata": {
        "colab": {
          "base_uri": "https://localhost:8080/",
          "height": 419
        },
        "id": "oyAnefsOQiIU",
        "outputId": "cc17540e-9cdc-4caa-8fb9-efb1e3c10dbb"
      },
      "source": [
        "intrusion"
      ],
      "execution_count": 124,
      "outputs": [
        {
          "output_type": "execute_result",
          "data": {
            "text/html": [
              "<div>\n",
              "<style scoped>\n",
              "    .dataframe tbody tr th:only-of-type {\n",
              "        vertical-align: middle;\n",
              "    }\n",
              "\n",
              "    .dataframe tbody tr th {\n",
              "        vertical-align: top;\n",
              "    }\n",
              "\n",
              "    .dataframe thead th {\n",
              "        text-align: right;\n",
              "    }\n",
              "</style>\n",
              "<table border=\"1\" class=\"dataframe\">\n",
              "  <thead>\n",
              "    <tr style=\"text-align: right;\">\n",
              "      <th></th>\n",
              "      <th>0</th>\n",
              "      <th>1</th>\n",
              "      <th>2</th>\n",
              "      <th>3</th>\n",
              "      <th>4</th>\n",
              "      <th>5</th>\n",
              "      <th>6</th>\n",
              "      <th>7</th>\n",
              "      <th>8</th>\n",
              "      <th>9</th>\n",
              "      <th>10</th>\n",
              "      <th>11</th>\n",
              "      <th>12</th>\n",
              "      <th>13</th>\n",
              "      <th>14</th>\n",
              "    </tr>\n",
              "  </thead>\n",
              "  <tbody>\n",
              "    <tr>\n",
              "      <th>0</th>\n",
              "      <td>5</td>\n",
              "      <td>90</td>\n",
              "      <td>6</td>\n",
              "      <td>125</td>\n",
              "      <td>125</td>\n",
              "      <td>24</td>\n",
              "      <td>49</td>\n",
              "      <td>47</td>\n",
              "      <td>50</td>\n",
              "      <td>106</td>\n",
              "      <td>5</td>\n",
              "      <td>90</td>\n",
              "      <td>6</td>\n",
              "      <td>5</td>\n",
              "      <td>5</td>\n",
              "    </tr>\n",
              "    <tr>\n",
              "      <th>1</th>\n",
              "      <td>90</td>\n",
              "      <td>6</td>\n",
              "      <td>125</td>\n",
              "      <td>125</td>\n",
              "      <td>24</td>\n",
              "      <td>49</td>\n",
              "      <td>47</td>\n",
              "      <td>50</td>\n",
              "      <td>106</td>\n",
              "      <td>5</td>\n",
              "      <td>90</td>\n",
              "      <td>6</td>\n",
              "      <td>5</td>\n",
              "      <td>5</td>\n",
              "      <td>3</td>\n",
              "    </tr>\n",
              "    <tr>\n",
              "      <th>2</th>\n",
              "      <td>6</td>\n",
              "      <td>125</td>\n",
              "      <td>125</td>\n",
              "      <td>24</td>\n",
              "      <td>49</td>\n",
              "      <td>47</td>\n",
              "      <td>50</td>\n",
              "      <td>106</td>\n",
              "      <td>5</td>\n",
              "      <td>90</td>\n",
              "      <td>6</td>\n",
              "      <td>5</td>\n",
              "      <td>5</td>\n",
              "      <td>3</td>\n",
              "      <td>90</td>\n",
              "    </tr>\n",
              "    <tr>\n",
              "      <th>3</th>\n",
              "      <td>125</td>\n",
              "      <td>125</td>\n",
              "      <td>24</td>\n",
              "      <td>49</td>\n",
              "      <td>47</td>\n",
              "      <td>50</td>\n",
              "      <td>106</td>\n",
              "      <td>5</td>\n",
              "      <td>90</td>\n",
              "      <td>6</td>\n",
              "      <td>5</td>\n",
              "      <td>5</td>\n",
              "      <td>3</td>\n",
              "      <td>90</td>\n",
              "      <td>90</td>\n",
              "    </tr>\n",
              "    <tr>\n",
              "      <th>4</th>\n",
              "      <td>125</td>\n",
              "      <td>24</td>\n",
              "      <td>49</td>\n",
              "      <td>47</td>\n",
              "      <td>50</td>\n",
              "      <td>106</td>\n",
              "      <td>5</td>\n",
              "      <td>90</td>\n",
              "      <td>6</td>\n",
              "      <td>5</td>\n",
              "      <td>5</td>\n",
              "      <td>3</td>\n",
              "      <td>90</td>\n",
              "      <td>90</td>\n",
              "      <td>90</td>\n",
              "    </tr>\n",
              "    <tr>\n",
              "      <th>...</th>\n",
              "      <td>...</td>\n",
              "      <td>...</td>\n",
              "      <td>...</td>\n",
              "      <td>...</td>\n",
              "      <td>...</td>\n",
              "      <td>...</td>\n",
              "      <td>...</td>\n",
              "      <td>...</td>\n",
              "      <td>...</td>\n",
              "      <td>...</td>\n",
              "      <td>...</td>\n",
              "      <td>...</td>\n",
              "      <td>...</td>\n",
              "      <td>...</td>\n",
              "      <td>...</td>\n",
              "    </tr>\n",
              "    <tr>\n",
              "      <th>441</th>\n",
              "      <td>126</td>\n",
              "      <td>54</td>\n",
              "      <td>126</td>\n",
              "      <td>67</td>\n",
              "      <td>67</td>\n",
              "      <td>67</td>\n",
              "      <td>67</td>\n",
              "      <td>4</td>\n",
              "      <td>4</td>\n",
              "      <td>67</td>\n",
              "      <td>106</td>\n",
              "      <td>5</td>\n",
              "      <td>4</td>\n",
              "      <td>6</td>\n",
              "      <td>126</td>\n",
              "    </tr>\n",
              "    <tr>\n",
              "      <th>442</th>\n",
              "      <td>54</td>\n",
              "      <td>126</td>\n",
              "      <td>67</td>\n",
              "      <td>67</td>\n",
              "      <td>67</td>\n",
              "      <td>67</td>\n",
              "      <td>4</td>\n",
              "      <td>4</td>\n",
              "      <td>67</td>\n",
              "      <td>106</td>\n",
              "      <td>5</td>\n",
              "      <td>4</td>\n",
              "      <td>6</td>\n",
              "      <td>126</td>\n",
              "      <td>54</td>\n",
              "    </tr>\n",
              "    <tr>\n",
              "      <th>443</th>\n",
              "      <td>126</td>\n",
              "      <td>67</td>\n",
              "      <td>67</td>\n",
              "      <td>67</td>\n",
              "      <td>67</td>\n",
              "      <td>4</td>\n",
              "      <td>4</td>\n",
              "      <td>67</td>\n",
              "      <td>106</td>\n",
              "      <td>5</td>\n",
              "      <td>4</td>\n",
              "      <td>6</td>\n",
              "      <td>126</td>\n",
              "      <td>54</td>\n",
              "      <td>126</td>\n",
              "    </tr>\n",
              "    <tr>\n",
              "      <th>444</th>\n",
              "      <td>67</td>\n",
              "      <td>67</td>\n",
              "      <td>67</td>\n",
              "      <td>67</td>\n",
              "      <td>4</td>\n",
              "      <td>4</td>\n",
              "      <td>67</td>\n",
              "      <td>106</td>\n",
              "      <td>5</td>\n",
              "      <td>4</td>\n",
              "      <td>6</td>\n",
              "      <td>126</td>\n",
              "      <td>54</td>\n",
              "      <td>126</td>\n",
              "      <td>57</td>\n",
              "    </tr>\n",
              "    <tr>\n",
              "      <th>445</th>\n",
              "      <td>67</td>\n",
              "      <td>67</td>\n",
              "      <td>67</td>\n",
              "      <td>4</td>\n",
              "      <td>4</td>\n",
              "      <td>67</td>\n",
              "      <td>106</td>\n",
              "      <td>5</td>\n",
              "      <td>4</td>\n",
              "      <td>6</td>\n",
              "      <td>126</td>\n",
              "      <td>54</td>\n",
              "      <td>126</td>\n",
              "      <td>57</td>\n",
              "      <td>1</td>\n",
              "    </tr>\n",
              "  </tbody>\n",
              "</table>\n",
              "<p>921 rows × 15 columns</p>\n",
              "</div>"
            ],
            "text/plain": [
              "      0    1    2    3    4    5    6    7    8    9    10   11   12   13   14\n",
              "0      5   90    6  125  125   24   49   47   50  106    5   90    6    5    5\n",
              "1     90    6  125  125   24   49   47   50  106    5   90    6    5    5    3\n",
              "2      6  125  125   24   49   47   50  106    5   90    6    5    5    3   90\n",
              "3    125  125   24   49   47   50  106    5   90    6    5    5    3   90   90\n",
              "4    125   24   49   47   50  106    5   90    6    5    5    3   90   90   90\n",
              "..   ...  ...  ...  ...  ...  ...  ...  ...  ...  ...  ...  ...  ...  ...  ...\n",
              "441  126   54  126   67   67   67   67    4    4   67  106    5    4    6  126\n",
              "442   54  126   67   67   67   67    4    4   67  106    5    4    6  126   54\n",
              "443  126   67   67   67   67    4    4   67  106    5    4    6  126   54  126\n",
              "444   67   67   67   67    4    4   67  106    5    4    6  126   54  126   57\n",
              "445   67   67   67    4    4   67  106    5    4    6  126   54  126   57    1\n",
              "\n",
              "[921 rows x 15 columns]"
            ]
          },
          "metadata": {},
          "execution_count": 124
        }
      ]
    },
    {
      "cell_type": "markdown",
      "metadata": {
        "id": "RE-KOfLEESHE"
      },
      "source": [
        "> ## **EDA - Histogram of original data**\n",
        "\n"
      ]
    },
    {
      "cell_type": "markdown",
      "metadata": {
        "id": "z-ze-8EJlT1V"
      },
      "source": [
        "plt.figure(figsize=(20,6))\n",
        "plt.hist(normal['Syscall'], label='Normal', alpha=0.6, density=True)\n",
        "plt.hist(intrusion['Syscall'], label='Intrusion', color='tomato', alpha=0.6, density=True)\n",
        "plt.legend()\n",
        "plt.ylabel('Proportions')\n",
        "plt.xlabel('Syscall num')\n",
        "plt.grid(axis='y', alpha=0.75)\n",
        "plt.xticks(np.arange(0,200,10))\n",
        "plt.title('An Overlaid Histogram of Syscall Proportions in Normal and Intrusion Data from ' + DATA,y=1.02, fontsize=15)\n",
        "plt.show()"
      ]
    },
    {
      "cell_type": "markdown",
      "metadata": {
        "id": "5WjkWBLbqW3u"
      },
      "source": [
        "Start tokenizing system calls into 6-grams"
      ]
    },
    {
      "cell_type": "markdown",
      "metadata": {
        "id": "RkS0UxQVQ3bP"
      },
      "source": [
        "## Convert elements in Syscall col into strings of NORMAL sequences\n",
        "syscall_names = normal.to_string(columns = ['Syscall'], index=False, header = False)\n",
        "token = word_tokenize(syscall_names)  # Tokenize the string of sequence\n",
        "\n",
        "# Parse the sequence into length of 6\n",
        "sequence_list = list(nltk.ngrams(token,6))\n",
        "normal_sequence = pd.DataFrame(sequence_list)\n",
        "\n",
        "\n",
        "## Convert elements in Syscall col into strings of INTRUSION sequences\n",
        "syscall_names = intrusion.to_string(columns = ['Syscall'], index=False, header = False)\n",
        "token = word_tokenize(syscall_names)  # Tokenize the string of sequence\n",
        "\n",
        "# Parse the sequence into length of 6\n",
        "sequence_list = list(nltk.ngrams(token,6)) \n",
        "intrusion_sequence = pd.DataFrame(sequence_list)\n",
        "\n",
        "\n",
        "normal = normal_sequence.astype('int32')\n",
        "intrusion = intrusion_sequence.astype('int32')\n",
        "\n",
        "print('Normal shape:', normal.shape)\n",
        "print('Intrusion shape:', intrusion.shape)"
      ]
    },
    {
      "cell_type": "markdown",
      "metadata": {
        "id": "376udEA5GdPB"
      },
      "source": [
        " ## **Data Cleaning**\n",
        " Remove rows that exist in both normal and intrusion df\n",
        "\n"
      ]
    },
    {
      "cell_type": "code",
      "metadata": {
        "colab": {
          "base_uri": "https://localhost:8080/"
        },
        "id": "HdvbPMAOl-Cn",
        "outputId": "a6fb1c7d-49f9-427d-f32d-e4ba27abcb53"
      },
      "source": [
        "## Get % of duplicates in both datasets\n",
        "\n",
        "# Convert normal df to set, and intrusion df to set\n",
        "normal_list = normal.values.tolist()\n",
        "intrusion_list = intrusion.values.tolist()\n",
        "normal_set = set(tuple(i) for i in normal_list)\n",
        "intrusion_set = set(tuple(i) for i in intrusion_list)\n",
        "print('List sz vs. Set sz of normal sequences: %d vs. %d'% (len(normal_list),len(normal_set)) )\n",
        "print('List sz vs. Set sz of intrusion sequences: %d vs. %d'% (len(intrusion_list),len(intrusion_set)) )\n",
        "\n",
        "# Only remove intrusion sequences that exist in normal set because these sequences are just general actions which should not be labelled intrusion\n",
        "c_intrusion = intrusion_set - normal_set\n",
        "#c_normal = normal_set - intrusion_set\n",
        "if len(c_intrusion) == 0 and len(c_normal) == 0:\n",
        "  print(DATA+' No Duplication!')\n",
        "if len(c_intrusion) > 0:\n",
        "  intrusion = pd.DataFrame(c_intrusion)\n",
        "else:\n",
        "  intrusion = pd.DataFrame(intrusion_set)\n",
        "\n",
        "#if len(c_normal) > 0:\n",
        "#  normal = pd.DataFrame(c_normal)\n",
        "#else:\n",
        "normal = pd.DataFrame(normal_set)\n",
        "\n",
        "print('After cleaning: \\nNormal sz:', len(normal), ' Intrusion sz:', len(c_intrusion) )"
      ],
      "execution_count": 125,
      "outputs": [
        {
          "output_type": "stream",
          "name": "stdout",
          "text": [
            "List sz vs. Set sz of normal sequences: 24945 vs. 1486\n",
            "List sz vs. Set sz of intrusion sequences: 921 vs. 428\n",
            "After cleaning: \n",
            "Normal sz: 1486  Intrusion sz: 347\n"
          ]
        }
      ]
    },
    {
      "cell_type": "code",
      "metadata": {
        "colab": {
          "base_uri": "https://localhost:8080/",
          "height": 419
        },
        "id": "MuylikQOw7da",
        "outputId": "41bd454a-d169-4db0-bb9e-9b7f44e48b49"
      },
      "source": [
        "normal"
      ],
      "execution_count": 126,
      "outputs": [
        {
          "output_type": "execute_result",
          "data": {
            "text/html": [
              "<div>\n",
              "<style scoped>\n",
              "    .dataframe tbody tr th:only-of-type {\n",
              "        vertical-align: middle;\n",
              "    }\n",
              "\n",
              "    .dataframe tbody tr th {\n",
              "        vertical-align: top;\n",
              "    }\n",
              "\n",
              "    .dataframe thead th {\n",
              "        text-align: right;\n",
              "    }\n",
              "</style>\n",
              "<table border=\"1\" class=\"dataframe\">\n",
              "  <thead>\n",
              "    <tr style=\"text-align: right;\">\n",
              "      <th></th>\n",
              "      <th>0</th>\n",
              "      <th>1</th>\n",
              "      <th>2</th>\n",
              "      <th>3</th>\n",
              "      <th>4</th>\n",
              "      <th>5</th>\n",
              "      <th>6</th>\n",
              "      <th>7</th>\n",
              "      <th>8</th>\n",
              "      <th>9</th>\n",
              "      <th>10</th>\n",
              "      <th>11</th>\n",
              "      <th>12</th>\n",
              "      <th>13</th>\n",
              "      <th>14</th>\n",
              "    </tr>\n",
              "  </thead>\n",
              "  <tbody>\n",
              "    <tr>\n",
              "      <th>0</th>\n",
              "      <td>82</td>\n",
              "      <td>119</td>\n",
              "      <td>4</td>\n",
              "      <td>3</td>\n",
              "      <td>78</td>\n",
              "      <td>82</td>\n",
              "      <td>54</td>\n",
              "      <td>3</td>\n",
              "      <td>54</td>\n",
              "      <td>78</td>\n",
              "      <td>54</td>\n",
              "      <td>78</td>\n",
              "      <td>78</td>\n",
              "      <td>82</td>\n",
              "      <td>54</td>\n",
              "    </tr>\n",
              "    <tr>\n",
              "      <th>1</th>\n",
              "      <td>4</td>\n",
              "      <td>3</td>\n",
              "      <td>4</td>\n",
              "      <td>78</td>\n",
              "      <td>4</td>\n",
              "      <td>3</td>\n",
              "      <td>3</td>\n",
              "      <td>3</td>\n",
              "      <td>78</td>\n",
              "      <td>54</td>\n",
              "      <td>78</td>\n",
              "      <td>78</td>\n",
              "      <td>104</td>\n",
              "      <td>82</td>\n",
              "      <td>54</td>\n",
              "    </tr>\n",
              "    <tr>\n",
              "      <th>2</th>\n",
              "      <td>3</td>\n",
              "      <td>3</td>\n",
              "      <td>78</td>\n",
              "      <td>54</td>\n",
              "      <td>78</td>\n",
              "      <td>78</td>\n",
              "      <td>104</td>\n",
              "      <td>82</td>\n",
              "      <td>54</td>\n",
              "      <td>3</td>\n",
              "      <td>78</td>\n",
              "      <td>54</td>\n",
              "      <td>78</td>\n",
              "      <td>78</td>\n",
              "      <td>82</td>\n",
              "    </tr>\n",
              "    <tr>\n",
              "      <th>3</th>\n",
              "      <td>119</td>\n",
              "      <td>4</td>\n",
              "      <td>3</td>\n",
              "      <td>78</td>\n",
              "      <td>82</td>\n",
              "      <td>119</td>\n",
              "      <td>54</td>\n",
              "      <td>3</td>\n",
              "      <td>4</td>\n",
              "      <td>119</td>\n",
              "      <td>119</td>\n",
              "      <td>119</td>\n",
              "      <td>4</td>\n",
              "      <td>3</td>\n",
              "      <td>119</td>\n",
              "    </tr>\n",
              "    <tr>\n",
              "      <th>4</th>\n",
              "      <td>3</td>\n",
              "      <td>4</td>\n",
              "      <td>54</td>\n",
              "      <td>3</td>\n",
              "      <td>54</td>\n",
              "      <td>78</td>\n",
              "      <td>104</td>\n",
              "      <td>82</td>\n",
              "      <td>54</td>\n",
              "      <td>3</td>\n",
              "      <td>54</td>\n",
              "      <td>78</td>\n",
              "      <td>82</td>\n",
              "      <td>54</td>\n",
              "      <td>3</td>\n",
              "    </tr>\n",
              "    <tr>\n",
              "      <th>...</th>\n",
              "      <td>...</td>\n",
              "      <td>...</td>\n",
              "      <td>...</td>\n",
              "      <td>...</td>\n",
              "      <td>...</td>\n",
              "      <td>...</td>\n",
              "      <td>...</td>\n",
              "      <td>...</td>\n",
              "      <td>...</td>\n",
              "      <td>...</td>\n",
              "      <td>...</td>\n",
              "      <td>...</td>\n",
              "      <td>...</td>\n",
              "      <td>...</td>\n",
              "      <td>...</td>\n",
              "    </tr>\n",
              "    <tr>\n",
              "      <th>1481</th>\n",
              "      <td>4</td>\n",
              "      <td>3</td>\n",
              "      <td>4</td>\n",
              "      <td>54</td>\n",
              "      <td>3</td>\n",
              "      <td>54</td>\n",
              "      <td>78</td>\n",
              "      <td>104</td>\n",
              "      <td>82</td>\n",
              "      <td>54</td>\n",
              "      <td>3</td>\n",
              "      <td>54</td>\n",
              "      <td>78</td>\n",
              "      <td>82</td>\n",
              "      <td>54</td>\n",
              "    </tr>\n",
              "    <tr>\n",
              "      <th>1482</th>\n",
              "      <td>3</td>\n",
              "      <td>82</td>\n",
              "      <td>119</td>\n",
              "      <td>4</td>\n",
              "      <td>3</td>\n",
              "      <td>3</td>\n",
              "      <td>3</td>\n",
              "      <td>3</td>\n",
              "      <td>4</td>\n",
              "      <td>3</td>\n",
              "      <td>3</td>\n",
              "      <td>3</td>\n",
              "      <td>4</td>\n",
              "      <td>3</td>\n",
              "      <td>4</td>\n",
              "    </tr>\n",
              "    <tr>\n",
              "      <th>1483</th>\n",
              "      <td>4</td>\n",
              "      <td>3</td>\n",
              "      <td>78</td>\n",
              "      <td>82</td>\n",
              "      <td>119</td>\n",
              "      <td>4</td>\n",
              "      <td>3</td>\n",
              "      <td>78</td>\n",
              "      <td>82</td>\n",
              "      <td>54</td>\n",
              "      <td>3</td>\n",
              "      <td>78</td>\n",
              "      <td>54</td>\n",
              "      <td>78</td>\n",
              "      <td>54</td>\n",
              "    </tr>\n",
              "    <tr>\n",
              "      <th>1484</th>\n",
              "      <td>3</td>\n",
              "      <td>3</td>\n",
              "      <td>3</td>\n",
              "      <td>4</td>\n",
              "      <td>54</td>\n",
              "      <td>78</td>\n",
              "      <td>104</td>\n",
              "      <td>82</td>\n",
              "      <td>119</td>\n",
              "      <td>4</td>\n",
              "      <td>3</td>\n",
              "      <td>82</td>\n",
              "      <td>119</td>\n",
              "      <td>4</td>\n",
              "      <td>3</td>\n",
              "    </tr>\n",
              "    <tr>\n",
              "      <th>1485</th>\n",
              "      <td>3</td>\n",
              "      <td>78</td>\n",
              "      <td>82</td>\n",
              "      <td>119</td>\n",
              "      <td>4</td>\n",
              "      <td>3</td>\n",
              "      <td>78</td>\n",
              "      <td>82</td>\n",
              "      <td>119</td>\n",
              "      <td>4</td>\n",
              "      <td>3</td>\n",
              "      <td>78</td>\n",
              "      <td>82</td>\n",
              "      <td>54</td>\n",
              "      <td>3</td>\n",
              "    </tr>\n",
              "  </tbody>\n",
              "</table>\n",
              "<p>1486 rows × 15 columns</p>\n",
              "</div>"
            ],
            "text/plain": [
              "       0    1    2    3    4    5    6    7    8    9    10   11   12  13   14\n",
              "0      82  119    4    3   78   82   54    3   54   78   54   78   78  82   54\n",
              "1       4    3    4   78    4    3    3    3   78   54   78   78  104  82   54\n",
              "2       3    3   78   54   78   78  104   82   54    3   78   54   78  78   82\n",
              "3     119    4    3   78   82  119   54    3    4  119  119  119    4   3  119\n",
              "4       3    4   54    3   54   78  104   82   54    3   54   78   82  54    3\n",
              "...   ...  ...  ...  ...  ...  ...  ...  ...  ...  ...  ...  ...  ...  ..  ...\n",
              "1481    4    3    4   54    3   54   78  104   82   54    3   54   78  82   54\n",
              "1482    3   82  119    4    3    3    3    3    4    3    3    3    4   3    4\n",
              "1483    4    3   78   82  119    4    3   78   82   54    3   78   54  78   54\n",
              "1484    3    3    3    4   54   78  104   82  119    4    3   82  119   4    3\n",
              "1485    3   78   82  119    4    3   78   82  119    4    3   78   82  54    3\n",
              "\n",
              "[1486 rows x 15 columns]"
            ]
          },
          "metadata": {},
          "execution_count": 126
        }
      ]
    },
    {
      "cell_type": "code",
      "metadata": {
        "id": "_b5U4P_HrSEm",
        "colab": {
          "base_uri": "https://localhost:8080/",
          "height": 419
        },
        "outputId": "1183403d-8ecd-4545-ff46-641fbaaf445c"
      },
      "source": [
        "intrusion"
      ],
      "execution_count": 127,
      "outputs": [
        {
          "output_type": "execute_result",
          "data": {
            "text/html": [
              "<div>\n",
              "<style scoped>\n",
              "    .dataframe tbody tr th:only-of-type {\n",
              "        vertical-align: middle;\n",
              "    }\n",
              "\n",
              "    .dataframe tbody tr th {\n",
              "        vertical-align: top;\n",
              "    }\n",
              "\n",
              "    .dataframe thead th {\n",
              "        text-align: right;\n",
              "    }\n",
              "</style>\n",
              "<table border=\"1\" class=\"dataframe\">\n",
              "  <thead>\n",
              "    <tr style=\"text-align: right;\">\n",
              "      <th></th>\n",
              "      <th>0</th>\n",
              "      <th>1</th>\n",
              "      <th>2</th>\n",
              "      <th>3</th>\n",
              "      <th>4</th>\n",
              "      <th>5</th>\n",
              "      <th>6</th>\n",
              "      <th>7</th>\n",
              "      <th>8</th>\n",
              "      <th>9</th>\n",
              "      <th>10</th>\n",
              "      <th>11</th>\n",
              "      <th>12</th>\n",
              "      <th>13</th>\n",
              "      <th>14</th>\n",
              "    </tr>\n",
              "  </thead>\n",
              "  <tbody>\n",
              "    <tr>\n",
              "      <th>0</th>\n",
              "      <td>126</td>\n",
              "      <td>126</td>\n",
              "      <td>126</td>\n",
              "      <td>114</td>\n",
              "      <td>126</td>\n",
              "      <td>54</td>\n",
              "      <td>126</td>\n",
              "      <td>54</td>\n",
              "      <td>126</td>\n",
              "      <td>126</td>\n",
              "      <td>126</td>\n",
              "      <td>126</td>\n",
              "      <td>126</td>\n",
              "      <td>67</td>\n",
              "      <td>13</td>\n",
              "    </tr>\n",
              "    <tr>\n",
              "      <th>1</th>\n",
              "      <td>5</td>\n",
              "      <td>3</td>\n",
              "      <td>90</td>\n",
              "      <td>90</td>\n",
              "      <td>90</td>\n",
              "      <td>6</td>\n",
              "      <td>6</td>\n",
              "      <td>125</td>\n",
              "      <td>5</td>\n",
              "      <td>5</td>\n",
              "      <td>3</td>\n",
              "      <td>90</td>\n",
              "      <td>90</td>\n",
              "      <td>90</td>\n",
              "      <td>90</td>\n",
              "    </tr>\n",
              "    <tr>\n",
              "      <th>2</th>\n",
              "      <td>67</td>\n",
              "      <td>45</td>\n",
              "      <td>5</td>\n",
              "      <td>45</td>\n",
              "      <td>108</td>\n",
              "      <td>45</td>\n",
              "      <td>3</td>\n",
              "      <td>3</td>\n",
              "      <td>6</td>\n",
              "      <td>5</td>\n",
              "      <td>108</td>\n",
              "      <td>45</td>\n",
              "      <td>3</td>\n",
              "      <td>19</td>\n",
              "      <td>6</td>\n",
              "    </tr>\n",
              "    <tr>\n",
              "      <th>3</th>\n",
              "      <td>45</td>\n",
              "      <td>13</td>\n",
              "      <td>54</td>\n",
              "      <td>54</td>\n",
              "      <td>45</td>\n",
              "      <td>67</td>\n",
              "      <td>67</td>\n",
              "      <td>67</td>\n",
              "      <td>67</td>\n",
              "      <td>67</td>\n",
              "      <td>67</td>\n",
              "      <td>67</td>\n",
              "      <td>67</td>\n",
              "      <td>67</td>\n",
              "      <td>67</td>\n",
              "    </tr>\n",
              "    <tr>\n",
              "      <th>4</th>\n",
              "      <td>126</td>\n",
              "      <td>54</td>\n",
              "      <td>126</td>\n",
              "      <td>67</td>\n",
              "      <td>67</td>\n",
              "      <td>67</td>\n",
              "      <td>67</td>\n",
              "      <td>4</td>\n",
              "      <td>4</td>\n",
              "      <td>67</td>\n",
              "      <td>106</td>\n",
              "      <td>5</td>\n",
              "      <td>4</td>\n",
              "      <td>6</td>\n",
              "      <td>126</td>\n",
              "    </tr>\n",
              "    <tr>\n",
              "      <th>...</th>\n",
              "      <td>...</td>\n",
              "      <td>...</td>\n",
              "      <td>...</td>\n",
              "      <td>...</td>\n",
              "      <td>...</td>\n",
              "      <td>...</td>\n",
              "      <td>...</td>\n",
              "      <td>...</td>\n",
              "      <td>...</td>\n",
              "      <td>...</td>\n",
              "      <td>...</td>\n",
              "      <td>...</td>\n",
              "      <td>...</td>\n",
              "      <td>...</td>\n",
              "      <td>...</td>\n",
              "    </tr>\n",
              "    <tr>\n",
              "      <th>342</th>\n",
              "      <td>6</td>\n",
              "      <td>33</td>\n",
              "      <td>5</td>\n",
              "      <td>108</td>\n",
              "      <td>3</td>\n",
              "      <td>3</td>\n",
              "      <td>6</td>\n",
              "      <td>45</td>\n",
              "      <td>5</td>\n",
              "      <td>11</td>\n",
              "      <td>5</td>\n",
              "      <td>90</td>\n",
              "      <td>6</td>\n",
              "      <td>125</td>\n",
              "      <td>125</td>\n",
              "    </tr>\n",
              "    <tr>\n",
              "      <th>343</th>\n",
              "      <td>54</td>\n",
              "      <td>55</td>\n",
              "      <td>67</td>\n",
              "      <td>13</td>\n",
              "      <td>49</td>\n",
              "      <td>49</td>\n",
              "      <td>126</td>\n",
              "      <td>126</td>\n",
              "      <td>126</td>\n",
              "      <td>54</td>\n",
              "      <td>126</td>\n",
              "      <td>67</td>\n",
              "      <td>5</td>\n",
              "      <td>108</td>\n",
              "      <td>45</td>\n",
              "    </tr>\n",
              "    <tr>\n",
              "      <th>344</th>\n",
              "      <td>89</td>\n",
              "      <td>89</td>\n",
              "      <td>89</td>\n",
              "      <td>89</td>\n",
              "      <td>89</td>\n",
              "      <td>89</td>\n",
              "      <td>107</td>\n",
              "      <td>6</td>\n",
              "      <td>107</td>\n",
              "      <td>106</td>\n",
              "      <td>5</td>\n",
              "      <td>55</td>\n",
              "      <td>89</td>\n",
              "      <td>89</td>\n",
              "      <td>89</td>\n",
              "    </tr>\n",
              "    <tr>\n",
              "      <th>345</th>\n",
              "      <td>24</td>\n",
              "      <td>47</td>\n",
              "      <td>49</td>\n",
              "      <td>50</td>\n",
              "      <td>45</td>\n",
              "      <td>45</td>\n",
              "      <td>45</td>\n",
              "      <td>13</td>\n",
              "      <td>54</td>\n",
              "      <td>54</td>\n",
              "      <td>45</td>\n",
              "      <td>67</td>\n",
              "      <td>67</td>\n",
              "      <td>67</td>\n",
              "      <td>67</td>\n",
              "    </tr>\n",
              "    <tr>\n",
              "      <th>346</th>\n",
              "      <td>67</td>\n",
              "      <td>45</td>\n",
              "      <td>4</td>\n",
              "      <td>3</td>\n",
              "      <td>4</td>\n",
              "      <td>3</td>\n",
              "      <td>4</td>\n",
              "      <td>3</td>\n",
              "      <td>4</td>\n",
              "      <td>126</td>\n",
              "      <td>54</td>\n",
              "      <td>126</td>\n",
              "      <td>67</td>\n",
              "      <td>67</td>\n",
              "      <td>67</td>\n",
              "    </tr>\n",
              "  </tbody>\n",
              "</table>\n",
              "<p>347 rows × 15 columns</p>\n",
              "</div>"
            ],
            "text/plain": [
              "      0    1    2    3    4   5    6    7    8    9    10   11   12   13   14\n",
              "0    126  126  126  114  126  54  126   54  126  126  126  126  126   67   13\n",
              "1      5    3   90   90   90   6    6  125    5    5    3   90   90   90   90\n",
              "2     67   45    5   45  108  45    3    3    6    5  108   45    3   19    6\n",
              "3     45   13   54   54   45  67   67   67   67   67   67   67   67   67   67\n",
              "4    126   54  126   67   67  67   67    4    4   67  106    5    4    6  126\n",
              "..   ...  ...  ...  ...  ...  ..  ...  ...  ...  ...  ...  ...  ...  ...  ...\n",
              "342    6   33    5  108    3   3    6   45    5   11    5   90    6  125  125\n",
              "343   54   55   67   13   49  49  126  126  126   54  126   67    5  108   45\n",
              "344   89   89   89   89   89  89  107    6  107  106    5   55   89   89   89\n",
              "345   24   47   49   50   45  45   45   13   54   54   45   67   67   67   67\n",
              "346   67   45    4    3    4   3    4    3    4  126   54  126   67   67   67\n",
              "\n",
              "[347 rows x 15 columns]"
            ]
          },
          "metadata": {},
          "execution_count": 127
        }
      ]
    },
    {
      "cell_type": "markdown",
      "metadata": {
        "id": "8GMYBPNarqFf"
      },
      "source": [
        "## **Histogram of Processed Data**"
      ]
    },
    {
      "cell_type": "code",
      "metadata": {
        "id": "CB8QSEMJ4h0b",
        "colab": {
          "base_uri": "https://localhost:8080/",
          "height": 413
        },
        "outputId": "9e099e59-6509-415e-f3ef-f4158f7d0a4f"
      },
      "source": [
        "# After Cleaning\n",
        "plt.figure(figsize=(20,6))\n",
        "plt.hist(normal[0], label='Normal', alpha=0.6, density=True)\n",
        "plt.hist(intrusion[0], label='Intrusion', color='tomato', alpha=0.6, density=True)\n",
        "plt.legend()\n",
        "plt.ylabel('Proportions')\n",
        "plt.xlabel('Syscall num')\n",
        "plt.grid(axis='y', alpha=0.75)\n",
        "#plt.xticks(np.arange(0,200,10))\n",
        "plt.title('An Overlaid Histogram of Syscall Proportions in Normal and Intrusion Data from ' + DATA,y=1.02, fontsize=15)\n",
        "plt.show()"
      ],
      "execution_count": 128,
      "outputs": [
        {
          "output_type": "display_data",
          "data": {
            "image/png": "[encoded data removed]",
            "text/plain": [
              "<Figure size 1440x432 with 1 Axes>"
            ]
          },
          "metadata": {
            "needs_background": "light"
          }
        }
      ]
    },
    {
      "cell_type": "markdown",
      "metadata": {
        "id": "Qk_fLEaHr0SL"
      },
      "source": [
        "**Labeling Sequences**"
      ]
    },
    {
      "cell_type": "code",
      "metadata": {
        "id": "0KILRKFiA2EV",
        "colab": {
          "base_uri": "https://localhost:8080/"
        },
        "outputId": "f6214e3b-c1fe-4247-b3ac-eb100310067a"
      },
      "source": [
        "# Intrusion sequences is labeled 1. Rename columns of the dataframe\n",
        "intrusion['Label'] = 1\n",
        "#intrusion.rename(columns={0: 'Position1', 1: 'Position2', 2: 'Position3', 3: 'Position4',\n",
        "#                          4: 'Position5', 5: 'Position6'}, inplace=True)\n",
        "\n",
        "print(intrusion.head(5), '\\n')"
      ],
      "execution_count": 129,
      "outputs": [
        {
          "output_type": "stream",
          "name": "stdout",
          "text": [
            "     0    1    2    3    4   5    6  ...    9   10   11   12  13   14 Label\n",
            "0  126  126  126  114  126  54  126  ...  126  126  126  126  67   13     1\n",
            "1    5    3   90   90   90   6    6  ...    5    3   90   90  90   90     1\n",
            "2   67   45    5   45  108  45    3  ...    5  108   45    3  19    6     1\n",
            "3   45   13   54   54   45  67   67  ...   67   67   67   67  67   67     1\n",
            "4  126   54  126   67   67  67   67  ...   67  106    5    4   6  126     1\n",
            "\n",
            "[5 rows x 16 columns] \n",
            "\n"
          ]
        }
      ]
    },
    {
      "cell_type": "code",
      "metadata": {
        "id": "oN2KngnOyG5E",
        "colab": {
          "base_uri": "https://localhost:8080/"
        },
        "outputId": "2ad6f287-b5c3-43b5-d012-5fc22bbb71c1"
      },
      "source": [
        "# Normal sequences is labeled 0. Rename columns of the dataframe\n",
        "normal['Label'] = 0\n",
        "#normal.rename(columns={0: 'Position1', 1: 'Position2', 2: 'Position3', 3: 'Position4',\n",
        "#                        4: 'Position5', 5: 'Position6'}, inplace=True)\n",
        "print(normal.head(5), '\\n')\n",
        "\n",
        "print('Normal len:',len(normal),'\\nIntrusion len:', len(intrusion))"
      ],
      "execution_count": 130,
      "outputs": [
        {
          "output_type": "stream",
          "name": "stdout",
          "text": [
            "     0    1   2   3   4    5    6   7   8    9   10   11   12  13   14  Label\n",
            "0   82  119   4   3  78   82   54   3  54   78   54   78   78  82   54      0\n",
            "1    4    3   4  78   4    3    3   3  78   54   78   78  104  82   54      0\n",
            "2    3    3  78  54  78   78  104  82  54    3   78   54   78  78   82      0\n",
            "3  119    4   3  78  82  119   54   3   4  119  119  119    4   3  119      0\n",
            "4    3    4  54   3  54   78  104  82  54    3   54   78   82  54    3      0 \n",
            "\n",
            "Normal len: 1486 \n",
            "Intrusion len: 347\n"
          ]
        }
      ]
    },
    {
      "cell_type": "markdown",
      "metadata": {
        "id": "7ohcyx-nmoYj"
      },
      "source": [
        "## **Partition Training and Testing dataset 70/30**"
      ]
    },
    {
      "cell_type": "markdown",
      "metadata": {
        "id": "RQ7j7n01sZE1"
      },
      "source": [
        "If there is not enough data from either class, bootstrap to generate more data and create a balanced sample"
      ]
    },
    {
      "cell_type": "code",
      "metadata": {
        "colab": {
          "base_uri": "https://localhost:8080/",
          "height": 419
        },
        "id": "7WBq1xtaVawW",
        "outputId": "465d62a1-a2e0-4461-c6ed-c139458ee519"
      },
      "source": [
        "df.iloc[:, :-1]"
      ],
      "execution_count": 131,
      "outputs": [
        {
          "output_type": "execute_result",
          "data": {
            "text/html": [
              "<div>\n",
              "<style scoped>\n",
              "    .dataframe tbody tr th:only-of-type {\n",
              "        vertical-align: middle;\n",
              "    }\n",
              "\n",
              "    .dataframe tbody tr th {\n",
              "        vertical-align: top;\n",
              "    }\n",
              "\n",
              "    .dataframe thead th {\n",
              "        text-align: right;\n",
              "    }\n",
              "</style>\n",
              "<table border=\"1\" class=\"dataframe\">\n",
              "  <thead>\n",
              "    <tr style=\"text-align: right;\">\n",
              "      <th></th>\n",
              "      <th>PID</th>\n",
              "    </tr>\n",
              "  </thead>\n",
              "  <tbody>\n",
              "    <tr>\n",
              "      <th>0</th>\n",
              "      <td>1877</td>\n",
              "    </tr>\n",
              "    <tr>\n",
              "      <th>1</th>\n",
              "      <td>1877</td>\n",
              "    </tr>\n",
              "    <tr>\n",
              "      <th>2</th>\n",
              "      <td>1877</td>\n",
              "    </tr>\n",
              "    <tr>\n",
              "      <th>3</th>\n",
              "      <td>1877</td>\n",
              "    </tr>\n",
              "    <tr>\n",
              "      <th>4</th>\n",
              "      <td>1877</td>\n",
              "    </tr>\n",
              "    <tr>\n",
              "      <th>...</th>\n",
              "      <td>...</td>\n",
              "    </tr>\n",
              "    <tr>\n",
              "      <th>25220</th>\n",
              "      <td>1997</td>\n",
              "    </tr>\n",
              "    <tr>\n",
              "      <th>25221</th>\n",
              "      <td>1997</td>\n",
              "    </tr>\n",
              "    <tr>\n",
              "      <th>25222</th>\n",
              "      <td>1997</td>\n",
              "    </tr>\n",
              "    <tr>\n",
              "      <th>25223</th>\n",
              "      <td>1997</td>\n",
              "    </tr>\n",
              "    <tr>\n",
              "      <th>25224</th>\n",
              "      <td>1997</td>\n",
              "    </tr>\n",
              "  </tbody>\n",
              "</table>\n",
              "<p>25225 rows × 1 columns</p>\n",
              "</div>"
            ],
            "text/plain": [
              "        PID\n",
              "0      1877\n",
              "1      1877\n",
              "2      1877\n",
              "3      1877\n",
              "4      1877\n",
              "...     ...\n",
              "25220  1997\n",
              "25221  1997\n",
              "25222  1997\n",
              "25223  1997\n",
              "25224  1997\n",
              "\n",
              "[25225 rows x 1 columns]"
            ]
          },
          "metadata": {},
          "execution_count": 131
        }
      ]
    },
    {
      "cell_type": "code",
      "metadata": {
        "colab": {
          "base_uri": "https://localhost:8080/"
        },
        "id": "Dcj-XXjMZ57h",
        "outputId": "d440b56e-c386-4e14-d7b4-f2dac30f81ae"
      },
      "source": [
        "# combine normal and intrusion data and split them into training and testing sets\n",
        "df = normal.append(intrusion, ignore_index=True).astype(int)\n",
        "print('Df sz:', df.shape)\n",
        "\n",
        "# Spliting into training and testing\n",
        "x_train, x_test, y_train, y_test = train_test_split(df.iloc[:,:-1], df['Label'], test_size = 0.30, shuffle=True)\n",
        "\n",
        "# Reset index of training and testing sets\n",
        "x_train.reset_index(drop=True, inplace=True); y_train.reset_index(drop=True, inplace=True)\n",
        "x_test.reset_index(drop=True, inplace=True);  y_test.reset_index(drop=True, inplace=True)\n",
        "\n",
        "print('Train sz:',len(x_train), len(y_train))\n",
        "intrusion_train = y_train.loc[y_train == 1]\n",
        "normal_train = y_train.loc[y_train == 0]\n",
        "print('Train set: Intrusion vs. Normal cases', len(y_train.iloc[intrusion_train] ), len(y_train.iloc[normal_train] ))\n",
        "\n",
        "print('Test sz:', len(x_test), len(y_test))\n",
        "intrusion_test = y_test.loc[y_test == 1]\n",
        "normal_test = y_test.loc[y_test == 0]\n",
        "print('Test set: Intrusion vs. Normal cases', len(y_test.iloc[intrusion_test] ), len(y_test.iloc[normal_test] ))"
      ],
      "execution_count": 132,
      "outputs": [
        {
          "output_type": "stream",
          "name": "stdout",
          "text": [
            "Df sz: (1833, 16)\n",
            "Train sz: 1283 1283\n",
            "Train set: Intrusion vs. Normal cases 232 1051\n",
            "Test sz: 550 550\n",
            "Test set: Intrusion vs. Normal cases 115 435\n"
          ]
        }
      ]
    },
    {
      "cell_type": "code",
      "metadata": {
        "colab": {
          "base_uri": "https://localhost:8080/",
          "height": 419
        },
        "id": "c7NZyzbVcNTk",
        "outputId": "4e80052b-8c66-4d90-fc91-ca5b8a2dc8a8"
      },
      "source": [
        "# Bootstrap training data\n",
        "## Lived-name has more intrusion cases than normal cases (189 > 71) --> bootstrap normal cases only\n",
        "x_train['Label'] = y_train\n",
        "if len(intrusion_train) > len(normal_train):\n",
        "  x_train = x_train.iloc[intrusion_train.index].append(x_train.iloc[normal_train.index].sample(n = len(intrusion_train), replace=True), ignore_index=True) #upsampled normal data and add to train set\n",
        "else:\n",
        "  x_train = x_train.iloc[normal_train.index].append(x_train.iloc[intrusion_train.index].sample(n = len(normal_train), replace=True), ignore_index=True) #upsampled intrusion data and add to train set\n",
        "\n",
        "#x_train = x_train.append(x_train.sample(frac=1), ignore_index=True) # Bootstrap training data in case there is not enough data\n",
        "x_train = x_train.sample(frac=1) # Shuffle data\n",
        "x_train.reset_index(drop=True, inplace=True)\n",
        "y_train = x_train['Label']\n",
        "x_train.drop(columns='Label', inplace=True)\n",
        "x_train"
      ],
      "execution_count": 133,
      "outputs": [
        {
          "output_type": "execute_result",
          "data": {
            "text/html": [
              "<div>\n",
              "<style scoped>\n",
              "    .dataframe tbody tr th:only-of-type {\n",
              "        vertical-align: middle;\n",
              "    }\n",
              "\n",
              "    .dataframe tbody tr th {\n",
              "        vertical-align: top;\n",
              "    }\n",
              "\n",
              "    .dataframe thead th {\n",
              "        text-align: right;\n",
              "    }\n",
              "</style>\n",
              "<table border=\"1\" class=\"dataframe\">\n",
              "  <thead>\n",
              "    <tr style=\"text-align: right;\">\n",
              "      <th></th>\n",
              "      <th>0</th>\n",
              "      <th>1</th>\n",
              "      <th>2</th>\n",
              "      <th>3</th>\n",
              "      <th>4</th>\n",
              "      <th>5</th>\n",
              "      <th>6</th>\n",
              "      <th>7</th>\n",
              "      <th>8</th>\n",
              "      <th>9</th>\n",
              "      <th>10</th>\n",
              "      <th>11</th>\n",
              "      <th>12</th>\n",
              "      <th>13</th>\n",
              "      <th>14</th>\n",
              "    </tr>\n",
              "  </thead>\n",
              "  <tbody>\n",
              "    <tr>\n",
              "      <th>0</th>\n",
              "      <td>82</td>\n",
              "      <td>119</td>\n",
              "      <td>4</td>\n",
              "      <td>3</td>\n",
              "      <td>82</td>\n",
              "      <td>119</td>\n",
              "      <td>4</td>\n",
              "      <td>3</td>\n",
              "      <td>82</td>\n",
              "      <td>119</td>\n",
              "      <td>4</td>\n",
              "      <td>3</td>\n",
              "      <td>3</td>\n",
              "      <td>54</td>\n",
              "      <td>78</td>\n",
              "    </tr>\n",
              "    <tr>\n",
              "      <th>1</th>\n",
              "      <td>3</td>\n",
              "      <td>4</td>\n",
              "      <td>3</td>\n",
              "      <td>4</td>\n",
              "      <td>3</td>\n",
              "      <td>4</td>\n",
              "      <td>3</td>\n",
              "      <td>4</td>\n",
              "      <td>3</td>\n",
              "      <td>4</td>\n",
              "      <td>3</td>\n",
              "      <td>4</td>\n",
              "      <td>3</td>\n",
              "      <td>106</td>\n",
              "      <td>5</td>\n",
              "    </tr>\n",
              "    <tr>\n",
              "      <th>2</th>\n",
              "      <td>125</td>\n",
              "      <td>125</td>\n",
              "      <td>125</td>\n",
              "      <td>125</td>\n",
              "      <td>125</td>\n",
              "      <td>136</td>\n",
              "      <td>45</td>\n",
              "      <td>13</td>\n",
              "      <td>45</td>\n",
              "      <td>45</td>\n",
              "      <td>45</td>\n",
              "      <td>45</td>\n",
              "      <td>45</td>\n",
              "      <td>45</td>\n",
              "      <td>45</td>\n",
              "    </tr>\n",
              "    <tr>\n",
              "      <th>3</th>\n",
              "      <td>3</td>\n",
              "      <td>3</td>\n",
              "      <td>3</td>\n",
              "      <td>3</td>\n",
              "      <td>3</td>\n",
              "      <td>3</td>\n",
              "      <td>78</td>\n",
              "      <td>78</td>\n",
              "      <td>78</td>\n",
              "      <td>78</td>\n",
              "      <td>54</td>\n",
              "      <td>78</td>\n",
              "      <td>54</td>\n",
              "      <td>78</td>\n",
              "      <td>78</td>\n",
              "    </tr>\n",
              "    <tr>\n",
              "      <th>4</th>\n",
              "      <td>4</td>\n",
              "      <td>3</td>\n",
              "      <td>4</td>\n",
              "      <td>3</td>\n",
              "      <td>4</td>\n",
              "      <td>3</td>\n",
              "      <td>4</td>\n",
              "      <td>3</td>\n",
              "      <td>4</td>\n",
              "      <td>3</td>\n",
              "      <td>3</td>\n",
              "      <td>4</td>\n",
              "      <td>3</td>\n",
              "      <td>4</td>\n",
              "      <td>3</td>\n",
              "    </tr>\n",
              "    <tr>\n",
              "      <th>...</th>\n",
              "      <td>...</td>\n",
              "      <td>...</td>\n",
              "      <td>...</td>\n",
              "      <td>...</td>\n",
              "      <td>...</td>\n",
              "      <td>...</td>\n",
              "      <td>...</td>\n",
              "      <td>...</td>\n",
              "      <td>...</td>\n",
              "      <td>...</td>\n",
              "      <td>...</td>\n",
              "      <td>...</td>\n",
              "      <td>...</td>\n",
              "      <td>...</td>\n",
              "      <td>...</td>\n",
              "    </tr>\n",
              "    <tr>\n",
              "      <th>2097</th>\n",
              "      <td>126</td>\n",
              "      <td>78</td>\n",
              "      <td>4</td>\n",
              "      <td>3</td>\n",
              "      <td>3</td>\n",
              "      <td>3</td>\n",
              "      <td>3</td>\n",
              "      <td>78</td>\n",
              "      <td>78</td>\n",
              "      <td>54</td>\n",
              "      <td>78</td>\n",
              "      <td>78</td>\n",
              "      <td>82</td>\n",
              "      <td>119</td>\n",
              "      <td>4</td>\n",
              "    </tr>\n",
              "    <tr>\n",
              "      <th>2098</th>\n",
              "      <td>45</td>\n",
              "      <td>108</td>\n",
              "      <td>45</td>\n",
              "      <td>3</td>\n",
              "      <td>3</td>\n",
              "      <td>6</td>\n",
              "      <td>5</td>\n",
              "      <td>108</td>\n",
              "      <td>45</td>\n",
              "      <td>3</td>\n",
              "      <td>19</td>\n",
              "      <td>6</td>\n",
              "      <td>122</td>\n",
              "      <td>45</td>\n",
              "      <td>45</td>\n",
              "    </tr>\n",
              "    <tr>\n",
              "      <th>2099</th>\n",
              "      <td>78</td>\n",
              "      <td>54</td>\n",
              "      <td>78</td>\n",
              "      <td>78</td>\n",
              "      <td>82</td>\n",
              "      <td>119</td>\n",
              "      <td>4</td>\n",
              "      <td>3</td>\n",
              "      <td>78</td>\n",
              "      <td>82</td>\n",
              "      <td>119</td>\n",
              "      <td>54</td>\n",
              "      <td>3</td>\n",
              "      <td>54</td>\n",
              "      <td>78</td>\n",
              "    </tr>\n",
              "    <tr>\n",
              "      <th>2100</th>\n",
              "      <td>3</td>\n",
              "      <td>78</td>\n",
              "      <td>82</td>\n",
              "      <td>119</td>\n",
              "      <td>4</td>\n",
              "      <td>3</td>\n",
              "      <td>78</td>\n",
              "      <td>82</td>\n",
              "      <td>119</td>\n",
              "      <td>4</td>\n",
              "      <td>119</td>\n",
              "      <td>3</td>\n",
              "      <td>3</td>\n",
              "      <td>3</td>\n",
              "      <td>3</td>\n",
              "    </tr>\n",
              "    <tr>\n",
              "      <th>2101</th>\n",
              "      <td>89</td>\n",
              "      <td>89</td>\n",
              "      <td>89</td>\n",
              "      <td>89</td>\n",
              "      <td>89</td>\n",
              "      <td>107</td>\n",
              "      <td>6</td>\n",
              "      <td>107</td>\n",
              "      <td>106</td>\n",
              "      <td>5</td>\n",
              "      <td>55</td>\n",
              "      <td>89</td>\n",
              "      <td>89</td>\n",
              "      <td>89</td>\n",
              "      <td>107</td>\n",
              "    </tr>\n",
              "  </tbody>\n",
              "</table>\n",
              "<p>2102 rows × 15 columns</p>\n",
              "</div>"
            ],
            "text/plain": [
              "       0    1    2    3    4    5   6    7    8    9    10  11   12   13   14\n",
              "0      82  119    4    3   82  119   4    3   82  119    4   3    3   54   78\n",
              "1       3    4    3    4    3    4   3    4    3    4    3   4    3  106    5\n",
              "2     125  125  125  125  125  136  45   13   45   45   45  45   45   45   45\n",
              "3       3    3    3    3    3    3  78   78   78   78   54  78   54   78   78\n",
              "4       4    3    4    3    4    3   4    3    4    3    3   4    3    4    3\n",
              "...   ...  ...  ...  ...  ...  ...  ..  ...  ...  ...  ...  ..  ...  ...  ...\n",
              "2097  126   78    4    3    3    3   3   78   78   54   78  78   82  119    4\n",
              "2098   45  108   45    3    3    6   5  108   45    3   19   6  122   45   45\n",
              "2099   78   54   78   78   82  119   4    3   78   82  119  54    3   54   78\n",
              "2100    3   78   82  119    4    3  78   82  119    4  119   3    3    3    3\n",
              "2101   89   89   89   89   89  107   6  107  106    5   55  89   89   89  107\n",
              "\n",
              "[2102 rows x 15 columns]"
            ]
          },
          "metadata": {},
          "execution_count": 133
        }
      ]
    },
    {
      "cell_type": "code",
      "metadata": {
        "colab": {
          "base_uri": "https://localhost:8080/"
        },
        "id": "DnDDh0TWsyS7",
        "outputId": "974fadbf-15ee-4c04-b99c-3e19b404e1cc"
      },
      "source": [
        "y_train"
      ],
      "execution_count": 134,
      "outputs": [
        {
          "output_type": "execute_result",
          "data": {
            "text/plain": [
              "0       0\n",
              "1       0\n",
              "2       1\n",
              "3       0\n",
              "4       0\n",
              "       ..\n",
              "2097    0\n",
              "2098    1\n",
              "2099    0\n",
              "2100    0\n",
              "2101    1\n",
              "Name: Label, Length: 2102, dtype: int64"
            ]
          },
          "metadata": {},
          "execution_count": 134
        }
      ]
    },
    {
      "cell_type": "markdown",
      "metadata": {
        "id": "-0UCA-ZuXHX_"
      },
      "source": [
        "\n",
        "# **Performance Measures**\n",
        "\n",
        "\n",
        "1.   Function calc_false_positive: Calculates FPR\n",
        "2.   Function print_performance: Formats printing performance metrics and ROC curve for each model\n",
        "3.   Function color_confusion_matrix: prints out a heatmap of confusion matrix in blue color scale\n",
        "\n",
        "\n",
        "\n",
        "\n"
      ]
    },
    {
      "cell_type": "code",
      "metadata": {
        "id": "XA1PZX4XBNLO"
      },
      "source": [
        "# This function calculate False Positive Rate given a confusion matrix\n",
        "def calc_false_positive (cmatrix):\n",
        "  specificity = cmatrix[0,0]/(cmatrix[0,0] + cmatrix[0,1])\n",
        "  return 1-specificity\n",
        "\n",
        "# This function prints performance metrics and ROC curve given the model name, true labels and predicted labels\n",
        "def print_performance( model_name, true_labels, pred_labels):\n",
        "  # rows are actual, columns are predicted\n",
        "  cmatrix = confusion_matrix(true_labels, pred_labels)\n",
        "  fpr = calc_false_positive(cmatrix)\n",
        "\n",
        "  print('Confusion Matrix: \\n',cmatrix)\n",
        "  print('\\nTesting Accuracy: %.2f'% metrics.accuracy_score(true_labels, pred_labels))\n",
        "  print('Precision:%.2f'%  metrics.precision_score(true_labels, pred_labels))\n",
        "  print('Recall: %.2f'% metrics.recall_score(true_labels, pred_labels))\n",
        "  print('False Positive Rate: %.2f'% fpr)\n",
        "  print('\\nClassification report:', classification_report(true_labels, pred_labels), sep='\\n')\n",
        "  print('AUC: %.2f'% roc_auc_score(true_labels, pred_labels))\n",
        "\n",
        "  false_positive_rate, recall, thresholds = roc_curve(true_labels, pred_labels)\n",
        "  roc_auc = auc(false_positive_rate, recall)\n",
        "  plt.figure()\n",
        "  plt.title( model_name+' ROC Curve on ' + DATA)\n",
        "  plt.plot(false_positive_rate, recall, 'b', label = 'AUC = %0.2f' %roc_auc)\n",
        "  plt.legend(loc='lower right')\n",
        "  plt.plot([0,1], [0,1], 'r--')\n",
        "  plt.xlim([0.0,1.0])\n",
        "  plt.ylim([0.0,1.1])\n",
        "  plt.ylabel('Recall')\n",
        "  plt.xlabel('False Positive Rate (1-Specificity)')\n",
        "  #plt.savefig(model_name+'-ROC.jpg')\n",
        "  plt.show()\n",
        "\n",
        "# Plot a heatmap of confusion matrix given the model name, a classifier model, testing data and the predicted label\n",
        "def color_confusion_matrix( model_name, model, x_test, y_test, y_predicted):\n",
        "  class_names = ['Normal', 'Intrusion']\n",
        "\n",
        "  fig, ax = plt.subplots(figsize=(6, 6))\n",
        "  plot_confusion_matrix(model, x_test, y_test, display_labels=class_names, \n",
        "                        values_format='d', ax = ax, cmap=plt.cm.Blues)\n",
        "  plt.title('Confusion Matrix of ' + str(model_name))\n",
        "  #plt.savefig(model_name+'-CM.jpg')\n",
        "  plt.show()\n",
        "\n",
        "  cmatrix = confusion_matrix(y_test, y_predicted)\n",
        "  print(cmatrix)"
      ],
      "execution_count": 135,
      "outputs": []
    },
    {
      "cell_type": "markdown",
      "metadata": {
        "id": "s-keFefagnSl"
      },
      "source": [
        "# **K-means**"
      ]
    },
    {
      "cell_type": "code",
      "metadata": {
        "id": "a0DPPwlWKeoA",
        "colab": {
          "base_uri": "https://localhost:8080/",
          "height": 669
        },
        "outputId": "aae25b6d-ad4e-42b3-9629-f5f0fabd6e55"
      },
      "source": [
        "from sklearn.cluster import KMeans\n",
        "from sklearn import metrics\n",
        "from sklearn.metrics import adjusted_rand_score\n",
        "\n",
        "# Choose K cluster = 2\n",
        "kmeans = KMeans(n_clusters=2)\n",
        "# Fit Kmeans to the training set\n",
        "kmeans.fit(x_train)\n",
        "\n",
        "\n",
        "# Recording TPR and FPR to plot TRAINING ROC curves\n",
        "y_pred = kmeans.predict(x_train)\n",
        "KM_train = {}\n",
        "KM_train['fpr'], KM_train['tpr'], thresh = roc_curve(y_train, y_pred)\n",
        "KM_train['auc'] = roc_auc_score(y_train, y_pred)\n",
        "\n",
        "## TESTING K-MEANS\n",
        "y_predicted = kmeans.predict(x_test)\n",
        "\n",
        "print_performance('Kmeans',y_test, y_predicted)\n",
        "\n",
        "# Number of iterations before converging\n",
        "print('Number of iterations before converging:', kmeans.n_iter_)\n",
        "\n",
        "\n",
        "# Recording TPR and FPR for the TESTING ROC curves\n",
        "KM_test = {}\n",
        "KM_test['fpr'], KM_test['tpr'], thresh = roc_curve(y_test, y_predicted)\n",
        "KM_test['auc'] = roc_auc_score(y_test, y_predicted)\n",
        "\n",
        "\n",
        "print('Train AUC: %.3f vs Test AUC: %.3f' %(KM_train['auc'], KM_test['auc']))"
      ],
      "execution_count": 136,
      "outputs": [
        {
          "output_type": "stream",
          "name": "stdout",
          "text": [
            "Confusion Matrix: \n",
            " [[283 152]\n",
            " [ 42  73]]\n",
            "\n",
            "Testing Accuracy: 0.65\n",
            "Precision:0.32\n",
            "Recall: 0.63\n",
            "False Positive Rate: 0.35\n",
            "\n",
            "Classification report:\n",
            "              precision    recall  f1-score   support\n",
            "\n",
            "           0       0.87      0.65      0.74       435\n",
            "           1       0.32      0.63      0.43       115\n",
            "\n",
            "    accuracy                           0.65       550\n",
            "   macro avg       0.60      0.64      0.59       550\n",
            "weighted avg       0.76      0.65      0.68       550\n",
            "\n",
            "AUC: 0.64\n"
          ]
        },
        {
          "output_type": "display_data",
          "data": {
            "image/png": "[encoded data removed]",
            "text/plain": [
              "<Figure size 432x288 with 1 Axes>"
            ]
          },
          "metadata": {
            "needs_background": "light"
          }
        },
        {
          "output_type": "stream",
          "name": "stdout",
          "text": [
            "Number of iterations before converging: 10\n",
            "Train AUC: 0.673 vs Test AUC: 0.643\n"
          ]
        }
      ]
    },
    {
      "cell_type": "markdown",
      "metadata": {
        "id": "CKMnutnOgsZ5"
      },
      "source": [
        "# **Logistic Regression**"
      ]
    },
    {
      "cell_type": "code",
      "metadata": {
        "id": "mk83mqk_fC9k",
        "colab": {
          "base_uri": "https://localhost:8080/",
          "height": 652
        },
        "outputId": "108ec016-2bca-465a-f11a-71161b025f02"
      },
      "source": [
        "from sklearn.linear_model import LogisticRegression\n",
        "\n",
        "# Fit the model on the training set\n",
        "lgModel = LogisticRegression().fit(x_train, y_train)\n",
        "y_pred = lgModel.predict(x_train)\n",
        "\n",
        "# Recording TPR and FPR for the TESTING ROC curves\n",
        "LR_train = {}\n",
        "LR_train['fpr'], LR_train['tpr'], thresh = roc_curve(y_train, y_pred)\n",
        "LR_train['auc'] = roc_auc_score(y_train, y_pred)\n",
        "\n",
        "\n",
        "## TESTING Logistic Regression\n",
        "y_predicted = lgModel.predict(x_test)\n",
        "\n",
        "# Evaluating Performance on Testing data\n",
        "print_performance('Logistic Regression', y_test, y_predicted)\n",
        "\n",
        "# Recording TPR and FPR for the multi-ROC curves\n",
        "LR_test = {}\n",
        "LR_test['fpr'], LR_test['tpr'], thresh = roc_curve(y_test, y_predicted)\n",
        "LR_test['auc'] = roc_auc_score(y_test, y_predicted)\n",
        "\n",
        "print('Train AUC: %.3f vs Test AUC: %.3f' %(LR_train['auc'], LR_test['auc']))"
      ],
      "execution_count": 137,
      "outputs": [
        {
          "output_type": "stream",
          "name": "stdout",
          "text": [
            "Confusion Matrix: \n",
            " [[281 154]\n",
            " [ 41  74]]\n",
            "\n",
            "Testing Accuracy: 0.65\n",
            "Precision:0.32\n",
            "Recall: 0.64\n",
            "False Positive Rate: 0.35\n",
            "\n",
            "Classification report:\n",
            "              precision    recall  f1-score   support\n",
            "\n",
            "           0       0.87      0.65      0.74       435\n",
            "           1       0.32      0.64      0.43       115\n",
            "\n",
            "    accuracy                           0.65       550\n",
            "   macro avg       0.60      0.64      0.59       550\n",
            "weighted avg       0.76      0.65      0.68       550\n",
            "\n",
            "AUC: 0.64\n"
          ]
        },
        {
          "output_type": "display_data",
          "data": {
            "image/png": "[encoded data removed]",
            "text/plain": [
              "<Figure size 432x288 with 1 Axes>"
            ]
          },
          "metadata": {
            "needs_background": "light"
          }
        },
        {
          "output_type": "stream",
          "name": "stdout",
          "text": [
            "Train AUC: 0.679 vs Test AUC: 0.645\n"
          ]
        }
      ]
    },
    {
      "cell_type": "markdown",
      "metadata": {
        "id": "boOPLuv1zl0p"
      },
      "source": [
        "# **SVM**\n",
        "\n",
        "This model uses a Polynomial kernel, and the rest of the parameters are as default\n",
        "\n",
        "\n",
        "\n",
        "\n"
      ]
    },
    {
      "cell_type": "code",
      "metadata": {
        "id": "383ioOTmI5-u",
        "colab": {
          "base_uri": "https://localhost:8080/",
          "height": 686
        },
        "outputId": "4ecc7003-e600-4a70-eb0f-3ea8f4493936"
      },
      "source": [
        "from sklearn import svm\n",
        "\n",
        "#### Create a SVM classifier using polynomial Kernel\n",
        "print('\\n****Polynomial kernel model: ')\n",
        "svm_model = svm.SVC(kernel = 'poly')\n",
        "\n",
        "#Train the  & Get accuracy from training\n",
        "svm_model.fit(x_train, y_train)\n",
        "y_pred = svm_model.predict(x_train)\n",
        "\n",
        "# Recording TPR and FPR for plotting TRAINING ROC curves\n",
        "SVM_train = {}\n",
        "SVM_train['fpr'], SVM_train['tpr'], thresh = roc_curve(y_train, y_pred)\n",
        "SVM_train['auc'] = roc_auc_score(y_train, y_pred)\n",
        "\n",
        "\n",
        "# Test the model w testing data\n",
        "y_predicted = svm_model.predict(x_test)\n",
        "\n",
        "# Evaluate the model \n",
        "print_performance('SVM', y_test, y_predicted)\n",
        "\n",
        "# Recording TPR and FPR for TESTING-ROC curves\n",
        "SVM_test = {}\n",
        "SVM_test['fpr'], SVM_test['tpr'], thresh = roc_curve(y_test, y_predicted)\n",
        "SVM_test['auc'] = roc_auc_score(y_test, y_predicted)\n",
        "\n",
        "print('Train AUC: %.3f vs Test AUC: %.3f' %(SVM_train['auc'], SVM_test['auc']))"
      ],
      "execution_count": 138,
      "outputs": [
        {
          "output_type": "stream",
          "name": "stdout",
          "text": [
            "\n",
            "****Polynomial kernel model: \n",
            "Confusion Matrix: \n",
            " [[382  53]\n",
            " [ 48  67]]\n",
            "\n",
            "Testing Accuracy: 0.82\n",
            "Precision:0.56\n",
            "Recall: 0.58\n",
            "False Positive Rate: 0.12\n",
            "\n",
            "Classification report:\n",
            "              precision    recall  f1-score   support\n",
            "\n",
            "           0       0.89      0.88      0.88       435\n",
            "           1       0.56      0.58      0.57       115\n",
            "\n",
            "    accuracy                           0.82       550\n",
            "   macro avg       0.72      0.73      0.73       550\n",
            "weighted avg       0.82      0.82      0.82       550\n",
            "\n",
            "AUC: 0.73\n"
          ]
        },
        {
          "output_type": "display_data",
          "data": {
            "image/png": "[encoded data removed]",
            "text/plain": [
              "<Figure size 432x288 with 1 Axes>"
            ]
          },
          "metadata": {
            "needs_background": "light"
          }
        },
        {
          "output_type": "stream",
          "name": "stdout",
          "text": [
            "Train AUC: 0.928 vs Test AUC: 0.730\n"
          ]
        }
      ]
    },
    {
      "cell_type": "code",
      "metadata": {
        "id": "XKSizyx2J1-0",
        "colab": {
          "base_uri": "https://localhost:8080/",
          "height": 395
        },
        "outputId": "daa1bd19-9416-4d5e-a7d8-dfd5dd911d74"
      },
      "source": [
        "# Plot a heatmap confusion matrix\n",
        "color_confusion_matrix('SVM', svm_model, x_test, y_test, y_predicted)"
      ],
      "execution_count": 139,
      "outputs": [
        {
          "output_type": "display_data",
          "data": {
            "image/png": "[encoded data removed]",
            "text/plain": [
              "<Figure size 432x432 with 2 Axes>"
            ]
          },
          "metadata": {
            "needs_background": "light"
          }
        },
        {
          "output_type": "stream",
          "name": "stdout",
          "text": [
            "[[382  53]\n",
            " [ 48  67]]\n"
          ]
        }
      ]
    },
    {
      "cell_type": "markdown",
      "metadata": {
        "id": "CyAknSAkQ3be"
      },
      "source": [
        "# **Neural Net**\n",
        "\n",
        "This model contains 3 layers: input layer of 6 nodes, a fully connected layer of 6 nodes and an output layer of 2 nodes"
      ]
    },
    {
      "cell_type": "code",
      "metadata": {
        "id": "USe11YPvQ3bf"
      },
      "source": [
        "# Scale syscall number to between 0 and 1\n",
        "# The maximum syscall number in UNM data is 181\n",
        "max_syscall = 181\n",
        "x_train_nn = x_train/max_syscall\n",
        "x_test_nn = x_test/max_syscall"
      ],
      "execution_count": 140,
      "outputs": []
    },
    {
      "cell_type": "code",
      "metadata": {
        "id": "kuOUNJieQ3bg",
        "colab": {
          "base_uri": "https://localhost:8080/"
        },
        "outputId": "7f734ac8-bb14-4d20-d988-7e3ded98d73e"
      },
      "source": [
        "import tensorflow as tf\n",
        "from tensorflow import keras\n",
        "INPUT_SZ = len(x_train.columns)\n",
        "nn_model = keras.Sequential([\n",
        "    keras.layers.Input(shape = (INPUT_SZ,)),           # model expect input to be a vector of 6 numbers\n",
        "    keras.layers.Dense(INPUT_SZ, activation = 'relu'), \n",
        "    keras.layers.Dense(2, activation = 'sigmoid')\n",
        "])\n",
        "\n",
        "nn_model.compile(optimizer='adam',\n",
        "              loss='sparse_categorical_crossentropy',\n",
        "              metrics=['accuracy'])\n",
        "\n",
        "# Fit the model to training set\n",
        "history = nn_model.fit(x_train_nn, y_train, epochs=10, batch_size=16, verbose=1)  "
      ],
      "execution_count": 141,
      "outputs": [
        {
          "output_type": "stream",
          "name": "stdout",
          "text": [
            "Epoch 1/10\n",
            "132/132 [==============================] - 1s 3ms/step - loss: 0.6733 - accuracy: 0.5866\n",
            "Epoch 2/10\n",
            "132/132 [==============================] - 0s 3ms/step - loss: 0.6399 - accuracy: 0.6446\n",
            "Epoch 3/10\n",
            "132/132 [==============================] - 0s 3ms/step - loss: 0.6096 - accuracy: 0.6751\n",
            "Epoch 4/10\n",
            "132/132 [==============================] - 0s 3ms/step - loss: 0.5867 - accuracy: 0.6822\n",
            "Epoch 5/10\n",
            "132/132 [==============================] - 0s 3ms/step - loss: 0.5668 - accuracy: 0.6927\n",
            "Epoch 6/10\n",
            "132/132 [==============================] - 0s 3ms/step - loss: 0.5562 - accuracy: 0.6908\n",
            "Epoch 7/10\n",
            "132/132 [==============================] - 0s 3ms/step - loss: 0.5441 - accuracy: 0.6955\n",
            "Epoch 8/10\n",
            "132/132 [==============================] - 0s 3ms/step - loss: 0.5375 - accuracy: 0.6993\n",
            "Epoch 9/10\n",
            "132/132 [==============================] - 0s 3ms/step - loss: 0.5315 - accuracy: 0.6989\n",
            "Epoch 10/10\n",
            "132/132 [==============================] - 0s 3ms/step - loss: 0.5287 - accuracy: 0.7103\n"
          ]
        }
      ]
    },
    {
      "cell_type": "code",
      "metadata": {
        "id": "RGUvRkXUjo3K"
      },
      "source": [
        "# Get predicted Training labels\n",
        "y_pred = np.argmax(nn_model.predict(x_train_nn), axis=-1)\n",
        "\n",
        "# Recording TPR and FPR for the TRAINING ROC curves\n",
        "NN_train = {}\n",
        "NN_train['fpr'], NN_train['tpr'], thresh = roc_curve(y_train, y_pred)\n",
        "NN_train['auc'] = roc_auc_score(y_train, y_pred)\n",
        "#print_performance(y_train, y_predicted)"
      ],
      "execution_count": 142,
      "outputs": []
    },
    {
      "cell_type": "code",
      "metadata": {
        "id": "BGujVI6TQ3bg",
        "colab": {
          "base_uri": "https://localhost:8080/",
          "height": 686
        },
        "outputId": "21952a73-45b3-40d4-ebd7-59422a1a8af2"
      },
      "source": [
        "# Get the loss and accuracy on testing set\n",
        "test_loss, test_acc = nn_model.evaluate(x_test_nn,  y_test, verbose=1) \n",
        "y_predicted = np.argmax(nn_model.predict(x_test_nn), axis=-1)\n",
        "\n",
        "\n",
        "print('Test accuracy:', test_acc,' Test loss:', test_loss)\n",
        "print_performance('Neural Network', y_test, y_predicted)\n",
        "\n",
        "# Recording TPR and FPR for the TESTING-ROC curves\n",
        "NN_test = {}\n",
        "NN_test['fpr'], NN_test['tpr'], thresh = roc_curve(y_test, y_predicted)\n",
        "NN_test['auc'] = roc_auc_score(y_test, y_predicted)\n",
        "\n",
        "print('Train AUC: %.3f vs Test AUC: %.3f' %(NN_train['auc'], NN_test['auc']))"
      ],
      "execution_count": 143,
      "outputs": [
        {
          "output_type": "stream",
          "name": "stdout",
          "text": [
            "18/18 [==============================] - 0s 3ms/step - loss: 0.5483 - accuracy: 0.7000\n",
            "Test accuracy: 0.699999988079071  Test loss: 0.5482706427574158\n",
            "Confusion Matrix: \n",
            " [[310 125]\n",
            " [ 40  75]]\n",
            "\n",
            "Testing Accuracy: 0.70\n",
            "Precision:0.38\n",
            "Recall: 0.65\n",
            "False Positive Rate: 0.29\n",
            "\n",
            "Classification report:\n",
            "              precision    recall  f1-score   support\n",
            "\n",
            "           0       0.89      0.71      0.79       435\n",
            "           1       0.38      0.65      0.48       115\n",
            "\n",
            "    accuracy                           0.70       550\n",
            "   macro avg       0.63      0.68      0.63       550\n",
            "weighted avg       0.78      0.70      0.72       550\n",
            "\n",
            "AUC: 0.68\n"
          ]
        },
        {
          "output_type": "display_data",
          "data": {
            "image/png": "[encoded data removed]",
            "text/plain": [
              "<Figure size 432x288 with 1 Axes>"
            ]
          },
          "metadata": {
            "needs_background": "light"
          }
        },
        {
          "output_type": "stream",
          "name": "stdout",
          "text": [
            "Train AUC: 0.702 vs Test AUC: 0.682\n"
          ]
        }
      ]
    },
    {
      "cell_type": "code",
      "metadata": {
        "id": "mehetMzFUBrt",
        "colab": {
          "base_uri": "https://localhost:8080/"
        },
        "outputId": "e915d041-2fa7-4f43-8462-a8f04ea6bc64"
      },
      "source": [
        "nn_model.summary()\n",
        "\n",
        "#history.history"
      ],
      "execution_count": 144,
      "outputs": [
        {
          "output_type": "stream",
          "name": "stdout",
          "text": [
            "Model: \"sequential_2\"\n",
            "_________________________________________________________________\n",
            "Layer (type)                 Output Shape              Param #   \n",
            "=================================================================\n",
            "dense_4 (Dense)              (None, 15)                240       \n",
            "_________________________________________________________________\n",
            "dense_5 (Dense)              (None, 2)                 32        \n",
            "=================================================================\n",
            "Total params: 272\n",
            "Trainable params: 272\n",
            "Non-trainable params: 0\n",
            "_________________________________________________________________\n"
          ]
        }
      ]
    },
    {
      "cell_type": "markdown",
      "metadata": {
        "id": "eak45tL1s7AT"
      },
      "source": [
        "# **Decision Tree**\n",
        "\n",
        "This model uses GINI criterion to split the data and requires at least 10 observations to split and 5 observations in the leaf."
      ]
    },
    {
      "cell_type": "code",
      "metadata": {
        "id": "h_mhdZxSs6Z5",
        "colab": {
          "base_uri": "https://localhost:8080/",
          "height": 1000
        },
        "outputId": "8a6317ff-0b98-40cc-8dff-5acd4fd576da"
      },
      "source": [
        "from sklearn.tree import DecisionTreeClassifier\n",
        "\n",
        "# Create and Train DecTree model\n",
        "decTree = DecisionTreeClassifier(criterion='gini', min_samples_split=10,min_samples_leaf=5,max_features='auto')\n",
        "decTree = decTree.fit(x_train, y_train)\n",
        "\n",
        "# Recording TPR and FPR for the TRAINING ROC curves\n",
        "y_pred = decTree.predict(x_train)\n",
        "DT_train = {}\n",
        "DT_train['fpr'], DT_train['tpr'], thresh = roc_curve(y_train, y_pred)\n",
        "DT_train['auc'] = roc_auc_score(y_train, y_pred)\n",
        "\n",
        "# Predict testing data\n",
        "y_predicted = decTree.predict(x_test)\n",
        "\n",
        "# Print performance measures\n",
        "print_performance('Decision Tree', y_test, y_predicted)\n",
        "\n",
        "# Color Confusion Matrix\n",
        "color_confusion_matrix('Decision Tree', decTree, x_test, y_test, y_predicted)\n",
        "\n",
        "# Recording TPR and FPR for TESTING-ROC curves\n",
        "DT_test = {}\n",
        "DT_test['fpr'], DT_test['tpr'], thresh = roc_curve(y_test, y_predicted)\n",
        "DT_test['auc'] = roc_auc_score(y_test, y_predicted)\n",
        "\n",
        "print('Train AUC: %.3f vs Test AUC: %.3f' %(DT_train['auc'], DT_test['auc']))"
      ],
      "execution_count": 145,
      "outputs": [
        {
          "output_type": "stream",
          "name": "stdout",
          "text": [
            "Confusion Matrix: \n",
            " [[398  37]\n",
            " [ 28  87]]\n",
            "\n",
            "Testing Accuracy: 0.88\n",
            "Precision:0.70\n",
            "Recall: 0.76\n",
            "False Positive Rate: 0.09\n",
            "\n",
            "Classification report:\n",
            "              precision    recall  f1-score   support\n",
            "\n",
            "           0       0.93      0.91      0.92       435\n",
            "           1       0.70      0.76      0.73       115\n",
            "\n",
            "    accuracy                           0.88       550\n",
            "   macro avg       0.82      0.84      0.83       550\n",
            "weighted avg       0.89      0.88      0.88       550\n",
            "\n",
            "AUC: 0.84\n"
          ]
        },
        {
          "output_type": "display_data",
          "data": {
            "image/png": "[encoded data removed]",
            "text/plain": [
              "<Figure size 432x288 with 1 Axes>"
            ]
          },
          "metadata": {
            "needs_background": "light"
          }
        },
        {
          "output_type": "display_data",
          "data": {
            "image/png": "[encoded data removed]",
            "text/plain": [
              "<Figure size 432x432 with 2 Axes>"
            ]
          },
          "metadata": {
            "needs_background": "light"
          }
        },
        {
          "output_type": "stream",
          "name": "stdout",
          "text": [
            "[[398  37]\n",
            " [ 28  87]]\n",
            "Train AUC: 0.956 vs Test AUC: 0.836\n"
          ]
        }
      ]
    },
    {
      "cell_type": "markdown",
      "metadata": {
        "id": "mOGaush6RBtf"
      },
      "source": [
        "# **Random Forest**\n",
        "\n",
        "This model has no max depth and allows bootstrapping observations during training. It uses GINI criterion to split and requires a minimum of 10 observations to split and the leaf node must have above 5 observations.\n"
      ]
    },
    {
      "cell_type": "code",
      "metadata": {
        "id": "C-g6W8k4k_A3",
        "colab": {
          "base_uri": "https://localhost:8080/",
          "height": 1000
        },
        "outputId": "fdf693e3-e7b8-4891-af58-c18b95a4756a"
      },
      "source": [
        "from sklearn.ensemble import RandomForestClassifier\n",
        "\n",
        "# Build model\n",
        "randomForest = RandomForestClassifier(max_depth=None, min_samples_split=10, min_samples_leaf=5, \n",
        "                                      max_features='auto', bootstrap=True,verbose=0, criterion='gini')\n",
        "# Train the model with training set\n",
        "randomForest.fit(x_train, y_train)\n",
        "\n",
        "# Recording TPR and FPR for the TRAINING ROC curves\n",
        "y_pred = randomForest.predict(x_train)\n",
        "RF_train = {}\n",
        "RF_train['fpr'], RF_train['tpr'], thresh = roc_curve(y_train, y_pred)\n",
        "RF_train['auc'] = roc_auc_score(y_train, y_pred)\n",
        "\n",
        "# Predict the labels for testing set\n",
        "y_predicted = randomForest.predict(x_test)\n",
        "\n",
        "# Print performance measures\n",
        "print_performance('Random Forest', y_test, y_predicted)\n",
        "\n",
        "# Color Confusion Matrix\n",
        "color_confusion_matrix('Random Forest', randomForest, x_test, y_test, y_predicted)\n",
        "\n",
        "# Recording TPR and FPR for the multi-ROC curves\n",
        "RF_test = {}\n",
        "RF_test['fpr'], RF_test['tpr'], thresh = roc_curve(y_test, y_predicted)\n",
        "RF_test['auc'] = roc_auc_score(y_test, y_predicted)\n",
        "\n",
        "print('Train AUC: %.3f vs Test AUC: %.3f' %(RF_train['auc'], RF_test['auc']))"
      ],
      "execution_count": 146,
      "outputs": [
        {
          "output_type": "stream",
          "name": "stdout",
          "text": [
            "Confusion Matrix: \n",
            " [[411  24]\n",
            " [ 27  88]]\n",
            "\n",
            "Testing Accuracy: 0.91\n",
            "Precision:0.79\n",
            "Recall: 0.77\n",
            "False Positive Rate: 0.06\n",
            "\n",
            "Classification report:\n",
            "              precision    recall  f1-score   support\n",
            "\n",
            "           0       0.94      0.94      0.94       435\n",
            "           1       0.79      0.77      0.78       115\n",
            "\n",
            "    accuracy                           0.91       550\n",
            "   macro avg       0.86      0.86      0.86       550\n",
            "weighted avg       0.91      0.91      0.91       550\n",
            "\n",
            "AUC: 0.86\n"
          ]
        },
        {
          "output_type": "display_data",
          "data": {
            "image/png": "[encoded data removed]",
            "text/plain": [
              "<Figure size 432x288 with 1 Axes>"
            ]
          },
          "metadata": {
            "needs_background": "light"
          }
        },
        {
          "output_type": "display_data",
          "data": {
            "image/png": "[encoded data removed]",
            "text/plain": [
              "<Figure size 432x432 with 2 Axes>"
            ]
          },
          "metadata": {
            "needs_background": "light"
          }
        },
        {
          "output_type": "stream",
          "name": "stdout",
          "text": [
            "[[411  24]\n",
            " [ 27  88]]\n",
            "Train AUC: 0.980 vs Test AUC: 0.855\n"
          ]
        }
      ]
    },
    {
      "cell_type": "markdown",
      "metadata": {
        "id": "doGliXotvRgg"
      },
      "source": [
        "# **KNN**\n",
        "\n",
        "This model classifies each observation based on 3 nearest neighbors with uniform weight."
      ]
    },
    {
      "cell_type": "code",
      "metadata": {
        "id": "vHH_-Veot_FD",
        "colab": {
          "base_uri": "https://localhost:8080/",
          "height": 1000
        },
        "outputId": "aff472db-52a1-4b32-96c7-5a997470295c"
      },
      "source": [
        "from sklearn.neighbors import KNeighborsClassifier\n",
        "\n",
        "# Creat and Train KNN model\n",
        "KNN = KNeighborsClassifier(n_neighbors=3, weights='uniform')\n",
        "KNN.fit(x_train, y_train)\n",
        "\n",
        "# Recording TPR and FPR for the TRAINING ROC curves\n",
        "y_pred = KNN.predict(x_train)\n",
        "KNN_train = {}\n",
        "KNN_train['fpr'], KNN_train['tpr'], thresh = roc_curve(y_train, y_pred)\n",
        "KNN_train['auc'] = roc_auc_score(y_train, y_pred)\n",
        "\n",
        "# Predict testing data\n",
        "y_predicted = KNN.predict(x_test)\n",
        "\n",
        "# Print performance measures\n",
        "print_performance('KNN', y_test, y_predicted)\n",
        "\n",
        "# Color Confusion Matrix\n",
        "color_confusion_matrix('KNN', KNN, x_test, y_test, y_predicted)\n",
        "\n",
        "# Recording TPR and FPR for TESTING-ROC curves\n",
        "KNN_test = {}\n",
        "KNN_test['fpr'], KNN_test['tpr'], thresh = roc_curve(y_test, y_predicted)\n",
        "KNN_test['auc'] = roc_auc_score(y_test, y_predicted)\n",
        "\n",
        "print('Train AUC: %.3f vs Test AUC: %.3f' %(KNN_train['auc'], KNN_test['auc']))"
      ],
      "execution_count": 147,
      "outputs": [
        {
          "output_type": "stream",
          "name": "stdout",
          "text": [
            "Confusion Matrix: \n",
            " [[385  50]\n",
            " [ 42  73]]\n",
            "\n",
            "Testing Accuracy: 0.83\n",
            "Precision:0.59\n",
            "Recall: 0.63\n",
            "False Positive Rate: 0.11\n",
            "\n",
            "Classification report:\n",
            "              precision    recall  f1-score   support\n",
            "\n",
            "           0       0.90      0.89      0.89       435\n",
            "           1       0.59      0.63      0.61       115\n",
            "\n",
            "    accuracy                           0.83       550\n",
            "   macro avg       0.75      0.76      0.75       550\n",
            "weighted avg       0.84      0.83      0.83       550\n",
            "\n",
            "AUC: 0.76\n"
          ]
        },
        {
          "output_type": "display_data",
          "data": {
            "image/png": "[encoded data removed]",
            "text/plain": [
              "<Figure size 432x288 with 1 Axes>"
            ]
          },
          "metadata": {
            "needs_background": "light"
          }
        },
        {
          "output_type": "display_data",
          "data": {
            "image/png": "[encoded data removed]",
            "text/plain": [
              "<Figure size 432x432 with 2 Axes>"
            ]
          },
          "metadata": {
            "needs_background": "light"
          }
        },
        {
          "output_type": "stream",
          "name": "stdout",
          "text": [
            "[[385  50]\n",
            " [ 42  73]]\n",
            "Train AUC: 0.967 vs Test AUC: 0.760\n"
          ]
        }
      ]
    },
    {
      "cell_type": "markdown",
      "metadata": {
        "id": "Rv2CQsOUxLSv"
      },
      "source": [
        "# **Naive Bayes**"
      ]
    },
    {
      "cell_type": "code",
      "metadata": {
        "id": "DCLL6xLRwU1s",
        "colab": {
          "base_uri": "https://localhost:8080/",
          "height": 652
        },
        "outputId": "1d1b6ee5-167f-489f-ba9b-297eef872de3"
      },
      "source": [
        "from sklearn.naive_bayes import GaussianNB\n",
        "\n",
        "# Create a Gaussian Naive Bayes classifier and train with training set\n",
        "NaiveBayes = GaussianNB()\n",
        "NaiveBayes.fit(x_train, y_train)\n",
        "\n",
        "# Recording TPR and FPR for the TRAINING ROC curves\n",
        "y_pred = NaiveBayes.predict(x_train)\n",
        "NB_train = {}\n",
        "NB_train['fpr'], NB_train['tpr'], thresh = roc_curve(y_train, y_pred)\n",
        "NB_train['auc'] = roc_auc_score(y_train, y_pred)\n",
        "\n",
        "# Predict testing data\n",
        "y_predicted = NaiveBayes.predict(x_test)\n",
        "\n",
        "# Print performance measures\n",
        "print_performance('Naive Bayes', y_test, y_predicted)\n",
        "\n",
        "# Recording TPR and FPR for the TESTING-ROC curves\n",
        "NB_test = {}\n",
        "NB_test['fpr'], NB_test['tpr'], thresh = roc_curve(y_test, y_predicted)\n",
        "NB_test['auc'] = roc_auc_score(y_test, y_predicted)\n",
        "\n",
        "print('Train AUC: %.3f vs Test AUC: %.3f' %(NB_train['auc'], NB_test['auc']))"
      ],
      "execution_count": 148,
      "outputs": [
        {
          "output_type": "stream",
          "name": "stdout",
          "text": [
            "Confusion Matrix: \n",
            " [[286 149]\n",
            " [ 42  73]]\n",
            "\n",
            "Testing Accuracy: 0.65\n",
            "Precision:0.33\n",
            "Recall: 0.63\n",
            "False Positive Rate: 0.34\n",
            "\n",
            "Classification report:\n",
            "              precision    recall  f1-score   support\n",
            "\n",
            "           0       0.87      0.66      0.75       435\n",
            "           1       0.33      0.63      0.43       115\n",
            "\n",
            "    accuracy                           0.65       550\n",
            "   macro avg       0.60      0.65      0.59       550\n",
            "weighted avg       0.76      0.65      0.68       550\n",
            "\n",
            "AUC: 0.65\n"
          ]
        },
        {
          "output_type": "display_data",
          "data": {
            "image/png": "[encoded data removed]",
            "text/plain": [
              "<Figure size 432x288 with 1 Axes>"
            ]
          },
          "metadata": {
            "needs_background": "light"
          }
        },
        {
          "output_type": "stream",
          "name": "stdout",
          "text": [
            "Train AUC: 0.691 vs Test AUC: 0.646\n"
          ]
        }
      ]
    },
    {
      "cell_type": "markdown",
      "metadata": {
        "id": "uEo_klFtXk2P"
      },
      "source": [
        "# **Graphing multi-ROC Curves**"
      ]
    },
    {
      "cell_type": "code",
      "metadata": {
        "id": "aytUbSONXhhJ"
      },
      "source": [
        "# Graphing overlaid ROC curves, where each one represents a model AUC score\n",
        "def graph_multi_ROC ():\n",
        "  # Set color for each model\n",
        "  colors = {'KM': 'lightcoral','LR': 'darkorange', 'SVM':'lime', 'NB': 'steelblue',\n",
        "            'NN': 'purple','DT': 'magenta','RF': 'deeppink','KNN': 'darkturquoise',\n",
        "            'BERT': 'darkred', 'GPT': 'blue'}\n",
        "  # Set marker for each model          \n",
        "  markers = {'KM':'1--','LR': 'v--', 'SVM': '^--', 'NN': '*--', 'DT': 'o--', 'RF': '+--', 'KNN': '.--', 'NB': 'x--', 'BERT':'<--', 'GPT': '>--'}\n",
        "  \n",
        "  plt.figure(figsize=(9,6))\n",
        "\n",
        "  plt.plot(KM_test.get('fpr'), KM_test.get('tpr'), markers.get('KM'), color=colors.get('KM'),  label=\"KM - AUC=\" + str(KM_test.get('auc').round(3)))\n",
        "  plt.plot(LR_test.get('fpr'), LR_test.get('tpr'), markers.get('LR'), color=colors.get('LR'),  label=\"LR - AUC=\" + str(LR_test.get('auc').round(3)))\n",
        "  plt.plot(SVM_test.get('fpr'),SVM_test.get('tpr'),markers.get('SVM'),color=colors.get('SVM'), label=\"SVM - AUC=\"+ str(SVM_test.get('auc').round(3)))\n",
        "  plt.plot(NN_test.get('fpr'), NN_test.get('tpr'), markers.get('NN'), color=colors.get('NN'),  label=\"NN - AUC=\" + str(NN_test.get('auc').round(3)))\n",
        "  plt.plot(DT_test.get('fpr'), DT_test.get('tpr'), markers.get('DT'), color=colors.get('DT'),  label=\"DT - AUC=\" + str(DT_test.get('auc').round(3)))\n",
        "  plt.plot(RF_test.get('fpr'), RF_test.get('tpr'), markers.get('RF'), color=colors.get('RF'),  label=\"RF - AUC=\" + str(RF_test.get('auc').round(3)))\n",
        "  plt.plot(KNN_test.get('fpr'),KNN_test.get('tpr'),markers.get('KNN'),color=colors.get('KNN'), label=\"KNN - AUC=\"+ str(KNN_test.get('auc').round(3)))\n",
        "  plt.plot(NB_test.get('fpr'), NB_test.get('tpr'), markers.get('NB'), color=colors.get('NB'),  label=\"NB - AUC=\" + str(NB_test.get('auc').round(3)))\n",
        "  plt.plot(BERT_test.get('fpr'),BERT_test.get('tpr'), markers.get('BERT'), color=colors.get('BERT'),  label=\"BERT - AUC=\"+ str(BERT_test.get('auc').round(3)))\n",
        "  plt.plot(GPT_test.get('fpr'),GPT_test.get('tpr'), markers.get('GPT'), color=colors.get('GPT'),  label=\"GPT-2 - AUC=\"+ str(GPT_test.get('auc').round(3)))\n",
        "\n",
        "  plt.plot([0,1], [0,1], 'k--', label='Random Chances')\n",
        "  plt.xlim([0.0,1.0])\n",
        "  plt.ylim([0.0,1.02])\n",
        "  plt.ylabel('Recall')\n",
        "  plt.xlabel('False Positive Rate (1-Specificity)')\n",
        "  plt.legend(loc='lower right') \n",
        "  plt.title( 'Testing ROCs on ' + DATA)\n",
        "  #plt.savefig(DATA_I+'-'+train_or_test+'.jpg', dpi = 80)\n",
        "  plt.show()"
      ],
      "execution_count": 149,
      "outputs": []
    },
    {
      "cell_type": "markdown",
      "metadata": {
        "id": "bZ-JMcBqmnN9"
      },
      "source": [
        "# **BERT**\n"
      ]
    },
    {
      "cell_type": "code",
      "metadata": {
        "colab": {
          "base_uri": "https://localhost:8080/"
        },
        "id": "7k6L-u3Lmmpb",
        "outputId": "fc71147d-d6e7-4935-fade-ee4897395405"
      },
      "source": [
        "!pip install pytorch_pretrained_bert pytorch-nlp"
      ],
      "execution_count": 150,
      "outputs": [
        {
          "output_type": "stream",
          "name": "stdout",
          "text": [
            "Requirement already satisfied: pytorch_pretrained_bert in /usr/local/lib/python3.7/dist-packages (0.6.2)\n",
            "Requirement already satisfied: pytorch-nlp in /usr/local/lib/python3.7/dist-packages (0.5.0)\n",
            "Requirement already satisfied: numpy in /usr/local/lib/python3.7/dist-packages (from pytorch_pretrained_bert) (1.19.5)\n",
            "Requirement already satisfied: boto3 in /usr/local/lib/python3.7/dist-packages (from pytorch_pretrained_bert) (1.18.57)\n",
            "Requirement already satisfied: tqdm in /usr/local/lib/python3.7/dist-packages (from pytorch_pretrained_bert) (4.62.3)\n",
            "Requirement already satisfied: requests in /usr/local/lib/python3.7/dist-packages (from pytorch_pretrained_bert) (2.23.0)\n",
            "Requirement already satisfied: regex in /usr/local/lib/python3.7/dist-packages (from pytorch_pretrained_bert) (2019.12.20)\n",
            "Requirement already satisfied: torch>=0.4.1 in /usr/local/lib/python3.7/dist-packages (from pytorch_pretrained_bert) (1.9.0+cu111)\n",
            "Requirement already satisfied: typing-extensions in /usr/local/lib/python3.7/dist-packages (from torch>=0.4.1->pytorch_pretrained_bert) (3.7.4.3)\n",
            "Requirement already satisfied: s3transfer<0.6.0,>=0.5.0 in /usr/local/lib/python3.7/dist-packages (from boto3->pytorch_pretrained_bert) (0.5.0)\n",
            "Requirement already satisfied: jmespath<1.0.0,>=0.7.1 in /usr/local/lib/python3.7/dist-packages (from boto3->pytorch_pretrained_bert) (0.10.0)\n",
            "Requirement already satisfied: botocore<1.22.0,>=1.21.57 in /usr/local/lib/python3.7/dist-packages (from boto3->pytorch_pretrained_bert) (1.21.57)\n",
            "Requirement already satisfied: urllib3<1.27,>=1.25.4 in /usr/local/lib/python3.7/dist-packages (from botocore<1.22.0,>=1.21.57->boto3->pytorch_pretrained_bert) (1.25.11)\n",
            "Requirement already satisfied: python-dateutil<3.0.0,>=2.1 in /usr/local/lib/python3.7/dist-packages (from botocore<1.22.0,>=1.21.57->boto3->pytorch_pretrained_bert) (2.8.2)\n",
            "Requirement already satisfied: six>=1.5 in /usr/local/lib/python3.7/dist-packages (from python-dateutil<3.0.0,>=2.1->botocore<1.22.0,>=1.21.57->boto3->pytorch_pretrained_bert) (1.15.0)\n",
            "Requirement already satisfied: chardet<4,>=3.0.2 in /usr/local/lib/python3.7/dist-packages (from requests->pytorch_pretrained_bert) (3.0.4)\n",
            "Requirement already satisfied: idna<3,>=2.5 in /usr/local/lib/python3.7/dist-packages (from requests->pytorch_pretrained_bert) (2.10)\n",
            "Requirement already satisfied: certifi>=2017.4.17 in /usr/local/lib/python3.7/dist-packages (from requests->pytorch_pretrained_bert) (2021.5.30)\n"
          ]
        }
      ]
    },
    {
      "cell_type": "code",
      "metadata": {
        "id": "TsHMmMB76B9W"
      },
      "source": [
        "from pytorch_pretrained_bert import BertModel\n",
        "from torch import nn\n",
        "from pytorch_pretrained_bert import BertTokenizer\n",
        "from keras.preprocessing.sequence import pad_sequences\n",
        "import torch\n",
        "from torch.utils.data import TensorDataset, DataLoader, RandomSampler, SequentialSampler\n",
        "from torch.optim import Adam\n",
        "from torch.nn.utils import clip_grad_norm_\n",
        "from IPython.display import clear_output"
      ],
      "execution_count": 151,
      "outputs": []
    },
    {
      "cell_type": "markdown",
      "metadata": {
        "id": "J_NgiJJQm6Xx"
      },
      "source": [
        "**Prepare for Train and test data for BERT**"
      ]
    },
    {
      "cell_type": "code",
      "metadata": {
        "id": "fDMTse2Jm0Bc",
        "colab": {
          "base_uri": "https://localhost:8080/"
        },
        "outputId": "52e627fb-bdc6-4315-c962-890b0ec2d93d"
      },
      "source": [
        "train_texts = []\n",
        "for i in range(x_train.shape[0]):\n",
        "     train_texts.append(\" \".join(np.array(x_train.iloc[i,:]).astype(str)))\n",
        "train_texts = tuple(train_texts) \n",
        "\n",
        "test_texts = []\n",
        "for i in range(x_test.shape[0]):\n",
        "     test_texts.append(\" \".join(np.array(x_test.iloc[i,:]).astype(str)))\n",
        "test_texts = tuple(test_texts) \n",
        "\n",
        "train_labels = tuple(y_train.tolist())\n",
        "test_labels = tuple(y_test.tolist())\n",
        "\n",
        "len(train_texts), len(train_labels), len(test_texts), len(test_labels)"
      ],
      "execution_count": 152,
      "outputs": [
        {
          "output_type": "execute_result",
          "data": {
            "text/plain": [
              "(2102, 2102, 550, 550)"
            ]
          },
          "metadata": {},
          "execution_count": 152
        }
      ]
    },
    {
      "cell_type": "code",
      "metadata": {
        "id": "Gf2Lbwylm_ia",
        "colab": {
          "base_uri": "https://localhost:8080/"
        },
        "outputId": "81e01eeb-8278-44d2-9165-029c6b67a98a"
      },
      "source": [
        "# Tokenizer \n",
        "tokenizer = BertTokenizer.from_pretrained('bert-base-uncased', do_lower_case=True)\n",
        "\n",
        "# Example\n",
        "tokenizer.tokenize(train_texts[8])"
      ],
      "execution_count": 153,
      "outputs": [
        {
          "output_type": "execute_result",
          "data": {
            "text/plain": [
              "['67',\n",
              " '67',\n",
              " '67',\n",
              " '45',\n",
              " '5',\n",
              " '45',\n",
              " '108',\n",
              " '45',\n",
              " '3',\n",
              " '3',\n",
              " '6',\n",
              " '5',\n",
              " '108',\n",
              " '45',\n",
              " '3']"
            ]
          },
          "metadata": {},
          "execution_count": 153
        }
      ]
    },
    {
      "cell_type": "code",
      "metadata": {
        "id": "_dp_XAarnZqN",
        "colab": {
          "base_uri": "https://localhost:8080/"
        },
        "outputId": "0d9d7796-9282-4de7-92b1-7eb44e64b893"
      },
      "source": [
        "# Convert to tokens using tokenizer\n",
        "train_tokens = list(map(lambda t: ['[CLS]'] + tokenizer.tokenize(t)[:20] + ['[SEP]'], train_texts))\n",
        "test_tokens = list(map(lambda t: ['[CLS]'] + tokenizer.tokenize(t)[:20] + ['[SEP]'], test_texts))\n",
        "\n",
        "print('Number of Training Sequences:',len(train_tokens), '\\nNumber of Testing Sequences:', len(test_tokens) )       "
      ],
      "execution_count": 154,
      "outputs": [
        {
          "output_type": "stream",
          "name": "stdout",
          "text": [
            "Number of Training Sequences: 2102 \n",
            "Number of Testing Sequences: 550\n"
          ]
        }
      ]
    },
    {
      "cell_type": "code",
      "metadata": {
        "id": "8MH_bWrznbYv",
        "colab": {
          "base_uri": "https://localhost:8080/"
        },
        "outputId": "844b367b-e90e-419f-f413-a63311047792"
      },
      "source": [
        "# Following is to convert List of words to list of numbers. (Words are replaced by their index in dictionar)\n",
        "train_tokens_ids = pad_sequences(list(map(tokenizer.convert_tokens_to_ids, train_tokens)), maxlen=20, truncating=\"post\", padding=\"post\", dtype=\"int\")\n",
        "test_tokens_ids = pad_sequences(list(map(tokenizer.convert_tokens_to_ids, test_tokens)), maxlen=20, truncating=\"post\", padding=\"post\", dtype=\"int\")\n",
        "\n",
        "train_tokens_ids.shape, test_tokens_ids.shape"
      ],
      "execution_count": 155,
      "outputs": [
        {
          "output_type": "execute_result",
          "data": {
            "text/plain": [
              "((2102, 20), (550, 20))"
            ]
          },
          "metadata": {},
          "execution_count": 155
        }
      ]
    },
    {
      "cell_type": "code",
      "metadata": {
        "id": "2B9WKzfendjw",
        "colab": {
          "base_uri": "https://localhost:8080/"
        },
        "outputId": "1e8655e1-3232-403f-8638-600b09c1f68f"
      },
      "source": [
        "# Prepare labels\n",
        "# True if intrusion or False if normal\n",
        "train_y = np.array(train_labels) == 1\n",
        "test_y = np.array(test_labels) == 1\n",
        "train_y.shape, test_y.shape, np.mean(train_y), np.mean(test_y)"
      ],
      "execution_count": 156,
      "outputs": [
        {
          "output_type": "execute_result",
          "data": {
            "text/plain": [
              "((2102,), (550,), 0.5, 0.20909090909090908)"
            ]
          },
          "metadata": {},
          "execution_count": 156
        }
      ]
    },
    {
      "cell_type": "code",
      "metadata": {
        "id": "B1q-b-LKnfbH"
      },
      "source": [
        "# To mask the paddings\n",
        "train_masks = [[float(i > 0) for i in ii] for ii in train_tokens_ids]\n",
        "test_masks = [[float(i > 0) for i in ii] for ii in test_tokens_ids]"
      ],
      "execution_count": 157,
      "outputs": []
    },
    {
      "cell_type": "code",
      "metadata": {
        "id": "7tZ3gKOtng_v"
      },
      "source": [
        "# Define BERT model\n",
        "class BertBinaryClassifier(nn.Module):\n",
        "    def __init__(self, dropout=0.1):\n",
        "        super(BertBinaryClassifier, self).__init__()\n",
        "\n",
        "        self.bert = BertModel.from_pretrained('bert-base-uncased')\n",
        "        self.dropout = nn.Dropout(dropout)\n",
        "        self.linear = nn.Linear(768, 1)\n",
        "        self.sigmoid = nn.Sigmoid()\n",
        "    \n",
        "    def forward(self, tokens, masks=None):\n",
        "        # First Layer\n",
        "        _, pooled_output = self.bert(tokens, attention_mask=masks, output_all_encoded_layers=False)\n",
        "\n",
        "        dropout_output = self.dropout(pooled_output)\n",
        "\n",
        "        linear_output = self.linear(dropout_output)\n",
        "        \n",
        "        # output layer\n",
        "        proba = self.sigmoid(linear_output)\n",
        "        \n",
        "        return proba\n",
        "      \n",
        "    def train_m(self,x,y,train_mask,epochs,batchsize):\n",
        "      train_tokens_tensor = torch.tensor(x)\n",
        "      train_y_tensor = torch.tensor(y.reshape(-1, 1)).float()\n",
        "      train_masks_tensor = torch.tensor(train_mask)\n",
        "\n",
        "      train_dataset = TensorDataset(train_tokens_tensor, train_masks_tensor, train_y_tensor)\n",
        "      train_sampler = RandomSampler(train_dataset)\n",
        "      train_dataloader = DataLoader(train_dataset, sampler=train_sampler, batch_size=batchsize) \n",
        "\n",
        "\n",
        "      param_optimizer = list(self.sigmoid.named_parameters()) \n",
        "      optimizer_grouped_parameters = [{\"params\": [p for n, p in param_optimizer]}]\n",
        "      optimizer = Adam(self.bert.parameters(), lr=2e-5)\n",
        "      for epoch_num in range(epochs):\n",
        "          self.train() # Training Flag\n",
        "          train_loss = 0\n",
        "          for step_num, batch_data in enumerate(train_dataloader):\n",
        "              \n",
        "              # Load batch on device memory\n",
        "              token_ids, masks, labels = tuple(t.to(device) for t in batch_data)\n",
        "\n",
        "              # Get the output of the model for provided input\n",
        "              logits = self(token_ids, masks)\n",
        "              \n",
        "              # Loss function\n",
        "              loss_func = nn.BCELoss()\n",
        "\n",
        "              # Calculate Loss\n",
        "              batch_loss = loss_func(logits, labels)\n",
        "              train_loss += batch_loss.item()\n",
        "              \n",
        "              # backpropagate the error\n",
        "              self.zero_grad()\n",
        "              batch_loss.backward()\n",
        "              \n",
        "              # Update the Weights of the Model\n",
        "              clip_grad_norm_(parameters=self.parameters(), max_norm=1.0)\n",
        "              optimizer.step()\n",
        "              \n",
        "              clear_output(wait=True)\n",
        "              print('Epoch: ', epoch_num + 1)\n",
        "              print(\"\\r\" + \"{0}/{1} loss: {2} \".format(step_num, len(train_labels) / batchsize, train_loss / (step_num + 1)))        "
      ],
      "execution_count": 158,
      "outputs": []
    },
    {
      "cell_type": "code",
      "metadata": {
        "id": "MA0ADfkpnjgv",
        "colab": {
          "base_uri": "https://localhost:8080/"
        },
        "outputId": "b51de274-3e01-4e0d-c2b1-e947b450156b"
      },
      "source": [
        "device = torch.device(\"cuda\" if torch.cuda.is_available() else \"cpu\")\n",
        "device"
      ],
      "execution_count": 159,
      "outputs": [
        {
          "output_type": "execute_result",
          "data": {
            "text/plain": [
              "device(type='cuda')"
            ]
          },
          "metadata": {},
          "execution_count": 159
        }
      ]
    },
    {
      "cell_type": "code",
      "metadata": {
        "id": "1CZERb2Onk_v"
      },
      "source": [
        "bert_clf = BertBinaryClassifier()\n",
        "bert_clf = bert_clf.cuda()"
      ],
      "execution_count": 160,
      "outputs": []
    },
    {
      "cell_type": "markdown",
      "metadata": {
        "id": "pjM08A0OoGro"
      },
      "source": [
        "**Fine Tune BERT**"
      ]
    },
    {
      "cell_type": "code",
      "metadata": {
        "id": "uUS_cifIn1_Y",
        "colab": {
          "base_uri": "https://localhost:8080/"
        },
        "outputId": "6bdc5bed-bfaf-4e0b-ad95-01d53aee1b6d"
      },
      "source": [
        "# Train BERT NLP\n",
        "bert_clf.train_m(train_tokens_ids,train_y,train_masks,8,16)"
      ],
      "execution_count": 161,
      "outputs": [
        {
          "output_type": "stream",
          "name": "stdout",
          "text": [
            "Epoch:  8\n",
            "\r131/131.375 loss: 0.024671944474848162 \n"
          ]
        }
      ]
    },
    {
      "cell_type": "markdown",
      "metadata": {
        "id": "RUTlJLsooNrq"
      },
      "source": [
        "**Evaluate on Testing Set**"
      ]
    },
    {
      "cell_type": "code",
      "metadata": {
        "id": "ly5Mhn9SoKxw"
      },
      "source": [
        "# Convert token ids to tensor \n",
        "test_tokens_tensor = torch.tensor(test_tokens_ids)\n",
        "\n",
        "# Convert labels to tensors\n",
        "test_y_tensor = torch.tensor(test_y.reshape(-1, 1)).float()\n",
        "\n",
        "# Convert to tensro for maks\n",
        "test_masks_tensor = torch.tensor(test_masks)\n",
        "\n",
        "\n",
        "# Load Token, token mask and label into Dataloader\n",
        "test_dataset = TensorDataset(test_tokens_tensor, test_masks_tensor, test_y_tensor)\n",
        "\n",
        "# Define sampler\n",
        "test_sampler = SequentialSampler(test_dataset)\n",
        "\n",
        "# Defile test data loader\n",
        "test_dataloader = DataLoader(test_dataset, sampler=test_sampler, batch_size=16)"
      ],
      "execution_count": 162,
      "outputs": []
    },
    {
      "cell_type": "code",
      "metadata": {
        "id": "Q1gC8UusoWfo"
      },
      "source": [
        "bert_clf.eval() # Define eval\n",
        "bert_predicted = [] # To Store predicted result\n",
        "all_logits = [] # Actual output that is between 0 to 1 is stored here\n",
        "\n",
        "with torch.no_grad():\n",
        "    for step_num, batch_data in enumerate(test_dataloader):\n",
        "\n",
        "        # Load the batch on gpu memory\n",
        "        token_ids, masks, labels = tuple(t.to(device) for t in batch_data)\n",
        "\n",
        "        # Calculate ouput of bert\n",
        "        logits = bert_clf(token_ids, masks)\n",
        "\n",
        "        # Get the numpy logits\n",
        "        numpy_logits = logits.cpu().detach().numpy()  # Detach from the GPU memory\n",
        "        \n",
        "        # Using the threshold find binary \n",
        "        bert_predicted += list(numpy_logits[:, 0] > 0.5)  # Threshold conversion\n",
        "        all_logits += list(numpy_logits[:, 0])"
      ],
      "execution_count": 163,
      "outputs": []
    },
    {
      "cell_type": "code",
      "metadata": {
        "id": "hKmOvtXDoiL9",
        "colab": {
          "base_uri": "https://localhost:8080/",
          "height": 635
        },
        "outputId": "edb7bb54-aed4-447c-a81a-d71036570ca7"
      },
      "source": [
        "print_performance('BERT',test_y, bert_predicted)\n",
        "\n",
        "# Recording TPR and FPR for the TESTING-ROC curves\n",
        "BERT_test = {}\n",
        "BERT_test['fpr'], BERT_test['tpr'], thresh = roc_curve(test_y, bert_predicted)\n",
        "BERT_test['auc'] = roc_auc_score(test_y, bert_predicted)"
      ],
      "execution_count": 164,
      "outputs": [
        {
          "output_type": "stream",
          "name": "stdout",
          "text": [
            "Confusion Matrix: \n",
            " [[432   3]\n",
            " [  5 110]]\n",
            "\n",
            "Testing Accuracy: 0.99\n",
            "Precision:0.97\n",
            "Recall: 0.96\n",
            "False Positive Rate: 0.01\n",
            "\n",
            "Classification report:\n",
            "              precision    recall  f1-score   support\n",
            "\n",
            "       False       0.99      0.99      0.99       435\n",
            "        True       0.97      0.96      0.96       115\n",
            "\n",
            "    accuracy                           0.99       550\n",
            "   macro avg       0.98      0.97      0.98       550\n",
            "weighted avg       0.99      0.99      0.99       550\n",
            "\n",
            "AUC: 0.97\n"
          ]
        },
        {
          "output_type": "display_data",
          "data": {
            "image/png": "[encoded data removed]",
            "text/plain": [
              "<Figure size 432x288 with 1 Axes>"
            ]
          },
          "metadata": {
            "needs_background": "light"
          }
        }
      ]
    },
    {
      "cell_type": "markdown",
      "metadata": {
        "id": "mSuD_5c43X10"
      },
      "source": [
        "# **GPT-2**"
      ]
    },
    {
      "cell_type": "code",
      "metadata": {
        "id": "3HueSQ1KsukV",
        "colab": {
          "base_uri": "https://localhost:8080/"
        },
        "outputId": "30234aa2-5e90-42ad-d7b1-820d093d9864"
      },
      "source": [
        "!pip install transformers\n",
        "\n",
        "from transformers import GPT2Tokenizer, GPT2ForSequenceClassification"
      ],
      "execution_count": 165,
      "outputs": [
        {
          "output_type": "stream",
          "name": "stdout",
          "text": [
            "Requirement already satisfied: transformers in /usr/local/lib/python3.7/dist-packages (4.11.3)\n",
            "Requirement already satisfied: sacremoses in /usr/local/lib/python3.7/dist-packages (from transformers) (0.0.46)\n",
            "Requirement already satisfied: tokenizers<0.11,>=0.10.1 in /usr/local/lib/python3.7/dist-packages (from transformers) (0.10.3)\n",
            "Requirement already satisfied: filelock in /usr/local/lib/python3.7/dist-packages (from transformers) (3.3.0)\n",
            "Requirement already satisfied: tqdm>=4.27 in /usr/local/lib/python3.7/dist-packages (from transformers) (4.62.3)\n",
            "Requirement already satisfied: packaging>=20.0 in /usr/local/lib/python3.7/dist-packages (from transformers) (21.0)\n",
            "Requirement already satisfied: huggingface-hub>=0.0.17 in /usr/local/lib/python3.7/dist-packages (from transformers) (0.0.19)\n",
            "Requirement already satisfied: pyyaml>=5.1 in /usr/local/lib/python3.7/dist-packages (from transformers) (5.4.1)\n",
            "Requirement already satisfied: numpy>=1.17 in /usr/local/lib/python3.7/dist-packages (from transformers) (1.19.5)\n",
            "Requirement already satisfied: requests in /usr/local/lib/python3.7/dist-packages (from transformers) (2.23.0)\n",
            "Requirement already satisfied: regex!=2019.12.17 in /usr/local/lib/python3.7/dist-packages (from transformers) (2019.12.20)\n",
            "Requirement already satisfied: importlib-metadata in /usr/local/lib/python3.7/dist-packages (from transformers) (4.8.1)\n",
            "Requirement already satisfied: typing-extensions in /usr/local/lib/python3.7/dist-packages (from huggingface-hub>=0.0.17->transformers) (3.7.4.3)\n",
            "Requirement already satisfied: pyparsing>=2.0.2 in /usr/local/lib/python3.7/dist-packages (from packaging>=20.0->transformers) (2.4.7)\n",
            "Requirement already satisfied: zipp>=0.5 in /usr/local/lib/python3.7/dist-packages (from importlib-metadata->transformers) (3.6.0)\n",
            "Requirement already satisfied: chardet<4,>=3.0.2 in /usr/local/lib/python3.7/dist-packages (from requests->transformers) (3.0.4)\n",
            "Requirement already satisfied: certifi>=2017.4.17 in /usr/local/lib/python3.7/dist-packages (from requests->transformers) (2021.5.30)\n",
            "Requirement already satisfied: idna<3,>=2.5 in /usr/local/lib/python3.7/dist-packages (from requests->transformers) (2.10)\n",
            "Requirement already satisfied: urllib3!=1.25.0,!=1.25.1,<1.26,>=1.21.1 in /usr/local/lib/python3.7/dist-packages (from requests->transformers) (1.25.11)\n",
            "Requirement already satisfied: six in /usr/local/lib/python3.7/dist-packages (from sacremoses->transformers) (1.15.0)\n",
            "Requirement already satisfied: click in /usr/local/lib/python3.7/dist-packages (from sacremoses->transformers) (7.1.2)\n",
            "Requirement already satisfied: joblib in /usr/local/lib/python3.7/dist-packages (from sacremoses->transformers) (1.0.1)\n"
          ]
        }
      ]
    },
    {
      "cell_type": "code",
      "metadata": {
        "id": "5-gD9nyo4S1D"
      },
      "source": [
        "tokenizer = GPT2Tokenizer.from_pretrained('microsoft/DialoGPT-small')"
      ],
      "execution_count": 166,
      "outputs": []
    },
    {
      "cell_type": "code",
      "metadata": {
        "id": "LkYOrTFA4YUN"
      },
      "source": [
        "# Padding sequences from the right to a max length of 20\n",
        "tokenizer.padding_side = \"right\"\n",
        "tokenizer.pad_token = tokenizer.eos_token\n",
        "train_tokens = tokenizer(train_texts,return_tensors='pt',truncation=True,padding=True,max_length=20)\n",
        "test_tokens = tokenizer(test_texts,return_tensors='pt',truncation=True,padding=True,max_length=20)"
      ],
      "execution_count": 167,
      "outputs": []
    },
    {
      "cell_type": "code",
      "metadata": {
        "id": "oHRofoti4g24",
        "colab": {
          "base_uri": "https://localhost:8080/"
        },
        "outputId": "26498bbb-98b8-46a2-8075-1cc38f5045f5"
      },
      "source": [
        "# Following is to convert List of words to list of numbers. (Words are replaced by their index in dictionar)\n",
        "\n",
        "train_tokens_ids = train_tokens.input_ids\n",
        "test_tokens_ids = test_tokens.input_ids\n",
        "\n",
        "train_tokens_ids.shape, test_tokens_ids.shape"
      ],
      "execution_count": 168,
      "outputs": [
        {
          "output_type": "execute_result",
          "data": {
            "text/plain": [
              "(torch.Size([2102, 15]), torch.Size([550, 15]))"
            ]
          },
          "metadata": {},
          "execution_count": 168
        }
      ]
    },
    {
      "cell_type": "code",
      "metadata": {
        "id": "udvDwEdz4haO"
      },
      "source": [
        "train_masks = train_tokens.attention_mask\n",
        "test_masks = test_tokens.attention_mask"
      ],
      "execution_count": 169,
      "outputs": []
    },
    {
      "cell_type": "markdown",
      "metadata": {
        "id": "23qklJA_6Q2L"
      },
      "source": [
        "**Create GPT-2 Classifer**"
      ]
    },
    {
      "cell_type": "code",
      "metadata": {
        "id": "2LiNms1g6PqS"
      },
      "source": [
        "class GTP2BinaryClassifier(nn.Module):\n",
        "    def __init__(self, dropout=0.1):\n",
        "        super(GTP2BinaryClassifier, self).__init__()\n",
        "        self.gtp2 = GPT2ForSequenceClassification.from_pretrained('microsoft/DialoGPT-small')\n",
        "      \n",
        "    def train_m(self,x,y,train_mask,epochs,batchsize):\n",
        "      train_tokens_tensor = torch.tensor(x)\n",
        "      train_y_tensor = torch.tensor(y.reshape(-1, 1)).long()\n",
        "      train_masks_tensor = torch.tensor(train_mask)\n",
        "\n",
        "      train_dataset = TensorDataset(train_tokens_tensor, train_masks_tensor, train_y_tensor)\n",
        "      train_sampler = RandomSampler(train_dataset)\n",
        "      train_dataloader = DataLoader(train_dataset, sampler=train_sampler, batch_size=batchsize) \n",
        "\n",
        "\n",
        "      # param_optimizer = list(self.gtp2.parameters()) \n",
        "      # optimizer_grouped_parameters = [{\"params\": [p for n, p in param_optimizer]}]\n",
        "      optimizer = Adam(self.gtp2.parameters(), lr=5e-5)\n",
        "      for epoch_num in range(epochs):\n",
        "          self.gtp2.train() # Training Flag\n",
        "          train_loss = 0\n",
        "          for step_num, batch_data in enumerate(train_dataloader):\n",
        "              \n",
        "              # Load batch on device memory\n",
        "              token_ids, masks, labels = tuple(t.to(device) for t in batch_data)\n",
        "              self.zero_grad()\n",
        "\n",
        "              # Get the output of the model for provided input\n",
        "              outputs = self.gtp2(token_ids,attention_mask=masks,labels=labels)\n",
        "              loss, logits = outputs[:2]\n",
        "              # logits = self(token_ids, masks)\n",
        "              \n",
        "              # Total Loss\n",
        "              train_loss += loss.item()\n",
        "              \n",
        "              # Backward pass the loss\n",
        "              loss.backward()\n",
        "              torch.nn.utils.clip_grad_norm_(self.gtp2.parameters(), 1.0)\n",
        "              \n",
        "              optimizer.step()\n",
        "              logits = logits.detach().cpu().numpy()\n",
        "\n",
        "              clear_output(wait=True)\n",
        "        \n",
        "              print('Epoch: ', epoch_num + 1)\n",
        "              print(\"\\r\" + \"{0}/{1} loss: {2} \".format(step_num, len(train_labels) / batchsize, train_loss / (step_num + 1)))\n",
        "        "
      ],
      "execution_count": 170,
      "outputs": []
    },
    {
      "cell_type": "code",
      "metadata": {
        "id": "MPZ0MZU06Xxu",
        "colab": {
          "base_uri": "https://localhost:8080/"
        },
        "outputId": "81667463-aa32-4fd2-c4e5-2bcefd8da803"
      },
      "source": [
        "gtp_clf = GTP2BinaryClassifier()\n",
        "gtp_clf = gtp_clf.cuda()"
      ],
      "execution_count": 171,
      "outputs": [
        {
          "output_type": "stream",
          "name": "stderr",
          "text": [
            "Some weights of the model checkpoint at microsoft/DialoGPT-small were not used when initializing GPT2ForSequenceClassification: ['lm_head.weight']\n",
            "- This IS expected if you are initializing GPT2ForSequenceClassification from the checkpoint of a model trained on another task or with another architecture (e.g. initializing a BertForSequenceClassification model from a BertForPreTraining model).\n",
            "- This IS NOT expected if you are initializing GPT2ForSequenceClassification from the checkpoint of a model that you expect to be exactly identical (initializing a BertForSequenceClassification model from a BertForSequenceClassification model).\n",
            "Some weights of GPT2ForSequenceClassification were not initialized from the model checkpoint at microsoft/DialoGPT-small and are newly initialized: ['score.weight']\n",
            "You should probably TRAIN this model on a down-stream task to be able to use it for predictions and inference.\n"
          ]
        }
      ]
    },
    {
      "cell_type": "code",
      "metadata": {
        "id": "uc6BBhJ_6gQL",
        "colab": {
          "base_uri": "https://localhost:8080/"
        },
        "outputId": "fd52f398-db04-4af0-eefd-2146e739a594"
      },
      "source": [
        "# Configure the Padding token id\n",
        "gtp_clf.gtp2.config.pad_token_id = tokenizer.eos_token_id\n",
        "gtp_clf.train_m(train_tokens_ids,train_y,train_masks,8,16)"
      ],
      "execution_count": 172,
      "outputs": [
        {
          "output_type": "stream",
          "name": "stdout",
          "text": [
            "Epoch:  8\n",
            "\r131/131.375 loss: 0.046192568780462295 \n"
          ]
        }
      ]
    },
    {
      "cell_type": "markdown",
      "metadata": {
        "id": "bIQXu7cL6n1g"
      },
      "source": [
        "**Evaluate on Testing Set**"
      ]
    },
    {
      "cell_type": "code",
      "metadata": {
        "id": "fpBPha-z6gyA",
        "colab": {
          "base_uri": "https://localhost:8080/"
        },
        "outputId": "e0c0e958-d633-472c-a54a-d9fc2c5e5c89"
      },
      "source": [
        "test_tokens_tensor = torch.tensor(test_tokens_ids)\n",
        "test_y_tensor = torch.tensor(test_y.reshape(-1, 1)).long()\n",
        "\n",
        "test_masks_tensor = torch.tensor(test_masks)\n",
        "\n",
        "\n",
        "test_dataset = TensorDataset(test_tokens_tensor, test_masks_tensor, test_y_tensor)\n",
        "test_sampler = SequentialSampler(test_dataset)\n",
        "test_dataloader = DataLoader(test_dataset, sampler=test_sampler, batch_size=16)\n"
      ],
      "execution_count": 173,
      "outputs": [
        {
          "output_type": "stream",
          "name": "stderr",
          "text": [
            "/usr/local/lib/python3.7/dist-packages/ipykernel_launcher.py:1: UserWarning: To copy construct from a tensor, it is recommended to use sourceTensor.clone().detach() or sourceTensor.clone().detach().requires_grad_(True), rather than torch.tensor(sourceTensor).\n",
            "  \"\"\"Entry point for launching an IPython kernel.\n",
            "/usr/local/lib/python3.7/dist-packages/ipykernel_launcher.py:4: UserWarning: To copy construct from a tensor, it is recommended to use sourceTensor.clone().detach() or sourceTensor.clone().detach().requires_grad_(True), rather than torch.tensor(sourceTensor).\n",
            "  after removing the cwd from sys.path.\n"
          ]
        }
      ]
    },
    {
      "cell_type": "code",
      "metadata": {
        "id": "9QSujIkh6s79"
      },
      "source": [
        "# Evaluate Model\n",
        "gtp_clf.eval() # Define eval\n",
        "gpt_predicted = [] # Store Result\n",
        "with torch.no_grad():\n",
        "    for step_num, batch_data in enumerate(test_dataloader):\n",
        "\n",
        "        token_ids, masks, labels = tuple(t.to(device) for t in batch_data)\n",
        "\n",
        "        # ----------------------------------------------------------------\n",
        "        outputs = gtp_clf.gtp2(token_ids,attention_mask=masks,labels=labels)\n",
        "        loss, logits = outputs[:2]\n",
        "        numpy_logits = logits.detach().cpu().numpy()\n",
        "        # ----------------------------------------------------------------\n",
        "        gpt_predicted +=list(numpy_logits.argmax(axis=-1).flatten().tolist())"
      ],
      "execution_count": 174,
      "outputs": []
    },
    {
      "cell_type": "code",
      "metadata": {
        "id": "Ke386Aoj6xXG",
        "colab": {
          "base_uri": "https://localhost:8080/",
          "height": 635
        },
        "outputId": "f05244d0-0eef-4388-d125-4dca79e40533"
      },
      "source": [
        "print_performance('GPT2',test_y, gpt_predicted)\n",
        "\n",
        "# Recording TPR and FPR for the TESTING-ROC curves\n",
        "GPT_test = {}\n",
        "GPT_test['fpr'], GPT_test['tpr'], thresh = roc_curve(test_y, gpt_predicted)\n",
        "GPT_test['auc'] = roc_auc_score(test_y, gpt_predicted) "
      ],
      "execution_count": 175,
      "outputs": [
        {
          "output_type": "stream",
          "name": "stdout",
          "text": [
            "Confusion Matrix: \n",
            " [[430   5]\n",
            " [  5 110]]\n",
            "\n",
            "Testing Accuracy: 0.98\n",
            "Precision:0.96\n",
            "Recall: 0.96\n",
            "False Positive Rate: 0.01\n",
            "\n",
            "Classification report:\n",
            "              precision    recall  f1-score   support\n",
            "\n",
            "       False       0.99      0.99      0.99       435\n",
            "        True       0.96      0.96      0.96       115\n",
            "\n",
            "    accuracy                           0.98       550\n",
            "   macro avg       0.97      0.97      0.97       550\n",
            "weighted avg       0.98      0.98      0.98       550\n",
            "\n",
            "AUC: 0.97\n"
          ]
        },
        {
          "output_type": "display_data",
          "data": {
            "image/png": "[encoded data removed]",
            "text/plain": [
              "<Figure size 432x288 with 1 Axes>"
            ]
          },
          "metadata": {
            "needs_background": "light"
          }
        }
      ]
    },
    {
      "cell_type": "code",
      "metadata": {
        "id": "DJgQwUXi62OA",
        "colab": {
          "base_uri": "https://localhost:8080/",
          "height": 404
        },
        "outputId": "639653fc-b6ca-410b-fa34-ea6f3ed8882e"
      },
      "source": [
        "# Ploting the overlaid ROC curves on testing results:\n",
        "graph_multi_ROC()"
      ],
      "execution_count": 176,
      "outputs": [
        {
          "output_type": "display_data",
          "data": {
            "image/png": "[encoded data removed]",
            "text/plain": [
              "<Figure size 648x432 with 1 Axes>"
            ]
          },
          "metadata": {
            "needs_background": "light"
          }
        }
      ]
    },
    {
      "cell_type": "markdown",
      "metadata": {
        "id": "CtoZZkWd8e-a"
      },
      "source": [
        "# **End**"
      ]
    },
    {
      "cell_type": "markdown",
      "metadata": {
        "id": "ZQNi0zQY7QYT"
      },
      "source": [
        "## **Note**\n",
        "\n",
        "BERT and GPT outperform the other algs.\n",
        "In Live Lpr, original intrusion data have 164227 sequences, but only 202 of them are unique. Normal data has 92 unique records --> lack of data especially intrusion data. --> upsampled to get intrusion = normal and double the data by upsampling. ==? Result is improved a lot more\n",
        "\n",
        "In MIT Live Lpr, when we bootstrap data to get normal = intrusion, BERT and GPT achieve 0.97 and 0.98, while the others only get 0.45 to 0.74 accuracy. When data from both classes are bootstraped to double the amount, BERT achieve 0.99 accuracy abd RF increase accuracy by 0.02, while the rest does not have any improvement.\n"
      ]
    },
    {
      "cell_type": "code",
      "metadata": {
        "id": "tLlkDYpKcLEq"
      },
      "source": [
        ""
      ],
      "execution_count": 176,
      "outputs": []
    }
  ]
}