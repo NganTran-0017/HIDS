{
  "nbformat": 4,
  "nbformat_minor": 0,
  "metadata": {
    "accelerator": "GPU",
    "colab": {
      "name": " HIDS_ADFA.ipynb",
      "provenance": [],
      "collapsed_sections": [],
      "toc_visible": true,
      "include_colab_link": true
    },
    "kernelspec": {
      "display_name": "Python 3",
      "language": "python",
      "name": "python3"
    },
    "language_info": {
      "codemirror_mode": {
        "name": "ipython",
        "version": 3
      },
      "file_extension": ".py",
      "mimetype": "text/x-python",
      "name": "python",
      "nbconvert_exporter": "python",
      "pygments_lexer": "ipython3",
      "version": "3.8.5"
    }
  },
  "cells": [
    {
      "cell_type": "markdown",
      "metadata": {
        "id": "view-in-github",
        "colab_type": "text"
      },
      "source": [
        "<a href=\"https://colab.research.google.com/github/NganTran-0017/HIDS/blob/main/HIDS_ADFA.ipynb\" target=\"_parent\"><img src=\"https://colab.research.google.com/assets/colab-badge.svg\" alt=\"Open In Colab\"/></a>"
      ]
    },
    {
      "cell_type": "markdown",
      "metadata": {
        "id": "F4SwCY4NVnCL"
      },
      "source": [
        "#**Processing data**"
      ]
    },
    {
      "cell_type": "code",
      "metadata": {
        "colab": {
          "base_uri": "https://localhost:8080/"
        },
        "id": "dDDU0UkRplxK",
        "outputId": "6baebd81-de28-457b-d187-10a80e86d754"
      },
      "source": [
        "import pandas as pd\n",
        "import numpy as np\n",
        "import matplotlib.pyplot as plt\n",
        "from scipy import stats\n",
        "from sklearn.metrics import confusion_matrix, classification_report, roc_auc_score, accuracy_score, roc_curve, auc, recall_score, precision_score,plot_confusion_matrix\n",
        "\n",
        "from sklearn.model_selection import train_test_split\n",
        "%matplotlib inline\n",
        "\n",
        "DATA = 'ADFA-LD'\n",
        "\n",
        "import nltk\n",
        "nltk.download(\"popular\")"
      ],
      "execution_count": 1,
      "outputs": [
        {
          "output_type": "stream",
          "name": "stdout",
          "text": [
            "[nltk_data] Downloading collection 'popular'\n",
            "[nltk_data]    | \n",
            "[nltk_data]    | Downloading package cmudict to /root/nltk_data...\n",
            "[nltk_data]    |   Unzipping corpora/cmudict.zip.\n",
            "[nltk_data]    | Downloading package gazetteers to /root/nltk_data...\n",
            "[nltk_data]    |   Unzipping corpora/gazetteers.zip.\n",
            "[nltk_data]    | Downloading package genesis to /root/nltk_data...\n",
            "[nltk_data]    |   Unzipping corpora/genesis.zip.\n",
            "[nltk_data]    | Downloading package gutenberg to /root/nltk_data...\n",
            "[nltk_data]    |   Unzipping corpora/gutenberg.zip.\n",
            "[nltk_data]    | Downloading package inaugural to /root/nltk_data...\n",
            "[nltk_data]    |   Unzipping corpora/inaugural.zip.\n",
            "[nltk_data]    | Downloading package movie_reviews to\n",
            "[nltk_data]    |     /root/nltk_data...\n",
            "[nltk_data]    |   Unzipping corpora/movie_reviews.zip.\n",
            "[nltk_data]    | Downloading package names to /root/nltk_data...\n",
            "[nltk_data]    |   Unzipping corpora/names.zip.\n",
            "[nltk_data]    | Downloading package shakespeare to /root/nltk_data...\n",
            "[nltk_data]    |   Unzipping corpora/shakespeare.zip.\n",
            "[nltk_data]    | Downloading package stopwords to /root/nltk_data...\n",
            "[nltk_data]    |   Unzipping corpora/stopwords.zip.\n",
            "[nltk_data]    | Downloading package treebank to /root/nltk_data...\n",
            "[nltk_data]    |   Unzipping corpora/treebank.zip.\n",
            "[nltk_data]    | Downloading package twitter_samples to\n",
            "[nltk_data]    |     /root/nltk_data...\n",
            "[nltk_data]    |   Unzipping corpora/twitter_samples.zip.\n",
            "[nltk_data]    | Downloading package omw to /root/nltk_data...\n",
            "[nltk_data]    |   Unzipping corpora/omw.zip.\n",
            "[nltk_data]    | Downloading package wordnet to /root/nltk_data...\n",
            "[nltk_data]    |   Unzipping corpora/wordnet.zip.\n",
            "[nltk_data]    | Downloading package wordnet_ic to /root/nltk_data...\n",
            "[nltk_data]    |   Unzipping corpora/wordnet_ic.zip.\n",
            "[nltk_data]    | Downloading package words to /root/nltk_data...\n",
            "[nltk_data]    |   Unzipping corpora/words.zip.\n",
            "[nltk_data]    | Downloading package maxent_ne_chunker to\n",
            "[nltk_data]    |     /root/nltk_data...\n",
            "[nltk_data]    |   Unzipping chunkers/maxent_ne_chunker.zip.\n",
            "[nltk_data]    | Downloading package punkt to /root/nltk_data...\n",
            "[nltk_data]    |   Unzipping tokenizers/punkt.zip.\n",
            "[nltk_data]    | Downloading package snowball_data to\n",
            "[nltk_data]    |     /root/nltk_data...\n",
            "[nltk_data]    | Downloading package averaged_perceptron_tagger to\n",
            "[nltk_data]    |     /root/nltk_data...\n",
            "[nltk_data]    |   Unzipping taggers/averaged_perceptron_tagger.zip.\n",
            "[nltk_data]    | \n",
            "[nltk_data]  Done downloading collection popular\n"
          ]
        },
        {
          "output_type": "execute_result",
          "data": {
            "text/plain": [
              "True"
            ]
          },
          "metadata": {},
          "execution_count": 1
        }
      ]
    },
    {
      "cell_type": "code",
      "metadata": {
        "colab": {
          "base_uri": "https://localhost:8080/"
        },
        "id": "pLwz1U-8pkEo",
        "outputId": "4f4d842a-b91b-4aaf-c9fb-2a8d0e9a9f5f"
      },
      "source": [
        "# Load data and unzip them\n",
        "! wget 'https://github.com/NganTran-0017/HIDS/blob/main/Datasets/ADFA-LD/Training_Data_Master.zip?raw=true'\n",
        "! wget 'https://github.com/NganTran-0017/HIDS/blob/main/Datasets/ADFA-LD/Attack_Data_Master.zip?raw=true'\n"
      ],
      "execution_count": 2,
      "outputs": [
        {
          "output_type": "stream",
          "name": "stdout",
          "text": [
            "--2021-09-29 01:33:06--  https://github.com/NganTran-0017/HIDS/blob/main/Datasets/ADFA-LD/Training_Data_Master.zip?raw=true\n",
            "Resolving github.com (github.com)... 192.30.255.113\n",
            "Connecting to github.com (github.com)|192.30.255.113|:443... connected.\n",
            "HTTP request sent, awaiting response... 302 Found\n",
            "Location: https://github.com/NganTran-0017/HIDS/raw/main/Datasets/ADFA-LD/Training_Data_Master.zip [following]\n",
            "--2021-09-29 01:33:06--  https://github.com/NganTran-0017/HIDS/raw/main/Datasets/ADFA-LD/Training_Data_Master.zip\n",
            "Reusing existing connection to github.com:443.\n",
            "HTTP request sent, awaiting response... 302 Found\n",
            "Location: https://raw.githubusercontent.com/NganTran-0017/HIDS/main/Datasets/ADFA-LD/Training_Data_Master.zip [following]\n",
            "--2021-09-29 01:33:06--  https://raw.githubusercontent.com/NganTran-0017/HIDS/main/Datasets/ADFA-LD/Training_Data_Master.zip\n",
            "Resolving raw.githubusercontent.com (raw.githubusercontent.com)... 185.199.109.133, 185.199.111.133, 185.199.110.133, ...\n",
            "Connecting to raw.githubusercontent.com (raw.githubusercontent.com)|185.199.109.133|:443... connected.\n",
            "HTTP request sent, awaiting response... 200 OK\n",
            "Length: 250132 (244K) [application/zip]\n",
            "Saving to: ‘Training_Data_Master.zip?raw=true’\n",
            "\n",
            "Training_Data_Maste 100%[===================>] 244.27K  --.-KB/s    in 0.02s   \n",
            "\n",
            "2021-09-29 01:33:06 (12.2 MB/s) - ‘Training_Data_Master.zip?raw=true’ saved [250132/250132]\n",
            "\n",
            "--2021-09-29 01:33:06--  https://github.com/NganTran-0017/HIDS/blob/main/Datasets/ADFA-LD/Attack_Data_Master.zip?raw=true\n",
            "Resolving github.com (github.com)... 192.30.255.112\n",
            "Connecting to github.com (github.com)|192.30.255.112|:443... connected.\n",
            "HTTP request sent, awaiting response... 302 Found\n",
            "Location: https://github.com/NganTran-0017/HIDS/raw/main/Datasets/ADFA-LD/Attack_Data_Master.zip [following]\n",
            "--2021-09-29 01:33:07--  https://github.com/NganTran-0017/HIDS/raw/main/Datasets/ADFA-LD/Attack_Data_Master.zip\n",
            "Reusing existing connection to github.com:443.\n",
            "HTTP request sent, awaiting response... 302 Found\n",
            "Location: https://raw.githubusercontent.com/NganTran-0017/HIDS/main/Datasets/ADFA-LD/Attack_Data_Master.zip [following]\n",
            "--2021-09-29 01:33:07--  https://raw.githubusercontent.com/NganTran-0017/HIDS/main/Datasets/ADFA-LD/Attack_Data_Master.zip\n",
            "Resolving raw.githubusercontent.com (raw.githubusercontent.com)... 185.199.108.133, 185.199.110.133, 185.199.111.133, ...\n",
            "Connecting to raw.githubusercontent.com (raw.githubusercontent.com)|185.199.108.133|:443... connected.\n",
            "HTTP request sent, awaiting response... 200 OK\n",
            "Length: 312358 (305K) [application/zip]\n",
            "Saving to: ‘Attack_Data_Master.zip?raw=true’\n",
            "\n",
            "Attack_Data_Master. 100%[===================>] 305.04K  --.-KB/s    in 0.02s   \n",
            "\n",
            "2021-09-29 01:33:07 (14.4 MB/s) - ‘Attack_Data_Master.zip?raw=true’ saved [312358/312358]\n",
            "\n"
          ]
        }
      ]
    },
    {
      "cell_type": "code",
      "metadata": {
        "id": "C4sDQJhZIsXx",
        "colab": {
          "base_uri": "https://localhost:8080/"
        },
        "outputId": "9ecdf27b-1a0a-40a6-c0b4-2e2ec99cfcdc"
      },
      "source": [
        "# Rename files\n",
        "! mv Attack_Data_Master.zip?raw=true   Attack_Data_Master.zip\n",
        "! mv Training_Data_Master.zip?raw=true Training_Data_Master.zip\n",
        "\n",
        "# Unzip files\n",
        "! unzip Training_Data_Master.zip\n",
        "! unzip Attack_Data_Master.zip"
      ],
      "execution_count": 3,
      "outputs": [
        {
          "output_type": "stream",
          "name": "stdout",
          "text": [
            "Archive:  Training_Data_Master.zip\n",
            "  inflating: Training_Data_Master/UTD-0001.txt  \n",
            "  inflating: Training_Data_Master/UTD-0002.txt  \n",
            "  inflating: Training_Data_Master/UTD-0003.txt  \n",
            "  inflating: Training_Data_Master/UTD-0004.txt  \n",
            "  inflating: Training_Data_Master/UTD-0005.txt  \n",
            "  inflating: Training_Data_Master/UTD-0006.txt  \n",
            "  inflating: Training_Data_Master/UTD-0007.txt  \n",
            "  inflating: Training_Data_Master/UTD-0008.txt  \n",
            "  inflating: Training_Data_Master/UTD-0009.txt  \n",
            "  inflating: Training_Data_Master/UTD-0010.txt  \n",
            "  inflating: Training_Data_Master/UTD-0011.txt  \n",
            "  inflating: Training_Data_Master/UTD-0012.txt  \n",
            "  inflating: Training_Data_Master/UTD-0013.txt  \n",
            "  inflating: Training_Data_Master/UTD-0014.txt  \n",
            "  inflating: Training_Data_Master/UTD-0015.txt  \n",
            "  inflating: Training_Data_Master/UTD-0016.txt  \n",
            "  inflating: Training_Data_Master/UTD-0017.txt  \n",
            "  inflating: Training_Data_Master/UTD-0018.txt  \n",
            "  inflating: Training_Data_Master/UTD-0019.txt  \n",
            "  inflating: Training_Data_Master/UTD-0020.txt  \n",
            "  inflating: Training_Data_Master/UTD-0021.txt  \n",
            "  inflating: Training_Data_Master/UTD-0022.txt  \n",
            "  inflating: Training_Data_Master/UTD-0023.txt  \n",
            "  inflating: Training_Data_Master/UTD-0024.txt  \n",
            "  inflating: Training_Data_Master/UTD-0025.txt  \n",
            "  inflating: Training_Data_Master/UTD-0026.txt  \n",
            "  inflating: Training_Data_Master/UTD-0027.txt  \n",
            "  inflating: Training_Data_Master/UTD-0028.txt  \n",
            "  inflating: Training_Data_Master/UTD-0029.txt  \n",
            "  inflating: Training_Data_Master/UTD-0030.txt  \n",
            "  inflating: Training_Data_Master/UTD-0031.txt  \n",
            "  inflating: Training_Data_Master/UTD-0032.txt  \n",
            "  inflating: Training_Data_Master/UTD-0033.txt  \n",
            "  inflating: Training_Data_Master/UTD-0034.txt  \n",
            "  inflating: Training_Data_Master/UTD-0035.txt  \n",
            "  inflating: Training_Data_Master/UTD-0036.txt  \n",
            "  inflating: Training_Data_Master/UTD-0037.txt  \n",
            "  inflating: Training_Data_Master/UTD-0038.txt  \n",
            "  inflating: Training_Data_Master/UTD-0039.txt  \n",
            "  inflating: Training_Data_Master/UTD-0040.txt  \n",
            "  inflating: Training_Data_Master/UTD-0041.txt  \n",
            "  inflating: Training_Data_Master/UTD-0042.txt  \n",
            "  inflating: Training_Data_Master/UTD-0043.txt  \n",
            "  inflating: Training_Data_Master/UTD-0044.txt  \n",
            "  inflating: Training_Data_Master/UTD-0045.txt  \n",
            "  inflating: Training_Data_Master/UTD-0046.txt  \n",
            "  inflating: Training_Data_Master/UTD-0047.txt  \n",
            "  inflating: Training_Data_Master/UTD-0048.txt  \n",
            "  inflating: Training_Data_Master/UTD-0049.txt  \n",
            "  inflating: Training_Data_Master/UTD-0050.txt  \n",
            "  inflating: Training_Data_Master/UTD-0051.txt  \n",
            "  inflating: Training_Data_Master/UTD-0052.txt  \n",
            "  inflating: Training_Data_Master/UTD-0053.txt  \n",
            "  inflating: Training_Data_Master/UTD-0054.txt  \n",
            "  inflating: Training_Data_Master/UTD-0055.txt  \n",
            "  inflating: Training_Data_Master/UTD-0056.txt  \n",
            "  inflating: Training_Data_Master/UTD-0057.txt  \n",
            "  inflating: Training_Data_Master/UTD-0058.txt  \n",
            "  inflating: Training_Data_Master/UTD-0059.txt  \n",
            "  inflating: Training_Data_Master/UTD-0060.txt  \n",
            "  inflating: Training_Data_Master/UTD-0061.txt  \n",
            "  inflating: Training_Data_Master/UTD-0062.txt  \n",
            "  inflating: Training_Data_Master/UTD-0063.txt  \n",
            "  inflating: Training_Data_Master/UTD-0064.txt  \n",
            "  inflating: Training_Data_Master/UTD-0065.txt  \n",
            "  inflating: Training_Data_Master/UTD-0066.txt  \n",
            "  inflating: Training_Data_Master/UTD-0067.txt  \n",
            "  inflating: Training_Data_Master/UTD-0068.txt  \n",
            "  inflating: Training_Data_Master/UTD-0069.txt  \n",
            "  inflating: Training_Data_Master/UTD-0070.txt  \n",
            "  inflating: Training_Data_Master/UTD-0071.txt  \n",
            "  inflating: Training_Data_Master/UTD-0072.txt  \n",
            "  inflating: Training_Data_Master/UTD-0073.txt  \n",
            "  inflating: Training_Data_Master/UTD-0074.txt  \n",
            "  inflating: Training_Data_Master/UTD-0075.txt  \n",
            "  inflating: Training_Data_Master/UTD-0076.txt  \n",
            "  inflating: Training_Data_Master/UTD-0077.txt  \n",
            "  inflating: Training_Data_Master/UTD-0078.txt  \n",
            "  inflating: Training_Data_Master/UTD-0079.txt  \n",
            "  inflating: Training_Data_Master/UTD-0080.txt  \n",
            "  inflating: Training_Data_Master/UTD-0081.txt  \n",
            "  inflating: Training_Data_Master/UTD-0082.txt  \n",
            "  inflating: Training_Data_Master/UTD-0083.txt  \n",
            "  inflating: Training_Data_Master/UTD-0084.txt  \n",
            "  inflating: Training_Data_Master/UTD-0085.txt  \n",
            "  inflating: Training_Data_Master/UTD-0086.txt  \n",
            "  inflating: Training_Data_Master/UTD-0087.txt  \n",
            "  inflating: Training_Data_Master/UTD-0088.txt  \n",
            "  inflating: Training_Data_Master/UTD-0089.txt  \n",
            "  inflating: Training_Data_Master/UTD-0090.txt  \n",
            "  inflating: Training_Data_Master/UTD-0091.txt  \n",
            "  inflating: Training_Data_Master/UTD-0092.txt  \n",
            "  inflating: Training_Data_Master/UTD-0093.txt  \n",
            "  inflating: Training_Data_Master/UTD-0094.txt  \n",
            "  inflating: Training_Data_Master/UTD-0095.txt  \n",
            "  inflating: Training_Data_Master/UTD-0096.txt  \n",
            "  inflating: Training_Data_Master/UTD-0097.txt  \n",
            "  inflating: Training_Data_Master/UTD-0098.txt  \n",
            "  inflating: Training_Data_Master/UTD-0099.txt  \n",
            "  inflating: Training_Data_Master/UTD-0100.txt  \n",
            "  inflating: Training_Data_Master/UTD-0101.txt  \n",
            "  inflating: Training_Data_Master/UTD-0102.txt  \n",
            "  inflating: Training_Data_Master/UTD-0103.txt  \n",
            "  inflating: Training_Data_Master/UTD-0104.txt  \n",
            "  inflating: Training_Data_Master/UTD-0105.txt  \n",
            "  inflating: Training_Data_Master/UTD-0106.txt  \n",
            "  inflating: Training_Data_Master/UTD-0107.txt  \n",
            "  inflating: Training_Data_Master/UTD-0108.txt  \n",
            "  inflating: Training_Data_Master/UTD-0109.txt  \n",
            "  inflating: Training_Data_Master/UTD-0110.txt  \n",
            "  inflating: Training_Data_Master/UTD-0111.txt  \n",
            "  inflating: Training_Data_Master/UTD-0112.txt  \n",
            "  inflating: Training_Data_Master/UTD-0113.txt  \n",
            "  inflating: Training_Data_Master/UTD-0114.txt  \n",
            "  inflating: Training_Data_Master/UTD-0115.txt  \n",
            "  inflating: Training_Data_Master/UTD-0116.txt  \n",
            "  inflating: Training_Data_Master/UTD-0117.txt  \n",
            "  inflating: Training_Data_Master/UTD-0118.txt  \n",
            "  inflating: Training_Data_Master/UTD-0119.txt  \n",
            "  inflating: Training_Data_Master/UTD-0120.txt  \n",
            "  inflating: Training_Data_Master/UTD-0121.txt  \n",
            "  inflating: Training_Data_Master/UTD-0122.txt  \n",
            "  inflating: Training_Data_Master/UTD-0123.txt  \n",
            "  inflating: Training_Data_Master/UTD-0124.txt  \n",
            "  inflating: Training_Data_Master/UTD-0125.txt  \n",
            "  inflating: Training_Data_Master/UTD-0126.txt  \n",
            "  inflating: Training_Data_Master/UTD-0127.txt  \n",
            "  inflating: Training_Data_Master/UTD-0128.txt  \n",
            "  inflating: Training_Data_Master/UTD-0129.txt  \n",
            "  inflating: Training_Data_Master/UTD-0130.txt  \n",
            "  inflating: Training_Data_Master/UTD-0131.txt  \n",
            "  inflating: Training_Data_Master/UTD-0132.txt  \n",
            "  inflating: Training_Data_Master/UTD-0133.txt  \n",
            "  inflating: Training_Data_Master/UTD-0134.txt  \n",
            "  inflating: Training_Data_Master/UTD-0135.txt  \n",
            "  inflating: Training_Data_Master/UTD-0136.txt  \n",
            "  inflating: Training_Data_Master/UTD-0137.txt  \n",
            "  inflating: Training_Data_Master/UTD-0138.txt  \n",
            "  inflating: Training_Data_Master/UTD-0139.txt  \n",
            "  inflating: Training_Data_Master/UTD-0140.txt  \n",
            "  inflating: Training_Data_Master/UTD-0141.txt  \n",
            "  inflating: Training_Data_Master/UTD-0142.txt  \n",
            "  inflating: Training_Data_Master/UTD-0143.txt  \n",
            "  inflating: Training_Data_Master/UTD-0144.txt  \n",
            "  inflating: Training_Data_Master/UTD-0145.txt  \n",
            "  inflating: Training_Data_Master/UTD-0146.txt  \n",
            "  inflating: Training_Data_Master/UTD-0147.txt  \n",
            "  inflating: Training_Data_Master/UTD-0148.txt  \n",
            "  inflating: Training_Data_Master/UTD-0149.txt  \n",
            "  inflating: Training_Data_Master/UTD-0150.txt  \n",
            "  inflating: Training_Data_Master/UTD-0151.txt  \n",
            "  inflating: Training_Data_Master/UTD-0152.txt  \n",
            "  inflating: Training_Data_Master/UTD-0153.txt  \n",
            "  inflating: Training_Data_Master/UTD-0154.txt  \n",
            "  inflating: Training_Data_Master/UTD-0155.txt  \n",
            "  inflating: Training_Data_Master/UTD-0156.txt  \n",
            "  inflating: Training_Data_Master/UTD-0157.txt  \n",
            "  inflating: Training_Data_Master/UTD-0158.txt  \n",
            "  inflating: Training_Data_Master/UTD-0159.txt  \n",
            "  inflating: Training_Data_Master/UTD-0160.txt  \n",
            "  inflating: Training_Data_Master/UTD-0161.txt  \n",
            "  inflating: Training_Data_Master/UTD-0162.txt  \n",
            "  inflating: Training_Data_Master/UTD-0163.txt  \n",
            "  inflating: Training_Data_Master/UTD-0164.txt  \n",
            "  inflating: Training_Data_Master/UTD-0165.txt  \n",
            "  inflating: Training_Data_Master/UTD-0166.txt  \n",
            "  inflating: Training_Data_Master/UTD-0167.txt  \n",
            "  inflating: Training_Data_Master/UTD-0168.txt  \n",
            "  inflating: Training_Data_Master/UTD-0169.txt  \n",
            "  inflating: Training_Data_Master/UTD-0170.txt  \n",
            "  inflating: Training_Data_Master/UTD-0171.txt  \n",
            "  inflating: Training_Data_Master/UTD-0172.txt  \n",
            "  inflating: Training_Data_Master/UTD-0173.txt  \n",
            "  inflating: Training_Data_Master/UTD-0174.txt  \n",
            "  inflating: Training_Data_Master/UTD-0175.txt  \n",
            "  inflating: Training_Data_Master/UTD-0176.txt  \n",
            "  inflating: Training_Data_Master/UTD-0177.txt  \n",
            "  inflating: Training_Data_Master/UTD-0178.txt  \n",
            "  inflating: Training_Data_Master/UTD-0179.txt  \n",
            "  inflating: Training_Data_Master/UTD-0180.txt  \n",
            "  inflating: Training_Data_Master/UTD-0181.txt  \n",
            "  inflating: Training_Data_Master/UTD-0182.txt  \n",
            "  inflating: Training_Data_Master/UTD-0183.txt  \n",
            "  inflating: Training_Data_Master/UTD-0184.txt  \n",
            "  inflating: Training_Data_Master/UTD-0185.txt  \n",
            "  inflating: Training_Data_Master/UTD-0186.txt  \n",
            "  inflating: Training_Data_Master/UTD-0187.txt  \n",
            "  inflating: Training_Data_Master/UTD-0188.txt  \n",
            "  inflating: Training_Data_Master/UTD-0189.txt  \n",
            "  inflating: Training_Data_Master/UTD-0190.txt  \n",
            "  inflating: Training_Data_Master/UTD-0191.txt  \n",
            "  inflating: Training_Data_Master/UTD-0192.txt  \n",
            "  inflating: Training_Data_Master/UTD-0193.txt  \n",
            "  inflating: Training_Data_Master/UTD-0194.txt  \n",
            "  inflating: Training_Data_Master/UTD-0195.txt  \n",
            "  inflating: Training_Data_Master/UTD-0196.txt  \n",
            "  inflating: Training_Data_Master/UTD-0197.txt  \n",
            "  inflating: Training_Data_Master/UTD-0198.txt  \n",
            "  inflating: Training_Data_Master/UTD-0199.txt  \n",
            "  inflating: Training_Data_Master/UTD-0200.txt  \n",
            "  inflating: Training_Data_Master/UTD-0201.txt  \n",
            "  inflating: Training_Data_Master/UTD-0202.txt  \n",
            "  inflating: Training_Data_Master/UTD-0203.txt  \n",
            "  inflating: Training_Data_Master/UTD-0204.txt  \n",
            "  inflating: Training_Data_Master/UTD-0205.txt  \n",
            "  inflating: Training_Data_Master/UTD-0206.txt  \n",
            "  inflating: Training_Data_Master/UTD-0207.txt  \n",
            "  inflating: Training_Data_Master/UTD-0208.txt  \n",
            "  inflating: Training_Data_Master/UTD-0209.txt  \n",
            "  inflating: Training_Data_Master/UTD-0210.txt  \n",
            "  inflating: Training_Data_Master/UTD-0211.txt  \n",
            "  inflating: Training_Data_Master/UTD-0212.txt  \n",
            "  inflating: Training_Data_Master/UTD-0213.txt  \n",
            "  inflating: Training_Data_Master/UTD-0214.txt  \n",
            "  inflating: Training_Data_Master/UTD-0215.txt  \n",
            "  inflating: Training_Data_Master/UTD-0216.txt  \n",
            "  inflating: Training_Data_Master/UTD-0217.txt  \n",
            "  inflating: Training_Data_Master/UTD-0218.txt  \n",
            "  inflating: Training_Data_Master/UTD-0219.txt  \n",
            "  inflating: Training_Data_Master/UTD-0220.txt  \n",
            "  inflating: Training_Data_Master/UTD-0221.txt  \n",
            "  inflating: Training_Data_Master/UTD-0222.txt  \n",
            "  inflating: Training_Data_Master/UTD-0223.txt  \n",
            "  inflating: Training_Data_Master/UTD-0224.txt  \n",
            "  inflating: Training_Data_Master/UTD-0225.txt  \n",
            "  inflating: Training_Data_Master/UTD-0226.txt  \n",
            "  inflating: Training_Data_Master/UTD-0227.txt  \n",
            "  inflating: Training_Data_Master/UTD-0228.txt  \n",
            "  inflating: Training_Data_Master/UTD-0229.txt  \n",
            "  inflating: Training_Data_Master/UTD-0230.txt  \n",
            "  inflating: Training_Data_Master/UTD-0231.txt  \n",
            "  inflating: Training_Data_Master/UTD-0232.txt  \n",
            "  inflating: Training_Data_Master/UTD-0233.txt  \n",
            "  inflating: Training_Data_Master/UTD-0234.txt  \n",
            "  inflating: Training_Data_Master/UTD-0235.txt  \n",
            "  inflating: Training_Data_Master/UTD-0236.txt  \n",
            "  inflating: Training_Data_Master/UTD-0237.txt  \n",
            "  inflating: Training_Data_Master/UTD-0238.txt  \n",
            "  inflating: Training_Data_Master/UTD-0239.txt  \n",
            "  inflating: Training_Data_Master/UTD-0240.txt  \n",
            "  inflating: Training_Data_Master/UTD-0241.txt  \n",
            "  inflating: Training_Data_Master/UTD-0242.txt  \n",
            "  inflating: Training_Data_Master/UTD-0243.txt  \n",
            "  inflating: Training_Data_Master/UTD-0244.txt  \n",
            "  inflating: Training_Data_Master/UTD-0245.txt  \n",
            "  inflating: Training_Data_Master/UTD-0246.txt  \n",
            "  inflating: Training_Data_Master/UTD-0247.txt  \n",
            "  inflating: Training_Data_Master/UTD-0248.txt  \n",
            "  inflating: Training_Data_Master/UTD-0249.txt  \n",
            "  inflating: Training_Data_Master/UTD-0250.txt  \n",
            "  inflating: Training_Data_Master/UTD-0251.txt  \n",
            "  inflating: Training_Data_Master/UTD-0252.txt  \n",
            "  inflating: Training_Data_Master/UTD-0253.txt  \n",
            "  inflating: Training_Data_Master/UTD-0254.txt  \n",
            "  inflating: Training_Data_Master/UTD-0255.txt  \n",
            "  inflating: Training_Data_Master/UTD-0256.txt  \n",
            "  inflating: Training_Data_Master/UTD-0257.txt  \n",
            "  inflating: Training_Data_Master/UTD-0258.txt  \n",
            "  inflating: Training_Data_Master/UTD-0259.txt  \n",
            "  inflating: Training_Data_Master/UTD-0260.txt  \n",
            "  inflating: Training_Data_Master/UTD-0261.txt  \n",
            "  inflating: Training_Data_Master/UTD-0262.txt  \n",
            "  inflating: Training_Data_Master/UTD-0263.txt  \n",
            "  inflating: Training_Data_Master/UTD-0264.txt  \n",
            "  inflating: Training_Data_Master/UTD-0265.txt  \n",
            "  inflating: Training_Data_Master/UTD-0266.txt  \n",
            "  inflating: Training_Data_Master/UTD-0267.txt  \n",
            "  inflating: Training_Data_Master/UTD-0268.txt  \n",
            "  inflating: Training_Data_Master/UTD-0269.txt  \n",
            "  inflating: Training_Data_Master/UTD-0270.txt  \n",
            "  inflating: Training_Data_Master/UTD-0271.txt  \n",
            "  inflating: Training_Data_Master/UTD-0272.txt  \n",
            "  inflating: Training_Data_Master/UTD-0273.txt  \n",
            "  inflating: Training_Data_Master/UTD-0274.txt  \n",
            "  inflating: Training_Data_Master/UTD-0275.txt  \n",
            "  inflating: Training_Data_Master/UTD-0276.txt  \n",
            "  inflating: Training_Data_Master/UTD-0277.txt  \n",
            "  inflating: Training_Data_Master/UTD-0278.txt  \n",
            "  inflating: Training_Data_Master/UTD-0279.txt  \n",
            "  inflating: Training_Data_Master/UTD-0280.txt  \n",
            "  inflating: Training_Data_Master/UTD-0281.txt  \n",
            "  inflating: Training_Data_Master/UTD-0282.txt  \n",
            "  inflating: Training_Data_Master/UTD-0283.txt  \n",
            "  inflating: Training_Data_Master/UTD-0284.txt  \n",
            "  inflating: Training_Data_Master/UTD-0285.txt  \n",
            "  inflating: Training_Data_Master/UTD-0286.txt  \n",
            "  inflating: Training_Data_Master/UTD-0287.txt  \n",
            "  inflating: Training_Data_Master/UTD-0288.txt  \n",
            "  inflating: Training_Data_Master/UTD-0289.txt  \n",
            "  inflating: Training_Data_Master/UTD-0290.txt  \n",
            "  inflating: Training_Data_Master/UTD-0291.txt  \n",
            "  inflating: Training_Data_Master/UTD-0292.txt  \n",
            "  inflating: Training_Data_Master/UTD-0293.txt  \n",
            "  inflating: Training_Data_Master/UTD-0294.txt  \n",
            "  inflating: Training_Data_Master/UTD-0295.txt  \n",
            "  inflating: Training_Data_Master/UTD-0296.txt  \n",
            "  inflating: Training_Data_Master/UTD-0297.txt  \n",
            "  inflating: Training_Data_Master/UTD-0298.txt  \n",
            "  inflating: Training_Data_Master/UTD-0299.txt  \n",
            "  inflating: Training_Data_Master/UTD-0300.txt  \n",
            "  inflating: Training_Data_Master/UTD-0301.txt  \n",
            "  inflating: Training_Data_Master/UTD-0302.txt  \n",
            "  inflating: Training_Data_Master/UTD-0303.txt  \n",
            "  inflating: Training_Data_Master/UTD-0304.txt  \n",
            "  inflating: Training_Data_Master/UTD-0305.txt  \n",
            "  inflating: Training_Data_Master/UTD-0306.txt  \n",
            "  inflating: Training_Data_Master/UTD-0307.txt  \n",
            "  inflating: Training_Data_Master/UTD-0308.txt  \n",
            "  inflating: Training_Data_Master/UTD-0309.txt  \n",
            "  inflating: Training_Data_Master/UTD-0310.txt  \n",
            "  inflating: Training_Data_Master/UTD-0311.txt  \n",
            "  inflating: Training_Data_Master/UTD-0312.txt  \n",
            "  inflating: Training_Data_Master/UTD-0313.txt  \n",
            "  inflating: Training_Data_Master/UTD-0314.txt  \n",
            "  inflating: Training_Data_Master/UTD-0315.txt  \n",
            "  inflating: Training_Data_Master/UTD-0316.txt  \n",
            "  inflating: Training_Data_Master/UTD-0317.txt  \n",
            "  inflating: Training_Data_Master/UTD-0318.txt  \n",
            "  inflating: Training_Data_Master/UTD-0319.txt  \n",
            "  inflating: Training_Data_Master/UTD-0320.txt  \n",
            "  inflating: Training_Data_Master/UTD-0321.txt  \n",
            "  inflating: Training_Data_Master/UTD-0322.txt  \n",
            "  inflating: Training_Data_Master/UTD-0323.txt  \n",
            "  inflating: Training_Data_Master/UTD-0324.txt  \n",
            "  inflating: Training_Data_Master/UTD-0325.txt  \n",
            "  inflating: Training_Data_Master/UTD-0326.txt  \n",
            "  inflating: Training_Data_Master/UTD-0327.txt  \n",
            "  inflating: Training_Data_Master/UTD-0328.txt  \n",
            "  inflating: Training_Data_Master/UTD-0329.txt  \n",
            "  inflating: Training_Data_Master/UTD-0330.txt  \n",
            "  inflating: Training_Data_Master/UTD-0331.txt  \n",
            "  inflating: Training_Data_Master/UTD-0332.txt  \n",
            "  inflating: Training_Data_Master/UTD-0333.txt  \n",
            "  inflating: Training_Data_Master/UTD-0334.txt  \n",
            "  inflating: Training_Data_Master/UTD-0335.txt  \n",
            "  inflating: Training_Data_Master/UTD-0336.txt  \n",
            "  inflating: Training_Data_Master/UTD-0337.txt  \n",
            "  inflating: Training_Data_Master/UTD-0338.txt  \n",
            "  inflating: Training_Data_Master/UTD-0339.txt  \n",
            "  inflating: Training_Data_Master/UTD-0340.txt  \n",
            "  inflating: Training_Data_Master/UTD-0341.txt  \n",
            "  inflating: Training_Data_Master/UTD-0342.txt  \n",
            "  inflating: Training_Data_Master/UTD-0343.txt  \n",
            "  inflating: Training_Data_Master/UTD-0344.txt  \n",
            "  inflating: Training_Data_Master/UTD-0345.txt  \n",
            "  inflating: Training_Data_Master/UTD-0346.txt  \n",
            "  inflating: Training_Data_Master/UTD-0347.txt  \n",
            "  inflating: Training_Data_Master/UTD-0348.txt  \n",
            "  inflating: Training_Data_Master/UTD-0349.txt  \n",
            "  inflating: Training_Data_Master/UTD-0350.txt  \n",
            "  inflating: Training_Data_Master/UTD-0351.txt  \n",
            "  inflating: Training_Data_Master/UTD-0352.txt  \n",
            "  inflating: Training_Data_Master/UTD-0353.txt  \n",
            "  inflating: Training_Data_Master/UTD-0354.txt  \n",
            "  inflating: Training_Data_Master/UTD-0355.txt  \n",
            "  inflating: Training_Data_Master/UTD-0356.txt  \n",
            "  inflating: Training_Data_Master/UTD-0357.txt  \n",
            "  inflating: Training_Data_Master/UTD-0358.txt  \n",
            "  inflating: Training_Data_Master/UTD-0359.txt  \n",
            "  inflating: Training_Data_Master/UTD-0360.txt  \n",
            "  inflating: Training_Data_Master/UTD-0361.txt  \n",
            "  inflating: Training_Data_Master/UTD-0362.txt  \n",
            "  inflating: Training_Data_Master/UTD-0363.txt  \n",
            "  inflating: Training_Data_Master/UTD-0364.txt  \n",
            "  inflating: Training_Data_Master/UTD-0365.txt  \n",
            "  inflating: Training_Data_Master/UTD-0366.txt  \n",
            "  inflating: Training_Data_Master/UTD-0367.txt  \n",
            "  inflating: Training_Data_Master/UTD-0368.txt  \n",
            "  inflating: Training_Data_Master/UTD-0369.txt  \n",
            "  inflating: Training_Data_Master/UTD-0370.txt  \n",
            "  inflating: Training_Data_Master/UTD-0371.txt  \n",
            "  inflating: Training_Data_Master/UTD-0372.txt  \n",
            "  inflating: Training_Data_Master/UTD-0373.txt  \n",
            "  inflating: Training_Data_Master/UTD-0374.txt  \n",
            "  inflating: Training_Data_Master/UTD-0375.txt  \n",
            "  inflating: Training_Data_Master/UTD-0376.txt  \n",
            "  inflating: Training_Data_Master/UTD-0377.txt  \n",
            "  inflating: Training_Data_Master/UTD-0378.txt  \n",
            "  inflating: Training_Data_Master/UTD-0379.txt  \n",
            "  inflating: Training_Data_Master/UTD-0380.txt  \n",
            "  inflating: Training_Data_Master/UTD-0381.txt  \n",
            "  inflating: Training_Data_Master/UTD-0382.txt  \n",
            "  inflating: Training_Data_Master/UTD-0383.txt  \n",
            "  inflating: Training_Data_Master/UTD-0384.txt  \n",
            "  inflating: Training_Data_Master/UTD-0385.txt  \n",
            "  inflating: Training_Data_Master/UTD-0386.txt  \n",
            "  inflating: Training_Data_Master/UTD-0387.txt  \n",
            "  inflating: Training_Data_Master/UTD-0388.txt  \n",
            "  inflating: Training_Data_Master/UTD-0389.txt  \n",
            "  inflating: Training_Data_Master/UTD-0390.txt  \n",
            "  inflating: Training_Data_Master/UTD-0391.txt  \n",
            "  inflating: Training_Data_Master/UTD-0392.txt  \n",
            "  inflating: Training_Data_Master/UTD-0393.txt  \n",
            "  inflating: Training_Data_Master/UTD-0394.txt  \n",
            "  inflating: Training_Data_Master/UTD-0395.txt  \n",
            "  inflating: Training_Data_Master/UTD-0396.txt  \n",
            "  inflating: Training_Data_Master/UTD-0397.txt  \n",
            "  inflating: Training_Data_Master/UTD-0398.txt  \n",
            "  inflating: Training_Data_Master/UTD-0399.txt  \n",
            "  inflating: Training_Data_Master/UTD-0400.txt  \n",
            "  inflating: Training_Data_Master/UTD-0401.txt  \n",
            "  inflating: Training_Data_Master/UTD-0402.txt  \n",
            "  inflating: Training_Data_Master/UTD-0403.txt  \n",
            "  inflating: Training_Data_Master/UTD-0404.txt  \n",
            "  inflating: Training_Data_Master/UTD-0405.txt  \n",
            "  inflating: Training_Data_Master/UTD-0406.txt  \n",
            "  inflating: Training_Data_Master/UTD-0407.txt  \n",
            "  inflating: Training_Data_Master/UTD-0408.txt  \n",
            "  inflating: Training_Data_Master/UTD-0409.txt  \n",
            "  inflating: Training_Data_Master/UTD-0410.txt  \n",
            "  inflating: Training_Data_Master/UTD-0411.txt  \n",
            "  inflating: Training_Data_Master/UTD-0412.txt  \n",
            "  inflating: Training_Data_Master/UTD-0413.txt  \n",
            "  inflating: Training_Data_Master/UTD-0414.txt  \n",
            "  inflating: Training_Data_Master/UTD-0415.txt  \n",
            "  inflating: Training_Data_Master/UTD-0416.txt  \n",
            "  inflating: Training_Data_Master/UTD-0417.txt  \n",
            "  inflating: Training_Data_Master/UTD-0418.txt  \n",
            "  inflating: Training_Data_Master/UTD-0419.txt  \n",
            "  inflating: Training_Data_Master/UTD-0420.txt  \n",
            "  inflating: Training_Data_Master/UTD-0421.txt  \n",
            "  inflating: Training_Data_Master/UTD-0422.txt  \n",
            "  inflating: Training_Data_Master/UTD-0423.txt  \n",
            "  inflating: Training_Data_Master/UTD-0424.txt  \n",
            "  inflating: Training_Data_Master/UTD-0425.txt  \n",
            "  inflating: Training_Data_Master/UTD-0426.txt  \n",
            "  inflating: Training_Data_Master/UTD-0427.txt  \n",
            "  inflating: Training_Data_Master/UTD-0428.txt  \n",
            "  inflating: Training_Data_Master/UTD-0429.txt  \n",
            "  inflating: Training_Data_Master/UTD-0430.txt  \n",
            "  inflating: Training_Data_Master/UTD-0431.txt  \n",
            "  inflating: Training_Data_Master/UTD-0432.txt  \n",
            "  inflating: Training_Data_Master/UTD-0433.txt  \n",
            "  inflating: Training_Data_Master/UTD-0434.txt  \n",
            "  inflating: Training_Data_Master/UTD-0435.txt  \n",
            "  inflating: Training_Data_Master/UTD-0436.txt  \n",
            "  inflating: Training_Data_Master/UTD-0437.txt  \n",
            "  inflating: Training_Data_Master/UTD-0438.txt  \n",
            "  inflating: Training_Data_Master/UTD-0439.txt  \n",
            "  inflating: Training_Data_Master/UTD-0440.txt  \n",
            "  inflating: Training_Data_Master/UTD-0441.txt  \n",
            "  inflating: Training_Data_Master/UTD-0442.txt  \n",
            "  inflating: Training_Data_Master/UTD-0443.txt  \n",
            "  inflating: Training_Data_Master/UTD-0444.txt  \n",
            "  inflating: Training_Data_Master/UTD-0445.txt  \n",
            "  inflating: Training_Data_Master/UTD-0446.txt  \n",
            "  inflating: Training_Data_Master/UTD-0447.txt  \n",
            "  inflating: Training_Data_Master/UTD-0448.txt  \n",
            "  inflating: Training_Data_Master/UTD-0449.txt  \n",
            "  inflating: Training_Data_Master/UTD-0450.txt  \n",
            "  inflating: Training_Data_Master/UTD-0451.txt  \n",
            "  inflating: Training_Data_Master/UTD-0452.txt  \n",
            "  inflating: Training_Data_Master/UTD-0453.txt  \n",
            "  inflating: Training_Data_Master/UTD-0454.txt  \n",
            "  inflating: Training_Data_Master/UTD-0455.txt  \n",
            "  inflating: Training_Data_Master/UTD-0456.txt  \n",
            "  inflating: Training_Data_Master/UTD-0457.txt  \n",
            "  inflating: Training_Data_Master/UTD-0458.txt  \n",
            "  inflating: Training_Data_Master/UTD-0459.txt  \n",
            "  inflating: Training_Data_Master/UTD-0460.txt  \n",
            "  inflating: Training_Data_Master/UTD-0461.txt  \n",
            "  inflating: Training_Data_Master/UTD-0462.txt  \n",
            "  inflating: Training_Data_Master/UTD-0463.txt  \n",
            "  inflating: Training_Data_Master/UTD-0464.txt  \n",
            "  inflating: Training_Data_Master/UTD-0465.txt  \n",
            "  inflating: Training_Data_Master/UTD-0466.txt  \n",
            "  inflating: Training_Data_Master/UTD-0467.txt  \n",
            "  inflating: Training_Data_Master/UTD-0468.txt  \n",
            "  inflating: Training_Data_Master/UTD-0469.txt  \n",
            "  inflating: Training_Data_Master/UTD-0470.txt  \n",
            "  inflating: Training_Data_Master/UTD-0471.txt  \n",
            "  inflating: Training_Data_Master/UTD-0472.txt  \n",
            "  inflating: Training_Data_Master/UTD-0473.txt  \n",
            "  inflating: Training_Data_Master/UTD-0474.txt  \n",
            "  inflating: Training_Data_Master/UTD-0475.txt  \n",
            "  inflating: Training_Data_Master/UTD-0476.txt  \n",
            "  inflating: Training_Data_Master/UTD-0477.txt  \n",
            "  inflating: Training_Data_Master/UTD-0478.txt  \n",
            "  inflating: Training_Data_Master/UTD-0479.txt  \n",
            "  inflating: Training_Data_Master/UTD-0480.txt  \n",
            "  inflating: Training_Data_Master/UTD-0481.txt  \n",
            "  inflating: Training_Data_Master/UTD-0482.txt  \n",
            "  inflating: Training_Data_Master/UTD-0483.txt  \n",
            "  inflating: Training_Data_Master/UTD-0484.txt  \n",
            "  inflating: Training_Data_Master/UTD-0485.txt  \n",
            "  inflating: Training_Data_Master/UTD-0486.txt  \n",
            "  inflating: Training_Data_Master/UTD-0487.txt  \n",
            "  inflating: Training_Data_Master/UTD-0488.txt  \n",
            "  inflating: Training_Data_Master/UTD-0489.txt  \n",
            "  inflating: Training_Data_Master/UTD-0490.txt  \n",
            "  inflating: Training_Data_Master/UTD-0491.txt  \n",
            "  inflating: Training_Data_Master/UTD-0492.txt  \n",
            "  inflating: Training_Data_Master/UTD-0493.txt  \n",
            "  inflating: Training_Data_Master/UTD-0494.txt  \n",
            "  inflating: Training_Data_Master/UTD-0495.txt  \n",
            "  inflating: Training_Data_Master/UTD-0496.txt  \n",
            "  inflating: Training_Data_Master/UTD-0497.txt  \n",
            "  inflating: Training_Data_Master/UTD-0498.txt  \n",
            "  inflating: Training_Data_Master/UTD-0499.txt  \n",
            "  inflating: Training_Data_Master/UTD-0500.txt  \n",
            "  inflating: Training_Data_Master/UTD-0501.txt  \n",
            "  inflating: Training_Data_Master/UTD-0502.txt  \n",
            "  inflating: Training_Data_Master/UTD-0503.txt  \n",
            "  inflating: Training_Data_Master/UTD-0504.txt  \n",
            "  inflating: Training_Data_Master/UTD-0505.txt  \n",
            "  inflating: Training_Data_Master/UTD-0506.txt  \n",
            "  inflating: Training_Data_Master/UTD-0507.txt  \n",
            "  inflating: Training_Data_Master/UTD-0508.txt  \n",
            "  inflating: Training_Data_Master/UTD-0509.txt  \n",
            "  inflating: Training_Data_Master/UTD-0510.txt  \n",
            "  inflating: Training_Data_Master/UTD-0511.txt  \n",
            "  inflating: Training_Data_Master/UTD-0512.txt  \n",
            "  inflating: Training_Data_Master/UTD-0513.txt  \n",
            "  inflating: Training_Data_Master/UTD-0514.txt  \n",
            "  inflating: Training_Data_Master/UTD-0515.txt  \n",
            "  inflating: Training_Data_Master/UTD-0516.txt  \n",
            "  inflating: Training_Data_Master/UTD-0517.txt  \n",
            "  inflating: Training_Data_Master/UTD-0518.txt  \n",
            "  inflating: Training_Data_Master/UTD-0519.txt  \n",
            "  inflating: Training_Data_Master/UTD-0520.txt  \n",
            "  inflating: Training_Data_Master/UTD-0521.txt  \n",
            "  inflating: Training_Data_Master/UTD-0522.txt  \n",
            "  inflating: Training_Data_Master/UTD-0523.txt  \n",
            "  inflating: Training_Data_Master/UTD-0524.txt  \n",
            "  inflating: Training_Data_Master/UTD-0525.txt  \n",
            "  inflating: Training_Data_Master/UTD-0526.txt  \n",
            "  inflating: Training_Data_Master/UTD-0527.txt  \n",
            "  inflating: Training_Data_Master/UTD-0528.txt  \n",
            "  inflating: Training_Data_Master/UTD-0529.txt  \n",
            "  inflating: Training_Data_Master/UTD-0530.txt  \n",
            "  inflating: Training_Data_Master/UTD-0531.txt  \n",
            "  inflating: Training_Data_Master/UTD-0532.txt  \n",
            "  inflating: Training_Data_Master/UTD-0533.txt  \n",
            "  inflating: Training_Data_Master/UTD-0534.txt  \n",
            "  inflating: Training_Data_Master/UTD-0535.txt  \n",
            "  inflating: Training_Data_Master/UTD-0536.txt  \n",
            "  inflating: Training_Data_Master/UTD-0537.txt  \n",
            "  inflating: Training_Data_Master/UTD-0538.txt  \n",
            "  inflating: Training_Data_Master/UTD-0539.txt  \n",
            "  inflating: Training_Data_Master/UTD-0540.txt  \n",
            "  inflating: Training_Data_Master/UTD-0541.txt  \n",
            "  inflating: Training_Data_Master/UTD-0542.txt  \n",
            "  inflating: Training_Data_Master/UTD-0543.txt  \n",
            "  inflating: Training_Data_Master/UTD-0544.txt  \n",
            "  inflating: Training_Data_Master/UTD-0545.txt  \n",
            "  inflating: Training_Data_Master/UTD-0546.txt  \n",
            "  inflating: Training_Data_Master/UTD-0547.txt  \n",
            "  inflating: Training_Data_Master/UTD-0548.txt  \n",
            "  inflating: Training_Data_Master/UTD-0549.txt  \n",
            "  inflating: Training_Data_Master/UTD-0550.txt  \n",
            "  inflating: Training_Data_Master/UTD-0551.txt  \n",
            "  inflating: Training_Data_Master/UTD-0552.txt  \n",
            "  inflating: Training_Data_Master/UTD-0553.txt  \n",
            "  inflating: Training_Data_Master/UTD-0554.txt  \n",
            "  inflating: Training_Data_Master/UTD-0555.txt  \n",
            "  inflating: Training_Data_Master/UTD-0556.txt  \n",
            "  inflating: Training_Data_Master/UTD-0557.txt  \n",
            "  inflating: Training_Data_Master/UTD-0558.txt  \n",
            "  inflating: Training_Data_Master/UTD-0559.txt  \n",
            "  inflating: Training_Data_Master/UTD-0560.txt  \n",
            "  inflating: Training_Data_Master/UTD-0561.txt  \n",
            "  inflating: Training_Data_Master/UTD-0562.txt  \n",
            "  inflating: Training_Data_Master/UTD-0563.txt  \n",
            "  inflating: Training_Data_Master/UTD-0564.txt  \n",
            "  inflating: Training_Data_Master/UTD-0565.txt  \n",
            "  inflating: Training_Data_Master/UTD-0566.txt  \n",
            "  inflating: Training_Data_Master/UTD-0567.txt  \n",
            "  inflating: Training_Data_Master/UTD-0568.txt  \n",
            "  inflating: Training_Data_Master/UTD-0569.txt  \n",
            "  inflating: Training_Data_Master/UTD-0570.txt  \n",
            "  inflating: Training_Data_Master/UTD-0571.txt  \n",
            "  inflating: Training_Data_Master/UTD-0572.txt  \n",
            "  inflating: Training_Data_Master/UTD-0573.txt  \n",
            "  inflating: Training_Data_Master/UTD-0574.txt  \n",
            "  inflating: Training_Data_Master/UTD-0575.txt  \n",
            "  inflating: Training_Data_Master/UTD-0576.txt  \n",
            "  inflating: Training_Data_Master/UTD-0577.txt  \n",
            "  inflating: Training_Data_Master/UTD-0578.txt  \n",
            "  inflating: Training_Data_Master/UTD-0579.txt  \n",
            "  inflating: Training_Data_Master/UTD-0580.txt  \n",
            "  inflating: Training_Data_Master/UTD-0581.txt  \n",
            "  inflating: Training_Data_Master/UTD-0582.txt  \n",
            "  inflating: Training_Data_Master/UTD-0583.txt  \n",
            "  inflating: Training_Data_Master/UTD-0584.txt  \n",
            "  inflating: Training_Data_Master/UTD-0585.txt  \n",
            "  inflating: Training_Data_Master/UTD-0586.txt  \n",
            "  inflating: Training_Data_Master/UTD-0587.txt  \n",
            "  inflating: Training_Data_Master/UTD-0588.txt  \n",
            "  inflating: Training_Data_Master/UTD-0589.txt  \n",
            "  inflating: Training_Data_Master/UTD-0590.txt  \n",
            "  inflating: Training_Data_Master/UTD-0591.txt  \n",
            "  inflating: Training_Data_Master/UTD-0592.txt  \n",
            "  inflating: Training_Data_Master/UTD-0593.txt  \n",
            "  inflating: Training_Data_Master/UTD-0594.txt  \n",
            "  inflating: Training_Data_Master/UTD-0595.txt  \n",
            "  inflating: Training_Data_Master/UTD-0596.txt  \n",
            "  inflating: Training_Data_Master/UTD-0597.txt  \n",
            "  inflating: Training_Data_Master/UTD-0598.txt  \n",
            "  inflating: Training_Data_Master/UTD-0599.txt  \n",
            "  inflating: Training_Data_Master/UTD-0600.txt  \n",
            "  inflating: Training_Data_Master/UTD-0601.txt  \n",
            "  inflating: Training_Data_Master/UTD-0602.txt  \n",
            "  inflating: Training_Data_Master/UTD-0603.txt  \n",
            "  inflating: Training_Data_Master/UTD-0604.txt  \n",
            "  inflating: Training_Data_Master/UTD-0605.txt  \n",
            "  inflating: Training_Data_Master/UTD-0606.txt  \n",
            "  inflating: Training_Data_Master/UTD-0607.txt  \n",
            "  inflating: Training_Data_Master/UTD-0608.txt  \n",
            "  inflating: Training_Data_Master/UTD-0609.txt  \n",
            "  inflating: Training_Data_Master/UTD-0610.txt  \n",
            "  inflating: Training_Data_Master/UTD-0611.txt  \n",
            "  inflating: Training_Data_Master/UTD-0612.txt  \n",
            "  inflating: Training_Data_Master/UTD-0613.txt  \n",
            "  inflating: Training_Data_Master/UTD-0614.txt  \n",
            "  inflating: Training_Data_Master/UTD-0615.txt  \n",
            "  inflating: Training_Data_Master/UTD-0616.txt  \n",
            "  inflating: Training_Data_Master/UTD-0617.txt  \n",
            "  inflating: Training_Data_Master/UTD-0618.txt  \n",
            "  inflating: Training_Data_Master/UTD-0619.txt  \n",
            "  inflating: Training_Data_Master/UTD-0620.txt  \n",
            "  inflating: Training_Data_Master/UTD-0621.txt  \n",
            "  inflating: Training_Data_Master/UTD-0622.txt  \n",
            "  inflating: Training_Data_Master/UTD-0623.txt  \n",
            "  inflating: Training_Data_Master/UTD-0624.txt  \n",
            "  inflating: Training_Data_Master/UTD-0625.txt  \n",
            "  inflating: Training_Data_Master/UTD-0626.txt  \n",
            "  inflating: Training_Data_Master/UTD-0627.txt  \n",
            "  inflating: Training_Data_Master/UTD-0628.txt  \n",
            "  inflating: Training_Data_Master/UTD-0629.txt  \n",
            "  inflating: Training_Data_Master/UTD-0630.txt  \n",
            "  inflating: Training_Data_Master/UTD-0631.txt  \n",
            "  inflating: Training_Data_Master/UTD-0632.txt  \n",
            "  inflating: Training_Data_Master/UTD-0633.txt  \n",
            "  inflating: Training_Data_Master/UTD-0634.txt  \n",
            "  inflating: Training_Data_Master/UTD-0635.txt  \n",
            "  inflating: Training_Data_Master/UTD-0636.txt  \n",
            "  inflating: Training_Data_Master/UTD-0637.txt  \n",
            "  inflating: Training_Data_Master/UTD-0638.txt  \n",
            "  inflating: Training_Data_Master/UTD-0639.txt  \n",
            "  inflating: Training_Data_Master/UTD-0640.txt  \n",
            "  inflating: Training_Data_Master/UTD-0641.txt  \n",
            "  inflating: Training_Data_Master/UTD-0642.txt  \n",
            "  inflating: Training_Data_Master/UTD-0643.txt  \n",
            "  inflating: Training_Data_Master/UTD-0644.txt  \n",
            "  inflating: Training_Data_Master/UTD-0645.txt  \n",
            "  inflating: Training_Data_Master/UTD-0646.txt  \n",
            "  inflating: Training_Data_Master/UTD-0647.txt  \n",
            "  inflating: Training_Data_Master/UTD-0648.txt  \n",
            "  inflating: Training_Data_Master/UTD-0649.txt  \n",
            "  inflating: Training_Data_Master/UTD-0650.txt  \n",
            "  inflating: Training_Data_Master/UTD-0651.txt  \n",
            "  inflating: Training_Data_Master/UTD-0652.txt  \n",
            "  inflating: Training_Data_Master/UTD-0653.txt  \n",
            "  inflating: Training_Data_Master/UTD-0654.txt  \n",
            "  inflating: Training_Data_Master/UTD-0655.txt  \n",
            "  inflating: Training_Data_Master/UTD-0656.txt  \n",
            "  inflating: Training_Data_Master/UTD-0657.txt  \n",
            "  inflating: Training_Data_Master/UTD-0658.txt  \n",
            "  inflating: Training_Data_Master/UTD-0659.txt  \n",
            "  inflating: Training_Data_Master/UTD-0660.txt  \n",
            "  inflating: Training_Data_Master/UTD-0661.txt  \n",
            "  inflating: Training_Data_Master/UTD-0662.txt  \n",
            "  inflating: Training_Data_Master/UTD-0663.txt  \n",
            "  inflating: Training_Data_Master/UTD-0664.txt  \n",
            "  inflating: Training_Data_Master/UTD-0665.txt  \n",
            "  inflating: Training_Data_Master/UTD-0666.txt  \n",
            "  inflating: Training_Data_Master/UTD-0667.txt  \n",
            "  inflating: Training_Data_Master/UTD-0668.txt  \n",
            "  inflating: Training_Data_Master/UTD-0669.txt  \n",
            "  inflating: Training_Data_Master/UTD-0670.txt  \n",
            "  inflating: Training_Data_Master/UTD-0671.txt  \n",
            "  inflating: Training_Data_Master/UTD-0672.txt  \n",
            "  inflating: Training_Data_Master/UTD-0673.txt  \n",
            "  inflating: Training_Data_Master/UTD-0674.txt  \n",
            "  inflating: Training_Data_Master/UTD-0675.txt  \n",
            "  inflating: Training_Data_Master/UTD-0676.txt  \n",
            "  inflating: Training_Data_Master/UTD-0677.txt  \n",
            "  inflating: Training_Data_Master/UTD-0678.txt  \n",
            "  inflating: Training_Data_Master/UTD-0679.txt  \n",
            "  inflating: Training_Data_Master/UTD-0680.txt  \n",
            "  inflating: Training_Data_Master/UTD-0681.txt  \n",
            "  inflating: Training_Data_Master/UTD-0682.txt  \n",
            "  inflating: Training_Data_Master/UTD-0683.txt  \n",
            "  inflating: Training_Data_Master/UTD-0684.txt  \n",
            "  inflating: Training_Data_Master/UTD-0685.txt  \n",
            "  inflating: Training_Data_Master/UTD-0686.txt  \n",
            "  inflating: Training_Data_Master/UTD-0687.txt  \n",
            "  inflating: Training_Data_Master/UTD-0688.txt  \n",
            "  inflating: Training_Data_Master/UTD-0689.txt  \n",
            "  inflating: Training_Data_Master/UTD-0690.txt  \n",
            "  inflating: Training_Data_Master/UTD-0691.txt  \n",
            "  inflating: Training_Data_Master/UTD-0692.txt  \n",
            "  inflating: Training_Data_Master/UTD-0693.txt  \n",
            "  inflating: Training_Data_Master/UTD-0694.txt  \n",
            "  inflating: Training_Data_Master/UTD-0695.txt  \n",
            "  inflating: Training_Data_Master/UTD-0696.txt  \n",
            "  inflating: Training_Data_Master/UTD-0697.txt  \n",
            "  inflating: Training_Data_Master/UTD-0698.txt  \n",
            "  inflating: Training_Data_Master/UTD-0699.txt  \n",
            "  inflating: Training_Data_Master/UTD-0700.txt  \n",
            "  inflating: Training_Data_Master/UTD-0701.txt  \n",
            "  inflating: Training_Data_Master/UTD-0702.txt  \n",
            "  inflating: Training_Data_Master/UTD-0703.txt  \n",
            "  inflating: Training_Data_Master/UTD-0704.txt  \n",
            "  inflating: Training_Data_Master/UTD-0705.txt  \n",
            "  inflating: Training_Data_Master/UTD-0706.txt  \n",
            "  inflating: Training_Data_Master/UTD-0707.txt  \n",
            "  inflating: Training_Data_Master/UTD-0708.txt  \n",
            "  inflating: Training_Data_Master/UTD-0709.txt  \n",
            "  inflating: Training_Data_Master/UTD-0710.txt  \n",
            "  inflating: Training_Data_Master/UTD-0711.txt  \n",
            "  inflating: Training_Data_Master/UTD-0712.txt  \n",
            "  inflating: Training_Data_Master/UTD-0713.txt  \n",
            "  inflating: Training_Data_Master/UTD-0714.txt  \n",
            "  inflating: Training_Data_Master/UTD-0715.txt  \n",
            "  inflating: Training_Data_Master/UTD-0716.txt  \n",
            "  inflating: Training_Data_Master/UTD-0717.txt  \n",
            "  inflating: Training_Data_Master/UTD-0718.txt  \n",
            "  inflating: Training_Data_Master/UTD-0719.txt  \n",
            "  inflating: Training_Data_Master/UTD-0720.txt  \n",
            "  inflating: Training_Data_Master/UTD-0721.txt  \n",
            "  inflating: Training_Data_Master/UTD-0722.txt  \n",
            "  inflating: Training_Data_Master/UTD-0723.txt  \n",
            "  inflating: Training_Data_Master/UTD-0724.txt  \n",
            "  inflating: Training_Data_Master/UTD-0725.txt  \n",
            "  inflating: Training_Data_Master/UTD-0726.txt  \n",
            "  inflating: Training_Data_Master/UTD-0727.txt  \n",
            "  inflating: Training_Data_Master/UTD-0728.txt  \n",
            "  inflating: Training_Data_Master/UTD-0729.txt  \n",
            "  inflating: Training_Data_Master/UTD-0730.txt  \n",
            "  inflating: Training_Data_Master/UTD-0731.txt  \n",
            "  inflating: Training_Data_Master/UTD-0732.txt  \n",
            "  inflating: Training_Data_Master/UTD-0733.txt  \n",
            "  inflating: Training_Data_Master/UTD-0734.txt  \n",
            "  inflating: Training_Data_Master/UTD-0735.txt  \n",
            "  inflating: Training_Data_Master/UTD-0736.txt  \n",
            "  inflating: Training_Data_Master/UTD-0737.txt  \n",
            "  inflating: Training_Data_Master/UTD-0738.txt  \n",
            "  inflating: Training_Data_Master/UTD-0739.txt  \n",
            "  inflating: Training_Data_Master/UTD-0740.txt  \n",
            "  inflating: Training_Data_Master/UTD-0741.txt  \n",
            "  inflating: Training_Data_Master/UTD-0742.txt  \n",
            "  inflating: Training_Data_Master/UTD-0743.txt  \n",
            "  inflating: Training_Data_Master/UTD-0744.txt  \n",
            "  inflating: Training_Data_Master/UTD-0745.txt  \n",
            "  inflating: Training_Data_Master/UTD-0746.txt  \n",
            "  inflating: Training_Data_Master/UTD-0747.txt  \n",
            "  inflating: Training_Data_Master/UTD-0748.txt  \n",
            "  inflating: Training_Data_Master/UTD-0749.txt  \n",
            "  inflating: Training_Data_Master/UTD-0750.txt  \n",
            "  inflating: Training_Data_Master/UTD-0751.txt  \n",
            "  inflating: Training_Data_Master/UTD-0752.txt  \n",
            "  inflating: Training_Data_Master/UTD-0753.txt  \n",
            "  inflating: Training_Data_Master/UTD-0754.txt  \n",
            "  inflating: Training_Data_Master/UTD-0755.txt  \n",
            "  inflating: Training_Data_Master/UTD-0756.txt  \n",
            "  inflating: Training_Data_Master/UTD-0757.txt  \n",
            "  inflating: Training_Data_Master/UTD-0758.txt  \n",
            "  inflating: Training_Data_Master/UTD-0759.txt  \n",
            "  inflating: Training_Data_Master/UTD-0760.txt  \n",
            "  inflating: Training_Data_Master/UTD-0761.txt  \n",
            "  inflating: Training_Data_Master/UTD-0762.txt  \n",
            "  inflating: Training_Data_Master/UTD-0763.txt  \n",
            "  inflating: Training_Data_Master/UTD-0764.txt  \n",
            "  inflating: Training_Data_Master/UTD-0765.txt  \n",
            "  inflating: Training_Data_Master/UTD-0766.txt  \n",
            "  inflating: Training_Data_Master/UTD-0767.txt  \n",
            "  inflating: Training_Data_Master/UTD-0768.txt  \n",
            "  inflating: Training_Data_Master/UTD-0769.txt  \n",
            "  inflating: Training_Data_Master/UTD-0770.txt  \n",
            "  inflating: Training_Data_Master/UTD-0771.txt  \n",
            "  inflating: Training_Data_Master/UTD-0772.txt  \n",
            "  inflating: Training_Data_Master/UTD-0773.txt  \n",
            "  inflating: Training_Data_Master/UTD-0774.txt  \n",
            "  inflating: Training_Data_Master/UTD-0775.txt  \n",
            "  inflating: Training_Data_Master/UTD-0776.txt  \n",
            "  inflating: Training_Data_Master/UTD-0777.txt  \n",
            "  inflating: Training_Data_Master/UTD-0778.txt  \n",
            "  inflating: Training_Data_Master/UTD-0779.txt  \n",
            "  inflating: Training_Data_Master/UTD-0780.txt  \n",
            "  inflating: Training_Data_Master/UTD-0781.txt  \n",
            "  inflating: Training_Data_Master/UTD-0782.txt  \n",
            "  inflating: Training_Data_Master/UTD-0783.txt  \n",
            "  inflating: Training_Data_Master/UTD-0784.txt  \n",
            "  inflating: Training_Data_Master/UTD-0785.txt  \n",
            "  inflating: Training_Data_Master/UTD-0786.txt  \n",
            "  inflating: Training_Data_Master/UTD-0787.txt  \n",
            "  inflating: Training_Data_Master/UTD-0788.txt  \n",
            "  inflating: Training_Data_Master/UTD-0789.txt  \n",
            "  inflating: Training_Data_Master/UTD-0790.txt  \n",
            "  inflating: Training_Data_Master/UTD-0791.txt  \n",
            "  inflating: Training_Data_Master/UTD-0792.txt  \n",
            "  inflating: Training_Data_Master/UTD-0793.txt  \n",
            "  inflating: Training_Data_Master/UTD-0794.txt  \n",
            "  inflating: Training_Data_Master/UTD-0795.txt  \n",
            "  inflating: Training_Data_Master/UTD-0796.txt  \n",
            "  inflating: Training_Data_Master/UTD-0797.txt  \n",
            "  inflating: Training_Data_Master/UTD-0798.txt  \n",
            "  inflating: Training_Data_Master/UTD-0799.txt  \n",
            "  inflating: Training_Data_Master/UTD-0800.txt  \n",
            "  inflating: Training_Data_Master/UTD-0801.txt  \n",
            "  inflating: Training_Data_Master/UTD-0802.txt  \n",
            "  inflating: Training_Data_Master/UTD-0803.txt  \n",
            "  inflating: Training_Data_Master/UTD-0804.txt  \n",
            "  inflating: Training_Data_Master/UTD-0805.txt  \n",
            "  inflating: Training_Data_Master/UTD-0806.txt  \n",
            "  inflating: Training_Data_Master/UTD-0807.txt  \n",
            "  inflating: Training_Data_Master/UTD-0808.txt  \n",
            "  inflating: Training_Data_Master/UTD-0809.txt  \n",
            "  inflating: Training_Data_Master/UTD-0810.txt  \n",
            "  inflating: Training_Data_Master/UTD-0811.txt  \n",
            "  inflating: Training_Data_Master/UTD-0812.txt  \n",
            "  inflating: Training_Data_Master/UTD-0813.txt  \n",
            "  inflating: Training_Data_Master/UTD-0814.txt  \n",
            "  inflating: Training_Data_Master/UTD-0815.txt  \n",
            "  inflating: Training_Data_Master/UTD-0816.txt  \n",
            "  inflating: Training_Data_Master/UTD-0817.txt  \n",
            "  inflating: Training_Data_Master/UTD-0818.txt  \n",
            "  inflating: Training_Data_Master/UTD-0819.txt  \n",
            "  inflating: Training_Data_Master/UTD-0820.txt  \n",
            "  inflating: Training_Data_Master/UTD-0821.txt  \n",
            "  inflating: Training_Data_Master/UTD-0822.txt  \n",
            "  inflating: Training_Data_Master/UTD-0823.txt  \n",
            "  inflating: Training_Data_Master/UTD-0824.txt  \n",
            "  inflating: Training_Data_Master/UTD-0825.txt  \n",
            "  inflating: Training_Data_Master/UTD-0826.txt  \n",
            "  inflating: Training_Data_Master/UTD-0827.txt  \n",
            "  inflating: Training_Data_Master/UTD-0828.txt  \n",
            "  inflating: Training_Data_Master/UTD-0829.txt  \n",
            "  inflating: Training_Data_Master/UTD-0830.txt  \n",
            "  inflating: Training_Data_Master/UTD-0831.txt  \n",
            "  inflating: Training_Data_Master/UTD-0832.txt  \n",
            "  inflating: Training_Data_Master/UTD-0833.txt  \n",
            "Archive:  Attack_Data_Master.zip\n",
            "   creating: Attack_Data_Master/Adduser_1/\n",
            "  inflating: Attack_Data_Master/Adduser_1/UAD-Adduser-1-=1.txt  \n",
            "  inflating: Attack_Data_Master/Adduser_1/UAD-Adduser-1-1371.txt  \n",
            "  inflating: Attack_Data_Master/Adduser_1/UAD-Adduser-1-1613.txt  \n",
            "  inflating: Attack_Data_Master/Adduser_1/UAD-Adduser-1-2311.txt  \n",
            "  inflating: Attack_Data_Master/Adduser_1/UAD-Adduser-1-2377.txt  \n",
            "  inflating: Attack_Data_Master/Adduser_1/UAD-Adduser-1-2462.txt  \n",
            "  inflating: Attack_Data_Master/Adduser_1/UAD-Adduser-1-2783.txt  \n",
            "   creating: Attack_Data_Master/Adduser_10/\n",
            "  inflating: Attack_Data_Master/Adduser_10/UAD-Adduser-10-=1.txt  \n",
            "  inflating: Attack_Data_Master/Adduser_10/UAD-Adduser-10-1371.txt  \n",
            "  inflating: Attack_Data_Master/Adduser_10/UAD-Adduser-10-1613.txt  \n",
            "  inflating: Attack_Data_Master/Adduser_10/UAD-Adduser-10-2311.txt  \n",
            "  inflating: Attack_Data_Master/Adduser_10/UAD-Adduser-10-2462.txt  \n",
            "  inflating: Attack_Data_Master/Adduser_10/UAD-Adduser-10-2783.txt  \n",
            "   creating: Attack_Data_Master/Adduser_2/\n",
            "  inflating: Attack_Data_Master/Adduser_2/UAD-Adduser-2-=1.txt  \n",
            "  inflating: Attack_Data_Master/Adduser_2/UAD-Adduser-2-1371.txt  \n",
            "  inflating: Attack_Data_Master/Adduser_2/UAD-Adduser-2-1613.txt  \n",
            "  inflating: Attack_Data_Master/Adduser_2/UAD-Adduser-2-18548.txt  \n",
            "  inflating: Attack_Data_Master/Adduser_2/UAD-Adduser-2-2311.txt  \n",
            "  inflating: Attack_Data_Master/Adduser_2/UAD-Adduser-2-2377.txt  \n",
            "  inflating: Attack_Data_Master/Adduser_2/UAD-Adduser-2-2462.txt  \n",
            "  inflating: Attack_Data_Master/Adduser_2/UAD-Adduser-2-2783.txt  \n",
            "   creating: Attack_Data_Master/Adduser_3/\n",
            "  inflating: Attack_Data_Master/Adduser_3/UAD-Adduser-3-=1.txt  \n",
            "  inflating: Attack_Data_Master/Adduser_3/UAD-Adduser-3-1371.txt  \n",
            "  inflating: Attack_Data_Master/Adduser_3/UAD-Adduser-3-1613.txt  \n",
            "  inflating: Attack_Data_Master/Adduser_3/UAD-Adduser-3-18618.txt  \n",
            "  inflating: Attack_Data_Master/Adduser_3/UAD-Adduser-3-2311.txt  \n",
            "  inflating: Attack_Data_Master/Adduser_3/UAD-Adduser-3-2377.txt  \n",
            "  inflating: Attack_Data_Master/Adduser_3/UAD-Adduser-3-2462.txt  \n",
            "  inflating: Attack_Data_Master/Adduser_3/UAD-Adduser-3-2783.txt  \n",
            "   creating: Attack_Data_Master/Adduser_4/\n",
            "  inflating: Attack_Data_Master/Adduser_4/UAD-Adduser-4-=1.txt  \n",
            "  inflating: Attack_Data_Master/Adduser_4/UAD-Adduser-4-1371.txt  \n",
            "  inflating: Attack_Data_Master/Adduser_4/UAD-Adduser-4-1613.txt  \n",
            "  inflating: Attack_Data_Master/Adduser_4/UAD-Adduser-4-2311.txt  \n",
            "  inflating: Attack_Data_Master/Adduser_4/UAD-Adduser-4-2377.txt  \n",
            "  inflating: Attack_Data_Master/Adduser_4/UAD-Adduser-4-2462.txt  \n",
            "  inflating: Attack_Data_Master/Adduser_4/UAD-Adduser-4-2783.txt  \n",
            "   creating: Attack_Data_Master/Adduser_5/\n",
            "  inflating: Attack_Data_Master/Adduser_5/UAD-Adduser-5-=1.txt  \n",
            "  inflating: Attack_Data_Master/Adduser_5/UAD-Adduser-5-=5738.txt  \n",
            "  inflating: Attack_Data_Master/Adduser_5/UAD-Adduser-5-1371.txt  \n",
            "  inflating: Attack_Data_Master/Adduser_5/UAD-Adduser-5-1613.txt  \n",
            "  inflating: Attack_Data_Master/Adduser_5/UAD-Adduser-5-18714.txt  \n",
            "  inflating: Attack_Data_Master/Adduser_5/UAD-Adduser-5-2311.txt  \n",
            "  inflating: Attack_Data_Master/Adduser_5/UAD-Adduser-5-2377.txt  \n",
            "  inflating: Attack_Data_Master/Adduser_5/UAD-Adduser-5-2462.txt  \n",
            "  inflating: Attack_Data_Master/Adduser_5/UAD-Adduser-5-2783.txt  \n",
            "  inflating: Attack_Data_Master/Adduser_5/UAD-Adduser-5-961.txt  \n",
            "   creating: Attack_Data_Master/Adduser_6/\n",
            "  inflating: Attack_Data_Master/Adduser_6/UAD-Adduser-6-=1.txt  \n",
            "  inflating: Attack_Data_Master/Adduser_6/UAD-Adduser-6-1371.txt  \n",
            "  inflating: Attack_Data_Master/Adduser_6/UAD-Adduser-6-1613.txt  \n",
            "  inflating: Attack_Data_Master/Adduser_6/UAD-Adduser-6-18759.txt  \n",
            "  inflating: Attack_Data_Master/Adduser_6/UAD-Adduser-6-2311.txt  \n",
            "  inflating: Attack_Data_Master/Adduser_6/UAD-Adduser-6-2462.txt  \n",
            "  inflating: Attack_Data_Master/Adduser_6/UAD-Adduser-6-2783.txt  \n",
            "  inflating: Attack_Data_Master/Adduser_6/UAD-Adduser-6-961.txt  \n",
            "   creating: Attack_Data_Master/Adduser_7/\n",
            "  inflating: Attack_Data_Master/Adduser_7/UAD-Adduser-7-=1.txt  \n",
            "  inflating: Attack_Data_Master/Adduser_7/UAD-Adduser-7-1371.txt  \n",
            "  inflating: Attack_Data_Master/Adduser_7/UAD-Adduser-7-1613.txt  \n",
            "  inflating: Attack_Data_Master/Adduser_7/UAD-Adduser-7-18802.txt  \n",
            "  inflating: Attack_Data_Master/Adduser_7/UAD-Adduser-7-2311.txt  \n",
            "  inflating: Attack_Data_Master/Adduser_7/UAD-Adduser-7-2462.txt  \n",
            "  inflating: Attack_Data_Master/Adduser_7/UAD-Adduser-7-2783.txt  \n",
            "  inflating: Attack_Data_Master/Adduser_7/UAD-Adduser-7-961.txt  \n",
            "   creating: Attack_Data_Master/Adduser_8/\n",
            "  inflating: Attack_Data_Master/Adduser_8/UAD-Adduser-8-=1.txt  \n",
            "  inflating: Attack_Data_Master/Adduser_8/UAD-Adduser-8-1371.txt  \n",
            "  inflating: Attack_Data_Master/Adduser_8/UAD-Adduser-8-1613.txt  \n",
            "  inflating: Attack_Data_Master/Adduser_8/UAD-Adduser-8-18868.txt  \n",
            "  inflating: Attack_Data_Master/Adduser_8/UAD-Adduser-8-2311.txt  \n",
            "  inflating: Attack_Data_Master/Adduser_8/UAD-Adduser-8-2462.txt  \n",
            "  inflating: Attack_Data_Master/Adduser_8/UAD-Adduser-8-2783.txt  \n",
            "   creating: Attack_Data_Master/Adduser_9/\n",
            "  inflating: Attack_Data_Master/Adduser_9/UAD-Adduser-9-=1.txt  \n",
            "  inflating: Attack_Data_Master/Adduser_9/UAD-Adduser-9-1371.txt  \n",
            "  inflating: Attack_Data_Master/Adduser_9/UAD-Adduser-9-17612.txt  \n",
            "  inflating: Attack_Data_Master/Adduser_9/UAD-Adduser-9-17614.txt  \n",
            "  inflating: Attack_Data_Master/Adduser_9/UAD-Adduser-9-17617.txt  \n",
            "  inflating: Attack_Data_Master/Adduser_9/UAD-Adduser-9-17622.txt  \n",
            "  inflating: Attack_Data_Master/Adduser_9/UAD-Adduser-9-17626.txt  \n",
            "  inflating: Attack_Data_Master/Adduser_9/UAD-Adduser-9-17627.txt  \n",
            "  inflating: Attack_Data_Master/Adduser_9/UAD-Adduser-9-17629.txt  \n",
            "  inflating: Attack_Data_Master/Adduser_9/UAD-Adduser-9-17636.txt  \n",
            "  inflating: Attack_Data_Master/Adduser_9/UAD-Adduser-9-18903.txt  \n",
            "  inflating: Attack_Data_Master/Adduser_9/UAD-Adduser-9-18907.txt  \n",
            "  inflating: Attack_Data_Master/Adduser_9/UAD-Adduser-9-18911.txt  \n",
            "  inflating: Attack_Data_Master/Adduser_9/UAD-Adduser-9-18939.txt  \n",
            "  inflating: Attack_Data_Master/Adduser_9/UAD-Adduser-9-18999.txt  \n",
            "  inflating: Attack_Data_Master/Adduser_9/UAD-Adduser-9-2224.txt  \n",
            "  inflating: Attack_Data_Master/Adduser_9/UAD-Adduser-9-2257.txt  \n",
            "  inflating: Attack_Data_Master/Adduser_9/UAD-Adduser-9-2277.txt  \n",
            "  inflating: Attack_Data_Master/Adduser_9/UAD-Adduser-9-2311.txt  \n",
            "  inflating: Attack_Data_Master/Adduser_9/UAD-Adduser-9-2462.txt  \n",
            "  inflating: Attack_Data_Master/Adduser_9/UAD-Adduser-9-2783.txt  \n",
            "  inflating: Attack_Data_Master/Adduser_9/UAD-Adduser-9-961.txt  \n",
            "   creating: Attack_Data_Master/Hydra_FTP_1/\n",
            "  inflating: Attack_Data_Master/Hydra_FTP_1/UAD-Hydra-FTP-1-1371.txt  \n",
            "  inflating: Attack_Data_Master/Hydra_FTP_1/UAD-Hydra-FTP-1-1442.txt  \n",
            "  inflating: Attack_Data_Master/Hydra_FTP_1/UAD-Hydra-FTP-1-1613.txt  \n",
            "  inflating: Attack_Data_Master/Hydra_FTP_1/UAD-Hydra-FTP-1-2311.txt  \n",
            "  inflating: Attack_Data_Master/Hydra_FTP_1/UAD-Hydra-FTP-1-2462.txt  \n",
            "  inflating: Attack_Data_Master/Hydra_FTP_1/UAD-Hydra-FTP-1-2783.txt  \n",
            "  inflating: Attack_Data_Master/Hydra_FTP_1/UAD-Hydra-FTP-1-3523.txt  \n",
            "  inflating: Attack_Data_Master/Hydra_FTP_1/UAD-Hydra-FTP-1-3524.txt  \n",
            "  inflating: Attack_Data_Master/Hydra_FTP_1/UAD-Hydra-FTP-1-8990.txt  \n",
            "  inflating: Attack_Data_Master/Hydra_FTP_1/UAD-Hydra-FTP-1-9044.txt  \n",
            "  inflating: Attack_Data_Master/Hydra_FTP_1/UAD-Hydra-FTP-1-9178.txt  \n",
            "  inflating: Attack_Data_Master/Hydra_FTP_1/UAD-Hydra-FTP-1-9186.txt  \n",
            "   creating: Attack_Data_Master/Hydra_FTP_10/\n",
            "  inflating: Attack_Data_Master/Hydra_FTP_10/UAD-Hydra-FTP-10-13541.txt  \n",
            "  inflating: Attack_Data_Master/Hydra_FTP_10/UAD-Hydra-FTP-10-1371.txt  \n",
            "  inflating: Attack_Data_Master/Hydra_FTP_10/UAD-Hydra-FTP-10-1442.txt  \n",
            "  inflating: Attack_Data_Master/Hydra_FTP_10/UAD-Hydra-FTP-10-15866.txt  \n",
            "  inflating: Attack_Data_Master/Hydra_FTP_10/UAD-Hydra-FTP-10-15879.txt  \n",
            "  inflating: Attack_Data_Master/Hydra_FTP_10/UAD-Hydra-FTP-10-15910.txt  \n",
            "  inflating: Attack_Data_Master/Hydra_FTP_10/UAD-Hydra-FTP-10-15933.txt  \n",
            "  inflating: Attack_Data_Master/Hydra_FTP_10/UAD-Hydra-FTP-10-1613.txt  \n",
            "  inflating: Attack_Data_Master/Hydra_FTP_10/UAD-Hydra-FTP-10-2311.txt  \n",
            "  inflating: Attack_Data_Master/Hydra_FTP_10/UAD-Hydra-FTP-10-2462.txt  \n",
            "  inflating: Attack_Data_Master/Hydra_FTP_10/UAD-Hydra-FTP-10-2783.txt  \n",
            "  inflating: Attack_Data_Master/Hydra_FTP_10/UAD-Hydra-FTP-10-3523.txt  \n",
            "  inflating: Attack_Data_Master/Hydra_FTP_10/UAD-Hydra-FTP-10-3524.txt  \n",
            "   creating: Attack_Data_Master/Hydra_FTP_2/\n",
            "  inflating: Attack_Data_Master/Hydra_FTP_2/UAD-Hydra-FTP-2-1371.txt  \n",
            "  inflating: Attack_Data_Master/Hydra_FTP_2/UAD-Hydra-FTP-2-1442.txt  \n",
            "  inflating: Attack_Data_Master/Hydra_FTP_2/UAD-Hydra-FTP-2-1613.txt  \n",
            "  inflating: Attack_Data_Master/Hydra_FTP_2/UAD-Hydra-FTP-2-2311.txt  \n",
            "  inflating: Attack_Data_Master/Hydra_FTP_2/UAD-Hydra-FTP-2-2462.txt  \n",
            "  inflating: Attack_Data_Master/Hydra_FTP_2/UAD-Hydra-FTP-2-2783.txt  \n",
            "  inflating: Attack_Data_Master/Hydra_FTP_2/UAD-Hydra-FTP-2-3523.txt  \n",
            "  inflating: Attack_Data_Master/Hydra_FTP_2/UAD-Hydra-FTP-2-3524.txt  \n",
            "  inflating: Attack_Data_Master/Hydra_FTP_2/UAD-Hydra-FTP-2-9300.txt  \n",
            "  inflating: Attack_Data_Master/Hydra_FTP_2/UAD-Hydra-FTP-2-9310.txt  \n",
            "  inflating: Attack_Data_Master/Hydra_FTP_2/UAD-Hydra-FTP-2-9374.txt  \n",
            "  inflating: Attack_Data_Master/Hydra_FTP_2/UAD-Hydra-FTP-2-9400.txt  \n",
            "  inflating: Attack_Data_Master/Hydra_FTP_2/UAD-Hydra-FTP-2-9402.txt  \n",
            "  inflating: Attack_Data_Master/Hydra_FTP_2/UAD-Hydra-FTP-2-9454.txt  \n",
            "  inflating: Attack_Data_Master/Hydra_FTP_2/UAD-Hydra-FTP-2-9476.txt  \n",
            "  inflating: Attack_Data_Master/Hydra_FTP_2/UAD-Hydra-FTP-2-9506.txt  \n",
            "  inflating: Attack_Data_Master/Hydra_FTP_2/UAD-Hydra-FTP-2-9637.txt  \n",
            "   creating: Attack_Data_Master/Hydra_FTP_3/\n",
            "  inflating: Attack_Data_Master/Hydra_FTP_3/UAD-Hydra-FTP-3-10487.txt  \n",
            "  inflating: Attack_Data_Master/Hydra_FTP_3/UAD-Hydra-FTP-3-10640.txt  \n",
            "  inflating: Attack_Data_Master/Hydra_FTP_3/UAD-Hydra-FTP-3-10746.txt  \n",
            "  inflating: Attack_Data_Master/Hydra_FTP_3/UAD-Hydra-FTP-3-10800.txt  \n",
            "  inflating: Attack_Data_Master/Hydra_FTP_3/UAD-Hydra-FTP-3-10824.txt  \n",
            "  inflating: Attack_Data_Master/Hydra_FTP_3/UAD-Hydra-FTP-3-10829.txt  \n",
            "  inflating: Attack_Data_Master/Hydra_FTP_3/UAD-Hydra-FTP-3-11010.txt  \n",
            "  inflating: Attack_Data_Master/Hydra_FTP_3/UAD-Hydra-FTP-3-1371.txt  \n",
            "  inflating: Attack_Data_Master/Hydra_FTP_3/UAD-Hydra-FTP-3-1442.txt  \n",
            "  inflating: Attack_Data_Master/Hydra_FTP_3/UAD-Hydra-FTP-3-1613.txt  \n",
            "  inflating: Attack_Data_Master/Hydra_FTP_3/UAD-Hydra-FTP-3-2311.txt  \n",
            "  inflating: Attack_Data_Master/Hydra_FTP_3/UAD-Hydra-FTP-3-2462.txt  \n",
            "  inflating: Attack_Data_Master/Hydra_FTP_3/UAD-Hydra-FTP-3-2783.txt  \n",
            "  inflating: Attack_Data_Master/Hydra_FTP_3/UAD-Hydra-FTP-3-3523.txt  \n",
            "  inflating: Attack_Data_Master/Hydra_FTP_3/UAD-Hydra-FTP-3-3524.txt  \n",
            "  inflating: Attack_Data_Master/Hydra_FTP_3/UAD-Hydra-FTP-3-3754.txt  \n",
            "  inflating: Attack_Data_Master/Hydra_FTP_3/UAD-Hydra-FTP-3-3761.txt  \n",
            "  inflating: Attack_Data_Master/Hydra_FTP_3/UAD-Hydra-FTP-3-8978.txt  \n",
            "  inflating: Attack_Data_Master/Hydra_FTP_3/UAD-Hydra-FTP-3-9300.txt  \n",
            "  inflating: Attack_Data_Master/Hydra_FTP_3/UAD-Hydra-FTP-3-961.txt  \n",
            "   creating: Attack_Data_Master/Hydra_FTP_4/\n",
            "  inflating: Attack_Data_Master/Hydra_FTP_4/UAD-Hydra-FTP-4-11173.txt  \n",
            "  inflating: Attack_Data_Master/Hydra_FTP_4/UAD-Hydra-FTP-4-11184.txt  \n",
            "  inflating: Attack_Data_Master/Hydra_FTP_4/UAD-Hydra-FTP-4-11254.txt  \n",
            "  inflating: Attack_Data_Master/Hydra_FTP_4/UAD-Hydra-FTP-4-11258.txt  \n",
            "  inflating: Attack_Data_Master/Hydra_FTP_4/UAD-Hydra-FTP-4-11316.txt  \n",
            "  inflating: Attack_Data_Master/Hydra_FTP_4/UAD-Hydra-FTP-4-11384.txt  \n",
            "  inflating: Attack_Data_Master/Hydra_FTP_4/UAD-Hydra-FTP-4-1371.txt  \n",
            "  inflating: Attack_Data_Master/Hydra_FTP_4/UAD-Hydra-FTP-4-1442.txt  \n",
            "  inflating: Attack_Data_Master/Hydra_FTP_4/UAD-Hydra-FTP-4-1613.txt  \n",
            "  inflating: Attack_Data_Master/Hydra_FTP_4/UAD-Hydra-FTP-4-2311.txt  \n",
            "  inflating: Attack_Data_Master/Hydra_FTP_4/UAD-Hydra-FTP-4-2462.txt  \n",
            "  inflating: Attack_Data_Master/Hydra_FTP_4/UAD-Hydra-FTP-4-2783.txt  \n",
            "  inflating: Attack_Data_Master/Hydra_FTP_4/UAD-Hydra-FTP-4-3523.txt  \n",
            "  inflating: Attack_Data_Master/Hydra_FTP_4/UAD-Hydra-FTP-4-3524.txt  \n",
            "   creating: Attack_Data_Master/Hydra_FTP_5/\n",
            "  inflating: Attack_Data_Master/Hydra_FTP_5/UAD-Hydra-FTP-5-11504.txt  \n",
            "  inflating: Attack_Data_Master/Hydra_FTP_5/UAD-Hydra-FTP-5-11539.txt  \n",
            "  inflating: Attack_Data_Master/Hydra_FTP_5/UAD-Hydra-FTP-5-11611.txt  \n",
            "  inflating: Attack_Data_Master/Hydra_FTP_5/UAD-Hydra-FTP-5-11642.txt  \n",
            "  inflating: Attack_Data_Master/Hydra_FTP_5/UAD-Hydra-FTP-5-11650.txt  \n",
            "  inflating: Attack_Data_Master/Hydra_FTP_5/UAD-Hydra-FTP-5-11665.txt  \n",
            "  inflating: Attack_Data_Master/Hydra_FTP_5/UAD-Hydra-FTP-5-11763.txt  \n",
            "  inflating: Attack_Data_Master/Hydra_FTP_5/UAD-Hydra-FTP-5-11784.txt  \n",
            "  inflating: Attack_Data_Master/Hydra_FTP_5/UAD-Hydra-FTP-5-11908.txt  \n",
            "  inflating: Attack_Data_Master/Hydra_FTP_5/UAD-Hydra-FTP-5-1371.txt  \n",
            "  inflating: Attack_Data_Master/Hydra_FTP_5/UAD-Hydra-FTP-5-1442.txt  \n",
            "  inflating: Attack_Data_Master/Hydra_FTP_5/UAD-Hydra-FTP-5-1613.txt  \n",
            "  inflating: Attack_Data_Master/Hydra_FTP_5/UAD-Hydra-FTP-5-2311.txt  \n",
            "  inflating: Attack_Data_Master/Hydra_FTP_5/UAD-Hydra-FTP-5-2462.txt  \n",
            "  inflating: Attack_Data_Master/Hydra_FTP_5/UAD-Hydra-FTP-5-2783.txt  \n",
            "  inflating: Attack_Data_Master/Hydra_FTP_5/UAD-Hydra-FTP-5-3523.txt  \n",
            "  inflating: Attack_Data_Master/Hydra_FTP_5/UAD-Hydra-FTP-5-3524.txt  \n",
            "  inflating: Attack_Data_Master/Hydra_FTP_5/UAD-Hydra-FTP-5-961.txt  \n",
            "   creating: Attack_Data_Master/Hydra_FTP_6/\n",
            "  inflating: Attack_Data_Master/Hydra_FTP_6/UAD-Hydra-FTP-6=5738.txt  \n",
            "  inflating: Attack_Data_Master/Hydra_FTP_6/UAD-Hydra-FTP-611504.txt  \n",
            "  inflating: Attack_Data_Master/Hydra_FTP_6/UAD-Hydra-FTP-612564.txt  \n",
            "  inflating: Attack_Data_Master/Hydra_FTP_6/UAD-Hydra-FTP-612596.txt  \n",
            "  inflating: Attack_Data_Master/Hydra_FTP_6/UAD-Hydra-FTP-612700.txt  \n",
            "  inflating: Attack_Data_Master/Hydra_FTP_6/UAD-Hydra-FTP-612865.txt  \n",
            "  inflating: Attack_Data_Master/Hydra_FTP_6/UAD-Hydra-FTP-612872.txt  \n",
            "  inflating: Attack_Data_Master/Hydra_FTP_6/UAD-Hydra-FTP-612982.txt  \n",
            "  inflating: Attack_Data_Master/Hydra_FTP_6/UAD-Hydra-FTP-613008.txt  \n",
            "  inflating: Attack_Data_Master/Hydra_FTP_6/UAD-Hydra-FTP-613099.txt  \n",
            "  inflating: Attack_Data_Master/Hydra_FTP_6/UAD-Hydra-FTP-61371.txt  \n",
            "  inflating: Attack_Data_Master/Hydra_FTP_6/UAD-Hydra-FTP-61442.txt  \n",
            "  inflating: Attack_Data_Master/Hydra_FTP_6/UAD-Hydra-FTP-61613.txt  \n",
            "  inflating: Attack_Data_Master/Hydra_FTP_6/UAD-Hydra-FTP-62311.txt  \n",
            "  inflating: Attack_Data_Master/Hydra_FTP_6/UAD-Hydra-FTP-62462.txt  \n",
            "  inflating: Attack_Data_Master/Hydra_FTP_6/UAD-Hydra-FTP-62783.txt  \n",
            "  inflating: Attack_Data_Master/Hydra_FTP_6/UAD-Hydra-FTP-63523.txt  \n",
            "  inflating: Attack_Data_Master/Hydra_FTP_6/UAD-Hydra-FTP-63524.txt  \n",
            "  inflating: Attack_Data_Master/Hydra_FTP_6/UAD-Hydra-FTP-68978.txt  \n",
            "  inflating: Attack_Data_Master/Hydra_FTP_6/UAD-Hydra-FTP-6961.txt  \n",
            "   creating: Attack_Data_Master/Hydra_FTP_7/\n",
            "  inflating: Attack_Data_Master/Hydra_FTP_7/UAD-Hydra-FTP-713277.txt  \n",
            "  inflating: Attack_Data_Master/Hydra_FTP_7/UAD-Hydra-FTP-713288.txt  \n",
            "  inflating: Attack_Data_Master/Hydra_FTP_7/UAD-Hydra-FTP-713292.txt  \n",
            "  inflating: Attack_Data_Master/Hydra_FTP_7/UAD-Hydra-FTP-713305.txt  \n",
            "  inflating: Attack_Data_Master/Hydra_FTP_7/UAD-Hydra-FTP-713306.txt  \n",
            "  inflating: Attack_Data_Master/Hydra_FTP_7/UAD-Hydra-FTP-713394.txt  \n",
            "  inflating: Attack_Data_Master/Hydra_FTP_7/UAD-Hydra-FTP-71371.txt  \n",
            "  inflating: Attack_Data_Master/Hydra_FTP_7/UAD-Hydra-FTP-71442.txt  \n",
            "  inflating: Attack_Data_Master/Hydra_FTP_7/UAD-Hydra-FTP-71613.txt  \n",
            "  inflating: Attack_Data_Master/Hydra_FTP_7/UAD-Hydra-FTP-72311.txt  \n",
            "  inflating: Attack_Data_Master/Hydra_FTP_7/UAD-Hydra-FTP-72462.txt  \n",
            "  inflating: Attack_Data_Master/Hydra_FTP_7/UAD-Hydra-FTP-72783.txt  \n",
            "  inflating: Attack_Data_Master/Hydra_FTP_7/UAD-Hydra-FTP-73523.txt  \n",
            "  inflating: Attack_Data_Master/Hydra_FTP_7/UAD-Hydra-FTP-73524.txt  \n",
            "   creating: Attack_Data_Master/Hydra_FTP_8/\n",
            "  inflating: Attack_Data_Master/Hydra_FTP_8/UAD-Hydra-FTP-8-13541.txt  \n",
            "  inflating: Attack_Data_Master/Hydra_FTP_8/UAD-Hydra-FTP-8-13561.txt  \n",
            "  inflating: Attack_Data_Master/Hydra_FTP_8/UAD-Hydra-FTP-8-13638.txt  \n",
            "  inflating: Attack_Data_Master/Hydra_FTP_8/UAD-Hydra-FTP-8-1371.txt  \n",
            "  inflating: Attack_Data_Master/Hydra_FTP_8/UAD-Hydra-FTP-8-13849.txt  \n",
            "  inflating: Attack_Data_Master/Hydra_FTP_8/UAD-Hydra-FTP-8-1442.txt  \n",
            "  inflating: Attack_Data_Master/Hydra_FTP_8/UAD-Hydra-FTP-8-1613.txt  \n",
            "  inflating: Attack_Data_Master/Hydra_FTP_8/UAD-Hydra-FTP-8-2311.txt  \n",
            "  inflating: Attack_Data_Master/Hydra_FTP_8/UAD-Hydra-FTP-8-2462.txt  \n",
            "  inflating: Attack_Data_Master/Hydra_FTP_8/UAD-Hydra-FTP-8-2783.txt  \n",
            "  inflating: Attack_Data_Master/Hydra_FTP_8/UAD-Hydra-FTP-8-3523.txt  \n",
            "  inflating: Attack_Data_Master/Hydra_FTP_8/UAD-Hydra-FTP-8-3524.txt  \n",
            "   creating: Attack_Data_Master/Hydra_FTP_9/\n",
            "  inflating: Attack_Data_Master/Hydra_FTP_9/UAD-Hydra-FTP-9-13541.txt  \n",
            "  inflating: Attack_Data_Master/Hydra_FTP_9/UAD-Hydra-FTP-9-1371.txt  \n",
            "  inflating: Attack_Data_Master/Hydra_FTP_9/UAD-Hydra-FTP-9-14414.txt  \n",
            "  inflating: Attack_Data_Master/Hydra_FTP_9/UAD-Hydra-FTP-9-1442.txt  \n",
            "  inflating: Attack_Data_Master/Hydra_FTP_9/UAD-Hydra-FTP-9-14423.txt  \n",
            "  inflating: Attack_Data_Master/Hydra_FTP_9/UAD-Hydra-FTP-9-14457.txt  \n",
            "  inflating: Attack_Data_Master/Hydra_FTP_9/UAD-Hydra-FTP-9-14493.txt  \n",
            "  inflating: Attack_Data_Master/Hydra_FTP_9/UAD-Hydra-FTP-9-14651.txt  \n",
            "  inflating: Attack_Data_Master/Hydra_FTP_9/UAD-Hydra-FTP-9-14661.txt  \n",
            "  inflating: Attack_Data_Master/Hydra_FTP_9/UAD-Hydra-FTP-9-14668.txt  \n",
            "  inflating: Attack_Data_Master/Hydra_FTP_9/UAD-Hydra-FTP-9-14700.txt  \n",
            "  inflating: Attack_Data_Master/Hydra_FTP_9/UAD-Hydra-FTP-9-14814.txt  \n",
            "  inflating: Attack_Data_Master/Hydra_FTP_9/UAD-Hydra-FTP-9-14853.txt  \n",
            "  inflating: Attack_Data_Master/Hydra_FTP_9/UAD-Hydra-FTP-9-14945.txt  \n",
            "  inflating: Attack_Data_Master/Hydra_FTP_9/UAD-Hydra-FTP-9-1613.txt  \n",
            "  inflating: Attack_Data_Master/Hydra_FTP_9/UAD-Hydra-FTP-9-2311.txt  \n",
            "  inflating: Attack_Data_Master/Hydra_FTP_9/UAD-Hydra-FTP-9-2462.txt  \n",
            "  inflating: Attack_Data_Master/Hydra_FTP_9/UAD-Hydra-FTP-9-2783.txt  \n",
            "  inflating: Attack_Data_Master/Hydra_FTP_9/UAD-Hydra-FTP-9-3523.txt  \n",
            "  inflating: Attack_Data_Master/Hydra_FTP_9/UAD-Hydra-FTP-9-3524.txt  \n",
            "  inflating: Attack_Data_Master/Hydra_FTP_9/UAD-Hydra-FTP-9-8978.txt  \n",
            "  inflating: Attack_Data_Master/Hydra_FTP_9/UAD-Hydra-FTP-9-961.txt  \n",
            "   creating: Attack_Data_Master/Hydra_SSH_1/\n",
            "  inflating: Attack_Data_Master/Hydra_SSH_1/UAD-Hydra-SSH-1-1371.txt  \n",
            "  inflating: Attack_Data_Master/Hydra_SSH_1/UAD-Hydra-SSH-1-1613.txt  \n",
            "  inflating: Attack_Data_Master/Hydra_SSH_1/UAD-Hydra-SSH-1-2257.txt  \n",
            "  inflating: Attack_Data_Master/Hydra_SSH_1/UAD-Hydra-SSH-1-2277.txt  \n",
            "  inflating: Attack_Data_Master/Hydra_SSH_1/UAD-Hydra-SSH-1-2311.txt  \n",
            "  inflating: Attack_Data_Master/Hydra_SSH_1/UAD-Hydra-SSH-1-2462.txt  \n",
            "  inflating: Attack_Data_Master/Hydra_SSH_1/UAD-Hydra-SSH-1-5941.txt  \n",
            "  inflating: Attack_Data_Master/Hydra_SSH_1/UAD-Hydra-SSH-1-6011.txt  \n",
            "   creating: Attack_Data_Master/Hydra_SSH_10/\n",
            "  inflating: Attack_Data_Master/Hydra_SSH_10/UAD-Hydra-SSH-10-1371.txt  \n",
            "  inflating: Attack_Data_Master/Hydra_SSH_10/UAD-Hydra-SSH-10-1442.txt  \n",
            "  inflating: Attack_Data_Master/Hydra_SSH_10/UAD-Hydra-SSH-10-1613.txt  \n",
            "  inflating: Attack_Data_Master/Hydra_SSH_10/UAD-Hydra-SSH-10-2311.txt  \n",
            "  inflating: Attack_Data_Master/Hydra_SSH_10/UAD-Hydra-SSH-10-2462.txt  \n",
            "  inflating: Attack_Data_Master/Hydra_SSH_10/UAD-Hydra-SSH-10-2783.txt  \n",
            "  inflating: Attack_Data_Master/Hydra_SSH_10/UAD-Hydra-SSH-10-8445.txt  \n",
            "  inflating: Attack_Data_Master/Hydra_SSH_10/UAD-Hydra-SSH-10-8456.txt  \n",
            "  inflating: Attack_Data_Master/Hydra_SSH_10/UAD-Hydra-SSH-10-8462.txt  \n",
            "  inflating: Attack_Data_Master/Hydra_SSH_10/UAD-Hydra-SSH-10-8480.txt  \n",
            "  inflating: Attack_Data_Master/Hydra_SSH_10/UAD-Hydra-SSH-10-8498.txt  \n",
            "  inflating: Attack_Data_Master/Hydra_SSH_10/UAD-Hydra-SSH-10-8501.txt  \n",
            "   creating: Attack_Data_Master/Hydra_SSH_2/\n",
            "  inflating: Attack_Data_Master/Hydra_SSH_2/UAD-Hydra-SSH-2-=5738.txt  \n",
            "  inflating: Attack_Data_Master/Hydra_SSH_2/UAD-Hydra-SSH-2-1371.txt  \n",
            "  inflating: Attack_Data_Master/Hydra_SSH_2/UAD-Hydra-SSH-2-1442.txt  \n",
            "  inflating: Attack_Data_Master/Hydra_SSH_2/UAD-Hydra-SSH-2-1613.txt  \n",
            "  inflating: Attack_Data_Master/Hydra_SSH_2/UAD-Hydra-SSH-2-2311.txt  \n",
            "  inflating: Attack_Data_Master/Hydra_SSH_2/UAD-Hydra-SSH-2-2424.txt  \n",
            "  inflating: Attack_Data_Master/Hydra_SSH_2/UAD-Hydra-SSH-2-2462.txt  \n",
            "  inflating: Attack_Data_Master/Hydra_SSH_2/UAD-Hydra-SSH-2-2783.txt  \n",
            "  inflating: Attack_Data_Master/Hydra_SSH_2/UAD-Hydra-SSH-2-3754.txt  \n",
            "  inflating: Attack_Data_Master/Hydra_SSH_2/UAD-Hydra-SSH-2-6130.txt  \n",
            "  inflating: Attack_Data_Master/Hydra_SSH_2/UAD-Hydra-SSH-2-6154.txt  \n",
            "  inflating: Attack_Data_Master/Hydra_SSH_2/UAD-Hydra-SSH-2-6182.txt  \n",
            "  inflating: Attack_Data_Master/Hydra_SSH_2/UAD-Hydra-SSH-2-6189.txt  \n",
            "  inflating: Attack_Data_Master/Hydra_SSH_2/UAD-Hydra-SSH-2-6221.txt  \n",
            "  inflating: Attack_Data_Master/Hydra_SSH_2/UAD-Hydra-SSH-2-6237.txt  \n",
            "  inflating: Attack_Data_Master/Hydra_SSH_2/UAD-Hydra-SSH-2-6243.txt  \n",
            "  inflating: Attack_Data_Master/Hydra_SSH_2/UAD-Hydra-SSH-2-6365.txt  \n",
            "  inflating: Attack_Data_Master/Hydra_SSH_2/UAD-Hydra-SSH-2-6384.txt  \n",
            "  inflating: Attack_Data_Master/Hydra_SSH_2/UAD-Hydra-SSH-2-6398.txt  \n",
            "  inflating: Attack_Data_Master/Hydra_SSH_2/UAD-Hydra-SSH-2-6414.txt  \n",
            "  inflating: Attack_Data_Master/Hydra_SSH_2/UAD-Hydra-SSH-2-6426.txt  \n",
            "  inflating: Attack_Data_Master/Hydra_SSH_2/UAD-Hydra-SSH-2-6452.txt  \n",
            "  inflating: Attack_Data_Master/Hydra_SSH_2/UAD-Hydra-SSH-2-6461.txt  \n",
            "  inflating: Attack_Data_Master/Hydra_SSH_2/UAD-Hydra-SSH-2-6470.txt  \n",
            "  inflating: Attack_Data_Master/Hydra_SSH_2/UAD-Hydra-SSH-2-961.txt  \n",
            "   creating: Attack_Data_Master/Hydra_SSH_3/\n",
            "  inflating: Attack_Data_Master/Hydra_SSH_3/UAD-Hydra-SSH-3-1371.txt  \n",
            "  inflating: Attack_Data_Master/Hydra_SSH_3/UAD-Hydra-SSH-3-1442.txt  \n",
            "  inflating: Attack_Data_Master/Hydra_SSH_3/UAD-Hydra-SSH-3-1613.txt  \n",
            "  inflating: Attack_Data_Master/Hydra_SSH_3/UAD-Hydra-SSH-3-2311.txt  \n",
            "  inflating: Attack_Data_Master/Hydra_SSH_3/UAD-Hydra-SSH-3-2462.txt  \n",
            "  inflating: Attack_Data_Master/Hydra_SSH_3/UAD-Hydra-SSH-3-2783.txt  \n",
            "  inflating: Attack_Data_Master/Hydra_SSH_3/UAD-Hydra-SSH-3-6511.txt  \n",
            "  inflating: Attack_Data_Master/Hydra_SSH_3/UAD-Hydra-SSH-3-6522.txt  \n",
            "  inflating: Attack_Data_Master/Hydra_SSH_3/UAD-Hydra-SSH-3-6525.txt  \n",
            "  inflating: Attack_Data_Master/Hydra_SSH_3/UAD-Hydra-SSH-3-6548.txt  \n",
            "  inflating: Attack_Data_Master/Hydra_SSH_3/UAD-Hydra-SSH-3-6579.txt  \n",
            "  inflating: Attack_Data_Master/Hydra_SSH_3/UAD-Hydra-SSH-3-6582.txt  \n",
            "  inflating: Attack_Data_Master/Hydra_SSH_3/UAD-Hydra-SSH-3-6589.txt  \n",
            "  inflating: Attack_Data_Master/Hydra_SSH_3/UAD-Hydra-SSH-3-6595.txt  \n",
            "  inflating: Attack_Data_Master/Hydra_SSH_3/UAD-Hydra-SSH-3-6599.txt  \n",
            "  inflating: Attack_Data_Master/Hydra_SSH_3/UAD-Hydra-SSH-3-6624.txt  \n",
            "  inflating: Attack_Data_Master/Hydra_SSH_3/UAD-Hydra-SSH-3-6633.txt  \n",
            "  inflating: Attack_Data_Master/Hydra_SSH_3/UAD-Hydra-SSH-3-6636.txt  \n",
            "  inflating: Attack_Data_Master/Hydra_SSH_3/UAD-Hydra-SSH-3-6653.txt  \n",
            "  inflating: Attack_Data_Master/Hydra_SSH_3/UAD-Hydra-SSH-3-6661.txt  \n",
            "  inflating: Attack_Data_Master/Hydra_SSH_3/UAD-Hydra-SSH-3-6667.txt  \n",
            "  inflating: Attack_Data_Master/Hydra_SSH_3/UAD-Hydra-SSH-3-6676.txt  \n",
            "   creating: Attack_Data_Master/Hydra_SSH_4/\n",
            "  inflating: Attack_Data_Master/Hydra_SSH_4/UAD-Hydra-SSH-4-1371.txt  \n",
            "  inflating: Attack_Data_Master/Hydra_SSH_4/UAD-Hydra-SSH-4-1442.txt  \n",
            "  inflating: Attack_Data_Master/Hydra_SSH_4/UAD-Hydra-SSH-4-1613.txt  \n",
            "  inflating: Attack_Data_Master/Hydra_SSH_4/UAD-Hydra-SSH-4-2311.txt  \n",
            "  inflating: Attack_Data_Master/Hydra_SSH_4/UAD-Hydra-SSH-4-2462.txt  \n",
            "  inflating: Attack_Data_Master/Hydra_SSH_4/UAD-Hydra-SSH-4-2783.txt  \n",
            "  inflating: Attack_Data_Master/Hydra_SSH_4/UAD-Hydra-SSH-4-6747.txt  \n",
            "  inflating: Attack_Data_Master/Hydra_SSH_4/UAD-Hydra-SSH-4-6784.txt  \n",
            "  inflating: Attack_Data_Master/Hydra_SSH_4/UAD-Hydra-SSH-4-6814.txt  \n",
            "  inflating: Attack_Data_Master/Hydra_SSH_4/UAD-Hydra-SSH-4-6839.txt  \n",
            "  inflating: Attack_Data_Master/Hydra_SSH_4/UAD-Hydra-SSH-4-6871.txt  \n",
            "  inflating: Attack_Data_Master/Hydra_SSH_4/UAD-Hydra-SSH-4-6904.txt  \n",
            "   creating: Attack_Data_Master/Hydra_SSH_5/\n",
            "  inflating: Attack_Data_Master/Hydra_SSH_5/UAD-Hydra-SSH-5-=5738.txt  \n",
            "  inflating: Attack_Data_Master/Hydra_SSH_5/UAD-Hydra-SSH-5-1371.txt  \n",
            "  inflating: Attack_Data_Master/Hydra_SSH_5/UAD-Hydra-SSH-5-1442.txt  \n",
            "  inflating: Attack_Data_Master/Hydra_SSH_5/UAD-Hydra-SSH-5-1613.txt  \n",
            "  inflating: Attack_Data_Master/Hydra_SSH_5/UAD-Hydra-SSH-5-2311.txt  \n",
            "  inflating: Attack_Data_Master/Hydra_SSH_5/UAD-Hydra-SSH-5-2424.txt  \n",
            "  inflating: Attack_Data_Master/Hydra_SSH_5/UAD-Hydra-SSH-5-2462.txt  \n",
            "  inflating: Attack_Data_Master/Hydra_SSH_5/UAD-Hydra-SSH-5-2783.txt  \n",
            "  inflating: Attack_Data_Master/Hydra_SSH_5/UAD-Hydra-SSH-5-6938.txt  \n",
            "  inflating: Attack_Data_Master/Hydra_SSH_5/UAD-Hydra-SSH-5-6949.txt  \n",
            "  inflating: Attack_Data_Master/Hydra_SSH_5/UAD-Hydra-SSH-5-6988.txt  \n",
            "  inflating: Attack_Data_Master/Hydra_SSH_5/UAD-Hydra-SSH-5-7033.txt  \n",
            "  inflating: Attack_Data_Master/Hydra_SSH_5/UAD-Hydra-SSH-5-7045.txt  \n",
            "  inflating: Attack_Data_Master/Hydra_SSH_5/UAD-Hydra-SSH-5-7061.txt  \n",
            "  inflating: Attack_Data_Master/Hydra_SSH_5/UAD-Hydra-SSH-5-7077.txt  \n",
            "  inflating: Attack_Data_Master/Hydra_SSH_5/UAD-Hydra-SSH-5-7098.txt  \n",
            "  inflating: Attack_Data_Master/Hydra_SSH_5/UAD-Hydra-SSH-5-7145.txt  \n",
            "  inflating: Attack_Data_Master/Hydra_SSH_5/UAD-Hydra-SSH-5-7157.txt  \n",
            "  inflating: Attack_Data_Master/Hydra_SSH_5/UAD-Hydra-SSH-5-7253.txt  \n",
            "  inflating: Attack_Data_Master/Hydra_SSH_5/UAD-Hydra-SSH-5-961.txt  \n",
            "   creating: Attack_Data_Master/Hydra_SSH_6/\n",
            "  inflating: Attack_Data_Master/Hydra_SSH_6/UAD-Hydra-SSH-6-=5738.txt  \n",
            "  inflating: Attack_Data_Master/Hydra_SSH_6/UAD-Hydra-SSH-6-1371.txt  \n",
            "  inflating: Attack_Data_Master/Hydra_SSH_6/UAD-Hydra-SSH-6-1442.txt  \n",
            "  inflating: Attack_Data_Master/Hydra_SSH_6/UAD-Hydra-SSH-6-1613.txt  \n",
            "  inflating: Attack_Data_Master/Hydra_SSH_6/UAD-Hydra-SSH-6-2311.txt  \n",
            "  inflating: Attack_Data_Master/Hydra_SSH_6/UAD-Hydra-SSH-6-2462.txt  \n",
            "  inflating: Attack_Data_Master/Hydra_SSH_6/UAD-Hydra-SSH-6-2783.txt  \n",
            "  inflating: Attack_Data_Master/Hydra_SSH_6/UAD-Hydra-SSH-6-7326.txt  \n",
            "  inflating: Attack_Data_Master/Hydra_SSH_6/UAD-Hydra-SSH-6-7337.txt  \n",
            "  inflating: Attack_Data_Master/Hydra_SSH_6/UAD-Hydra-SSH-6-7392.txt  \n",
            "  inflating: Attack_Data_Master/Hydra_SSH_6/UAD-Hydra-SSH-6-7426.txt  \n",
            "  inflating: Attack_Data_Master/Hydra_SSH_6/UAD-Hydra-SSH-6-7428.txt  \n",
            "  inflating: Attack_Data_Master/Hydra_SSH_6/UAD-Hydra-SSH-6-7434.txt  \n",
            "  inflating: Attack_Data_Master/Hydra_SSH_6/UAD-Hydra-SSH-6-7448.txt  \n",
            "  inflating: Attack_Data_Master/Hydra_SSH_6/UAD-Hydra-SSH-6-7472.txt  \n",
            "  inflating: Attack_Data_Master/Hydra_SSH_6/UAD-Hydra-SSH-6-7501.txt  \n",
            "  inflating: Attack_Data_Master/Hydra_SSH_6/UAD-Hydra-SSH-6-7514.txt  \n",
            "  inflating: Attack_Data_Master/Hydra_SSH_6/UAD-Hydra-SSH-6-7524.txt  \n",
            "  inflating: Attack_Data_Master/Hydra_SSH_6/UAD-Hydra-SSH-6-961.txt  \n",
            "   creating: Attack_Data_Master/Hydra_SSH_7/\n",
            "  inflating: Attack_Data_Master/Hydra_SSH_7/UAD-Hydra-SSH-7-1371.txt  \n",
            "  inflating: Attack_Data_Master/Hydra_SSH_7/UAD-Hydra-SSH-7-1442.txt  \n",
            "  inflating: Attack_Data_Master/Hydra_SSH_7/UAD-Hydra-SSH-7-1613.txt  \n",
            "  inflating: Attack_Data_Master/Hydra_SSH_7/UAD-Hydra-SSH-7-2311.txt  \n",
            "  inflating: Attack_Data_Master/Hydra_SSH_7/UAD-Hydra-SSH-7-2462.txt  \n",
            "  inflating: Attack_Data_Master/Hydra_SSH_7/UAD-Hydra-SSH-7-2783.txt  \n",
            "  inflating: Attack_Data_Master/Hydra_SSH_7/UAD-Hydra-SSH-7-7613.txt  \n",
            "  inflating: Attack_Data_Master/Hydra_SSH_7/UAD-Hydra-SSH-7-7624.txt  \n",
            "  inflating: Attack_Data_Master/Hydra_SSH_7/UAD-Hydra-SSH-7-7684.txt  \n",
            "  inflating: Attack_Data_Master/Hydra_SSH_7/UAD-Hydra-SSH-7-7686.txt  \n",
            "  inflating: Attack_Data_Master/Hydra_SSH_7/UAD-Hydra-SSH-7-7723.txt  \n",
            "   creating: Attack_Data_Master/Hydra_SSH_8/\n",
            "  inflating: Attack_Data_Master/Hydra_SSH_8/UAD-Hydra-SSH-8-=5738.txt  \n",
            "  inflating: Attack_Data_Master/Hydra_SSH_8/UAD-Hydra-SSH-8-1371.txt  \n",
            "  inflating: Attack_Data_Master/Hydra_SSH_8/UAD-Hydra-SSH-8-1442.txt  \n",
            "  inflating: Attack_Data_Master/Hydra_SSH_8/UAD-Hydra-SSH-8-1613.txt  \n",
            "  inflating: Attack_Data_Master/Hydra_SSH_8/UAD-Hydra-SSH-8-2301.txt  \n",
            "  inflating: Attack_Data_Master/Hydra_SSH_8/UAD-Hydra-SSH-8-2311.txt  \n",
            "  inflating: Attack_Data_Master/Hydra_SSH_8/UAD-Hydra-SSH-8-2462.txt  \n",
            "  inflating: Attack_Data_Master/Hydra_SSH_8/UAD-Hydra-SSH-8-2783.txt  \n",
            "  inflating: Attack_Data_Master/Hydra_SSH_8/UAD-Hydra-SSH-8-7820.txt  \n",
            "  inflating: Attack_Data_Master/Hydra_SSH_8/UAD-Hydra-SSH-8-7840.txt  \n",
            "  inflating: Attack_Data_Master/Hydra_SSH_8/UAD-Hydra-SSH-8-7892.txt  \n",
            "  inflating: Attack_Data_Master/Hydra_SSH_8/UAD-Hydra-SSH-8-7933.txt  \n",
            "  inflating: Attack_Data_Master/Hydra_SSH_8/UAD-Hydra-SSH-8-7954.txt  \n",
            "  inflating: Attack_Data_Master/Hydra_SSH_8/UAD-Hydra-SSH-8-7964.txt  \n",
            "  inflating: Attack_Data_Master/Hydra_SSH_8/UAD-Hydra-SSH-8-7971.txt  \n",
            "  inflating: Attack_Data_Master/Hydra_SSH_8/UAD-Hydra-SSH-8-8012.txt  \n",
            "  inflating: Attack_Data_Master/Hydra_SSH_8/UAD-Hydra-SSH-8-8017.txt  \n",
            "  inflating: Attack_Data_Master/Hydra_SSH_8/UAD-Hydra-SSH-8-8052.txt  \n",
            "  inflating: Attack_Data_Master/Hydra_SSH_8/UAD-Hydra-SSH-8-8059.txt  \n",
            "   creating: Attack_Data_Master/Hydra_SSH_9/\n",
            "  inflating: Attack_Data_Master/Hydra_SSH_9/UAD-Hydra-SSH-9-=5738.txt  \n",
            "  inflating: Attack_Data_Master/Hydra_SSH_9/UAD-Hydra-SSH-9-1371.txt  \n",
            "  inflating: Attack_Data_Master/Hydra_SSH_9/UAD-Hydra-SSH-9-1442.txt  \n",
            "  inflating: Attack_Data_Master/Hydra_SSH_9/UAD-Hydra-SSH-9-1613.txt  \n",
            "  inflating: Attack_Data_Master/Hydra_SSH_9/UAD-Hydra-SSH-9-2311.txt  \n",
            "  inflating: Attack_Data_Master/Hydra_SSH_9/UAD-Hydra-SSH-9-2462.txt  \n",
            "  inflating: Attack_Data_Master/Hydra_SSH_9/UAD-Hydra-SSH-9-2783.txt  \n",
            "  inflating: Attack_Data_Master/Hydra_SSH_9/UAD-Hydra-SSH-9-3754.txt  \n",
            "  inflating: Attack_Data_Master/Hydra_SSH_9/UAD-Hydra-SSH-9-8177.txt  \n",
            "  inflating: Attack_Data_Master/Hydra_SSH_9/UAD-Hydra-SSH-9-8188.txt  \n",
            "  inflating: Attack_Data_Master/Hydra_SSH_9/UAD-Hydra-SSH-9-8194.txt  \n",
            "  inflating: Attack_Data_Master/Hydra_SSH_9/UAD-Hydra-SSH-9-8223.txt  \n",
            "  inflating: Attack_Data_Master/Hydra_SSH_9/UAD-Hydra-SSH-9-8235.txt  \n",
            "  inflating: Attack_Data_Master/Hydra_SSH_9/UAD-Hydra-SSH-9-8254.txt  \n",
            "  inflating: Attack_Data_Master/Hydra_SSH_9/UAD-Hydra-SSH-9-8257.txt  \n",
            "  inflating: Attack_Data_Master/Hydra_SSH_9/UAD-Hydra-SSH-9-8258.txt  \n",
            "  inflating: Attack_Data_Master/Hydra_SSH_9/UAD-Hydra-SSH-9-8259.txt  \n",
            "  inflating: Attack_Data_Master/Hydra_SSH_9/UAD-Hydra-SSH-9-8278.txt  \n",
            "  inflating: Attack_Data_Master/Hydra_SSH_9/UAD-Hydra-SSH-9-8303.txt  \n",
            "  inflating: Attack_Data_Master/Hydra_SSH_9/UAD-Hydra-SSH-9-8312.txt  \n",
            "  inflating: Attack_Data_Master/Hydra_SSH_9/UAD-Hydra-SSH-9-8314.txt  \n",
            "  inflating: Attack_Data_Master/Hydra_SSH_9/UAD-Hydra-SSH-9-8315.txt  \n",
            "  inflating: Attack_Data_Master/Hydra_SSH_9/UAD-Hydra-SSH-9-8316.txt  \n",
            "  inflating: Attack_Data_Master/Hydra_SSH_9/UAD-Hydra-SSH-9-8327.txt  \n",
            "  inflating: Attack_Data_Master/Hydra_SSH_9/UAD-Hydra-SSH-9-8334.txt  \n",
            "  inflating: Attack_Data_Master/Hydra_SSH_9/UAD-Hydra-SSH-9-8346.txt  \n",
            "  inflating: Attack_Data_Master/Hydra_SSH_9/UAD-Hydra-SSH-9-8347.txt  \n",
            "  inflating: Attack_Data_Master/Hydra_SSH_9/UAD-Hydra-SSH-9-8360.txt  \n",
            "   creating: Attack_Data_Master/Java_Meterpreter_1/\n",
            "  inflating: Attack_Data_Master/Java_Meterpreter_1/UAD-Java-Meterpreter-1-=1.txt  \n",
            "  inflating: Attack_Data_Master/Java_Meterpreter_1/UAD-Java-Meterpreter-1-1371.txt  \n",
            "  inflating: Attack_Data_Master/Java_Meterpreter_1/UAD-Java-Meterpreter-1-1613.txt  \n",
            "  inflating: Attack_Data_Master/Java_Meterpreter_1/UAD-Java-Meterpreter-1-19425.txt  \n",
            "  inflating: Attack_Data_Master/Java_Meterpreter_1/UAD-Java-Meterpreter-1-19444.txt  \n",
            "  inflating: Attack_Data_Master/Java_Meterpreter_1/UAD-Java-Meterpreter-1-19463.txt  \n",
            "  inflating: Attack_Data_Master/Java_Meterpreter_1/UAD-Java-Meterpreter-1-19479.txt  \n",
            "  inflating: Attack_Data_Master/Java_Meterpreter_1/UAD-Java-Meterpreter-1-2311.txt  \n",
            "  inflating: Attack_Data_Master/Java_Meterpreter_1/UAD-Java-Meterpreter-1-2462.txt  \n",
            "  inflating: Attack_Data_Master/Java_Meterpreter_1/UAD-Java-Meterpreter-1-2783.txt  \n",
            "  inflating: Attack_Data_Master/Java_Meterpreter_1/UAD-Java-Meterpreter-1-961.txt  \n",
            "   creating: Attack_Data_Master/Java_Meterpreter_10/\n",
            "  inflating: Attack_Data_Master/Java_Meterpreter_10/UAD-Java-Meterpreter-10-=1.txt  \n",
            "  inflating: Attack_Data_Master/Java_Meterpreter_10/UAD-Java-Meterpreter-10-1371.txt  \n",
            "  inflating: Attack_Data_Master/Java_Meterpreter_10/UAD-Java-Meterpreter-10-1613.txt  \n",
            "  inflating: Attack_Data_Master/Java_Meterpreter_10/UAD-Java-Meterpreter-10-19826.txt  \n",
            "  inflating: Attack_Data_Master/Java_Meterpreter_10/UAD-Java-Meterpreter-10-19833.txt  \n",
            "  inflating: Attack_Data_Master/Java_Meterpreter_10/UAD-Java-Meterpreter-10-19852.txt  \n",
            "  inflating: Attack_Data_Master/Java_Meterpreter_10/UAD-Java-Meterpreter-10-19880.txt  \n",
            "  inflating: Attack_Data_Master/Java_Meterpreter_10/UAD-Java-Meterpreter-10-19887.txt  \n",
            "  inflating: Attack_Data_Master/Java_Meterpreter_10/UAD-Java-Meterpreter-10-2311.txt  \n",
            "  inflating: Attack_Data_Master/Java_Meterpreter_10/UAD-Java-Meterpreter-10-2377.txt  \n",
            "  inflating: Attack_Data_Master/Java_Meterpreter_10/UAD-Java-Meterpreter-10-2462.txt  \n",
            "  inflating: Attack_Data_Master/Java_Meterpreter_10/UAD-Java-Meterpreter-10-2783.txt  \n",
            "   creating: Attack_Data_Master/Java_Meterpreter_2/\n",
            "  inflating: Attack_Data_Master/Java_Meterpreter_2/UAD-Java-Meterpreter-2-=1.txt  \n",
            "  inflating: Attack_Data_Master/Java_Meterpreter_2/UAD-Java-Meterpreter-2-1371.txt  \n",
            "  inflating: Attack_Data_Master/Java_Meterpreter_2/UAD-Java-Meterpreter-2-1613.txt  \n",
            "  inflating: Attack_Data_Master/Java_Meterpreter_2/UAD-Java-Meterpreter-2-19531.txt  \n",
            "  inflating: Attack_Data_Master/Java_Meterpreter_2/UAD-Java-Meterpreter-2-19544.txt  \n",
            "  inflating: Attack_Data_Master/Java_Meterpreter_2/UAD-Java-Meterpreter-2-19563.txt  \n",
            "  inflating: Attack_Data_Master/Java_Meterpreter_2/UAD-Java-Meterpreter-2-19582.txt  \n",
            "  inflating: Attack_Data_Master/Java_Meterpreter_2/UAD-Java-Meterpreter-2-19598.txt  \n",
            "  inflating: Attack_Data_Master/Java_Meterpreter_2/UAD-Java-Meterpreter-2-2311.txt  \n",
            "  inflating: Attack_Data_Master/Java_Meterpreter_2/UAD-Java-Meterpreter-2-2462.txt  \n",
            "  inflating: Attack_Data_Master/Java_Meterpreter_2/UAD-Java-Meterpreter-2-2783.txt  \n",
            "   creating: Attack_Data_Master/Java_Meterpreter_3/\n",
            "  inflating: Attack_Data_Master/Java_Meterpreter_3/UAD-Java-Meterpreter-3-=1.txt  \n",
            "  inflating: Attack_Data_Master/Java_Meterpreter_3/UAD-Java-Meterpreter-3-1371.txt  \n",
            "  inflating: Attack_Data_Master/Java_Meterpreter_3/UAD-Java-Meterpreter-3-1613.txt  \n",
            "  inflating: Attack_Data_Master/Java_Meterpreter_3/UAD-Java-Meterpreter-3-19676.txt  \n",
            "  inflating: Attack_Data_Master/Java_Meterpreter_3/UAD-Java-Meterpreter-3-19681.txt  \n",
            "  inflating: Attack_Data_Master/Java_Meterpreter_3/UAD-Java-Meterpreter-3-19700.txt  \n",
            "  inflating: Attack_Data_Master/Java_Meterpreter_3/UAD-Java-Meterpreter-3-19719.txt  \n",
            "  inflating: Attack_Data_Master/Java_Meterpreter_3/UAD-Java-Meterpreter-3-19735.txt  \n",
            "  inflating: Attack_Data_Master/Java_Meterpreter_3/UAD-Java-Meterpreter-3-2311.txt  \n",
            "  inflating: Attack_Data_Master/Java_Meterpreter_3/UAD-Java-Meterpreter-3-2462.txt  \n",
            "  inflating: Attack_Data_Master/Java_Meterpreter_3/UAD-Java-Meterpreter-3-2783.txt  \n",
            "  inflating: Attack_Data_Master/Java_Meterpreter_3/UAD-Java-Meterpreter-3-961.txt  \n",
            "   creating: Attack_Data_Master/Java_Meterpreter_4/\n",
            "  inflating: Attack_Data_Master/Java_Meterpreter_4/UAD-Java-Meterpreter-4-=1.txt  \n",
            "  inflating: Attack_Data_Master/Java_Meterpreter_4/UAD-Java-Meterpreter-4-1371.txt  \n",
            "  inflating: Attack_Data_Master/Java_Meterpreter_4/UAD-Java-Meterpreter-4-1613.txt  \n",
            "  inflating: Attack_Data_Master/Java_Meterpreter_4/UAD-Java-Meterpreter-4-20017.txt  \n",
            "  inflating: Attack_Data_Master/Java_Meterpreter_4/UAD-Java-Meterpreter-4-20024.txt  \n",
            "  inflating: Attack_Data_Master/Java_Meterpreter_4/UAD-Java-Meterpreter-4-20043.txt  \n",
            "  inflating: Attack_Data_Master/Java_Meterpreter_4/UAD-Java-Meterpreter-4-20062.txt  \n",
            "  inflating: Attack_Data_Master/Java_Meterpreter_4/UAD-Java-Meterpreter-4-20078.txt  \n",
            "  inflating: Attack_Data_Master/Java_Meterpreter_4/UAD-Java-Meterpreter-4-2311.txt  \n",
            "  inflating: Attack_Data_Master/Java_Meterpreter_4/UAD-Java-Meterpreter-4-2342.txt  \n",
            "  inflating: Attack_Data_Master/Java_Meterpreter_4/UAD-Java-Meterpreter-4-2377.txt  \n",
            "  inflating: Attack_Data_Master/Java_Meterpreter_4/UAD-Java-Meterpreter-4-2462.txt  \n",
            "  inflating: Attack_Data_Master/Java_Meterpreter_4/UAD-Java-Meterpreter-4-2783.txt  \n",
            "   creating: Attack_Data_Master/Java_Meterpreter_5/\n",
            "  inflating: Attack_Data_Master/Java_Meterpreter_5/UAD-Java-Meterpreter-5-=1.txt  \n",
            "  inflating: Attack_Data_Master/Java_Meterpreter_5/UAD-Java-Meterpreter-5-1371.txt  \n",
            "  inflating: Attack_Data_Master/Java_Meterpreter_5/UAD-Java-Meterpreter-5-1613.txt  \n",
            "  inflating: Attack_Data_Master/Java_Meterpreter_5/UAD-Java-Meterpreter-5-20142.txt  \n",
            "  inflating: Attack_Data_Master/Java_Meterpreter_5/UAD-Java-Meterpreter-5-20145.txt  \n",
            "  inflating: Attack_Data_Master/Java_Meterpreter_5/UAD-Java-Meterpreter-5-20164.txt  \n",
            "  inflating: Attack_Data_Master/Java_Meterpreter_5/UAD-Java-Meterpreter-5-20183.txt  \n",
            "  inflating: Attack_Data_Master/Java_Meterpreter_5/UAD-Java-Meterpreter-5-20199.txt  \n",
            "  inflating: Attack_Data_Master/Java_Meterpreter_5/UAD-Java-Meterpreter-5-2311.txt  \n",
            "  inflating: Attack_Data_Master/Java_Meterpreter_5/UAD-Java-Meterpreter-5-2462.txt  \n",
            "  inflating: Attack_Data_Master/Java_Meterpreter_5/UAD-Java-Meterpreter-5-2783.txt  \n",
            "  inflating: Attack_Data_Master/Java_Meterpreter_5/UAD-Java-Meterpreter-5-961.txt  \n",
            "   creating: Attack_Data_Master/Java_Meterpreter_6/\n",
            "  inflating: Attack_Data_Master/Java_Meterpreter_6/UAD-Java-Meterpreter-6-=1.txt  \n",
            "  inflating: Attack_Data_Master/Java_Meterpreter_6/UAD-Java-Meterpreter-6-1371.txt  \n",
            "  inflating: Attack_Data_Master/Java_Meterpreter_6/UAD-Java-Meterpreter-6-1613.txt  \n",
            "  inflating: Attack_Data_Master/Java_Meterpreter_6/UAD-Java-Meterpreter-6-20253.txt  \n",
            "  inflating: Attack_Data_Master/Java_Meterpreter_6/UAD-Java-Meterpreter-6-20256.txt  \n",
            "  inflating: Attack_Data_Master/Java_Meterpreter_6/UAD-Java-Meterpreter-6-20275.txt  \n",
            "  inflating: Attack_Data_Master/Java_Meterpreter_6/UAD-Java-Meterpreter-6-20294.txt  \n",
            "  inflating: Attack_Data_Master/Java_Meterpreter_6/UAD-Java-Meterpreter-6-20310.txt  \n",
            "  inflating: Attack_Data_Master/Java_Meterpreter_6/UAD-Java-Meterpreter-6-2311.txt  \n",
            "  inflating: Attack_Data_Master/Java_Meterpreter_6/UAD-Java-Meterpreter-6-2462.txt  \n",
            "  inflating: Attack_Data_Master/Java_Meterpreter_6/UAD-Java-Meterpreter-6-2783.txt  \n",
            "  inflating: Attack_Data_Master/Java_Meterpreter_6/UAD-Java-Meterpreter-6-961.txt  \n",
            "   creating: Attack_Data_Master/Java_Meterpreter_7/\n",
            "  inflating: Attack_Data_Master/Java_Meterpreter_7/UAD-Java-Meterpreter-7-=1.txt  \n",
            "  inflating: Attack_Data_Master/Java_Meterpreter_7/UAD-Java-Meterpreter-7-1371.txt  \n",
            "  inflating: Attack_Data_Master/Java_Meterpreter_7/UAD-Java-Meterpreter-7-1613.txt  \n",
            "  inflating: Attack_Data_Master/Java_Meterpreter_7/UAD-Java-Meterpreter-7-20347.txt  \n",
            "  inflating: Attack_Data_Master/Java_Meterpreter_7/UAD-Java-Meterpreter-7-20371.txt  \n",
            "  inflating: Attack_Data_Master/Java_Meterpreter_7/UAD-Java-Meterpreter-7-20390.txt  \n",
            "  inflating: Attack_Data_Master/Java_Meterpreter_7/UAD-Java-Meterpreter-7-20409.txt  \n",
            "  inflating: Attack_Data_Master/Java_Meterpreter_7/UAD-Java-Meterpreter-7-20425.txt  \n",
            "  inflating: Attack_Data_Master/Java_Meterpreter_7/UAD-Java-Meterpreter-7-20435.txt  \n",
            "  inflating: Attack_Data_Master/Java_Meterpreter_7/UAD-Java-Meterpreter-7-20447.txt  \n",
            "  inflating: Attack_Data_Master/Java_Meterpreter_7/UAD-Java-Meterpreter-7-2311.txt  \n",
            "  inflating: Attack_Data_Master/Java_Meterpreter_7/UAD-Java-Meterpreter-7-2462.txt  \n",
            "  inflating: Attack_Data_Master/Java_Meterpreter_7/UAD-Java-Meterpreter-7-2783.txt  \n",
            "   creating: Attack_Data_Master/Java_Meterpreter_8/\n",
            "  inflating: Attack_Data_Master/Java_Meterpreter_8/UAD-Java-Meterpreter-8-=1.txt  \n",
            "  inflating: Attack_Data_Master/Java_Meterpreter_8/UAD-Java-Meterpreter-8-1371.txt  \n",
            "  inflating: Attack_Data_Master/Java_Meterpreter_8/UAD-Java-Meterpreter-8-1533.txt  \n",
            "  inflating: Attack_Data_Master/Java_Meterpreter_8/UAD-Java-Meterpreter-8-1613.txt  \n",
            "  inflating: Attack_Data_Master/Java_Meterpreter_8/UAD-Java-Meterpreter-8-20507.txt  \n",
            "  inflating: Attack_Data_Master/Java_Meterpreter_8/UAD-Java-Meterpreter-8-20529.txt  \n",
            "  inflating: Attack_Data_Master/Java_Meterpreter_8/UAD-Java-Meterpreter-8-20548.txt  \n",
            "  inflating: Attack_Data_Master/Java_Meterpreter_8/UAD-Java-Meterpreter-8-20567.txt  \n",
            "  inflating: Attack_Data_Master/Java_Meterpreter_8/UAD-Java-Meterpreter-8-20583.txt  \n",
            "  inflating: Attack_Data_Master/Java_Meterpreter_8/UAD-Java-Meterpreter-8-2311.txt  \n",
            "  inflating: Attack_Data_Master/Java_Meterpreter_8/UAD-Java-Meterpreter-8-2377.txt  \n",
            "  inflating: Attack_Data_Master/Java_Meterpreter_8/UAD-Java-Meterpreter-8-2462.txt  \n",
            "  inflating: Attack_Data_Master/Java_Meterpreter_8/UAD-Java-Meterpreter-8-2783.txt  \n",
            "   creating: Attack_Data_Master/Java_Meterpreter_9/\n",
            "  inflating: Attack_Data_Master/Java_Meterpreter_9/UAD-Java-Meterpreter-9-=1.txt  \n",
            "  inflating: Attack_Data_Master/Java_Meterpreter_9/UAD-Java-Meterpreter-9-1371.txt  \n",
            "  inflating: Attack_Data_Master/Java_Meterpreter_9/UAD-Java-Meterpreter-9-1613.txt  \n",
            "  inflating: Attack_Data_Master/Java_Meterpreter_9/UAD-Java-Meterpreter-9-20674.txt  \n",
            "  inflating: Attack_Data_Master/Java_Meterpreter_9/UAD-Java-Meterpreter-9-20693.txt  \n",
            "  inflating: Attack_Data_Master/Java_Meterpreter_9/UAD-Java-Meterpreter-9-20712.txt  \n",
            "  inflating: Attack_Data_Master/Java_Meterpreter_9/UAD-Java-Meterpreter-9-20720.txt  \n",
            "  inflating: Attack_Data_Master/Java_Meterpreter_9/UAD-Java-Meterpreter-9-20721.txt  \n",
            "  inflating: Attack_Data_Master/Java_Meterpreter_9/UAD-Java-Meterpreter-9-20728.txt  \n",
            "  inflating: Attack_Data_Master/Java_Meterpreter_9/UAD-Java-Meterpreter-9-20730.txt  \n",
            "  inflating: Attack_Data_Master/Java_Meterpreter_9/UAD-Java-Meterpreter-9-20748.txt  \n",
            "  inflating: Attack_Data_Master/Java_Meterpreter_9/UAD-Java-Meterpreter-9-2311.txt  \n",
            "  inflating: Attack_Data_Master/Java_Meterpreter_9/UAD-Java-Meterpreter-9-2462.txt  \n",
            "  inflating: Attack_Data_Master/Java_Meterpreter_9/UAD-Java-Meterpreter-9-2783.txt  \n",
            "  inflating: Attack_Data_Master/Java_Meterpreter_9/UAD-Java-Meterpreter-9-961.txt  \n",
            "   creating: Attack_Data_Master/Meterpreter_1/\n",
            "  inflating: Attack_Data_Master/Meterpreter_1/UAD-Meterpreter-1-1371.txt  \n",
            "  inflating: Attack_Data_Master/Meterpreter_1/UAD-Meterpreter-1-1613.txt  \n",
            "  inflating: Attack_Data_Master/Meterpreter_1/UAD-Meterpreter-1-16391.txt  \n",
            "  inflating: Attack_Data_Master/Meterpreter_1/UAD-Meterpreter-1-2293.txt  \n",
            "  inflating: Attack_Data_Master/Meterpreter_1/UAD-Meterpreter-1-2311.txt  \n",
            "  inflating: Attack_Data_Master/Meterpreter_1/UAD-Meterpreter-1-2462.txt  \n",
            "  inflating: Attack_Data_Master/Meterpreter_1/UAD-Meterpreter-1-2783.txt  \n",
            "   creating: Attack_Data_Master/Meterpreter_10/\n",
            "  inflating: Attack_Data_Master/Meterpreter_10/UAD-Meterpreter-10-1371.txt  \n",
            "  inflating: Attack_Data_Master/Meterpreter_10/UAD-Meterpreter-10-1533.txt  \n",
            "  inflating: Attack_Data_Master/Meterpreter_10/UAD-Meterpreter-10-1613.txt  \n",
            "  inflating: Attack_Data_Master/Meterpreter_10/UAD-Meterpreter-10-17465.txt  \n",
            "  inflating: Attack_Data_Master/Meterpreter_10/UAD-Meterpreter-10-2293.txt  \n",
            "  inflating: Attack_Data_Master/Meterpreter_10/UAD-Meterpreter-10-2311.txt  \n",
            "  inflating: Attack_Data_Master/Meterpreter_10/UAD-Meterpreter-10-2462.txt  \n",
            "  inflating: Attack_Data_Master/Meterpreter_10/UAD-Meterpreter-10-961.txt  \n",
            "   creating: Attack_Data_Master/Meterpreter_2/\n",
            "  inflating: Attack_Data_Master/Meterpreter_2/UAD-Meterpreter-2-1371.txt  \n",
            "  inflating: Attack_Data_Master/Meterpreter_2/UAD-Meterpreter-2-1533.txt  \n",
            "  inflating: Attack_Data_Master/Meterpreter_2/UAD-Meterpreter-2-1613.txt  \n",
            "  inflating: Attack_Data_Master/Meterpreter_2/UAD-Meterpreter-2-16493.txt  \n",
            "  inflating: Attack_Data_Master/Meterpreter_2/UAD-Meterpreter-2-16513.txt  \n",
            "  inflating: Attack_Data_Master/Meterpreter_2/UAD-Meterpreter-2-16592.txt  \n",
            "  inflating: Attack_Data_Master/Meterpreter_2/UAD-Meterpreter-2-2293.txt  \n",
            "  inflating: Attack_Data_Master/Meterpreter_2/UAD-Meterpreter-2-2311.txt  \n",
            "  inflating: Attack_Data_Master/Meterpreter_2/UAD-Meterpreter-2-2462.txt  \n",
            "  inflating: Attack_Data_Master/Meterpreter_2/UAD-Meterpreter-2-2783.txt  \n",
            "   creating: Attack_Data_Master/Meterpreter_3/\n",
            "  inflating: Attack_Data_Master/Meterpreter_3/UAD-Meterpreter-3-=16719.txt  \n",
            "  inflating: Attack_Data_Master/Meterpreter_3/UAD-Meterpreter-3-1371.txt  \n",
            "  inflating: Attack_Data_Master/Meterpreter_3/UAD-Meterpreter-3-1613.txt  \n",
            "  inflating: Attack_Data_Master/Meterpreter_3/UAD-Meterpreter-3-16644.txt  \n",
            "  inflating: Attack_Data_Master/Meterpreter_3/UAD-Meterpreter-3-2293.txt  \n",
            "  inflating: Attack_Data_Master/Meterpreter_3/UAD-Meterpreter-3-2301.txt  \n",
            "  inflating: Attack_Data_Master/Meterpreter_3/UAD-Meterpreter-3-2311.txt  \n",
            "  inflating: Attack_Data_Master/Meterpreter_3/UAD-Meterpreter-3-2462.txt  \n",
            "   creating: Attack_Data_Master/Meterpreter_4/\n",
            "  inflating: Attack_Data_Master/Meterpreter_4/UAD-Meterpreter-4-1371.txt  \n",
            "  inflating: Attack_Data_Master/Meterpreter_4/UAD-Meterpreter-4-1613.txt  \n",
            "  inflating: Attack_Data_Master/Meterpreter_4/UAD-Meterpreter-4-16801.txt  \n",
            "  inflating: Attack_Data_Master/Meterpreter_4/UAD-Meterpreter-4-2293.txt  \n",
            "  inflating: Attack_Data_Master/Meterpreter_4/UAD-Meterpreter-4-2311.txt  \n",
            "  inflating: Attack_Data_Master/Meterpreter_4/UAD-Meterpreter-4-2462.txt  \n",
            "   creating: Attack_Data_Master/Meterpreter_5/\n",
            "  inflating: Attack_Data_Master/Meterpreter_5/UAD-Meterpreter-5-1371.txt  \n",
            "  inflating: Attack_Data_Master/Meterpreter_5/UAD-Meterpreter-5-1613.txt  \n",
            "  inflating: Attack_Data_Master/Meterpreter_5/UAD-Meterpreter-5-16878.txt  \n",
            "  inflating: Attack_Data_Master/Meterpreter_5/UAD-Meterpreter-5-2311.txt  \n",
            "  inflating: Attack_Data_Master/Meterpreter_5/UAD-Meterpreter-5-2462.txt  \n",
            "   creating: Attack_Data_Master/Meterpreter_6/\n",
            "  inflating: Attack_Data_Master/Meterpreter_6/UAD-Meterpreter-6-1371.txt  \n",
            "  inflating: Attack_Data_Master/Meterpreter_6/UAD-Meterpreter-6-1533.txt  \n",
            "  inflating: Attack_Data_Master/Meterpreter_6/UAD-Meterpreter-6-1613.txt  \n",
            "  inflating: Attack_Data_Master/Meterpreter_6/UAD-Meterpreter-6-16991.txt  \n",
            "  inflating: Attack_Data_Master/Meterpreter_6/UAD-Meterpreter-6-17027.txt  \n",
            "  inflating: Attack_Data_Master/Meterpreter_6/UAD-Meterpreter-6-17041.txt  \n",
            "  inflating: Attack_Data_Master/Meterpreter_6/UAD-Meterpreter-6-17044.txt  \n",
            "  inflating: Attack_Data_Master/Meterpreter_6/UAD-Meterpreter-6-17082.txt  \n",
            "  inflating: Attack_Data_Master/Meterpreter_6/UAD-Meterpreter-6-2293.txt  \n",
            "  inflating: Attack_Data_Master/Meterpreter_6/UAD-Meterpreter-6-2311.txt  \n",
            "  inflating: Attack_Data_Master/Meterpreter_6/UAD-Meterpreter-6-2462.txt  \n",
            "  inflating: Attack_Data_Master/Meterpreter_6/UAD-Meterpreter-6-2783.txt  \n",
            "  inflating: Attack_Data_Master/Meterpreter_6/UAD-Meterpreter-6-961.txt  \n",
            "   creating: Attack_Data_Master/Meterpreter_7/\n",
            "  inflating: Attack_Data_Master/Meterpreter_7/UAD-Meterpreter-7-1371.txt  \n",
            "  inflating: Attack_Data_Master/Meterpreter_7/UAD-Meterpreter-7-1613.txt  \n",
            "  inflating: Attack_Data_Master/Meterpreter_7/UAD-Meterpreter-7-17144.txt  \n",
            "  inflating: Attack_Data_Master/Meterpreter_7/UAD-Meterpreter-7-2293.txt  \n",
            "  inflating: Attack_Data_Master/Meterpreter_7/UAD-Meterpreter-7-2311.txt  \n",
            "  inflating: Attack_Data_Master/Meterpreter_7/UAD-Meterpreter-7-2462.txt  \n",
            "   creating: Attack_Data_Master/Meterpreter_8/\n",
            "  inflating: Attack_Data_Master/Meterpreter_8/UAD-Meterpreter-8-1371.txt  \n",
            "  inflating: Attack_Data_Master/Meterpreter_8/UAD-Meterpreter-8-1613.txt  \n",
            "  inflating: Attack_Data_Master/Meterpreter_8/UAD-Meterpreter-8-17243.txt  \n",
            "  inflating: Attack_Data_Master/Meterpreter_8/UAD-Meterpreter-8-2293.txt  \n",
            "  inflating: Attack_Data_Master/Meterpreter_8/UAD-Meterpreter-8-2311.txt  \n",
            "  inflating: Attack_Data_Master/Meterpreter_8/UAD-Meterpreter-8-2462.txt  \n",
            "  inflating: Attack_Data_Master/Meterpreter_8/UAD-Meterpreter-8-2783.txt  \n",
            "   creating: Attack_Data_Master/Meterpreter_9/\n",
            "  inflating: Attack_Data_Master/Meterpreter_9/UAD-Meterpreter-9-1371.txt  \n",
            "  inflating: Attack_Data_Master/Meterpreter_9/UAD-Meterpreter-9-1613.txt  \n",
            "  inflating: Attack_Data_Master/Meterpreter_9/UAD-Meterpreter-9-17366.txt  \n",
            "  inflating: Attack_Data_Master/Meterpreter_9/UAD-Meterpreter-9-2311.txt  \n",
            "  inflating: Attack_Data_Master/Meterpreter_9/UAD-Meterpreter-9-2462.txt  \n",
            "   creating: Attack_Data_Master/Web_Shell_1/\n",
            "  inflating: Attack_Data_Master/Web_Shell_1/UAD-WS1-1371.txt  \n",
            "  inflating: Attack_Data_Master/Web_Shell_1/UAD-WS1-1613.txt  \n",
            "  inflating: Attack_Data_Master/Web_Shell_1/UAD-WS1-2311.txt  \n",
            "  inflating: Attack_Data_Master/Web_Shell_1/UAD-WS1-2462.txt  \n",
            "  inflating: Attack_Data_Master/Web_Shell_1/UAD-WS1-2783.txt  \n",
            "  inflating: Attack_Data_Master/Web_Shell_1/UAD-WS1-4555.txt  \n",
            "  inflating: Attack_Data_Master/Web_Shell_1/UAD-WS1-4557.txt  \n",
            "  inflating: Attack_Data_Master/Web_Shell_1/UAD-WS1-4563.txt  \n",
            "  inflating: Attack_Data_Master/Web_Shell_1/UAD-WS1-4564.txt  \n",
            "  inflating: Attack_Data_Master/Web_Shell_1/UAD-WS1-4566.txt  \n",
            "  inflating: Attack_Data_Master/Web_Shell_1/UAD-WS1-4568.txt  \n",
            "  inflating: Attack_Data_Master/Web_Shell_1/UAD-WS1-4569.txt  \n",
            "  inflating: Attack_Data_Master/Web_Shell_1/UAD-WS1-4605.txt  \n",
            "  inflating: Attack_Data_Master/Web_Shell_1/UAD-WS1-961.txt  \n",
            "   creating: Attack_Data_Master/Web_Shell_10/\n",
            "  inflating: Attack_Data_Master/Web_Shell_10/UAD-WS10-1083.txt  \n",
            "  inflating: Attack_Data_Master/Web_Shell_10/UAD-WS10-1086.txt  \n",
            "  inflating: Attack_Data_Master/Web_Shell_10/UAD-WS10-1371.txt  \n",
            "  inflating: Attack_Data_Master/Web_Shell_10/UAD-WS10-1613.txt  \n",
            "  inflating: Attack_Data_Master/Web_Shell_10/UAD-WS10-2301.txt  \n",
            "  inflating: Attack_Data_Master/Web_Shell_10/UAD-WS10-2311.txt  \n",
            "  inflating: Attack_Data_Master/Web_Shell_10/UAD-WS10-2424.txt  \n",
            "  inflating: Attack_Data_Master/Web_Shell_10/UAD-WS10-2487.txt  \n",
            "  inflating: Attack_Data_Master/Web_Shell_10/UAD-WS10-2783.txt  \n",
            "  inflating: Attack_Data_Master/Web_Shell_10/UAD-WS10-3754.txt  \n",
            "  inflating: Attack_Data_Master/Web_Shell_10/UAD-WS10-3766.txt  \n",
            "  inflating: Attack_Data_Master/Web_Shell_10/UAD-WS10-4548.txt  \n",
            "  inflating: Attack_Data_Master/Web_Shell_10/UAD-WS10-4953.txt  \n",
            "  inflating: Attack_Data_Master/Web_Shell_10/UAD-WS10-5314.txt  \n",
            "  inflating: Attack_Data_Master/Web_Shell_10/UAD-WS10-5657.txt  \n",
            "  inflating: Attack_Data_Master/Web_Shell_10/UAD-WS10-961.txt  \n",
            "   creating: Attack_Data_Master/Web_Shell_2/\n",
            "  inflating: Attack_Data_Master/Web_Shell_2/UAD-WS2-1371.txt  \n",
            "  inflating: Attack_Data_Master/Web_Shell_2/UAD-WS2-1613.txt  \n",
            "  inflating: Attack_Data_Master/Web_Shell_2/UAD-WS2-2311.txt  \n",
            "  inflating: Attack_Data_Master/Web_Shell_2/UAD-WS2-2462.txt  \n",
            "  inflating: Attack_Data_Master/Web_Shell_2/UAD-WS2-2783.txt  \n",
            "  inflating: Attack_Data_Master/Web_Shell_2/UAD-WS2-4568.txt  \n",
            "  inflating: Attack_Data_Master/Web_Shell_2/UAD-WS2-4569.txt  \n",
            "  inflating: Attack_Data_Master/Web_Shell_2/UAD-WS2-4605.txt  \n",
            "  inflating: Attack_Data_Master/Web_Shell_2/UAD-WS2-4609.txt  \n",
            "  inflating: Attack_Data_Master/Web_Shell_2/UAD-WS2-4620.txt  \n",
            "  inflating: Attack_Data_Master/Web_Shell_2/UAD-WS2-4731.txt  \n",
            "  inflating: Attack_Data_Master/Web_Shell_2/UAD-WS2-4767.txt  \n",
            "  inflating: Attack_Data_Master/Web_Shell_2/UAD-WS2-961.txt  \n",
            "   creating: Attack_Data_Master/Web_Shell_3/\n",
            "  inflating: Attack_Data_Master/Web_Shell_3/UAD-WS3-1371.txt  \n",
            "  inflating: Attack_Data_Master/Web_Shell_3/UAD-WS3-1613.txt  \n",
            "  inflating: Attack_Data_Master/Web_Shell_3/UAD-WS3-2311.txt  \n",
            "  inflating: Attack_Data_Master/Web_Shell_3/UAD-WS3-2462.txt  \n",
            "  inflating: Attack_Data_Master/Web_Shell_3/UAD-WS3-2783.txt  \n",
            "  inflating: Attack_Data_Master/Web_Shell_3/UAD-WS3-4810.txt  \n",
            "  inflating: Attack_Data_Master/Web_Shell_3/UAD-WS3-961.txt  \n",
            "   creating: Attack_Data_Master/Web_Shell_4/\n",
            "  inflating: Attack_Data_Master/Web_Shell_4/UAD-WS4-1371.txt  \n",
            "  inflating: Attack_Data_Master/Web_Shell_4/UAD-WS4-1613.txt  \n",
            "  inflating: Attack_Data_Master/Web_Shell_4/UAD-WS4-2311.txt  \n",
            "  inflating: Attack_Data_Master/Web_Shell_4/UAD-WS4-2462.txt  \n",
            "  inflating: Attack_Data_Master/Web_Shell_4/UAD-WS4-2783.txt  \n",
            "  inflating: Attack_Data_Master/Web_Shell_4/UAD-WS4-4609.txt  \n",
            "  inflating: Attack_Data_Master/Web_Shell_4/UAD-WS4-4753.txt  \n",
            "  inflating: Attack_Data_Master/Web_Shell_4/UAD-WS4-4872.txt  \n",
            "  inflating: Attack_Data_Master/Web_Shell_4/UAD-WS4-4883.txt  \n",
            "  inflating: Attack_Data_Master/Web_Shell_4/UAD-WS4-961.txt  \n",
            "   creating: Attack_Data_Master/Web_Shell_5/\n",
            "  inflating: Attack_Data_Master/Web_Shell_5/UAD-WS5-1371.txt  \n",
            "  inflating: Attack_Data_Master/Web_Shell_5/UAD-WS5-1613.txt  \n",
            "  inflating: Attack_Data_Master/Web_Shell_5/UAD-WS5-2311.txt  \n",
            "  inflating: Attack_Data_Master/Web_Shell_5/UAD-WS5-2377.txt  \n",
            "  inflating: Attack_Data_Master/Web_Shell_5/UAD-WS5-2462.txt  \n",
            "  inflating: Attack_Data_Master/Web_Shell_5/UAD-WS5-2783.txt  \n",
            "  inflating: Attack_Data_Master/Web_Shell_5/UAD-WS5-5029.txt  \n",
            "  inflating: Attack_Data_Master/Web_Shell_5/UAD-WS5-5047.txt  \n",
            "  inflating: Attack_Data_Master/Web_Shell_5/UAD-WS5-961.txt  \n",
            "   creating: Attack_Data_Master/Web_Shell_6/\n",
            "  inflating: Attack_Data_Master/Web_Shell_6/UAD-WS6-1371.txt  \n",
            "  inflating: Attack_Data_Master/Web_Shell_6/UAD-WS6-1613.txt  \n",
            "  inflating: Attack_Data_Master/Web_Shell_6/UAD-WS6-2311.txt  \n",
            "  inflating: Attack_Data_Master/Web_Shell_6/UAD-WS6-2462.txt  \n",
            "  inflating: Attack_Data_Master/Web_Shell_6/UAD-WS6-2783.txt  \n",
            "  inflating: Attack_Data_Master/Web_Shell_6/UAD-WS6-4750.txt  \n",
            "  inflating: Attack_Data_Master/Web_Shell_6/UAD-WS6-4953.txt  \n",
            "  inflating: Attack_Data_Master/Web_Shell_6/UAD-WS6-5153.txt  \n",
            "  inflating: Attack_Data_Master/Web_Shell_6/UAD-WS6-5164.txt  \n",
            "  inflating: Attack_Data_Master/Web_Shell_6/UAD-WS6-5189.txt  \n",
            "  inflating: Attack_Data_Master/Web_Shell_6/UAD-WS6-961.txt  \n",
            "   creating: Attack_Data_Master/Web_Shell_7/\n",
            "  inflating: Attack_Data_Master/Web_Shell_7/UAD-WS7-1371.txt  \n",
            "  inflating: Attack_Data_Master/Web_Shell_7/UAD-WS7-1613.txt  \n",
            "  inflating: Attack_Data_Master/Web_Shell_7/UAD-WS7-2311.txt  \n",
            "  inflating: Attack_Data_Master/Web_Shell_7/UAD-WS7-2462.txt  \n",
            "  inflating: Attack_Data_Master/Web_Shell_7/UAD-WS7-2783.txt  \n",
            "  inflating: Attack_Data_Master/Web_Shell_7/UAD-WS7-3754.txt  \n",
            "  inflating: Attack_Data_Master/Web_Shell_7/UAD-WS7-4548.txt  \n",
            "  inflating: Attack_Data_Master/Web_Shell_7/UAD-WS7-4568.txt  \n",
            "  inflating: Attack_Data_Master/Web_Shell_7/UAD-WS7-4751.txt  \n",
            "  inflating: Attack_Data_Master/Web_Shell_7/UAD-WS7-5251.txt  \n",
            "  inflating: Attack_Data_Master/Web_Shell_7/UAD-WS7-5262.txt  \n",
            "  inflating: Attack_Data_Master/Web_Shell_7/UAD-WS7-5314.txt  \n",
            "  inflating: Attack_Data_Master/Web_Shell_7/UAD-WS7-5317.txt  \n",
            "  inflating: Attack_Data_Master/Web_Shell_7/UAD-WS7-961.txt  \n",
            "   creating: Attack_Data_Master/Web_Shell_8/\n",
            "  inflating: Attack_Data_Master/Web_Shell_8/UAD-WS8-1086.txt  \n",
            "  inflating: Attack_Data_Master/Web_Shell_8/UAD-WS8-1371.txt  \n",
            "  inflating: Attack_Data_Master/Web_Shell_8/UAD-WS8-1613.txt  \n",
            "  inflating: Attack_Data_Master/Web_Shell_8/UAD-WS8-2311.txt  \n",
            "  inflating: Attack_Data_Master/Web_Shell_8/UAD-WS8-2424.txt  \n",
            "  inflating: Attack_Data_Master/Web_Shell_8/UAD-WS8-2462.txt  \n",
            "  inflating: Attack_Data_Master/Web_Shell_8/UAD-WS8-2487.txt  \n",
            "  inflating: Attack_Data_Master/Web_Shell_8/UAD-WS8-2783.txt  \n",
            "  inflating: Attack_Data_Master/Web_Shell_8/UAD-WS8-3754.txt  \n",
            "  inflating: Attack_Data_Master/Web_Shell_8/UAD-WS8-4548.txt  \n",
            "  inflating: Attack_Data_Master/Web_Shell_8/UAD-WS8-5426.txt  \n",
            "  inflating: Attack_Data_Master/Web_Shell_8/UAD-WS8-5437.txt  \n",
            "  inflating: Attack_Data_Master/Web_Shell_8/UAD-WS8-961.txt  \n",
            "   creating: Attack_Data_Master/Web_Shell_9/\n",
            "  inflating: Attack_Data_Master/Web_Shell_9/UAD-WS9-1371.txt  \n",
            "  inflating: Attack_Data_Master/Web_Shell_9/UAD-WS9-1613.txt  \n",
            "  inflating: Attack_Data_Master/Web_Shell_9/UAD-WS9-2311.txt  \n",
            "  inflating: Attack_Data_Master/Web_Shell_9/UAD-WS9-2462.txt  \n",
            "  inflating: Attack_Data_Master/Web_Shell_9/UAD-WS9-2783.txt  \n",
            "  inflating: Attack_Data_Master/Web_Shell_9/UAD-WS9-4569.txt  \n",
            "  inflating: Attack_Data_Master/Web_Shell_9/UAD-WS9-4955.txt  \n",
            "  inflating: Attack_Data_Master/Web_Shell_9/UAD-WS9-5314.txt  \n",
            "  inflating: Attack_Data_Master/Web_Shell_9/UAD-WS9-5318.txt  \n",
            "  inflating: Attack_Data_Master/Web_Shell_9/UAD-WS9-5539.txt  \n",
            "  inflating: Attack_Data_Master/Web_Shell_9/UAD-WS9-961.txt  \n"
          ]
        }
      ]
    },
    {
      "cell_type": "code",
      "metadata": {
        "id": "zFlf8Bb8qquc"
      },
      "source": [
        "from glob import glob\n",
        "import os\n",
        "train_dir = 'Training_Data_Master/'\n",
        "test_dir  = 'Attack_Data_Master/'\n",
        "\n",
        "# Read data in a dataframe\n",
        "def read_in_data(path, is_normal = 1): \n",
        "  list_of_dataframes = []\n",
        "  if is_normal == 1:\n",
        "    for filename in os.listdir(path): # iterate through all label folders in a directory [buildings, forest, glacier, mountain, sea, street]\n",
        "        data = pd.read_csv(path+filename, sep=' ', header=None)\n",
        "        list_of_dataframes.append(data.stack())\n",
        "    \n",
        "  else:\n",
        "    for folder in os.listdir(path): # iterate through all label folders in a directory [buildings, forest, glacier, mountain, sea, street]\n",
        "      files = glob(str(path + folder +\"/*.txt\"), recursive=False) # get a list of jpg files from each label folder \n",
        "      for filename in files: \n",
        "        data = pd.read_csv(filename, sep=' ', header=None)\n",
        "        list_of_dataframes.append(data.stack())\n",
        "\n",
        "  df = pd.concat(list_of_dataframes)\n",
        "  df = df.astype('int32')\n",
        "  df = pd.DataFrame(df)\n",
        "  return df   "
      ],
      "execution_count": 4,
      "outputs": []
    },
    {
      "cell_type": "code",
      "metadata": {
        "colab": {
          "base_uri": "https://localhost:8080/",
          "height": 221
        },
        "id": "MMCrttJsQQnJ",
        "outputId": "97c58979-88a1-46a9-c1d9-df91be849156"
      },
      "source": [
        "# Trainning set\n",
        "train = read_in_data(train_dir)\n",
        "train.rename(columns={0:'Syscall'}, inplace=True)\n",
        "train = train.droplevel(level=0, axis = 0)\n",
        "print('Normal training data size:', train.shape)\n",
        "train.head(5)"
      ],
      "execution_count": 5,
      "outputs": [
        {
          "output_type": "stream",
          "name": "stdout",
          "text": [
            "Normal training data size: (308077, 1)\n"
          ]
        },
        {
          "output_type": "execute_result",
          "data": {
            "text/html": [
              "<div>\n",
              "<style scoped>\n",
              "    .dataframe tbody tr th:only-of-type {\n",
              "        vertical-align: middle;\n",
              "    }\n",
              "\n",
              "    .dataframe tbody tr th {\n",
              "        vertical-align: top;\n",
              "    }\n",
              "\n",
              "    .dataframe thead th {\n",
              "        text-align: right;\n",
              "    }\n",
              "</style>\n",
              "<table border=\"1\" class=\"dataframe\">\n",
              "  <thead>\n",
              "    <tr style=\"text-align: right;\">\n",
              "      <th></th>\n",
              "      <th>Syscall</th>\n",
              "    </tr>\n",
              "  </thead>\n",
              "  <tbody>\n",
              "    <tr>\n",
              "      <th>0</th>\n",
              "      <td>63</td>\n",
              "    </tr>\n",
              "    <tr>\n",
              "      <th>1</th>\n",
              "      <td>195</td>\n",
              "    </tr>\n",
              "    <tr>\n",
              "      <th>2</th>\n",
              "      <td>5</td>\n",
              "    </tr>\n",
              "    <tr>\n",
              "      <th>3</th>\n",
              "      <td>197</td>\n",
              "    </tr>\n",
              "    <tr>\n",
              "      <th>4</th>\n",
              "      <td>3</td>\n",
              "    </tr>\n",
              "  </tbody>\n",
              "</table>\n",
              "</div>"
            ],
            "text/plain": [
              "   Syscall\n",
              "0       63\n",
              "1      195\n",
              "2        5\n",
              "3      197\n",
              "4        3"
            ]
          },
          "metadata": {},
          "execution_count": 5
        }
      ]
    },
    {
      "cell_type": "code",
      "metadata": {
        "colab": {
          "base_uri": "https://localhost:8080/",
          "height": 221
        },
        "id": "m8TEn4b-N6Cx",
        "outputId": "b636fba1-70cd-47b2-89ed-774516bc1dfb"
      },
      "source": [
        "# Testing set\n",
        "test = read_in_data(test_dir, is_normal = 0)\n",
        "test.rename(columns={0:'Syscall'}, inplace=True)\n",
        "test = test.droplevel(level=0, axis = 0)\n",
        "print('Intrusion Testing data size:', test.shape)\n",
        "test.head(5)"
      ],
      "execution_count": 6,
      "outputs": [
        {
          "output_type": "stream",
          "name": "stdout",
          "text": [
            "Intrusion Testing data size: (317388, 1)\n"
          ]
        },
        {
          "output_type": "execute_result",
          "data": {
            "text/html": [
              "<div>\n",
              "<style scoped>\n",
              "    .dataframe tbody tr th:only-of-type {\n",
              "        vertical-align: middle;\n",
              "    }\n",
              "\n",
              "    .dataframe tbody tr th {\n",
              "        vertical-align: top;\n",
              "    }\n",
              "\n",
              "    .dataframe thead th {\n",
              "        text-align: right;\n",
              "    }\n",
              "</style>\n",
              "<table border=\"1\" class=\"dataframe\">\n",
              "  <thead>\n",
              "    <tr style=\"text-align: right;\">\n",
              "      <th></th>\n",
              "      <th>Syscall</th>\n",
              "    </tr>\n",
              "  </thead>\n",
              "  <tbody>\n",
              "    <tr>\n",
              "      <th>0</th>\n",
              "      <td>3</td>\n",
              "    </tr>\n",
              "    <tr>\n",
              "      <th>1</th>\n",
              "      <td>104</td>\n",
              "    </tr>\n",
              "    <tr>\n",
              "      <th>2</th>\n",
              "      <td>142</td>\n",
              "    </tr>\n",
              "    <tr>\n",
              "      <th>3</th>\n",
              "      <td>142</td>\n",
              "    </tr>\n",
              "    <tr>\n",
              "      <th>4</th>\n",
              "      <td>3</td>\n",
              "    </tr>\n",
              "  </tbody>\n",
              "</table>\n",
              "</div>"
            ],
            "text/plain": [
              "   Syscall\n",
              "0        3\n",
              "1      104\n",
              "2      142\n",
              "3      142\n",
              "4        3"
            ]
          },
          "metadata": {},
          "execution_count": 6
        }
      ]
    },
    {
      "cell_type": "markdown",
      "metadata": {
        "id": "RE-KOfLEESHE"
      },
      "source": [
        "## **EDA - Histogram of original data**\n",
        "\n"
      ]
    },
    {
      "cell_type": "code",
      "metadata": {
        "colab": {
          "base_uri": "https://localhost:8080/",
          "height": 430
        },
        "id": "z-ze-8EJlT1V",
        "outputId": "e5ed9c52-8414-4941-b5c1-9d22894d15ed"
      },
      "source": [
        "plt.figure(figsize=(20,6))\n",
        "plt.hist(train['Syscall'], label='Normal', alpha=0.6, density=True)\n",
        "plt.hist(test['Syscall'], label='Intrusion', color='tomato', alpha=0.6, density=True)\n",
        "plt.legend()\n",
        "plt.ylabel('Proportions')\n",
        "plt.xlabel('Syscall num')\n",
        "plt.grid(axis='y', alpha=0.75)\n",
        "plt.title('An Overlaid Histogram of Syscall Proportions in Normal and Intrusion Data from ' + DATA,y=1.02, fontsize=15)"
      ],
      "execution_count": 7,
      "outputs": [
        {
          "output_type": "execute_result",
          "data": {
            "text/plain": [
              "Text(0.5, 1.02, 'An Overlaid Histogram of Syscall Proportions in Normal and Intrusion Data from ADFA-LD')"
            ]
          },
          "metadata": {},
          "execution_count": 7
        },
        {
          "output_type": "display_data",
          "data": {
            "image/png": "[encoded data removed]",
            "text/plain": [
              "<Figure size 1440x432 with 1 Axes>"
            ]
          },
          "metadata": {
            "needs_background": "light"
          }
        }
      ]
    },
    {
      "cell_type": "code",
      "metadata": {
        "id": "RUuNTl8PaMoY"
      },
      "source": [
        "## Tokenizing syscall sequences into n-grams of 6\n",
        "\n",
        "from nltk.tokenize import word_tokenize\n",
        "from nltk import ngrams\n",
        "\n",
        "def process_data(df):\n",
        "  ## Convert elements in Syscall col into string of NORMAL sequence\n",
        "  syscall_names = df.to_string(columns = ['Syscall'], index=False, header = False)\n",
        "\n",
        "  token = word_tokenize(syscall_names)  # Tokenize the string of sequence\n",
        "\n",
        "  # Parse the sequence into length of 6\n",
        "  sequence_list = list(nltk.ngrams(token,6))\n",
        "\n",
        "  df_sequence = pd.DataFrame(sequence_list)\n",
        "  df = df_sequence.astype('int32')\n",
        "  return df"
      ],
      "execution_count": 8,
      "outputs": []
    },
    {
      "cell_type": "code",
      "metadata": {
        "colab": {
          "base_uri": "https://localhost:8080/",
          "height": 221
        },
        "id": "sV8ZinEFb0aS",
        "outputId": "c0e9d031-24eb-40b6-a6c8-51d4dcc838c1"
      },
      "source": [
        "train = process_data(train)\n",
        "print(train.shape)\n",
        "train.head(5)"
      ],
      "execution_count": 9,
      "outputs": [
        {
          "output_type": "stream",
          "name": "stdout",
          "text": [
            "(308072, 6)\n"
          ]
        },
        {
          "output_type": "execute_result",
          "data": {
            "text/html": [
              "<div>\n",
              "<style scoped>\n",
              "    .dataframe tbody tr th:only-of-type {\n",
              "        vertical-align: middle;\n",
              "    }\n",
              "\n",
              "    .dataframe tbody tr th {\n",
              "        vertical-align: top;\n",
              "    }\n",
              "\n",
              "    .dataframe thead th {\n",
              "        text-align: right;\n",
              "    }\n",
              "</style>\n",
              "<table border=\"1\" class=\"dataframe\">\n",
              "  <thead>\n",
              "    <tr style=\"text-align: right;\">\n",
              "      <th></th>\n",
              "      <th>0</th>\n",
              "      <th>1</th>\n",
              "      <th>2</th>\n",
              "      <th>3</th>\n",
              "      <th>4</th>\n",
              "      <th>5</th>\n",
              "    </tr>\n",
              "  </thead>\n",
              "  <tbody>\n",
              "    <tr>\n",
              "      <th>0</th>\n",
              "      <td>63</td>\n",
              "      <td>195</td>\n",
              "      <td>5</td>\n",
              "      <td>197</td>\n",
              "      <td>3</td>\n",
              "      <td>3</td>\n",
              "    </tr>\n",
              "    <tr>\n",
              "      <th>1</th>\n",
              "      <td>195</td>\n",
              "      <td>5</td>\n",
              "      <td>197</td>\n",
              "      <td>3</td>\n",
              "      <td>3</td>\n",
              "      <td>3</td>\n",
              "    </tr>\n",
              "    <tr>\n",
              "      <th>2</th>\n",
              "      <td>5</td>\n",
              "      <td>197</td>\n",
              "      <td>3</td>\n",
              "      <td>3</td>\n",
              "      <td>3</td>\n",
              "      <td>6</td>\n",
              "    </tr>\n",
              "    <tr>\n",
              "      <th>3</th>\n",
              "      <td>197</td>\n",
              "      <td>3</td>\n",
              "      <td>3</td>\n",
              "      <td>3</td>\n",
              "      <td>6</td>\n",
              "      <td>91</td>\n",
              "    </tr>\n",
              "    <tr>\n",
              "      <th>4</th>\n",
              "      <td>3</td>\n",
              "      <td>3</td>\n",
              "      <td>3</td>\n",
              "      <td>6</td>\n",
              "      <td>91</td>\n",
              "      <td>195</td>\n",
              "    </tr>\n",
              "  </tbody>\n",
              "</table>\n",
              "</div>"
            ],
            "text/plain": [
              "     0    1    2    3   4    5\n",
              "0   63  195    5  197   3    3\n",
              "1  195    5  197    3   3    3\n",
              "2    5  197    3    3   3    6\n",
              "3  197    3    3    3   6   91\n",
              "4    3    3    3    6  91  195"
            ]
          },
          "metadata": {},
          "execution_count": 9
        }
      ]
    },
    {
      "cell_type": "code",
      "metadata": {
        "colab": {
          "base_uri": "https://localhost:8080/",
          "height": 221
        },
        "id": "RkS0UxQVQ3bP",
        "outputId": "fea8f4b0-5371-4324-ff48-e606247a457c"
      },
      "source": [
        "test = process_data(test)\n",
        "print(test.shape)\n",
        "test.head(5)"
      ],
      "execution_count": 10,
      "outputs": [
        {
          "output_type": "stream",
          "name": "stdout",
          "text": [
            "(317383, 6)\n"
          ]
        },
        {
          "output_type": "execute_result",
          "data": {
            "text/html": [
              "<div>\n",
              "<style scoped>\n",
              "    .dataframe tbody tr th:only-of-type {\n",
              "        vertical-align: middle;\n",
              "    }\n",
              "\n",
              "    .dataframe tbody tr th {\n",
              "        vertical-align: top;\n",
              "    }\n",
              "\n",
              "    .dataframe thead th {\n",
              "        text-align: right;\n",
              "    }\n",
              "</style>\n",
              "<table border=\"1\" class=\"dataframe\">\n",
              "  <thead>\n",
              "    <tr style=\"text-align: right;\">\n",
              "      <th></th>\n",
              "      <th>0</th>\n",
              "      <th>1</th>\n",
              "      <th>2</th>\n",
              "      <th>3</th>\n",
              "      <th>4</th>\n",
              "      <th>5</th>\n",
              "    </tr>\n",
              "  </thead>\n",
              "  <tbody>\n",
              "    <tr>\n",
              "      <th>0</th>\n",
              "      <td>3</td>\n",
              "      <td>104</td>\n",
              "      <td>142</td>\n",
              "      <td>142</td>\n",
              "      <td>3</td>\n",
              "      <td>142</td>\n",
              "    </tr>\n",
              "    <tr>\n",
              "      <th>1</th>\n",
              "      <td>104</td>\n",
              "      <td>142</td>\n",
              "      <td>142</td>\n",
              "      <td>3</td>\n",
              "      <td>142</td>\n",
              "      <td>265</td>\n",
              "    </tr>\n",
              "    <tr>\n",
              "      <th>2</th>\n",
              "      <td>142</td>\n",
              "      <td>142</td>\n",
              "      <td>3</td>\n",
              "      <td>142</td>\n",
              "      <td>265</td>\n",
              "      <td>265</td>\n",
              "    </tr>\n",
              "    <tr>\n",
              "      <th>3</th>\n",
              "      <td>142</td>\n",
              "      <td>3</td>\n",
              "      <td>142</td>\n",
              "      <td>265</td>\n",
              "      <td>265</td>\n",
              "      <td>3</td>\n",
              "    </tr>\n",
              "    <tr>\n",
              "      <th>4</th>\n",
              "      <td>3</td>\n",
              "      <td>142</td>\n",
              "      <td>265</td>\n",
              "      <td>265</td>\n",
              "      <td>3</td>\n",
              "      <td>142</td>\n",
              "    </tr>\n",
              "  </tbody>\n",
              "</table>\n",
              "</div>"
            ],
            "text/plain": [
              "     0    1    2    3    4    5\n",
              "0    3  104  142  142    3  142\n",
              "1  104  142  142    3  142  265\n",
              "2  142  142    3  142  265  265\n",
              "3  142    3  142  265  265    3\n",
              "4    3  142  265  265    3  142"
            ]
          },
          "metadata": {},
          "execution_count": 10
        }
      ]
    },
    {
      "cell_type": "markdown",
      "metadata": {
        "id": "376udEA5GdPB"
      },
      "source": [
        " ## **Data Cleaning**\n",
        " Remove rows that exist in both normal and intrusion df"
      ]
    },
    {
      "cell_type": "code",
      "metadata": {
        "colab": {
          "base_uri": "https://localhost:8080/",
          "height": 419
        },
        "id": "c-0OzczSLVYc",
        "outputId": "642f1d4a-2e63-42dc-ca08-48f8cbb7389f"
      },
      "source": [
        "train"
      ],
      "execution_count": 11,
      "outputs": [
        {
          "output_type": "execute_result",
          "data": {
            "text/html": [
              "<div>\n",
              "<style scoped>\n",
              "    .dataframe tbody tr th:only-of-type {\n",
              "        vertical-align: middle;\n",
              "    }\n",
              "\n",
              "    .dataframe tbody tr th {\n",
              "        vertical-align: top;\n",
              "    }\n",
              "\n",
              "    .dataframe thead th {\n",
              "        text-align: right;\n",
              "    }\n",
              "</style>\n",
              "<table border=\"1\" class=\"dataframe\">\n",
              "  <thead>\n",
              "    <tr style=\"text-align: right;\">\n",
              "      <th></th>\n",
              "      <th>0</th>\n",
              "      <th>1</th>\n",
              "      <th>2</th>\n",
              "      <th>3</th>\n",
              "      <th>4</th>\n",
              "      <th>5</th>\n",
              "    </tr>\n",
              "  </thead>\n",
              "  <tbody>\n",
              "    <tr>\n",
              "      <th>0</th>\n",
              "      <td>63</td>\n",
              "      <td>195</td>\n",
              "      <td>5</td>\n",
              "      <td>197</td>\n",
              "      <td>3</td>\n",
              "      <td>3</td>\n",
              "    </tr>\n",
              "    <tr>\n",
              "      <th>1</th>\n",
              "      <td>195</td>\n",
              "      <td>5</td>\n",
              "      <td>197</td>\n",
              "      <td>3</td>\n",
              "      <td>3</td>\n",
              "      <td>3</td>\n",
              "    </tr>\n",
              "    <tr>\n",
              "      <th>2</th>\n",
              "      <td>5</td>\n",
              "      <td>197</td>\n",
              "      <td>3</td>\n",
              "      <td>3</td>\n",
              "      <td>3</td>\n",
              "      <td>6</td>\n",
              "    </tr>\n",
              "    <tr>\n",
              "      <th>3</th>\n",
              "      <td>197</td>\n",
              "      <td>3</td>\n",
              "      <td>3</td>\n",
              "      <td>3</td>\n",
              "      <td>6</td>\n",
              "      <td>91</td>\n",
              "    </tr>\n",
              "    <tr>\n",
              "      <th>4</th>\n",
              "      <td>3</td>\n",
              "      <td>3</td>\n",
              "      <td>3</td>\n",
              "      <td>6</td>\n",
              "      <td>91</td>\n",
              "      <td>195</td>\n",
              "    </tr>\n",
              "    <tr>\n",
              "      <th>...</th>\n",
              "      <td>...</td>\n",
              "      <td>...</td>\n",
              "      <td>...</td>\n",
              "      <td>...</td>\n",
              "      <td>...</td>\n",
              "      <td>...</td>\n",
              "    </tr>\n",
              "    <tr>\n",
              "      <th>308067</th>\n",
              "      <td>196</td>\n",
              "      <td>196</td>\n",
              "      <td>196</td>\n",
              "      <td>196</td>\n",
              "      <td>196</td>\n",
              "      <td>240</td>\n",
              "    </tr>\n",
              "    <tr>\n",
              "      <th>308068</th>\n",
              "      <td>196</td>\n",
              "      <td>196</td>\n",
              "      <td>196</td>\n",
              "      <td>196</td>\n",
              "      <td>240</td>\n",
              "      <td>240</td>\n",
              "    </tr>\n",
              "    <tr>\n",
              "      <th>308069</th>\n",
              "      <td>196</td>\n",
              "      <td>196</td>\n",
              "      <td>196</td>\n",
              "      <td>240</td>\n",
              "      <td>240</td>\n",
              "      <td>78</td>\n",
              "    </tr>\n",
              "    <tr>\n",
              "      <th>308070</th>\n",
              "      <td>196</td>\n",
              "      <td>196</td>\n",
              "      <td>240</td>\n",
              "      <td>240</td>\n",
              "      <td>78</td>\n",
              "      <td>219</td>\n",
              "    </tr>\n",
              "    <tr>\n",
              "      <th>308071</th>\n",
              "      <td>196</td>\n",
              "      <td>240</td>\n",
              "      <td>240</td>\n",
              "      <td>78</td>\n",
              "      <td>219</td>\n",
              "      <td>91</td>\n",
              "    </tr>\n",
              "  </tbody>\n",
              "</table>\n",
              "<p>308072 rows × 6 columns</p>\n",
              "</div>"
            ],
            "text/plain": [
              "          0    1    2    3    4    5\n",
              "0        63  195    5  197    3    3\n",
              "1       195    5  197    3    3    3\n",
              "2         5  197    3    3    3    6\n",
              "3       197    3    3    3    6   91\n",
              "4         3    3    3    6   91  195\n",
              "...     ...  ...  ...  ...  ...  ...\n",
              "308067  196  196  196  196  196  240\n",
              "308068  196  196  196  196  240  240\n",
              "308069  196  196  196  240  240   78\n",
              "308070  196  196  240  240   78  219\n",
              "308071  196  240  240   78  219   91\n",
              "\n",
              "[308072 rows x 6 columns]"
            ]
          },
          "metadata": {},
          "execution_count": 11
        }
      ]
    },
    {
      "cell_type": "code",
      "metadata": {
        "colab": {
          "base_uri": "https://localhost:8080/",
          "height": 419
        },
        "id": "v1KkLa7wLelU",
        "outputId": "e2c163bb-0aad-445b-86c2-7cf7063966da"
      },
      "source": [
        "test"
      ],
      "execution_count": 12,
      "outputs": [
        {
          "output_type": "execute_result",
          "data": {
            "text/html": [
              "<div>\n",
              "<style scoped>\n",
              "    .dataframe tbody tr th:only-of-type {\n",
              "        vertical-align: middle;\n",
              "    }\n",
              "\n",
              "    .dataframe tbody tr th {\n",
              "        vertical-align: top;\n",
              "    }\n",
              "\n",
              "    .dataframe thead th {\n",
              "        text-align: right;\n",
              "    }\n",
              "</style>\n",
              "<table border=\"1\" class=\"dataframe\">\n",
              "  <thead>\n",
              "    <tr style=\"text-align: right;\">\n",
              "      <th></th>\n",
              "      <th>0</th>\n",
              "      <th>1</th>\n",
              "      <th>2</th>\n",
              "      <th>3</th>\n",
              "      <th>4</th>\n",
              "      <th>5</th>\n",
              "    </tr>\n",
              "  </thead>\n",
              "  <tbody>\n",
              "    <tr>\n",
              "      <th>0</th>\n",
              "      <td>3</td>\n",
              "      <td>104</td>\n",
              "      <td>142</td>\n",
              "      <td>142</td>\n",
              "      <td>3</td>\n",
              "      <td>142</td>\n",
              "    </tr>\n",
              "    <tr>\n",
              "      <th>1</th>\n",
              "      <td>104</td>\n",
              "      <td>142</td>\n",
              "      <td>142</td>\n",
              "      <td>3</td>\n",
              "      <td>142</td>\n",
              "      <td>265</td>\n",
              "    </tr>\n",
              "    <tr>\n",
              "      <th>2</th>\n",
              "      <td>142</td>\n",
              "      <td>142</td>\n",
              "      <td>3</td>\n",
              "      <td>142</td>\n",
              "      <td>265</td>\n",
              "      <td>265</td>\n",
              "    </tr>\n",
              "    <tr>\n",
              "      <th>3</th>\n",
              "      <td>142</td>\n",
              "      <td>3</td>\n",
              "      <td>142</td>\n",
              "      <td>265</td>\n",
              "      <td>265</td>\n",
              "      <td>3</td>\n",
              "    </tr>\n",
              "    <tr>\n",
              "      <th>4</th>\n",
              "      <td>3</td>\n",
              "      <td>142</td>\n",
              "      <td>265</td>\n",
              "      <td>265</td>\n",
              "      <td>3</td>\n",
              "      <td>142</td>\n",
              "    </tr>\n",
              "    <tr>\n",
              "      <th>...</th>\n",
              "      <td>...</td>\n",
              "      <td>...</td>\n",
              "      <td>...</td>\n",
              "      <td>...</td>\n",
              "      <td>...</td>\n",
              "      <td>...</td>\n",
              "    </tr>\n",
              "    <tr>\n",
              "      <th>317378</th>\n",
              "      <td>265</td>\n",
              "      <td>168</td>\n",
              "      <td>265</td>\n",
              "      <td>168</td>\n",
              "      <td>265</td>\n",
              "      <td>265</td>\n",
              "    </tr>\n",
              "    <tr>\n",
              "      <th>317379</th>\n",
              "      <td>168</td>\n",
              "      <td>265</td>\n",
              "      <td>168</td>\n",
              "      <td>265</td>\n",
              "      <td>265</td>\n",
              "      <td>168</td>\n",
              "    </tr>\n",
              "    <tr>\n",
              "      <th>317380</th>\n",
              "      <td>265</td>\n",
              "      <td>168</td>\n",
              "      <td>265</td>\n",
              "      <td>265</td>\n",
              "      <td>168</td>\n",
              "      <td>168</td>\n",
              "    </tr>\n",
              "    <tr>\n",
              "      <th>317381</th>\n",
              "      <td>168</td>\n",
              "      <td>265</td>\n",
              "      <td>265</td>\n",
              "      <td>168</td>\n",
              "      <td>168</td>\n",
              "      <td>168</td>\n",
              "    </tr>\n",
              "    <tr>\n",
              "      <th>317382</th>\n",
              "      <td>265</td>\n",
              "      <td>265</td>\n",
              "      <td>168</td>\n",
              "      <td>168</td>\n",
              "      <td>168</td>\n",
              "      <td>265</td>\n",
              "    </tr>\n",
              "  </tbody>\n",
              "</table>\n",
              "<p>317383 rows × 6 columns</p>\n",
              "</div>"
            ],
            "text/plain": [
              "          0    1    2    3    4    5\n",
              "0         3  104  142  142    3  142\n",
              "1       104  142  142    3  142  265\n",
              "2       142  142    3  142  265  265\n",
              "3       142    3  142  265  265    3\n",
              "4         3  142  265  265    3  142\n",
              "...     ...  ...  ...  ...  ...  ...\n",
              "317378  265  168  265  168  265  265\n",
              "317379  168  265  168  265  265  168\n",
              "317380  265  168  265  265  168  168\n",
              "317381  168  265  265  168  168  168\n",
              "317382  265  265  168  168  168  265\n",
              "\n",
              "[317383 rows x 6 columns]"
            ]
          },
          "metadata": {},
          "execution_count": 12
        }
      ]
    },
    {
      "cell_type": "code",
      "metadata": {
        "colab": {
          "base_uri": "https://localhost:8080/"
        },
        "id": "xzvxq_ViJscy",
        "outputId": "70db6b94-6a55-49bb-e6ec-928537b33125"
      },
      "source": [
        "## Get % of duplicates in both datasets\n",
        "\n",
        "# Convert normal df to set, and intrusion df to set\n",
        "def clean_data(normal, intrusion):\n",
        "  normal_list = normal.values.tolist()\n",
        "  intrusion_list = intrusion.values.tolist()\n",
        "  normal_set = set(tuple(i) for i in normal_list)\n",
        "  intrusion_set = set(tuple(i) for i in intrusion_list)\n",
        "  print('List sz vs. Set sz of normal sequences: %d vs. %d'% (len(normal_list),len(normal_set)) )\n",
        "  print('List sz vs. Set sz of intrusion sequences: %d vs. %d'% (len(intrusion_list),len(intrusion_set)) )\n",
        "\n",
        "  c_intrusion = intrusion_set - normal_set\n",
        "  c_normal = normal_set - intrusion_set\n",
        "  if len(c_intrusion) == 0 and len(c_normal) == 0:\n",
        "    print(DATA+' No Duplication!')\n",
        "  if len(c_intrusion) > 0:\n",
        "    intrusion = pd.DataFrame(c_intrusion)\n",
        "  else:\n",
        "    intrusion = pd.DataFrame(intrusion_set)\n",
        "  if len(c_normal) > 0:\n",
        "    normal = pd.DataFrame(c_normal)\n",
        "  else:\n",
        "    normal = pd.DataFrame(normal_set)\n",
        "\n",
        "  print('After cleaning: \\nNormal sz:', len(c_normal), ' Intrusion sz:', len(c_intrusion) )\n",
        "  return normal, intrusion\n",
        "\n",
        "normal, intrusion = clean_data(train, test) # since train set contains only normal, it is passed in the func as normal. Similar to test"
      ],
      "execution_count": 14,
      "outputs": [
        {
          "output_type": "stream",
          "name": "stdout",
          "text": [
            "List sz vs. Set sz of normal sequences: 308072 vs. 63381\n",
            "List sz vs. Set sz of intrusion sequences: 317383 vs. 70762\n",
            "After cleaning: \n",
            "Normal sz: 59137  Intrusion sz: 66518\n"
          ]
        }
      ]
    },
    {
      "cell_type": "code",
      "metadata": {
        "colab": {
          "base_uri": "https://localhost:8080/"
        },
        "id": "ztHCbJZ3Lsxq",
        "outputId": "df6eca73-083d-4ee1-f7cd-83e155b63fa1"
      },
      "source": [
        "len(normal), len(intrusion)"
      ],
      "execution_count": 15,
      "outputs": [
        {
          "output_type": "execute_result",
          "data": {
            "text/plain": [
              "(59137, 66518)"
            ]
          },
          "metadata": {},
          "execution_count": 15
        }
      ]
    },
    {
      "cell_type": "markdown",
      "metadata": {
        "id": "8GMYBPNarqFf"
      },
      "source": [
        "## **Histogram of Processed Data**"
      ]
    },
    {
      "cell_type": "code",
      "metadata": {
        "colab": {
          "base_uri": "https://localhost:8080/",
          "height": 430
        },
        "id": "dwIfN5bUCXMO",
        "outputId": "f4987183-f3a1-4888-e071-2289dd487f73"
      },
      "source": [
        "# After Cleaning\n",
        "plt.figure(figsize=(20,6))\n",
        "plt.hist(normal[0], label='Normal', alpha=0.6, density=True)\n",
        "plt.hist(intrusion[0], label='Intrusion', color='tomato', alpha=0.6, density=True)\n",
        "plt.legend()\n",
        "plt.ylabel('Proportions')\n",
        "plt.xlabel('Syscall num')\n",
        "plt.grid(axis='y', alpha=0.75)\n",
        "plt.title('An Overlaid Histogram of Syscall Proportions in Normal and Intrusion Data from ' + DATA,y=1.02, fontsize=15)"
      ],
      "execution_count": 16,
      "outputs": [
        {
          "output_type": "execute_result",
          "data": {
            "text/plain": [
              "Text(0.5, 1.02, 'An Overlaid Histogram of Syscall Proportions in Normal and Intrusion Data from ADFA-LD')"
            ]
          },
          "metadata": {},
          "execution_count": 16
        },
        {
          "output_type": "display_data",
          "data": {
            "image/png": "[encoded data removed]",
            "text/plain": [
              "<Figure size 1440x432 with 1 Axes>"
            ]
          },
          "metadata": {
            "needs_background": "light"
          }
        }
      ]
    },
    {
      "cell_type": "code",
      "metadata": {
        "id": "NIqz_AiY0R8q"
      },
      "source": [
        "# Save cleaned train and test sets\n",
        "normal.to_csv('normal.csv', index=False)\n",
        "intrusion.to_csv('intrusion.csv', index=False)"
      ],
      "execution_count": 18,
      "outputs": []
    },
    {
      "cell_type": "markdown",
      "metadata": {
        "id": "Qk_fLEaHr0SL"
      },
      "source": [
        "**Labeling Sequences**"
      ]
    },
    {
      "cell_type": "code",
      "metadata": {
        "colab": {
          "base_uri": "https://localhost:8080/"
        },
        "id": "0KILRKFiA2EV",
        "outputId": "26e6df21-83fc-4199-ba77-e1ad61e59ede"
      },
      "source": [
        "# Intrusion sequences is labeled 1. Rename columns of the dataframe\n",
        "intrusion['Label'] = 1\n",
        "intrusion.rename(columns={0: 'Position1', 1: 'Position2', 2: 'Position3', 3: 'Position4',\n",
        "                          4: 'Position5', 5: 'Position6'}, inplace=True)\n",
        "\n",
        "print(intrusion.head(5), '\\n')"
      ],
      "execution_count": 19,
      "outputs": [
        {
          "output_type": "stream",
          "name": "stdout",
          "text": [
            "   Position1  Position2  Position3  Position4  Position5  Position6  Label\n",
            "0        175        175        119        142        142          3      1\n",
            "1        146        265        168          3        168          3      1\n",
            "2          3          3        142        142        142        142      1\n",
            "3        256        240        256        102        240        102      1\n",
            "4         54        265          3        265        146          3      1 \n",
            "\n"
          ]
        }
      ]
    },
    {
      "cell_type": "code",
      "metadata": {
        "colab": {
          "base_uri": "https://localhost:8080/"
        },
        "id": "oN2KngnOyG5E",
        "outputId": "dd2d4f34-3d66-408f-8727-76c1989dcaef"
      },
      "source": [
        "# Normal sequences is labeled 0. Rename columns of the dataframe\n",
        "normal['Label'] = 0\n",
        "normal.rename(columns={0: 'Position1', 1: 'Position2', 2: 'Position3', 3: 'Position4',\n",
        "                        4: 'Position5', 5: 'Position6'}, inplace=True)\n",
        "print(normal.head(5), '\\n')\n",
        "\n",
        "print('Normal len:',len(normal),'\\nIntrusion len:', len(intrusion))"
      ],
      "execution_count": 20,
      "outputs": [
        {
          "output_type": "stream",
          "name": "stdout",
          "text": [
            "   Position1  Position2  Position3  Position4  Position5  Position6  Label\n",
            "0        195        195          3          5          3          3      0\n",
            "1          3          3        265        265        221        265      0\n",
            "2        175        175         45        175          5        221      0\n",
            "3         78        180        180        180        125        180      0\n",
            "4        221        221        221        175        174        175      0 \n",
            "\n",
            "Normal len: 59137 \n",
            "Intrusion len: 66518\n"
          ]
        }
      ]
    },
    {
      "cell_type": "markdown",
      "metadata": {
        "id": "7ohcyx-nmoYj"
      },
      "source": [
        "## **Partition Training and Testing dataset 70/30**\n",
        "\n",
        "We do not need to bootstrap since there are more than enough data from both classes."
      ]
    },
    {
      "cell_type": "code",
      "metadata": {
        "colab": {
          "base_uri": "https://localhost:8080/"
        },
        "id": "Dcj-XXjMZ57h",
        "outputId": "3be0d462-32a3-4d44-9b27-d4c94403dc0d"
      },
      "source": [
        "# combine normal(train) and intrusion(test) data and split them into training and testing sets\n",
        "df = normal.append(intrusion, ignore_index=True)\n",
        "print('Df sz:', df.shape)\n",
        "\n",
        "# Spliting into training and testing\n",
        "x_train, x_test, y_train, y_test = train_test_split(df.iloc[:,:6], df['Label'], test_size = 0.30, shuffle=True)\n",
        "\n",
        "# Reset index of training and testing sets\n",
        "x_train.reset_index(drop=True, inplace=True); y_train.reset_index(drop=True, inplace=True)\n",
        "x_test.reset_index(drop=True, inplace=True);  y_test.reset_index(drop=True, inplace=True)\n",
        "\n",
        "print('Train sz:',len(x_train), len(y_train))\n",
        "intrusion_train = y_train.loc[y_train == 1]\n",
        "normal_train = y_train.loc[y_train == 0]\n",
        "print('Train set: Intrusion vs. Normal cases', len(y_train.iloc[intrusion_train] ), len(y_train.iloc[normal_train] ))\n",
        "\n",
        "print('Test sz:', len(x_test), len(y_test))\n",
        "intrusion_test = y_test.loc[y_test == 1]\n",
        "normal_test = y_test.loc[y_test == 0]\n",
        "print('Test set: Intrusion vs. Normal cases', len(y_test.iloc[intrusion_test] ), len(y_test.iloc[normal_test] ))"
      ],
      "execution_count": 23,
      "outputs": [
        {
          "output_type": "stream",
          "name": "stdout",
          "text": [
            "Df sz: (125655, 7)\n",
            "Train sz: 87958 87958\n",
            "Train set: Intrusion vs. Normal cases 46662 41296\n",
            "Test sz: 37697 37697\n",
            "Test set: Intrusion vs. Normal cases 19856 17841\n"
          ]
        }
      ]
    },
    {
      "cell_type": "markdown",
      "metadata": {
        "id": "c7NZyzbVcNTk"
      },
      "source": [
        "# Bootstrap training data\n",
        "## Lived-name has more intrusion cases than normal cases (189 > 71) --> bootstrap normal cases only\n",
        "x_train['Label'] = y_train\n",
        "if len(intrusion_train) > len(normal_train):\n",
        "  x_train = x_train.iloc[intrusion_train.index].append(x_train.iloc[normal_train.index].sample(n = len(intrusion_train), replace=True), ignore_index=True) #upsampled normal data and add to train set\n",
        "else:\n",
        "  x_train = x_train.iloc[normal_train.index].append(x_train.iloc[intrusion_train.index].sample(n = len(normal_train), replace=True), ignore_index=True) #upsampled intrusion data and add to train set\n",
        "\n",
        "#x_train = x_train.append(x_train.sample(frac=1), ignore_index=True) # Bootstrap training data in case there is not enough data\n",
        "x_train = x_train.sample(frac=1) # Shuffle data\n",
        "x_train.reset_index(drop=True, inplace=True)\n",
        "y_train = x_train['Label']\n",
        "x_train.drop(columns='Label', inplace=True)\n",
        "x_train"
      ]
    },
    {
      "cell_type": "code",
      "metadata": {
        "colab": {
          "base_uri": "https://localhost:8080/"
        },
        "id": "SZwZjLpsLKdD",
        "outputId": "dc082065-07e6-4161-fd26-e05759250b4e"
      },
      "source": [
        "y_train"
      ],
      "execution_count": 24,
      "outputs": [
        {
          "output_type": "execute_result",
          "data": {
            "text/plain": [
              "0        0\n",
              "1        0\n",
              "2        0\n",
              "3        0\n",
              "4        0\n",
              "        ..\n",
              "87953    1\n",
              "87954    0\n",
              "87955    1\n",
              "87956    0\n",
              "87957    1\n",
              "Name: Label, Length: 87958, dtype: int64"
            ]
          },
          "metadata": {},
          "execution_count": 24
        }
      ]
    },
    {
      "cell_type": "markdown",
      "metadata": {
        "id": "ymW016tCLOBh"
      },
      "source": [
        "\n",
        "# **Performance Measures**\n",
        "\n",
        "\n",
        "1.   Function calc_false_positive: Calculates FPR\n",
        "2.   Function print_performance: Formats printing performance metrics and ROC curve for each model\n",
        "3.   Function color_confusion_matrix: prints out a heatmap of confusion matrix in blue color scale\n",
        "4.   Graphing overlaid ROC curves, where each one represents a model AUC score\n",
        "\n",
        "\n",
        "\n"
      ]
    },
    {
      "cell_type": "code",
      "metadata": {
        "id": "XA1PZX4XBNLO"
      },
      "source": [
        "# This function calculate False Positive Rate given a confusion matrix\n",
        "def calc_false_positive (cmatrix):\n",
        "  specificity = cmatrix[0,0]/(cmatrix[0,0] + cmatrix[0,1])\n",
        "  return 1-specificity\n",
        "\n",
        "# This function prints performance metrics and ROC curve given the model name, true labels and predicted labels\n",
        "def print_performance(model_name, true_labels, pred_labels):\n",
        "  # rows are actual, columns are predicted\n",
        "  cmatrix = confusion_matrix(true_labels, pred_labels)\n",
        "  fpr = calc_false_positive(cmatrix)\n",
        "\n",
        "  print('Confusion Matrix: \\n',cmatrix)\n",
        "  print('\\nTesting Accuracy: %.2f'% metrics.accuracy_score(true_labels, pred_labels))\n",
        "  print('Precision:%.2f'%  metrics.precision_score(true_labels, pred_labels))\n",
        "  print('Recall: %.2f'% metrics.recall_score(true_labels, pred_labels))\n",
        "  print('False Positive Rate: %.2f'% fpr)\n",
        "  print('\\nClassification report:', classification_report(true_labels, pred_labels), sep='\\n')\n",
        "  print('AUC: %.2f'% roc_auc_score(true_labels, pred_labels))\n",
        "\n",
        "  false_positive_rate, recall, thresholds = roc_curve(true_labels, pred_labels)\n",
        "  roc_auc = auc(false_positive_rate, recall)\n",
        "  plt.figure()\n",
        "  plt.title( model_name+' ROC Curve on ' + DATA)\n",
        "  plt.plot(false_positive_rate, recall, 'b', label = 'AUC = %0.2f' %roc_auc)\n",
        "  plt.legend(loc='lower right')\n",
        "  plt.plot([0,1], [0,1], 'r--')\n",
        "  plt.xlim([0.0,1.0])\n",
        "  plt.ylim([0.0,1.0])\n",
        "  plt.ylabel('Recall')\n",
        "  plt.xlabel('False Positive Rate (1-Specificity)')\n",
        "  #plt.savefig(model_name+'-ROC.jpg')\n",
        "  plt.show()\n",
        "\n",
        "# Plot a heatmap of confusion matrix given the model name, a classifier model, testing data and the predicted label\n",
        "def color_confusion_matrix( model_name, model, x_test, y_test, y_predicted):\n",
        "  class_names = ['Normal', 'Intrusion']\n",
        "\n",
        "  fig, ax = plt.subplots(figsize=(6, 6))\n",
        "  plot_confusion_matrix(model, x_test, y_test, display_labels=class_names, \n",
        "                        values_format='d', ax = ax, cmap=plt.cm.Blues)\n",
        "  plt.title('Confusion Matrix of ' + str(model_name))\n",
        "  #plt.savefig(model_name+'-CM.jpg')\n",
        "  plt.show()\n",
        "\n",
        "  cmatrix = confusion_matrix(y_test, y_predicted)\n",
        "  print(cmatrix)\n",
        "\n",
        "\n",
        "# Graphing overlaid ROC curves, where each one represents a model AUC score\n",
        "def graph_multi_ROC ():\n",
        "  # Set color for each model\n",
        "  colors = {'KM': 'lightcoral','LR': 'darkorange', 'SVM':'lime', 'NB': 'steelblue',\n",
        "            'NN': 'purple','DT': 'magenta','RF': 'deeppink','KNN': 'darkturquoise',\n",
        "            'BERT': 'darkred', 'GPT': 'blue'}\n",
        "  # Set marker for each model          \n",
        "  markers = {'KM':'1--','LR': 'v--', 'SVM': '^--', 'NN': '*--', 'DT': 'o--', 'RF': '+--', 'KNN': '.--', 'NB': 'x--', 'BERT':'<--', 'GPT': '>--'}\n",
        "  \n",
        "  plt.figure(figsize=(9,6))\n",
        "\n",
        "  plt.plot(KM_test.get('fpr'), KM_test.get('tpr'), markers.get('KM'), color=colors.get('KM'),  label=\"KM - AUC=\" + str(KM_test.get('auc').round(3)))\n",
        "  plt.plot(LR_test.get('fpr'), LR_test.get('tpr'), markers.get('LR'), color=colors.get('LR'),  label=\"LR - AUC=\" + str(LR_test.get('auc').round(3)))\n",
        "  plt.plot(SVM_test.get('fpr'),SVM_test.get('tpr'),markers.get('SVM'),color=colors.get('SVM'), label=\"SVM - AUC=\"+ str(SVM_test.get('auc').round(3)))\n",
        "  plt.plot(NN_test.get('fpr'), NN_test.get('tpr'), markers.get('NN'), color=colors.get('NN'),  label=\"NN - AUC=\" + str(NN_test.get('auc').round(3)))\n",
        "  plt.plot(DT_test.get('fpr'), DT_test.get('tpr'), markers.get('DT'), color=colors.get('DT'),  label=\"DT - AUC=\" + str(DT_test.get('auc').round(3)))\n",
        "  plt.plot(RF_test.get('fpr'), RF_test.get('tpr'), markers.get('RF'), color=colors.get('RF'),  label=\"RF - AUC=\" + str(RF_test.get('auc').round(3)))\n",
        "  plt.plot(KNN_test.get('fpr'),KNN_test.get('tpr'),markers.get('KNN'),color=colors.get('KNN'), label=\"KNN - AUC=\"+ str(KNN_test.get('auc').round(3)))\n",
        "  plt.plot(NB_test.get('fpr'), NB_test.get('tpr'), markers.get('NB'), color=colors.get('NB'),  label=\"NB - AUC=\" + str(NB_test.get('auc').round(3)))\n",
        "  plt.plot(BERT_test.get('fpr'),BERT_test.get('tpr'), markers.get('BERT'), color=colors.get('BERT'),  label=\"BERT - AUC=\"+ str(BERT_test.get('auc').round(3)))\n",
        "  plt.plot(GPT_test.get('fpr'),GPT_test.get('tpr'), markers.get('GPT'), color=colors.get('GPT'),  label=\"GPT-2 - AUC=\"+ str(GPT_test.get('auc').round(3)))\n",
        "\n",
        "  plt.plot([0,1], [0,1], 'k--', label='Random Chances')\n",
        "  plt.xlim([0.0,1.0])\n",
        "  plt.ylim([0.0,1.02])\n",
        "  plt.ylabel('Recall')\n",
        "  plt.xlabel('False Positive Rate (1-Specificity)')\n",
        "  plt.legend(loc='lower right') \n",
        "  plt.title( 'Testing ROCs on ' + DATA)\n",
        "  #plt.savefig(DATA_I+'-'+train_or_test+'.jpg', dpi = 80)\n",
        "  plt.show()"
      ],
      "execution_count": 20,
      "outputs": []
    },
    {
      "cell_type": "markdown",
      "metadata": {
        "id": "s-keFefagnSl"
      },
      "source": [
        "# **K-means**"
      ]
    },
    {
      "cell_type": "code",
      "metadata": {
        "colab": {
          "base_uri": "https://localhost:8080/",
          "height": 669
        },
        "id": "a0DPPwlWKeoA",
        "outputId": "b956fdee-5c20-4b9a-c15f-16a3cb332b24"
      },
      "source": [
        "from sklearn.cluster import KMeans\n",
        "from sklearn import metrics\n",
        "from sklearn.metrics import adjusted_rand_score\n",
        "\n",
        "# Choose K cluster = 2\n",
        "kmeans = KMeans(n_clusters=2)\n",
        "# Fit Kmeans to the training set\n",
        "kmeans.fit(x_train)\n",
        "\n",
        "\n",
        "# Recording TPR and FPR for the TRAINING ROC curves\n",
        "y_pred = kmeans.predict(x_train)\n",
        "KM_train = {}\n",
        "KM_train['fpr'], KM_train['tpr'], thresh = roc_curve(y_train, y_pred)\n",
        "KM_train['auc'] = roc_auc_score(y_train, y_pred)\n",
        "\n",
        "\n",
        "## TESTING K-MEANS\n",
        "y_predicted = kmeans.predict(x_test)\n",
        "\n",
        "print_performance('KMeans',y_test, y_predicted)\n",
        "\n",
        "# Number of iterations before converging\n",
        "print('Number of iterations before converging:', kmeans.n_iter_)\n",
        "\n",
        "\n",
        "# Recording TPR and FPR for the TESTING ROC curves\n",
        "KM_test = {}\n",
        "KM_test['fpr'], KM_test['tpr'], thresh = roc_curve(y_test, y_predicted)\n",
        "KM_test['auc'] = roc_auc_score(y_test, y_predicted)\n",
        "\n",
        "\n",
        "print('Train AUC: %.3f vs Test AUC: %.3f' %(KM_train['auc'], KM_test['auc']))"
      ],
      "execution_count": 21,
      "outputs": [
        {
          "output_type": "stream",
          "name": "stdout",
          "text": [
            "Confusion Matrix: \n",
            " [[32086 60489]\n",
            " [63695 31367]]\n",
            "\n",
            "Testing Accuracy: 0.34\n",
            "Precision:0.34\n",
            "Recall: 0.33\n",
            "False Positive Rate: 0.65\n",
            "\n",
            "Classification report:\n",
            "              precision    recall  f1-score   support\n",
            "\n",
            "           0       0.33      0.35      0.34     92575\n",
            "           1       0.34      0.33      0.34     95062\n",
            "\n",
            "    accuracy                           0.34    187637\n",
            "   macro avg       0.34      0.34      0.34    187637\n",
            "weighted avg       0.34      0.34      0.34    187637\n",
            "\n",
            "AUC: 0.34\n"
          ]
        },
        {
          "output_type": "display_data",
          "data": {
            "image/png": "[encoded data removed]",
            "text/plain": [
              "<Figure size 432x288 with 1 Axes>"
            ]
          },
          "metadata": {
            "needs_background": "light"
          }
        },
        {
          "output_type": "stream",
          "name": "stdout",
          "text": [
            "Number of iterations before converging: 5\n",
            "Train AUC: 0.339 vs Test AUC: 0.338\n"
          ]
        }
      ]
    },
    {
      "cell_type": "markdown",
      "metadata": {
        "id": "CKMnutnOgsZ5"
      },
      "source": [
        "# **Logistic Regression**"
      ]
    },
    {
      "cell_type": "code",
      "metadata": {
        "colab": {
          "base_uri": "https://localhost:8080/",
          "height": 652
        },
        "id": "mk83mqk_fC9k",
        "outputId": "23997fed-427c-49b4-d868-c0d7bd6f5333"
      },
      "source": [
        "from sklearn.linear_model import LogisticRegression\n",
        "\n",
        "# Fit the model on the training set and predict the testing set\n",
        "lgModel = LogisticRegression().fit(x_train, y_train)\n",
        "y_pred = lgModel.predict(x_train)\n",
        "\n",
        "# Recording TPR and FPR for the TESTING ROC curves\n",
        "LR_train = {}\n",
        "LR_train['fpr'], LR_train['tpr'], thresh = roc_curve(y_train, y_pred)\n",
        "LR_train['auc'] = roc_auc_score(y_train, y_pred)\n",
        "\n",
        "\n",
        "## TESTING Logistic Regression\n",
        "y_predicted = lgModel.predict(x_test)\n",
        "\n",
        "# Evaluating Performance on Testing data\n",
        "print_performance('Logistic Regression',y_test, y_predicted)\n",
        "\n",
        "# Recording TPR and FPR for the multi-ROC curves\n",
        "LR_test = {}\n",
        "LR_test['fpr'], LR_test['tpr'], thresh = roc_curve(y_test, y_predicted)\n",
        "LR_test['auc'] = roc_auc_score(y_test, y_predicted)\n",
        "\n",
        "print('Train AUC: %.3f vs Test AUC: %.3f' %(LR_train['auc'], LR_test['auc']))"
      ],
      "execution_count": 22,
      "outputs": [
        {
          "output_type": "stream",
          "name": "stdout",
          "text": [
            "Confusion Matrix: \n",
            " [[59789 32786]\n",
            " [30554 64508]]\n",
            "\n",
            "Testing Accuracy: 0.66\n",
            "Precision:0.66\n",
            "Recall: 0.68\n",
            "False Positive Rate: 0.35\n",
            "\n",
            "Classification report:\n",
            "              precision    recall  f1-score   support\n",
            "\n",
            "           0       0.66      0.65      0.65     92575\n",
            "           1       0.66      0.68      0.67     95062\n",
            "\n",
            "    accuracy                           0.66    187637\n",
            "   macro avg       0.66      0.66      0.66    187637\n",
            "weighted avg       0.66      0.66      0.66    187637\n",
            "\n",
            "AUC: 0.66\n"
          ]
        },
        {
          "output_type": "display_data",
          "data": {
            "image/png": "[encoded data removed]",
            "text/plain": [
              "<Figure size 432x288 with 1 Axes>"
            ]
          },
          "metadata": {
            "needs_background": "light"
          }
        },
        {
          "output_type": "stream",
          "name": "stdout",
          "text": [
            "Train AUC: 0.661 vs Test AUC: 0.662\n"
          ]
        }
      ]
    },
    {
      "cell_type": "markdown",
      "metadata": {
        "id": "boOPLuv1zl0p"
      },
      "source": [
        "# **SVM**\n",
        "\n",
        "This model uses a Polynomial kernel, and the rest of the parameters are as default\n",
        "\n",
        "\n",
        "\n",
        "\n"
      ]
    },
    {
      "cell_type": "code",
      "metadata": {
        "colab": {
          "base_uri": "https://localhost:8080/",
          "height": 419
        },
        "id": "PL4JaJSqvScV",
        "outputId": "c9f8705b-8f63-4cf0-ec16-13659134ecc3"
      },
      "source": [
        "# reduce data to train for SVM as it takes too long\n",
        "\n",
        "train_data = x_train.copy(deep=True) # create a deep copy of x_train, so any modification to train_data won't affect x_train\n",
        "train_data['Label'] = y_train\n",
        "train_data = train_data.groupby('Label').sample(frac = 0.1)\n",
        "train_data.reset_index(drop=True, inplace= True)\n",
        "#train_data\n",
        "svm_x_train = train_data.drop(columns='Label')\n",
        "svm_y_train = train_data['Label']\n",
        "svm_x_train"
      ],
      "execution_count": 34,
      "outputs": [
        {
          "output_type": "execute_result",
          "data": {
            "text/html": [
              "<div>\n",
              "<style scoped>\n",
              "    .dataframe tbody tr th:only-of-type {\n",
              "        vertical-align: middle;\n",
              "    }\n",
              "\n",
              "    .dataframe tbody tr th {\n",
              "        vertical-align: top;\n",
              "    }\n",
              "\n",
              "    .dataframe thead th {\n",
              "        text-align: right;\n",
              "    }\n",
              "</style>\n",
              "<table border=\"1\" class=\"dataframe\">\n",
              "  <thead>\n",
              "    <tr style=\"text-align: right;\">\n",
              "      <th></th>\n",
              "      <th>Position1</th>\n",
              "      <th>Position2</th>\n",
              "      <th>Position3</th>\n",
              "      <th>Position4</th>\n",
              "      <th>Position5</th>\n",
              "      <th>Position6</th>\n",
              "    </tr>\n",
              "  </thead>\n",
              "  <tbody>\n",
              "    <tr>\n",
              "      <th>0</th>\n",
              "      <td>221</td>\n",
              "      <td>27</td>\n",
              "      <td>174</td>\n",
              "      <td>13</td>\n",
              "      <td>33</td>\n",
              "      <td>5</td>\n",
              "    </tr>\n",
              "    <tr>\n",
              "      <th>1</th>\n",
              "      <td>192</td>\n",
              "      <td>6</td>\n",
              "      <td>33</td>\n",
              "      <td>5</td>\n",
              "      <td>3</td>\n",
              "      <td>197</td>\n",
              "    </tr>\n",
              "    <tr>\n",
              "      <th>2</th>\n",
              "      <td>4</td>\n",
              "      <td>4</td>\n",
              "      <td>4</td>\n",
              "      <td>4</td>\n",
              "      <td>4</td>\n",
              "      <td>4</td>\n",
              "    </tr>\n",
              "    <tr>\n",
              "      <th>3</th>\n",
              "      <td>197</td>\n",
              "      <td>192</td>\n",
              "      <td>6</td>\n",
              "      <td>33</td>\n",
              "      <td>5</td>\n",
              "      <td>3</td>\n",
              "    </tr>\n",
              "    <tr>\n",
              "      <th>4</th>\n",
              "      <td>125</td>\n",
              "      <td>125</td>\n",
              "      <td>125</td>\n",
              "      <td>125</td>\n",
              "      <td>125</td>\n",
              "      <td>125</td>\n",
              "    </tr>\n",
              "    <tr>\n",
              "      <th>...</th>\n",
              "      <td>...</td>\n",
              "      <td>...</td>\n",
              "      <td>...</td>\n",
              "      <td>...</td>\n",
              "      <td>...</td>\n",
              "      <td>...</td>\n",
              "    </tr>\n",
              "    <tr>\n",
              "      <th>43777</th>\n",
              "      <td>265</td>\n",
              "      <td>265</td>\n",
              "      <td>43</td>\n",
              "      <td>340</td>\n",
              "      <td>168</td>\n",
              "      <td>43</td>\n",
              "    </tr>\n",
              "    <tr>\n",
              "      <th>43778</th>\n",
              "      <td>104</td>\n",
              "      <td>175</td>\n",
              "      <td>175</td>\n",
              "      <td>142</td>\n",
              "      <td>142</td>\n",
              "      <td>3</td>\n",
              "    </tr>\n",
              "    <tr>\n",
              "      <th>43779</th>\n",
              "      <td>142</td>\n",
              "      <td>265</td>\n",
              "      <td>142</td>\n",
              "      <td>142</td>\n",
              "      <td>265</td>\n",
              "      <td>104</td>\n",
              "    </tr>\n",
              "    <tr>\n",
              "      <th>43780</th>\n",
              "      <td>175</td>\n",
              "      <td>175</td>\n",
              "      <td>142</td>\n",
              "      <td>146</td>\n",
              "      <td>265</td>\n",
              "      <td>175</td>\n",
              "    </tr>\n",
              "    <tr>\n",
              "      <th>43781</th>\n",
              "      <td>168</td>\n",
              "      <td>265</td>\n",
              "      <td>168</td>\n",
              "      <td>265</td>\n",
              "      <td>168</td>\n",
              "      <td>168</td>\n",
              "    </tr>\n",
              "  </tbody>\n",
              "</table>\n",
              "<p>43782 rows × 6 columns</p>\n",
              "</div>"
            ],
            "text/plain": [
              "       Position1  Position2  Position3  Position4  Position5  Position6\n",
              "0            221         27        174         13         33          5\n",
              "1            192          6         33          5          3        197\n",
              "2              4          4          4          4          4          4\n",
              "3            197        192          6         33          5          3\n",
              "4            125        125        125        125        125        125\n",
              "...          ...        ...        ...        ...        ...        ...\n",
              "43777        265        265         43        340        168         43\n",
              "43778        104        175        175        142        142          3\n",
              "43779        142        265        142        142        265        104\n",
              "43780        175        175        142        146        265        175\n",
              "43781        168        265        168        265        168        168\n",
              "\n",
              "[43782 rows x 6 columns]"
            ]
          },
          "metadata": {},
          "execution_count": 34
        }
      ]
    },
    {
      "cell_type": "code",
      "metadata": {
        "colab": {
          "base_uri": "https://localhost:8080/"
        },
        "id": "KXpEIttSuJlj",
        "outputId": "daebe469-1b7e-438f-a02f-739b5e5f321a"
      },
      "source": [
        "svm_y_train"
      ],
      "execution_count": 35,
      "outputs": [
        {
          "output_type": "execute_result",
          "data": {
            "text/plain": [
              "0        0\n",
              "1        0\n",
              "2        0\n",
              "3        0\n",
              "4        0\n",
              "        ..\n",
              "43777    1\n",
              "43778    1\n",
              "43779    1\n",
              "43780    1\n",
              "43781    1\n",
              "Name: Label, Length: 43782, dtype: int64"
            ]
          },
          "metadata": {},
          "execution_count": 35
        }
      ]
    },
    {
      "cell_type": "code",
      "metadata": {
        "colab": {
          "base_uri": "https://localhost:8080/",
          "height": 419
        },
        "id": "gObHt62na9KM",
        "outputId": "09947bb2-5e58-4ce2-e503-d9a1afcae106"
      },
      "source": [
        "x_train"
      ],
      "execution_count": 36,
      "outputs": [
        {
          "output_type": "execute_result",
          "data": {
            "text/html": [
              "<div>\n",
              "<style scoped>\n",
              "    .dataframe tbody tr th:only-of-type {\n",
              "        vertical-align: middle;\n",
              "    }\n",
              "\n",
              "    .dataframe tbody tr th {\n",
              "        vertical-align: top;\n",
              "    }\n",
              "\n",
              "    .dataframe thead th {\n",
              "        text-align: right;\n",
              "    }\n",
              "</style>\n",
              "<table border=\"1\" class=\"dataframe\">\n",
              "  <thead>\n",
              "    <tr style=\"text-align: right;\">\n",
              "      <th></th>\n",
              "      <th>Position1</th>\n",
              "      <th>Position2</th>\n",
              "      <th>Position3</th>\n",
              "      <th>Position4</th>\n",
              "      <th>Position5</th>\n",
              "      <th>Position6</th>\n",
              "    </tr>\n",
              "  </thead>\n",
              "  <tbody>\n",
              "    <tr>\n",
              "      <th>0</th>\n",
              "      <td>197</td>\n",
              "      <td>192</td>\n",
              "      <td>3</td>\n",
              "      <td>3</td>\n",
              "      <td>6</td>\n",
              "      <td>91</td>\n",
              "    </tr>\n",
              "    <tr>\n",
              "      <th>1</th>\n",
              "      <td>195</td>\n",
              "      <td>5</td>\n",
              "      <td>195</td>\n",
              "      <td>5</td>\n",
              "      <td>195</td>\n",
              "      <td>5</td>\n",
              "    </tr>\n",
              "    <tr>\n",
              "      <th>2</th>\n",
              "      <td>3</td>\n",
              "      <td>168</td>\n",
              "      <td>168</td>\n",
              "      <td>168</td>\n",
              "      <td>168</td>\n",
              "      <td>168</td>\n",
              "    </tr>\n",
              "    <tr>\n",
              "      <th>3</th>\n",
              "      <td>142</td>\n",
              "      <td>3</td>\n",
              "      <td>3</td>\n",
              "      <td>142</td>\n",
              "      <td>3</td>\n",
              "      <td>142</td>\n",
              "    </tr>\n",
              "    <tr>\n",
              "      <th>4</th>\n",
              "      <td>3</td>\n",
              "      <td>3</td>\n",
              "      <td>3</td>\n",
              "      <td>3</td>\n",
              "      <td>5</td>\n",
              "      <td>221</td>\n",
              "    </tr>\n",
              "    <tr>\n",
              "      <th>...</th>\n",
              "      <td>...</td>\n",
              "      <td>...</td>\n",
              "      <td>...</td>\n",
              "      <td>...</td>\n",
              "      <td>...</td>\n",
              "      <td>...</td>\n",
              "    </tr>\n",
              "    <tr>\n",
              "      <th>437813</th>\n",
              "      <td>195</td>\n",
              "      <td>195</td>\n",
              "      <td>195</td>\n",
              "      <td>195</td>\n",
              "      <td>140</td>\n",
              "      <td>140</td>\n",
              "    </tr>\n",
              "    <tr>\n",
              "      <th>437814</th>\n",
              "      <td>168</td>\n",
              "      <td>265</td>\n",
              "      <td>43</td>\n",
              "      <td>3</td>\n",
              "      <td>265</td>\n",
              "      <td>43</td>\n",
              "    </tr>\n",
              "    <tr>\n",
              "      <th>437815</th>\n",
              "      <td>3</td>\n",
              "      <td>3</td>\n",
              "      <td>3</td>\n",
              "      <td>3</td>\n",
              "      <td>45</td>\n",
              "      <td>3</td>\n",
              "    </tr>\n",
              "    <tr>\n",
              "      <th>437816</th>\n",
              "      <td>265</td>\n",
              "      <td>3</td>\n",
              "      <td>265</td>\n",
              "      <td>168</td>\n",
              "      <td>168</td>\n",
              "      <td>265</td>\n",
              "    </tr>\n",
              "    <tr>\n",
              "      <th>437817</th>\n",
              "      <td>102</td>\n",
              "      <td>10</td>\n",
              "      <td>5</td>\n",
              "      <td>221</td>\n",
              "      <td>197</td>\n",
              "      <td>192</td>\n",
              "    </tr>\n",
              "  </tbody>\n",
              "</table>\n",
              "<p>437818 rows × 6 columns</p>\n",
              "</div>"
            ],
            "text/plain": [
              "        Position1  Position2  Position3  Position4  Position5  Position6\n",
              "0             197        192          3          3          6         91\n",
              "1             195          5        195          5        195          5\n",
              "2               3        168        168        168        168        168\n",
              "3             142          3          3        142          3        142\n",
              "4               3          3          3          3          5        221\n",
              "...           ...        ...        ...        ...        ...        ...\n",
              "437813        195        195        195        195        140        140\n",
              "437814        168        265         43          3        265         43\n",
              "437815          3          3          3          3         45          3\n",
              "437816        265          3        265        168        168        265\n",
              "437817        102         10          5        221        197        192\n",
              "\n",
              "[437818 rows x 6 columns]"
            ]
          },
          "metadata": {},
          "execution_count": 36
        }
      ]
    },
    {
      "cell_type": "code",
      "metadata": {
        "colab": {
          "base_uri": "https://localhost:8080/",
          "height": 686
        },
        "id": "-Ywq1HtyL-RV",
        "outputId": "9bc4b9ed-b6cb-4cb5-c635-233b9f6d4213"
      },
      "source": [
        "from sklearn import svm\n",
        "\n",
        "#### Create a SVM classifier using polynomial Kernel\n",
        "print('\\n****Polynomial kernel model: ')\n",
        "svm_model = svm.SVC(kernel = 'poly', verbose = True)\n",
        "\n",
        "#Train the  & Get accuracy from training\n",
        "svm_model.fit(svm_x_train, svm_y_train)\n",
        "y_pred = svm_model.predict(svm_x_train)\n",
        "\n",
        "# Recording TPR and FPR for plotting TRAINING ROC curves\n",
        "SVM_train = {}\n",
        "SVM_train['fpr'], SVM_train['tpr'], thresh = roc_curve(svm_y_train, y_pred)\n",
        "SVM_train['auc'] = roc_auc_score(svm_y_train, y_pred)\n",
        "\n",
        "\n",
        "# Test the model w testing data\n",
        "y_predicted = svm_model.predict(x_test)\n",
        "\n",
        "# Evaluate the model \n",
        "print_performance('SVM', y_test, y_predicted)\n",
        "\n",
        "# Recording TPR and FPR for TESTING-ROC curves\n",
        "SVM_test = {}\n",
        "SVM_test['fpr'], SVM_test['tpr'], thresh = roc_curve(y_test, y_predicted)\n",
        "SVM_test['auc'] = roc_auc_score(y_test, y_predicted)\n",
        "\n",
        "print('Train AUC: %.3f vs Test AUC: %.3f' %(SVM_train['auc'], SVM_test['auc']))"
      ],
      "execution_count": 37,
      "outputs": [
        {
          "output_type": "stream",
          "name": "stdout",
          "text": [
            "\n",
            "****Polynomial kernel model: \n",
            "[LibSVM]Confusion Matrix: \n",
            " [[67987 24587]\n",
            " [39731 55332]]\n",
            "\n",
            "Testing Accuracy: 0.66\n",
            "Precision:0.69\n",
            "Recall: 0.58\n",
            "False Positive Rate: 0.27\n",
            "\n",
            "Classification report:\n",
            "              precision    recall  f1-score   support\n",
            "\n",
            "           0       0.63      0.73      0.68     92574\n",
            "           1       0.69      0.58      0.63     95063\n",
            "\n",
            "    accuracy                           0.66    187637\n",
            "   macro avg       0.66      0.66      0.66    187637\n",
            "weighted avg       0.66      0.66      0.66    187637\n",
            "\n",
            "AUC: 0.66\n"
          ]
        },
        {
          "output_type": "display_data",
          "data": {
            "image/png": "[encoded data removed]",
            "text/plain": [
              "<Figure size 432x288 with 1 Axes>"
            ]
          },
          "metadata": {
            "needs_background": "light"
          }
        },
        {
          "output_type": "stream",
          "name": "stdout",
          "text": [
            "Train AUC: 0.658 vs Test AUC: 0.658\n"
          ]
        }
      ]
    },
    {
      "cell_type": "code",
      "metadata": {
        "colab": {
          "base_uri": "https://localhost:8080/",
          "height": 394
        },
        "id": "XKSizyx2J1-0",
        "outputId": "8a3cdddf-a8aa-4a22-8f50-76b179d79e6f"
      },
      "source": [
        "# Plot a heatmap confusion matrix\n",
        "color_confusion_matrix('SVM', svm_model, x_test, y_test, y_predicted)"
      ],
      "execution_count": 38,
      "outputs": [
        {
          "output_type": "display_data",
          "data": {
            "image/png": "[encoded data removed]",
            "text/plain": [
              "<Figure size 432x432 with 2 Axes>"
            ]
          },
          "metadata": {
            "needs_background": "light"
          }
        },
        {
          "output_type": "stream",
          "name": "stdout",
          "text": [
            "[[67987 24587]\n",
            " [39731 55332]]\n"
          ]
        }
      ]
    },
    {
      "cell_type": "markdown",
      "metadata": {
        "id": "CyAknSAkQ3be"
      },
      "source": [
        "# **Neural Net**\n",
        "\n",
        "This model contains 3 layers: input layer of 6 nodes, a fully connected layer of 6 nodes and an output layer of 2 nodes"
      ]
    },
    {
      "cell_type": "code",
      "metadata": {
        "id": "USe11YPvQ3bf"
      },
      "source": [
        "# Scale syscall number to between 0 and 1\n",
        "# The maximum syscall number in ADFA-LD data is 325\n",
        "max_syscall = 325\n",
        "x_train_nn = x_train/max_syscall\n",
        "x_test_nn = x_test/max_syscall"
      ],
      "execution_count": 39,
      "outputs": []
    },
    {
      "cell_type": "code",
      "metadata": {
        "colab": {
          "base_uri": "https://localhost:8080/"
        },
        "id": "kuOUNJieQ3bg",
        "outputId": "fbde2132-2da3-4a1b-ede7-dfea229827e8"
      },
      "source": [
        "import tensorflow as tf\n",
        "from tensorflow import keras\n",
        "\n",
        "nn_model = keras.Sequential([\n",
        "    keras.layers.Input(shape = (6,)),  # model expect input to be a vector of 6 numbers\n",
        "    keras.layers.Dense(6, activation = 'relu'),\n",
        "    keras.layers.Dense(2, activation = 'sigmoid')\n",
        "])\n",
        "\n",
        "nn_model.compile(optimizer='adam',\n",
        "              loss='sparse_categorical_crossentropy',\n",
        "              metrics=['accuracy'])\n",
        "\n",
        "# Fit the model to training set\n",
        "history = nn_model.fit(x_train_nn, y_train, epochs=10, batch_size=128, verbose=1)  # we pass the data, labels and epochs and watch the magic!"
      ],
      "execution_count": 40,
      "outputs": [
        {
          "output_type": "stream",
          "name": "stdout",
          "text": [
            "Epoch 1/10\n",
            "4379/4379 [==============================] - 6s 1ms/step - loss: 0.6215 - accuracy: 0.6630\n",
            "Epoch 2/10\n",
            "4379/4379 [==============================] - 5s 1ms/step - loss: 0.6129 - accuracy: 0.6649\n",
            "Epoch 3/10\n",
            "4379/4379 [==============================] - 5s 1ms/step - loss: 0.6125 - accuracy: 0.6644\n",
            "Epoch 4/10\n",
            "4379/4379 [==============================] - 5s 1ms/step - loss: 0.6124 - accuracy: 0.6640\n",
            "Epoch 5/10\n",
            "4379/4379 [==============================] - 5s 1ms/step - loss: 0.6124 - accuracy: 0.6644\n",
            "Epoch 6/10\n",
            "4379/4379 [==============================] - 5s 1ms/step - loss: 0.6123 - accuracy: 0.6645\n",
            "Epoch 7/10\n",
            "4379/4379 [==============================] - 5s 1ms/step - loss: 0.6122 - accuracy: 0.6645\n",
            "Epoch 8/10\n",
            "4379/4379 [==============================] - 5s 1ms/step - loss: 0.6122 - accuracy: 0.6644\n",
            "Epoch 9/10\n",
            "4379/4379 [==============================] - 5s 1ms/step - loss: 0.6122 - accuracy: 0.6641\n",
            "Epoch 10/10\n",
            "4379/4379 [==============================] - 5s 1ms/step - loss: 0.6109 - accuracy: 0.6634\n"
          ]
        }
      ]
    },
    {
      "cell_type": "code",
      "metadata": {
        "id": "RGUvRkXUjo3K"
      },
      "source": [
        "# Get predict Training classes\n",
        "y_pred = np.argmax(nn_model.predict(x_train_nn), axis=-1)\n",
        "\n",
        "# Recording TPR and FPR for the TRAINING ROC curves\n",
        "NN_train = {}\n",
        "NN_train['fpr'], NN_train['tpr'], thresh = roc_curve(y_train, y_pred)\n",
        "NN_train['auc'] = roc_auc_score(y_train, y_pred)"
      ],
      "execution_count": 41,
      "outputs": []
    },
    {
      "cell_type": "code",
      "metadata": {
        "colab": {
          "base_uri": "https://localhost:8080/",
          "height": 686
        },
        "id": "BGujVI6TQ3bg",
        "outputId": "ff9dbd3d-9acc-4609-e2d9-295787035590"
      },
      "source": [
        "# Get the loss and accuracy on testing set\n",
        "test_loss, test_acc = nn_model.evaluate(x_test_nn,  y_test, verbose=1) \n",
        "y_predicted = np.argmax(nn_model.predict(x_test_nn), axis=-1)\n",
        "\n",
        "\n",
        "print('Test accuracy:', test_acc,' Test loss:', test_loss)\n",
        "print_performance('Neural Network',y_test, y_predicted)\n",
        "\n",
        "# Recording TPR and FPR for the TESTING-ROC curves\n",
        "NN_test = {}\n",
        "NN_test['fpr'], NN_test['tpr'], thresh = roc_curve(y_test, y_predicted)\n",
        "NN_test['auc'] = roc_auc_score(y_test, y_predicted)\n",
        "\n",
        "print('Train AUC: %.3f vs Test AUC: %.3f' %(NN_train['auc'], NN_test['auc']))"
      ],
      "execution_count": 42,
      "outputs": [
        {
          "output_type": "stream",
          "name": "stdout",
          "text": [
            "5864/5864 [==============================] - 6s 1ms/step - loss: 0.6099 - accuracy: 0.6624\n",
            "Test accuracy: 0.6623587012290955  Test loss: 0.609909176826477\n",
            "Confusion Matrix: \n",
            " [[48189 44385]\n",
            " [18969 76094]]\n",
            "\n",
            "Testing Accuracy: 0.66\n",
            "Precision:0.63\n",
            "Recall: 0.80\n",
            "False Positive Rate: 0.48\n",
            "\n",
            "Classification report:\n",
            "              precision    recall  f1-score   support\n",
            "\n",
            "           0       0.72      0.52      0.60     92574\n",
            "           1       0.63      0.80      0.71     95063\n",
            "\n",
            "    accuracy                           0.66    187637\n",
            "   macro avg       0.67      0.66      0.65    187637\n",
            "weighted avg       0.67      0.66      0.66    187637\n",
            "\n",
            "AUC: 0.66\n"
          ]
        },
        {
          "output_type": "display_data",
          "data": {
            "image/png": "[encoded data removed]",
            "text/plain": [
              "<Figure size 432x288 with 1 Axes>"
            ]
          },
          "metadata": {
            "needs_background": "light"
          }
        },
        {
          "output_type": "stream",
          "name": "stdout",
          "text": [
            "Train AUC: 0.662 vs Test AUC: 0.661\n"
          ]
        }
      ]
    },
    {
      "cell_type": "code",
      "metadata": {
        "colab": {
          "base_uri": "https://localhost:8080/"
        },
        "id": "mehetMzFUBrt",
        "outputId": "e1ff370a-662f-4c11-9088-14d399bfab89"
      },
      "source": [
        "nn_model.summary()\n",
        "\n",
        "#history.history"
      ],
      "execution_count": 43,
      "outputs": [
        {
          "output_type": "stream",
          "name": "stdout",
          "text": [
            "Model: \"sequential\"\n",
            "_________________________________________________________________\n",
            "Layer (type)                 Output Shape              Param #   \n",
            "=================================================================\n",
            "dense (Dense)                (None, 6)                 42        \n",
            "_________________________________________________________________\n",
            "dense_1 (Dense)              (None, 2)                 14        \n",
            "=================================================================\n",
            "Total params: 56\n",
            "Trainable params: 56\n",
            "Non-trainable params: 0\n",
            "_________________________________________________________________\n"
          ]
        }
      ]
    },
    {
      "cell_type": "markdown",
      "metadata": {
        "id": "eak45tL1s7AT"
      },
      "source": [
        "# **Decision Tree**\n",
        "\n",
        "This model uses GINI criterion to split the data and requires at least 10 observations to split and 5 observations in the leaf."
      ]
    },
    {
      "cell_type": "code",
      "metadata": {
        "colab": {
          "base_uri": "https://localhost:8080/",
          "height": 1000
        },
        "id": "h_mhdZxSs6Z5",
        "outputId": "ec5a7d53-f707-4101-f9ae-bf1c65461921"
      },
      "source": [
        "from sklearn.tree import DecisionTreeClassifier\n",
        "\n",
        "# Create and Train DecTree model\n",
        "decTree = DecisionTreeClassifier(criterion='gini', min_samples_split=10,min_samples_leaf=5,max_features='auto')\n",
        "decTree = decTree.fit(x_train, y_train)\n",
        "\n",
        "# Recording TPR and FPR for the TRAINING ROC curves\n",
        "y_pred = decTree.predict(x_train)\n",
        "DT_train = {}\n",
        "DT_train['fpr'], DT_train['tpr'], thresh = roc_curve(y_train, y_pred)\n",
        "DT_train['auc'] = roc_auc_score(y_train, y_pred)\n",
        "\n",
        "# Predict testing data\n",
        "y_predicted = decTree.predict(x_test)\n",
        "\n",
        "# Print performance measures\n",
        "print_performance('Decision Tree',y_test, y_predicted)\n",
        "\n",
        "# Color Confusion Matrix\n",
        "color_confusion_matrix('Decision Tree', decTree, x_test, y_test, y_predicted)\n",
        "\n",
        "# Recording TPR and FPR for TESTING-ROC curves\n",
        "DT_test = {}\n",
        "DT_test['fpr'], DT_test['tpr'], thresh = roc_curve(y_test, y_predicted)\n",
        "DT_test['auc'] = roc_auc_score(y_test, y_predicted)\n",
        "\n",
        "print('Train AUC: %.3f vs Test AUC: %.3f' %(DT_train['auc'], DT_test['auc']))"
      ],
      "execution_count": 44,
      "outputs": [
        {
          "output_type": "stream",
          "name": "stdout",
          "text": [
            "Confusion Matrix: \n",
            " [[85580  6994]\n",
            " [11896 83167]]\n",
            "\n",
            "Testing Accuracy: 0.90\n",
            "Precision:0.92\n",
            "Recall: 0.87\n",
            "False Positive Rate: 0.08\n",
            "\n",
            "Classification report:\n",
            "              precision    recall  f1-score   support\n",
            "\n",
            "           0       0.88      0.92      0.90     92574\n",
            "           1       0.92      0.87      0.90     95063\n",
            "\n",
            "    accuracy                           0.90    187637\n",
            "   macro avg       0.90      0.90      0.90    187637\n",
            "weighted avg       0.90      0.90      0.90    187637\n",
            "\n",
            "AUC: 0.90\n"
          ]
        },
        {
          "output_type": "display_data",
          "data": {
            "image/png": "[encoded data removed]",
            "text/plain": [
              "<Figure size 432x288 with 1 Axes>"
            ]
          },
          "metadata": {
            "needs_background": "light"
          }
        },
        {
          "output_type": "display_data",
          "data": {
            "image/png": "[encoded data removed]",
            "text/plain": [
              "<Figure size 432x432 with 2 Axes>"
            ]
          },
          "metadata": {
            "needs_background": "light"
          }
        },
        {
          "output_type": "stream",
          "name": "stdout",
          "text": [
            "[[85580  6994]\n",
            " [11896 83167]]\n",
            "Train AUC: 0.915 vs Test AUC: 0.900\n"
          ]
        }
      ]
    },
    {
      "cell_type": "markdown",
      "metadata": {
        "id": "mOGaush6RBtf"
      },
      "source": [
        "# **Random Forest**\n",
        "\n",
        "This model has no max depth and allows bootstrapping observations during training. It uses GINI criterion to split and requires a minimum of 10 observations to split and the leaf node must have above 5 observations.\n",
        "\n",
        "\n"
      ]
    },
    {
      "cell_type": "code",
      "metadata": {
        "colab": {
          "base_uri": "https://localhost:8080/",
          "height": 1000
        },
        "id": "C-g6W8k4k_A3",
        "outputId": "c2694b75-bedc-4f20-bc48-4d293c7cedc6"
      },
      "source": [
        "from sklearn.ensemble import RandomForestClassifier\n",
        "\n",
        "# Build model\n",
        "randomForest = RandomForestClassifier(max_depth=None, min_samples_split=10, min_samples_leaf=5, \n",
        "                                      max_features='auto', bootstrap=True,verbose=0, criterion='gini')\n",
        "# Train the model with training set\n",
        "randomForest.fit(x_train, y_train)\n",
        "\n",
        "# Recording TPR and FPR for the TRAINING ROC curves\n",
        "y_pred = randomForest.predict(x_train)\n",
        "RF_train = {}\n",
        "RF_train['fpr'], RF_train['tpr'], thresh = roc_curve(y_train, y_pred)\n",
        "RF_train['auc'] = roc_auc_score(y_train, y_pred)\n",
        "\n",
        "# Predict the labels for testing set\n",
        "y_predicted = randomForest.predict(x_test)\n",
        "\n",
        "# Print performance measures\n",
        "print_performance('Random Forest',y_test, y_predicted)\n",
        "\n",
        "# Color Confusion Matrix\n",
        "color_confusion_matrix('Random Forest', randomForest, x_test, y_test, y_predicted)\n",
        "\n",
        "# Recording TPR and FPR for the multi-ROC curves\n",
        "RF_test = {}\n",
        "RF_test['fpr'], RF_test['tpr'], thresh = roc_curve(y_test, y_predicted)\n",
        "RF_test['auc'] = roc_auc_score(y_test, y_predicted)\n",
        "\n",
        "print('Train AUC: %.3f vs Test AUC: %.3f' %(RF_train['auc'], RF_test['auc']))"
      ],
      "execution_count": 45,
      "outputs": [
        {
          "output_type": "stream",
          "name": "stdout",
          "text": [
            "Confusion Matrix: \n",
            " [[87316  5258]\n",
            " [10140 84923]]\n",
            "\n",
            "Testing Accuracy: 0.92\n",
            "Precision:0.94\n",
            "Recall: 0.89\n",
            "False Positive Rate: 0.06\n",
            "\n",
            "Classification report:\n",
            "              precision    recall  f1-score   support\n",
            "\n",
            "           0       0.90      0.94      0.92     92574\n",
            "           1       0.94      0.89      0.92     95063\n",
            "\n",
            "    accuracy                           0.92    187637\n",
            "   macro avg       0.92      0.92      0.92    187637\n",
            "weighted avg       0.92      0.92      0.92    187637\n",
            "\n",
            "AUC: 0.92\n"
          ]
        },
        {
          "output_type": "display_data",
          "data": {
            "image/png": "[encoded data removed]",
            "text/plain": [
              "<Figure size 432x288 with 1 Axes>"
            ]
          },
          "metadata": {
            "needs_background": "light"
          }
        },
        {
          "output_type": "display_data",
          "data": {
            "image/png": "[encoded data removed]",
            "text/plain": [
              "<Figure size 432x432 with 2 Axes>"
            ]
          },
          "metadata": {
            "needs_background": "light"
          }
        },
        {
          "output_type": "stream",
          "name": "stdout",
          "text": [
            "[[87316  5258]\n",
            " [10140 84923]]\n",
            "Train AUC: 0.931 vs Test AUC: 0.918\n"
          ]
        }
      ]
    },
    {
      "cell_type": "markdown",
      "metadata": {
        "id": "doGliXotvRgg"
      },
      "source": [
        "# **KNN**\n",
        "\n",
        "This model classifies each observation based on 3 nearest neighbors with uniform weight."
      ]
    },
    {
      "cell_type": "code",
      "metadata": {
        "colab": {
          "base_uri": "https://localhost:8080/",
          "height": 1000
        },
        "id": "vHH_-Veot_FD",
        "outputId": "4d5c3f29-a312-4edc-9862-4c3935a3672d"
      },
      "source": [
        "from sklearn.neighbors import KNeighborsClassifier\n",
        "\n",
        "# Creat and Train KNN model\n",
        "KNN = KNeighborsClassifier(n_neighbors=3, weights='uniform')\n",
        "KNN.fit(x_train, y_train)\n",
        "\n",
        "# Recording TPR and FPR for the TRAINING ROC curves\n",
        "y_pred = KNN.predict(x_train)\n",
        "KNN_train = {}\n",
        "KNN_train['fpr'], KNN_train['tpr'], thresh = roc_curve(y_train, y_pred)\n",
        "KNN_train['auc'] = roc_auc_score(y_train, y_pred)\n",
        "\n",
        "# Predict testing data\n",
        "y_predicted = KNN.predict(x_test)\n",
        "\n",
        "# Print performance measures\n",
        "print_performance('KNN',y_test, y_predicted)\n",
        "\n",
        "# Color Confusion Matrix\n",
        "color_confusion_matrix('KNN', KNN, x_test, y_test, y_predicted)\n",
        "\n",
        "# Recording TPR and FPR for TESTING-ROC curves\n",
        "KNN_test = {}\n",
        "KNN_test['fpr'], KNN_test['tpr'], thresh = roc_curve(y_test, y_predicted)\n",
        "KNN_test['auc'] = roc_auc_score(y_test, y_predicted)\n",
        "\n",
        "print('Train AUC: %.3f vs Test AUC: %.3f' %(KNN_train['auc'], KNN_test['auc']))"
      ],
      "execution_count": 46,
      "outputs": [
        {
          "output_type": "stream",
          "name": "stdout",
          "text": [
            "Confusion Matrix: \n",
            " [[83355  9219]\n",
            " [10485 84578]]\n",
            "\n",
            "Testing Accuracy: 0.89\n",
            "Precision:0.90\n",
            "Recall: 0.89\n",
            "False Positive Rate: 0.10\n",
            "\n",
            "Classification report:\n",
            "              precision    recall  f1-score   support\n",
            "\n",
            "           0       0.89      0.90      0.89     92574\n",
            "           1       0.90      0.89      0.90     95063\n",
            "\n",
            "    accuracy                           0.89    187637\n",
            "   macro avg       0.89      0.90      0.89    187637\n",
            "weighted avg       0.90      0.89      0.89    187637\n",
            "\n",
            "AUC: 0.90\n"
          ]
        },
        {
          "output_type": "display_data",
          "data": {
            "image/png": "[encoded data removed]",
            "text/plain": [
              "<Figure size 432x288 with 1 Axes>"
            ]
          },
          "metadata": {
            "needs_background": "light"
          }
        },
        {
          "output_type": "display_data",
          "data": {
            "image/png": "[encoded data removed]",
            "text/plain": [
              "<Figure size 432x432 with 2 Axes>"
            ]
          },
          "metadata": {
            "needs_background": "light"
          }
        },
        {
          "output_type": "stream",
          "name": "stdout",
          "text": [
            "[[83355  9219]\n",
            " [10485 84578]]\n",
            "Train AUC: 0.919 vs Test AUC: 0.895\n"
          ]
        }
      ]
    },
    {
      "cell_type": "markdown",
      "metadata": {
        "id": "Rv2CQsOUxLSv"
      },
      "source": [
        "# **Naive Bayes**"
      ]
    },
    {
      "cell_type": "code",
      "metadata": {
        "colab": {
          "base_uri": "https://localhost:8080/",
          "height": 652
        },
        "id": "DCLL6xLRwU1s",
        "outputId": "b5c2b312-3c88-4372-c300-363340ce7016"
      },
      "source": [
        "from sklearn.naive_bayes import GaussianNB\n",
        "\n",
        "# Create a Gaussian Naive Bayes classifier and train with training set\n",
        "NaiveBayes = GaussianNB()\n",
        "NaiveBayes.fit(x_train, y_train)\n",
        "\n",
        "# Recording TPR and FPR for the TRAINING ROC curves\n",
        "y_pred = NaiveBayes.predict(x_train)\n",
        "NB_train = {}\n",
        "NB_train['fpr'], NB_train['tpr'], thresh = roc_curve(y_train, y_pred)\n",
        "NB_train['auc'] = roc_auc_score(y_train, y_pred)\n",
        "\n",
        "# Predict testing data\n",
        "y_predicted = NaiveBayes.predict(x_test)\n",
        "\n",
        "# Print performance measures\n",
        "print_performance('Naive Bayes',y_test, y_predicted)\n",
        "\n",
        "# Recording TPR and FPR for the TESTING-ROC curves\n",
        "NB_test = {}\n",
        "NB_test['fpr'], NB_test['tpr'], thresh = roc_curve(y_test, y_predicted)\n",
        "NB_test['auc'] = roc_auc_score(y_test, y_predicted)\n",
        "\n",
        "print('Train AUC: %.3f vs Test AUC: %.3f' %(NB_train['auc'], NB_test['auc']))"
      ],
      "execution_count": 47,
      "outputs": [
        {
          "output_type": "stream",
          "name": "stdout",
          "text": [
            "Confusion Matrix: \n",
            " [[60757 31817]\n",
            " [31727 63336]]\n",
            "\n",
            "Testing Accuracy: 0.66\n",
            "Precision:0.67\n",
            "Recall: 0.67\n",
            "False Positive Rate: 0.34\n",
            "\n",
            "Classification report:\n",
            "              precision    recall  f1-score   support\n",
            "\n",
            "           0       0.66      0.66      0.66     92574\n",
            "           1       0.67      0.67      0.67     95063\n",
            "\n",
            "    accuracy                           0.66    187637\n",
            "   macro avg       0.66      0.66      0.66    187637\n",
            "weighted avg       0.66      0.66      0.66    187637\n",
            "\n",
            "AUC: 0.66\n"
          ]
        },
        {
          "output_type": "display_data",
          "data": {
            "image/png": "[encoded data removed]",
            "text/plain": [
              "<Figure size 432x288 with 1 Axes>"
            ]
          },
          "metadata": {
            "needs_background": "light"
          }
        },
        {
          "output_type": "stream",
          "name": "stdout",
          "text": [
            "Train AUC: 0.662 vs Test AUC: 0.661\n"
          ]
        }
      ]
    },
    {
      "cell_type": "markdown",
      "metadata": {
        "id": "bZ-JMcBqmnN9"
      },
      "source": [
        "# **BERT**\n"
      ]
    },
    {
      "cell_type": "code",
      "metadata": {
        "colab": {
          "base_uri": "https://localhost:8080/",
          "height": 819
        },
        "id": "7k6L-u3Lmmpb",
        "outputId": "e6ca7327-b22b-4bcb-cb25-a2dd37fb757c"
      },
      "source": [
        "!pip install pytorch_pretrained_bert pytorch-nlp"
      ],
      "execution_count": 48,
      "outputs": [
        {
          "output_type": "stream",
          "name": "stdout",
          "text": [
            "Collecting pytorch_pretrained_bert\n",
            "  Downloading pytorch_pretrained_bert-0.6.2-py3-none-any.whl (123 kB)\n",
            "\u001b[?25l\r\u001b[K     |██▋                             | 10 kB 19.3 MB/s eta 0:00:01\r\u001b[K     |█████▎                          | 20 kB 23.6 MB/s eta 0:00:01\r\u001b[K     |████████                        | 30 kB 26.6 MB/s eta 0:00:01\r\u001b[K     |██████████▋                     | 40 kB 28.8 MB/s eta 0:00:01\r\u001b[K     |█████████████▎                  | 51 kB 31.7 MB/s eta 0:00:01\r\u001b[K     |███████████████▉                | 61 kB 34.0 MB/s eta 0:00:01\r\u001b[K     |██████████████████▌             | 71 kB 35.8 MB/s eta 0:00:01\r\u001b[K     |█████████████████████▏          | 81 kB 35.3 MB/s eta 0:00:01\r\u001b[K     |███████████████████████▉        | 92 kB 36.6 MB/s eta 0:00:01\r\u001b[K     |██████████████████████████▌     | 102 kB 38.4 MB/s eta 0:00:01\r\u001b[K     |█████████████████████████████▏  | 112 kB 38.4 MB/s eta 0:00:01\r\u001b[K     |███████████████████████████████▊| 122 kB 38.4 MB/s eta 0:00:01\r\u001b[K     |████████████████████████████████| 123 kB 38.4 MB/s \n",
            "\u001b[?25hCollecting pytorch-nlp\n",
            "  Downloading pytorch_nlp-0.5.0-py3-none-any.whl (90 kB)\n",
            "\u001b[?25l\r\u001b[K     |███▋                            | 10 kB 25.8 MB/s eta 0:00:01\r\u001b[K     |███████▎                        | 20 kB 32.6 MB/s eta 0:00:01\r\u001b[K     |███████████                     | 30 kB 41.6 MB/s eta 0:00:01\r\u001b[K     |██████████████▌                 | 40 kB 47.4 MB/s eta 0:00:01\r\u001b[K     |██████████████████▏             | 51 kB 49.5 MB/s eta 0:00:01\r\u001b[K     |█████████████████████▉          | 61 kB 54.5 MB/s eta 0:00:01\r\u001b[K     |█████████████████████████▌      | 71 kB 55.1 MB/s eta 0:00:01\r\u001b[K     |█████████████████████████████   | 81 kB 56.4 MB/s eta 0:00:01\r\u001b[K     |████████████████████████████████| 90 kB 8.8 MB/s \n",
            "\u001b[?25hRequirement already satisfied: regex in /usr/local/lib/python3.7/dist-packages (from pytorch_pretrained_bert) (2019.12.20)\n",
            "Requirement already satisfied: numpy in /usr/local/lib/python3.7/dist-packages (from pytorch_pretrained_bert) (1.19.5)\n",
            "Collecting boto3\n",
            "  Downloading boto3-1.18.50-py3-none-any.whl (131 kB)\n",
            "\u001b[K     |████████████████████████████████| 131 kB 66.6 MB/s \n",
            "\u001b[?25hRequirement already satisfied: torch>=0.4.1 in /usr/local/lib/python3.7/dist-packages (from pytorch_pretrained_bert) (1.9.0+cu102)\n",
            "Requirement already satisfied: requests in /usr/local/lib/python3.7/dist-packages (from pytorch_pretrained_bert) (2.23.0)\n",
            "Requirement already satisfied: tqdm in /usr/local/lib/python3.7/dist-packages (from pytorch_pretrained_bert) (4.62.3)\n",
            "Requirement already satisfied: typing-extensions in /usr/local/lib/python3.7/dist-packages (from torch>=0.4.1->pytorch_pretrained_bert) (3.7.4.3)\n",
            "Collecting botocore<1.22.0,>=1.21.50\n",
            "  Downloading botocore-1.21.50-py3-none-any.whl (8.0 MB)\n",
            "\u001b[K     |████████████████████████████████| 8.0 MB 37.7 MB/s \n",
            "\u001b[?25hCollecting jmespath<1.0.0,>=0.7.1\n",
            "  Downloading jmespath-0.10.0-py2.py3-none-any.whl (24 kB)\n",
            "Collecting s3transfer<0.6.0,>=0.5.0\n",
            "  Downloading s3transfer-0.5.0-py3-none-any.whl (79 kB)\n",
            "\u001b[K     |████████████████████████████████| 79 kB 8.6 MB/s \n",
            "\u001b[?25hRequirement already satisfied: python-dateutil<3.0.0,>=2.1 in /usr/local/lib/python3.7/dist-packages (from botocore<1.22.0,>=1.21.50->boto3->pytorch_pretrained_bert) (2.8.2)\n",
            "Collecting urllib3<1.27,>=1.25.4\n",
            "  Downloading urllib3-1.26.7-py2.py3-none-any.whl (138 kB)\n",
            "\u001b[K     |████████████████████████████████| 138 kB 77.5 MB/s \n",
            "\u001b[?25hRequirement already satisfied: six>=1.5 in /usr/local/lib/python3.7/dist-packages (from python-dateutil<3.0.0,>=2.1->botocore<1.22.0,>=1.21.50->boto3->pytorch_pretrained_bert) (1.15.0)\n",
            "Requirement already satisfied: idna<3,>=2.5 in /usr/local/lib/python3.7/dist-packages (from requests->pytorch_pretrained_bert) (2.10)\n",
            "Requirement already satisfied: certifi>=2017.4.17 in /usr/local/lib/python3.7/dist-packages (from requests->pytorch_pretrained_bert) (2021.5.30)\n",
            "Requirement already satisfied: chardet<4,>=3.0.2 in /usr/local/lib/python3.7/dist-packages (from requests->pytorch_pretrained_bert) (3.0.4)\n",
            "  Downloading urllib3-1.25.11-py2.py3-none-any.whl (127 kB)\n",
            "\u001b[K     |████████████████████████████████| 127 kB 67.2 MB/s \n",
            "\u001b[?25hInstalling collected packages: urllib3, jmespath, botocore, s3transfer, boto3, pytorch-pretrained-bert, pytorch-nlp\n",
            "  Attempting uninstall: urllib3\n",
            "    Found existing installation: urllib3 1.24.3\n",
            "    Uninstalling urllib3-1.24.3:\n",
            "      Successfully uninstalled urllib3-1.24.3\n",
            "\u001b[31mERROR: pip's dependency resolver does not currently take into account all the packages that are installed. This behaviour is the source of the following dependency conflicts.\n",
            "datascience 0.10.6 requires folium==0.2.1, but you have folium 0.8.3 which is incompatible.\u001b[0m\n",
            "Successfully installed boto3-1.18.50 botocore-1.21.50 jmespath-0.10.0 pytorch-nlp-0.5.0 pytorch-pretrained-bert-0.6.2 s3transfer-0.5.0 urllib3-1.25.11\n"
          ]
        },
        {
          "output_type": "display_data",
          "data": {
            "application/vnd.colab-display-data+json": {
              "pip_warning": {
                "packages": [
                  "urllib3"
                ]
              }
            }
          },
          "metadata": {}
        }
      ]
    },
    {
      "cell_type": "code",
      "metadata": {
        "id": "TsHMmMB76B9W"
      },
      "source": [
        "from pytorch_pretrained_bert import BertModel\n",
        "from torch import nn\n",
        "from pytorch_pretrained_bert import BertTokenizer\n",
        "from keras.preprocessing.sequence import pad_sequences\n",
        "import torch\n",
        "from torch.utils.data import TensorDataset, DataLoader, RandomSampler, SequentialSampler\n",
        "from torch.optim import Adam\n",
        "from torch.nn.utils import clip_grad_norm_\n",
        "from IPython.display import clear_output"
      ],
      "execution_count": 49,
      "outputs": []
    },
    {
      "cell_type": "markdown",
      "metadata": {
        "id": "J_NgiJJQm6Xx"
      },
      "source": [
        "**Prepare for Train and test data for BERT**"
      ]
    },
    {
      "cell_type": "code",
      "metadata": {
        "colab": {
          "base_uri": "https://localhost:8080/"
        },
        "id": "fDMTse2Jm0Bc",
        "outputId": "e899dcfd-0c55-4a29-db5f-095047d13552"
      },
      "source": [
        "train_texts = []\n",
        "for i in range(x_train.shape[0]):\n",
        "     train_texts.append(\" \".join(np.array(x_train.iloc[i,:]).astype(str)))\n",
        "train_texts = tuple(train_texts) \n",
        "\n",
        "test_texts = []\n",
        "for i in range(x_test.shape[0]):\n",
        "     test_texts.append(\" \".join(np.array(x_test.iloc[i,:]).astype(str)))\n",
        "test_texts = tuple(test_texts) \n",
        "\n",
        "train_labels = tuple(y_train.tolist())\n",
        "test_labels = tuple(y_test.tolist())\n",
        "\n",
        "len(train_texts), len(train_labels), len(test_texts), len(test_labels)"
      ],
      "execution_count": 50,
      "outputs": [
        {
          "output_type": "execute_result",
          "data": {
            "text/plain": [
              "(437818, 437818, 187637, 187637)"
            ]
          },
          "metadata": {},
          "execution_count": 50
        }
      ]
    },
    {
      "cell_type": "code",
      "metadata": {
        "colab": {
          "base_uri": "https://localhost:8080/"
        },
        "id": "Gf2Lbwylm_ia",
        "outputId": "fc820fcc-34fb-4009-f874-b5cfd20001f0"
      },
      "source": [
        "# Tokenizer \n",
        "tokenizer = BertTokenizer.from_pretrained('bert-base-uncased', do_lower_case=True)\n",
        "\n",
        "# Example\n",
        "tokenizer.tokenize(train_texts[8])"
      ],
      "execution_count": 51,
      "outputs": [
        {
          "output_type": "stream",
          "name": "stderr",
          "text": [
            "100%|██████████| 231508/231508 [00:00<00:00, 18775183.31B/s]\n"
          ]
        },
        {
          "output_type": "execute_result",
          "data": {
            "text/plain": [
              "['265', '3', '104', '175', '142', '265']"
            ]
          },
          "metadata": {},
          "execution_count": 51
        }
      ]
    },
    {
      "cell_type": "code",
      "metadata": {
        "colab": {
          "base_uri": "https://localhost:8080/"
        },
        "id": "_dp_XAarnZqN",
        "outputId": "fb9aa969-3f2c-4bb6-9ba6-91a785ed1d87"
      },
      "source": [
        "# Convert to tokens using tokenizer\n",
        "train_tokens = list(map(lambda t: ['[CLS]'] + tokenizer.tokenize(t)[:20] + ['[SEP]'], train_texts))\n",
        "test_tokens = list(map(lambda t: ['[CLS]'] + tokenizer.tokenize(t)[:20] + ['[SEP]'], test_texts))\n",
        "\n",
        "print('Number of Training Sequences:',len(train_tokens), '\\nNumber of Testing Sequences:', len(test_tokens) )       "
      ],
      "execution_count": 52,
      "outputs": [
        {
          "output_type": "stream",
          "name": "stdout",
          "text": [
            "Number of Training Sequences: 437818 \n",
            "Number of Testing Sequences: 187637\n"
          ]
        }
      ]
    },
    {
      "cell_type": "code",
      "metadata": {
        "colab": {
          "base_uri": "https://localhost:8080/"
        },
        "id": "8MH_bWrznbYv",
        "outputId": "2031da30-b3be-432a-8b1c-60a12237ad7f"
      },
      "source": [
        "# Following is to convert List of words to list of numbers. (Words are replaced by their index in dictionar)\n",
        "train_tokens_ids = pad_sequences(list(map(tokenizer.convert_tokens_to_ids, train_tokens)), maxlen=20, truncating=\"post\", padding=\"post\", dtype=\"int\")\n",
        "test_tokens_ids = pad_sequences(list(map(tokenizer.convert_tokens_to_ids, test_tokens)), maxlen=20, truncating=\"post\", padding=\"post\", dtype=\"int\")\n",
        "\n",
        "train_tokens_ids.shape, test_tokens_ids.shape"
      ],
      "execution_count": 53,
      "outputs": [
        {
          "output_type": "execute_result",
          "data": {
            "text/plain": [
              "((437818, 20), (187637, 20))"
            ]
          },
          "metadata": {},
          "execution_count": 53
        }
      ]
    },
    {
      "cell_type": "code",
      "metadata": {
        "colab": {
          "base_uri": "https://localhost:8080/"
        },
        "id": "2B9WKzfendjw",
        "outputId": "0ea48951-d1a7-4167-a4d0-f9c8c88ecc03"
      },
      "source": [
        "# Prepare labels\n",
        "# True if intrusion or False if normal\n",
        "train_y = np.array(train_labels) == 1\n",
        "test_y = np.array(test_labels) == 1\n",
        "train_y.shape, test_y.shape, np.mean(train_y), np.mean(test_y)"
      ],
      "execution_count": 54,
      "outputs": [
        {
          "output_type": "execute_result",
          "data": {
            "text/plain": [
              "((437818,), (187637,), 0.5077909085510418, 0.506632487196022)"
            ]
          },
          "metadata": {},
          "execution_count": 54
        }
      ]
    },
    {
      "cell_type": "code",
      "metadata": {
        "id": "B1q-b-LKnfbH"
      },
      "source": [
        "# To mask the paddings\n",
        "train_masks = [[float(i > 0) for i in ii] for ii in train_tokens_ids]\n",
        "test_masks = [[float(i > 0) for i in ii] for ii in test_tokens_ids]"
      ],
      "execution_count": 55,
      "outputs": []
    },
    {
      "cell_type": "code",
      "metadata": {
        "id": "7tZ3gKOtng_v"
      },
      "source": [
        "# Define BERT model\n",
        "class BertBinaryClassifier(nn.Module):\n",
        "    def __init__(self, dropout=0.1):\n",
        "        super(BertBinaryClassifier, self).__init__()\n",
        "\n",
        "        self.bert = BertModel.from_pretrained('bert-base-uncased')\n",
        "        self.dropout = nn.Dropout(dropout)\n",
        "        self.linear = nn.Linear(768, 1)\n",
        "        self.sigmoid = nn.Sigmoid()\n",
        "    \n",
        "    def forward(self, tokens, masks=None):\n",
        "        # First Layer\n",
        "        _, pooled_output = self.bert(tokens, attention_mask=masks, output_all_encoded_layers=False)\n",
        "\n",
        "        dropout_output = self.dropout(pooled_output)\n",
        "\n",
        "        linear_output = self.linear(dropout_output)\n",
        "        \n",
        "        # output layer\n",
        "        proba = self.sigmoid(linear_output)\n",
        "        \n",
        "        return proba\n",
        "      \n",
        "    def train_m(self,x,y,train_mask,epochs,batchsize):\n",
        "      train_tokens_tensor = torch.tensor(x)\n",
        "      train_y_tensor = torch.tensor(y.reshape(-1, 1)).float()\n",
        "      train_masks_tensor = torch.tensor(train_mask)\n",
        "\n",
        "      train_dataset = TensorDataset(train_tokens_tensor, train_masks_tensor, train_y_tensor)\n",
        "      train_sampler = RandomSampler(train_dataset)\n",
        "      train_dataloader = DataLoader(train_dataset, sampler=train_sampler, batch_size=batchsize) \n",
        "\n",
        "\n",
        "      param_optimizer = list(self.sigmoid.named_parameters()) \n",
        "      optimizer_grouped_parameters = [{\"params\": [p for n, p in param_optimizer]}]\n",
        "      optimizer = Adam(self.bert.parameters(), lr=2e-5)\n",
        "      for epoch_num in range(epochs):\n",
        "          self.train() # Training Flag\n",
        "          train_loss = 0\n",
        "          for step_num, batch_data in enumerate(train_dataloader):\n",
        "              \n",
        "              # Load batch on device memory\n",
        "              token_ids, masks, labels = tuple(t.to(device) for t in batch_data)\n",
        "\n",
        "              # Get the output of the model for provided input\n",
        "              logits = self(token_ids, masks)\n",
        "              \n",
        "              # Loss function\n",
        "              loss_func = nn.BCELoss()\n",
        "\n",
        "              # Calculate Loss\n",
        "              batch_loss = loss_func(logits, labels)\n",
        "              train_loss += batch_loss.item()\n",
        "              \n",
        "              # backpropagate the error\n",
        "              self.zero_grad()\n",
        "              batch_loss.backward()\n",
        "              \n",
        "              # Update the Weights of the Model\n",
        "              clip_grad_norm_(parameters=self.parameters(), max_norm=1.0)\n",
        "              optimizer.step()\n",
        "              \n",
        "              clear_output(wait=True)\n",
        "              print('Epoch: ', epoch_num + 1)\n",
        "              print(\"\\r\" + \"{0}/{1} loss: {2} \".format(step_num, len(train_labels) / batchsize, train_loss / (step_num + 1)))        "
      ],
      "execution_count": 56,
      "outputs": []
    },
    {
      "cell_type": "code",
      "metadata": {
        "colab": {
          "base_uri": "https://localhost:8080/"
        },
        "id": "MA0ADfkpnjgv",
        "outputId": "2fe38cd2-6ebe-4dda-dd48-c4e7f8641c3b"
      },
      "source": [
        "device = torch.device(\"cuda\" if torch.cuda.is_available() else \"cpu\")\n",
        "device"
      ],
      "execution_count": 57,
      "outputs": [
        {
          "output_type": "execute_result",
          "data": {
            "text/plain": [
              "device(type='cpu')"
            ]
          },
          "metadata": {},
          "execution_count": 57
        }
      ]
    },
    {
      "cell_type": "code",
      "metadata": {
        "colab": {
          "base_uri": "https://localhost:8080/",
          "height": 340
        },
        "id": "1CZERb2Onk_v",
        "outputId": "f5695f0a-2653-4cd2-a577-999d600bf886"
      },
      "source": [
        "bert_clf = BertBinaryClassifier()\n",
        "bert_clf = bert_clf.cuda()"
      ],
      "execution_count": 58,
      "outputs": [
        {
          "output_type": "stream",
          "name": "stderr",
          "text": [
            "100%|██████████| 407873900/407873900 [00:10<00:00, 38038051.28B/s]\n"
          ]
        },
        {
          "output_type": "error",
          "ename": "RuntimeError",
          "evalue": "ignored",
          "traceback": [
            "\u001b[0;31m---------------------------------------------------------------------------\u001b[0m",
            "\u001b[0;31mRuntimeError\u001b[0m                              Traceback (most recent call last)",
            "\u001b[0;32m<ipython-input-58-cd0668ab1122>\u001b[0m in \u001b[0;36m<module>\u001b[0;34m()\u001b[0m\n\u001b[1;32m      1\u001b[0m \u001b[0mbert_clf\u001b[0m \u001b[0;34m=\u001b[0m \u001b[0mBertBinaryClassifier\u001b[0m\u001b[0;34m(\u001b[0m\u001b[0;34m)\u001b[0m\u001b[0;34m\u001b[0m\u001b[0;34m\u001b[0m\u001b[0m\n\u001b[0;32m----> 2\u001b[0;31m \u001b[0mbert_clf\u001b[0m \u001b[0;34m=\u001b[0m \u001b[0mbert_clf\u001b[0m\u001b[0;34m.\u001b[0m\u001b[0mcuda\u001b[0m\u001b[0;34m(\u001b[0m\u001b[0;34m)\u001b[0m\u001b[0;34m\u001b[0m\u001b[0;34m\u001b[0m\u001b[0m\n\u001b[0m",
            "\u001b[0;32m/usr/local/lib/python3.7/dist-packages/torch/nn/modules/module.py\u001b[0m in \u001b[0;36mcuda\u001b[0;34m(self, device)\u001b[0m\n\u001b[1;32m    635\u001b[0m             \u001b[0mModule\u001b[0m\u001b[0;34m:\u001b[0m \u001b[0mself\u001b[0m\u001b[0;34m\u001b[0m\u001b[0;34m\u001b[0m\u001b[0m\n\u001b[1;32m    636\u001b[0m         \"\"\"\n\u001b[0;32m--> 637\u001b[0;31m         \u001b[0;32mreturn\u001b[0m \u001b[0mself\u001b[0m\u001b[0;34m.\u001b[0m\u001b[0m_apply\u001b[0m\u001b[0;34m(\u001b[0m\u001b[0;32mlambda\u001b[0m \u001b[0mt\u001b[0m\u001b[0;34m:\u001b[0m \u001b[0mt\u001b[0m\u001b[0;34m.\u001b[0m\u001b[0mcuda\u001b[0m\u001b[0;34m(\u001b[0m\u001b[0mdevice\u001b[0m\u001b[0;34m)\u001b[0m\u001b[0;34m)\u001b[0m\u001b[0;34m\u001b[0m\u001b[0;34m\u001b[0m\u001b[0m\n\u001b[0m\u001b[1;32m    638\u001b[0m \u001b[0;34m\u001b[0m\u001b[0m\n\u001b[1;32m    639\u001b[0m     \u001b[0;32mdef\u001b[0m \u001b[0mxpu\u001b[0m\u001b[0;34m(\u001b[0m\u001b[0mself\u001b[0m\u001b[0;34m:\u001b[0m \u001b[0mT\u001b[0m\u001b[0;34m,\u001b[0m \u001b[0mdevice\u001b[0m\u001b[0;34m:\u001b[0m \u001b[0mOptional\u001b[0m\u001b[0;34m[\u001b[0m\u001b[0mUnion\u001b[0m\u001b[0;34m[\u001b[0m\u001b[0mint\u001b[0m\u001b[0;34m,\u001b[0m \u001b[0mdevice\u001b[0m\u001b[0;34m]\u001b[0m\u001b[0;34m]\u001b[0m \u001b[0;34m=\u001b[0m \u001b[0;32mNone\u001b[0m\u001b[0;34m)\u001b[0m \u001b[0;34m->\u001b[0m \u001b[0mT\u001b[0m\u001b[0;34m:\u001b[0m\u001b[0;34m\u001b[0m\u001b[0;34m\u001b[0m\u001b[0m\n",
            "\u001b[0;32m/usr/local/lib/python3.7/dist-packages/torch/nn/modules/module.py\u001b[0m in \u001b[0;36m_apply\u001b[0;34m(self, fn)\u001b[0m\n\u001b[1;32m    528\u001b[0m     \u001b[0;32mdef\u001b[0m \u001b[0m_apply\u001b[0m\u001b[0;34m(\u001b[0m\u001b[0mself\u001b[0m\u001b[0;34m,\u001b[0m \u001b[0mfn\u001b[0m\u001b[0;34m)\u001b[0m\u001b[0;34m:\u001b[0m\u001b[0;34m\u001b[0m\u001b[0;34m\u001b[0m\u001b[0m\n\u001b[1;32m    529\u001b[0m         \u001b[0;32mfor\u001b[0m \u001b[0mmodule\u001b[0m \u001b[0;32min\u001b[0m \u001b[0mself\u001b[0m\u001b[0;34m.\u001b[0m\u001b[0mchildren\u001b[0m\u001b[0;34m(\u001b[0m\u001b[0;34m)\u001b[0m\u001b[0;34m:\u001b[0m\u001b[0;34m\u001b[0m\u001b[0;34m\u001b[0m\u001b[0m\n\u001b[0;32m--> 530\u001b[0;31m             \u001b[0mmodule\u001b[0m\u001b[0;34m.\u001b[0m\u001b[0m_apply\u001b[0m\u001b[0;34m(\u001b[0m\u001b[0mfn\u001b[0m\u001b[0;34m)\u001b[0m\u001b[0;34m\u001b[0m\u001b[0;34m\u001b[0m\u001b[0m\n\u001b[0m\u001b[1;32m    531\u001b[0m \u001b[0;34m\u001b[0m\u001b[0m\n\u001b[1;32m    532\u001b[0m         \u001b[0;32mdef\u001b[0m \u001b[0mcompute_should_use_set_data\u001b[0m\u001b[0;34m(\u001b[0m\u001b[0mtensor\u001b[0m\u001b[0;34m,\u001b[0m \u001b[0mtensor_applied\u001b[0m\u001b[0;34m)\u001b[0m\u001b[0;34m:\u001b[0m\u001b[0;34m\u001b[0m\u001b[0;34m\u001b[0m\u001b[0m\n",
            "\u001b[0;32m/usr/local/lib/python3.7/dist-packages/torch/nn/modules/module.py\u001b[0m in \u001b[0;36m_apply\u001b[0;34m(self, fn)\u001b[0m\n\u001b[1;32m    528\u001b[0m     \u001b[0;32mdef\u001b[0m \u001b[0m_apply\u001b[0m\u001b[0;34m(\u001b[0m\u001b[0mself\u001b[0m\u001b[0;34m,\u001b[0m \u001b[0mfn\u001b[0m\u001b[0;34m)\u001b[0m\u001b[0;34m:\u001b[0m\u001b[0;34m\u001b[0m\u001b[0;34m\u001b[0m\u001b[0m\n\u001b[1;32m    529\u001b[0m         \u001b[0;32mfor\u001b[0m \u001b[0mmodule\u001b[0m \u001b[0;32min\u001b[0m \u001b[0mself\u001b[0m\u001b[0;34m.\u001b[0m\u001b[0mchildren\u001b[0m\u001b[0;34m(\u001b[0m\u001b[0;34m)\u001b[0m\u001b[0;34m:\u001b[0m\u001b[0;34m\u001b[0m\u001b[0;34m\u001b[0m\u001b[0m\n\u001b[0;32m--> 530\u001b[0;31m             \u001b[0mmodule\u001b[0m\u001b[0;34m.\u001b[0m\u001b[0m_apply\u001b[0m\u001b[0;34m(\u001b[0m\u001b[0mfn\u001b[0m\u001b[0;34m)\u001b[0m\u001b[0;34m\u001b[0m\u001b[0;34m\u001b[0m\u001b[0m\n\u001b[0m\u001b[1;32m    531\u001b[0m \u001b[0;34m\u001b[0m\u001b[0m\n\u001b[1;32m    532\u001b[0m         \u001b[0;32mdef\u001b[0m \u001b[0mcompute_should_use_set_data\u001b[0m\u001b[0;34m(\u001b[0m\u001b[0mtensor\u001b[0m\u001b[0;34m,\u001b[0m \u001b[0mtensor_applied\u001b[0m\u001b[0;34m)\u001b[0m\u001b[0;34m:\u001b[0m\u001b[0;34m\u001b[0m\u001b[0;34m\u001b[0m\u001b[0m\n",
            "\u001b[0;32m/usr/local/lib/python3.7/dist-packages/torch/nn/modules/module.py\u001b[0m in \u001b[0;36m_apply\u001b[0;34m(self, fn)\u001b[0m\n\u001b[1;32m    528\u001b[0m     \u001b[0;32mdef\u001b[0m \u001b[0m_apply\u001b[0m\u001b[0;34m(\u001b[0m\u001b[0mself\u001b[0m\u001b[0;34m,\u001b[0m \u001b[0mfn\u001b[0m\u001b[0;34m)\u001b[0m\u001b[0;34m:\u001b[0m\u001b[0;34m\u001b[0m\u001b[0;34m\u001b[0m\u001b[0m\n\u001b[1;32m    529\u001b[0m         \u001b[0;32mfor\u001b[0m \u001b[0mmodule\u001b[0m \u001b[0;32min\u001b[0m \u001b[0mself\u001b[0m\u001b[0;34m.\u001b[0m\u001b[0mchildren\u001b[0m\u001b[0;34m(\u001b[0m\u001b[0;34m)\u001b[0m\u001b[0;34m:\u001b[0m\u001b[0;34m\u001b[0m\u001b[0;34m\u001b[0m\u001b[0m\n\u001b[0;32m--> 530\u001b[0;31m             \u001b[0mmodule\u001b[0m\u001b[0;34m.\u001b[0m\u001b[0m_apply\u001b[0m\u001b[0;34m(\u001b[0m\u001b[0mfn\u001b[0m\u001b[0;34m)\u001b[0m\u001b[0;34m\u001b[0m\u001b[0;34m\u001b[0m\u001b[0m\n\u001b[0m\u001b[1;32m    531\u001b[0m \u001b[0;34m\u001b[0m\u001b[0m\n\u001b[1;32m    532\u001b[0m         \u001b[0;32mdef\u001b[0m \u001b[0mcompute_should_use_set_data\u001b[0m\u001b[0;34m(\u001b[0m\u001b[0mtensor\u001b[0m\u001b[0;34m,\u001b[0m \u001b[0mtensor_applied\u001b[0m\u001b[0;34m)\u001b[0m\u001b[0;34m:\u001b[0m\u001b[0;34m\u001b[0m\u001b[0;34m\u001b[0m\u001b[0m\n",
            "\u001b[0;32m/usr/local/lib/python3.7/dist-packages/torch/nn/modules/module.py\u001b[0m in \u001b[0;36m_apply\u001b[0;34m(self, fn)\u001b[0m\n\u001b[1;32m    550\u001b[0m                 \u001b[0;31m# `with torch.no_grad():`\u001b[0m\u001b[0;34m\u001b[0m\u001b[0;34m\u001b[0m\u001b[0;34m\u001b[0m\u001b[0m\n\u001b[1;32m    551\u001b[0m                 \u001b[0;32mwith\u001b[0m \u001b[0mtorch\u001b[0m\u001b[0;34m.\u001b[0m\u001b[0mno_grad\u001b[0m\u001b[0;34m(\u001b[0m\u001b[0;34m)\u001b[0m\u001b[0;34m:\u001b[0m\u001b[0;34m\u001b[0m\u001b[0;34m\u001b[0m\u001b[0m\n\u001b[0;32m--> 552\u001b[0;31m                     \u001b[0mparam_applied\u001b[0m \u001b[0;34m=\u001b[0m \u001b[0mfn\u001b[0m\u001b[0;34m(\u001b[0m\u001b[0mparam\u001b[0m\u001b[0;34m)\u001b[0m\u001b[0;34m\u001b[0m\u001b[0;34m\u001b[0m\u001b[0m\n\u001b[0m\u001b[1;32m    553\u001b[0m                 \u001b[0mshould_use_set_data\u001b[0m \u001b[0;34m=\u001b[0m \u001b[0mcompute_should_use_set_data\u001b[0m\u001b[0;34m(\u001b[0m\u001b[0mparam\u001b[0m\u001b[0;34m,\u001b[0m \u001b[0mparam_applied\u001b[0m\u001b[0;34m)\u001b[0m\u001b[0;34m\u001b[0m\u001b[0;34m\u001b[0m\u001b[0m\n\u001b[1;32m    554\u001b[0m                 \u001b[0;32mif\u001b[0m \u001b[0mshould_use_set_data\u001b[0m\u001b[0;34m:\u001b[0m\u001b[0;34m\u001b[0m\u001b[0;34m\u001b[0m\u001b[0m\n",
            "\u001b[0;32m/usr/local/lib/python3.7/dist-packages/torch/nn/modules/module.py\u001b[0m in \u001b[0;36m<lambda>\u001b[0;34m(t)\u001b[0m\n\u001b[1;32m    635\u001b[0m             \u001b[0mModule\u001b[0m\u001b[0;34m:\u001b[0m \u001b[0mself\u001b[0m\u001b[0;34m\u001b[0m\u001b[0;34m\u001b[0m\u001b[0m\n\u001b[1;32m    636\u001b[0m         \"\"\"\n\u001b[0;32m--> 637\u001b[0;31m         \u001b[0;32mreturn\u001b[0m \u001b[0mself\u001b[0m\u001b[0;34m.\u001b[0m\u001b[0m_apply\u001b[0m\u001b[0;34m(\u001b[0m\u001b[0;32mlambda\u001b[0m \u001b[0mt\u001b[0m\u001b[0;34m:\u001b[0m \u001b[0mt\u001b[0m\u001b[0;34m.\u001b[0m\u001b[0mcuda\u001b[0m\u001b[0;34m(\u001b[0m\u001b[0mdevice\u001b[0m\u001b[0;34m)\u001b[0m\u001b[0;34m)\u001b[0m\u001b[0;34m\u001b[0m\u001b[0;34m\u001b[0m\u001b[0m\n\u001b[0m\u001b[1;32m    638\u001b[0m \u001b[0;34m\u001b[0m\u001b[0m\n\u001b[1;32m    639\u001b[0m     \u001b[0;32mdef\u001b[0m \u001b[0mxpu\u001b[0m\u001b[0;34m(\u001b[0m\u001b[0mself\u001b[0m\u001b[0;34m:\u001b[0m \u001b[0mT\u001b[0m\u001b[0;34m,\u001b[0m \u001b[0mdevice\u001b[0m\u001b[0;34m:\u001b[0m \u001b[0mOptional\u001b[0m\u001b[0;34m[\u001b[0m\u001b[0mUnion\u001b[0m\u001b[0;34m[\u001b[0m\u001b[0mint\u001b[0m\u001b[0;34m,\u001b[0m \u001b[0mdevice\u001b[0m\u001b[0;34m]\u001b[0m\u001b[0;34m]\u001b[0m \u001b[0;34m=\u001b[0m \u001b[0;32mNone\u001b[0m\u001b[0;34m)\u001b[0m \u001b[0;34m->\u001b[0m \u001b[0mT\u001b[0m\u001b[0;34m:\u001b[0m\u001b[0;34m\u001b[0m\u001b[0;34m\u001b[0m\u001b[0m\n",
            "\u001b[0;32m/usr/local/lib/python3.7/dist-packages/torch/cuda/__init__.py\u001b[0m in \u001b[0;36m_lazy_init\u001b[0;34m()\u001b[0m\n\u001b[1;32m    170\u001b[0m         \u001b[0;31m# This function throws if there's a driver initialization error, no GPUs\u001b[0m\u001b[0;34m\u001b[0m\u001b[0;34m\u001b[0m\u001b[0;34m\u001b[0m\u001b[0m\n\u001b[1;32m    171\u001b[0m         \u001b[0;31m# are found or any other error occurs\u001b[0m\u001b[0;34m\u001b[0m\u001b[0;34m\u001b[0m\u001b[0;34m\u001b[0m\u001b[0m\n\u001b[0;32m--> 172\u001b[0;31m         \u001b[0mtorch\u001b[0m\u001b[0;34m.\u001b[0m\u001b[0m_C\u001b[0m\u001b[0;34m.\u001b[0m\u001b[0m_cuda_init\u001b[0m\u001b[0;34m(\u001b[0m\u001b[0;34m)\u001b[0m\u001b[0;34m\u001b[0m\u001b[0;34m\u001b[0m\u001b[0m\n\u001b[0m\u001b[1;32m    173\u001b[0m         \u001b[0;31m# Some of the queued calls may reentrantly call _lazy_init();\u001b[0m\u001b[0;34m\u001b[0m\u001b[0;34m\u001b[0m\u001b[0;34m\u001b[0m\u001b[0m\n\u001b[1;32m    174\u001b[0m         \u001b[0;31m# we need to just return without initializing in that case.\u001b[0m\u001b[0;34m\u001b[0m\u001b[0;34m\u001b[0m\u001b[0;34m\u001b[0m\u001b[0m\n",
            "\u001b[0;31mRuntimeError\u001b[0m: No CUDA GPUs are available"
          ]
        }
      ]
    },
    {
      "cell_type": "markdown",
      "metadata": {
        "id": "pjM08A0OoGro"
      },
      "source": [
        "**Fine Tune BERT**"
      ]
    },
    {
      "cell_type": "code",
      "metadata": {
        "id": "uUS_cifIn1_Y"
      },
      "source": [
        "# Train BERT NLP\n",
        "bert_clf.train_m(train_tokens_ids,train_y,train_masks,2,256)"
      ],
      "execution_count": null,
      "outputs": []
    },
    {
      "cell_type": "markdown",
      "metadata": {
        "id": "RUTlJLsooNrq"
      },
      "source": [
        "**Evaluate on Testing Set**"
      ]
    },
    {
      "cell_type": "code",
      "metadata": {
        "id": "ly5Mhn9SoKxw"
      },
      "source": [
        "# Convert token ids to tensor \n",
        "test_tokens_tensor = torch.tensor(test_tokens_ids)\n",
        "\n",
        "# Convert labels to tensors\n",
        "test_y_tensor = torch.tensor(test_y.reshape(-1, 1)).float()\n",
        "\n",
        "# Convert to tensro for maks\n",
        "test_masks_tensor = torch.tensor(test_masks)\n",
        "\n",
        "# Load Token, token mask and label into Dataloader\n",
        "test_dataset = TensorDataset(test_tokens_tensor, test_masks_tensor, test_y_tensor)\n",
        "\n",
        "# Define sampler\n",
        "test_sampler = SequentialSampler(test_dataset)\n",
        "\n",
        "# Defile test data loader\n",
        "test_dataloader = DataLoader(test_dataset, sampler=test_sampler, batch_size=16)"
      ],
      "execution_count": null,
      "outputs": []
    },
    {
      "cell_type": "code",
      "metadata": {
        "id": "Q1gC8UusoWfo"
      },
      "source": [
        "bert_clf.eval() # Define eval\n",
        "bert_predicted = [] # To Store predicted result\n",
        "all_logits = [] # Actual output that is between 0 to 1 is stored here\n",
        "with torch.no_grad():\n",
        "    for step_num, batch_data in enumerate(test_dataloader):\n",
        "\n",
        "        # Load the batch on gpu memory\n",
        "        token_ids, masks, labels = tuple(t.to(device) for t in batch_data)\n",
        "\n",
        "        # Calculate ouput of bert\n",
        "        logits = bert_clf(token_ids, masks)\n",
        "\n",
        "        # Get the numpy logits\n",
        "        numpy_logits = logits.cpu().detach().numpy()  # Detach from the GPU memory\n",
        "        \n",
        "        # Using the threshold find binary \n",
        "        bert_predicted += list(numpy_logits[:, 0] > 0.5)  # Threshold conversion\n",
        "        all_logits += list(numpy_logits[:, 0])"
      ],
      "execution_count": null,
      "outputs": []
    },
    {
      "cell_type": "code",
      "metadata": {
        "id": "hKmOvtXDoiL9"
      },
      "source": [
        "print_performance('BERT',test_y, bert_predicted)\n",
        "\n",
        "# Recording TPR and FPR for the TESTING-ROC curves\n",
        "BERT_test = {}\n",
        "BERT_test['fpr'], BERT_test['tpr'], thresh = roc_curve(test_y, bert_predicted)\n",
        "BERT_test['auc'] = roc_auc_score(test_y, bert_predicted)"
      ],
      "execution_count": null,
      "outputs": []
    },
    {
      "cell_type": "markdown",
      "metadata": {
        "id": "mSuD_5c43X10"
      },
      "source": [
        "# **GPT-2**"
      ]
    },
    {
      "cell_type": "code",
      "metadata": {
        "id": "3HueSQ1KsukV"
      },
      "source": [
        "!pip install transformers\n",
        "\n",
        "from transformers import GPT2Tokenizer, GPT2ForSequenceClassification"
      ],
      "execution_count": null,
      "outputs": []
    },
    {
      "cell_type": "code",
      "metadata": {
        "id": "5-gD9nyo4S1D"
      },
      "source": [
        "tokenizer = GPT2Tokenizer.from_pretrained('microsoft/DialoGPT-small')"
      ],
      "execution_count": null,
      "outputs": []
    },
    {
      "cell_type": "code",
      "metadata": {
        "id": "LkYOrTFA4YUN"
      },
      "source": [
        "# Padding sequences from the right to a max length of 20\n",
        "tokenizer.padding_side = \"right\"\n",
        "tokenizer.pad_token = tokenizer.eos_token\n",
        "train_tokens = tokenizer(train_texts,return_tensors='pt',truncation=True,padding=True,max_length=20)\n",
        "test_tokens = tokenizer(test_texts,return_tensors='pt',truncation=True,padding=True,max_length=20)"
      ],
      "execution_count": null,
      "outputs": []
    },
    {
      "cell_type": "code",
      "metadata": {
        "id": "oHRofoti4g24"
      },
      "source": [
        "# Following is to convert List of words to list of numbers. (Words are replaced by their index in dictionar)\n",
        "\n",
        "train_tokens_ids = train_tokens.input_ids\n",
        "test_tokens_ids = test_tokens.input_ids\n",
        "\n",
        "train_tokens_ids.shape, test_tokens_ids.shape"
      ],
      "execution_count": null,
      "outputs": []
    },
    {
      "cell_type": "code",
      "metadata": {
        "id": "udvDwEdz4haO"
      },
      "source": [
        "train_masks = train_tokens.attention_mask\n",
        "test_masks = test_tokens.attention_mask"
      ],
      "execution_count": null,
      "outputs": []
    },
    {
      "cell_type": "markdown",
      "metadata": {
        "id": "23qklJA_6Q2L"
      },
      "source": [
        "**Create GPT-2 Classifer**"
      ]
    },
    {
      "cell_type": "code",
      "metadata": {
        "id": "2LiNms1g6PqS"
      },
      "source": [
        "class GTP2BinaryClassifier(nn.Module):\n",
        "    def __init__(self, dropout=0.1):\n",
        "        super(GTP2BinaryClassifier, self).__init__()\n",
        "        self.gtp2 = GPT2ForSequenceClassification.from_pretrained('microsoft/DialoGPT-small')\n",
        "      \n",
        "    def train_m(self,x,y,train_mask,epochs,batchsize):\n",
        "      train_tokens_tensor = torch.tensor(x)\n",
        "      train_y_tensor = torch.tensor(y.reshape(-1, 1)).long()\n",
        "      train_masks_tensor = torch.tensor(train_mask)\n",
        "\n",
        "      train_dataset = TensorDataset(train_tokens_tensor, train_masks_tensor, train_y_tensor)\n",
        "      train_sampler = RandomSampler(train_dataset)\n",
        "      train_dataloader = DataLoader(train_dataset, sampler=train_sampler, batch_size=batchsize) \n",
        "\n",
        "\n",
        "      # param_optimizer = list(self.gtp2.parameters()) \n",
        "      # optimizer_grouped_parameters = [{\"params\": [p for n, p in param_optimizer]}]\n",
        "      optimizer = Adam(self.gtp2.parameters(), lr=5e-5)\n",
        "      for epoch_num in range(epochs):\n",
        "          self.gtp2.train() # Training Flag\n",
        "          train_loss = 0\n",
        "          for step_num, batch_data in enumerate(train_dataloader):\n",
        "              \n",
        "              # Load batch on device memory\n",
        "              token_ids, masks, labels = tuple(t.to(device) for t in batch_data)\n",
        "              self.zero_grad()\n",
        "\n",
        "              # Get the output of the model for provided input\n",
        "              outputs = self.gtp2(token_ids,attention_mask=masks,labels=labels)\n",
        "              loss, logits = outputs[:2]\n",
        "              # logits = self(token_ids, masks)\n",
        "              \n",
        "              # Total Loss\n",
        "              train_loss += loss.item()\n",
        "              \n",
        "              # Backward pass the loss\n",
        "              loss.backward()\n",
        "              torch.nn.utils.clip_grad_norm_(self.gtp2.parameters(), 1.0)\n",
        "              \n",
        "              optimizer.step()\n",
        "              logits = logits.detach().cpu().numpy()\n",
        "\n",
        "              clear_output(wait=True)\n",
        "        \n",
        "              print('Epoch: ', epoch_num + 1)\n",
        "              print(\"\\r\" + \"{0}/{1} loss: {2} \".format(step_num, len(train_labels) / batchsize, train_loss / (step_num + 1)))\n",
        "        "
      ],
      "execution_count": null,
      "outputs": []
    },
    {
      "cell_type": "code",
      "metadata": {
        "id": "MPZ0MZU06Xxu"
      },
      "source": [
        "gtp_clf = GTP2BinaryClassifier()\n",
        "gtp_clf = gtp_clf.cuda()"
      ],
      "execution_count": null,
      "outputs": []
    },
    {
      "cell_type": "code",
      "metadata": {
        "id": "uc6BBhJ_6gQL"
      },
      "source": [
        "# Configure the Padding token id\n",
        "gtp_clf.gtp2.config.pad_token_id = tokenizer.eos_token_id\n",
        "gtp_clf.train_m(train_tokens_ids,train_y,train_masks,2,256)"
      ],
      "execution_count": null,
      "outputs": []
    },
    {
      "cell_type": "markdown",
      "metadata": {
        "id": "bIQXu7cL6n1g"
      },
      "source": [
        "**Evaluate on Testing Set**"
      ]
    },
    {
      "cell_type": "code",
      "metadata": {
        "id": "fpBPha-z6gyA"
      },
      "source": [
        "test_tokens_tensor = torch.tensor(test_tokens_ids)\n",
        "test_y_tensor = torch.tensor(test_y.reshape(-1, 1)).long()\n",
        "\n",
        "test_masks_tensor = torch.tensor(test_masks)\n",
        "\n",
        "\n",
        "test_dataset = TensorDataset(test_tokens_tensor, test_masks_tensor, test_y_tensor)\n",
        "test_sampler = SequentialSampler(test_dataset)\n",
        "test_dataloader = DataLoader(test_dataset, sampler=test_sampler, batch_size=128)\n"
      ],
      "execution_count": null,
      "outputs": []
    },
    {
      "cell_type": "code",
      "metadata": {
        "id": "9QSujIkh6s79"
      },
      "source": [
        "# Evaluate Model\n",
        "gtp_clf.eval() # Define eval\n",
        "gpt_predicted = [] # Store Result\n",
        "with torch.no_grad():\n",
        "    for step_num, batch_data in enumerate(test_dataloader):\n",
        "\n",
        "        token_ids, masks, labels = tuple(t.to(device) for t in batch_data)\n",
        "\n",
        "        # ----------------------------------------------------------------\n",
        "        outputs = gtp_clf.gtp2(token_ids,attention_mask=masks,labels=labels)\n",
        "        loss, logits = outputs[:2]\n",
        "        numpy_logits = logits.detach().cpu().numpy()\n",
        "        # ----------------------------------------------------------------\n",
        "        gpt_predicted +=list(numpy_logits.argmax(axis=-1).flatten().tolist())"
      ],
      "execution_count": null,
      "outputs": []
    },
    {
      "cell_type": "code",
      "metadata": {
        "id": "Ke386Aoj6xXG"
      },
      "source": [
        "print_performance('GPT2',test_y, gpt_predicted)\n",
        "\n",
        "# Recording TPR and FPR for the TESTING-ROC curves\n",
        "GPT_test = {}\n",
        "GPT_test['fpr'], GPT_test['tpr'], thresh = roc_curve(test_y, gpt_predicted)\n",
        "GPT_test['auc'] = roc_auc_score(test_y, gpt_predicted) "
      ],
      "execution_count": null,
      "outputs": []
    },
    {
      "cell_type": "markdown",
      "metadata": {
        "id": "uEo_klFtXk2P"
      },
      "source": [
        "# **Graphing multi-ROC Curves**"
      ]
    },
    {
      "cell_type": "code",
      "metadata": {
        "id": "DJgQwUXi62OA"
      },
      "source": [
        "# Ploting the overlaid ROC curves on testing results:\n",
        "graph_multi_ROC()"
      ],
      "execution_count": null,
      "outputs": []
    },
    {
      "cell_type": "code",
      "metadata": {
        "id": "d_CnqqsVvMS8"
      },
      "source": [
        ""
      ],
      "execution_count": null,
      "outputs": []
    }
  ]
}