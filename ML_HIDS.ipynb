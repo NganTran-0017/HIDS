{
  "nbformat": 4,
  "nbformat_minor": 0,
  "metadata": {
    "colab": {
      "name": "ML-HIDS.ipynb",
      "provenance": [],
      "collapsed_sections": [],
      "toc_visible": true,
      "include_colab_link": true
    },
    "kernelspec": {
      "display_name": "Python 3",
      "language": "python",
      "name": "python3"
    },
    "language_info": {
      "codemirror_mode": {
        "name": "ipython",
        "version": 3
      },
      "file_extension": ".py",
      "mimetype": "text/x-python",
      "name": "python",
      "nbconvert_exporter": "python",
      "pygments_lexer": "ipython3",
      "version": "3.8.5"
    }
  },
  "cells": [
    {
      "cell_type": "markdown",
      "metadata": {
        "id": "view-in-github",
        "colab_type": "text"
      },
      "source": [
        "<a href=\"https://colab.research.google.com/github/NganTran-0017/HIDS/blob/main/ML_HIDS.ipynb\" target=\"_parent\"><img src=\"https://colab.research.google.com/assets/colab-badge.svg\" alt=\"Open In Colab\"/></a>"
      ]
    },
    {
      "cell_type": "markdown",
      "metadata": {
        "id": "h1zufIrelKfl"
      },
      "source": [
        "!rm *.txt\n",
        "! rm *.int"
      ]
    },
    {
      "cell_type": "code",
      "metadata": {
        "id": "baLX852RsM7a"
      },
      "source": [
        "#@title Specify parameters before running\n",
        "\n",
        "\n",
        "SZ =  1#@param {type:\"number\"}         # Indicate a fraction number to sample train set when it's too big. Located in Data Partition\n",
        "\n",
        "SEQ_WINDOW =  15#@param {type:\"integer\"} # Indicate the window length to parse the sequence into. Used in Data Parsing section\n",
        "\n",
        "BATCH_SZ =  128#@param {type:\"integer\"} # Indicate the window length to parse the sequence into. Used in Data Parsing section\n",
        "\n",
        "EPOCHS =  2#@param {type:\"integer\"} # Indicate the window length to parse the sequence into. Used in Data Parsing section\n",
        "\n",
        "# Indicate to clean data or not. Used in Data Cleaning section\n",
        "CLEAN = True #@param {type:\"boolean\"}\n"
      ],
      "execution_count": 477,
      "outputs": []
    },
    {
      "cell_type": "code",
      "metadata": {
        "id": "dDDU0UkRplxK",
        "colab": {
          "base_uri": "https://localhost:8080/"
        },
        "outputId": "aef3f4c1-4ba5-4baf-ec86-79a063a2c036"
      },
      "source": [
        "import pandas as pd\n",
        "import numpy as np\n",
        "import matplotlib.pyplot as plt\n",
        "from scipy import stats\n",
        "from sklearn import metrics\n",
        "from sklearn.metrics import confusion_matrix, classification_report, roc_auc_score, accuracy_score, roc_curve, auc, recall_score, precision_score,plot_confusion_matrix\n",
        "from sklearn.model_selection import train_test_split\n",
        "%matplotlib inline\n",
        "\n",
        "import nltk\n",
        "nltk.download(\"popular\")\n",
        "\n",
        "## Tokenizing syscall sequences into n-grams of 6\n",
        "\n",
        "from nltk.tokenize import word_tokenize\n",
        "from nltk import ngrams"
      ],
      "execution_count": 478,
      "outputs": [
        {
          "output_type": "stream",
          "name": "stdout",
          "text": [
            "[nltk_data] Downloading collection 'popular'\n",
            "[nltk_data]    | \n",
            "[nltk_data]    | Downloading package cmudict to /root/nltk_data...\n",
            "[nltk_data]    |   Package cmudict is already up-to-date!\n",
            "[nltk_data]    | Downloading package gazetteers to /root/nltk_data...\n",
            "[nltk_data]    |   Package gazetteers is already up-to-date!\n",
            "[nltk_data]    | Downloading package genesis to /root/nltk_data...\n",
            "[nltk_data]    |   Package genesis is already up-to-date!\n",
            "[nltk_data]    | Downloading package gutenberg to /root/nltk_data...\n",
            "[nltk_data]    |   Package gutenberg is already up-to-date!\n",
            "[nltk_data]    | Downloading package inaugural to /root/nltk_data...\n",
            "[nltk_data]    |   Package inaugural is already up-to-date!\n",
            "[nltk_data]    | Downloading package movie_reviews to\n",
            "[nltk_data]    |     /root/nltk_data...\n",
            "[nltk_data]    |   Package movie_reviews is already up-to-date!\n",
            "[nltk_data]    | Downloading package names to /root/nltk_data...\n",
            "[nltk_data]    |   Package names is already up-to-date!\n",
            "[nltk_data]    | Downloading package shakespeare to /root/nltk_data...\n",
            "[nltk_data]    |   Package shakespeare is already up-to-date!\n",
            "[nltk_data]    | Downloading package stopwords to /root/nltk_data...\n",
            "[nltk_data]    |   Package stopwords is already up-to-date!\n",
            "[nltk_data]    | Downloading package treebank to /root/nltk_data...\n",
            "[nltk_data]    |   Package treebank is already up-to-date!\n",
            "[nltk_data]    | Downloading package twitter_samples to\n",
            "[nltk_data]    |     /root/nltk_data...\n",
            "[nltk_data]    |   Package twitter_samples is already up-to-date!\n",
            "[nltk_data]    | Downloading package omw to /root/nltk_data...\n",
            "[nltk_data]    |   Package omw is already up-to-date!\n",
            "[nltk_data]    | Downloading package wordnet to /root/nltk_data...\n",
            "[nltk_data]    |   Package wordnet is already up-to-date!\n",
            "[nltk_data]    | Downloading package wordnet31 to /root/nltk_data...\n",
            "[nltk_data]    |   Package wordnet31 is already up-to-date!\n",
            "[nltk_data]    | Downloading package wordnet_ic to /root/nltk_data...\n",
            "[nltk_data]    |   Package wordnet_ic is already up-to-date!\n",
            "[nltk_data]    | Downloading package words to /root/nltk_data...\n",
            "[nltk_data]    |   Package words is already up-to-date!\n",
            "[nltk_data]    | Downloading package maxent_ne_chunker to\n",
            "[nltk_data]    |     /root/nltk_data...\n",
            "[nltk_data]    |   Package maxent_ne_chunker is already up-to-date!\n",
            "[nltk_data]    | Downloading package punkt to /root/nltk_data...\n",
            "[nltk_data]    |   Package punkt is already up-to-date!\n",
            "[nltk_data]    | Downloading package snowball_data to\n",
            "[nltk_data]    |     /root/nltk_data...\n",
            "[nltk_data]    |   Package snowball_data is already up-to-date!\n",
            "[nltk_data]    | Downloading package averaged_perceptron_tagger to\n",
            "[nltk_data]    |     /root/nltk_data...\n",
            "[nltk_data]    |   Package averaged_perceptron_tagger is already up-\n",
            "[nltk_data]    |       to-date!\n",
            "[nltk_data]    | \n",
            "[nltk_data]  Done downloading collection popular\n"
          ]
        }
      ]
    },
    {
      "cell_type": "markdown",
      "metadata": {
        "id": "F4SwCY4NVnCL"
      },
      "source": [
        "#**Processing data**"
      ]
    },
    {
      "cell_type": "markdown",
      "metadata": {
        "id": "mQhzBhHanZuz"
      },
      "source": [
        "Use the given datasets in our GitHub to load the data"
      ]
    },
    {
      "cell_type": "code",
      "metadata": {
        "id": "JHtiWDffY_so",
        "colab": {
          "base_uri": "https://localhost:8080/"
        },
        "outputId": "f6e3b9fb-4ccf-468e-9041-e191db4ced13"
      },
      "source": [
        "  ## Uncomment each line to load Normal data\n",
        "\n",
        "# Synthetic sendmail csv_file = ['bounce-1.int', 'bounce.int', 'bounce-2.int', 'plus.int', 'queue.int', 'sendmail.daemon.int', 'sendmail.log.int']; DATA = 'Synthetic Sendmail'; DATA_I='Synthetic_Sendmail'\n",
        "#!wget 'https://raw.githubusercontent.com/NganTran-0017/HIDS/main/Datasets/UNM/1.Synthetic%20Sendmail/normal-data/bounce-1.int'\n",
        "#!wget 'https://raw.githubusercontent.com/NganTran-0017/HIDS/main/Datasets/UNM/1.Synthetic%20Sendmail/normal-data/bounce.int'\n",
        "#!wget 'https://raw.githubusercontent.com/NganTran-0017/HIDS/main/Datasets/UNM/1.Synthetic%20Sendmail/normal-data/bounce-2.int'\n",
        "#!wget 'https://raw.githubusercontent.com/NganTran-0017/HIDS/main/Datasets/UNM/1.Synthetic%20Sendmail/normal-data/plus.int'\n",
        "#!wget 'https://raw.githubusercontent.com/NganTran-0017/HIDS/main/Datasets/UNM/1.Synthetic%20Sendmail/normal-data/queue.int'\n",
        "#!wget 'https://raw.githubusercontent.com/NganTran-0017/HIDS/main/Datasets/UNM/1.Synthetic%20Sendmail/normal-data/sendmail.daemon.int'\n",
        "#!wget 'https://raw.githubusercontent.com/NganTran-0017/HIDS/main/Datasets/UNM/1.Synthetic%20Sendmail/normal-data/sendmail.log.int'\n",
        "\n",
        "# LIVE LPR csv_file = ['lpr-normal-10.txt', 'lpr-normal-11.txt']; DATA = 'Live Lpr'; DATA_I='Live-Lpr' \n",
        "#!wget 'https://raw.githubusercontent.com/NganTran-0017/HIDS/main/Datasets/UNM/4.%20Live%20lpr/Normal/real/lpr-normal-11.txt'\n",
        "#!wget 'https://raw.githubusercontent.com/NganTran-0017/HIDS/main/Datasets/UNM/4.%20Live%20lpr/Normal/real/lpr-normal-10.txt'\n",
        "\n",
        "# MIT live lpr csv_file = [ 'mit-lpr-mar.txt']; DATA = 'MIT Live Lpr'; DATA_I='MIT-Lpr' \n",
        "#!wget 'https://raw.githubusercontent.com/NganTran-0017/HIDS/main/Datasets/MIT/mit-lpr-mar.txt'\n",
        "\n",
        "# LOGIN and PS csv_file = [ 'login-normal.txt', 'ps-normal.txt']; DATA = 'Login and Ps'; DATA_I =\"Login-and-Ps\"\n",
        "#!wget 'https://raw.githubusercontent.com/NganTran-0017/HIDS/main/Datasets/UNM/7.Login_and_ps/normal/login-normal.txt'\n",
        "#!wget 'https://raw.githubusercontent.com/NganTran-0017/HIDS/main/Datasets/UNM/7.Login_and_ps/normal/ps-normal.txt'\n",
        "\n",
        "# INETD csv_file = [ 'inetd-live-unm.int']; DATA = 'Inetd';DATA_I =\"Inetd\" \n",
        "#!wget 'https://raw.githubusercontent.com/NganTran-0017/HIDS/main/Datasets/UNM/8.Inetd/inetd-live-unm.int'\n",
        "\n",
        "# STIDE csv_file = [ 'stide-normal-500k.txt']; DATA = 'Stide';DATA_I ='Stide' \n",
        "#!wget 'https://raw.githubusercontent.com/NganTran-0017/HIDS/main/Datasets/UNM/10.Stide/stide-normal-500k.txt'\n",
        "\n",
        "# Live Named  ==> Best result csv_file = [ 'normal-named-live-2k.txt']; DATA = 'Live Named';DATA_I ='Live-Named' \n",
        "#!wget 'https://raw.githubusercontent.com/NganTran-0017/HIDS/main/Datasets/UNM/6.Live_named/normal-named-live-2k.txt'\n",
        "\n",
        "# Xlock csv_file = [ 'normal-xlock.txt']; DATA = 'Xlock';DATA_I='Xlock' \n",
        "#!wget 'https://raw.githubusercontent.com/NganTran-0017/HIDS/main/Datasets/UNM/5.xlock/normal-xlock.txt'\n",
        "\n",
        "# Synthetic Ftp \n",
        "#csv_file = [ 'nonself1.int','nonself2.int']; DATA = 'Synthetic Ftp'; DATA_I='Synthetic-Ftp'\n",
        "#!wget 'https://raw.githubusercontent.com/NganTran-0017/HIDS/main/Datasets/UNM/2.Synthetic%20Ftp/nonself1.int'\n",
        "#!wget 'https://raw.githubusercontent.com/NganTran-0017/HIDS/main/Datasets/UNM/2.Synthetic%20Ftp/nonself2.int'\n",
        "\n",
        "# Synthetic lpr \n",
        "csv_file = ['syn.int']; DATA = 'Synthetic Lpr';DATA_I='Synthetic-Lpr'\n",
        "!wget 'https://raw.githubusercontent.com/NganTran-0017/HIDS/main/Datasets/UNM/3.Synthetic-lpr/syn.int'\n",
        "\n",
        "# Concat a list of files into normal df\n",
        "list_of_dataframes = []\n",
        "for filename in csv_file:\n",
        "    list_of_dataframes.append(pd.read_csv(filename, sep=' ', header=None, engine='python'))\n",
        "df = pd.concat(list_of_dataframes)\n",
        "\n",
        "# Check number of columns, if > 2, then drop the excess\n",
        "if len(df.columns) > 2:\n",
        "    df=df.drop(labels=None, axis=1, columns = [2,3])\n",
        "df =df.rename(columns= {0:\"PID\", 1:\"Syscall\"})\n",
        "\n",
        "print('Normal data size:', df.shape)\n",
        "\n",
        "\n",
        "  ## Uncomment each line to load Intrusion data:\n",
        "\n",
        "# Synthetic sendmail csv_file = ['sm-10763.int', 'fwd-loops-1.int', 'fwd-loops-2.int', 'fwd-loops-3.int', 'fwd-loops-4.int', 'fwd-loops-5.int','sm-280.int', 'sm-314.int','sm-10801.int', 'sm-10814.int']\n",
        "#!wget 'https://raw.githubusercontent.com/NganTran-0017/HIDS/main/Datasets/UNM/1.Synthetic%20Sendmail/Intrusion-trace-data/fwd-loops-1.int'\n",
        "#!wget 'https://raw.githubusercontent.com/NganTran-0017/HIDS/main/Datasets/UNM/1.Synthetic%20Sendmail/Intrusion-trace-data/fwd-loops-2.int'\n",
        "#!wget 'https://raw.githubusercontent.com/NganTran-0017/HIDS/main/Datasets/UNM/1.Synthetic%20Sendmail/Intrusion-trace-data/fwd-loops-3.int'\n",
        "#!wget 'https://raw.githubusercontent.com/NganTran-0017/HIDS/main/Datasets/UNM/1.Synthetic%20Sendmail/Intrusion-trace-data/fwd-loops-4.int'\n",
        "#!wget 'https://raw.githubusercontent.com/NganTran-0017/HIDS/main/Datasets/UNM/1.Synthetic%20Sendmail/Intrusion-trace-data/fwd-loops-5.int'\n",
        "#!wget 'https://raw.githubusercontent.com/NganTran-0017/HIDS/main/Datasets/UNM/1.Synthetic%20Sendmail/Intrusion-trace-data/sm-10763.int'\n",
        "#!wget 'https://raw.githubusercontent.com/NganTran-0017/HIDS/main/Datasets/UNM/1.Synthetic%20Sendmail/Intrusion-trace-data/sm-280.int'\n",
        "#!wget 'https://raw.githubusercontent.com/NganTran-0017/HIDS/main/Datasets/UNM/1.Synthetic%20Sendmail/Intrusion-trace-data/sm-314.int'\n",
        "#!wget 'https://raw.githubusercontent.com/NganTran-0017/HIDS/main/Datasets/UNM/1.Synthetic%20Sendmail/Intrusion-trace-data/sm-10801.int'\n",
        "#!wget 'https://raw.githubusercontent.com/NganTran-0017/HIDS/main/Datasets/UNM/1.Synthetic%20Sendmail/Intrusion-trace-data/sm-10814.int'\n",
        "\n",
        "# LIVE LPR csv_file =['exploit-unm.int'] \n",
        "#!wget 'https://raw.githubusercontent.com/NganTran-0017/HIDS/main/Datasets/UNM/4.%20Live%20lpr/Intrusion/exploit-unm.int'\n",
        "\n",
        "# MIT live lpr csv_file = [ 'exploit-ai.int'] \n",
        "#!wget 'https://raw.githubusercontent.com/NganTran-0017/HIDS/main/Datasets/MIT/exploit-ai.int'\n",
        "\n",
        "# LOGIN and PS csv_file = [ 'login-homegrown.int','ps-homegrown.int','login-recovered.int','ps-recovered.int']\n",
        "#!wget 'https://raw.githubusercontent.com/NganTran-0017/HIDS/main/Datasets/UNM/7.Login_and_ps/intrusion/ps-recovered.int'\n",
        "#!wget 'https://raw.githubusercontent.com/NganTran-0017/HIDS/main/Datasets/UNM/7.Login_and_ps/intrusion/ps-homegrown.int'\n",
        "#!wget 'https://raw.githubusercontent.com/NganTran-0017/HIDS/main/Datasets/UNM/7.Login_and_ps/intrusion/login-recovered.int'\n",
        "#!wget 'https://raw.githubusercontent.com/NganTran-0017/HIDS/main/Datasets/UNM/7.Login_and_ps/intrusion/login-homegrown.int'\n",
        "\n",
        "# INETD csv_file = [ 'inetd-intrusion.int'] \n",
        "#!wget 'https://raw.githubusercontent.com/NganTran-0017/HIDS/main/Datasets/UNM/8.Inetd/intrusion/inetd-intrusion.int'\n",
        "\n",
        "# STIDE csv_file = [ 'stide-intrusion'] \n",
        "#!wget 'https://raw.githubusercontent.com/NganTran-0017/HIDS/main/Datasets/UNM/10.Stide/intrusion/stide-intrusion'\n",
        "\n",
        "# Live Named  ==> Best Result csv_file = [ 'exploit-1.int','exploit-2.int'] \n",
        "#!wget 'https://raw.githubusercontent.com/NganTran-0017/HIDS/main/Datasets/UNM/6.Live_named/intrusion/exploit-1.int'\n",
        "#!wget 'https://raw.githubusercontent.com/NganTran-0017/HIDS/main/Datasets/UNM/6.Live_named/intrusion/exploit-2.int'\n",
        "\n",
        "# Xlock csv_file = [ 'nonself.cs.unm.edu-07.24.97-xlock-2822_new.log.int', 'nonself.cs.unm.edu-07.25.97-xlock-2691_new.log.int']\n",
        "#!wget 'https://raw.githubusercontent.com/NganTran-0017/HIDS/main/Datasets/UNM/5.xlock/intrusion/nonself.cs.unm.edu-07.25.97-xlock-2691_new.log.int'\n",
        "#!wget 'https://raw.githubusercontent.com/NganTran-0017/HIDS/main/Datasets/UNM/5.xlock/intrusion/nonself.cs.unm.edu-07.24.97-xlock-2822_new.log.int'\n",
        "\n",
        "# Synthetic Ftp csv_file = [ 'exploit2.int']\n",
        "#!wget 'https://raw.githubusercontent.com/NganTran-0017/HIDS/main/Datasets/UNM/2.Synthetic%20Ftp/intrusion/exploit2.int'\n",
        "\n",
        "# Synthetic Lpr \n",
        "csv_file = [ 'exploit-unm.int']\n",
        "!wget 'https://raw.githubusercontent.com/NganTran-0017/HIDS/main/Datasets/UNM/3.Synthetic-lpr/intrusion/exploit-unm.int'\n",
        "\n",
        "list_of_dataframes = []\n",
        "for filename in csv_file:\n",
        "    list_of_dataframes.append(pd.read_csv(filename, sep=' ', header=None, engine='python'))\n",
        "intrusiondf = pd.concat(list_of_dataframes)\n",
        "\n",
        "if len(intrusiondf.columns) > 2:\n",
        "    intrusiondf = intrusiondf.drop(labels=None, axis=1, columns = [2,3])\n",
        "intrusiondf = intrusiondf.rename(columns= {0:\"PID\", 1:\"Syscall\"})\n",
        "\n",
        "print('intrusion data size: ', intrusiondf.shape)\n",
        "\n",
        "print('Normal:',df.head(3))\n",
        "#print(df['PID'].value_counts())\n",
        "print('Intrusion:',intrusiondf.head())"
      ],
      "execution_count": 479,
      "outputs": [
        {
          "output_type": "stream",
          "name": "stdout",
          "text": [
            "--2021-11-17 05:05:35--  https://raw.githubusercontent.com/NganTran-0017/HIDS/main/Datasets/UNM/3.Synthetic-lpr/syn.int\n",
            "Resolving raw.githubusercontent.com (raw.githubusercontent.com)... 185.199.108.133, 185.199.109.133, 185.199.110.133, ...\n",
            "Connecting to raw.githubusercontent.com (raw.githubusercontent.com)|185.199.108.133|:443... connected.\n",
            "HTTP request sent, awaiting response... 200 OK\n",
            "Length: 23144 (23K) [text/plain]\n",
            "Saving to: ‘syn.int.3’\n",
            "\n",
            "\rsyn.int.3             0%[                    ]       0  --.-KB/s               \rsyn.int.3           100%[===================>]  22.60K  --.-KB/s    in 0.001s  \n",
            "\n",
            "2021-11-17 05:05:35 (23.6 MB/s) - ‘syn.int.3’ saved [23144/23144]\n",
            "\n",
            "Normal data size: (2398, 2)\n",
            "--2021-11-17 05:05:35--  https://raw.githubusercontent.com/NganTran-0017/HIDS/main/Datasets/UNM/3.Synthetic-lpr/intrusion/exploit-unm.int\n",
            "Resolving raw.githubusercontent.com (raw.githubusercontent.com)... 185.199.111.133, 185.199.110.133, 185.199.108.133, ...\n",
            "Connecting to raw.githubusercontent.com (raw.githubusercontent.com)|185.199.111.133|:443... connected.\n",
            "HTTP request sent, awaiting response... 200 OK\n",
            "Length: 1829578 (1.7M) [text/plain]\n",
            "Saving to: ‘exploit-unm.int.7’\n",
            "\n",
            "exploit-unm.int.7   100%[===================>]   1.74M  --.-KB/s    in 0.04s   \n",
            "\n",
            "2021-11-17 05:05:35 (42.7 MB/s) - ‘exploit-unm.int.7’ saved [1829578/1829578]\n",
            "\n",
            "intrusion data size:  (164232, 2)\n",
            "Normal:     PID  Syscall\n",
            "0  1524        4\n",
            "1  1524        2\n",
            "2  1524       66\n",
            "Intrusion:      PID  Syscall\n",
            "0  22799        4\n",
            "1  22799        2\n",
            "2  22799       66\n",
            "3  22799       66\n",
            "4  22799        4\n"
          ]
        }
      ]
    },
    {
      "cell_type": "markdown",
      "metadata": {
        "id": "09eozmwq9CFh"
      },
      "source": [
        "**Change to covert all syscall of 1 PID into a data record. Pasrse each data record to a length of 10 or 15, clean frequent records.**"
      ]
    },
    {
      "cell_type": "code",
      "metadata": {
        "colab": {
          "base_uri": "https://localhost:8080/",
          "height": 437
        },
        "id": "6OgG7OGdQ0Oi",
        "outputId": "0f68a1ea-c75a-4df9-954f-7f7db518e2dc"
      },
      "source": [
        "print('Number of unique PID in normal data:', len(df['PID'].value_counts()))\n",
        "df"
      ],
      "execution_count": 480,
      "outputs": [
        {
          "output_type": "stream",
          "name": "stdout",
          "text": [
            "Number of unique PID in normal data: 9\n"
          ]
        },
        {
          "output_type": "execute_result",
          "data": {
            "text/html": [
              "<div>\n",
              "<style scoped>\n",
              "    .dataframe tbody tr th:only-of-type {\n",
              "        vertical-align: middle;\n",
              "    }\n",
              "\n",
              "    .dataframe tbody tr th {\n",
              "        vertical-align: top;\n",
              "    }\n",
              "\n",
              "    .dataframe thead th {\n",
              "        text-align: right;\n",
              "    }\n",
              "</style>\n",
              "<table border=\"1\" class=\"dataframe\">\n",
              "  <thead>\n",
              "    <tr style=\"text-align: right;\">\n",
              "      <th></th>\n",
              "      <th>PID</th>\n",
              "      <th>Syscall</th>\n",
              "    </tr>\n",
              "  </thead>\n",
              "  <tbody>\n",
              "    <tr>\n",
              "      <th>0</th>\n",
              "      <td>1524</td>\n",
              "      <td>4</td>\n",
              "    </tr>\n",
              "    <tr>\n",
              "      <th>1</th>\n",
              "      <td>1524</td>\n",
              "      <td>2</td>\n",
              "    </tr>\n",
              "    <tr>\n",
              "      <th>2</th>\n",
              "      <td>1524</td>\n",
              "      <td>66</td>\n",
              "    </tr>\n",
              "    <tr>\n",
              "      <th>3</th>\n",
              "      <td>1524</td>\n",
              "      <td>66</td>\n",
              "    </tr>\n",
              "    <tr>\n",
              "      <th>4</th>\n",
              "      <td>1524</td>\n",
              "      <td>4</td>\n",
              "    </tr>\n",
              "    <tr>\n",
              "      <th>...</th>\n",
              "      <td>...</td>\n",
              "      <td>...</td>\n",
              "    </tr>\n",
              "    <tr>\n",
              "      <th>2393</th>\n",
              "      <td>1577</td>\n",
              "      <td>9</td>\n",
              "    </tr>\n",
              "    <tr>\n",
              "      <th>2394</th>\n",
              "      <td>1577</td>\n",
              "      <td>5</td>\n",
              "    </tr>\n",
              "    <tr>\n",
              "      <th>2395</th>\n",
              "      <td>1577</td>\n",
              "      <td>3</td>\n",
              "    </tr>\n",
              "    <tr>\n",
              "      <th>2396</th>\n",
              "      <td>1577</td>\n",
              "      <td>5</td>\n",
              "    </tr>\n",
              "    <tr>\n",
              "      <th>2397</th>\n",
              "      <td>1577</td>\n",
              "      <td>5</td>\n",
              "    </tr>\n",
              "  </tbody>\n",
              "</table>\n",
              "<p>2398 rows × 2 columns</p>\n",
              "</div>"
            ],
            "text/plain": [
              "       PID  Syscall\n",
              "0     1524        4\n",
              "1     1524        2\n",
              "2     1524       66\n",
              "3     1524       66\n",
              "4     1524        4\n",
              "...    ...      ...\n",
              "2393  1577        9\n",
              "2394  1577        5\n",
              "2395  1577        3\n",
              "2396  1577        5\n",
              "2397  1577        5\n",
              "\n",
              "[2398 rows x 2 columns]"
            ]
          },
          "metadata": {},
          "execution_count": 480
        }
      ]
    },
    {
      "cell_type": "code",
      "metadata": {
        "colab": {
          "base_uri": "https://localhost:8080/",
          "height": 437
        },
        "id": "D3SbpSdF7YDQ",
        "outputId": "d595e6e1-4408-4b88-db85-5274c37050b7"
      },
      "source": [
        "print('Number of unique PID in intrusion data:', len(intrusiondf['PID'].value_counts()))\n",
        "intrusiondf"
      ],
      "execution_count": 481,
      "outputs": [
        {
          "output_type": "stream",
          "name": "stdout",
          "text": [
            "Number of unique PID in intrusion data: 1001\n"
          ]
        },
        {
          "output_type": "execute_result",
          "data": {
            "text/html": [
              "<div>\n",
              "<style scoped>\n",
              "    .dataframe tbody tr th:only-of-type {\n",
              "        vertical-align: middle;\n",
              "    }\n",
              "\n",
              "    .dataframe tbody tr th {\n",
              "        vertical-align: top;\n",
              "    }\n",
              "\n",
              "    .dataframe thead th {\n",
              "        text-align: right;\n",
              "    }\n",
              "</style>\n",
              "<table border=\"1\" class=\"dataframe\">\n",
              "  <thead>\n",
              "    <tr style=\"text-align: right;\">\n",
              "      <th></th>\n",
              "      <th>PID</th>\n",
              "      <th>Syscall</th>\n",
              "    </tr>\n",
              "  </thead>\n",
              "  <tbody>\n",
              "    <tr>\n",
              "      <th>0</th>\n",
              "      <td>22799</td>\n",
              "      <td>4</td>\n",
              "    </tr>\n",
              "    <tr>\n",
              "      <th>1</th>\n",
              "      <td>22799</td>\n",
              "      <td>2</td>\n",
              "    </tr>\n",
              "    <tr>\n",
              "      <th>2</th>\n",
              "      <td>22799</td>\n",
              "      <td>66</td>\n",
              "    </tr>\n",
              "    <tr>\n",
              "      <th>3</th>\n",
              "      <td>22799</td>\n",
              "      <td>66</td>\n",
              "    </tr>\n",
              "    <tr>\n",
              "      <th>4</th>\n",
              "      <td>22799</td>\n",
              "      <td>4</td>\n",
              "    </tr>\n",
              "    <tr>\n",
              "      <th>...</th>\n",
              "      <td>...</td>\n",
              "      <td>...</td>\n",
              "    </tr>\n",
              "    <tr>\n",
              "      <th>164227</th>\n",
              "      <td>28967</td>\n",
              "      <td>9</td>\n",
              "    </tr>\n",
              "    <tr>\n",
              "      <th>164228</th>\n",
              "      <td>28967</td>\n",
              "      <td>9</td>\n",
              "    </tr>\n",
              "    <tr>\n",
              "      <th>164229</th>\n",
              "      <td>28967</td>\n",
              "      <td>5</td>\n",
              "    </tr>\n",
              "    <tr>\n",
              "      <th>164230</th>\n",
              "      <td>28967</td>\n",
              "      <td>5</td>\n",
              "    </tr>\n",
              "    <tr>\n",
              "      <th>164231</th>\n",
              "      <td>28967</td>\n",
              "      <td>5</td>\n",
              "    </tr>\n",
              "  </tbody>\n",
              "</table>\n",
              "<p>164232 rows × 2 columns</p>\n",
              "</div>"
            ],
            "text/plain": [
              "          PID  Syscall\n",
              "0       22799        4\n",
              "1       22799        2\n",
              "2       22799       66\n",
              "3       22799       66\n",
              "4       22799        4\n",
              "...       ...      ...\n",
              "164227  28967        9\n",
              "164228  28967        9\n",
              "164229  28967        5\n",
              "164230  28967        5\n",
              "164231  28967        5\n",
              "\n",
              "[164232 rows x 2 columns]"
            ]
          },
          "metadata": {},
          "execution_count": 481
        }
      ]
    },
    {
      "cell_type": "markdown",
      "metadata": {
        "id": "vvHyIKtq9BCG"
      },
      "source": [
        "**Create syscall sequence per pid**"
      ]
    },
    {
      "cell_type": "code",
      "metadata": {
        "colab": {
          "base_uri": "https://localhost:8080/"
        },
        "id": "KXOlXVgyOHmA",
        "outputId": "2e5d8ee7-dde8-438c-922b-f66667445d50"
      },
      "source": [
        "# This function groups data by PID, so the sequences appear by PID instead of by order, in case it was interrupted by other PID\n",
        "## It returns a dict with PID as key and syscall seq as item\n",
        "def group_syscalls_by_pid (data):\n",
        "  seq_per_pid = {}\n",
        "  for p in data['PID'].unique():\n",
        "    filt = data['PID'] == p\n",
        "    seq = data.loc[filt]['Syscall'].values.astype(str)\n",
        "    seq_per_pid[p] = ' '.join(seq)\n",
        "  return seq_per_pid\n",
        "\n",
        "# Group normal df by PID and drop PID column\n",
        "normal_seq_per_pid = group_syscalls_by_pid(df)\n",
        "print('Number of unique PID in normal:', len(normal_seq_per_pid))\n",
        "#print('Normal PIDs and its sequences: ',normal_seq_per_pid)\n",
        "\n",
        "# Do the same thing to intrusion PID\n",
        "intrusion_seq_per_pid = group_syscalls_by_pid(intrusiondf)\n",
        "print('Number of unique PID in intrusion:', len(intrusion_seq_per_pid))\n",
        "#print('Intrusion PIDs and its sequences: ', intrusion_seq_per_pid)"
      ],
      "execution_count": 482,
      "outputs": [
        {
          "output_type": "stream",
          "name": "stdout",
          "text": [
            "Number of unique PID in normal: 9\n",
            "Number of unique PID in intrusion: 1001\n"
          ]
        }
      ]
    },
    {
      "cell_type": "code",
      "metadata": {
        "colab": {
          "base_uri": "https://localhost:8080/"
        },
        "id": "w3M7Z4L6modm",
        "outputId": "eb481844-6529-4023-d135-cb0e6765cd4a"
      },
      "source": [
        "# Drop a sequence if its total len is less than 3\n",
        "def remove_small_seq(pid_seq_dict):\n",
        "  removed_pid = []\n",
        "  for pid in pid_seq_dict:\n",
        "    seq_list = pid_seq_dict[pid].split()\n",
        "    if len(seq_list) < 3:\n",
        "      print('Remove PID %d which only has %d syscals in its sequence: %s' % (pid, len(seq_list), pid_seq_dict[pid]))\n",
        "      removed_pid.append(pid)\n",
        "\n",
        "  [pid_seq_dict.pop(pid) for pid in removed_pid]\n",
        "  return pid_seq_dict\n",
        "\n",
        "# Clean small intrusion sequences\n",
        "print('Clean small normal seq: \\nNum PID in Normal before:', len(normal_seq_per_pid))\n",
        "normal_seq_per_pid = remove_small_seq(normal_seq_per_pid)\n",
        "print('Num PID in Normal after:', len(normal_seq_per_pid))\n",
        "\n",
        "# Clean small intrusion sequences\n",
        "print('\\n\\nClean small intrusion seq: \\nNum PID in Intrusion before:', len(intrusion_seq_per_pid))\n",
        "intrusion_seq_per_pid = remove_small_seq(intrusion_seq_per_pid)\n",
        "print('Num PID in Intrusion after:', len(intrusion_seq_per_pid))"
      ],
      "execution_count": 483,
      "outputs": [
        {
          "output_type": "stream",
          "name": "stdout",
          "text": [
            "Clean small normal seq: \n",
            "Num PID in Normal before: 9\n",
            "Num PID in Normal after: 9\n",
            "\n",
            "\n",
            "Clean small intrusion seq: \n",
            "Num PID in Intrusion before: 1001\n",
            "Num PID in Intrusion after: 1001\n"
          ]
        }
      ]
    },
    {
      "cell_type": "markdown",
      "metadata": {
        "id": "MKXCVvBRF9fB"
      },
      "source": [
        "## **Data Parsing**"
      ]
    },
    {
      "cell_type": "code",
      "metadata": {
        "colab": {
          "base_uri": "https://localhost:8080/",
          "height": 420
        },
        "id": "ph244VM5_86n",
        "outputId": "fee95b2a-f8bc-48e7-e9d9-893b47f049b6"
      },
      "source": [
        "## Parse an entire Syscall seq per PID into smaller sequences of size 15\n",
        "def parse_seq(seq_per_pid):\n",
        "  sequences = pd.DataFrame()\n",
        "  for p in seq_per_pid:\n",
        "    token = word_tokenize(seq_per_pid[p])  # Tokenize the string of sequence\n",
        "\n",
        "    # Parse the sequence into length of 15\n",
        "    sequences=sequences.append(list(nltk.ngrams(token, SEQ_WINDOW, pad_right=True, right_pad_symbol=-1)))\n",
        "    #print('PID %d - seq len: %d'% (p, len(sequences)))\n",
        "  return sequences\n",
        "\n",
        "normal = parse_seq(normal_seq_per_pid)\n",
        "\n",
        "normal"
      ],
      "execution_count": 484,
      "outputs": [
        {
          "output_type": "execute_result",
          "data": {
            "text/html": [
              "<div>\n",
              "<style scoped>\n",
              "    .dataframe tbody tr th:only-of-type {\n",
              "        vertical-align: middle;\n",
              "    }\n",
              "\n",
              "    .dataframe tbody tr th {\n",
              "        vertical-align: top;\n",
              "    }\n",
              "\n",
              "    .dataframe thead th {\n",
              "        text-align: right;\n",
              "    }\n",
              "</style>\n",
              "<table border=\"1\" class=\"dataframe\">\n",
              "  <thead>\n",
              "    <tr style=\"text-align: right;\">\n",
              "      <th></th>\n",
              "      <th>0</th>\n",
              "      <th>1</th>\n",
              "      <th>2</th>\n",
              "      <th>3</th>\n",
              "      <th>4</th>\n",
              "      <th>5</th>\n",
              "      <th>6</th>\n",
              "      <th>7</th>\n",
              "      <th>8</th>\n",
              "      <th>9</th>\n",
              "      <th>10</th>\n",
              "      <th>11</th>\n",
              "      <th>12</th>\n",
              "      <th>13</th>\n",
              "      <th>14</th>\n",
              "    </tr>\n",
              "  </thead>\n",
              "  <tbody>\n",
              "    <tr>\n",
              "      <th>0</th>\n",
              "      <td>4</td>\n",
              "      <td>2</td>\n",
              "      <td>66</td>\n",
              "      <td>66</td>\n",
              "      <td>4</td>\n",
              "      <td>138</td>\n",
              "      <td>66</td>\n",
              "      <td>5</td>\n",
              "      <td>23</td>\n",
              "      <td>45</td>\n",
              "      <td>4</td>\n",
              "      <td>27</td>\n",
              "      <td>66</td>\n",
              "      <td>5</td>\n",
              "      <td>4</td>\n",
              "    </tr>\n",
              "    <tr>\n",
              "      <th>1</th>\n",
              "      <td>2</td>\n",
              "      <td>66</td>\n",
              "      <td>66</td>\n",
              "      <td>4</td>\n",
              "      <td>138</td>\n",
              "      <td>66</td>\n",
              "      <td>5</td>\n",
              "      <td>23</td>\n",
              "      <td>45</td>\n",
              "      <td>4</td>\n",
              "      <td>27</td>\n",
              "      <td>66</td>\n",
              "      <td>5</td>\n",
              "      <td>4</td>\n",
              "      <td>2</td>\n",
              "    </tr>\n",
              "    <tr>\n",
              "      <th>2</th>\n",
              "      <td>66</td>\n",
              "      <td>66</td>\n",
              "      <td>4</td>\n",
              "      <td>138</td>\n",
              "      <td>66</td>\n",
              "      <td>5</td>\n",
              "      <td>23</td>\n",
              "      <td>45</td>\n",
              "      <td>4</td>\n",
              "      <td>27</td>\n",
              "      <td>66</td>\n",
              "      <td>5</td>\n",
              "      <td>4</td>\n",
              "      <td>2</td>\n",
              "      <td>66</td>\n",
              "    </tr>\n",
              "    <tr>\n",
              "      <th>3</th>\n",
              "      <td>66</td>\n",
              "      <td>4</td>\n",
              "      <td>138</td>\n",
              "      <td>66</td>\n",
              "      <td>5</td>\n",
              "      <td>23</td>\n",
              "      <td>45</td>\n",
              "      <td>4</td>\n",
              "      <td>27</td>\n",
              "      <td>66</td>\n",
              "      <td>5</td>\n",
              "      <td>4</td>\n",
              "      <td>2</td>\n",
              "      <td>66</td>\n",
              "      <td>66</td>\n",
              "    </tr>\n",
              "    <tr>\n",
              "      <th>4</th>\n",
              "      <td>4</td>\n",
              "      <td>138</td>\n",
              "      <td>66</td>\n",
              "      <td>5</td>\n",
              "      <td>23</td>\n",
              "      <td>45</td>\n",
              "      <td>4</td>\n",
              "      <td>27</td>\n",
              "      <td>66</td>\n",
              "      <td>5</td>\n",
              "      <td>4</td>\n",
              "      <td>2</td>\n",
              "      <td>66</td>\n",
              "      <td>66</td>\n",
              "      <td>66</td>\n",
              "    </tr>\n",
              "    <tr>\n",
              "      <th>...</th>\n",
              "      <td>...</td>\n",
              "      <td>...</td>\n",
              "      <td>...</td>\n",
              "      <td>...</td>\n",
              "      <td>...</td>\n",
              "      <td>...</td>\n",
              "      <td>...</td>\n",
              "      <td>...</td>\n",
              "      <td>...</td>\n",
              "      <td>...</td>\n",
              "      <td>...</td>\n",
              "      <td>...</td>\n",
              "      <td>...</td>\n",
              "      <td>...</td>\n",
              "      <td>...</td>\n",
              "    </tr>\n",
              "    <tr>\n",
              "      <th>162</th>\n",
              "      <td>9</td>\n",
              "      <td>5</td>\n",
              "      <td>3</td>\n",
              "      <td>5</td>\n",
              "      <td>5</td>\n",
              "      <td>-1</td>\n",
              "      <td>-1</td>\n",
              "      <td>-1</td>\n",
              "      <td>-1</td>\n",
              "      <td>-1</td>\n",
              "      <td>-1</td>\n",
              "      <td>-1</td>\n",
              "      <td>-1</td>\n",
              "      <td>-1</td>\n",
              "      <td>-1</td>\n",
              "    </tr>\n",
              "    <tr>\n",
              "      <th>163</th>\n",
              "      <td>5</td>\n",
              "      <td>3</td>\n",
              "      <td>5</td>\n",
              "      <td>5</td>\n",
              "      <td>-1</td>\n",
              "      <td>-1</td>\n",
              "      <td>-1</td>\n",
              "      <td>-1</td>\n",
              "      <td>-1</td>\n",
              "      <td>-1</td>\n",
              "      <td>-1</td>\n",
              "      <td>-1</td>\n",
              "      <td>-1</td>\n",
              "      <td>-1</td>\n",
              "      <td>-1</td>\n",
              "    </tr>\n",
              "    <tr>\n",
              "      <th>164</th>\n",
              "      <td>3</td>\n",
              "      <td>5</td>\n",
              "      <td>5</td>\n",
              "      <td>-1</td>\n",
              "      <td>-1</td>\n",
              "      <td>-1</td>\n",
              "      <td>-1</td>\n",
              "      <td>-1</td>\n",
              "      <td>-1</td>\n",
              "      <td>-1</td>\n",
              "      <td>-1</td>\n",
              "      <td>-1</td>\n",
              "      <td>-1</td>\n",
              "      <td>-1</td>\n",
              "      <td>-1</td>\n",
              "    </tr>\n",
              "    <tr>\n",
              "      <th>165</th>\n",
              "      <td>5</td>\n",
              "      <td>5</td>\n",
              "      <td>-1</td>\n",
              "      <td>-1</td>\n",
              "      <td>-1</td>\n",
              "      <td>-1</td>\n",
              "      <td>-1</td>\n",
              "      <td>-1</td>\n",
              "      <td>-1</td>\n",
              "      <td>-1</td>\n",
              "      <td>-1</td>\n",
              "      <td>-1</td>\n",
              "      <td>-1</td>\n",
              "      <td>-1</td>\n",
              "      <td>-1</td>\n",
              "    </tr>\n",
              "    <tr>\n",
              "      <th>166</th>\n",
              "      <td>5</td>\n",
              "      <td>-1</td>\n",
              "      <td>-1</td>\n",
              "      <td>-1</td>\n",
              "      <td>-1</td>\n",
              "      <td>-1</td>\n",
              "      <td>-1</td>\n",
              "      <td>-1</td>\n",
              "      <td>-1</td>\n",
              "      <td>-1</td>\n",
              "      <td>-1</td>\n",
              "      <td>-1</td>\n",
              "      <td>-1</td>\n",
              "      <td>-1</td>\n",
              "      <td>-1</td>\n",
              "    </tr>\n",
              "  </tbody>\n",
              "</table>\n",
              "<p>2398 rows × 15 columns</p>\n",
              "</div>"
            ],
            "text/plain": [
              "     0    1    2    3    4    5   6   7   8   9   10  11  12  13  14\n",
              "0     4    2   66   66    4  138  66   5  23  45   4  27  66   5   4\n",
              "1     2   66   66    4  138   66   5  23  45   4  27  66   5   4   2\n",
              "2    66   66    4  138   66    5  23  45   4  27  66   5   4   2  66\n",
              "3    66    4  138   66    5   23  45   4  27  66   5   4   2  66  66\n",
              "4     4  138   66    5   23   45   4  27  66   5   4   2  66  66  66\n",
              "..   ..  ...  ...  ...  ...  ...  ..  ..  ..  ..  ..  ..  ..  ..  ..\n",
              "162   9    5    3    5    5   -1  -1  -1  -1  -1  -1  -1  -1  -1  -1\n",
              "163   5    3    5    5   -1   -1  -1  -1  -1  -1  -1  -1  -1  -1  -1\n",
              "164   3    5    5   -1   -1   -1  -1  -1  -1  -1  -1  -1  -1  -1  -1\n",
              "165   5    5   -1   -1   -1   -1  -1  -1  -1  -1  -1  -1  -1  -1  -1\n",
              "166   5   -1   -1   -1   -1   -1  -1  -1  -1  -1  -1  -1  -1  -1  -1\n",
              "\n",
              "[2398 rows x 15 columns]"
            ]
          },
          "metadata": {},
          "execution_count": 484
        }
      ]
    },
    {
      "cell_type": "code",
      "metadata": {
        "colab": {
          "base_uri": "https://localhost:8080/",
          "height": 437
        },
        "id": "oyAnefsOQiIU",
        "outputId": "c5808c74-b3e7-4ab0-85cf-37bcf2e803b2"
      },
      "source": [
        "print('Parsing Intrusion')\n",
        "intrusion = parse_seq(intrusion_seq_per_pid)\n",
        "intrusion"
      ],
      "execution_count": 485,
      "outputs": [
        {
          "output_type": "stream",
          "name": "stdout",
          "text": [
            "Parsing Intrusion\n"
          ]
        },
        {
          "output_type": "execute_result",
          "data": {
            "text/html": [
              "<div>\n",
              "<style scoped>\n",
              "    .dataframe tbody tr th:only-of-type {\n",
              "        vertical-align: middle;\n",
              "    }\n",
              "\n",
              "    .dataframe tbody tr th {\n",
              "        vertical-align: top;\n",
              "    }\n",
              "\n",
              "    .dataframe thead th {\n",
              "        text-align: right;\n",
              "    }\n",
              "</style>\n",
              "<table border=\"1\" class=\"dataframe\">\n",
              "  <thead>\n",
              "    <tr style=\"text-align: right;\">\n",
              "      <th></th>\n",
              "      <th>0</th>\n",
              "      <th>1</th>\n",
              "      <th>2</th>\n",
              "      <th>3</th>\n",
              "      <th>4</th>\n",
              "      <th>5</th>\n",
              "      <th>6</th>\n",
              "      <th>7</th>\n",
              "      <th>8</th>\n",
              "      <th>9</th>\n",
              "      <th>10</th>\n",
              "      <th>11</th>\n",
              "      <th>12</th>\n",
              "      <th>13</th>\n",
              "      <th>14</th>\n",
              "    </tr>\n",
              "  </thead>\n",
              "  <tbody>\n",
              "    <tr>\n",
              "      <th>0</th>\n",
              "      <td>4</td>\n",
              "      <td>2</td>\n",
              "      <td>66</td>\n",
              "      <td>66</td>\n",
              "      <td>4</td>\n",
              "      <td>138</td>\n",
              "      <td>66</td>\n",
              "      <td>5</td>\n",
              "      <td>23</td>\n",
              "      <td>45</td>\n",
              "      <td>4</td>\n",
              "      <td>27</td>\n",
              "      <td>66</td>\n",
              "      <td>5</td>\n",
              "      <td>4</td>\n",
              "    </tr>\n",
              "    <tr>\n",
              "      <th>1</th>\n",
              "      <td>2</td>\n",
              "      <td>66</td>\n",
              "      <td>66</td>\n",
              "      <td>4</td>\n",
              "      <td>138</td>\n",
              "      <td>66</td>\n",
              "      <td>5</td>\n",
              "      <td>23</td>\n",
              "      <td>45</td>\n",
              "      <td>4</td>\n",
              "      <td>27</td>\n",
              "      <td>66</td>\n",
              "      <td>5</td>\n",
              "      <td>4</td>\n",
              "      <td>2</td>\n",
              "    </tr>\n",
              "    <tr>\n",
              "      <th>2</th>\n",
              "      <td>66</td>\n",
              "      <td>66</td>\n",
              "      <td>4</td>\n",
              "      <td>138</td>\n",
              "      <td>66</td>\n",
              "      <td>5</td>\n",
              "      <td>23</td>\n",
              "      <td>45</td>\n",
              "      <td>4</td>\n",
              "      <td>27</td>\n",
              "      <td>66</td>\n",
              "      <td>5</td>\n",
              "      <td>4</td>\n",
              "      <td>2</td>\n",
              "      <td>66</td>\n",
              "    </tr>\n",
              "    <tr>\n",
              "      <th>3</th>\n",
              "      <td>66</td>\n",
              "      <td>4</td>\n",
              "      <td>138</td>\n",
              "      <td>66</td>\n",
              "      <td>5</td>\n",
              "      <td>23</td>\n",
              "      <td>45</td>\n",
              "      <td>4</td>\n",
              "      <td>27</td>\n",
              "      <td>66</td>\n",
              "      <td>5</td>\n",
              "      <td>4</td>\n",
              "      <td>2</td>\n",
              "      <td>66</td>\n",
              "      <td>66</td>\n",
              "    </tr>\n",
              "    <tr>\n",
              "      <th>4</th>\n",
              "      <td>4</td>\n",
              "      <td>138</td>\n",
              "      <td>66</td>\n",
              "      <td>5</td>\n",
              "      <td>23</td>\n",
              "      <td>45</td>\n",
              "      <td>4</td>\n",
              "      <td>27</td>\n",
              "      <td>66</td>\n",
              "      <td>5</td>\n",
              "      <td>4</td>\n",
              "      <td>2</td>\n",
              "      <td>66</td>\n",
              "      <td>66</td>\n",
              "      <td>66</td>\n",
              "    </tr>\n",
              "    <tr>\n",
              "      <th>...</th>\n",
              "      <td>...</td>\n",
              "      <td>...</td>\n",
              "      <td>...</td>\n",
              "      <td>...</td>\n",
              "      <td>...</td>\n",
              "      <td>...</td>\n",
              "      <td>...</td>\n",
              "      <td>...</td>\n",
              "      <td>...</td>\n",
              "      <td>...</td>\n",
              "      <td>...</td>\n",
              "      <td>...</td>\n",
              "      <td>...</td>\n",
              "      <td>...</td>\n",
              "      <td>...</td>\n",
              "    </tr>\n",
              "    <tr>\n",
              "      <th>183</th>\n",
              "      <td>9</td>\n",
              "      <td>9</td>\n",
              "      <td>5</td>\n",
              "      <td>5</td>\n",
              "      <td>5</td>\n",
              "      <td>-1</td>\n",
              "      <td>-1</td>\n",
              "      <td>-1</td>\n",
              "      <td>-1</td>\n",
              "      <td>-1</td>\n",
              "      <td>-1</td>\n",
              "      <td>-1</td>\n",
              "      <td>-1</td>\n",
              "      <td>-1</td>\n",
              "      <td>-1</td>\n",
              "    </tr>\n",
              "    <tr>\n",
              "      <th>184</th>\n",
              "      <td>9</td>\n",
              "      <td>5</td>\n",
              "      <td>5</td>\n",
              "      <td>5</td>\n",
              "      <td>-1</td>\n",
              "      <td>-1</td>\n",
              "      <td>-1</td>\n",
              "      <td>-1</td>\n",
              "      <td>-1</td>\n",
              "      <td>-1</td>\n",
              "      <td>-1</td>\n",
              "      <td>-1</td>\n",
              "      <td>-1</td>\n",
              "      <td>-1</td>\n",
              "      <td>-1</td>\n",
              "    </tr>\n",
              "    <tr>\n",
              "      <th>185</th>\n",
              "      <td>5</td>\n",
              "      <td>5</td>\n",
              "      <td>5</td>\n",
              "      <td>-1</td>\n",
              "      <td>-1</td>\n",
              "      <td>-1</td>\n",
              "      <td>-1</td>\n",
              "      <td>-1</td>\n",
              "      <td>-1</td>\n",
              "      <td>-1</td>\n",
              "      <td>-1</td>\n",
              "      <td>-1</td>\n",
              "      <td>-1</td>\n",
              "      <td>-1</td>\n",
              "      <td>-1</td>\n",
              "    </tr>\n",
              "    <tr>\n",
              "      <th>186</th>\n",
              "      <td>5</td>\n",
              "      <td>5</td>\n",
              "      <td>-1</td>\n",
              "      <td>-1</td>\n",
              "      <td>-1</td>\n",
              "      <td>-1</td>\n",
              "      <td>-1</td>\n",
              "      <td>-1</td>\n",
              "      <td>-1</td>\n",
              "      <td>-1</td>\n",
              "      <td>-1</td>\n",
              "      <td>-1</td>\n",
              "      <td>-1</td>\n",
              "      <td>-1</td>\n",
              "      <td>-1</td>\n",
              "    </tr>\n",
              "    <tr>\n",
              "      <th>187</th>\n",
              "      <td>5</td>\n",
              "      <td>-1</td>\n",
              "      <td>-1</td>\n",
              "      <td>-1</td>\n",
              "      <td>-1</td>\n",
              "      <td>-1</td>\n",
              "      <td>-1</td>\n",
              "      <td>-1</td>\n",
              "      <td>-1</td>\n",
              "      <td>-1</td>\n",
              "      <td>-1</td>\n",
              "      <td>-1</td>\n",
              "      <td>-1</td>\n",
              "      <td>-1</td>\n",
              "      <td>-1</td>\n",
              "    </tr>\n",
              "  </tbody>\n",
              "</table>\n",
              "<p>164232 rows × 15 columns</p>\n",
              "</div>"
            ],
            "text/plain": [
              "     0    1    2    3    4    5   6   7   8   9   10  11  12  13  14\n",
              "0     4    2   66   66    4  138  66   5  23  45   4  27  66   5   4\n",
              "1     2   66   66    4  138   66   5  23  45   4  27  66   5   4   2\n",
              "2    66   66    4  138   66    5  23  45   4  27  66   5   4   2  66\n",
              "3    66    4  138   66    5   23  45   4  27  66   5   4   2  66  66\n",
              "4     4  138   66    5   23   45   4  27  66   5   4   2  66  66  66\n",
              "..   ..  ...  ...  ...  ...  ...  ..  ..  ..  ..  ..  ..  ..  ..  ..\n",
              "183   9    9    5    5    5   -1  -1  -1  -1  -1  -1  -1  -1  -1  -1\n",
              "184   9    5    5    5   -1   -1  -1  -1  -1  -1  -1  -1  -1  -1  -1\n",
              "185   5    5    5   -1   -1   -1  -1  -1  -1  -1  -1  -1  -1  -1  -1\n",
              "186   5    5   -1   -1   -1   -1  -1  -1  -1  -1  -1  -1  -1  -1  -1\n",
              "187   5   -1   -1   -1   -1   -1  -1  -1  -1  -1  -1  -1  -1  -1  -1\n",
              "\n",
              "[164232 rows x 15 columns]"
            ]
          },
          "metadata": {},
          "execution_count": 485
        }
      ]
    },
    {
      "cell_type": "markdown",
      "metadata": {
        "id": "RE-KOfLEESHE"
      },
      "source": [
        "> ## **EDA - Histogram of original data**\n",
        "\n"
      ]
    },
    {
      "cell_type": "markdown",
      "metadata": {
        "id": "z-ze-8EJlT1V"
      },
      "source": [
        "plt.figure(figsize=(20,6))\n",
        "plt.hist(normal['Syscall'], label='Normal', alpha=0.6, density=True)\n",
        "plt.hist(intrusion['Syscall'], label='Intrusion', color='tomato', alpha=0.6, density=True)\n",
        "plt.legend()\n",
        "plt.ylabel('Proportions')\n",
        "plt.xlabel('Syscall num')\n",
        "plt.grid(axis='y', alpha=0.75)\n",
        "plt.xticks(np.arange(0,200,10))\n",
        "plt.title('An Overlaid Histogram of Syscall Proportions in Normal and Intrusion Data from ' + DATA,y=1.02, fontsize=15)\n",
        "plt.show()"
      ]
    },
    {
      "cell_type": "markdown",
      "metadata": {
        "id": "5WjkWBLbqW3u"
      },
      "source": [
        "Start tokenizing system calls into 6-grams"
      ]
    },
    {
      "cell_type": "markdown",
      "metadata": {
        "id": "376udEA5GdPB"
      },
      "source": [
        " ## **Data Cleaning**\n",
        " Remove rows that exist in both normal and intrusion df\n",
        "\n"
      ]
    },
    {
      "cell_type": "code",
      "metadata": {
        "id": "HdvbPMAOl-Cn",
        "colab": {
          "base_uri": "https://localhost:8080/"
        },
        "outputId": "5ee5f513-7c3e-41e5-81a6-2f2dd8ee1acd"
      },
      "source": [
        "## Get % of duplicates in both datasets\n",
        "\n",
        "def clean_data (normal, intrusion):\n",
        "  # Convert normal df to set, and intrusion df to set\n",
        "  normal_list = normal.values.tolist()\n",
        "  intrusion_list = intrusion.values.tolist()\n",
        "  normal_set = set(tuple(i) for i in normal_list)\n",
        "  intrusion_set = set(tuple(i) for i in intrusion_list)\n",
        "  print('List sz vs. Set sz of normal sequences: %d vs. %d'% (len(normal_list),len(normal_set)) )\n",
        "  print('List sz vs. Set sz of intrusion sequences: %d vs. %d'% (len(intrusion_list),len(intrusion_set)) )\n",
        "\n",
        "  # Only remove intrusion sequences that exist in normal set because these sequences are just general actions which should not be labelled intrusion\n",
        "  c_intrusion = intrusion_set - normal_set\n",
        "  #c_normal = normal_set - intrusion_set\n",
        "  if len(c_intrusion) == 0 and len(c_normal) == 0:\n",
        "    print(DATA+' No Duplication!')\n",
        "  if len(c_intrusion) > 0:\n",
        "    intrusion = pd.DataFrame(c_intrusion)\n",
        "  else:\n",
        "    intrusion = pd.DataFrame(intrusion_set)\n",
        "\n",
        "  normal = pd.DataFrame(normal_set)\n",
        "\n",
        "  print('After cleaning: \\nNormal sz:', len(normal), ' CLEAN Intrusion sz:', len(c_intrusion) )\n",
        "  return normal, intrusion\n",
        "\n",
        "if CLEAN:\n",
        "  normal, intrusion = clean_data(normal, intrusion)"
      ],
      "execution_count": 486,
      "outputs": [
        {
          "output_type": "stream",
          "name": "stdout",
          "text": [
            "List sz vs. Set sz of normal sequences: 2398 vs. 259\n",
            "List sz vs. Set sz of intrusion sequences: 164232 vs. 282\n",
            "After cleaning: \n",
            "Normal sz: 259  CLEAN Intrusion sz: 139\n"
          ]
        }
      ]
    },
    {
      "cell_type": "code",
      "metadata": {
        "colab": {
          "base_uri": "https://localhost:8080/",
          "height": 420
        },
        "id": "MuylikQOw7da",
        "outputId": "31b93b35-fd80-4c48-b62a-a53d8caa6c7e"
      },
      "source": [
        "normal"
      ],
      "execution_count": 487,
      "outputs": [
        {
          "output_type": "execute_result",
          "data": {
            "text/html": [
              "<div>\n",
              "<style scoped>\n",
              "    .dataframe tbody tr th:only-of-type {\n",
              "        vertical-align: middle;\n",
              "    }\n",
              "\n",
              "    .dataframe tbody tr th {\n",
              "        vertical-align: top;\n",
              "    }\n",
              "\n",
              "    .dataframe thead th {\n",
              "        text-align: right;\n",
              "    }\n",
              "</style>\n",
              "<table border=\"1\" class=\"dataframe\">\n",
              "  <thead>\n",
              "    <tr style=\"text-align: right;\">\n",
              "      <th></th>\n",
              "      <th>0</th>\n",
              "      <th>1</th>\n",
              "      <th>2</th>\n",
              "      <th>3</th>\n",
              "      <th>4</th>\n",
              "      <th>5</th>\n",
              "      <th>6</th>\n",
              "      <th>7</th>\n",
              "      <th>8</th>\n",
              "      <th>9</th>\n",
              "      <th>10</th>\n",
              "      <th>11</th>\n",
              "      <th>12</th>\n",
              "      <th>13</th>\n",
              "      <th>14</th>\n",
              "    </tr>\n",
              "  </thead>\n",
              "  <tbody>\n",
              "    <tr>\n",
              "      <th>0</th>\n",
              "      <td>3</td>\n",
              "      <td>5</td>\n",
              "      <td>5</td>\n",
              "      <td>4</td>\n",
              "      <td>2</td>\n",
              "      <td>18</td>\n",
              "      <td>3</td>\n",
              "      <td>5</td>\n",
              "      <td>8</td>\n",
              "      <td>9</td>\n",
              "      <td>93</td>\n",
              "      <td>94</td>\n",
              "      <td>3</td>\n",
              "      <td>2</td>\n",
              "      <td>5</td>\n",
              "    </tr>\n",
              "    <tr>\n",
              "      <th>1</th>\n",
              "      <td>5</td>\n",
              "      <td>23</td>\n",
              "      <td>45</td>\n",
              "      <td>4</td>\n",
              "      <td>27</td>\n",
              "      <td>66</td>\n",
              "      <td>5</td>\n",
              "      <td>4</td>\n",
              "      <td>2</td>\n",
              "      <td>66</td>\n",
              "      <td>66</td>\n",
              "      <td>66</td>\n",
              "      <td>5</td>\n",
              "      <td>4</td>\n",
              "      <td>2</td>\n",
              "    </tr>\n",
              "    <tr>\n",
              "      <th>2</th>\n",
              "      <td>167</td>\n",
              "      <td>17</td>\n",
              "      <td>5</td>\n",
              "      <td>4</td>\n",
              "      <td>50</td>\n",
              "      <td>27</td>\n",
              "      <td>2</td>\n",
              "      <td>5</td>\n",
              "      <td>4</td>\n",
              "      <td>18</td>\n",
              "      <td>2</td>\n",
              "      <td>5</td>\n",
              "      <td>155</td>\n",
              "      <td>4</td>\n",
              "      <td>50</td>\n",
              "    </tr>\n",
              "    <tr>\n",
              "      <th>3</th>\n",
              "      <td>104</td>\n",
              "      <td>104</td>\n",
              "      <td>106</td>\n",
              "      <td>83</td>\n",
              "      <td>59</td>\n",
              "      <td>4</td>\n",
              "      <td>2</td>\n",
              "      <td>2</td>\n",
              "      <td>2</td>\n",
              "      <td>2</td>\n",
              "      <td>2</td>\n",
              "      <td>5</td>\n",
              "      <td>50</td>\n",
              "      <td>27</td>\n",
              "      <td>4</td>\n",
              "    </tr>\n",
              "    <tr>\n",
              "      <th>4</th>\n",
              "      <td>104</td>\n",
              "      <td>106</td>\n",
              "      <td>83</td>\n",
              "      <td>59</td>\n",
              "      <td>4</td>\n",
              "      <td>2</td>\n",
              "      <td>2</td>\n",
              "      <td>2</td>\n",
              "      <td>2</td>\n",
              "      <td>2</td>\n",
              "      <td>5</td>\n",
              "      <td>50</td>\n",
              "      <td>27</td>\n",
              "      <td>4</td>\n",
              "      <td>27</td>\n",
              "    </tr>\n",
              "    <tr>\n",
              "      <th>...</th>\n",
              "      <td>...</td>\n",
              "      <td>...</td>\n",
              "      <td>...</td>\n",
              "      <td>...</td>\n",
              "      <td>...</td>\n",
              "      <td>...</td>\n",
              "      <td>...</td>\n",
              "      <td>...</td>\n",
              "      <td>...</td>\n",
              "      <td>...</td>\n",
              "      <td>...</td>\n",
              "      <td>...</td>\n",
              "      <td>...</td>\n",
              "      <td>...</td>\n",
              "      <td>...</td>\n",
              "    </tr>\n",
              "    <tr>\n",
              "      <th>254</th>\n",
              "      <td>2</td>\n",
              "      <td>5</td>\n",
              "      <td>17</td>\n",
              "      <td>17</td>\n",
              "      <td>4</td>\n",
              "      <td>27</td>\n",
              "      <td>88</td>\n",
              "      <td>27</td>\n",
              "      <td>167</td>\n",
              "      <td>5</td>\n",
              "      <td>50</td>\n",
              "      <td>27</td>\n",
              "      <td>4</td>\n",
              "      <td>56</td>\n",
              "      <td>7</td>\n",
              "    </tr>\n",
              "    <tr>\n",
              "      <th>255</th>\n",
              "      <td>56</td>\n",
              "      <td>7</td>\n",
              "      <td>56</td>\n",
              "      <td>119</td>\n",
              "      <td>119</td>\n",
              "      <td>3</td>\n",
              "      <td>3</td>\n",
              "      <td>3</td>\n",
              "      <td>3</td>\n",
              "      <td>3</td>\n",
              "      <td>32</td>\n",
              "      <td>50</td>\n",
              "      <td>27</td>\n",
              "      <td>105</td>\n",
              "      <td>104</td>\n",
              "    </tr>\n",
              "    <tr>\n",
              "      <th>256</th>\n",
              "      <td>5</td>\n",
              "      <td>93</td>\n",
              "      <td>100</td>\n",
              "      <td>5</td>\n",
              "      <td>112</td>\n",
              "      <td>19</td>\n",
              "      <td>93</td>\n",
              "      <td>19</td>\n",
              "      <td>100</td>\n",
              "      <td>50</td>\n",
              "      <td>88</td>\n",
              "      <td>100</td>\n",
              "      <td>143</td>\n",
              "      <td>128</td>\n",
              "      <td>85</td>\n",
              "    </tr>\n",
              "    <tr>\n",
              "      <th>257</th>\n",
              "      <td>5</td>\n",
              "      <td>50</td>\n",
              "      <td>27</td>\n",
              "      <td>4</td>\n",
              "      <td>27</td>\n",
              "      <td>88</td>\n",
              "      <td>167</td>\n",
              "      <td>167</td>\n",
              "      <td>167</td>\n",
              "      <td>17</td>\n",
              "      <td>5</td>\n",
              "      <td>4</td>\n",
              "      <td>50</td>\n",
              "      <td>27</td>\n",
              "      <td>2</td>\n",
              "    </tr>\n",
              "    <tr>\n",
              "      <th>258</th>\n",
              "      <td>104</td>\n",
              "      <td>104</td>\n",
              "      <td>106</td>\n",
              "      <td>105</td>\n",
              "      <td>104</td>\n",
              "      <td>104</td>\n",
              "      <td>106</td>\n",
              "      <td>105</td>\n",
              "      <td>104</td>\n",
              "      <td>104</td>\n",
              "      <td>106</td>\n",
              "      <td>9</td>\n",
              "      <td>9</td>\n",
              "      <td>9</td>\n",
              "      <td>9</td>\n",
              "    </tr>\n",
              "  </tbody>\n",
              "</table>\n",
              "<p>259 rows × 15 columns</p>\n",
              "</div>"
            ],
            "text/plain": [
              "      0    1    2    3    4    5    6    7    8    9    10   11   12   13   14\n",
              "0      3    5    5    4    2   18    3    5    8    9   93   94    3    2    5\n",
              "1      5   23   45    4   27   66    5    4    2   66   66   66    5    4    2\n",
              "2    167   17    5    4   50   27    2    5    4   18    2    5  155    4   50\n",
              "3    104  104  106   83   59    4    2    2    2    2    2    5   50   27    4\n",
              "4    104  106   83   59    4    2    2    2    2    2    5   50   27    4   27\n",
              "..   ...  ...  ...  ...  ...  ...  ...  ...  ...  ...  ...  ...  ...  ...  ...\n",
              "254    2    5   17   17    4   27   88   27  167    5   50   27    4   56    7\n",
              "255   56    7   56  119  119    3    3    3    3    3   32   50   27  105  104\n",
              "256    5   93  100    5  112   19   93   19  100   50   88  100  143  128   85\n",
              "257    5   50   27    4   27   88  167  167  167   17    5    4   50   27    2\n",
              "258  104  104  106  105  104  104  106  105  104  104  106    9    9    9    9\n",
              "\n",
              "[259 rows x 15 columns]"
            ]
          },
          "metadata": {},
          "execution_count": 487
        }
      ]
    },
    {
      "cell_type": "code",
      "metadata": {
        "id": "_b5U4P_HrSEm",
        "colab": {
          "base_uri": "https://localhost:8080/",
          "height": 420
        },
        "outputId": "55ab34ab-ffe0-4dd0-d1b0-9936ddc09f7d"
      },
      "source": [
        "intrusion"
      ],
      "execution_count": 488,
      "outputs": [
        {
          "output_type": "execute_result",
          "data": {
            "text/html": [
              "<div>\n",
              "<style scoped>\n",
              "    .dataframe tbody tr th:only-of-type {\n",
              "        vertical-align: middle;\n",
              "    }\n",
              "\n",
              "    .dataframe tbody tr th {\n",
              "        vertical-align: top;\n",
              "    }\n",
              "\n",
              "    .dataframe thead th {\n",
              "        text-align: right;\n",
              "    }\n",
              "</style>\n",
              "<table border=\"1\" class=\"dataframe\">\n",
              "  <thead>\n",
              "    <tr style=\"text-align: right;\">\n",
              "      <th></th>\n",
              "      <th>0</th>\n",
              "      <th>1</th>\n",
              "      <th>2</th>\n",
              "      <th>3</th>\n",
              "      <th>4</th>\n",
              "      <th>5</th>\n",
              "      <th>6</th>\n",
              "      <th>7</th>\n",
              "      <th>8</th>\n",
              "      <th>9</th>\n",
              "      <th>10</th>\n",
              "      <th>11</th>\n",
              "      <th>12</th>\n",
              "      <th>13</th>\n",
              "      <th>14</th>\n",
              "    </tr>\n",
              "  </thead>\n",
              "  <tbody>\n",
              "    <tr>\n",
              "      <th>0</th>\n",
              "      <td>5</td>\n",
              "      <td>112</td>\n",
              "      <td>19</td>\n",
              "      <td>93</td>\n",
              "      <td>19</td>\n",
              "      <td>100</td>\n",
              "      <td>100</td>\n",
              "      <td>100</td>\n",
              "      <td>100</td>\n",
              "      <td>50</td>\n",
              "      <td>88</td>\n",
              "      <td>100</td>\n",
              "      <td>143</td>\n",
              "      <td>128</td>\n",
              "      <td>85</td>\n",
              "    </tr>\n",
              "    <tr>\n",
              "      <th>1</th>\n",
              "      <td>3</td>\n",
              "      <td>5</td>\n",
              "      <td>8</td>\n",
              "      <td>50</td>\n",
              "      <td>3</td>\n",
              "      <td>105</td>\n",
              "      <td>104</td>\n",
              "      <td>104</td>\n",
              "      <td>106</td>\n",
              "      <td>105</td>\n",
              "      <td>104</td>\n",
              "      <td>104</td>\n",
              "      <td>106</td>\n",
              "      <td>105</td>\n",
              "      <td>104</td>\n",
              "    </tr>\n",
              "    <tr>\n",
              "      <th>2</th>\n",
              "      <td>112</td>\n",
              "      <td>19</td>\n",
              "      <td>93</td>\n",
              "      <td>19</td>\n",
              "      <td>100</td>\n",
              "      <td>100</td>\n",
              "      <td>100</td>\n",
              "      <td>50</td>\n",
              "      <td>88</td>\n",
              "      <td>100</td>\n",
              "      <td>143</td>\n",
              "      <td>128</td>\n",
              "      <td>85</td>\n",
              "      <td>89</td>\n",
              "      <td>121</td>\n",
              "    </tr>\n",
              "    <tr>\n",
              "      <th>3</th>\n",
              "      <td>3</td>\n",
              "      <td>105</td>\n",
              "      <td>104</td>\n",
              "      <td>104</td>\n",
              "      <td>106</td>\n",
              "      <td>105</td>\n",
              "      <td>104</td>\n",
              "      <td>104</td>\n",
              "      <td>106</td>\n",
              "      <td>105</td>\n",
              "      <td>104</td>\n",
              "      <td>104</td>\n",
              "      <td>106</td>\n",
              "      <td>105</td>\n",
              "      <td>104</td>\n",
              "    </tr>\n",
              "    <tr>\n",
              "      <th>4</th>\n",
              "      <td>100</td>\n",
              "      <td>5</td>\n",
              "      <td>112</td>\n",
              "      <td>19</td>\n",
              "      <td>93</td>\n",
              "      <td>19</td>\n",
              "      <td>100</td>\n",
              "      <td>50</td>\n",
              "      <td>88</td>\n",
              "      <td>100</td>\n",
              "      <td>143</td>\n",
              "      <td>128</td>\n",
              "      <td>85</td>\n",
              "      <td>89</td>\n",
              "      <td>128</td>\n",
              "    </tr>\n",
              "    <tr>\n",
              "      <th>...</th>\n",
              "      <td>...</td>\n",
              "      <td>...</td>\n",
              "      <td>...</td>\n",
              "      <td>...</td>\n",
              "      <td>...</td>\n",
              "      <td>...</td>\n",
              "      <td>...</td>\n",
              "      <td>...</td>\n",
              "      <td>...</td>\n",
              "      <td>...</td>\n",
              "      <td>...</td>\n",
              "      <td>...</td>\n",
              "      <td>...</td>\n",
              "      <td>...</td>\n",
              "      <td>...</td>\n",
              "    </tr>\n",
              "    <tr>\n",
              "      <th>134</th>\n",
              "      <td>5</td>\n",
              "      <td>93</td>\n",
              "      <td>100</td>\n",
              "      <td>5</td>\n",
              "      <td>112</td>\n",
              "      <td>19</td>\n",
              "      <td>93</td>\n",
              "      <td>19</td>\n",
              "      <td>100</td>\n",
              "      <td>100</td>\n",
              "      <td>50</td>\n",
              "      <td>88</td>\n",
              "      <td>100</td>\n",
              "      <td>143</td>\n",
              "      <td>128</td>\n",
              "    </tr>\n",
              "    <tr>\n",
              "      <th>135</th>\n",
              "      <td>5</td>\n",
              "      <td>4</td>\n",
              "      <td>2</td>\n",
              "      <td>18</td>\n",
              "      <td>3</td>\n",
              "      <td>5</td>\n",
              "      <td>8</td>\n",
              "      <td>9</td>\n",
              "      <td>5</td>\n",
              "      <td>5</td>\n",
              "      <td>5</td>\n",
              "      <td>-1</td>\n",
              "      <td>-1</td>\n",
              "      <td>-1</td>\n",
              "      <td>-1</td>\n",
              "    </tr>\n",
              "    <tr>\n",
              "      <th>136</th>\n",
              "      <td>32</td>\n",
              "      <td>17</td>\n",
              "      <td>4</td>\n",
              "      <td>2</td>\n",
              "      <td>5</td>\n",
              "      <td>53</td>\n",
              "      <td>3</td>\n",
              "      <td>3</td>\n",
              "      <td>3</td>\n",
              "      <td>3</td>\n",
              "      <td>5</td>\n",
              "      <td>4</td>\n",
              "      <td>2</td>\n",
              "      <td>18</td>\n",
              "      <td>3</td>\n",
              "    </tr>\n",
              "    <tr>\n",
              "      <th>137</th>\n",
              "      <td>3</td>\n",
              "      <td>3</td>\n",
              "      <td>5</td>\n",
              "      <td>5</td>\n",
              "      <td>4</td>\n",
              "      <td>2</td>\n",
              "      <td>18</td>\n",
              "      <td>3</td>\n",
              "      <td>5</td>\n",
              "      <td>8</td>\n",
              "      <td>50</td>\n",
              "      <td>3</td>\n",
              "      <td>105</td>\n",
              "      <td>104</td>\n",
              "      <td>104</td>\n",
              "    </tr>\n",
              "    <tr>\n",
              "      <th>138</th>\n",
              "      <td>9</td>\n",
              "      <td>9</td>\n",
              "      <td>9</td>\n",
              "      <td>9</td>\n",
              "      <td>9</td>\n",
              "      <td>5</td>\n",
              "      <td>5</td>\n",
              "      <td>5</td>\n",
              "      <td>-1</td>\n",
              "      <td>-1</td>\n",
              "      <td>-1</td>\n",
              "      <td>-1</td>\n",
              "      <td>-1</td>\n",
              "      <td>-1</td>\n",
              "      <td>-1</td>\n",
              "    </tr>\n",
              "  </tbody>\n",
              "</table>\n",
              "<p>139 rows × 15 columns</p>\n",
              "</div>"
            ],
            "text/plain": [
              "      0    1    2    3    4    5    6    7    8    9    10   11   12   13   14\n",
              "0      5  112   19   93   19  100  100  100  100   50   88  100  143  128   85\n",
              "1      3    5    8   50    3  105  104  104  106  105  104  104  106  105  104\n",
              "2    112   19   93   19  100  100  100   50   88  100  143  128   85   89  121\n",
              "3      3  105  104  104  106  105  104  104  106  105  104  104  106  105  104\n",
              "4    100    5  112   19   93   19  100   50   88  100  143  128   85   89  128\n",
              "..   ...  ...  ...  ...  ...  ...  ...  ...  ...  ...  ...  ...  ...  ...  ...\n",
              "134    5   93  100    5  112   19   93   19  100  100   50   88  100  143  128\n",
              "135    5    4    2   18    3    5    8    9    5    5    5   -1   -1   -1   -1\n",
              "136   32   17    4    2    5   53    3    3    3    3    5    4    2   18    3\n",
              "137    3    3    5    5    4    2   18    3    5    8   50    3  105  104  104\n",
              "138    9    9    9    9    9    5    5    5   -1   -1   -1   -1   -1   -1   -1\n",
              "\n",
              "[139 rows x 15 columns]"
            ]
          },
          "metadata": {},
          "execution_count": 488
        }
      ]
    },
    {
      "cell_type": "markdown",
      "metadata": {
        "id": "8GMYBPNarqFf"
      },
      "source": [
        "## **Histogram of Processed Data**"
      ]
    },
    {
      "cell_type": "code",
      "metadata": {
        "id": "CB8QSEMJ4h0b",
        "colab": {
          "base_uri": "https://localhost:8080/",
          "height": 293
        },
        "outputId": "6921d6a7-ddac-449c-b339-f5a12520fa1e"
      },
      "source": [
        "# After Cleaning\n",
        "plt.figure(figsize=(20,6))\n",
        "plt.hist(normal[0], label='Normal', alpha=0.6, density=True)\n",
        "plt.hist(intrusion[0], label='Intrusion', color='tomato', alpha=0.6, density=True)\n",
        "plt.legend()\n",
        "plt.ylabel('Proportions')\n",
        "plt.xlabel('Syscall num')\n",
        "plt.grid(axis='y', alpha=0.75)\n",
        "#plt.xticks(np.arange(0,200,10))\n",
        "plt.title('An Overlaid Histogram of Syscall Proportions in Normal and Intrusion Data from ' + DATA,y=1.02, fontsize=15)\n",
        "plt.show()"
      ],
      "execution_count": 489,
      "outputs": [
        {
          "output_type": "display_data",
          "data": {
            "image/png": "[encoded data removed]",
            "text/plain": [
              "<Figure size 1440x432 with 1 Axes>"
            ]
          },
          "metadata": {
            "needs_background": "light"
          }
        }
      ]
    },
    {
      "cell_type": "markdown",
      "metadata": {
        "id": "Qk_fLEaHr0SL"
      },
      "source": [
        "**Labeling Sequences**"
      ]
    },
    {
      "cell_type": "code",
      "metadata": {
        "id": "0KILRKFiA2EV",
        "colab": {
          "base_uri": "https://localhost:8080/"
        },
        "outputId": "263d18ab-5568-403e-85eb-bd69a05dcc0c"
      },
      "source": [
        "# Intrusion sequences is labeled 1. Rename columns of the dataframe\n",
        "intrusion['Label'] = 1\n",
        "print(intrusion.head(5), '\\n')"
      ],
      "execution_count": 490,
      "outputs": [
        {
          "output_type": "stream",
          "name": "stdout",
          "text": [
            "     0    1    2    3    4    5    6  ...    9   10   11   12   13   14 Label\n",
            "0    5  112   19   93   19  100  100  ...   50   88  100  143  128   85     1\n",
            "1    3    5    8   50    3  105  104  ...  105  104  104  106  105  104     1\n",
            "2  112   19   93   19  100  100  100  ...  100  143  128   85   89  121     1\n",
            "3    3  105  104  104  106  105  104  ...  105  104  104  106  105  104     1\n",
            "4  100    5  112   19   93   19  100  ...  100  143  128   85   89  128     1\n",
            "\n",
            "[5 rows x 16 columns] \n",
            "\n"
          ]
        }
      ]
    },
    {
      "cell_type": "code",
      "metadata": {
        "id": "oN2KngnOyG5E",
        "colab": {
          "base_uri": "https://localhost:8080/"
        },
        "outputId": "a5d0fc4f-b775-4e56-89f1-c386f7fdf1e4"
      },
      "source": [
        "# Normal sequences is labeled 0. Rename columns of the dataframe\n",
        "normal['Label'] = 0\n",
        "print(normal.head(5), '\\n')\n",
        "\n",
        "print('Normal len:',len(normal),'\\nIntrusion len:', len(intrusion))"
      ],
      "execution_count": 491,
      "outputs": [
        {
          "output_type": "stream",
          "name": "stdout",
          "text": [
            "     0    1    2   3   4   5  6  7  8   9  10  11   12  13  14  Label\n",
            "0    3    5    5   4   2  18  3  5  8   9  93  94    3   2   5      0\n",
            "1    5   23   45   4  27  66  5  4  2  66  66  66    5   4   2      0\n",
            "2  167   17    5   4  50  27  2  5  4  18   2   5  155   4  50      0\n",
            "3  104  104  106  83  59   4  2  2  2   2   2   5   50  27   4      0\n",
            "4  104  106   83  59   4   2  2  2  2   2   5  50   27   4  27      0 \n",
            "\n",
            "Normal len: 259 \n",
            "Intrusion len: 139\n"
          ]
        }
      ]
    },
    {
      "cell_type": "markdown",
      "metadata": {
        "id": "7ohcyx-nmoYj"
      },
      "source": [
        "## **Partition Training and Testing dataset 70/30**"
      ]
    },
    {
      "cell_type": "markdown",
      "metadata": {
        "id": "RQ7j7n01sZE1"
      },
      "source": [
        "If there is not enough data from either class, bootstrap to generate more data and create a balanced sample"
      ]
    },
    {
      "cell_type": "code",
      "metadata": {
        "colab": {
          "base_uri": "https://localhost:8080/"
        },
        "id": "Dcj-XXjMZ57h",
        "outputId": "d7c7bba6-9a83-4467-eaaa-56aa32ab2fc0"
      },
      "source": [
        "# combine normal and intrusion data and split them into training and testing sets\n",
        "df = normal.append(intrusion, ignore_index=True).astype(int)\n",
        "print('Df sz:', df.shape)\n",
        "\n",
        "# Spliting into training and testing\n",
        "x_train, x_test, y_train, y_test = train_test_split(df.iloc[:,:-1], df['Label'], test_size = 0.30, shuffle=True)\n",
        "\n",
        "# Reset index of training and testing sets\n",
        "x_train.reset_index(drop=True, inplace=True); y_train.reset_index(drop=True, inplace=True)\n",
        "x_test.reset_index(drop=True, inplace=True);  y_test.reset_index(drop=True, inplace=True)\n",
        "\n",
        "print('Train sz:',len(x_train), len(y_train))\n",
        "intrusion_train = y_train.loc[y_train == 1]\n",
        "normal_train = y_train.loc[y_train == 0]\n",
        "print('Train set: Intrusion vs. Normal cases', len(y_train.iloc[intrusion_train] ), len(y_train.iloc[normal_train] ))\n",
        "\n",
        "print('Test sz:', len(x_test), len(y_test))\n",
        "intrusion_test = y_test.loc[y_test == 1]\n",
        "normal_test = y_test.loc[y_test == 0]\n",
        "print('Test set: Intrusion vs. Normal cases', len(y_test.iloc[intrusion_test] ), len(y_test.iloc[normal_test] ))"
      ],
      "execution_count": 492,
      "outputs": [
        {
          "output_type": "stream",
          "name": "stdout",
          "text": [
            "Df sz: (398, 16)\n",
            "Train sz: 278 278\n",
            "Train set: Intrusion vs. Normal cases 92 186\n",
            "Test sz: 120 120\n",
            "Test set: Intrusion vs. Normal cases 47 73\n"
          ]
        }
      ]
    },
    {
      "cell_type": "code",
      "metadata": {
        "colab": {
          "base_uri": "https://localhost:8080/",
          "height": 420
        },
        "id": "c7NZyzbVcNTk",
        "outputId": "262b66bd-99e4-46a5-fc3f-b66d17a86745"
      },
      "source": [
        "# Bootstrap training data\n",
        "\n",
        "## Lived-name has more intrusion cases than normal cases (189 > 71) --> bootstrap normal cases only\n",
        "x_train['Label'] = y_train\n",
        "\n",
        "if len(intrusion_train) > len(normal_train):\n",
        "  x_train = x_train.iloc[intrusion_train.index].append(x_train.iloc[normal_train.index].sample(n = len(intrusion_train), replace=True), ignore_index=True) #upsampled normal data and add to train set\n",
        "else:\n",
        "  x_train = x_train.iloc[normal_train.index].append(x_train.iloc[intrusion_train.index].sample(n = len(normal_train), replace=True), ignore_index=True) #upsampled intrusion data and add to train set\n",
        "\n",
        "#x_train = x_train.append(x_train.sample(frac=1), ignore_index=True) # Bootstrap training data in case there is not enough data\n",
        "x_train = x_train.sample(frac= SZ) # Shuffle data with a SZ proportion\n",
        "x_train.reset_index(drop=True, inplace=True)\n",
        "y_train = x_train['Label']\n",
        "x_train.drop(columns='Label', inplace=True)\n",
        "x_train"
      ],
      "execution_count": 493,
      "outputs": [
        {
          "output_type": "execute_result",
          "data": {
            "text/html": [
              "<div>\n",
              "<style scoped>\n",
              "    .dataframe tbody tr th:only-of-type {\n",
              "        vertical-align: middle;\n",
              "    }\n",
              "\n",
              "    .dataframe tbody tr th {\n",
              "        vertical-align: top;\n",
              "    }\n",
              "\n",
              "    .dataframe thead th {\n",
              "        text-align: right;\n",
              "    }\n",
              "</style>\n",
              "<table border=\"1\" class=\"dataframe\">\n",
              "  <thead>\n",
              "    <tr style=\"text-align: right;\">\n",
              "      <th></th>\n",
              "      <th>0</th>\n",
              "      <th>1</th>\n",
              "      <th>2</th>\n",
              "      <th>3</th>\n",
              "      <th>4</th>\n",
              "      <th>5</th>\n",
              "      <th>6</th>\n",
              "      <th>7</th>\n",
              "      <th>8</th>\n",
              "      <th>9</th>\n",
              "      <th>10</th>\n",
              "      <th>11</th>\n",
              "      <th>12</th>\n",
              "      <th>13</th>\n",
              "      <th>14</th>\n",
              "    </tr>\n",
              "  </thead>\n",
              "  <tbody>\n",
              "    <tr>\n",
              "      <th>0</th>\n",
              "      <td>66</td>\n",
              "      <td>5</td>\n",
              "      <td>23</td>\n",
              "      <td>45</td>\n",
              "      <td>4</td>\n",
              "      <td>27</td>\n",
              "      <td>66</td>\n",
              "      <td>5</td>\n",
              "      <td>4</td>\n",
              "      <td>2</td>\n",
              "      <td>66</td>\n",
              "      <td>66</td>\n",
              "      <td>66</td>\n",
              "      <td>5</td>\n",
              "      <td>4</td>\n",
              "    </tr>\n",
              "    <tr>\n",
              "      <th>1</th>\n",
              "      <td>93</td>\n",
              "      <td>100</td>\n",
              "      <td>5</td>\n",
              "      <td>112</td>\n",
              "      <td>19</td>\n",
              "      <td>93</td>\n",
              "      <td>19</td>\n",
              "      <td>100</td>\n",
              "      <td>100</td>\n",
              "      <td>50</td>\n",
              "      <td>88</td>\n",
              "      <td>100</td>\n",
              "      <td>143</td>\n",
              "      <td>128</td>\n",
              "      <td>85</td>\n",
              "    </tr>\n",
              "    <tr>\n",
              "      <th>2</th>\n",
              "      <td>4</td>\n",
              "      <td>18</td>\n",
              "      <td>2</td>\n",
              "      <td>5</td>\n",
              "      <td>155</td>\n",
              "      <td>4</td>\n",
              "      <td>50</td>\n",
              "      <td>27</td>\n",
              "      <td>2</td>\n",
              "      <td>19</td>\n",
              "      <td>4</td>\n",
              "      <td>127</td>\n",
              "      <td>66</td>\n",
              "      <td>5</td>\n",
              "      <td>93</td>\n",
              "    </tr>\n",
              "    <tr>\n",
              "      <th>3</th>\n",
              "      <td>5</td>\n",
              "      <td>112</td>\n",
              "      <td>19</td>\n",
              "      <td>93</td>\n",
              "      <td>19</td>\n",
              "      <td>100</td>\n",
              "      <td>50</td>\n",
              "      <td>88</td>\n",
              "      <td>100</td>\n",
              "      <td>143</td>\n",
              "      <td>128</td>\n",
              "      <td>85</td>\n",
              "      <td>89</td>\n",
              "      <td>121</td>\n",
              "      <td>112</td>\n",
              "    </tr>\n",
              "    <tr>\n",
              "      <th>4</th>\n",
              "      <td>19</td>\n",
              "      <td>93</td>\n",
              "      <td>19</td>\n",
              "      <td>100</td>\n",
              "      <td>100</td>\n",
              "      <td>100</td>\n",
              "      <td>100</td>\n",
              "      <td>50</td>\n",
              "      <td>88</td>\n",
              "      <td>100</td>\n",
              "      <td>143</td>\n",
              "      <td>128</td>\n",
              "      <td>85</td>\n",
              "      <td>89</td>\n",
              "      <td>121</td>\n",
              "    </tr>\n",
              "    <tr>\n",
              "      <th>...</th>\n",
              "      <td>...</td>\n",
              "      <td>...</td>\n",
              "      <td>...</td>\n",
              "      <td>...</td>\n",
              "      <td>...</td>\n",
              "      <td>...</td>\n",
              "      <td>...</td>\n",
              "      <td>...</td>\n",
              "      <td>...</td>\n",
              "      <td>...</td>\n",
              "      <td>...</td>\n",
              "      <td>...</td>\n",
              "      <td>...</td>\n",
              "      <td>...</td>\n",
              "      <td>...</td>\n",
              "    </tr>\n",
              "    <tr>\n",
              "      <th>367</th>\n",
              "      <td>59</td>\n",
              "      <td>4</td>\n",
              "      <td>2</td>\n",
              "      <td>2</td>\n",
              "      <td>2</td>\n",
              "      <td>2</td>\n",
              "      <td>2</td>\n",
              "      <td>5</td>\n",
              "      <td>50</td>\n",
              "      <td>27</td>\n",
              "      <td>4</td>\n",
              "      <td>27</td>\n",
              "      <td>88</td>\n",
              "      <td>167</td>\n",
              "      <td>167</td>\n",
              "    </tr>\n",
              "    <tr>\n",
              "      <th>368</th>\n",
              "      <td>50</td>\n",
              "      <td>27</td>\n",
              "      <td>2</td>\n",
              "      <td>5</td>\n",
              "      <td>4</td>\n",
              "      <td>18</td>\n",
              "      <td>2</td>\n",
              "      <td>5</td>\n",
              "      <td>155</td>\n",
              "      <td>4</td>\n",
              "      <td>50</td>\n",
              "      <td>27</td>\n",
              "      <td>2</td>\n",
              "      <td>19</td>\n",
              "      <td>4</td>\n",
              "    </tr>\n",
              "    <tr>\n",
              "      <th>369</th>\n",
              "      <td>105</td>\n",
              "      <td>104</td>\n",
              "      <td>104</td>\n",
              "      <td>106</td>\n",
              "      <td>105</td>\n",
              "      <td>104</td>\n",
              "      <td>104</td>\n",
              "      <td>106</td>\n",
              "      <td>9</td>\n",
              "      <td>9</td>\n",
              "      <td>9</td>\n",
              "      <td>9</td>\n",
              "      <td>9</td>\n",
              "      <td>5</td>\n",
              "      <td>5</td>\n",
              "    </tr>\n",
              "    <tr>\n",
              "      <th>370</th>\n",
              "      <td>5</td>\n",
              "      <td>3</td>\n",
              "      <td>3</td>\n",
              "      <td>3</td>\n",
              "      <td>5</td>\n",
              "      <td>5</td>\n",
              "      <td>4</td>\n",
              "      <td>2</td>\n",
              "      <td>18</td>\n",
              "      <td>3</td>\n",
              "      <td>5</td>\n",
              "      <td>8</td>\n",
              "      <td>9</td>\n",
              "      <td>93</td>\n",
              "      <td>94</td>\n",
              "    </tr>\n",
              "    <tr>\n",
              "      <th>371</th>\n",
              "      <td>93</td>\n",
              "      <td>100</td>\n",
              "      <td>5</td>\n",
              "      <td>112</td>\n",
              "      <td>19</td>\n",
              "      <td>93</td>\n",
              "      <td>19</td>\n",
              "      <td>100</td>\n",
              "      <td>100</td>\n",
              "      <td>50</td>\n",
              "      <td>88</td>\n",
              "      <td>100</td>\n",
              "      <td>143</td>\n",
              "      <td>128</td>\n",
              "      <td>85</td>\n",
              "    </tr>\n",
              "  </tbody>\n",
              "</table>\n",
              "<p>372 rows × 15 columns</p>\n",
              "</div>"
            ],
            "text/plain": [
              "      0    1    2    3    4    5    6    7    8    9    10   11   12   13   14\n",
              "0     66    5   23   45    4   27   66    5    4    2   66   66   66    5    4\n",
              "1     93  100    5  112   19   93   19  100  100   50   88  100  143  128   85\n",
              "2      4   18    2    5  155    4   50   27    2   19    4  127   66    5   93\n",
              "3      5  112   19   93   19  100   50   88  100  143  128   85   89  121  112\n",
              "4     19   93   19  100  100  100  100   50   88  100  143  128   85   89  121\n",
              "..   ...  ...  ...  ...  ...  ...  ...  ...  ...  ...  ...  ...  ...  ...  ...\n",
              "367   59    4    2    2    2    2    2    5   50   27    4   27   88  167  167\n",
              "368   50   27    2    5    4   18    2    5  155    4   50   27    2   19    4\n",
              "369  105  104  104  106  105  104  104  106    9    9    9    9    9    5    5\n",
              "370    5    3    3    3    5    5    4    2   18    3    5    8    9   93   94\n",
              "371   93  100    5  112   19   93   19  100  100   50   88  100  143  128   85\n",
              "\n",
              "[372 rows x 15 columns]"
            ]
          },
          "metadata": {},
          "execution_count": 493
        }
      ]
    },
    {
      "cell_type": "code",
      "metadata": {
        "id": "LFndBFrVTcie"
      },
      "source": [
        ""
      ],
      "execution_count": 493,
      "outputs": []
    },
    {
      "cell_type": "code",
      "metadata": {
        "colab": {
          "base_uri": "https://localhost:8080/"
        },
        "id": "DnDDh0TWsyS7",
        "outputId": "15610029-ee36-4229-807e-af6153283867"
      },
      "source": [
        "y_train"
      ],
      "execution_count": 494,
      "outputs": [
        {
          "output_type": "execute_result",
          "data": {
            "text/plain": [
              "0      0\n",
              "1      1\n",
              "2      0\n",
              "3      0\n",
              "4      1\n",
              "      ..\n",
              "367    0\n",
              "368    0\n",
              "369    1\n",
              "370    0\n",
              "371    1\n",
              "Name: Label, Length: 372, dtype: int64"
            ]
          },
          "metadata": {},
          "execution_count": 494
        }
      ]
    },
    {
      "cell_type": "code",
      "metadata": {
        "colab": {
          "base_uri": "https://localhost:8080/",
          "height": 420
        },
        "id": "JFNhH053qfct",
        "outputId": "9a584c5a-2e6e-42da-cba1-778479b78d7f"
      },
      "source": [
        "x_test"
      ],
      "execution_count": 495,
      "outputs": [
        {
          "output_type": "execute_result",
          "data": {
            "text/html": [
              "<div>\n",
              "<style scoped>\n",
              "    .dataframe tbody tr th:only-of-type {\n",
              "        vertical-align: middle;\n",
              "    }\n",
              "\n",
              "    .dataframe tbody tr th {\n",
              "        vertical-align: top;\n",
              "    }\n",
              "\n",
              "    .dataframe thead th {\n",
              "        text-align: right;\n",
              "    }\n",
              "</style>\n",
              "<table border=\"1\" class=\"dataframe\">\n",
              "  <thead>\n",
              "    <tr style=\"text-align: right;\">\n",
              "      <th></th>\n",
              "      <th>0</th>\n",
              "      <th>1</th>\n",
              "      <th>2</th>\n",
              "      <th>3</th>\n",
              "      <th>4</th>\n",
              "      <th>5</th>\n",
              "      <th>6</th>\n",
              "      <th>7</th>\n",
              "      <th>8</th>\n",
              "      <th>9</th>\n",
              "      <th>10</th>\n",
              "      <th>11</th>\n",
              "      <th>12</th>\n",
              "      <th>13</th>\n",
              "      <th>14</th>\n",
              "    </tr>\n",
              "  </thead>\n",
              "  <tbody>\n",
              "    <tr>\n",
              "      <th>0</th>\n",
              "      <td>3</td>\n",
              "      <td>5</td>\n",
              "      <td>5</td>\n",
              "      <td>4</td>\n",
              "      <td>2</td>\n",
              "      <td>18</td>\n",
              "      <td>3</td>\n",
              "      <td>5</td>\n",
              "      <td>8</td>\n",
              "      <td>50</td>\n",
              "      <td>3</td>\n",
              "      <td>105</td>\n",
              "      <td>104</td>\n",
              "      <td>104</td>\n",
              "      <td>106</td>\n",
              "    </tr>\n",
              "    <tr>\n",
              "      <th>1</th>\n",
              "      <td>119</td>\n",
              "      <td>3</td>\n",
              "      <td>3</td>\n",
              "      <td>3</td>\n",
              "      <td>3</td>\n",
              "      <td>3</td>\n",
              "      <td>32</td>\n",
              "      <td>17</td>\n",
              "      <td>4</td>\n",
              "      <td>2</td>\n",
              "      <td>5</td>\n",
              "      <td>53</td>\n",
              "      <td>3</td>\n",
              "      <td>3</td>\n",
              "      <td>3</td>\n",
              "    </tr>\n",
              "    <tr>\n",
              "      <th>2</th>\n",
              "      <td>3</td>\n",
              "      <td>5</td>\n",
              "      <td>4</td>\n",
              "      <td>2</td>\n",
              "      <td>18</td>\n",
              "      <td>3</td>\n",
              "      <td>5</td>\n",
              "      <td>8</td>\n",
              "      <td>9</td>\n",
              "      <td>5</td>\n",
              "      <td>5</td>\n",
              "      <td>5</td>\n",
              "      <td>-1</td>\n",
              "      <td>-1</td>\n",
              "      <td>-1</td>\n",
              "    </tr>\n",
              "    <tr>\n",
              "      <th>3</th>\n",
              "      <td>18</td>\n",
              "      <td>3</td>\n",
              "      <td>5</td>\n",
              "      <td>8</td>\n",
              "      <td>9</td>\n",
              "      <td>5</td>\n",
              "      <td>5</td>\n",
              "      <td>5</td>\n",
              "      <td>-1</td>\n",
              "      <td>-1</td>\n",
              "      <td>-1</td>\n",
              "      <td>-1</td>\n",
              "      <td>-1</td>\n",
              "      <td>-1</td>\n",
              "      <td>-1</td>\n",
              "    </tr>\n",
              "    <tr>\n",
              "      <th>4</th>\n",
              "      <td>3</td>\n",
              "      <td>5</td>\n",
              "      <td>8</td>\n",
              "      <td>9</td>\n",
              "      <td>93</td>\n",
              "      <td>94</td>\n",
              "      <td>3</td>\n",
              "      <td>2</td>\n",
              "      <td>5</td>\n",
              "      <td>5</td>\n",
              "      <td>5</td>\n",
              "      <td>5</td>\n",
              "      <td>-1</td>\n",
              "      <td>-1</td>\n",
              "      <td>-1</td>\n",
              "    </tr>\n",
              "    <tr>\n",
              "      <th>...</th>\n",
              "      <td>...</td>\n",
              "      <td>...</td>\n",
              "      <td>...</td>\n",
              "      <td>...</td>\n",
              "      <td>...</td>\n",
              "      <td>...</td>\n",
              "      <td>...</td>\n",
              "      <td>...</td>\n",
              "      <td>...</td>\n",
              "      <td>...</td>\n",
              "      <td>...</td>\n",
              "      <td>...</td>\n",
              "      <td>...</td>\n",
              "      <td>...</td>\n",
              "      <td>...</td>\n",
              "    </tr>\n",
              "    <tr>\n",
              "      <th>115</th>\n",
              "      <td>56</td>\n",
              "      <td>119</td>\n",
              "      <td>119</td>\n",
              "      <td>3</td>\n",
              "      <td>3</td>\n",
              "      <td>3</td>\n",
              "      <td>3</td>\n",
              "      <td>3</td>\n",
              "      <td>32</td>\n",
              "      <td>50</td>\n",
              "      <td>27</td>\n",
              "      <td>105</td>\n",
              "      <td>104</td>\n",
              "      <td>104</td>\n",
              "      <td>106</td>\n",
              "    </tr>\n",
              "    <tr>\n",
              "      <th>116</th>\n",
              "      <td>93</td>\n",
              "      <td>19</td>\n",
              "      <td>100</td>\n",
              "      <td>50</td>\n",
              "      <td>88</td>\n",
              "      <td>100</td>\n",
              "      <td>143</td>\n",
              "      <td>128</td>\n",
              "      <td>85</td>\n",
              "      <td>89</td>\n",
              "      <td>121</td>\n",
              "      <td>112</td>\n",
              "      <td>5</td>\n",
              "      <td>17</td>\n",
              "      <td>4</td>\n",
              "    </tr>\n",
              "    <tr>\n",
              "      <th>117</th>\n",
              "      <td>4</td>\n",
              "      <td>56</td>\n",
              "      <td>7</td>\n",
              "      <td>56</td>\n",
              "      <td>119</td>\n",
              "      <td>2</td>\n",
              "      <td>3</td>\n",
              "      <td>2</td>\n",
              "      <td>5</td>\n",
              "      <td>3</td>\n",
              "      <td>3</td>\n",
              "      <td>3</td>\n",
              "      <td>5</td>\n",
              "      <td>5</td>\n",
              "      <td>4</td>\n",
              "    </tr>\n",
              "    <tr>\n",
              "      <th>118</th>\n",
              "      <td>5</td>\n",
              "      <td>5</td>\n",
              "      <td>5</td>\n",
              "      <td>5</td>\n",
              "      <td>-1</td>\n",
              "      <td>-1</td>\n",
              "      <td>-1</td>\n",
              "      <td>-1</td>\n",
              "      <td>-1</td>\n",
              "      <td>-1</td>\n",
              "      <td>-1</td>\n",
              "      <td>-1</td>\n",
              "      <td>-1</td>\n",
              "      <td>-1</td>\n",
              "      <td>-1</td>\n",
              "    </tr>\n",
              "    <tr>\n",
              "      <th>119</th>\n",
              "      <td>5</td>\n",
              "      <td>93</td>\n",
              "      <td>100</td>\n",
              "      <td>5</td>\n",
              "      <td>112</td>\n",
              "      <td>19</td>\n",
              "      <td>93</td>\n",
              "      <td>19</td>\n",
              "      <td>100</td>\n",
              "      <td>100</td>\n",
              "      <td>100</td>\n",
              "      <td>100</td>\n",
              "      <td>50</td>\n",
              "      <td>88</td>\n",
              "      <td>100</td>\n",
              "    </tr>\n",
              "  </tbody>\n",
              "</table>\n",
              "<p>120 rows × 15 columns</p>\n",
              "</div>"
            ],
            "text/plain": [
              "      0    1    2   3    4    5    6    7    8    9    10   11   12   13   14\n",
              "0      3    5    5   4    2   18    3    5    8   50    3  105  104  104  106\n",
              "1    119    3    3   3    3    3   32   17    4    2    5   53    3    3    3\n",
              "2      3    5    4   2   18    3    5    8    9    5    5    5   -1   -1   -1\n",
              "3     18    3    5   8    9    5    5    5   -1   -1   -1   -1   -1   -1   -1\n",
              "4      3    5    8   9   93   94    3    2    5    5    5    5   -1   -1   -1\n",
              "..   ...  ...  ...  ..  ...  ...  ...  ...  ...  ...  ...  ...  ...  ...  ...\n",
              "115   56  119  119   3    3    3    3    3   32   50   27  105  104  104  106\n",
              "116   93   19  100  50   88  100  143  128   85   89  121  112    5   17    4\n",
              "117    4   56    7  56  119    2    3    2    5    3    3    3    5    5    4\n",
              "118    5    5    5   5   -1   -1   -1   -1   -1   -1   -1   -1   -1   -1   -1\n",
              "119    5   93  100   5  112   19   93   19  100  100  100  100   50   88  100\n",
              "\n",
              "[120 rows x 15 columns]"
            ]
          },
          "metadata": {},
          "execution_count": 495
        }
      ]
    },
    {
      "cell_type": "markdown",
      "metadata": {
        "id": "-0UCA-ZuXHX_"
      },
      "source": [
        "\n",
        "# **Performance Measures**\n",
        "\n",
        "\n",
        "1.   Function calc_false_positive: Calculates FPR\n",
        "2.   Function print_performance: Formats printing performance metrics and ROC curve for each model\n",
        "3.   Function color_confusion_matrix: prints out a heatmap of confusion matrix in blue color scale\n",
        "\n",
        "\n",
        "\n",
        "\n"
      ]
    },
    {
      "cell_type": "code",
      "metadata": {
        "id": "XA1PZX4XBNLO"
      },
      "source": [
        "# This function calculate False Positive Rate given a confusion matrix\n",
        "def calc_false_positive (cmatrix):\n",
        "  specificity = cmatrix[0,0]/(cmatrix[0,0] + cmatrix[0,1])\n",
        "  return 1-specificity\n",
        "\n",
        "# This function prints performance metrics and ROC curve given the model name, true labels and predicted labels\n",
        "def print_performance( model_name, true_labels, pred_labels):\n",
        "  # rows are actual, columns are predicted\n",
        "  cmatrix = confusion_matrix(true_labels, pred_labels)\n",
        "  fpr = calc_false_positive(cmatrix)\n",
        "\n",
        "  print('Confusion Matrix: \\n',cmatrix)\n",
        "  print('\\nTesting Accuracy: %.2f'% metrics.accuracy_score(true_labels, pred_labels))\n",
        "  print('Precision:%.2f'%  metrics.precision_score(true_labels, pred_labels))\n",
        "  print('Recall: %.2f'% metrics.recall_score(true_labels, pred_labels))\n",
        "  print('False Positive Rate: %.2f'% fpr)\n",
        "  print('\\nClassification report:', classification_report(true_labels, pred_labels), sep='\\n')\n",
        "  print('AUC: %.2f'% roc_auc_score(true_labels, pred_labels))\n",
        "\n",
        "  false_positive_rate, recall, thresholds = roc_curve(true_labels, pred_labels)\n",
        "  roc_auc = auc(false_positive_rate, recall)\n",
        "  plt.figure()\n",
        "  if CLEAN: clean_status='Clean '\n",
        "  else: clean_status ='Overlapped and Duplicated '\n",
        "  plt.title( model_name+' ROC Curve on '+ clean_status + DATA + ' with Seq Len of '+ str(SEQ_WINDOW))\n",
        "  plt.plot(false_positive_rate, recall, 'b', label = 'AUC = %0.2f' %roc_auc)\n",
        "  plt.legend(loc='lower right')\n",
        "  plt.plot([0,1], [0,1], 'r--')\n",
        "  plt.xlim([0.0,1.0])\n",
        "  plt.ylim([0.0,1.1])\n",
        "  plt.ylabel('Recall')\n",
        "  plt.xlabel('False Positive Rate (1-Specificity)')\n",
        "  #plt.savefig(model_name+'-ROC.jpg')\n",
        "  plt.show()\n",
        "\n",
        "# Plot a heatmap of confusion matrix given the model name, a classifier model, testing data and the predicted label\n",
        "def color_confusion_matrix( model_name, model, x_test, y_test, y_predicted):\n",
        "  class_names = ['Normal', 'Intrusion']\n",
        "\n",
        "  fig, ax = plt.subplots(figsize=(6, 6))\n",
        "  plot_confusion_matrix(model, x_test, y_test, display_labels=class_names, \n",
        "                        values_format='d', ax = ax, cmap=plt.cm.Blues)\n",
        "  plt.title('Confusion Matrix of ' + str(model_name))\n",
        "  #plt.savefig(model_name+'-CM.jpg')\n",
        "  plt.show()\n",
        "\n",
        "  cmatrix = confusion_matrix(y_test, y_predicted)\n",
        "  print(cmatrix)\n",
        "\n",
        "\n",
        "# Save performance measure dict of each model to a file\n",
        "def write_to_file (varname, model_name):\n",
        "  clean_status = 'clean' if CLEAN else 'unclean'\n",
        "  filename = DATA +'-'+ str(SEQ_WINDOW) +'-'+ clean_status + \".txt\"\n",
        "  file = open(filename, \"a\")\n",
        "  str_dictionary = repr(varname)\n",
        "  file.write(\"{}_test = \".format(model_name) + str_dictionary + \"\\n\")\n",
        "  file.close()\n"
      ],
      "execution_count": 496,
      "outputs": []
    },
    {
      "cell_type": "markdown",
      "metadata": {
        "id": "s-keFefagnSl"
      },
      "source": [
        "# **K-means**"
      ]
    },
    {
      "cell_type": "code",
      "metadata": {
        "id": "a0DPPwlWKeoA",
        "colab": {
          "base_uri": "https://localhost:8080/",
          "height": 680
        },
        "outputId": "fdccc8bb-edd6-46b7-e49b-4c69bdf52b94"
      },
      "source": [
        "from sklearn.cluster import KMeans\n",
        "from sklearn import metrics\n",
        "from sklearn.metrics import adjusted_rand_score\n",
        "\n",
        "# Choose K cluster = 2\n",
        "kmeans = KMeans(n_clusters=2)\n",
        "# Fit Kmeans to the training set\n",
        "kmeans.fit(x_train)\n",
        "\n",
        "\n",
        "# Recording TPR and FPR to plot TRAINING ROC curves\n",
        "y_pred = kmeans.predict(x_train)\n",
        "KM_train = {}\n",
        "KM_train['fpr'], KM_train['tpr'], thresh = roc_curve(y_train, y_pred)\n",
        "KM_train['auc'] = roc_auc_score(y_train, y_pred)\n",
        "\n",
        "## TESTING K-MEANS\n",
        "y_predicted = kmeans.predict(x_test)\n",
        "\n",
        "print_performance('Kmeans',y_test, y_predicted)\n",
        "\n",
        "# Number of iterations before converging\n",
        "print('Number of iterations before converging:', kmeans.n_iter_)\n",
        "\n",
        "\n",
        "# Recording TPR and FPR for the TESTING ROC curves\n",
        "KM_test = {}\n",
        "KM_test['fpr'], KM_test['tpr'], thresh = roc_curve(y_test, y_predicted)\n",
        "KM_test['auc'] = roc_auc_score(y_test, y_predicted)\n",
        "\n",
        "\n",
        "print('Train AUC: %.3f vs Test AUC: %.3f' %(KM_train['auc'], KM_test['auc']))"
      ],
      "execution_count": 497,
      "outputs": [
        {
          "output_type": "stream",
          "name": "stdout",
          "text": [
            "Confusion Matrix: \n",
            " [[52 21]\n",
            " [23 24]]\n",
            "\n",
            "Testing Accuracy: 0.63\n",
            "Precision:0.53\n",
            "Recall: 0.51\n",
            "False Positive Rate: 0.29\n",
            "\n",
            "Classification report:\n",
            "              precision    recall  f1-score   support\n",
            "\n",
            "           0       0.69      0.71      0.70        73\n",
            "           1       0.53      0.51      0.52        47\n",
            "\n",
            "    accuracy                           0.63       120\n",
            "   macro avg       0.61      0.61      0.61       120\n",
            "weighted avg       0.63      0.63      0.63       120\n",
            "\n",
            "AUC: 0.61\n"
          ]
        },
        {
          "output_type": "display_data",
          "data": {
            "image/png": "[encoded data removed]",
            "text/plain": [
              "<Figure size 432x288 with 1 Axes>"
            ]
          },
          "metadata": {
            "needs_background": "light"
          }
        },
        {
          "output_type": "stream",
          "name": "stdout",
          "text": [
            "Number of iterations before converging: 5\n",
            "Train AUC: 0.616 vs Test AUC: 0.611\n"
          ]
        }
      ]
    },
    {
      "cell_type": "code",
      "metadata": {
        "id": "nbLcjt6vF8aU"
      },
      "source": [
        "write_to_file(KM_test, 'KM')"
      ],
      "execution_count": 498,
      "outputs": []
    },
    {
      "cell_type": "markdown",
      "metadata": {
        "id": "CKMnutnOgsZ5"
      },
      "source": [
        "# **Logistic Regression**"
      ]
    },
    {
      "cell_type": "code",
      "metadata": {
        "id": "mk83mqk_fC9k",
        "colab": {
          "base_uri": "https://localhost:8080/",
          "height": 663
        },
        "outputId": "29941182-e537-4ae2-dbda-eedbb90751cd"
      },
      "source": [
        "from sklearn.linear_model import LogisticRegression\n",
        "\n",
        "# Fit the model on the training set\n",
        "lgModel = LogisticRegression().fit(x_train, y_train)\n",
        "y_pred = lgModel.predict(x_train)\n",
        "\n",
        "# Recording TPR and FPR for the TESTING ROC curves\n",
        "LR_train = {}\n",
        "LR_train['fpr'], LR_train['tpr'], thresh = roc_curve(y_train, y_pred)\n",
        "LR_train['auc'] = roc_auc_score(y_train, y_pred)\n",
        "\n",
        "\n",
        "## TESTING Logistic Regression\n",
        "y_predicted = lgModel.predict(x_test)\n",
        "\n",
        "# Evaluating Performance on Testing data\n",
        "print_performance('Logistic Regression', y_test, y_predicted)\n",
        "\n",
        "# Recording TPR and FPR for the multi-ROC curves\n",
        "LR_test = {}\n",
        "LR_test['fpr'], LR_test['tpr'], thresh = roc_curve(y_test, y_predicted)\n",
        "LR_test['auc'] = roc_auc_score(y_test, y_predicted)\n",
        "\n",
        "print('Train AUC: %.3f vs Test AUC: %.3f' %(LR_train['auc'], LR_test['auc']))"
      ],
      "execution_count": 499,
      "outputs": [
        {
          "output_type": "stream",
          "name": "stdout",
          "text": [
            "Confusion Matrix: \n",
            " [[38 35]\n",
            " [26 21]]\n",
            "\n",
            "Testing Accuracy: 0.49\n",
            "Precision:0.38\n",
            "Recall: 0.45\n",
            "False Positive Rate: 0.48\n",
            "\n",
            "Classification report:\n",
            "              precision    recall  f1-score   support\n",
            "\n",
            "           0       0.59      0.52      0.55        73\n",
            "           1       0.38      0.45      0.41        47\n",
            "\n",
            "    accuracy                           0.49       120\n",
            "   macro avg       0.48      0.48      0.48       120\n",
            "weighted avg       0.51      0.49      0.50       120\n",
            "\n",
            "AUC: 0.48\n"
          ]
        },
        {
          "output_type": "display_data",
          "data": {
            "image/png": "[encoded data removed]",
            "text/plain": [
              "<Figure size 432x288 with 1 Axes>"
            ]
          },
          "metadata": {
            "needs_background": "light"
          }
        },
        {
          "output_type": "stream",
          "name": "stdout",
          "text": [
            "Train AUC: 0.653 vs Test AUC: 0.484\n"
          ]
        }
      ]
    },
    {
      "cell_type": "code",
      "metadata": {
        "id": "xrbnifXmGB3W"
      },
      "source": [
        "# Save performance to text file\n",
        "write_to_file(LR_test, 'LR')"
      ],
      "execution_count": 500,
      "outputs": []
    },
    {
      "cell_type": "markdown",
      "metadata": {
        "id": "boOPLuv1zl0p"
      },
      "source": [
        "# **SVM**\n",
        "\n",
        "This model uses a Polynomial kernel, and the rest of the parameters are as default\n",
        "\n",
        "\n",
        "\n",
        "\n"
      ]
    },
    {
      "cell_type": "code",
      "metadata": {
        "id": "N6zM_WRNH74s",
        "colab": {
          "base_uri": "https://localhost:8080/"
        },
        "outputId": "c70d3d75-ac90-4247-b8f6-ee534178449c"
      },
      "source": [
        "if len(x_train) > 500000: \n",
        "  svm_sz = 0.1  \n",
        "elif len(x_train) > 100000:\n",
        "  svm_sz = 0.2\n",
        "else:\n",
        "  svm_sz = 1\n",
        "\n",
        "svm_sz"
      ],
      "execution_count": 501,
      "outputs": [
        {
          "output_type": "execute_result",
          "data": {
            "text/plain": [
              "1"
            ]
          },
          "metadata": {},
          "execution_count": 501
        }
      ]
    },
    {
      "cell_type": "code",
      "metadata": {
        "id": "hrM4M1TZEpvK",
        "colab": {
          "base_uri": "https://localhost:8080/",
          "height": 420
        },
        "outputId": "d53d60f1-e0e6-43b6-9896-7f941da4c17b"
      },
      "source": [
        "\n",
        "train_data = x_train.copy(deep=True) # create a deep copy of x_train, so any modification to train_data won't affect x_train\n",
        "train_data['Label'] = y_train\n",
        "train_data = train_data.groupby('Label').sample(frac = svm_sz)\n",
        "train_data.reset_index(drop=True, inplace= True)\n",
        "#train_data\n",
        "svm_x_train = train_data.drop(columns='Label')\n",
        "svm_y_train = train_data['Label']\n",
        "svm_x_train"
      ],
      "execution_count": 502,
      "outputs": [
        {
          "output_type": "execute_result",
          "data": {
            "text/html": [
              "<div>\n",
              "<style scoped>\n",
              "    .dataframe tbody tr th:only-of-type {\n",
              "        vertical-align: middle;\n",
              "    }\n",
              "\n",
              "    .dataframe tbody tr th {\n",
              "        vertical-align: top;\n",
              "    }\n",
              "\n",
              "    .dataframe thead th {\n",
              "        text-align: right;\n",
              "    }\n",
              "</style>\n",
              "<table border=\"1\" class=\"dataframe\">\n",
              "  <thead>\n",
              "    <tr style=\"text-align: right;\">\n",
              "      <th></th>\n",
              "      <th>0</th>\n",
              "      <th>1</th>\n",
              "      <th>2</th>\n",
              "      <th>3</th>\n",
              "      <th>4</th>\n",
              "      <th>5</th>\n",
              "      <th>6</th>\n",
              "      <th>7</th>\n",
              "      <th>8</th>\n",
              "      <th>9</th>\n",
              "      <th>10</th>\n",
              "      <th>11</th>\n",
              "      <th>12</th>\n",
              "      <th>13</th>\n",
              "      <th>14</th>\n",
              "    </tr>\n",
              "  </thead>\n",
              "  <tbody>\n",
              "    <tr>\n",
              "      <th>0</th>\n",
              "      <td>127</td>\n",
              "      <td>2</td>\n",
              "      <td>18</td>\n",
              "      <td>3</td>\n",
              "      <td>5</td>\n",
              "      <td>56</td>\n",
              "      <td>7</td>\n",
              "      <td>56</td>\n",
              "      <td>119</td>\n",
              "      <td>119</td>\n",
              "      <td>3</td>\n",
              "      <td>3</td>\n",
              "      <td>32</td>\n",
              "      <td>50</td>\n",
              "      <td>27</td>\n",
              "    </tr>\n",
              "    <tr>\n",
              "      <th>1</th>\n",
              "      <td>9</td>\n",
              "      <td>9</td>\n",
              "      <td>5</td>\n",
              "      <td>3</td>\n",
              "      <td>5</td>\n",
              "      <td>5</td>\n",
              "      <td>-1</td>\n",
              "      <td>-1</td>\n",
              "      <td>-1</td>\n",
              "      <td>-1</td>\n",
              "      <td>-1</td>\n",
              "      <td>-1</td>\n",
              "      <td>-1</td>\n",
              "      <td>-1</td>\n",
              "      <td>-1</td>\n",
              "    </tr>\n",
              "    <tr>\n",
              "      <th>2</th>\n",
              "      <td>5</td>\n",
              "      <td>50</td>\n",
              "      <td>27</td>\n",
              "      <td>4</td>\n",
              "      <td>27</td>\n",
              "      <td>88</td>\n",
              "      <td>167</td>\n",
              "      <td>167</td>\n",
              "      <td>167</td>\n",
              "      <td>17</td>\n",
              "      <td>5</td>\n",
              "      <td>4</td>\n",
              "      <td>50</td>\n",
              "      <td>27</td>\n",
              "      <td>2</td>\n",
              "    </tr>\n",
              "    <tr>\n",
              "      <th>3</th>\n",
              "      <td>104</td>\n",
              "      <td>106</td>\n",
              "      <td>83</td>\n",
              "      <td>59</td>\n",
              "      <td>4</td>\n",
              "      <td>2</td>\n",
              "      <td>2</td>\n",
              "      <td>2</td>\n",
              "      <td>2</td>\n",
              "      <td>2</td>\n",
              "      <td>5</td>\n",
              "      <td>50</td>\n",
              "      <td>27</td>\n",
              "      <td>4</td>\n",
              "      <td>27</td>\n",
              "    </tr>\n",
              "    <tr>\n",
              "      <th>4</th>\n",
              "      <td>2</td>\n",
              "      <td>19</td>\n",
              "      <td>4</td>\n",
              "      <td>127</td>\n",
              "      <td>66</td>\n",
              "      <td>5</td>\n",
              "      <td>93</td>\n",
              "      <td>100</td>\n",
              "      <td>5</td>\n",
              "      <td>112</td>\n",
              "      <td>19</td>\n",
              "      <td>93</td>\n",
              "      <td>19</td>\n",
              "      <td>100</td>\n",
              "      <td>50</td>\n",
              "    </tr>\n",
              "    <tr>\n",
              "      <th>...</th>\n",
              "      <td>...</td>\n",
              "      <td>...</td>\n",
              "      <td>...</td>\n",
              "      <td>...</td>\n",
              "      <td>...</td>\n",
              "      <td>...</td>\n",
              "      <td>...</td>\n",
              "      <td>...</td>\n",
              "      <td>...</td>\n",
              "      <td>...</td>\n",
              "      <td>...</td>\n",
              "      <td>...</td>\n",
              "      <td>...</td>\n",
              "      <td>...</td>\n",
              "      <td>...</td>\n",
              "    </tr>\n",
              "    <tr>\n",
              "      <th>367</th>\n",
              "      <td>128</td>\n",
              "      <td>85</td>\n",
              "      <td>89</td>\n",
              "      <td>128</td>\n",
              "      <td>89</td>\n",
              "      <td>121</td>\n",
              "      <td>112</td>\n",
              "      <td>5</td>\n",
              "      <td>17</td>\n",
              "      <td>4</td>\n",
              "      <td>127</td>\n",
              "      <td>2</td>\n",
              "      <td>18</td>\n",
              "      <td>3</td>\n",
              "      <td>5</td>\n",
              "    </tr>\n",
              "    <tr>\n",
              "      <th>368</th>\n",
              "      <td>104</td>\n",
              "      <td>106</td>\n",
              "      <td>105</td>\n",
              "      <td>104</td>\n",
              "      <td>104</td>\n",
              "      <td>106</td>\n",
              "      <td>105</td>\n",
              "      <td>104</td>\n",
              "      <td>104</td>\n",
              "      <td>106</td>\n",
              "      <td>9</td>\n",
              "      <td>9</td>\n",
              "      <td>9</td>\n",
              "      <td>9</td>\n",
              "      <td>9</td>\n",
              "    </tr>\n",
              "    <tr>\n",
              "      <th>369</th>\n",
              "      <td>18</td>\n",
              "      <td>3</td>\n",
              "      <td>5</td>\n",
              "      <td>8</td>\n",
              "      <td>50</td>\n",
              "      <td>3</td>\n",
              "      <td>105</td>\n",
              "      <td>104</td>\n",
              "      <td>104</td>\n",
              "      <td>106</td>\n",
              "      <td>105</td>\n",
              "      <td>104</td>\n",
              "      <td>104</td>\n",
              "      <td>106</td>\n",
              "      <td>105</td>\n",
              "    </tr>\n",
              "    <tr>\n",
              "      <th>370</th>\n",
              "      <td>18</td>\n",
              "      <td>3</td>\n",
              "      <td>5</td>\n",
              "      <td>8</td>\n",
              "      <td>50</td>\n",
              "      <td>3</td>\n",
              "      <td>105</td>\n",
              "      <td>104</td>\n",
              "      <td>104</td>\n",
              "      <td>106</td>\n",
              "      <td>105</td>\n",
              "      <td>104</td>\n",
              "      <td>104</td>\n",
              "      <td>106</td>\n",
              "      <td>105</td>\n",
              "    </tr>\n",
              "    <tr>\n",
              "      <th>371</th>\n",
              "      <td>19</td>\n",
              "      <td>100</td>\n",
              "      <td>50</td>\n",
              "      <td>88</td>\n",
              "      <td>100</td>\n",
              "      <td>143</td>\n",
              "      <td>128</td>\n",
              "      <td>85</td>\n",
              "      <td>89</td>\n",
              "      <td>128</td>\n",
              "      <td>89</td>\n",
              "      <td>121</td>\n",
              "      <td>112</td>\n",
              "      <td>5</td>\n",
              "      <td>17</td>\n",
              "    </tr>\n",
              "  </tbody>\n",
              "</table>\n",
              "<p>372 rows × 15 columns</p>\n",
              "</div>"
            ],
            "text/plain": [
              "      0    1    2    3    4    5    6    7    8    9    10   11   12   13   14\n",
              "0    127    2   18    3    5   56    7   56  119  119    3    3   32   50   27\n",
              "1      9    9    5    3    5    5   -1   -1   -1   -1   -1   -1   -1   -1   -1\n",
              "2      5   50   27    4   27   88  167  167  167   17    5    4   50   27    2\n",
              "3    104  106   83   59    4    2    2    2    2    2    5   50   27    4   27\n",
              "4      2   19    4  127   66    5   93  100    5  112   19   93   19  100   50\n",
              "..   ...  ...  ...  ...  ...  ...  ...  ...  ...  ...  ...  ...  ...  ...  ...\n",
              "367  128   85   89  128   89  121  112    5   17    4  127    2   18    3    5\n",
              "368  104  106  105  104  104  106  105  104  104  106    9    9    9    9    9\n",
              "369   18    3    5    8   50    3  105  104  104  106  105  104  104  106  105\n",
              "370   18    3    5    8   50    3  105  104  104  106  105  104  104  106  105\n",
              "371   19  100   50   88  100  143  128   85   89  128   89  121  112    5   17\n",
              "\n",
              "[372 rows x 15 columns]"
            ]
          },
          "metadata": {},
          "execution_count": 502
        }
      ]
    },
    {
      "cell_type": "code",
      "metadata": {
        "id": "383ioOTmI5-u",
        "colab": {
          "base_uri": "https://localhost:8080/",
          "height": 698
        },
        "outputId": "46c759eb-153a-482b-db63-432100a74bda"
      },
      "source": [
        "from sklearn import svm\n",
        "\n",
        "#### Create a SVM classifier using polynomial Kernel\n",
        "print('\\n****Polynomial kernel model: ')\n",
        "svm_model = svm.SVC(kernel = 'poly')\n",
        "\n",
        "#Train the  & Get accuracy from training\n",
        "svm_model.fit(svm_x_train, svm_y_train)\n",
        "y_pred = svm_model.predict(svm_x_train)\n",
        "\n",
        "# Recording TPR and FPR for plotting TRAINING ROC curves\n",
        "SVM_train = {}\n",
        "SVM_train['fpr'], SVM_train['tpr'], thresh = roc_curve(svm_y_train, y_pred)\n",
        "SVM_train['auc'] = roc_auc_score(svm_y_train, y_pred)\n",
        "\n",
        "\n",
        "# Test the model w testing data\n",
        "y_predicted = svm_model.predict(x_test)\n",
        "\n",
        "# Evaluate the model \n",
        "print_performance('SVM', y_test, y_predicted)\n",
        "\n",
        "# Recording TPR and FPR for TESTING-ROC curves\n",
        "SVM_test = {}\n",
        "SVM_test['fpr'], SVM_test['tpr'], thresh = roc_curve(y_test, y_predicted)\n",
        "SVM_test['auc'] = roc_auc_score(y_test, y_predicted)\n",
        "\n",
        "print('Train AUC: %.3f vs Test AUC: %.3f' %(SVM_train['auc'], SVM_test['auc']))"
      ],
      "execution_count": 503,
      "outputs": [
        {
          "output_type": "stream",
          "name": "stdout",
          "text": [
            "\n",
            "****Polynomial kernel model: \n",
            "Confusion Matrix: \n",
            " [[55 18]\n",
            " [36 11]]\n",
            "\n",
            "Testing Accuracy: 0.55\n",
            "Precision:0.38\n",
            "Recall: 0.23\n",
            "False Positive Rate: 0.25\n",
            "\n",
            "Classification report:\n",
            "              precision    recall  f1-score   support\n",
            "\n",
            "           0       0.60      0.75      0.67        73\n",
            "           1       0.38      0.23      0.29        47\n",
            "\n",
            "    accuracy                           0.55       120\n",
            "   macro avg       0.49      0.49      0.48       120\n",
            "weighted avg       0.52      0.55      0.52       120\n",
            "\n",
            "AUC: 0.49\n"
          ]
        },
        {
          "output_type": "display_data",
          "data": {
            "image/png": "[encoded data removed]",
            "text/plain": [
              "<Figure size 432x288 with 1 Axes>"
            ]
          },
          "metadata": {
            "needs_background": "light"
          }
        },
        {
          "output_type": "stream",
          "name": "stdout",
          "text": [
            "Train AUC: 0.823 vs Test AUC: 0.494\n"
          ]
        }
      ]
    },
    {
      "cell_type": "code",
      "metadata": {
        "id": "XKSizyx2J1-0",
        "colab": {
          "base_uri": "https://localhost:8080/",
          "height": 453
        },
        "outputId": "6901b57b-cd64-4710-efc3-7343fe1dcdf2"
      },
      "source": [
        "# Plot a heatmap confusion matrix\n",
        "color_confusion_matrix('SVM', svm_model, x_test, y_test, y_predicted)"
      ],
      "execution_count": 504,
      "outputs": [
        {
          "output_type": "stream",
          "name": "stderr",
          "text": [
            "/usr/local/lib/python3.7/dist-packages/sklearn/utils/deprecation.py:87: FutureWarning: Function plot_confusion_matrix is deprecated; Function `plot_confusion_matrix` is deprecated in 1.0 and will be removed in 1.2. Use one of the class methods: ConfusionMatrixDisplay.from_predictions or ConfusionMatrixDisplay.from_estimator.\n",
            "  warnings.warn(msg, category=FutureWarning)\n"
          ]
        },
        {
          "output_type": "display_data",
          "data": {
            "image/png": "[encoded data removed]",
            "text/plain": [
              "<Figure size 432x432 with 2 Axes>"
            ]
          },
          "metadata": {
            "needs_background": "light"
          }
        },
        {
          "output_type": "stream",
          "name": "stdout",
          "text": [
            "[[55 18]\n",
            " [36 11]]\n"
          ]
        }
      ]
    },
    {
      "cell_type": "code",
      "metadata": {
        "id": "y73ZgLvJGJw9"
      },
      "source": [
        "# Save performance to text file\n",
        "write_to_file(SVM_test, 'SVM')"
      ],
      "execution_count": 505,
      "outputs": []
    },
    {
      "cell_type": "markdown",
      "metadata": {
        "id": "CyAknSAkQ3be"
      },
      "source": [
        "# **Neural Net**\n",
        "\n",
        "This model contains 3 layers: input layer of 6 nodes, a fully connected layer of 6 nodes and an output layer of 2 nodes"
      ]
    },
    {
      "cell_type": "code",
      "metadata": {
        "id": "USe11YPvQ3bf"
      },
      "source": [
        "# Scale syscall number to between 0 and 1\n",
        "# The maximum syscall number in UNM data is 181\n",
        "max_syscall = 181\n",
        "x_train_nn = x_train/max_syscall\n",
        "x_test_nn = x_test/max_syscall"
      ],
      "execution_count": 506,
      "outputs": []
    },
    {
      "cell_type": "code",
      "metadata": {
        "id": "kuOUNJieQ3bg",
        "colab": {
          "base_uri": "https://localhost:8080/"
        },
        "outputId": "e1a6b62e-21f3-426f-c170-1eb77f145823"
      },
      "source": [
        "import tensorflow as tf\n",
        "from tensorflow import keras\n",
        "INPUT_SZ = len(x_train.columns)\n",
        "nn_model = keras.Sequential([\n",
        "    keras.layers.Input(shape = (INPUT_SZ,)),           # model expect input to be a vector of 6 numbers\n",
        "    keras.layers.Dense(INPUT_SZ, activation = 'relu'), \n",
        "    keras.layers.Dense(2, activation = 'sigmoid')\n",
        "])\n",
        "\n",
        "nn_model.compile(optimizer='adam',\n",
        "              loss='sparse_categorical_crossentropy',\n",
        "              metrics=['accuracy'])\n",
        "\n",
        "# Fit the model to training set\n",
        "history = nn_model.fit(x_train_nn, y_train, epochs=10, batch_size= 32, verbose=1)  "
      ],
      "execution_count": 507,
      "outputs": [
        {
          "output_type": "stream",
          "name": "stdout",
          "text": [
            "Epoch 1/10\n",
            "12/12 [==============================] - 0s 2ms/step - loss: 0.7256 - accuracy: 0.4812\n",
            "Epoch 2/10\n",
            "12/12 [==============================] - 0s 2ms/step - loss: 0.6985 - accuracy: 0.4973\n",
            "Epoch 3/10\n",
            "12/12 [==============================] - 0s 2ms/step - loss: 0.6842 - accuracy: 0.5538\n",
            "Epoch 4/10\n",
            "12/12 [==============================] - 0s 2ms/step - loss: 0.6764 - accuracy: 0.5833\n",
            "Epoch 5/10\n",
            "12/12 [==============================] - 0s 2ms/step - loss: 0.6712 - accuracy: 0.6290\n",
            "Epoch 6/10\n",
            "12/12 [==============================] - 0s 2ms/step - loss: 0.6686 - accuracy: 0.6290\n",
            "Epoch 7/10\n",
            "12/12 [==============================] - 0s 2ms/step - loss: 0.6657 - accuracy: 0.6344\n",
            "Epoch 8/10\n",
            "12/12 [==============================] - 0s 2ms/step - loss: 0.6629 - accuracy: 0.6532\n",
            "Epoch 9/10\n",
            "12/12 [==============================] - 0s 2ms/step - loss: 0.6598 - accuracy: 0.6452\n",
            "Epoch 10/10\n",
            "12/12 [==============================] - 0s 2ms/step - loss: 0.6570 - accuracy: 0.6559\n"
          ]
        }
      ]
    },
    {
      "cell_type": "code",
      "metadata": {
        "id": "RGUvRkXUjo3K"
      },
      "source": [
        "# Get predicted Training labels\n",
        "y_pred = np.argmax(nn_model.predict(x_train_nn), axis=-1)\n",
        "\n",
        "# Recording TPR and FPR for the TRAINING ROC curves\n",
        "NN_train = {}\n",
        "NN_train['fpr'], NN_train['tpr'], thresh = roc_curve(y_train, y_pred)\n",
        "NN_train['auc'] = roc_auc_score(y_train, y_pred)\n",
        "#print_performance(y_train, y_predicted)"
      ],
      "execution_count": 508,
      "outputs": []
    },
    {
      "cell_type": "code",
      "metadata": {
        "id": "BGujVI6TQ3bg",
        "colab": {
          "base_uri": "https://localhost:8080/",
          "height": 698
        },
        "outputId": "511badf6-8d93-48d2-a9b0-395db32cc3d0"
      },
      "source": [
        "# Get the loss and accuracy on testing set\n",
        "test_loss, test_acc = nn_model.evaluate(x_test_nn,  y_test, verbose=1) \n",
        "y_predicted = np.argmax(nn_model.predict(x_test_nn), axis=-1)\n",
        "\n",
        "\n",
        "print('Test accuracy:', test_acc,' Test loss:', test_loss)\n",
        "print_performance('Neural Network', y_test, y_predicted)\n",
        "\n",
        "# Recording TPR and FPR for the TESTING-ROC curves\n",
        "NN_test = {}\n",
        "NN_test['fpr'], NN_test['tpr'], thresh = roc_curve(y_test, y_predicted)\n",
        "NN_test['auc'] = roc_auc_score(y_test, y_predicted)\n",
        "\n",
        "print('Train AUC: %.3f vs Test AUC: %.3f' %(NN_train['auc'], NN_test['auc']))"
      ],
      "execution_count": 509,
      "outputs": [
        {
          "output_type": "stream",
          "name": "stdout",
          "text": [
            "4/4 [==============================] - 0s 3ms/step - loss: 0.6980 - accuracy: 0.5583\n",
            "Test accuracy: 0.5583333373069763  Test loss: 0.6979777812957764\n",
            "Confusion Matrix: \n",
            " [[42 31]\n",
            " [22 25]]\n",
            "\n",
            "Testing Accuracy: 0.56\n",
            "Precision:0.45\n",
            "Recall: 0.53\n",
            "False Positive Rate: 0.42\n",
            "\n",
            "Classification report:\n",
            "              precision    recall  f1-score   support\n",
            "\n",
            "           0       0.66      0.58      0.61        73\n",
            "           1       0.45      0.53      0.49        47\n",
            "\n",
            "    accuracy                           0.56       120\n",
            "   macro avg       0.55      0.55      0.55       120\n",
            "weighted avg       0.57      0.56      0.56       120\n",
            "\n",
            "AUC: 0.55\n"
          ]
        },
        {
          "output_type": "display_data",
          "data": {
            "image/png": "[encoded data removed]",
            "text/plain": [
              "<Figure size 432x288 with 1 Axes>"
            ]
          },
          "metadata": {
            "needs_background": "light"
          }
        },
        {
          "output_type": "stream",
          "name": "stdout",
          "text": [
            "Train AUC: 0.648 vs Test AUC: 0.554\n"
          ]
        }
      ]
    },
    {
      "cell_type": "code",
      "metadata": {
        "id": "mehetMzFUBrt",
        "colab": {
          "base_uri": "https://localhost:8080/"
        },
        "outputId": "9a57064e-b72c-4d5c-f90f-e994bf5cdfeb"
      },
      "source": [
        "nn_model.summary()\n",
        "\n",
        "#history.history"
      ],
      "execution_count": 510,
      "outputs": [
        {
          "output_type": "stream",
          "name": "stdout",
          "text": [
            "Model: \"sequential_10\"\n",
            "_________________________________________________________________\n",
            " Layer (type)                Output Shape              Param #   \n",
            "=================================================================\n",
            " dense_20 (Dense)            (None, 15)                240       \n",
            "                                                                 \n",
            " dense_21 (Dense)            (None, 2)                 32        \n",
            "                                                                 \n",
            "=================================================================\n",
            "Total params: 272\n",
            "Trainable params: 272\n",
            "Non-trainable params: 0\n",
            "_________________________________________________________________\n"
          ]
        }
      ]
    },
    {
      "cell_type": "code",
      "metadata": {
        "id": "uN0pWMBuGN3_"
      },
      "source": [
        "# Save performance to text file\n",
        "write_to_file(NN_test, 'NN')"
      ],
      "execution_count": 511,
      "outputs": []
    },
    {
      "cell_type": "markdown",
      "metadata": {
        "id": "eak45tL1s7AT"
      },
      "source": [
        "# **Decision Tree**\n",
        "\n",
        "This model uses GINI criterion to split the data and requires at least 10 observations to split and 5 observations in the leaf."
      ]
    },
    {
      "cell_type": "code",
      "metadata": {
        "id": "h_mhdZxSs6Z5",
        "colab": {
          "base_uri": "https://localhost:8080/",
          "height": 1000
        },
        "outputId": "3d28ed43-c409-41ad-b51a-793451e80974"
      },
      "source": [
        "from sklearn.tree import DecisionTreeClassifier\n",
        "\n",
        "# Create and Train DecTree model\n",
        "decTree = DecisionTreeClassifier(criterion='gini', min_samples_split=10,min_samples_leaf=5,max_features='auto')\n",
        "decTree = decTree.fit(x_train, y_train)\n",
        "\n",
        "# Recording TPR and FPR for the TRAINING ROC curves\n",
        "y_pred = decTree.predict(x_train)\n",
        "DT_train = {}\n",
        "DT_train['fpr'], DT_train['tpr'], thresh = roc_curve(y_train, y_pred)\n",
        "DT_train['auc'] = roc_auc_score(y_train, y_pred)\n",
        "\n",
        "# Predict testing data\n",
        "y_predicted = decTree.predict(x_test)\n",
        "\n",
        "# Print performance measures\n",
        "print_performance('Decision Tree', y_test, y_predicted)\n",
        "\n",
        "# Color Confusion Matrix\n",
        "color_confusion_matrix('Decision Tree', decTree, x_test, y_test, y_predicted)\n",
        "\n",
        "# Recording TPR and FPR for TESTING-ROC curves\n",
        "DT_test = {}\n",
        "DT_test['fpr'], DT_test['tpr'], thresh = roc_curve(y_test, y_predicted)\n",
        "DT_test['auc'] = roc_auc_score(y_test, y_predicted)\n",
        "\n",
        "print('Train AUC: %.3f vs Test AUC: %.3f' %(DT_train['auc'], DT_test['auc']))"
      ],
      "execution_count": 512,
      "outputs": [
        {
          "output_type": "stream",
          "name": "stdout",
          "text": [
            "Confusion Matrix: \n",
            " [[53 20]\n",
            " [25 22]]\n",
            "\n",
            "Testing Accuracy: 0.62\n",
            "Precision:0.52\n",
            "Recall: 0.47\n",
            "False Positive Rate: 0.27\n",
            "\n",
            "Classification report:\n",
            "              precision    recall  f1-score   support\n",
            "\n",
            "           0       0.68      0.73      0.70        73\n",
            "           1       0.52      0.47      0.49        47\n",
            "\n",
            "    accuracy                           0.62       120\n",
            "   macro avg       0.60      0.60      0.60       120\n",
            "weighted avg       0.62      0.62      0.62       120\n",
            "\n",
            "AUC: 0.60\n"
          ]
        },
        {
          "output_type": "display_data",
          "data": {
            "image/png": "[encoded data removed]",
            "text/plain": [
              "<Figure size 432x288 with 1 Axes>"
            ]
          },
          "metadata": {
            "needs_background": "light"
          }
        },
        {
          "output_type": "stream",
          "name": "stderr",
          "text": [
            "/usr/local/lib/python3.7/dist-packages/sklearn/utils/deprecation.py:87: FutureWarning: Function plot_confusion_matrix is deprecated; Function `plot_confusion_matrix` is deprecated in 1.0 and will be removed in 1.2. Use one of the class methods: ConfusionMatrixDisplay.from_predictions or ConfusionMatrixDisplay.from_estimator.\n",
            "  warnings.warn(msg, category=FutureWarning)\n"
          ]
        },
        {
          "output_type": "display_data",
          "data": {
            "image/png": "[encoded data removed]",
            "text/plain": [
              "<Figure size 432x432 with 2 Axes>"
            ]
          },
          "metadata": {
            "needs_background": "light"
          }
        },
        {
          "output_type": "stream",
          "name": "stdout",
          "text": [
            "[[53 20]\n",
            " [25 22]]\n",
            "Train AUC: 0.841 vs Test AUC: 0.597\n"
          ]
        }
      ]
    },
    {
      "cell_type": "code",
      "metadata": {
        "id": "h5dHSvWCGRqJ"
      },
      "source": [
        "# Save performance to text file\n",
        "write_to_file( DT_test, 'DT')"
      ],
      "execution_count": 513,
      "outputs": []
    },
    {
      "cell_type": "markdown",
      "metadata": {
        "id": "mOGaush6RBtf"
      },
      "source": [
        "# **Random Forest**\n",
        "\n",
        "This model has no max depth and allows bootstrapping observations during training. It uses GINI criterion to split and requires a minimum of 10 observations to split and the leaf node must have above 5 observations.\n"
      ]
    },
    {
      "cell_type": "code",
      "metadata": {
        "id": "C-g6W8k4k_A3",
        "colab": {
          "base_uri": "https://localhost:8080/",
          "height": 1000
        },
        "outputId": "c9a842bd-adc4-4b1c-b609-43ef939aa4bc"
      },
      "source": [
        "from sklearn.ensemble import RandomForestClassifier\n",
        "\n",
        "# Build model\n",
        "randomForest = RandomForestClassifier(max_depth=None, min_samples_split=10, min_samples_leaf=5, \n",
        "                                      max_features='auto', bootstrap=True,verbose=0, criterion='gini')\n",
        "# Train the model with training set\n",
        "randomForest.fit(x_train, y_train)\n",
        "\n",
        "# Recording TPR and FPR for the TRAINING ROC curves\n",
        "y_pred = randomForest.predict(x_train)\n",
        "RF_train = {}\n",
        "RF_train['fpr'], RF_train['tpr'], thresh = roc_curve(y_train, y_pred)\n",
        "RF_train['auc'] = roc_auc_score(y_train, y_pred)\n",
        "\n",
        "# Predict the labels for testing set\n",
        "y_predicted = randomForest.predict(x_test)\n",
        "\n",
        "# Print performance measures\n",
        "print_performance('Random Forest', y_test, y_predicted)\n",
        "\n",
        "# Color Confusion Matrix\n",
        "color_confusion_matrix('Random Forest', randomForest, x_test, y_test, y_predicted)\n",
        "\n",
        "# Recording TPR and FPR for the multi-ROC curves\n",
        "RF_test = {}\n",
        "RF_test['fpr'], RF_test['tpr'], thresh = roc_curve(y_test, y_predicted)\n",
        "RF_test['auc'] = roc_auc_score(y_test, y_predicted)\n",
        "\n",
        "print('Train AUC: %.3f vs Test AUC: %.3f' %(RF_train['auc'], RF_test['auc']))"
      ],
      "execution_count": 514,
      "outputs": [
        {
          "output_type": "stream",
          "name": "stdout",
          "text": [
            "Confusion Matrix: \n",
            " [[57 16]\n",
            " [30 17]]\n",
            "\n",
            "Testing Accuracy: 0.62\n",
            "Precision:0.52\n",
            "Recall: 0.36\n",
            "False Positive Rate: 0.22\n",
            "\n",
            "Classification report:\n",
            "              precision    recall  f1-score   support\n",
            "\n",
            "           0       0.66      0.78      0.71        73\n",
            "           1       0.52      0.36      0.43        47\n",
            "\n",
            "    accuracy                           0.62       120\n",
            "   macro avg       0.59      0.57      0.57       120\n",
            "weighted avg       0.60      0.62      0.60       120\n",
            "\n",
            "AUC: 0.57\n"
          ]
        },
        {
          "output_type": "display_data",
          "data": {
            "image/png": "[encoded data removed]",
            "text/plain": [
              "<Figure size 432x288 with 1 Axes>"
            ]
          },
          "metadata": {
            "needs_background": "light"
          }
        },
        {
          "output_type": "stream",
          "name": "stderr",
          "text": [
            "/usr/local/lib/python3.7/dist-packages/sklearn/utils/deprecation.py:87: FutureWarning: Function plot_confusion_matrix is deprecated; Function `plot_confusion_matrix` is deprecated in 1.0 and will be removed in 1.2. Use one of the class methods: ConfusionMatrixDisplay.from_predictions or ConfusionMatrixDisplay.from_estimator.\n",
            "  warnings.warn(msg, category=FutureWarning)\n"
          ]
        },
        {
          "output_type": "display_data",
          "data": {
            "image/png": "[encoded data removed]",
            "text/plain": [
              "<Figure size 432x432 with 2 Axes>"
            ]
          },
          "metadata": {
            "needs_background": "light"
          }
        },
        {
          "output_type": "stream",
          "name": "stdout",
          "text": [
            "[[57 16]\n",
            " [30 17]]\n",
            "Train AUC: 0.898 vs Test AUC: 0.571\n"
          ]
        }
      ]
    },
    {
      "cell_type": "code",
      "metadata": {
        "id": "3UmMfuQfGUV_"
      },
      "source": [
        "# Save performance to text file\n",
        "write_to_file( RF_test, 'RF')"
      ],
      "execution_count": 515,
      "outputs": []
    },
    {
      "cell_type": "markdown",
      "metadata": {
        "id": "doGliXotvRgg"
      },
      "source": [
        "# **KNN**\n",
        "\n",
        "This model classifies each observation based on 3 nearest neighbors with uniform weight."
      ]
    },
    {
      "cell_type": "code",
      "metadata": {
        "id": "vHH_-Veot_FD",
        "colab": {
          "base_uri": "https://localhost:8080/",
          "height": 1000
        },
        "outputId": "68b9ae25-11a7-4565-e085-973e3f8e25a5"
      },
      "source": [
        "from sklearn.neighbors import KNeighborsClassifier\n",
        "\n",
        "# Creat and Train KNN model\n",
        "KNN = KNeighborsClassifier(n_neighbors=5, weights='uniform')\n",
        "KNN.fit(x_train, y_train)\n",
        "\n",
        "# Recording TPR and FPR for the TRAINING ROC curves\n",
        "y_pred = KNN.predict(x_train)\n",
        "KNN_train = {}\n",
        "KNN_train['fpr'], KNN_train['tpr'], thresh = roc_curve(y_train, y_pred)\n",
        "KNN_train['auc'] = roc_auc_score(y_train, y_pred)\n",
        "\n",
        "# Predict testing data\n",
        "y_predicted = KNN.predict(x_test)\n",
        "\n",
        "# Print performance measures\n",
        "print_performance('KNN', y_test, y_predicted)\n",
        "\n",
        "# Color Confusion Matrix\n",
        "color_confusion_matrix('KNN', KNN, x_test, y_test, y_predicted)\n",
        "\n",
        "# Recording TPR and FPR for TESTING-ROC curves\n",
        "KNN_test = {}\n",
        "KNN_test['fpr'], KNN_test['tpr'], thresh = roc_curve(y_test, y_predicted)\n",
        "KNN_test['auc'] = roc_auc_score(y_test, y_predicted)\n",
        "\n",
        "print('Train AUC: %.3f vs Test AUC: %.3f' %(KNN_train['auc'], KNN_test['auc']))"
      ],
      "execution_count": 516,
      "outputs": [
        {
          "output_type": "stream",
          "name": "stdout",
          "text": [
            "Confusion Matrix: \n",
            " [[41 32]\n",
            " [22 25]]\n",
            "\n",
            "Testing Accuracy: 0.55\n",
            "Precision:0.44\n",
            "Recall: 0.53\n",
            "False Positive Rate: 0.44\n",
            "\n",
            "Classification report:\n",
            "              precision    recall  f1-score   support\n",
            "\n",
            "           0       0.65      0.56      0.60        73\n",
            "           1       0.44      0.53      0.48        47\n",
            "\n",
            "    accuracy                           0.55       120\n",
            "   macro avg       0.54      0.55      0.54       120\n",
            "weighted avg       0.57      0.55      0.56       120\n",
            "\n",
            "AUC: 0.55\n"
          ]
        },
        {
          "output_type": "display_data",
          "data": {
            "image/png": "[encoded data removed]",
            "text/plain": [
              "<Figure size 432x288 with 1 Axes>"
            ]
          },
          "metadata": {
            "needs_background": "light"
          }
        },
        {
          "output_type": "stream",
          "name": "stderr",
          "text": [
            "/usr/local/lib/python3.7/dist-packages/sklearn/utils/deprecation.py:87: FutureWarning: Function plot_confusion_matrix is deprecated; Function `plot_confusion_matrix` is deprecated in 1.0 and will be removed in 1.2. Use one of the class methods: ConfusionMatrixDisplay.from_predictions or ConfusionMatrixDisplay.from_estimator.\n",
            "  warnings.warn(msg, category=FutureWarning)\n"
          ]
        },
        {
          "output_type": "display_data",
          "data": {
            "image/png": "[encoded data removed]",
            "text/plain": [
              "<Figure size 432x432 with 2 Axes>"
            ]
          },
          "metadata": {
            "needs_background": "light"
          }
        },
        {
          "output_type": "stream",
          "name": "stdout",
          "text": [
            "[[41 32]\n",
            " [22 25]]\n",
            "Train AUC: 0.804 vs Test AUC: 0.547\n"
          ]
        }
      ]
    },
    {
      "cell_type": "code",
      "metadata": {
        "id": "s2PHT8UiGXD5"
      },
      "source": [
        "# Save performance to text file\n",
        "write_to_file( KNN_test, 'KNN')"
      ],
      "execution_count": 517,
      "outputs": []
    },
    {
      "cell_type": "markdown",
      "metadata": {
        "id": "Rv2CQsOUxLSv"
      },
      "source": [
        "# **Naive Bayes**"
      ]
    },
    {
      "cell_type": "code",
      "metadata": {
        "id": "DCLL6xLRwU1s",
        "colab": {
          "base_uri": "https://localhost:8080/",
          "height": 663
        },
        "outputId": "37b3fb69-943d-4036-e140-6c654c93ce86"
      },
      "source": [
        "from sklearn.naive_bayes import GaussianNB\n",
        "\n",
        "# Create a Gaussian Naive Bayes classifier and train with training set\n",
        "NaiveBayes = GaussianNB()\n",
        "NaiveBayes.fit(x_train, y_train)\n",
        "\n",
        "# Recording TPR and FPR for the TRAINING ROC curves\n",
        "y_pred = NaiveBayes.predict(x_train)\n",
        "NB_train = {}\n",
        "NB_train['fpr'], NB_train['tpr'], thresh = roc_curve(y_train, y_pred)\n",
        "NB_train['auc'] = roc_auc_score(y_train, y_pred)\n",
        "\n",
        "# Predict testing data\n",
        "y_predicted = NaiveBayes.predict(x_test)\n",
        "\n",
        "# Print performance measures\n",
        "print_performance('Naive Bayes', y_test, y_predicted)\n",
        "\n",
        "# Recording TPR and FPR for the TESTING-ROC curves\n",
        "NB_test = {}\n",
        "NB_test['fpr'], NB_test['tpr'], thresh = roc_curve(y_test, y_predicted)\n",
        "NB_test['auc'] = roc_auc_score(y_test, y_predicted)\n",
        "\n",
        "print('Train AUC: %.3f vs Test AUC: %.3f' %(NB_train['auc'], NB_test['auc']))"
      ],
      "execution_count": 518,
      "outputs": [
        {
          "output_type": "stream",
          "name": "stdout",
          "text": [
            "Confusion Matrix: \n",
            " [[43 30]\n",
            " [23 24]]\n",
            "\n",
            "Testing Accuracy: 0.56\n",
            "Precision:0.44\n",
            "Recall: 0.51\n",
            "False Positive Rate: 0.41\n",
            "\n",
            "Classification report:\n",
            "              precision    recall  f1-score   support\n",
            "\n",
            "           0       0.65      0.59      0.62        73\n",
            "           1       0.44      0.51      0.48        47\n",
            "\n",
            "    accuracy                           0.56       120\n",
            "   macro avg       0.55      0.55      0.55       120\n",
            "weighted avg       0.57      0.56      0.56       120\n",
            "\n",
            "AUC: 0.55\n"
          ]
        },
        {
          "output_type": "display_data",
          "data": {
            "image/png": "[encoded data removed]",
            "text/plain": [
              "<Figure size 432x288 with 1 Axes>"
            ]
          },
          "metadata": {
            "needs_background": "light"
          }
        },
        {
          "output_type": "stream",
          "name": "stdout",
          "text": [
            "Train AUC: 0.688 vs Test AUC: 0.550\n"
          ]
        }
      ]
    },
    {
      "cell_type": "code",
      "metadata": {
        "id": "aytUbSONXhhJ"
      },
      "source": [
        "# Save performance to text file\n",
        "write_to_file(NB_test, 'NB')"
      ],
      "execution_count": 519,
      "outputs": []
    },
    {
      "cell_type": "markdown",
      "metadata": {
        "id": "CtoZZkWd8e-a"
      },
      "source": [
        "# **End**"
      ]
    },
    {
      "cell_type": "code",
      "metadata": {
        "id": "5JELKYpJHFJD"
      },
      "source": [
        "# Graphing overlaid ROC curves, where each one represents a model AUC score\n",
        "def graph_multi_ROC (DATA, SEQ_LEN, CLEAN ):\n",
        "  # Set color for each model\n",
        "  colors = {'KM': 'lightcoral','LR': 'darkorange', 'SVM':'lime', 'NB': 'steelblue',\n",
        "            'NN': 'purple','DT': 'magenta','RF': 'deeppink','KNN': 'darkturquoise',\n",
        "            'BERT': 'darkred', 'GPT': 'blue'}\n",
        "  # Set marker for each model          \n",
        "  markers = {'KM':'1--','LR': 'v--', 'SVM': '^--', 'NN': '*--', 'DT': 'o--', 'RF': '+--', 'KNN': '.--', 'NB': 'x--', 'BERT':'<--', 'GPT': '>--'}\n",
        "  \n",
        "  plt.figure(figsize=(9,6))\n",
        "\n",
        "  plt.plot(KM_test.get('fpr'), KM_test.get('tpr'), markers.get('KM'), color=colors.get('KM'),  label=\"KM - AUC=\" + str( round(KM_test.get('auc'), 3) ) )   \n",
        "  plt.plot(LR_test.get('fpr'), LR_test.get('tpr'), markers.get('LR'), color=colors.get('LR'),  label=\"LR - AUC=\" + str( round(LR_test.get('auc'),3) ) )\n",
        "  plt.plot(SVM_test.get('fpr'),SVM_test.get('tpr'),markers.get('SVM'),color=colors.get('SVM'), label=\"SVM - AUC=\"+ str( round(SVM_test.get('auc'), 3) ) )\n",
        "  plt.plot(NN_test.get('fpr'), NN_test.get('tpr'), markers.get('NN'), color=colors.get('NN'),  label=\"NN - AUC=\" + str( round(NN_test.get('auc'), 3) ) )\n",
        "  plt.plot(DT_test.get('fpr'), DT_test.get('tpr'), markers.get('DT'), color=colors.get('DT'),  label=\"DT - AUC=\" + str( round(DT_test.get('auc'), 3) ) )\n",
        "  plt.plot(RF_test.get('fpr'), RF_test.get('tpr'), markers.get('RF'), color=colors.get('RF'),  label=\"RF - AUC=\" + str( round(RF_test.get('auc'), 3) ) )\n",
        "  plt.plot(KNN_test.get('fpr'),KNN_test.get('tpr'),markers.get('KNN'),color=colors.get('KNN'), label=\"KNN - AUC=\"+ str( round(KNN_test.get('auc'), 3) ) )\n",
        "  plt.plot(NB_test.get('fpr'), NB_test.get('tpr'), markers.get('NB'), color=colors.get('NB'),  label=\"NB - AUC=\" + str( round(NB_test.get('auc'), 3) ) )\n",
        "  try:\n",
        "    plt.plot(BERT_test.get('fpr'),BERT_test.get('tpr'), markers.get('BERT'), color=colors.get('BERT'),  label=\"BERT - AUC=\"+ str(BERT_test.get('auc').round(3)))\n",
        "    plt.plot(GPT_test.get('fpr'),GPT_test.get('tpr'), markers.get('GPT'), color=colors.get('GPT'),  label=\"GPT-2 - AUC=\"+ str(GPT_test.get('auc').round(3)))\n",
        "  except NameError:\n",
        "    print('\\nBERT_test and GPT_test do not exist\\n')\n",
        "\n",
        "  plt.plot([0,1], [0,1], 'k--', label='Random Chances')\n",
        "  plt.xlim([0.0,1.0])\n",
        "  plt.ylim([0.0,1.02])\n",
        "  plt.ylabel('Recall')\n",
        "  plt.xlabel('False Positive Rate (1-Specificity)')\n",
        "  plt.legend(loc='lower right') \n",
        "  plt.title( 'Testing ROCs %s on %s with seq len of %d' % (CLEAN, DATA, SEQ_LEN) )\n",
        "  #plt.savefig(DATA_I+'-'+train_or_test+'.jpg', dpi = 80)\n",
        "  plt.show()\n",
        "\n",
        "\n",
        "# Func load_dict loads the dictionary contents extracted from the text file to a given variable name (stored in varname str)\n",
        "# Output is a global dict variable \n",
        "# Input format:\n",
        "## varname: a string of variable name\n",
        "## dictvar: a dict containing the dictionary contents extracted from the text file\n",
        "def load_dict(varname, dictvar):\n",
        "  exec('%s = {}' %(varname), globals() )\n",
        "  for key, value in dictvar.items():\n",
        "    #print(key,\":\", value)\n",
        "    exec('%s[%s] = %s' % (varname, key, value), globals())\n",
        "\n",
        "# Func localFile extract the contents of each dictionary variables and load them into a dictionary\n",
        "# Output: All the dictionaries from the text file will be loaded to the program\n",
        "#  Input format: a text file containing multiple dictionaries, where each dict has this format:\n",
        "## KM_test = {'fpr': array([0.        , 0.86136255, 1.        ]), 'tpr': array([0.        , 0.49007655, 1.        ]), 'auc': 0.31435699935689737}\n",
        "## This function reads in each line, process the string and load it as a dict variable\n",
        "## In the end, this function loads global variables based on each line of text\n",
        "def load_dict_from_text (localFile):\n",
        "  with open(localFile) as infile_object : \n",
        "    lines = infile_object.read().splitlines()    # Open and read each line\n",
        "    measures = {}                                # stores elements of a dict\n",
        "  for line in lines: \n",
        "    words = line.strip(\"\\n \").split(' = ')     # remove whitespace and split str to get var name. words[0] contains var name, words[1] contains the phrase that goes after '='\n",
        "    values = words[1].strip(\" {} \").split('), ') # remove the whitespace and '{}', then split the second part of words to get each element in dict\n",
        "    # iterate through each key-value pairelement and process them to get specific key-value pair\n",
        "    for v in values:  \n",
        "      elements = v.split(': ')                   # split key value pair by ':'. elements[0] is key, elements[1] is value\n",
        "      elements[1] = elements[1].strip('array(')  # remove 'array(' from the value\n",
        "      #print(elements[0]) print(elements[1])\n",
        "      measures[ elements[0] ] = elements[1]      # save the key-value pairs found in a line into measures dict\n",
        "\n",
        "    load_dict(words[0], measures)                # load the content of measures dict into the variable name stored in words[0]\n",
        "        \n"
      ],
      "execution_count": 520,
      "outputs": []
    },
    {
      "cell_type": "code",
      "metadata": {
        "id": "Y-Crmv3vvtmy"
      },
      "source": [
        "       \n",
        "#fileName = 'MIT Live Lpr-pm.txt'\n",
        "#load_dict_from_text(fileName)"
      ],
      "execution_count": 521,
      "outputs": []
    },
    {
      "cell_type": "code",
      "metadata": {
        "colab": {
          "base_uri": "https://localhost:8080/",
          "height": 456
        },
        "id": "GhrPdS3wx-nB",
        "outputId": "0b8f1dc5-4218-4a12-9eb3-f4619027bb9b"
      },
      "source": [
        "clean_status = 'clean' if CLEAN else 'unclean'\n",
        "graph_multi_ROC(DATA, SEQ_WINDOW, clean_status)"
      ],
      "execution_count": 522,
      "outputs": [
        {
          "output_type": "stream",
          "name": "stdout",
          "text": [
            "\n",
            "BERT_test and GPT_test do not exist\n",
            "\n"
          ]
        },
        {
          "output_type": "display_data",
          "data": {
            "image/png": "[encoded data removed]",
            "text/plain": [
              "<Figure size 648x432 with 1 Axes>"
            ]
          },
          "metadata": {
            "needs_background": "light"
          }
        }
      ]
    },
    {
      "cell_type": "markdown",
      "metadata": {
        "id": "ZQNi0zQY7QYT"
      },
      "source": [
        "## **Note**\n",
        "\n",
        "Synthetic Sendmail dataset contains some sequences with only 6 system calls. Therefore we padded on the right with -1 on these small sequences, so that the sequence length can be 15.\n",
        "After cleaning, there are 2021 unique normal sequences, while there are 423 unique intrusion sequences. This dataset is imbalanced. \n",
        "\n",
        "BERT and GPT significantly outperform the rest of the models with AUC above 0.95, while the others perform poorly on this dataset (AUC around 0.5)\n",
        "\n",
        "\n"
      ]
    }
  ]
}