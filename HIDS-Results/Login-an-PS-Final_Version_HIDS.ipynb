{
  "nbformat": 4,
  "nbformat_minor": 0,
  "metadata": {
    "colab": {
      "name": "Copy of Final-Version HIDS.ipynb",
      "provenance": [],
      "collapsed_sections": [],
      "toc_visible": true,
      "include_colab_link": true
    },
    "kernelspec": {
      "display_name": "Python 3",
      "language": "python",
      "name": "python3"
    },
    "language_info": {
      "codemirror_mode": {
        "name": "ipython",
        "version": 3
      },
      "file_extension": ".py",
      "mimetype": "text/x-python",
      "name": "python",
      "nbconvert_exporter": "python",
      "pygments_lexer": "ipython3",
      "version": "3.8.5"
    },
    "accelerator": "GPU"
  },
  "cells": [
    {
      "cell_type": "markdown",
      "metadata": {
        "id": "view-in-github",
        "colab_type": "text"
      },
      "source": [
        "<a href=\"https://colab.research.google.com/github/NganTran-0017/HIDS/blob/main/Login-an-PS-Final_Version_HIDS.ipynb\" target=\"_parent\"><img src=\"https://colab.research.google.com/assets/colab-badge.svg\" alt=\"Open In Colab\"/></a>"
      ]
    },
    {
      "cell_type": "markdown",
      "metadata": {
        "id": "h1zufIrelKfl"
      },
      "source": [
        "!rm *.txt\n",
        "! rm *.int"
      ]
    },
    {
      "cell_type": "code",
      "metadata": {
        "id": "dDDU0UkRplxK",
        "colab": {
          "base_uri": "https://localhost:8080/"
        },
        "outputId": "c62605c0-9597-4449-e4cd-99ed0ba63b6b"
      },
      "source": [
        "import pandas as pd\n",
        "import numpy as np\n",
        "import matplotlib.pyplot as plt\n",
        "from scipy import stats\n",
        "from sklearn.metrics import confusion_matrix, classification_report, roc_auc_score, accuracy_score, roc_curve, auc, recall_score, precision_score,plot_confusion_matrix\n",
        "from sklearn.model_selection import train_test_split\n",
        "%matplotlib inline\n",
        "\n",
        "import nltk\n",
        "nltk.download(\"popular\")\n",
        "\n",
        "## Tokenizing syscall sequences into n-grams of 6\n",
        "\n",
        "from nltk.tokenize import word_tokenize\n",
        "from nltk import ngrams"
      ],
      "execution_count": 9,
      "outputs": [
        {
          "output_type": "stream",
          "name": "stdout",
          "text": [
            "[nltk_data] Downloading collection 'popular'\n",
            "[nltk_data]    | \n",
            "[nltk_data]    | Downloading package cmudict to /root/nltk_data...\n",
            "[nltk_data]    |   Package cmudict is already up-to-date!\n",
            "[nltk_data]    | Downloading package gazetteers to /root/nltk_data...\n",
            "[nltk_data]    |   Package gazetteers is already up-to-date!\n",
            "[nltk_data]    | Downloading package genesis to /root/nltk_data...\n",
            "[nltk_data]    |   Package genesis is already up-to-date!\n",
            "[nltk_data]    | Downloading package gutenberg to /root/nltk_data...\n",
            "[nltk_data]    |   Package gutenberg is already up-to-date!\n",
            "[nltk_data]    | Downloading package inaugural to /root/nltk_data...\n",
            "[nltk_data]    |   Package inaugural is already up-to-date!\n",
            "[nltk_data]    | Downloading package movie_reviews to\n",
            "[nltk_data]    |     /root/nltk_data...\n",
            "[nltk_data]    |   Package movie_reviews is already up-to-date!\n",
            "[nltk_data]    | Downloading package names to /root/nltk_data...\n",
            "[nltk_data]    |   Package names is already up-to-date!\n",
            "[nltk_data]    | Downloading package shakespeare to /root/nltk_data...\n",
            "[nltk_data]    |   Package shakespeare is already up-to-date!\n",
            "[nltk_data]    | Downloading package stopwords to /root/nltk_data...\n",
            "[nltk_data]    |   Package stopwords is already up-to-date!\n",
            "[nltk_data]    | Downloading package treebank to /root/nltk_data...\n",
            "[nltk_data]    |   Package treebank is already up-to-date!\n",
            "[nltk_data]    | Downloading package twitter_samples to\n",
            "[nltk_data]    |     /root/nltk_data...\n",
            "[nltk_data]    |   Package twitter_samples is already up-to-date!\n",
            "[nltk_data]    | Downloading package omw to /root/nltk_data...\n",
            "[nltk_data]    |   Package omw is already up-to-date!\n",
            "[nltk_data]    | Downloading package wordnet to /root/nltk_data...\n",
            "[nltk_data]    |   Package wordnet is already up-to-date!\n",
            "[nltk_data]    | Downloading package wordnet_ic to /root/nltk_data...\n",
            "[nltk_data]    |   Package wordnet_ic is already up-to-date!\n",
            "[nltk_data]    | Downloading package words to /root/nltk_data...\n",
            "[nltk_data]    |   Package words is already up-to-date!\n",
            "[nltk_data]    | Downloading package maxent_ne_chunker to\n",
            "[nltk_data]    |     /root/nltk_data...\n",
            "[nltk_data]    |   Package maxent_ne_chunker is already up-to-date!\n",
            "[nltk_data]    | Downloading package punkt to /root/nltk_data...\n",
            "[nltk_data]    |   Package punkt is already up-to-date!\n",
            "[nltk_data]    | Downloading package snowball_data to\n",
            "[nltk_data]    |     /root/nltk_data...\n",
            "[nltk_data]    |   Package snowball_data is already up-to-date!\n",
            "[nltk_data]    | Downloading package averaged_perceptron_tagger to\n",
            "[nltk_data]    |     /root/nltk_data...\n",
            "[nltk_data]    |   Package averaged_perceptron_tagger is already up-\n",
            "[nltk_data]    |       to-date!\n",
            "[nltk_data]    | \n",
            "[nltk_data]  Done downloading collection popular\n"
          ]
        }
      ]
    },
    {
      "cell_type": "markdown",
      "metadata": {
        "id": "F4SwCY4NVnCL"
      },
      "source": [
        "#**Processing data**"
      ]
    },
    {
      "cell_type": "markdown",
      "metadata": {
        "id": "mQhzBhHanZuz"
      },
      "source": [
        "Use the given datasets in our GitHub to load the data"
      ]
    },
    {
      "cell_type": "code",
      "metadata": {
        "id": "JHtiWDffY_so",
        "colab": {
          "base_uri": "https://localhost:8080/"
        },
        "outputId": "8d809e5a-9989-4038-c0c0-69d9a4451e16"
      },
      "source": [
        "  ## Uncomment each line to load Normal data\n",
        "\n",
        "# Synthetic sendmail csv_file = ['bounce-1.int', 'bounce.int', 'bounce-2.int', 'plus.int', 'queue.int', 'sendmail.daemon.int', 'sendmail.log.int']; DATA = 'Synthetic Sendmail'; DATA_I='Synthetic_Sendmail'\n",
        "#!wget 'https://raw.githubusercontent.com/NganTran-0017/HIDS/main/Datasets/UNM/1.Synthetic%20Sendmail/normal-data/bounce-1.int'\n",
        "#!wget 'https://raw.githubusercontent.com/NganTran-0017/HIDS/main/Datasets/UNM/1.Synthetic%20Sendmail/normal-data/bounce.int'\n",
        "#!wget 'https://raw.githubusercontent.com/NganTran-0017/HIDS/main/Datasets/UNM/1.Synthetic%20Sendmail/normal-data/bounce-2.int'\n",
        "#!wget 'https://raw.githubusercontent.com/NganTran-0017/HIDS/main/Datasets/UNM/1.Synthetic%20Sendmail/normal-data/plus.int'\n",
        "#!wget 'https://raw.githubusercontent.com/NganTran-0017/HIDS/main/Datasets/UNM/1.Synthetic%20Sendmail/normal-data/queue.int'\n",
        "#!wget 'https://raw.githubusercontent.com/NganTran-0017/HIDS/main/Datasets/UNM/1.Synthetic%20Sendmail/normal-data/sendmail.daemon.int'\n",
        "#!wget 'https://raw.githubusercontent.com/NganTran-0017/HIDS/main/Datasets/UNM/1.Synthetic%20Sendmail/normal-data/sendmail.log.int'\n",
        "\n",
        "# LIVE LPR csv_file = ['lpr-normal-10.txt', 'lpr-normal-11.txt']; DATA = 'Live Lpr'; DATA_I='Live-Lpr' \n",
        "#!wget 'https://raw.githubusercontent.com/NganTran-0017/HIDS/main/Datasets/UNM/4.%20Live%20lpr/Normal/real/lpr-normal-11.txt'\n",
        "#!wget 'https://raw.githubusercontent.com/NganTran-0017/HIDS/main/Datasets/UNM/4.%20Live%20lpr/Normal/real/lpr-normal-10.txt'\n",
        "\n",
        "# MIT live lpr csv_file = [ 'mit-lpr-mar.txt']; DATA = 'MIT Live Lpr'; DATA_I='MIT-Lpr' \n",
        "#!wget 'https://raw.githubusercontent.com/NganTran-0017/HIDS/main/Datasets/MIT/mit-lpr-mar.txt'\n",
        "\n",
        "# LOGIN and PS \n",
        "csv_file = [ 'login-normal.txt', 'ps-normal.txt']; DATA = 'Login and Ps'; DATA_I =\"Login-and-Ps\"\n",
        "!wget 'https://raw.githubusercontent.com/NganTran-0017/HIDS/main/Datasets/UNM/7.Login_and_ps/normal/login-normal.txt'\n",
        "!wget 'https://raw.githubusercontent.com/NganTran-0017/HIDS/main/Datasets/UNM/7.Login_and_ps/normal/ps-normal.txt'\n",
        "\n",
        "# INETD csv_file = [ 'inetd-live-unm.int']; DATA = 'Inetd';DATA_I =\"Inetd\" \n",
        "#!wget 'https://raw.githubusercontent.com/NganTran-0017/HIDS/main/Datasets/UNM/8.Inetd/inetd-live-unm.int'\n",
        "\n",
        "# STIDE csv_file = [ 'stide-normal-500k.txt']; DATA = 'Stide';DATA_I ='Stide' \n",
        "#!wget 'https://raw.githubusercontent.com/NganTran-0017/HIDS/main/Datasets/UNM/10.Stide/stide-normal-500k.txt'\n",
        "\n",
        "# Live Named  ==> Best result csv_file = [ 'normal-named-live-2k.txt']; DATA = 'Live Named';DATA_I ='Live-Named' \n",
        "#!wget 'https://raw.githubusercontent.com/NganTran-0017/HIDS/main/Datasets/UNM/6.Live_named/normal-named-live-2k.txt'\n",
        "\n",
        "# Xlock csv_file = [ 'normal-xlock.txt']; DATA = 'Xlock';DATA_I='Xlock' \n",
        "#!wget 'https://raw.githubusercontent.com/NganTran-0017/HIDS/main/Datasets/UNM/5.xlock/normal-xlock.txt'\n",
        "\n",
        "# Synthetic Ftp csv_file = [ 'nonself1.int','nonself2.int']; DATA = 'Synthetic Ftp'; DATA_I='Synthetic-Ftp'\n",
        "#!wget 'https://raw.githubusercontent.com/NganTran-0017/HIDS/main/Datasets/UNM/2.Synthetic%20Ftp/nonself1.int'\n",
        "#!wget 'https://raw.githubusercontent.com/NganTran-0017/HIDS/main/Datasets/UNM/2.Synthetic%20Ftp/nonself2.int'\n",
        "\n",
        "# Synthetic lpr csv_file = ['syn.int']; DATA = 'Synthetic Lpr';DATA_I='Synthetic-Lpr'\n",
        "#!wget 'https://raw.githubusercontent.com/NganTran-0017/HIDS/main/Datasets/UNM/3.Synthetic-lpr/syn.int'\n",
        "\n",
        "# Concat a list of files into normal df\n",
        "list_of_dataframes = []\n",
        "for filename in csv_file:\n",
        "    list_of_dataframes.append(pd.read_csv(filename, sep=' ', header=None, engine='python'))\n",
        "df = pd.concat(list_of_dataframes)\n",
        "\n",
        "# Check number of columns, if > 2, then drop the excess\n",
        "if len(df.columns) > 2:\n",
        "    df=df.drop(labels=None, axis=1, columns = [2,3])\n",
        "df =df.rename(columns= {0:\"PID\", 1:\"Syscall\"})\n",
        "\n",
        "print('Normal data size:', df.shape)\n",
        "\n",
        "\n",
        "  ## Uncomment each line to load Intrusion data:\n",
        "\n",
        "# Synthetic sendmail csv_file = ['sm-10763.int', 'fwd-loops-1.int', 'fwd-loops-2.int', 'fwd-loops-3.int', 'fwd-loops-4.int', 'fwd-loops-5.int','sm-280.int', 'sm-314.int','sm-10801.int', 'sm-10814.int']\n",
        "#!wget 'https://raw.githubusercontent.com/NganTran-0017/HIDS/main/Datasets/UNM/1.Synthetic%20Sendmail/Intrusion-trace-data/fwd-loops-1.int'\n",
        "#!wget 'https://raw.githubusercontent.com/NganTran-0017/HIDS/main/Datasets/UNM/1.Synthetic%20Sendmail/Intrusion-trace-data/fwd-loops-2.int'\n",
        "#!wget 'https://raw.githubusercontent.com/NganTran-0017/HIDS/main/Datasets/UNM/1.Synthetic%20Sendmail/Intrusion-trace-data/fwd-loops-3.int'\n",
        "#!wget 'https://raw.githubusercontent.com/NganTran-0017/HIDS/main/Datasets/UNM/1.Synthetic%20Sendmail/Intrusion-trace-data/fwd-loops-4.int'\n",
        "#!wget 'https://raw.githubusercontent.com/NganTran-0017/HIDS/main/Datasets/UNM/1.Synthetic%20Sendmail/Intrusion-trace-data/fwd-loops-5.int'\n",
        "#!wget 'https://raw.githubusercontent.com/NganTran-0017/HIDS/main/Datasets/UNM/1.Synthetic%20Sendmail/Intrusion-trace-data/sm-10763.int'\n",
        "#!wget 'https://raw.githubusercontent.com/NganTran-0017/HIDS/main/Datasets/UNM/1.Synthetic%20Sendmail/Intrusion-trace-data/sm-280.int'\n",
        "#!wget 'https://raw.githubusercontent.com/NganTran-0017/HIDS/main/Datasets/UNM/1.Synthetic%20Sendmail/Intrusion-trace-data/sm-314.int'\n",
        "#!wget 'https://raw.githubusercontent.com/NganTran-0017/HIDS/main/Datasets/UNM/1.Synthetic%20Sendmail/Intrusion-trace-data/sm-10801.int'\n",
        "#!wget 'https://raw.githubusercontent.com/NganTran-0017/HIDS/main/Datasets/UNM/1.Synthetic%20Sendmail/Intrusion-trace-data/sm-10814.int'\n",
        "\n",
        "# LIVE LPR csv_file =['exploit-unm.int'] \n",
        "#!wget 'https://raw.githubusercontent.com/NganTran-0017/HIDS/main/Datasets/UNM/4.%20Live%20lpr/Intrusion/exploit-unm.int'\n",
        "\n",
        "# MIT live lpr csv_file = [ 'exploit-ai.int'] \n",
        "#!wget 'https://raw.githubusercontent.com/NganTran-0017/HIDS/main/Datasets/MIT/exploit-ai.int'\n",
        "\n",
        "# LOGIN and PS \n",
        "csv_file = [ 'login-homegrown.int','ps-homegrown.int','login-recovered.int','ps-recovered.int']\n",
        "!wget 'https://raw.githubusercontent.com/NganTran-0017/HIDS/main/Datasets/UNM/7.Login_and_ps/intrusion/ps-recovered.int'\n",
        "!wget 'https://raw.githubusercontent.com/NganTran-0017/HIDS/main/Datasets/UNM/7.Login_and_ps/intrusion/ps-homegrown.int'\n",
        "!wget 'https://raw.githubusercontent.com/NganTran-0017/HIDS/main/Datasets/UNM/7.Login_and_ps/intrusion/login-recovered.int'\n",
        "!wget 'https://raw.githubusercontent.com/NganTran-0017/HIDS/main/Datasets/UNM/7.Login_and_ps/intrusion/login-homegrown.int'\n",
        "\n",
        "# INETD csv_file = [ 'inetd-intrusion.int'] \n",
        "#!wget 'https://raw.githubusercontent.com/NganTran-0017/HIDS/main/Datasets/UNM/8.Inetd/intrusion/inetd-intrusion.int'\n",
        "\n",
        "# STIDE csv_file = [ 'stide-intrusion'] \n",
        "#!wget 'https://raw.githubusercontent.com/NganTran-0017/HIDS/main/Datasets/UNM/10.Stide/intrusion/stide-intrusion'\n",
        "\n",
        "# Live Named  ==> Best Result csv_file = [ 'exploit-1.int','exploit-2.int'] \n",
        "#!wget 'https://raw.githubusercontent.com/NganTran-0017/HIDS/main/Datasets/UNM/6.Live_named/intrusion/exploit-1.int'\n",
        "#!wget 'https://raw.githubusercontent.com/NganTran-0017/HIDS/main/Datasets/UNM/6.Live_named/intrusion/exploit-2.int'\n",
        "\n",
        "# Xlock csv_file = [ 'nonself.cs.unm.edu-07.24.97-xlock-2822_new.log.int', 'nonself.cs.unm.edu-07.25.97-xlock-2691_new.log.int']\n",
        "#!wget 'https://raw.githubusercontent.com/NganTran-0017/HIDS/main/Datasets/UNM/5.xlock/intrusion/nonself.cs.unm.edu-07.25.97-xlock-2691_new.log.int'\n",
        "#!wget 'https://raw.githubusercontent.com/NganTran-0017/HIDS/main/Datasets/UNM/5.xlock/intrusion/nonself.cs.unm.edu-07.24.97-xlock-2822_new.log.int'\n",
        "\n",
        "# Synthetic Ftp csv_file = [ 'exploit2.int']\n",
        "#!wget 'https://raw.githubusercontent.com/NganTran-0017/HIDS/main/Datasets/UNM/2.Synthetic%20Ftp/intrusion/exploit2.int'\n",
        "\n",
        "# Synthetic Lpr csv_file = [ 'exploit-unm.int']\n",
        "#!wget 'https://raw.githubusercontent.com/NganTran-0017/HIDS/main/Datasets/UNM/3.Synthetic-lpr/intrusion/exploit-unm.int'\n",
        "\n",
        "list_of_dataframes = []\n",
        "for filename in csv_file:\n",
        "    list_of_dataframes.append(pd.read_csv(filename, sep=' ', header=None, engine='python'))\n",
        "intrusiondf = pd.concat(list_of_dataframes)\n",
        "\n",
        "if len(intrusiondf.columns) > 2:\n",
        "    intrusiondf = intrusiondf.drop(labels=None, axis=1, columns = [2,3])\n",
        "intrusiondf = intrusiondf.rename(columns= {0:\"PID\", 1:\"Syscall\"})\n",
        "\n",
        "print('intrusion data size: ', intrusiondf.shape)\n",
        "\n",
        "print('Normal:',df.head(3))\n",
        "#print(df['PID'].value_counts())\n",
        "print('Intrusion:',intrusiondf.head())"
      ],
      "execution_count": 3,
      "outputs": [
        {
          "output_type": "stream",
          "name": "stdout",
          "text": [
            "--2021-10-08 20:24:36--  https://raw.githubusercontent.com/NganTran-0017/HIDS/main/Datasets/UNM/7.Login_and_ps/normal/login-normal.txt\n",
            "Resolving raw.githubusercontent.com (raw.githubusercontent.com)... 185.199.108.133, 185.199.109.133, 185.199.110.133, ...\n",
            "Connecting to raw.githubusercontent.com (raw.githubusercontent.com)|185.199.108.133|:443... connected.\n",
            "HTTP request sent, awaiting response... 200 OK\n",
            "Length: 64895 (63K) [text/plain]\n",
            "Saving to: ‘login-normal.txt.1’\n",
            "\n",
            "\rlogin-normal.txt.1    0%[                    ]       0  --.-KB/s               \rlogin-normal.txt.1  100%[===================>]  63.37K  --.-KB/s    in 0.01s   \n",
            "\n",
            "2021-10-08 20:24:36 (5.36 MB/s) - ‘login-normal.txt.1’ saved [64895/64895]\n",
            "\n",
            "--2021-10-08 20:24:36--  https://raw.githubusercontent.com/NganTran-0017/HIDS/main/Datasets/UNM/7.Login_and_ps/normal/ps-normal.txt\n",
            "Resolving raw.githubusercontent.com (raw.githubusercontent.com)... 185.199.108.133, 185.199.109.133, 185.199.110.133, ...\n",
            "Connecting to raw.githubusercontent.com (raw.githubusercontent.com)|185.199.108.133|:443... connected.\n",
            "HTTP request sent, awaiting response... 200 OK\n",
            "Length: 42267 (41K) [text/plain]\n",
            "Saving to: ‘ps-normal.txt.1’\n",
            "\n",
            "ps-normal.txt.1     100%[===================>]  41.28K  --.-KB/s    in 0.002s  \n",
            "\n",
            "2021-10-08 20:24:36 (18.5 MB/s) - ‘ps-normal.txt.1’ saved [42267/42267]\n",
            "\n",
            "Normal data size: (15050, 2)\n",
            "--2021-10-08 20:24:36--  https://raw.githubusercontent.com/NganTran-0017/HIDS/main/Datasets/UNM/7.Login_and_ps/intrusion/ps-recovered.int\n",
            "Resolving raw.githubusercontent.com (raw.githubusercontent.com)... 185.199.109.133, 185.199.111.133, 185.199.110.133, ...\n",
            "Connecting to raw.githubusercontent.com (raw.githubusercontent.com)|185.199.109.133|:443... connected.\n",
            "HTTP request sent, awaiting response... 200 OK\n",
            "Length: 15937 (16K) [text/plain]\n",
            "Saving to: ‘ps-recovered.int’\n",
            "\n",
            "ps-recovered.int    100%[===================>]  15.56K  --.-KB/s    in 0s      \n",
            "\n",
            "2021-10-08 20:24:36 (41.2 MB/s) - ‘ps-recovered.int’ saved [15937/15937]\n",
            "\n",
            "--2021-10-08 20:24:36--  https://raw.githubusercontent.com/NganTran-0017/HIDS/main/Datasets/UNM/7.Login_and_ps/intrusion/ps-homegrown.int\n",
            "Resolving raw.githubusercontent.com (raw.githubusercontent.com)... 185.199.111.133, 185.199.110.133, 185.199.109.133, ...\n",
            "Connecting to raw.githubusercontent.com (raw.githubusercontent.com)|185.199.111.133|:443... connected.\n",
            "HTTP request sent, awaiting response... 200 OK\n",
            "Length: 29159 (28K) [text/plain]\n",
            "Saving to: ‘ps-homegrown.int’\n",
            "\n",
            "ps-homegrown.int    100%[===================>]  28.48K  --.-KB/s    in 0.002s  \n",
            "\n",
            "2021-10-08 20:24:36 (12.7 MB/s) - ‘ps-homegrown.int’ saved [29159/29159]\n",
            "\n",
            "--2021-10-08 20:24:37--  https://raw.githubusercontent.com/NganTran-0017/HIDS/main/Datasets/UNM/7.Login_and_ps/intrusion/login-recovered.int\n",
            "Resolving raw.githubusercontent.com (raw.githubusercontent.com)... 185.199.108.133, 185.199.109.133, 185.199.110.133, ...\n",
            "Connecting to raw.githubusercontent.com (raw.githubusercontent.com)|185.199.108.133|:443... connected.\n",
            "HTTP request sent, awaiting response... 200 OK\n",
            "Length: 12939 (13K) [text/plain]\n",
            "Saving to: ‘login-recovered.int’\n",
            "\n",
            "login-recovered.int 100%[===================>]  12.64K  --.-KB/s    in 0.001s  \n",
            "\n",
            "2021-10-08 20:24:37 (21.2 MB/s) - ‘login-recovered.int’ saved [12939/12939]\n",
            "\n",
            "--2021-10-08 20:24:37--  https://raw.githubusercontent.com/NganTran-0017/HIDS/main/Datasets/UNM/7.Login_and_ps/intrusion/login-homegrown.int\n",
            "Resolving raw.githubusercontent.com (raw.githubusercontent.com)... 185.199.111.133, 185.199.109.133, 185.199.108.133, ...\n",
            "Connecting to raw.githubusercontent.com (raw.githubusercontent.com)|185.199.111.133|:443... connected.\n",
            "HTTP request sent, awaiting response... 200 OK\n",
            "Length: 18271 (18K) [text/plain]\n",
            "Saving to: ‘login-homegrown.int’\n",
            "\n",
            "login-homegrown.int 100%[===================>]  17.84K  --.-KB/s    in 0.001s  \n",
            "\n",
            "2021-10-08 20:24:37 (29.2 MB/s) - ‘login-homegrown.int’ saved [18271/18271]\n",
            "\n",
            "intrusion data size:  (11825, 2)\n",
            "Normal:    PID  Syscall\n",
            "0  509       90\n",
            "1  509      125\n",
            "2  509      106\n",
            "Intrusion:    PID  Syscall\n",
            "0  460       90\n",
            "1  460      125\n",
            "2  460      106\n",
            "3  460        5\n",
            "4  460       90\n"
          ]
        }
      ]
    },
    {
      "cell_type": "markdown",
      "metadata": {
        "id": "09eozmwq9CFh"
      },
      "source": [
        "**Change to covert all syscall of 1 PID into a data record. Pasrse each data record to a length of 10 or 15, clean frequent records.**"
      ]
    },
    {
      "cell_type": "code",
      "metadata": {
        "colab": {
          "base_uri": "https://localhost:8080/",
          "height": 1000
        },
        "id": "6OgG7OGdQ0Oi",
        "outputId": "10b896d3-dcee-48cc-e11a-d2e14c27674f"
      },
      "source": [
        "print('Number of unique PID in normal data:', len(df['PID'].value_counts()), '\\n PIDs:', df['PID'].value_counts())\n",
        "df"
      ],
      "execution_count": 27,
      "outputs": [
        {
          "output_type": "stream",
          "name": "stdout",
          "text": [
            "Number of unique PID in normal data: 43 \n",
            " PIDs: 3278     756\n",
            "9280     745\n",
            "598      745\n",
            "625      745\n",
            "2188     745\n",
            "509      745\n",
            "4938     745\n",
            "1262     745\n",
            "531      741\n",
            "8954     732\n",
            "19563    731\n",
            "3302     719\n",
            "395      448\n",
            "4190     435\n",
            "4121     435\n",
            "4147     412\n",
            "3737     398\n",
            "193      370\n",
            "325      363\n",
            "182      356\n",
            "326      356\n",
            "387      343\n",
            "170      342\n",
            "159      328\n",
            "150      314\n",
            "999      275\n",
            "17832    275\n",
            "3299     268\n",
            "484      196\n",
            "4120     121\n",
            "738      109\n",
            "1705       1\n",
            "17809      1\n",
            "3279       1\n",
            "8088       1\n",
            "8955       1\n",
            "19573      1\n",
            "5246       1\n",
            "2782       1\n",
            "725        1\n",
            "15210      1\n",
            "510        1\n",
            "979        1\n",
            "Name: PID, dtype: int64\n"
          ]
        },
        {
          "output_type": "execute_result",
          "data": {
            "text/html": [
              "<div>\n",
              "<style scoped>\n",
              "    .dataframe tbody tr th:only-of-type {\n",
              "        vertical-align: middle;\n",
              "    }\n",
              "\n",
              "    .dataframe tbody tr th {\n",
              "        vertical-align: top;\n",
              "    }\n",
              "\n",
              "    .dataframe thead th {\n",
              "        text-align: right;\n",
              "    }\n",
              "</style>\n",
              "<table border=\"1\" class=\"dataframe\">\n",
              "  <thead>\n",
              "    <tr style=\"text-align: right;\">\n",
              "      <th></th>\n",
              "      <th>PID</th>\n",
              "      <th>Syscall</th>\n",
              "    </tr>\n",
              "  </thead>\n",
              "  <tbody>\n",
              "    <tr>\n",
              "      <th>0</th>\n",
              "      <td>509</td>\n",
              "      <td>90</td>\n",
              "    </tr>\n",
              "    <tr>\n",
              "      <th>1</th>\n",
              "      <td>509</td>\n",
              "      <td>125</td>\n",
              "    </tr>\n",
              "    <tr>\n",
              "      <th>2</th>\n",
              "      <td>509</td>\n",
              "      <td>106</td>\n",
              "    </tr>\n",
              "    <tr>\n",
              "      <th>3</th>\n",
              "      <td>509</td>\n",
              "      <td>5</td>\n",
              "    </tr>\n",
              "    <tr>\n",
              "      <th>4</th>\n",
              "      <td>509</td>\n",
              "      <td>90</td>\n",
              "    </tr>\n",
              "    <tr>\n",
              "      <th>...</th>\n",
              "      <td>...</td>\n",
              "      <td>...</td>\n",
              "    </tr>\n",
              "    <tr>\n",
              "      <th>6139</th>\n",
              "      <td>3299</td>\n",
              "      <td>4</td>\n",
              "    </tr>\n",
              "    <tr>\n",
              "      <th>6140</th>\n",
              "      <td>3299</td>\n",
              "      <td>4</td>\n",
              "    </tr>\n",
              "    <tr>\n",
              "      <th>6141</th>\n",
              "      <td>3299</td>\n",
              "      <td>4</td>\n",
              "    </tr>\n",
              "    <tr>\n",
              "      <th>6142</th>\n",
              "      <td>3299</td>\n",
              "      <td>4</td>\n",
              "    </tr>\n",
              "    <tr>\n",
              "      <th>6143</th>\n",
              "      <td>3299</td>\n",
              "      <td>1</td>\n",
              "    </tr>\n",
              "  </tbody>\n",
              "</table>\n",
              "<p>15050 rows × 2 columns</p>\n",
              "</div>"
            ],
            "text/plain": [
              "       PID  Syscall\n",
              "0      509       90\n",
              "1      509      125\n",
              "2      509      106\n",
              "3      509        5\n",
              "4      509       90\n",
              "...    ...      ...\n",
              "6139  3299        4\n",
              "6140  3299        4\n",
              "6141  3299        4\n",
              "6142  3299        4\n",
              "6143  3299        1\n",
              "\n",
              "[15050 rows x 2 columns]"
            ]
          },
          "metadata": {},
          "execution_count": 27
        }
      ]
    },
    {
      "cell_type": "code",
      "metadata": {
        "colab": {
          "base_uri": "https://localhost:8080/",
          "height": 1000
        },
        "id": "D3SbpSdF7YDQ",
        "outputId": "5b74b7eb-bf19-4c40-e51d-d6ec0a3585bf"
      },
      "source": [
        "print('Number of unique PID in intrusion data:', len(intrusiondf['PID'].value_counts()), '\\n PIDs:', intrusiondf['PID'].value_counts())\n",
        "intrusiondf"
      ],
      "execution_count": 28,
      "outputs": [
        {
          "output_type": "stream",
          "name": "stdout",
          "text": [
            "Number of unique PID in intrusion data: 34 \n",
            " PIDs: 503    812\n",
            "487    756\n",
            "460    745\n",
            "193    558\n",
            "182    537\n",
            "170    516\n",
            "159    495\n",
            "545    486\n",
            "150    474\n",
            "401    463\n",
            "391    427\n",
            "828    424\n",
            "630    424\n",
            "816    410\n",
            "784    410\n",
            "398    406\n",
            "801    386\n",
            "336    378\n",
            "327    341\n",
            "326    334\n",
            "593    272\n",
            "799    268\n",
            "780    261\n",
            "586    244\n",
            "572    199\n",
            "567    196\n",
            "585    193\n",
            "813    188\n",
            "592    116\n",
            "798    102\n",
            "555      1\n",
            "469      1\n",
            "504      1\n",
            "488      1\n",
            "Name: PID, dtype: int64\n"
          ]
        },
        {
          "output_type": "execute_result",
          "data": {
            "text/html": [
              "<div>\n",
              "<style scoped>\n",
              "    .dataframe tbody tr th:only-of-type {\n",
              "        vertical-align: middle;\n",
              "    }\n",
              "\n",
              "    .dataframe tbody tr th {\n",
              "        vertical-align: top;\n",
              "    }\n",
              "\n",
              "    .dataframe thead th {\n",
              "        text-align: right;\n",
              "    }\n",
              "</style>\n",
              "<table border=\"1\" class=\"dataframe\">\n",
              "  <thead>\n",
              "    <tr style=\"text-align: right;\">\n",
              "      <th></th>\n",
              "      <th>PID</th>\n",
              "      <th>Syscall</th>\n",
              "    </tr>\n",
              "  </thead>\n",
              "  <tbody>\n",
              "    <tr>\n",
              "      <th>0</th>\n",
              "      <td>460</td>\n",
              "      <td>90</td>\n",
              "    </tr>\n",
              "    <tr>\n",
              "      <th>1</th>\n",
              "      <td>460</td>\n",
              "      <td>125</td>\n",
              "    </tr>\n",
              "    <tr>\n",
              "      <th>2</th>\n",
              "      <td>460</td>\n",
              "      <td>106</td>\n",
              "    </tr>\n",
              "    <tr>\n",
              "      <th>3</th>\n",
              "      <td>460</td>\n",
              "      <td>5</td>\n",
              "    </tr>\n",
              "    <tr>\n",
              "      <th>4</th>\n",
              "      <td>460</td>\n",
              "      <td>90</td>\n",
              "    </tr>\n",
              "    <tr>\n",
              "      <th>...</th>\n",
              "      <td>...</td>\n",
              "      <td>...</td>\n",
              "    </tr>\n",
              "    <tr>\n",
              "      <th>2458</th>\n",
              "      <td>813</td>\n",
              "      <td>4</td>\n",
              "    </tr>\n",
              "    <tr>\n",
              "      <th>2459</th>\n",
              "      <td>813</td>\n",
              "      <td>4</td>\n",
              "    </tr>\n",
              "    <tr>\n",
              "      <th>2460</th>\n",
              "      <td>813</td>\n",
              "      <td>4</td>\n",
              "    </tr>\n",
              "    <tr>\n",
              "      <th>2461</th>\n",
              "      <td>813</td>\n",
              "      <td>4</td>\n",
              "    </tr>\n",
              "    <tr>\n",
              "      <th>2462</th>\n",
              "      <td>813</td>\n",
              "      <td>1</td>\n",
              "    </tr>\n",
              "  </tbody>\n",
              "</table>\n",
              "<p>11825 rows × 2 columns</p>\n",
              "</div>"
            ],
            "text/plain": [
              "      PID  Syscall\n",
              "0     460       90\n",
              "1     460      125\n",
              "2     460      106\n",
              "3     460        5\n",
              "4     460       90\n",
              "...   ...      ...\n",
              "2458  813        4\n",
              "2459  813        4\n",
              "2460  813        4\n",
              "2461  813        4\n",
              "2462  813        1\n",
              "\n",
              "[11825 rows x 2 columns]"
            ]
          },
          "metadata": {},
          "execution_count": 28
        }
      ]
    },
    {
      "cell_type": "markdown",
      "metadata": {
        "id": "vvHyIKtq9BCG"
      },
      "source": [
        "**Create syscall sequence per pid**"
      ]
    },
    {
      "cell_type": "code",
      "metadata": {
        "colab": {
          "base_uri": "https://localhost:8080/"
        },
        "id": "KXOlXVgyOHmA",
        "outputId": "b503dc8f-04a4-41ca-e541-6ccbedea60b0"
      },
      "source": [
        "# This function groups data by PID, so the sequences appear by PID instead of by order, in case it was interrupted by other PID\n",
        "## It returns a dict with PID as key and syscall seq as item\n",
        "def group_syscalls_by_pid (data):\n",
        "  seq_per_pid = {}\n",
        "  for p in data['PID'].unique():\n",
        "    filt = data['PID'] == p\n",
        "    seq = data.loc[filt]['Syscall'].values.astype(str)\n",
        "    seq_per_pid[p] = ' '.join(seq)\n",
        "  return seq_per_pid\n",
        "\n",
        "# Group normal df by PID and drop PID column\n",
        "normal_seq_per_pid = group_syscalls_by_pid(df)\n",
        "print('Number of unique PID in normal:', len(normal_seq_per_pid))\n",
        "print('Normal PIDs and its sequences: ',normal_seq_per_pid)\n",
        "\n",
        "# Do the same thing to intrusion PID\n",
        "intrusion_seq_per_pid = group_syscalls_by_pid(intrusiondf)\n",
        "print('Number of unique PID in intrusion:', len(intrusion_seq_per_pid))\n",
        "print('Intrusion PIDs and its sequences: ', intrusion_seq_per_pid)"
      ],
      "execution_count": 34,
      "outputs": [
        {
          "output_type": "stream",
          "name": "stdout",
          "text": [
            "Number of unique PID in normal: 43\n",
            "Normal PIDs and its sequences:  {509: '90 125 106 5 90 6 5 3 90 90 90 6 5 3 90 90 90 6 125 5 3 90 90 90 6 125 5 3 90 90 90 90 6 125 91 125 125 125 125 136 49 24 47 50 67 27 67 67 97 122 45 45 5 106 106 106 106 106 6 6 6 6 6 6 6 6 6 6 6 6 6 6 6 6 6 6 6 6 6 6 6 6 6 6 6 6 6 6 6 6 6 6 6 6 6 6 6 6 6 6 6 6 6 6 6 6 6 6 6 6 6 6 6 6 6 6 6 6 6 6 6 6 6 6 6 6 6 6 6 6 6 6 6 6 6 6 6 6 6 6 6 6 6 6 6 6 6 6 6 6 6 6 6 6 6 6 6 6 6 6 6 6 6 6 6 6 6 6 6 6 6 6 6 6 6 6 6 6 6 6 6 6 6 6 6 6 6 6 6 6 6 6 6 6 6 6 6 6 6 6 6 6 6 6 6 6 6 6 6 6 6 6 6 6 6 6 6 6 6 6 6 6 6 6 6 6 6 6 6 6 6 6 6 6 6 6 6 6 6 6 6 6 6 6 6 6 6 6 6 6 6 6 6 6 6 6 6 6 6 6 6 6 6 6 6 6 6 6 6 6 6 6 6 6 6 6 6 6 6 6 6 6 6 6 6 6 6 6 6 6 6 6 6 6 6 6 6 6 6 6 6 6 6 6 6 6 6 6 6 6 6 6 54 108 106 5 55 45 141 141 141 141 106 6 57 54 16 15 54 67 111 67 66 5 6 6 6 63 63 63 6 54 106 5 108 90 3 106 5 90 6 5 3 90 90 90 6 125 91 106 5 90 6 5 3 90 90 90 6 125 5 3 90 90 90 90 6 125 91 106 5 90 6 5 3 90 90 90 6 125 91 106 5 90 6 5 3 90 90 90 90 6 125 91 3 6 91 5 108 90 3 106 5 90 6 5 3 90 90 90 6 125 91 3 6 91 5 45 108 90 3 3 6 91 5 108 90 3 19 6 91 5 108 90 3 3 6 91 76 75 24 5 108 90 3 19 6 91 13 13 13 13 13 13 13 13 13 5 5 13 54 54 13 4 54 3 54 4 5 108 90 3 19 6 91 13 13 13 13 13 13 13 13 13 5 5 13 76 75 5 5 108 90 3 3 6 91 76 75 24 5 108 90 3 19 6 91 13 13 13 13 13 13 13 13 13 5 5 13 13 13 13 13 13 76 75 5 108 90 19 3 19 6 91 27 24 50 71 70 33 23 70 71 20 5 3 3 3 3 13 19 4 6 5 67 27 143 27 4 143 6 5 19 3 5 3 6 13 108 90 54 4 19 13 4 6 5 108 90 3 19 6 91 16 15 46 49 5 108 90 3 3 6 91 5 5 81 5 108 90 3 3 6 91 76 75 24 76 75 5 108 90 3 3 6 91 76 75 24 24 54 54 108 106 5 55 141 141 141 141 106 6 5 3 3 3 3 5 108 90 3 19 6 91 13 13 13 13 13 13 13 13 13 5 5 13 13 13 13 13 6 54 54 108 106 5 55 141 141 141 141 106 6 5 3 3 3 3 13 13 13 13 13 13 6 102 102 13 20 4 6 76 75 5 67 3 67 6 106 67 67 67 67 67 23 12 2 67 114 67 5 108 90 3 3 6 91 76 75 24 102 102 13 20 4 6 76 75 91 91 91 91 91 91 1', 510: '11', 531: '90 125 106 5 90 6 5 3 90 90 90 6 5 3 90 90 90 6 125 5 3 90 90 90 6 125 5 3 90 90 90 90 6 125 91 125 125 125 125 136 49 24 47 50 67 27 67 67 97 122 45 45 5 106 106 106 106 106 6 6 6 6 6 6 6 6 6 6 6 6 6 6 6 6 6 6 6 6 6 6 6 6 6 6 6 6 6 6 6 6 6 6 6 6 6 6 6 6 6 6 6 6 6 6 6 6 6 6 6 6 6 6 6 6 6 6 6 6 6 6 6 6 6 6 6 6 6 6 6 6 6 6 6 6 6 6 6 6 6 6 6 6 6 6 6 6 6 6 6 6 6 6 6 6 6 6 6 6 6 6 6 6 6 6 6 6 6 6 6 6 6 6 6 6 6 6 6 6 6 6 6 6 6 6 6 6 6 6 6 6 6 6 6 6 6 6 6 6 6 6 6 6 6 6 6 6 6 6 6 6 6 6 6 6 6 6 6 6 6 6 6 6 6 6 6 6 6 6 6 6 6 6 6 6 6 6 6 6 6 6 6 6 6 6 6 6 6 6 6 6 6 6 6 6 6 6 6 6 6 6 6 6 6 6 6 6 6 6 6 6 6 6 6 6 6 6 6 6 6 6 6 6 6 6 6 6 6 6 6 6 6 6 6 6 6 6 6 6 6 6 6 6 6 6 6 6 6 6 6 6 6 6 54 108 106 5 55 45 141 141 141 141 106 6 57 54 16 15 54 67 111 67 66 5 6 6 6 63 63 63 6 54 106 5 108 90 3 106 5 90 6 5 3 90 90 90 6 125 91 106 5 90 6 5 3 90 90 90 6 125 5 3 90 90 90 90 6 125 91 106 5 90 6 5 3 90 90 90 6 125 91 106 5 90 6 5 3 90 90 90 90 6 125 91 3 6 91 5 108 90 3 106 5 90 6 5 3 90 90 90 6 125 91 3 6 91 5 45 108 90 3 3 6 91 5 108 90 3 19 6 91 5 108 90 3 3 6 91 76 75 24 5 108 90 3 19 6 91 13 13 13 13 13 13 13 13 13 5 5 13 54 54 13 4 54 3 54 4 5 108 90 3 19 6 91 13 13 13 13 13 13 13 13 13 5 5 13 76 75 5 5 108 90 3 3 6 91 76 75 24 5 108 90 3 19 6 91 13 13 13 13 13 13 13 13 13 5 5 13 13 13 13 13 13 76 75 5 108 90 19 3 19 6 91 27 24 50 71 70 33 23 70 71 20 5 3 3 3 3 13 19 4 6 5 67 27 143 27 4 143 6 5 19 3 19 13 4 6 5 108 90 3 19 6 91 16 15 46 49 5 108 90 3 3 6 91 5 5 81 5 108 90 3 3 6 91 76 75 24 76 75 5 108 90 3 3 6 91 76 75 24 24 54 54 108 106 5 55 141 141 141 141 106 6 5 3 3 3 3 5 108 90 3 19 6 91 13 13 13 13 13 13 13 13 13 5 5 13 13 13 13 13 6 54 54 108 106 5 55 141 141 141 141 106 6 5 3 3 3 3 13 13 13 13 13 13 6 102 102 13 5 3 6 13 20 4 6 76 75 5 67 3 67 6 106 67 67 67 67 67 23 12 2 67 114 67 5 108 90 3 3 6 91 76 75 24 102 102 13 20 4 6 76 75 91 91 91 91 91 91 1', 17809: '11', 19563: '90 125 106 5 90 6 5 3 90 90 90 6 5 3 90 90 90 6 125 5 3 90 90 90 6 125 5 3 90 90 90 90 6 125 91 125 125 125 125 136 49 24 47 50 67 27 67 67 97 122 45 45 5 106 106 106 106 106 6 6 6 6 6 6 6 6 6 6 6 6 6 6 6 6 6 6 6 6 6 6 6 6 6 6 6 6 6 6 6 6 6 6 6 6 6 6 6 6 6 6 6 6 6 6 6 6 6 6 6 6 6 6 6 6 6 6 6 6 6 6 6 6 6 6 6 6 6 6 6 6 6 6 6 6 6 6 6 6 6 6 6 6 6 6 6 6 6 6 6 6 6 6 6 6 6 6 6 6 6 6 6 6 6 6 6 6 6 6 6 6 6 6 6 6 6 6 6 6 6 6 6 6 6 6 6 6 6 6 6 6 6 6 6 6 6 6 6 6 6 6 6 6 6 6 6 6 6 6 6 6 6 6 6 6 6 6 6 6 6 6 6 6 6 6 6 6 6 6 6 6 6 6 6 6 6 6 6 6 6 6 6 6 6 6 6 6 6 6 6 6 6 6 6 6 6 6 6 6 6 6 6 6 6 6 6 6 6 6 6 6 6 6 6 6 6 6 6 6 6 6 6 6 6 6 6 6 6 6 6 6 6 6 6 6 6 6 6 6 6 6 6 6 6 6 6 6 6 6 6 6 6 6 54 108 106 5 55 45 141 141 141 141 106 6 57 54 16 15 54 67 111 67 66 5 6 6 6 63 63 63 6 54 106 5 108 90 3 106 5 90 6 5 3 90 90 90 6 125 91 106 5 90 6 5 3 90 90 90 6 125 5 3 90 90 90 90 6 125 91 106 5 90 6 5 3 90 90 90 6 125 91 106 5 90 6 5 3 90 90 90 90 6 125 91 3 6 91 5 108 90 3 106 5 90 6 5 3 90 90 90 6 125 91 3 6 91 5 45 108 90 3 3 6 91 5 108 90 3 19 6 91 106 5 108 90 3 19 6 91 5 108 90 3 3 6 91 76 75 24 5 108 90 3 19 6 91 13 13 13 13 13 13 13 13 13 5 5 13 54 54 13 4 54 3 54 4 5 108 90 3 19 6 91 13 13 13 13 13 13 13 13 13 5 5 13 76 75 5 5 108 90 3 3 6 91 76 75 24 5 108 90 3 19 6 91 13 13 13 13 13 13 13 13 13 5 5 13 13 13 13 13 13 76 75 5 108 90 19 3 19 6 91 27 24 50 71 70 33 23 70 71 20 5 3 3 3 3 13 19 4 6 5 67 27 143 27 4 143 6 5 19 3 19 13 4 6 5 108 90 3 19 6 91 16 15 46 49 5 108 90 3 3 6 91 5 5 81 5 108 90 3 3 6 91 76 75 24 76 75 5 108 90 3 3 6 91 76 75 24 24 54 54 108 106 5 55 141 141 141 141 106 6 5 3 3 3 3 5 108 90 3 19 6 91 13 13 13 13 13 13 13 13 13 5 5 13 13 13 13 13 6 54 54 108 106 5 55 141 141 141 141 106 6 5 3 3 3 3 13 13 13 13 13 13 6 102 102 13 5 3 6 13 20 4 6 76 75 102 102 13 4 5 67 3 67 6 106 108 90 54 4 67 67 67 67 67 23 12 2 67 114', 19573: '11', 598: '90 125 106 5 90 6 5 3 90 90 90 6 5 3 90 90 90 6 125 5 3 90 90 90 6 125 5 3 90 90 90 90 6 125 91 125 125 125 125 136 49 24 47 50 67 27 67 67 97 122 45 45 5 106 106 106 106 106 6 6 6 6 6 6 6 6 6 6 6 6 6 6 6 6 6 6 6 6 6 6 6 6 6 6 6 6 6 6 6 6 6 6 6 6 6 6 6 6 6 6 6 6 6 6 6 6 6 6 6 6 6 6 6 6 6 6 6 6 6 6 6 6 6 6 6 6 6 6 6 6 6 6 6 6 6 6 6 6 6 6 6 6 6 6 6 6 6 6 6 6 6 6 6 6 6 6 6 6 6 6 6 6 6 6 6 6 6 6 6 6 6 6 6 6 6 6 6 6 6 6 6 6 6 6 6 6 6 6 6 6 6 6 6 6 6 6 6 6 6 6 6 6 6 6 6 6 6 6 6 6 6 6 6 6 6 6 6 6 6 6 6 6 6 6 6 6 6 6 6 6 6 6 6 6 6 6 6 6 6 6 6 6 6 6 6 6 6 6 6 6 6 6 6 6 6 6 6 6 6 6 6 6 6 6 6 6 6 6 6 6 6 6 6 6 6 6 6 6 6 6 6 6 6 6 6 6 6 6 6 6 6 6 6 6 6 6 6 6 6 6 6 6 6 6 6 6 6 6 6 6 6 6 54 108 106 5 55 45 141 141 141 141 106 6 57 54 16 15 54 67 111 67 66 5 6 6 6 63 63 63 6 54 106 5 108 90 3 106 5 90 6 5 3 90 90 90 6 125 91 106 5 90 6 5 3 90 90 90 6 125 5 3 90 90 90 90 6 125 91 106 5 90 6 5 3 90 90 90 6 125 91 106 5 90 6 5 3 90 90 90 90 6 125 91 3 6 91 5 108 90 3 106 5 90 6 5 3 90 90 90 6 125 91 3 6 91 5 45 108 90 3 3 6 91 5 108 90 3 19 6 91 5 108 90 3 3 6 91 76 75 24 5 108 90 3 19 6 91 13 13 13 13 13 13 13 13 13 5 5 13 54 54 13 4 54 3 54 4 5 108 90 3 19 6 91 13 13 13 13 13 13 13 13 13 5 5 13 76 75 5 5 108 90 3 3 6 91 76 75 24 5 108 90 3 19 6 91 13 13 13 13 13 13 13 13 13 5 5 13 13 13 13 13 13 76 75 5 108 90 19 3 19 6 91 27 24 50 71 70 33 23 70 71 20 5 3 3 3 3 13 19 4 6 5 67 27 143 27 4 143 6 5 19 3 5 3 6 13 108 90 54 4 19 13 4 6 5 108 90 3 19 6 91 16 15 46 49 5 108 90 3 3 6 91 5 5 81 5 108 90 3 3 6 91 76 75 24 76 75 5 108 90 3 3 6 91 76 75 24 24 54 54 108 106 5 55 141 141 141 141 106 6 5 3 3 3 3 5 108 90 3 19 6 91 13 13 13 13 13 13 13 13 13 5 5 13 13 13 13 13 6 54 54 108 106 5 55 141 141 141 141 106 6 5 3 3 3 3 13 13 13 13 13 13 6 102 102 13 20 4 6 76 75 5 67 3 67 6 106 67 67 67 67 67 23 12 2 67 114 67 5 108 90 3 3 6 91 76 75 24 102 102 13 20 4 6 76 75 91 91 91 91 91 91 1', 725: '11', 2188: '90 125 106 5 90 6 5 3 90 90 90 6 5 3 90 90 90 6 125 5 3 90 90 90 6 125 5 3 90 90 90 90 6 125 91 125 125 125 125 136 49 24 47 50 67 27 67 67 97 122 45 45 5 106 106 106 106 106 6 6 6 6 6 6 6 6 6 6 6 6 6 6 6 6 6 6 6 6 6 6 6 6 6 6 6 6 6 6 6 6 6 6 6 6 6 6 6 6 6 6 6 6 6 6 6 6 6 6 6 6 6 6 6 6 6 6 6 6 6 6 6 6 6 6 6 6 6 6 6 6 6 6 6 6 6 6 6 6 6 6 6 6 6 6 6 6 6 6 6 6 6 6 6 6 6 6 6 6 6 6 6 6 6 6 6 6 6 6 6 6 6 6 6 6 6 6 6 6 6 6 6 6 6 6 6 6 6 6 6 6 6 6 6 6 6 6 6 6 6 6 6 6 6 6 6 6 6 6 6 6 6 6 6 6 6 6 6 6 6 6 6 6 6 6 6 6 6 6 6 6 6 6 6 6 6 6 6 6 6 6 6 6 6 6 6 6 6 6 6 6 6 6 6 6 6 6 6 6 6 6 6 6 6 6 6 6 6 6 6 6 6 6 6 6 6 6 6 6 6 6 6 6 6 6 6 6 6 6 6 6 6 6 6 6 6 6 6 6 6 6 6 6 6 6 6 6 6 6 6 6 6 6 54 108 106 5 55 45 141 141 141 141 106 6 57 54 16 15 54 67 111 67 66 5 6 6 6 63 63 63 6 54 106 5 108 90 3 106 5 90 6 5 3 90 90 90 6 125 91 106 5 90 6 5 3 90 90 90 6 125 5 3 90 90 90 90 6 125 91 106 5 90 6 5 3 90 90 90 6 125 91 106 5 90 6 5 3 90 90 90 90 6 125 91 3 6 91 5 108 90 3 106 5 90 6 5 3 90 90 90 6 125 91 3 6 91 5 45 108 90 3 3 6 91 5 108 90 3 19 6 91 5 108 90 3 3 6 91 76 75 24 5 108 90 3 19 6 91 13 13 13 13 13 13 13 13 13 5 5 13 54 54 13 4 54 3 54 4 5 108 90 3 19 6 91 13 13 13 13 13 13 13 13 13 5 5 13 76 75 5 5 108 90 3 3 6 91 76 75 24 5 108 90 3 19 6 91 13 13 13 13 13 13 13 13 13 5 5 13 13 13 13 13 13 76 75 5 108 90 19 3 19 6 91 27 24 50 71 70 33 23 70 71 20 5 3 3 3 3 13 19 4 6 5 67 27 143 27 4 143 6 5 19 3 5 3 6 13 108 90 54 4 19 13 4 6 5 108 90 3 19 6 91 16 15 46 49 5 108 90 3 3 6 91 5 5 81 5 108 90 3 3 6 91 76 75 24 76 75 5 108 90 3 3 6 91 76 75 24 24 54 54 108 106 5 55 141 141 141 141 106 6 5 3 3 3 3 5 108 90 3 19 6 91 13 13 13 13 13 13 13 13 13 5 5 13 13 13 13 13 6 54 54 108 106 5 55 141 141 141 141 106 6 5 3 3 3 3 13 13 13 13 13 13 6 102 102 13 20 4 6 76 75 5 67 3 67 6 106 67 67 67 67 67 23 12 2 67 114 67 5 108 90 3 3 6 91 76 75 24 102 102 13 20 4 6 76 75 91 91 91 91 91 91 1', 5246: '11', 9280: '90 125 106 5 90 6 5 3 90 90 90 6 5 3 90 90 90 6 125 5 3 90 90 90 6 125 5 3 90 90 90 90 6 125 91 125 125 125 125 136 49 24 47 50 67 27 67 67 97 122 45 45 5 106 106 106 106 106 6 6 6 6 6 6 6 6 6 6 6 6 6 6 6 6 6 6 6 6 6 6 6 6 6 6 6 6 6 6 6 6 6 6 6 6 6 6 6 6 6 6 6 6 6 6 6 6 6 6 6 6 6 6 6 6 6 6 6 6 6 6 6 6 6 6 6 6 6 6 6 6 6 6 6 6 6 6 6 6 6 6 6 6 6 6 6 6 6 6 6 6 6 6 6 6 6 6 6 6 6 6 6 6 6 6 6 6 6 6 6 6 6 6 6 6 6 6 6 6 6 6 6 6 6 6 6 6 6 6 6 6 6 6 6 6 6 6 6 6 6 6 6 6 6 6 6 6 6 6 6 6 6 6 6 6 6 6 6 6 6 6 6 6 6 6 6 6 6 6 6 6 6 6 6 6 6 6 6 6 6 6 6 6 6 6 6 6 6 6 6 6 6 6 6 6 6 6 6 6 6 6 6 6 6 6 6 6 6 6 6 6 6 6 6 6 6 6 6 6 6 6 6 6 6 6 6 6 6 6 6 6 6 6 6 6 6 6 6 6 6 6 6 6 6 6 6 6 6 6 6 6 6 6 54 108 106 5 55 45 141 141 141 141 106 6 57 54 16 15 54 67 111 67 66 5 6 6 6 63 63 63 6 54 106 5 108 90 3 106 5 90 6 5 3 90 90 90 6 125 91 106 5 90 6 5 3 90 90 90 6 125 5 3 90 90 90 90 6 125 91 106 5 90 6 5 3 90 90 90 6 125 91 106 5 90 6 5 3 90 90 90 90 6 125 91 3 6 91 5 108 90 3 106 5 90 6 5 3 90 90 90 6 125 91 3 6 91 5 45 108 90 3 3 6 91 5 108 90 3 19 6 91 5 108 90 3 3 6 91 76 75 24 5 108 90 3 19 6 91 13 13 13 13 13 13 13 13 13 5 5 13 54 54 13 4 54 3 54 4 5 108 90 3 19 6 91 13 13 13 13 13 13 13 13 13 5 5 13 76 75 5 5 108 90 3 3 6 91 76 75 24 5 108 90 3 19 6 91 13 13 13 13 13 13 13 13 13 5 5 13 13 13 13 13 13 76 75 5 108 90 19 3 19 6 91 27 24 50 71 70 33 23 70 71 20 5 3 3 3 3 13 19 4 6 5 67 27 143 27 4 143 6 5 19 3 5 3 6 13 108 90 54 4 19 13 4 6 5 108 90 3 19 6 91 16 15 46 49 5 108 90 3 3 6 91 5 5 81 5 108 90 3 3 6 91 76 75 24 76 75 5 108 90 3 3 6 91 76 75 24 24 54 54 108 106 5 55 141 141 141 141 106 6 5 3 3 3 3 5 108 90 3 19 6 91 13 13 13 13 13 13 13 13 13 5 5 13 13 13 13 13 6 54 54 108 106 5 55 141 141 141 141 106 6 5 3 3 3 3 13 13 13 13 13 13 6 102 102 13 20 4 6 76 75 5 67 3 67 6 106 67 67 67 67 67 23 12 2 67 114 67 5 108 90 3 3 6 91 76 75 24 102 102 13 20 4 6 76 75 91 91 91 91 91 91 1', 2782: '11', 4938: '90 125 106 5 90 6 5 3 90 90 90 6 5 3 90 90 90 6 125 5 3 90 90 90 6 125 5 3 90 90 90 90 6 125 91 125 125 125 125 136 49 24 47 50 67 27 67 67 97 122 45 45 5 106 106 106 106 106 6 6 6 6 6 6 6 6 6 6 6 6 6 6 6 6 6 6 6 6 6 6 6 6 6 6 6 6 6 6 6 6 6 6 6 6 6 6 6 6 6 6 6 6 6 6 6 6 6 6 6 6 6 6 6 6 6 6 6 6 6 6 6 6 6 6 6 6 6 6 6 6 6 6 6 6 6 6 6 6 6 6 6 6 6 6 6 6 6 6 6 6 6 6 6 6 6 6 6 6 6 6 6 6 6 6 6 6 6 6 6 6 6 6 6 6 6 6 6 6 6 6 6 6 6 6 6 6 6 6 6 6 6 6 6 6 6 6 6 6 6 6 6 6 6 6 6 6 6 6 6 6 6 6 6 6 6 6 6 6 6 6 6 6 6 6 6 6 6 6 6 6 6 6 6 6 6 6 6 6 6 6 6 6 6 6 6 6 6 6 6 6 6 6 6 6 6 6 6 6 6 6 6 6 6 6 6 6 6 6 6 6 6 6 6 6 6 6 6 6 6 6 6 6 6 6 6 6 6 6 6 6 6 6 6 6 6 6 6 6 6 6 6 6 6 6 6 6 6 6 6 6 6 6 54 108 106 5 55 45 141 141 141 141 106 6 57 54 16 15 54 67 111 67 66 5 6 6 6 63 63 63 6 54 106 5 108 90 3 106 5 90 6 5 3 90 90 90 6 125 91 106 5 90 6 5 3 90 90 90 6 125 5 3 90 90 90 90 6 125 91 106 5 90 6 5 3 90 90 90 6 125 91 106 5 90 6 5 3 90 90 90 90 6 125 91 3 6 91 5 108 90 3 106 5 90 6 5 3 90 90 90 6 125 91 3 6 91 5 45 108 90 3 3 6 91 5 108 90 3 19 6 91 5 108 90 3 3 6 91 76 75 24 5 108 90 3 19 6 91 13 13 13 13 13 13 13 13 13 5 5 13 54 54 13 4 54 3 54 4 5 108 90 3 19 6 91 13 13 13 13 13 13 13 13 13 5 5 13 76 75 5 5 108 90 3 3 6 91 76 75 24 5 108 90 3 19 6 91 13 13 13 13 13 13 13 13 13 5 5 13 13 13 13 13 13 76 75 5 108 90 19 3 19 6 91 27 24 50 71 70 33 23 70 71 20 5 3 3 3 3 13 19 4 6 5 67 27 143 27 4 143 6 5 19 3 5 3 6 13 108 90 54 4 19 13 4 6 5 108 90 3 19 6 91 16 15 46 49 5 108 90 3 3 6 91 5 5 81 5 108 90 3 3 6 91 76 75 24 76 75 5 108 90 3 3 6 91 76 75 24 24 54 54 108 106 5 55 141 141 141 141 106 6 5 3 3 3 3 5 108 90 3 19 6 91 13 13 13 13 13 13 13 13 13 5 5 13 13 13 13 13 6 54 54 108 106 5 55 141 141 141 141 106 6 5 3 3 3 3 13 13 13 13 13 13 6 102 102 13 20 4 6 76 75 5 67 3 67 6 106 67 67 67 67 67 23 12 2 67 114 67 5 108 90 3 3 6 91 76 75 24 102 102 13 20 4 6 76 75 91 91 91 91 91 91 1', 8088: '11', 8954: '90 125 106 5 90 6 5 3 90 90 90 6 5 3 90 90 90 6 125 5 3 90 90 90 6 125 5 3 90 90 90 90 6 125 91 125 125 125 125 136 49 24 47 50 67 27 67 67 97 122 45 45 5 106 106 106 106 106 6 6 6 6 6 6 6 6 6 6 6 6 6 6 6 6 6 6 6 6 6 6 6 6 6 6 6 6 6 6 6 6 6 6 6 6 6 6 6 6 6 6 6 6 6 6 6 6 6 6 6 6 6 6 6 6 6 6 6 6 6 6 6 6 6 6 6 6 6 6 6 6 6 6 6 6 6 6 6 6 6 6 6 6 6 6 6 6 6 6 6 6 6 6 6 6 6 6 6 6 6 6 6 6 6 6 6 6 6 6 6 6 6 6 6 6 6 6 6 6 6 6 6 6 6 6 6 6 6 6 6 6 6 6 6 6 6 6 6 6 6 6 6 6 6 6 6 6 6 6 6 6 6 6 6 6 6 6 6 6 6 6 6 6 6 6 6 6 6 6 6 6 6 6 6 6 6 6 6 6 6 6 6 6 6 6 6 6 6 6 6 6 6 6 6 6 6 6 6 6 6 6 6 6 6 6 6 6 6 6 6 6 6 6 6 6 6 6 6 6 6 6 6 6 6 6 6 6 6 6 6 6 6 6 6 6 6 6 6 6 6 6 6 6 6 6 6 6 6 6 6 6 6 6 54 108 106 5 55 45 141 141 141 141 106 6 57 54 16 15 54 67 111 67 66 5 6 6 6 63 63 63 6 54 106 5 108 90 3 106 5 90 6 5 3 90 90 90 6 125 91 106 5 90 6 5 3 90 90 90 6 125 5 3 90 90 90 90 6 125 91 106 5 90 6 5 3 90 90 90 6 125 91 106 5 90 6 5 3 90 90 90 90 6 125 91 3 6 91 5 108 90 3 106 5 90 6 5 3 90 90 90 6 125 91 3 6 91 5 45 108 90 3 3 6 91 5 108 90 3 19 6 91 106 5 108 90 3 19 6 91 5 108 90 3 3 6 91 76 75 24 5 108 90 3 19 6 91 13 13 13 13 13 13 13 13 13 5 5 13 54 54 13 4 54 3 54 4 5 108 90 3 19 6 91 13 13 13 13 13 13 13 13 13 5 5 13 76 75 5 5 108 90 3 3 6 91 76 75 24 5 108 90 3 19 6 91 13 13 13 13 13 13 13 13 13 5 5 13 13 13 13 13 13 76 75 5 108 90 19 3 19 6 91 27 24 50 71 70 33 23 70 71 20 5 3 3 3 3 13 19 4 6 5 67 27 143 27 4 143 6 5 19 3 5 3 6 13 108 90 54 4 19 13 4 6 5 108 90 3 19 6 91 16 15 46 49 5 108 90 3 3 6 91 5 5 81 5 108 90 3 3 6 91 76 75 24 76 75 5 108 90 3 3 6 91 76 75 24 24 54 54 108 106 5 55 141 141 141 141 106 6 5 3 3 3 3 5 108 90 3 19 6 91 13 13 13 13 13 13 13 13 13 5 5 13 13 13 13 13 6 54 54 108 106 5 55 141 141 141 141 106 6 5 3 3 3 3 13 13 13 13 13 13 6 102 102 13 20 4 6 76 75 102 102 13 4 5 67 3 67 6 106 4 67 67 67 67 67 23 12 2 67 114', 8955: '11', 625: '90 125 106 5 90 6 5 3 90 90 90 6 5 3 90 90 90 6 125 5 3 90 90 90 6 125 5 3 90 90 90 90 6 125 91 125 125 125 125 136 49 24 47 50 67 27 67 67 97 122 45 45 5 106 106 106 106 106 6 6 6 6 6 6 6 6 6 6 6 6 6 6 6 6 6 6 6 6 6 6 6 6 6 6 6 6 6 6 6 6 6 6 6 6 6 6 6 6 6 6 6 6 6 6 6 6 6 6 6 6 6 6 6 6 6 6 6 6 6 6 6 6 6 6 6 6 6 6 6 6 6 6 6 6 6 6 6 6 6 6 6 6 6 6 6 6 6 6 6 6 6 6 6 6 6 6 6 6 6 6 6 6 6 6 6 6 6 6 6 6 6 6 6 6 6 6 6 6 6 6 6 6 6 6 6 6 6 6 6 6 6 6 6 6 6 6 6 6 6 6 6 6 6 6 6 6 6 6 6 6 6 6 6 6 6 6 6 6 6 6 6 6 6 6 6 6 6 6 6 6 6 6 6 6 6 6 6 6 6 6 6 6 6 6 6 6 6 6 6 6 6 6 6 6 6 6 6 6 6 6 6 6 6 6 6 6 6 6 6 6 6 6 6 6 6 6 6 6 6 6 6 6 6 6 6 6 6 6 6 6 6 6 6 6 6 6 6 6 6 6 6 6 6 6 6 6 6 6 6 6 6 6 54 108 106 5 55 45 141 141 141 141 106 6 57 54 16 15 54 67 111 67 66 5 6 6 6 63 63 63 6 54 106 5 108 90 3 106 5 90 6 5 3 90 90 90 6 125 91 106 5 90 6 5 3 90 90 90 6 125 5 3 90 90 90 90 6 125 91 106 5 90 6 5 3 90 90 90 6 125 91 106 5 90 6 5 3 90 90 90 90 6 125 91 3 6 91 5 108 90 3 106 5 90 6 5 3 90 90 90 6 125 91 3 6 91 5 45 108 90 3 3 6 91 5 108 90 3 19 6 91 5 108 90 3 3 6 91 76 75 24 5 108 90 3 19 6 91 13 13 13 13 13 13 13 13 13 5 5 13 54 54 13 4 54 3 54 4 5 108 90 3 19 6 91 13 13 13 13 13 13 13 13 13 5 5 13 76 75 5 5 108 90 3 3 6 91 76 75 24 5 108 90 3 19 6 91 13 13 13 13 13 13 13 13 13 5 5 13 13 13 13 13 13 76 75 5 108 90 19 3 19 6 91 27 24 50 71 70 33 23 70 71 20 5 3 3 3 3 13 19 4 6 5 67 27 143 27 4 143 6 5 19 3 5 3 6 13 108 90 54 4 19 13 4 6 5 108 90 3 19 6 91 16 15 46 49 5 108 90 3 3 6 91 5 5 81 5 108 90 3 3 6 91 76 75 24 76 75 5 108 90 3 3 6 91 76 75 24 24 54 54 108 106 5 55 141 141 141 141 106 6 5 3 3 3 3 5 108 90 3 19 6 91 13 13 13 13 13 13 13 13 13 5 5 13 13 13 13 13 6 54 54 108 106 5 55 141 141 141 141 106 6 5 3 3 3 3 13 13 13 13 13 13 6 102 102 13 20 4 6 76 75 5 67 3 67 6 106 67 67 67 67 67 23 12 2 67 114 67 5 108 90 3 3 6 91 76 75 24 102 102 13 20 4 6 76 75 91 91 91 91 91 91 1', 979: '11', 1262: '90 125 106 5 90 6 5 3 90 90 90 6 5 3 90 90 90 6 125 5 3 90 90 90 6 125 5 3 90 90 90 90 6 125 91 125 125 125 125 136 49 24 47 50 67 27 67 67 97 122 45 45 5 106 106 106 106 106 6 6 6 6 6 6 6 6 6 6 6 6 6 6 6 6 6 6 6 6 6 6 6 6 6 6 6 6 6 6 6 6 6 6 6 6 6 6 6 6 6 6 6 6 6 6 6 6 6 6 6 6 6 6 6 6 6 6 6 6 6 6 6 6 6 6 6 6 6 6 6 6 6 6 6 6 6 6 6 6 6 6 6 6 6 6 6 6 6 6 6 6 6 6 6 6 6 6 6 6 6 6 6 6 6 6 6 6 6 6 6 6 6 6 6 6 6 6 6 6 6 6 6 6 6 6 6 6 6 6 6 6 6 6 6 6 6 6 6 6 6 6 6 6 6 6 6 6 6 6 6 6 6 6 6 6 6 6 6 6 6 6 6 6 6 6 6 6 6 6 6 6 6 6 6 6 6 6 6 6 6 6 6 6 6 6 6 6 6 6 6 6 6 6 6 6 6 6 6 6 6 6 6 6 6 6 6 6 6 6 6 6 6 6 6 6 6 6 6 6 6 6 6 6 6 6 6 6 6 6 6 6 6 6 6 6 6 6 6 6 6 6 6 6 6 6 6 6 6 6 6 6 6 6 54 108 106 5 55 45 141 141 141 141 106 6 57 54 16 15 54 67 111 67 66 5 6 6 6 63 63 63 6 54 106 5 108 90 3 106 5 90 6 5 3 90 90 90 6 125 91 106 5 90 6 5 3 90 90 90 6 125 5 3 90 90 90 90 6 125 91 106 5 90 6 5 3 90 90 90 6 125 91 106 5 90 6 5 3 90 90 90 90 6 125 91 3 6 91 5 108 90 3 106 5 90 6 5 3 90 90 90 6 125 91 3 6 91 5 45 108 90 3 3 6 91 5 108 90 3 19 6 91 5 108 90 3 3 6 91 76 75 24 5 108 90 3 19 6 91 13 13 13 13 13 13 13 13 13 5 5 13 54 54 13 4 54 3 54 4 5 108 90 3 19 6 91 13 13 13 13 13 13 13 13 13 5 5 13 76 75 5 5 108 90 3 3 6 91 76 75 24 5 108 90 3 19 6 91 13 13 13 13 13 13 13 13 13 5 5 13 13 13 13 13 13 76 75 5 108 90 19 3 19 6 91 27 24 50 71 70 33 23 70 71 20 5 3 3 3 3 13 19 4 6 5 67 27 143 27 4 143 6 5 19 3 5 3 6 13 108 90 54 4 19 13 4 6 5 108 90 3 19 6 91 16 15 46 49 5 108 90 3 3 6 91 5 5 81 5 108 90 3 3 6 91 76 75 24 76 75 5 108 90 3 3 6 91 76 75 24 24 54 54 108 106 5 55 141 141 141 141 106 6 5 3 3 3 3 5 108 90 3 19 6 91 13 13 13 13 13 13 13 13 13 5 5 13 13 13 13 13 6 54 54 108 106 5 55 141 141 141 141 106 6 5 3 3 3 3 13 13 13 13 13 13 6 102 102 13 20 4 6 76 75 5 67 3 67 6 106 67 67 67 67 67 23 12 2 67 114 67 5 108 90 3 3 6 91 76 75 24 102 102 13 20 4 6 76 75 91 91 91 91 91 91 1', 1705: '11', 3278: '90 125 106 5 90 6 5 3 90 90 90 6 5 3 90 90 90 6 125 5 3 90 90 90 6 125 5 3 90 90 90 90 6 125 91 125 125 125 125 136 49 24 47 50 67 27 67 67 97 122 45 45 5 106 106 106 106 106 6 6 6 6 6 6 6 6 6 6 6 6 6 6 6 6 6 6 6 6 6 6 6 6 6 6 6 6 6 6 6 6 6 6 6 6 6 6 6 6 6 6 6 6 6 6 6 6 6 6 6 6 6 6 6 6 6 6 6 6 6 6 6 6 6 6 6 6 6 6 6 6 6 6 6 6 6 6 6 6 6 6 6 6 6 6 6 6 6 6 6 6 6 6 6 6 6 6 6 6 6 6 6 6 6 6 6 6 6 6 6 6 6 6 6 6 6 6 6 6 6 6 6 6 6 6 6 6 6 6 6 6 6 6 6 6 6 6 6 6 6 6 6 6 6 6 6 6 6 6 6 6 6 6 6 6 6 6 6 6 6 6 6 6 6 6 6 6 6 6 6 6 6 6 6 6 6 6 6 6 6 6 6 6 6 6 6 6 6 6 6 6 6 6 6 6 6 6 6 6 6 6 6 6 6 6 6 6 6 6 6 6 6 6 6 6 6 6 6 6 6 6 6 6 6 6 6 6 6 6 6 6 6 6 6 6 6 6 6 6 6 6 6 6 6 6 6 6 6 6 6 6 6 6 54 108 106 5 55 45 141 141 141 141 106 6 57 54 16 15 54 67 111 67 66 5 6 6 6 63 63 63 6 54 106 5 108 90 3 106 5 90 6 5 3 90 90 90 6 125 91 106 5 90 6 5 3 90 90 90 6 125 5 3 90 90 90 90 6 125 91 106 5 90 6 5 3 90 90 90 6 125 91 106 5 90 6 5 3 90 90 90 90 6 125 91 3 6 91 5 108 90 3 106 5 90 6 5 3 90 90 90 6 125 91 3 6 91 5 45 108 90 3 3 6 91 5 108 90 3 19 6 91 106 5 108 90 3 19 6 91 5 108 90 3 3 6 91 76 75 24 5 108 90 3 19 6 91 13 13 13 13 13 13 13 13 13 5 5 13 54 54 13 4 54 3 54 4 5 108 90 3 19 6 91 13 13 13 13 13 13 13 13 13 5 5 13 76 75 5 5 108 90 3 3 6 91 76 75 24 5 108 90 3 19 6 91 13 13 13 13 13 13 13 13 13 5 5 13 13 13 13 13 13 76 75 5 108 90 19 3 19 6 91 27 24 50 71 70 33 23 70 71 20 5 3 3 3 3 13 19 4 6 5 67 27 143 27 4 143 6 5 19 3 5 3 6 13 108 90 54 4 19 13 4 6 5 108 90 3 19 6 91 16 15 46 49 5 108 90 3 3 6 91 5 5 81 5 108 90 3 3 6 91 76 75 24 76 75 5 108 90 3 3 6 91 76 75 24 24 54 54 108 106 5 55 141 141 141 141 106 6 5 3 3 3 3 5 108 90 3 19 6 91 13 13 13 13 13 13 13 13 13 5 5 13 13 13 13 13 6 54 54 108 106 5 55 141 141 141 141 106 6 5 3 3 3 3 13 13 13 13 13 13 6 102 102 13 20 4 6 76 75 102 102 13 4 5 67 3 67 6 106 4 67 67 67 67 67 23 12 2 67 114 67 5 108 90 3 3 6 91 76 75 24 13 20 4 6 76 75 91 91 91 91 91 91 1', 3279: '11', 3302: '90 125 106 5 90 6 5 3 90 90 90 6 5 3 90 90 90 6 125 5 3 90 90 90 6 125 5 3 90 90 90 90 6 125 91 125 125 125 125 136 49 24 47 50 67 27 67 67 97 122 45 45 5 106 106 106 106 106 6 6 6 6 6 6 6 6 6 6 6 6 6 6 6 6 6 6 6 6 6 6 6 6 6 6 6 6 6 6 6 6 6 6 6 6 6 6 6 6 6 6 6 6 6 6 6 6 6 6 6 6 6 6 6 6 6 6 6 6 6 6 6 6 6 6 6 6 6 6 6 6 6 6 6 6 6 6 6 6 6 6 6 6 6 6 6 6 6 6 6 6 6 6 6 6 6 6 6 6 6 6 6 6 6 6 6 6 6 6 6 6 6 6 6 6 6 6 6 6 6 6 6 6 6 6 6 6 6 6 6 6 6 6 6 6 6 6 6 6 6 6 6 6 6 6 6 6 6 6 6 6 6 6 6 6 6 6 6 6 6 6 6 6 6 6 6 6 6 6 6 6 6 6 6 6 6 6 6 6 6 6 6 6 6 6 6 6 6 6 6 6 6 6 6 6 6 6 6 6 6 6 6 6 6 6 6 6 6 6 6 6 6 6 6 6 6 6 6 6 6 6 6 6 6 6 6 6 6 6 6 6 6 6 6 6 6 6 6 6 6 6 6 6 6 6 6 6 6 6 6 6 6 6 54 108 106 5 55 45 141 141 141 141 106 6 57 54 16 15 54 67 111 67 66 5 6 6 6 63 63 63 6 54 106 5 108 90 3 106 5 90 6 5 3 90 90 90 6 125 91 106 5 90 6 5 3 90 90 90 6 125 5 3 90 90 90 90 6 125 91 106 5 90 6 5 3 90 90 90 6 125 91 106 5 90 6 5 3 90 90 90 90 6 125 91 3 6 91 5 108 90 3 106 5 90 6 5 3 90 90 90 6 125 91 3 6 91 5 45 108 90 3 3 6 91 5 108 90 3 19 6 91 5 108 90 3 3 6 91 76 75 24 5 108 90 3 19 6 91 13 13 13 13 13 13 13 13 13 5 5 13 54 54 13 4 54 3 54 4 5 108 90 3 19 6 91 13 13 13 13 13 13 13 13 13 5 5 13 76 75 5 5 108 90 3 3 6 91 76 75 24 5 108 90 3 19 6 91 13 13 13 13 13 13 13 13 13 5 5 13 13 13 13 13 13 76 75 5 108 90 19 3 19 6 91 27 24 50 71 70 33 23 70 71 20 5 3 3 3 3 13 19 4 6 5 67 27 143 27 4 143 6 5 19 3 5 3 6 13 108 90 54 4 19 13 4 6 5 108 90 3 19 6 91 16 15 46 49 5 108 90 3 3 6 91 5 5 81 5 108 90 3 3 6 91 76 75 24 76 75 5 108 90 3 3 6 91 76 75 24 24 54 54 108 106 5 55 141 141 141 141 106 6 5 3 3 3 3 5 108 90 3 19 6 91 13 13 13 13 13 13 13 13 13 5 5 13 13 13 13 13 6 54 54 108 106 5 55 141 141 141 141 106 6 5 3 3 3 3 13 13 13 13 13 13 6 102 102 13 20 4 6 76 75 5 67 3 67 6 106 67 67 67 67 67 23 12 2 67 114', 15210: '11', 484: '90 125 106 5 90 6 5 3 90 90 90 90 6 125 91 125 125 136 49 24 47 50 122 54 5 19 3 5 19 3 13 24 45 45 106 5 55 108 90 54 4 141 106 5 3 6 106 5 3 6 106 5 3 6 106 5 3 6 106 5 3 6 106 5 3 6 106 5 3 6 106 5 3 6 5 108 90 6 5 45 108 90 3 3 6 91 5 108 90 3 19 6 91 5 3 6 106 5 3 6 5 3 6 106 5 3 6 106 5 3 6 106 5 3 6 106 5 3 6 106 5 3 6 106 5 3 6 106 5 3 6 106 5 3 6 5 3 6 106 5 3 6 5 3 6 106 5 3 6 5 3 6 106 5 3 6 5 3 6 106 5 3 6 5 3 6 106 45 5 3 6 5 3 6 106 5 3 6 106 5 3 6 106 5 3 6 141 4 4 4 4 4 4 4 4 1', 17832: '90 125 106 5 90 6 5 3 90 90 90 90 6 125 91 125 125 136 49 24 47 50 122 54 5 19 3 5 19 3 13 45 45 106 5 55 108 90 54 4 141 106 5 3 6 5 108 90 6 5 45 108 90 3 3 6 91 5 108 90 3 19 6 91 5 3 6 106 5 3 6 5 3 6 106 5 3 6 5 3 6 106 5 3 6 5 3 6 106 5 3 6 5 3 6 106 5 3 6 5 3 6 106 5 3 6 5 3 6 106 45 5 3 6 5 108 90 3 19 6 91 5 3 6 106 5 3 6 5 3 6 106 5 3 6 5 3 6 106 5 3 6 5 3 6 106 5 3 6 5 3 6 106 5 3 6 5 3 6 106 5 3 6 5 3 6 106 5 3 6 5 3 6 106 5 3 6 5 3 6 106 5 3 6 5 3 6 106 5 3 6 5 3 6 106 5 3 6 5 3 6 106 5 3 6 5 3 6 106 5 3 6 5 3 6 106 45 5 3 6 5 3 6 106 5 3 6 5 3 6 106 5 3 6 5 3 6 106 5 3 6 5 3 6 141 5 3 6 13 4 4 4 4 4 4 4 4 4 4 4 4 4 4 4 4 4 4 4 4 4 4 4 4 4 1', 150: '90 125 106 5 90 6 5 3 90 90 90 90 6 125 91 125 125 136 49 24 47 50 122 54 5 19 3 5 19 3 13 45 45 106 5 55 108 90 141 106 5 3 6 5 108 90 6 5 45 108 90 3 3 6 91 5 108 90 3 19 6 91 5 3 6 106 5 3 6 5 3 6 106 5 3 6 5 3 6 106 5 3 6 5 3 6 106 5 3 6 5 3 6 106 5 3 6 5 3 6 106 5 3 6 5 3 6 106 45 5 3 6 5 3 6 106 5 3 6 5 3 6 106 5 3 6 5 3 6 106 5 3 6 5 3 6 106 5 3 6 5 3 6 106 5 3 6 5 3 6 141 5 3 6 13 4 1 90 125 106 5 90 6 5 3 90 90 90 90 6 125 91 125 125 136 49 24 47 50 122 54 5 19 3 5 19 3 13 45 45 106 5 55 108 90 141 106 5 3 6 5 108 90 6 5 45 108 90 3 3 6 91 5 108 90 3 19 6 91 5 3 6 106 5 3 6 5 3 6 106 5 3 6 5 3 6 106 5 3 6 5 3 6 106 5 3 6 5 3 6 106 5 3 6 5 3 6 106 5 3 6 5 3 6 106 45 5 3 6 5 3 6 106 5 3 6 5 3 6 106 5 3 6 5 3 6 106 5 3 6 5 3 6 106 5 3 6 5 3 6 106 5 3 6 5 3 6 141 5 3 6 13 4 1', 159: '90 125 106 5 90 6 5 3 90 90 90 90 6 125 91 125 125 136 49 24 47 50 122 54 5 19 3 5 19 3 13 45 45 106 5 55 108 90 141 106 5 3 6 5 108 90 6 5 45 108 90 3 3 6 91 5 108 90 3 19 6 91 5 3 6 106 5 3 6 5 3 6 106 5 3 6 5 3 6 106 5 3 6 5 3 6 106 5 3 6 5 3 6 106 5 3 6 5 3 6 106 5 3 6 5 3 6 106 45 5 3 6 5 3 6 106 5 3 6 5 3 6 106 5 3 6 5 3 6 106 5 3 6 5 3 6 106 5 3 6 5 3 6 106 5 3 6 5 3 6 106 5 3 6 5 3 6 141 5 3 6 13 4 1 90 125 106 5 90 6 5 3 90 90 90 90 6 125 91 125 125 136 49 24 47 50 122 54 5 19 3 5 19 3 13 45 45 106 5 55 108 90 141 106 5 3 6 5 108 90 6 5 45 108 90 3 3 6 91 5 108 90 3 19 6 91 5 3 6 106 5 3 6 5 3 6 106 5 3 6 5 3 6 106 5 3 6 5 3 6 106 5 3 6 5 3 6 106 5 3 6 5 3 6 106 5 3 6 5 3 6 106 45 5 3 6 5 3 6 106 5 3 6 5 3 6 106 5 3 6 5 3 6 106 5 3 6 5 3 6 106 5 3 6 5 3 6 106 5 3 6 5 3 6 106 5 3 6 5 3 6 141 5 3 6 13 4 1', 170: '90 125 106 5 90 6 5 3 90 90 90 90 6 125 91 125 125 136 49 24 47 50 122 54 5 19 3 5 19 3 13 45 45 106 5 55 108 90 141 106 5 3 6 5 108 90 6 5 45 108 90 3 3 6 91 5 108 90 3 19 6 91 5 3 6 106 5 3 6 5 3 6 106 5 3 6 5 3 6 106 5 3 6 5 3 6 106 5 3 6 5 3 6 106 5 3 6 5 3 6 106 5 3 6 5 3 6 106 45 5 3 6 5 3 6 106 5 3 6 5 3 6 106 5 3 6 5 3 6 106 5 3 6 5 3 6 106 5 3 6 5 3 6 106 5 3 6 5 3 6 106 5 3 6 5 3 6 106 5 3 6 5 3 6 141 5 3 6 13 4 1 90 125 106 5 90 6 5 3 90 90 90 90 6 125 91 125 125 136 49 24 47 50 122 54 5 19 3 5 19 3 13 45 45 106 5 55 108 90 141 106 5 3 6 5 108 90 6 5 45 108 90 3 3 6 91 5 108 90 3 19 6 91 5 3 6 106 5 3 6 5 3 6 106 5 3 6 5 3 6 106 5 3 6 5 3 6 106 5 3 6 5 3 6 106 5 3 6 5 3 6 106 5 3 6 5 3 6 106 45 5 3 6 5 3 6 106 5 3 6 5 3 6 106 5 3 6 5 3 6 106 5 3 6 5 3 6 106 5 3 6 5 3 6 106 5 3 6 5 3 6 106 5 3 6 5 3 6 106 5 3 6 5 3 6 141 5 3 6 13 4 1', 182: '90 125 106 5 90 6 5 3 90 90 90 90 6 125 91 125 125 136 49 24 47 50 122 54 5 19 3 5 19 3 13 45 45 106 5 55 108 90 141 106 5 3 6 5 108 90 6 5 45 108 90 3 3 6 91 5 108 90 3 19 6 91 5 3 6 106 5 3 6 5 3 6 106 5 3 6 5 3 6 106 5 3 6 5 3 6 106 5 3 6 5 3 6 106 5 3 6 5 3 6 106 5 3 6 5 3 6 106 45 5 3 6 5 3 6 106 5 3 6 5 3 6 106 5 3 6 5 3 6 106 5 3 6 5 3 6 106 5 3 6 5 3 6 106 5 3 6 5 3 6 106 5 3 6 5 3 6 106 5 3 6 5 3 6 106 5 3 6 5 3 6 141 5 3 6 13 4 1 90 125 106 5 90 6 5 3 90 90 90 90 6 125 91 125 125 136 49 24 47 50 122 54 5 19 3 5 19 3 13 45 45 106 5 55 108 90 141 106 5 3 6 5 108 90 6 5 45 108 90 3 3 6 91 5 108 90 3 19 6 91 5 3 6 106 5 3 6 5 3 6 106 5 3 6 5 3 6 106 5 3 6 5 3 6 106 5 3 6 5 3 6 106 5 3 6 5 3 6 106 5 3 6 5 3 6 106 45 5 3 6 5 3 6 106 5 3 6 5 3 6 106 5 3 6 5 3 6 106 5 3 6 5 3 6 106 5 3 6 5 3 6 106 5 3 6 5 3 6 106 5 3 6 5 3 6 106 5 3 6 5 3 6 106 5 3 6 5 3 6 141 5 3 6 13 4 1', 193: '90 125 106 5 90 6 5 3 90 90 90 90 6 125 91 125 125 136 49 24 47 50 122 54 5 19 3 5 19 3 13 45 45 106 5 55 108 90 141 106 5 3 6 5 108 90 6 5 45 108 90 3 3 6 91 5 108 90 3 19 6 91 5 3 6 106 5 3 6 5 3 6 106 5 3 6 5 3 6 106 5 3 6 5 3 6 106 5 3 6 5 3 6 106 5 3 6 5 3 6 106 5 3 6 5 3 6 106 45 5 3 6 5 3 6 106 5 3 6 5 3 6 106 5 3 6 5 3 6 106 5 3 6 5 3 6 106 5 3 6 5 3 6 106 5 3 6 5 3 6 106 5 3 6 5 3 6 106 5 3 6 5 3 6 106 5 3 6 5 3 6 106 5 3 6 5 3 6 141 5 3 6 13 4 1 90 125 106 5 90 6 5 3 90 90 90 90 6 125 91 125 125 136 49 24 47 50 122 54 5 19 3 5 19 3 13 45 45 106 5 55 108 90 141 106 5 3 6 5 108 90 6 5 45 108 90 3 3 6 91 5 108 90 3 19 6 91 5 3 6 106 5 3 6 5 3 6 106 5 3 6 5 3 6 106 5 3 6 5 3 6 106 5 3 6 5 3 6 106 5 3 6 5 3 6 106 5 3 6 5 3 6 106 45 5 3 6 5 3 6 106 5 3 6 5 3 6 106 5 3 6 5 3 6 106 5 3 6 5 3 6 106 5 3 6 5 3 6 106 5 3 6 5 3 6 106 5 3 6 5 3 6 106 5 3 6 5 3 6 106 5 3 6 5 3 6 106 5 3 6 5 3 6 141 5 3 6 13 4 1', 325: '90 125 106 5 90 6 5 3 90 90 90 90 6 125 91 125 125 136 49 24 47 50 122 54 5 19 3 5 19 3 13 45 45 106 5 55 108 90 141 106 5 3 6 5 108 90 6 5 45 108 90 3 3 6 91 5 108 90 3 19 6 91 5 3 6 106 5 3 6 5 3 6 106 5 3 6 5 3 6 106 5 3 6 5 3 6 106 5 3 6 5 3 6 106 5 3 6 5 3 6 106 5 3 6 5 3 6 106 45 5 3 6 5 3 6 106 5 3 6 5 3 6 106 5 3 6 5 3 6 106 5 3 6 5 3 6 106 5 3 6 5 3 6 106 5 3 6 5 3 6 106 5 3 6 5 3 6 106 5 3 6 5 3 6 106 5 3 6 5 3 6 106 5 3 6 5 3 6 106 5 3 6 5 3 6 106 5 3 6 5 3 6 106 5 3 6 5 3 6 106 5 3 6 5 3 6 106 5 3 6 5 3 6 106 45 5 3 6 5 3 6 106 5 3 6 5 3 6 106 5 3 6 5 3 6 106 5 3 6 5 3 6 106 5 3 6 5 3 6 106 5 3 6 5 3 6 106 5 3 6 5 3 6 106 5 3 6 5 3 6 106 5 3 6 5 3 6 106 5 3 6 5 3 6 106 5 3 6 5 3 6 106 5 3 6 5 3 6 106 45 5 3 6 5 3 6 106 5 3 6 5 3 6 106 5 3 6 5 3 6 106 5 3 6 5 3 6 106 5 3 6 5 3 6 141 106 5 3 6 5 3 6 106 5 3 6 5 3 6 106 5 3 6 5 3 6 141 5 3 6 13 4 1', 387: '90 125 106 5 90 6 5 3 90 90 90 90 6 125 91 125 125 136 49 24 47 50 122 54 5 19 3 5 19 3 13 45 45 106 5 55 108 90 141 106 5 3 6 5 108 90 6 5 45 108 90 3 3 6 91 5 108 90 3 19 6 91 5 3 6 106 5 3 6 5 3 6 106 5 3 6 5 3 6 106 5 3 6 5 3 6 106 5 3 6 5 3 6 106 5 3 6 5 3 6 106 5 3 6 5 3 6 106 45 5 3 6 5 3 6 106 5 3 6 5 3 6 106 5 3 6 5 3 6 106 5 3 6 5 3 6 106 5 3 6 5 3 6 106 5 3 6 5 3 6 106 5 3 6 5 3 6 106 5 3 6 5 3 6 106 5 3 6 5 3 6 106 5 3 6 5 3 6 106 5 3 6 5 3 6 106 5 3 6 5 3 6 106 5 3 6 5 3 6 106 5 3 6 5 3 6 106 5 3 6 5 3 6 106 45 5 3 6 5 3 6 106 5 3 6 5 3 6 106 5 3 6 5 3 6 106 5 3 6 5 3 6 106 5 3 6 5 3 6 106 5 3 6 5 3 6 106 5 3 6 5 3 6 106 5 3 6 5 3 6 106 5 3 6 5 3 6 106 5 3 6 5 3 6 106 5 3 6 5 3 6 106 5 3 6 5 3 6 106 5 3 6 5 3 6 106 45 5 3 6 5 3 6 106 5 3 6 5 3 6 106 5 3 6 5 3 6 106 141 106 5 3 6 5 3 6 141 5 3 6 13 4 1', 738: '90 125 106 5 90 6 5 3 90 90 90 90 6 125 91 125 125 136 49 24 47 50 122 54 5 19 3 5 19 3 13 24 45 45 106 5 55 108 90 54 4 141 106 106 106 106 106 106 106 106 106 5 3 6 5 108 90 6 5 45 108 90 3 3 6 91 5 108 90 3 19 6 91 5 3 6 106 106 5 3 6 5 3 6 106 106 106 106 106 106 106 5 3 6 5 3 6 106 106 106 106 106 106 106 141 4 4 4 1', 3737: '90 125 106 5 90 6 5 3 90 90 90 90 6 125 91 125 125 136 49 24 47 50 122 54 5 19 3 5 19 3 13 45 45 106 5 55 108 90 141 106 5 3 6 5 108 90 6 5 45 108 90 3 3 6 91 5 108 90 3 19 6 91 5 3 6 106 5 3 6 5 3 6 106 5 3 6 5 3 6 106 5 3 6 5 3 6 106 5 3 6 5 3 6 106 5 3 6 5 3 6 106 5 3 6 5 3 6 106 45 5 3 6 5 3 6 106 5 3 6 5 108 90 3 19 6 91 5 3 6 106 5 3 6 5 3 6 106 5 3 6 5 3 6 106 5 3 6 5 3 6 106 5 3 6 5 3 6 106 5 3 6 5 3 6 106 5 3 6 5 3 6 106 5 3 6 5 3 6 106 5 3 6 5 3 6 106 5 3 6 5 3 6 106 5 3 6 5 3 6 106 5 3 6 5 3 6 106 5 3 6 5 3 6 106 45 5 3 6 5 3 6 106 5 3 6 5 3 6 106 5 3 6 5 3 6 106 5 3 6 5 3 6 106 5 3 6 5 3 6 106 5 3 6 5 3 6 106 5 3 6 5 3 6 106 5 3 6 5 3 6 106 5 3 6 5 3 6 106 5 3 6 5 3 6 106 5 3 6 5 3 6 106 5 3 6 5 3 6 106 5 3 6 5 3 6 106 45 5 3 6 5 3 6 106 5 3 6 5 3 6 106 5 3 6 5 3 6 106 5 3 6 5 3 6 106 5 3 6 5 3 6 141 106 5 3 6 5 3 6 106 5 3 6 5 3 6 106 5 3 6 5 3 6 106 5 3 6 5 3 6 106 5 3 6 5 3 6 106 5 3 6 5 3 6 106 5 3 6 5 3 6 141 5 3 6 13 4 1', 4120: '90 125 106 5 90 6 5 3 90 90 90 90 6 125 91 125 125 136 49 24 47 50 122 54 5 19 3 5 19 3 13 24 45 45 106 5 55 108 90 54 4 141 106 106 106 106 106 106 106 106 106 106 106 106 106 106 106 106 106 106 106 106 106 106 106 106 106 106 106 106 106 106 106 106 106 106 106 106 106 106 106 141 106 106 106 5 3 6 5 108 90 6 5 45 108 90 3 3 6 91 5 108 90 3 6 91 5 3 6 106 106 5 3 6 5 3 6 141 4 4 1', 4121: '90 125 106 5 90 6 5 3 90 90 90 90 6 125 91 125 125 136 49 24 47 50 122 54 5 19 3 5 19 3 13 45 45 106 5 55 108 90 54 4 141 106 5 3 6 5 108 90 6 5 45 108 90 3 3 6 91 5 108 90 3 19 6 91 5 3 6 106 5 3 6 5 3 6 106 5 3 6 5 3 6 106 5 3 6 5 3 6 106 5 3 6 5 3 6 106 5 3 6 5 3 6 106 5 3 6 5 3 6 106 45 5 3 6 5 3 6 106 5 3 6 5 108 90 3 19 6 91 5 3 6 106 5 3 6 5 3 6 106 5 3 6 5 3 6 106 5 3 6 5 3 6 106 5 3 6 5 3 6 106 5 3 6 5 3 6 106 5 3 6 5 3 6 106 5 3 6 5 3 6 106 5 3 6 5 3 6 106 5 3 6 5 3 6 106 5 3 6 5 3 6 106 5 3 6 5 3 6 106 5 3 6 5 3 6 106 45 5 3 6 5 3 6 106 5 3 6 5 3 6 106 5 3 6 5 3 6 106 5 3 6 5 3 6 106 5 3 6 5 3 6 106 5 3 6 5 3 6 106 5 3 6 5 3 6 106 5 3 6 5 3 6 106 5 3 6 5 3 6 106 5 3 6 5 3 6 106 5 3 6 5 3 6 106 5 3 6 5 3 6 106 5 3 6 5 3 6 106 45 5 3 6 5 3 6 106 5 3 6 5 3 6 106 5 3 6 5 3 6 106 5 3 6 5 3 6 106 5 3 6 5 3 6 141 106 5 3 6 5 3 6 106 5 3 6 5 3 6 106 5 3 6 5 108 90 3 6 91 5 3 6 106 5 3 6 5 3 6 106 5 3 6 5 3 6 141 5 3 6 13 4 4 4 4 4 4 4 4 4 4 4 4 4 4 4 4 4 4 4 4 4 4 4 4 4 4 4 4 4 4 4 4 4 4 4 4 4 4 4 4 4 4 4 4 1', 4147: '90 125 106 5 90 6 5 3 90 90 90 90 6 125 91 125 125 136 49 24 47 50 122 54 5 19 3 5 19 3 13 45 45 106 5 55 108 90 141 106 5 3 6 5 108 90 6 5 45 108 90 3 3 6 91 5 108 90 3 19 6 91 5 3 6 106 5 3 6 5 3 6 106 5 3 6 5 3 6 106 5 3 6 5 3 6 106 5 3 6 5 3 6 106 5 3 6 5 3 6 106 5 3 6 5 3 6 106 45 5 3 6 5 3 6 106 5 3 6 5 108 90 3 19 6 91 5 3 6 106 5 3 6 5 3 6 106 5 3 6 5 3 6 106 5 3 6 5 3 6 106 5 3 6 5 3 6 106 5 3 6 5 3 6 106 5 3 6 5 3 6 106 5 3 6 5 3 6 106 5 3 6 5 3 6 106 5 3 6 5 3 6 106 5 3 6 5 3 6 106 5 3 6 5 3 6 106 5 3 6 5 3 6 106 45 5 3 6 5 3 6 106 5 3 6 5 3 6 106 5 3 6 5 3 6 106 5 3 6 5 3 6 106 5 3 6 5 3 6 106 5 3 6 5 3 6 106 5 3 6 5 3 6 106 5 3 6 5 3 6 106 5 3 6 5 3 6 106 5 3 6 5 3 6 106 5 3 6 5 3 6 106 5 3 6 5 3 6 106 5 3 6 5 3 6 106 45 5 3 6 5 3 6 106 5 3 6 5 3 6 106 5 3 6 5 3 6 106 5 3 6 5 3 6 106 5 3 6 5 3 6 141 106 5 3 6 5 3 6 106 5 3 6 5 3 6 106 5 3 6 5 108 90 3 6 91 5 3 6 106 5 3 6 5 3 6 106 5 3 6 5 3 6 106 5 3 6 5 3 6 106 5 3 6 5 3 6 106 45 5 3 6 5 3 6 141 5 3 6 13 4 1', 4190: '90 125 106 5 90 6 5 3 90 90 90 90 6 125 91 125 125 136 49 24 47 50 122 54 5 19 3 5 19 3 13 45 45 106 5 55 108 90 54 4 141 106 5 3 6 5 108 90 6 5 45 108 90 3 3 6 91 5 108 90 3 19 6 91 5 3 6 106 5 3 6 5 3 6 106 5 3 6 5 3 6 106 5 3 6 5 3 6 106 5 3 6 5 3 6 106 5 3 6 5 3 6 106 5 3 6 5 3 6 106 45 5 3 6 5 3 6 106 5 3 6 5 108 90 3 19 6 91 5 3 6 106 5 3 6 5 3 6 106 5 3 6 5 3 6 106 5 3 6 5 3 6 106 5 3 6 5 3 6 106 5 3 6 5 3 6 106 5 3 6 5 3 6 106 5 3 6 5 3 6 106 5 3 6 5 3 6 106 5 3 6 5 3 6 106 5 3 6 5 3 6 106 5 3 6 5 3 6 106 5 3 6 5 3 6 106 45 5 3 6 5 3 6 106 5 3 6 5 3 6 106 5 3 6 5 3 6 106 5 3 6 5 3 6 106 5 3 6 5 3 6 106 5 3 6 5 3 6 106 5 3 6 5 3 6 106 5 3 6 5 3 6 106 5 3 6 5 3 6 106 5 3 6 5 3 6 106 5 3 6 5 3 6 106 5 3 6 5 3 6 106 5 3 6 5 3 6 106 45 5 3 6 5 3 6 106 5 3 6 5 3 6 106 5 3 6 5 3 6 106 5 3 6 5 3 6 106 5 3 6 5 3 6 141 106 5 3 6 5 3 6 106 5 3 6 5 3 6 106 5 3 6 5 108 90 3 6 91 5 3 6 106 5 3 6 5 3 6 106 5 3 6 5 3 6 141 5 3 6 13 4 4 4 4 4 4 4 4 4 4 4 4 4 4 4 4 4 4 4 4 4 4 4 4 4 4 4 4 4 4 4 4 4 4 4 4 4 4 4 4 4 4 4 4 1', 326: '90 125 106 5 90 6 5 3 90 90 90 90 6 125 91 125 125 136 49 24 47 50 122 54 5 19 3 5 19 3 13 45 45 106 5 55 108 90 141 106 5 3 6 5 108 90 6 5 45 108 90 3 3 6 91 5 108 90 3 19 6 91 5 3 6 106 5 3 6 5 3 6 106 5 3 6 5 3 6 106 5 3 6 5 3 6 106 5 3 6 5 3 6 106 5 3 6 5 3 6 106 5 3 6 5 3 6 106 45 5 3 6 5 3 6 106 5 3 6 5 3 6 106 5 3 6 5 3 6 106 5 3 6 5 3 6 106 5 3 6 5 3 6 106 5 3 6 5 3 6 106 5 3 6 5 3 6 106 5 3 6 5 3 6 106 5 3 6 5 3 6 106 5 3 6 5 3 6 106 5 3 6 5 3 6 106 5 3 6 5 3 6 106 5 3 6 5 3 6 106 5 3 6 5 3 6 106 5 3 6 5 3 6 45 106 5 3 6 5 3 6 106 5 3 6 5 3 6 106 5 3 6 5 3 6 106 5 3 6 5 3 6 106 5 3 6 5 3 6 106 5 3 6 5 3 6 106 5 3 6 5 3 6 106 5 3 6 5 3 6 106 5 3 6 5 3 6 106 5 3 6 5 3 6 106 5 3 6 5 3 6 106 5 3 6 5 3 6 106 5 3 6 5 3 6 106 45 5 3 6 5 3 6 106 5 3 6 5 3 6 106 5 3 6 5 3 6 106 5 3 6 5 3 6 141 106 5 3 6 5 3 6 106 5 3 6 5 3 6 141 5 3 6 13 4 1', 395: '90 125 106 5 90 6 5 3 90 90 90 90 6 125 91 125 125 136 49 24 47 50 122 54 5 19 3 5 19 3 13 45 45 106 5 55 108 90 141 106 5 3 6 5 108 90 6 5 45 108 90 3 3 6 91 5 108 90 3 19 6 91 5 3 6 106 5 3 6 5 3 6 106 5 3 6 5 3 6 106 5 3 6 5 3 6 106 5 3 6 5 3 6 106 5 3 6 5 3 6 106 5 3 6 5 3 6 106 45 5 3 6 5 3 6 106 5 3 6 5 3 6 106 5 3 6 5 3 6 106 5 3 6 5 3 6 106 5 3 6 5 3 6 106 5 3 6 5 3 6 106 5 3 6 5 3 6 106 5 3 6 5 3 6 106 5 3 6 5 3 6 106 5 3 6 5 3 6 106 5 3 6 5 3 6 106 5 3 6 5 3 6 106 5 3 6 5 3 6 106 5 3 6 5 3 6 106 5 3 6 5 3 6 45 106 5 3 6 5 3 6 106 5 3 6 5 3 6 106 5 3 6 5 3 6 106 5 3 6 5 3 6 106 5 3 6 5 3 6 106 5 3 6 5 3 6 106 5 3 6 5 3 6 106 5 3 6 5 3 6 106 5 3 6 5 3 6 106 5 3 6 5 3 6 106 5 3 6 5 3 6 106 5 3 6 5 3 6 106 5 3 6 5 3 6 106 45 5 3 6 5 3 6 106 5 3 6 5 3 6 106 5 3 6 5 3 6 106 5 3 6 5 3 6 141 106 5 3 6 5 3 6 106 5 3 6 5 3 6 106 5 3 6 5 3 6 106 5 3 6 5 3 6 106 5 3 6 5 3 6 106 5 3 6 5 3 6 106 5 3 6 5 3 6 106 5 3 6 5 3 6 106 45 5 3 6 5 3 6 106 5 3 6 5 3 6 106 5 3 6 5 3 6 106 5 3 6 5 3 6 106 5 3 6 5 3 6 106 5 3 6 5 3 6 106 5 3 6 5 3 6 141 5 3 6 13 4 1', 999: '90 125 106 5 90 6 5 3 90 90 90 90 6 125 91 125 125 136 49 24 47 50 122 54 5 19 3 5 19 3 13 45 45 106 5 55 108 90 54 4 141 106 5 3 6 5 108 90 6 5 45 108 90 3 3 6 91 5 108 90 3 19 6 91 5 3 6 106 5 3 6 5 3 6 106 5 3 6 5 3 6 106 5 3 6 5 3 6 106 5 3 6 5 3 6 106 5 3 6 5 3 6 106 5 3 6 5 3 6 106 45 5 3 6 5 108 90 3 19 6 91 5 3 6 106 5 3 6 5 3 6 106 5 3 6 5 3 6 106 5 3 6 5 3 6 106 5 3 6 5 3 6 106 5 3 6 5 3 6 106 5 3 6 5 3 6 106 5 3 6 5 3 6 106 5 3 6 5 3 6 106 5 3 6 5 3 6 106 5 3 6 5 3 6 106 5 3 6 5 3 6 106 5 3 6 5 3 6 106 5 3 6 5 3 6 106 45 5 3 6 5 3 6 106 5 3 6 5 3 6 106 5 3 6 5 3 6 106 5 3 6 5 3 6 141 5 3 6 13 4 4 4 4 4 4 4 4 4 4 4 4 4 4 4 4 4 4 4 4 4 4 4 4 4 1', 3299: '90 125 106 5 90 6 5 3 90 90 90 90 6 125 91 125 125 136 49 24 47 50 122 54 5 19 3 5 19 3 13 45 45 106 5 55 108 90 54 4 141 106 5 3 6 5 108 90 6 5 45 108 90 3 3 6 91 5 108 90 3 19 6 91 5 3 6 106 5 3 6 5 3 6 106 5 3 6 5 3 6 106 5 3 6 5 3 6 106 5 3 6 5 3 6 106 5 3 6 5 3 6 106 5 3 6 5 3 6 106 45 5 3 6 5 3 6 106 5 3 6 5 3 6 106 5 3 6 5 3 6 106 5 3 6 5 3 6 106 5 3 6 5 3 6 106 5 3 6 5 3 6 106 5 3 6 5 3 6 106 5 3 6 5 3 6 106 5 3 6 5 3 6 106 5 3 6 5 3 6 106 5 3 6 5 3 6 106 5 3 6 5 3 6 106 5 3 6 5 3 6 106 5 3 6 5 3 6 106 45 5 3 6 5 3 6 106 5 3 6 5 3 6 106 5 3 6 5 3 6 106 5 3 6 5 3 6 141 5 3 6 13 4 4 4 4 4 4 4 4 4 4 4 4 4 4 4 4 4 4 4 4 4 4 4 4 4 1'}\n",
            "Number of unique PID in intrusion: 34\n",
            "Intrusion PIDs and its sequences:  {460: '90 125 106 5 90 6 5 3 90 90 90 6 5 3 90 90 90 6 125 5 3 90 90 90 6 125 5 3 90 90 90 90 6 125 91 125 125 125 125 136 49 24 47 50 67 27 67 67 97 122 45 45 5 106 106 106 106 106 6 6 6 6 6 6 6 6 6 6 6 6 6 6 6 6 6 6 6 6 6 6 6 6 6 6 6 6 6 6 6 6 6 6 6 6 6 6 6 6 6 6 6 6 6 6 6 6 6 6 6 6 6 6 6 6 6 6 6 6 6 6 6 6 6 6 6 6 6 6 6 6 6 6 6 6 6 6 6 6 6 6 6 6 6 6 6 6 6 6 6 6 6 6 6 6 6 6 6 6 6 6 6 6 6 6 6 6 6 6 6 6 6 6 6 6 6 6 6 6 6 6 6 6 6 6 6 6 6 6 6 6 6 6 6 6 6 6 6 6 6 6 6 6 6 6 6 6 6 6 6 6 6 6 6 6 6 6 6 6 6 6 6 6 6 6 6 6 6 6 6 6 6 6 6 6 6 6 6 6 6 6 6 6 6 6 6 6 6 6 6 6 6 6 6 6 6 6 6 6 6 6 6 6 6 6 6 6 6 6 6 6 6 6 6 6 6 6 6 6 6 6 6 6 6 6 6 6 6 6 6 6 6 6 6 6 6 6 6 6 6 6 6 6 6 6 6 6 6 6 6 6 6 6 54 108 106 5 55 45 141 141 141 141 106 6 57 54 16 15 54 67 111 67 66 5 6 6 6 63 63 63 6 54 106 5 108 90 3 106 5 90 6 5 3 90 90 90 6 125 91 106 5 90 6 5 3 90 90 90 6 125 5 3 90 90 90 90 6 125 91 106 5 90 6 5 3 90 90 90 6 125 91 106 5 90 6 5 3 90 90 90 90 6 125 91 3 6 91 5 108 90 3 106 5 90 6 5 3 90 90 90 6 125 91 3 6 91 5 45 108 90 3 3 6 91 5 108 90 3 19 6 91 5 108 90 3 3 6 91 76 75 24 5 108 90 3 19 6 91 13 13 13 13 13 13 13 13 13 5 5 13 54 54 13 4 54 3 54 4 5 108 90 3 19 6 91 13 13 13 13 13 13 13 13 13 5 5 13 76 75 5 5 108 90 3 3 6 91 76 75 24 5 108 90 3 19 6 91 13 13 13 13 13 13 13 13 13 5 5 13 13 13 13 13 13 76 75 5 108 90 19 3 19 6 91 27 24 50 71 70 33 23 70 71 20 5 3 3 3 3 13 19 4 6 5 67 27 143 27 4 143 6 5 19 3 5 3 6 13 108 90 54 4 19 13 4 6 5 108 90 3 19 6 91 16 15 46 49 5 108 90 3 3 6 91 5 5 81 5 108 90 3 3 6 91 76 75 24 76 75 5 108 90 3 3 6 91 76 75 24 24 54 54 108 106 5 55 141 141 141 141 106 6 5 3 3 3 3 5 108 90 3 19 6 91 13 13 13 13 13 13 13 13 13 5 5 13 13 13 13 13 6 54 54 108 106 5 55 141 141 141 141 106 6 5 3 3 3 3 13 13 13 13 13 13 6 102 102 13 20 4 6 76 75 5 67 3 67 6 106 67 67 67 67 67 23 12 2 67 114 67 5 108 90 3 3 6 91 76 75 24 102 102 13 20 4 6 76 75 91 91 91 91 91 91 1', 469: '11', 487: '90 125 106 5 90 6 5 3 90 90 90 6 5 3 90 90 90 6 125 5 3 90 90 90 6 125 5 3 90 90 90 90 6 125 91 125 125 125 125 136 49 24 47 50 67 27 67 67 97 122 45 45 5 106 106 106 106 106 6 6 6 6 6 6 6 6 6 6 6 6 6 6 6 6 6 6 6 6 6 6 6 6 6 6 6 6 6 6 6 6 6 6 6 6 6 6 6 6 6 6 6 6 6 6 6 6 6 6 6 6 6 6 6 6 6 6 6 6 6 6 6 6 6 6 6 6 6 6 6 6 6 6 6 6 6 6 6 6 6 6 6 6 6 6 6 6 6 6 6 6 6 6 6 6 6 6 6 6 6 6 6 6 6 6 6 6 6 6 6 6 6 6 6 6 6 6 6 6 6 6 6 6 6 6 6 6 6 6 6 6 6 6 6 6 6 6 6 6 6 6 6 6 6 6 6 6 6 6 6 6 6 6 6 6 6 6 6 6 6 6 6 6 6 6 6 6 6 6 6 6 6 6 6 6 6 6 6 6 6 6 6 6 6 6 6 6 6 6 6 6 6 6 6 6 6 6 6 6 6 6 6 6 6 6 6 6 6 6 6 6 6 6 6 6 6 6 6 6 6 6 6 6 6 6 6 6 6 6 6 6 6 6 6 6 6 6 6 6 6 6 6 6 6 6 6 6 6 6 6 6 6 6 54 108 106 5 55 45 141 141 141 141 106 6 57 54 16 15 54 67 111 67 66 5 6 6 6 63 63 63 6 54 106 5 108 90 3 106 5 90 6 5 3 90 90 90 6 125 91 106 5 90 6 5 3 90 90 90 6 125 5 3 90 90 90 90 6 125 91 106 5 90 6 5 3 90 90 90 6 125 91 106 5 90 6 5 3 90 90 90 90 6 125 91 3 6 91 5 108 90 3 106 5 90 6 5 3 90 90 90 6 125 91 3 6 91 5 45 108 90 3 3 6 91 5 108 90 3 19 6 91 106 5 108 90 3 19 6 91 5 108 90 3 3 6 91 76 75 24 5 108 90 3 19 6 91 13 13 13 13 13 13 13 13 13 5 5 13 54 54 13 4 54 3 54 4 5 108 90 3 19 6 91 13 13 13 13 13 13 13 13 13 5 5 13 76 75 5 5 108 90 3 3 6 91 76 75 24 5 108 90 3 19 6 91 13 13 13 13 13 13 13 13 13 5 5 13 13 13 13 13 13 76 75 5 108 90 19 3 19 6 91 27 24 50 71 70 33 23 70 71 20 5 3 3 3 3 13 19 4 6 5 67 27 143 27 4 143 6 5 19 3 5 3 6 13 108 90 54 4 19 13 4 6 5 108 90 3 19 6 91 16 15 46 49 5 108 90 3 3 6 91 5 5 81 5 108 90 3 3 6 91 76 75 24 76 75 5 108 90 3 3 6 91 76 75 24 24 54 54 108 106 5 55 141 141 141 141 106 6 5 3 3 3 3 5 108 90 3 19 6 91 13 13 13 13 13 13 13 13 13 5 5 13 13 13 13 13 6 54 54 108 106 5 55 141 141 141 141 106 6 5 3 3 3 3 13 13 13 13 13 13 6 102 102 13 20 4 6 76 75 102 102 13 4 5 67 3 67 6 106 4 67 67 67 67 67 23 12 2 67 114 67 5 108 90 3 3 6 91 76 75 24 13 20 4 6 76 75 91 91 91 91 91 91 1', 488: '11', 503: '90 125 106 5 90 6 5 3 90 90 90 6 5 3 90 90 90 6 125 5 3 90 90 90 6 125 5 3 90 90 90 90 6 125 91 125 125 125 125 136 49 24 47 50 67 27 67 67 97 122 45 45 5 106 106 106 106 106 6 6 6 6 6 6 6 6 6 6 6 6 6 6 6 6 6 6 6 6 6 6 6 6 6 6 6 6 6 6 6 6 6 6 6 6 6 6 6 6 6 6 6 6 6 6 6 6 6 6 6 6 6 6 6 6 6 6 6 6 6 6 6 6 6 6 6 6 6 6 6 6 6 6 6 6 6 6 6 6 6 6 6 6 6 6 6 6 6 6 6 6 6 6 6 6 6 6 6 6 6 6 6 6 6 6 6 6 6 6 6 6 6 6 6 6 6 6 6 6 6 6 6 6 6 6 6 6 6 6 6 6 6 6 6 6 6 6 6 6 6 6 6 6 6 6 6 6 6 6 6 6 6 6 6 6 6 6 6 6 6 6 6 6 6 6 6 6 6 6 6 6 6 6 6 6 6 6 6 6 6 6 6 6 6 6 6 6 6 6 6 6 6 6 6 6 6 6 6 6 6 6 6 6 6 6 6 6 6 6 6 6 6 6 6 6 6 6 6 6 6 6 6 6 6 6 6 6 6 6 6 6 6 6 6 6 6 6 6 6 6 6 6 6 6 6 6 6 6 6 6 6 6 6 54 108 106 5 55 45 141 141 141 141 106 6 57 54 16 15 54 67 111 67 66 5 6 6 6 63 63 63 6 54 106 5 108 90 3 106 5 90 6 5 3 90 90 90 6 125 91 106 5 90 6 5 3 90 90 90 6 125 5 3 90 90 90 90 6 125 91 106 5 90 6 5 3 90 90 90 6 125 91 106 5 90 6 5 3 90 90 90 90 6 125 91 3 6 91 5 108 90 3 106 5 90 6 5 3 90 90 90 6 125 91 3 6 91 5 45 108 90 3 3 6 91 5 108 90 3 3 6 91 5 5 5 108 90 3 3 6 91 76 75 24 5 108 90 3 3 6 91 5 5 108 90 3 3 6 91 5 5 54 54 13 4 54 3 54 4 5 108 90 3 3 6 91 5 5 108 90 3 3 6 91 5 5 102 102 13 5 3 6 13 20 4 6 76 75 5 102 102 13 4 4 54 54 13 4 54 3 54 5 108 90 3 19 6 91 106 5 108 90 3 19 6 91 5 108 90 3 3 6 91 76 75 24 5 108 90 3 19 6 91 13 13 13 13 13 13 13 13 13 5 5 13 54 54 13 4 54 3 54 4 5 108 90 3 19 6 91 13 13 13 13 13 13 13 13 13 5 5 13 76 75 5 5 108 90 3 3 6 91 76 75 24 5 108 90 3 19 6 91 13 13 13 13 13 13 13 13 13 5 5 13 13 13 13 13 13 76 75 5 108 90 19 3 19 6 91 27 24 50 71 70 33 23 70 71 20 5 3 3 3 3 13 19 4 6 5 67 27 143 27 4 143 6 5 19 3 108 90 54 4 19 13 4 6 5 108 90 3 19 6 91 16 15 46 49 5 108 90 3 3 6 91 5 5 81 5 108 90 3 3 6 91 76 75 24 76 75 5 108 90 3 3 6 91 76 75 24 24 54 54 108 106 5 55 141 141 141 141 106 6 5 3 3 3 3 5 108 90 3 19 6 91 13 13 13 13 13 13 13 13 13 5 5 13 13 13 13 13 6 54 54 108 106 5 55 141 141 141 141 106 6 5 3 3 3 3 13 13 13 13 13 13 6 13 20 4 6 76 75 102 102 13 4 5 67 3 67 6 106 4 67 67 67 67 67 23 12 2 67 114', 504: '11', 545: '90 125 106 5 90 6 5 3 90 90 90 6 5 3 90 90 90 6 125 5 3 90 90 90 6 125 5 3 90 90 90 90 6 125 91 125 125 125 125 136 49 24 47 50 67 27 67 67 97 122 45 45 5 106 106 106 106 106 6 6 6 6 6 6 6 6 6 6 6 6 6 6 6 6 6 6 6 6 6 6 6 6 6 6 6 6 6 6 6 6 6 6 6 6 6 6 6 6 6 6 6 6 6 6 6 6 6 6 6 6 6 6 6 6 6 6 6 6 6 6 6 6 6 6 6 6 6 6 6 6 6 6 6 6 6 6 6 6 6 6 6 6 6 6 6 6 6 6 6 6 6 6 6 6 6 6 6 6 6 6 6 6 6 6 6 6 6 6 6 6 6 6 6 6 6 6 6 6 6 6 6 6 6 6 6 6 6 6 6 6 6 6 6 6 6 6 6 6 6 6 6 6 6 6 6 6 6 6 6 6 6 6 6 6 6 6 6 6 6 6 6 6 6 6 6 6 6 6 6 6 6 6 6 6 6 6 6 6 6 6 6 6 6 6 6 6 6 6 6 6 6 6 6 6 6 6 6 6 6 6 6 6 6 6 6 6 6 6 6 6 6 6 6 6 6 6 6 6 6 6 6 6 6 6 6 6 6 6 6 6 6 6 6 6 6 6 6 6 6 6 6 6 6 6 6 6 6 6 6 6 6 6 54 108 106 5 55 45 141 141 141 141 106 6 57 54 16 15 54 67 111 67 66 5 6 6 6 63 63 63 6 54 106 5 108 90 3 106 5 90 6 5 3 90 90 90 6 125 91 106 5 90 6 5 3 90 90 90 6 125 5 3 90 90 90 90 6 125 91 106 5 90 6 5 3 90 90 90 6 125 91 106 5 90 6 5 3 90 90 90 90 6 125 91 3 6 91 5 108 90 3 106 5 90 6 5 3 90 90 90 6 125 91 3 6 91 27 24 50 71 70 33 23 70 71 5 45 108 90 3 3 6 91 5 108 90 3 19 6 91 16 15 46 49 5 108 90 3 3 6 91 5 5 81 5 108 90 3 3 6 91 76 75 24 76 75 67 67 67 67 67 23 12 2 67 114', 555: '11', 150: '90 125 106 5 90 6 5 3 90 90 90 90 6 125 91 125 125 136 49 24 47 50 122 54 5 19 3 5 19 3 13 45 45 5 106 5 55 108 90 141 106 5 3 6 5 108 90 6 5 45 108 90 3 3 6 91 5 108 90 3 19 6 91 5 3 6 106 5 3 6 5 3 6 106 5 3 6 5 3 6 106 5 3 6 5 3 6 106 5 3 6 5 3 6 106 5 3 6 5 3 6 106 5 3 6 5 3 6 106 5 3 6 5 3 6 106 5 3 6 5 3 6 106 5 3 6 5 3 6 106 5 3 6 5 3 6 106 5 3 6 5 3 6 106 45 5 3 6 5 3 6 141 5 3 6 13 4 1 90 125 106 5 90 6 5 3 90 90 90 90 6 125 91 125 125 136 49 24 47 50 122 54 5 19 3 5 19 3 13 45 45 5 106 5 55 108 90 141 106 5 3 6 5 108 90 6 5 45 108 90 3 3 6 91 5 108 90 3 19 6 91 5 3 6 106 5 3 6 5 3 6 106 5 3 6 5 3 6 106 5 3 6 5 3 6 106 5 3 6 5 3 6 106 5 3 6 5 3 6 106 5 3 6 5 3 6 106 5 3 6 5 3 6 106 5 3 6 5 3 6 106 5 3 6 5 3 6 106 5 3 6 5 3 6 106 5 3 6 5 3 6 106 45 5 3 6 5 3 6 141 5 3 6 13 4 1 90 125 106 5 90 6 5 3 90 90 90 90 6 125 91 125 125 136 49 24 47 50 45 45 5 122 54 5 19 3 5 19 3 13 106 5 55 108 90 141 106 5 3 6 5 108 90 6 5 45 108 90 3 3 6 91 5 108 90 3 19 6 91 5 3 6 106 5 3 6 5 3 6 106 5 3 6 5 3 6 106 5 3 6 5 3 6 106 5 3 6 5 3 6 106 5 3 6 5 3 6 106 5 3 6 5 3 6 106 5 3 6 5 3 6 106 5 3 6 5 3 6 106 45 5 3 6 5 3 6 106 5 3 6 5 3 6 106 5 3 6 5 3 6 106 5 3 6 5 3 6 141 5 3 6 13 4 1', 159: '90 125 106 5 90 6 5 3 90 90 90 90 6 125 91 125 125 136 49 24 47 50 122 54 5 19 3 5 19 3 13 45 45 5 106 5 55 108 90 141 106 5 3 6 5 108 90 6 5 45 108 90 3 3 6 91 5 108 90 3 19 6 91 5 3 6 106 5 3 6 5 3 6 106 5 3 6 5 3 6 106 5 3 6 5 3 6 106 5 3 6 5 3 6 106 5 3 6 5 3 6 106 5 3 6 5 3 6 106 5 3 6 5 3 6 106 5 3 6 5 3 6 106 5 3 6 5 3 6 106 5 3 6 5 3 6 106 5 3 6 5 3 6 106 45 5 3 6 5 3 6 106 5 3 6 5 3 6 141 5 3 6 13 4 1 90 125 106 5 90 6 5 3 90 90 90 90 6 125 91 125 125 136 49 24 47 50 122 54 5 19 3 5 19 3 13 45 45 5 106 5 55 108 90 141 106 5 3 6 5 108 90 6 5 45 108 90 3 3 6 91 5 108 90 3 19 6 91 5 3 6 106 5 3 6 5 3 6 106 5 3 6 5 3 6 106 5 3 6 5 3 6 106 5 3 6 5 3 6 106 5 3 6 5 3 6 106 5 3 6 5 3 6 106 5 3 6 5 3 6 106 5 3 6 5 3 6 106 5 3 6 5 3 6 106 5 3 6 5 3 6 106 5 3 6 5 3 6 106 45 5 3 6 5 3 6 106 5 3 6 5 3 6 141 5 3 6 13 4 1 90 125 106 5 90 6 5 3 90 90 90 90 6 125 91 125 125 136 49 24 47 50 45 45 5 122 54 5 19 3 5 19 3 13 106 5 55 108 90 141 106 5 3 6 5 108 90 6 5 45 108 90 3 3 6 91 5 108 90 3 19 6 91 5 3 6 106 5 3 6 5 3 6 106 5 3 6 5 3 6 106 5 3 6 5 3 6 106 5 3 6 5 3 6 106 5 3 6 5 3 6 106 5 3 6 5 3 6 106 5 3 6 5 3 6 106 5 3 6 5 3 6 106 45 5 3 6 5 3 6 106 5 3 6 5 3 6 106 5 3 6 5 3 6 106 5 3 6 5 3 6 106 5 3 6 5 3 6 141 5 3 6 13 4 1', 170: '90 125 106 5 90 6 5 3 90 90 90 90 6 125 91 125 125 136 49 24 47 50 122 54 5 19 3 5 19 3 13 45 45 5 106 5 55 108 90 141 106 5 3 6 5 108 90 6 5 45 108 90 3 3 6 91 5 108 90 3 19 6 91 5 3 6 106 5 3 6 5 3 6 106 5 3 6 5 3 6 106 5 3 6 5 3 6 106 5 3 6 5 3 6 106 5 3 6 5 3 6 106 5 3 6 5 3 6 106 5 3 6 5 3 6 106 5 3 6 5 3 6 106 5 3 6 5 3 6 106 5 3 6 5 3 6 106 5 3 6 5 3 6 106 45 5 3 6 5 3 6 106 5 3 6 5 3 6 106 5 3 6 5 3 6 141 5 3 6 13 4 1 90 125 106 5 90 6 5 3 90 90 90 90 6 125 91 125 125 136 49 24 47 50 122 54 5 19 3 5 19 3 13 45 45 5 106 5 55 108 90 141 106 5 3 6 5 108 90 6 5 45 108 90 3 3 6 91 5 108 90 3 19 6 91 5 3 6 106 5 3 6 5 3 6 106 5 3 6 5 3 6 106 5 3 6 5 3 6 106 5 3 6 5 3 6 106 5 3 6 5 3 6 106 5 3 6 5 3 6 106 5 3 6 5 3 6 106 5 3 6 5 3 6 106 5 3 6 5 3 6 106 5 3 6 5 3 6 106 5 3 6 5 3 6 106 45 5 3 6 5 3 6 106 5 3 6 5 3 6 106 5 3 6 5 3 6 141 5 3 6 13 4 1 90 125 106 5 90 6 5 3 90 90 90 90 6 125 91 125 125 136 49 24 47 50 45 45 5 122 54 5 19 3 5 19 3 13 106 5 55 108 90 141 106 5 3 6 5 108 90 6 5 45 108 90 3 3 6 91 5 108 90 3 19 6 91 5 3 6 106 5 3 6 5 3 6 106 5 3 6 5 3 6 106 5 3 6 5 3 6 106 5 3 6 5 3 6 106 5 3 6 5 3 6 106 5 3 6 5 3 6 106 5 3 6 5 3 6 106 5 3 6 5 3 6 106 45 5 3 6 5 3 6 106 5 3 6 5 3 6 106 5 3 6 5 3 6 106 5 3 6 5 3 6 106 5 3 6 5 3 6 106 5 3 6 5 3 6 141 5 3 6 13 4 1', 182: '90 125 106 5 90 6 5 3 90 90 90 90 6 125 91 125 125 136 49 24 47 50 122 54 5 19 3 5 19 3 13 45 45 5 106 5 55 108 90 141 106 5 3 6 5 108 90 6 5 45 108 90 3 3 6 91 5 108 90 3 19 6 91 5 3 6 106 5 3 6 5 3 6 106 5 3 6 5 3 6 106 5 3 6 5 3 6 106 5 3 6 5 3 6 106 5 3 6 5 3 6 106 5 3 6 5 3 6 106 5 3 6 5 3 6 106 5 3 6 5 3 6 106 5 3 6 5 3 6 106 5 3 6 5 3 6 106 5 3 6 5 3 6 106 45 5 3 6 5 3 6 106 5 3 6 5 3 6 106 5 3 6 5 3 6 106 5 3 6 5 3 6 141 5 3 6 13 4 1 90 125 106 5 90 6 5 3 90 90 90 90 6 125 91 125 125 136 49 24 47 50 122 54 5 19 3 5 19 3 13 45 45 5 106 5 55 108 90 141 106 5 3 6 5 108 90 6 5 45 108 90 3 3 6 91 5 108 90 3 19 6 91 5 3 6 106 5 3 6 5 3 6 106 5 3 6 5 3 6 106 5 3 6 5 3 6 106 5 3 6 5 3 6 106 5 3 6 5 3 6 106 5 3 6 5 3 6 106 5 3 6 5 3 6 106 5 3 6 5 3 6 106 5 3 6 5 3 6 106 5 3 6 5 3 6 106 5 3 6 5 3 6 106 45 5 3 6 5 3 6 106 5 3 6 5 3 6 106 5 3 6 5 3 6 106 5 3 6 5 3 6 141 5 3 6 13 4 1 90 125 106 5 90 6 5 3 90 90 90 90 6 125 91 125 125 136 49 24 47 50 45 45 5 122 54 5 19 3 5 19 3 13 106 5 55 108 90 141 106 5 3 6 5 108 90 6 5 45 108 90 3 3 6 91 5 108 90 3 19 6 91 5 3 6 106 5 3 6 5 3 6 106 5 3 6 5 3 6 106 5 3 6 5 3 6 106 5 3 6 5 3 6 106 5 3 6 5 3 6 106 5 3 6 5 3 6 106 5 3 6 5 3 6 106 5 3 6 5 3 6 106 45 5 3 6 5 3 6 106 5 3 6 5 3 6 106 5 3 6 5 3 6 106 5 3 6 5 3 6 106 5 3 6 5 3 6 106 5 3 6 5 3 6 106 5 3 6 5 3 6 141 5 3 6 13 4 1', 193: '90 125 106 5 90 6 5 3 90 90 90 90 6 125 91 125 125 136 49 24 47 50 122 54 5 19 3 5 19 3 13 45 45 5 106 5 55 108 90 141 106 5 3 6 5 108 90 6 5 45 108 90 3 3 6 91 5 108 90 3 19 6 91 5 3 6 106 5 3 6 5 3 6 106 5 3 6 5 3 6 106 5 3 6 5 3 6 106 5 3 6 5 3 6 106 5 3 6 5 3 6 106 5 3 6 5 3 6 106 5 3 6 5 3 6 106 5 3 6 5 3 6 106 5 3 6 5 3 6 106 5 3 6 5 3 6 106 5 3 6 5 3 6 106 45 5 3 6 5 3 6 106 5 3 6 5 3 6 106 5 3 6 5 3 6 106 5 3 6 5 3 6 106 5 3 6 5 3 6 141 5 3 6 13 4 1 90 125 106 5 90 6 5 3 90 90 90 90 6 125 91 125 125 136 49 24 47 50 122 54 5 19 3 5 19 3 13 45 45 5 106 5 55 108 90 141 106 5 3 6 5 108 90 6 5 45 108 90 3 3 6 91 5 108 90 3 19 6 91 5 3 6 106 5 3 6 5 3 6 106 5 3 6 5 3 6 106 5 3 6 5 3 6 106 5 3 6 5 3 6 106 5 3 6 5 3 6 106 5 3 6 5 3 6 106 5 3 6 5 3 6 106 5 3 6 5 3 6 106 5 3 6 5 3 6 106 5 3 6 5 3 6 106 5 3 6 5 3 6 106 45 5 3 6 5 3 6 106 5 3 6 5 3 6 106 5 3 6 5 3 6 106 5 3 6 5 3 6 106 5 3 6 5 3 6 141 5 3 6 13 4 1 90 125 106 5 90 6 5 3 90 90 90 90 6 125 91 125 125 136 49 24 47 50 45 45 5 122 54 5 19 3 5 19 3 13 106 5 55 108 90 141 106 5 3 6 5 108 90 6 5 45 108 90 3 3 6 91 5 108 90 3 19 6 91 5 3 6 106 5 3 6 5 3 6 106 5 3 6 5 3 6 106 5 3 6 5 3 6 106 5 3 6 5 3 6 106 5 3 6 5 3 6 106 5 3 6 5 3 6 106 5 3 6 5 3 6 106 5 3 6 5 3 6 106 45 5 3 6 5 3 6 106 5 3 6 5 3 6 106 5 3 6 5 3 6 106 5 3 6 5 3 6 106 5 3 6 5 3 6 106 5 3 6 5 3 6 106 5 3 6 5 3 6 106 5 3 6 5 3 6 141 5 3 6 13 4 1', 326: '90 125 106 5 90 6 5 3 90 90 90 90 6 125 91 125 125 136 49 24 47 50 122 54 5 19 3 5 19 3 13 45 45 5 106 5 55 108 90 141 106 5 3 6 5 108 90 6 5 45 108 90 3 3 6 91 5 108 90 3 19 6 91 5 3 6 106 5 3 6 5 3 6 106 5 3 6 5 3 6 106 5 3 6 5 3 6 106 5 3 6 5 3 6 106 5 3 6 5 3 6 106 5 3 6 5 3 6 106 5 3 6 5 3 6 106 5 3 6 5 3 6 106 5 3 6 5 3 6 106 5 3 6 5 3 6 106 5 3 6 5 3 6 106 45 5 3 6 5 3 6 106 5 3 6 5 3 6 106 5 3 6 5 3 6 106 5 3 6 5 3 6 106 5 3 6 5 3 6 106 5 3 6 5 3 6 106 5 3 6 5 3 6 106 5 3 6 5 3 6 106 5 3 6 5 3 6 106 5 3 6 5 3 6 106 5 3 6 5 3 6 106 5 3 6 5 3 6 106 5 3 6 5 3 6 106 5 3 6 5 3 6 106 45 5 3 6 5 3 6 106 5 3 6 5 3 6 106 5 3 6 5 3 6 106 5 3 6 5 3 6 106 5 3 6 5 3 6 106 5 3 6 5 3 6 106 5 3 6 5 3 6 106 5 3 6 5 3 6 106 5 3 6 5 3 6 106 5 3 6 5 3 6 106 5 3 6 5 3 6 106 5 3 6 5 3 6 141 5 3 6 13 4 1', 391: '90 125 106 5 90 6 5 3 90 90 90 90 6 125 91 125 125 136 49 24 47 50 122 54 5 19 3 5 19 3 13 45 45 5 106 5 55 108 90 141 106 5 3 6 5 108 90 6 5 45 108 90 3 3 6 91 5 108 90 3 19 6 91 5 3 6 106 5 3 6 5 3 6 106 5 3 6 5 3 6 106 5 3 6 5 3 6 106 5 3 6 5 3 6 106 5 3 6 5 3 6 106 5 3 6 5 3 6 106 5 3 6 5 3 6 106 5 3 6 5 3 6 106 5 3 6 5 3 6 106 5 3 6 5 3 6 106 5 3 6 5 3 6 106 5 3 6 5 3 6 106 45 5 3 6 5 3 6 106 5 3 6 5 3 6 106 5 3 6 5 3 6 106 5 3 6 5 3 6 106 5 3 6 5 3 6 106 5 3 6 5 3 6 106 5 3 6 5 3 6 106 5 3 6 5 3 6 106 5 3 6 5 3 6 106 5 3 6 5 3 6 106 5 3 6 5 3 6 106 5 3 6 5 3 6 106 5 3 6 5 3 6 106 45 5 3 6 5 3 6 106 5 3 6 5 3 6 106 5 3 6 5 3 6 106 5 3 6 5 3 6 106 5 3 6 5 3 6 106 5 3 6 5 3 6 106 5 3 6 5 3 6 106 5 3 6 5 3 6 106 5 3 6 5 3 6 106 5 3 6 5 3 6 106 5 3 6 5 3 6 106 5 3 6 5 3 6 106 5 3 6 5 3 6 141 106 5 3 6 5 3 6 45 106 5 3 6 5 3 6 106 5 3 6 5 3 6 106 5 3 6 5 3 6 106 5 3 6 5 3 6 106 5 3 6 5 3 6 106 5 3 6 5 3 6 106 5 3 6 5 3 6 106 5 3 6 5 3 6 106 5 3 6 5 3 6 106 5 3 6 5 3 6 106 5 3 6 5 3 6 141 5 3 6 13 4 1', 327: '90 125 106 5 90 6 5 3 90 90 90 90 6 125 91 125 125 136 49 24 47 50 122 54 5 19 3 5 19 3 13 45 45 5 106 5 55 108 90 141 106 5 3 6 5 108 90 6 5 45 108 90 3 3 6 91 5 108 90 3 19 6 91 5 3 6 106 5 3 6 5 3 6 106 5 3 6 5 3 6 106 5 3 6 5 3 6 106 5 3 6 5 3 6 106 5 3 6 5 3 6 106 5 3 6 5 3 6 106 5 3 6 5 3 6 106 5 3 6 5 3 6 106 5 3 6 5 3 6 106 5 3 6 5 3 6 106 5 3 6 5 3 6 106 45 5 3 6 5 3 6 106 5 3 6 5 3 6 106 5 3 6 5 3 6 106 5 3 6 5 3 6 106 5 3 6 5 3 6 106 5 3 6 5 3 6 106 5 3 6 5 3 6 106 5 3 6 5 3 6 106 5 3 6 5 3 6 106 5 3 6 5 3 6 106 5 3 6 5 3 6 106 5 3 6 5 3 6 106 5 3 6 5 3 6 106 5 3 6 5 3 6 106 45 5 3 6 5 3 6 106 5 3 6 5 3 6 106 5 3 6 5 3 6 106 5 3 6 5 3 6 106 5 3 6 5 3 6 106 5 3 6 5 3 6 106 5 3 6 5 3 6 106 5 3 6 5 3 6 106 5 3 6 5 3 6 106 5 3 6 5 3 6 106 5 3 6 5 3 6 106 5 3 6 5 3 6 106 5 3 6 5 3 6 141 5 3 6 13 4 1', 401: '90 125 106 5 90 6 5 3 90 90 90 90 6 125 91 125 125 136 49 24 47 50 122 54 5 19 3 5 19 3 13 45 45 5 106 5 55 108 90 141 106 5 3 6 5 108 90 6 5 45 108 90 3 3 6 91 5 108 90 3 19 6 91 5 3 6 106 5 3 6 5 3 6 106 5 3 6 5 3 6 106 5 3 6 5 3 6 106 5 3 6 5 3 6 106 5 3 6 5 3 6 106 5 3 6 5 3 6 106 5 3 6 5 3 6 106 5 3 6 5 3 6 106 5 3 6 5 3 6 106 5 3 6 5 3 6 106 5 3 6 5 3 6 106 45 5 3 6 5 3 6 106 5 3 6 5 3 6 106 5 3 6 5 3 6 106 5 3 6 5 3 6 106 5 3 6 5 3 6 106 5 3 6 5 3 6 106 5 3 6 5 3 6 106 5 3 6 5 3 6 106 5 3 6 5 3 6 106 5 3 6 5 3 6 106 5 3 6 5 3 6 106 5 3 6 5 3 6 106 5 3 6 5 3 6 106 5 3 6 5 3 6 106 45 5 3 6 5 3 6 106 5 3 6 5 3 6 106 5 3 6 5 3 6 106 5 3 6 5 3 6 106 5 3 6 5 3 6 106 5 3 6 5 3 6 106 5 3 6 5 3 6 106 5 3 6 5 3 6 106 5 3 6 5 3 6 106 5 3 6 5 3 6 106 5 3 6 5 3 6 106 5 3 6 5 3 6 106 5 3 6 5 3 6 141 106 5 3 6 5 3 6 45 106 5 3 6 5 3 6 106 5 3 6 5 3 6 106 5 3 6 5 3 6 106 5 3 6 5 3 6 106 5 3 6 5 3 6 106 5 3 6 5 3 6 106 5 3 6 5 3 6 106 5 3 6 5 3 6 106 5 3 6 5 3 6 106 5 3 6 5 3 6 106 5 3 6 5 3 6 106 45 5 3 6 5 3 6 106 5 3 6 5 3 6 106 5 3 6 5 3 6 106 5 3 6 5 3 6 106 5 3 6 5 3 6 141 5 3 6 13 4 1', 567: '90 125 106 5 90 6 5 3 90 90 90 90 6 125 91 125 125 136 49 24 47 50 122 54 5 19 3 5 19 3 13 24 45 45 5 106 5 55 108 90 54 4 141 106 5 3 6 106 5 3 6 106 5 3 6 106 5 3 6 106 5 3 6 106 5 3 6 106 5 3 6 106 5 3 6 106 5 3 6 5 108 90 6 5 45 108 90 3 3 6 91 5 108 90 3 19 6 91 5 3 6 106 5 3 6 106 5 3 6 5 3 6 106 5 3 6 106 5 3 6 106 5 3 6 106 5 3 6 106 5 3 6 106 5 3 6 5 3 6 106 5 3 6 5 3 6 106 5 3 6 5 3 6 106 5 3 6 5 3 6 106 5 3 6 5 3 6 106 5 3 6 5 3 6 106 5 3 6 106 5 3 6 106 5 3 6 141 4 4 4 4 4 4 4 4 1', 572: '90 125 106 5 90 6 5 3 90 90 90 90 6 125 91 125 125 136 49 24 47 50 122 54 5 19 3 5 19 3 13 24 45 45 5 108 90 3 106 5 55 108 90 54 4 141 106 5 3 6 106 5 3 6 106 5 3 6 106 5 3 6 106 5 3 6 106 5 3 6 106 5 3 6 106 5 3 6 106 5 3 6 5 108 90 6 5 45 108 90 3 3 6 91 5 108 90 3 19 6 91 5 3 6 106 5 3 6 106 5 3 6 5 3 6 106 5 3 6 106 5 3 6 106 5 3 6 106 5 3 6 106 5 3 6 106 5 3 6 5 3 6 106 5 3 6 5 3 6 106 5 3 6 5 3 6 106 5 3 6 5 3 6 106 5 3 6 5 3 6 106 5 3 6 5 3 6 106 5 3 6 106 5 3 6 106 5 3 6 141 4 4 4 4 4 4 4 4 1', 585: '90 125 106 5 90 6 5 3 90 90 90 90 6 125 91 125 125 136 49 24 47 50 122 54 5 19 3 5 19 3 13 24 45 45 5 108 90 3 3 106 5 55 108 90 54 4 141 106 5 3 6 106 5 3 6 106 5 3 6 106 5 3 6 106 5 3 6 106 5 3 6 106 5 3 6 106 5 3 6 106 5 3 6 5 108 90 6 5 45 108 90 3 3 6 91 5 108 90 3 19 6 91 5 3 6 106 5 3 6 106 5 3 6 5 3 6 106 5 3 6 106 5 3 6 106 5 3 6 106 5 3 6 106 5 3 6 106 5 3 6 5 3 6 106 5 3 6 5 3 6 106 5 3 6 5 3 6 106 5 3 6 5 3 6 106 5 3 6 5 3 6 106 5 3 6 5 3 6 106 5 3 6 106 5 3 6 106 5 3 6 141 4 1', 586: '90 125 106 5 90 6 5 3 90 90 90 90 6 125 91 125 125 136 49 24 47 50 122 54 5 19 3 5 19 3 13 45 45 5 108 90 3 3 106 5 55 108 90 54 4 141 106 5 3 6 5 108 90 6 5 45 108 90 3 3 6 91 5 108 90 3 19 6 91 5 3 6 106 5 3 6 5 3 6 106 5 3 6 5 3 6 106 5 3 6 5 3 6 106 5 3 6 5 3 6 106 5 3 6 5 3 6 106 5 3 6 5 3 6 106 5 3 6 5 3 6 106 5 3 6 5 3 6 106 5 3 6 5 3 6 106 5 3 6 5 3 6 106 45 5 3 6 5 3 6 106 5 3 6 5 3 6 106 5 3 6 5 3 6 106 5 3 6 5 3 6 106 5 3 6 5 3 6 106 5 3 6 5 3 6 106 5 3 6 5 3 6 106 5 3 6 5 3 6 106 5 3 6 5 3 6 106 5 3 6 5 3 6 106 5 3 6 5 3 6 106 5 3 6 5 3 6 106 5 3 6 5 3 6 106 5 3 6 5 3 6 141 4 1', 592: '90 125 106 5 90 6 5 3 90 90 90 90 6 125 91 125 125 136 49 24 47 50 122 54 5 19 3 5 19 3 13 24 45 45 5 108 90 3 3 106 5 55 108 90 54 4 141 106 106 106 106 106 106 106 106 106 106 106 106 106 106 106 106 106 106 106 106 106 5 3 6 5 108 90 6 5 45 108 90 3 3 6 91 5 108 90 3 19 6 91 5 3 6 106 106 5 3 6 5 3 6 106 106 5 3 6 5 3 6 106 106 141 4 4 4 1', 593: '90 125 106 5 90 6 5 3 90 90 90 90 6 125 91 125 125 136 49 24 47 50 122 54 5 19 3 5 19 3 13 45 45 5 108 90 3 3 106 5 55 108 90 54 4 141 106 5 3 6 5 108 90 6 5 45 108 90 3 3 6 91 5 108 90 3 19 6 91 5 3 6 106 5 3 6 5 3 6 106 5 3 6 5 3 6 106 5 3 6 5 3 6 106 5 3 6 5 3 6 106 5 3 6 5 3 6 106 5 3 6 5 3 6 106 5 3 6 5 3 6 106 5 3 6 5 3 6 106 5 3 6 5 3 6 106 5 3 6 5 3 6 106 45 5 3 6 5 3 6 106 5 3 6 5 3 6 106 5 3 6 5 3 6 106 5 3 6 5 3 6 106 5 3 6 5 3 6 106 5 3 6 5 3 6 106 5 3 6 5 3 6 106 5 3 6 5 3 6 106 5 3 6 5 3 6 106 5 3 6 5 108 90 3 19 6 91 5 3 6 106 5 3 6 5 3 6 106 5 3 6 5 3 6 106 5 3 6 5 3 6 106 5 3 6 5 3 6 106 5 3 6 5 3 6 106 45 5 3 6 5 3 6 141 5 3 6 13 4 4 4 1', 630: '136 49 24 47 50 67 27 67 67 97 122 45 45 45 5 106 106 106 106 106 6 6 6 6 6 6 6 6 6 6 6 6 6 6 6 6 6 6 6 6 6 6 6 6 6 6 6 6 6 6 6 6 6 6 6 6 6 6 6 6 6 6 6 6 6 6 6 6 6 6 6 6 6 6 6 6 6 6 6 6 6 6 6 6 6 6 6 6 6 6 6 6 6 6 6 6 6 6 6 6 6 6 6 6 6 6 6 6 6 6 6 6 6 6 6 6 6 6 6 6 6 6 6 6 6 6 6 6 6 6 6 6 6 6 6 6 6 6 6 6 6 6 6 6 6 6 6 6 6 6 6 6 6 6 6 6 6 6 6 6 6 6 6 6 6 6 6 6 6 6 6 6 6 6 6 6 6 6 6 6 6 6 6 6 6 6 6 6 6 6 6 6 6 6 6 6 6 6 6 6 6 6 6 6 6 6 6 6 6 6 6 6 6 6 6 6 6 6 6 6 6 6 6 6 6 6 6 6 6 6 6 6 6 6 6 6 6 6 6 6 6 6 6 6 6 6 6 6 6 6 6 6 6 6 6 6 6 6 6 6 6 6 6 6 6 6 6 6 6 6 6 6 6 6 54 108 106 5 55 45 141 141 141 141 106 6 57 54 16 15 54 67 111 67 66 5 6 6 6 63 63 63 6 54 5 45 108 90 3 3 6 91 5 108 90 3 19 6 91 5 5 3 3 3 3 3 6 97 5 55 108 90 54 19 91 54 54 54 4 3 3 3 3 3 3 3 4 54 6 97 27 24 50 71 70 33 23 70 71 20 5 3 3 3 3 6 13 5 3 3 3 3 19 4 6 5 143 4 143 6 5 5 108 90 3 19 6 91 16 15 46 49 5 108 90 3 3 6 91 5 5 81 102 102 13 5 3 6 13 4 5 67 3 67 6 106 67 67 67 67 67 23 12 11', 784: '136 49 24 47 50 67 27 67 67 97 122 45 45 45 5 106 106 106 106 106 6 6 6 6 6 6 6 6 6 6 6 6 6 6 6 6 6 6 6 6 6 6 6 6 6 6 6 6 6 6 6 6 6 6 6 6 6 6 6 6 6 6 6 6 6 6 6 6 6 6 6 6 6 6 6 6 6 6 6 6 6 6 6 6 6 6 6 6 6 6 6 6 6 6 6 6 6 6 6 6 6 6 6 6 6 6 6 6 6 6 6 6 6 6 6 6 6 6 6 6 6 6 6 6 6 6 6 6 6 6 6 6 6 6 6 6 6 6 6 6 6 6 6 6 6 6 6 6 6 6 6 6 6 6 6 6 6 6 6 6 6 6 6 6 6 6 6 6 6 6 6 6 6 6 6 6 6 6 6 6 6 6 6 6 6 6 6 6 6 6 6 6 6 6 6 6 6 6 6 6 6 6 6 6 6 6 6 6 6 6 6 6 6 6 6 6 6 6 6 6 6 6 6 6 6 6 6 6 6 6 6 6 6 6 6 6 6 6 6 6 6 6 6 6 6 6 6 6 6 6 6 6 6 6 6 6 6 6 6 6 6 6 6 6 6 6 6 6 6 6 6 6 6 6 54 108 106 5 55 45 141 141 141 141 106 6 57 54 16 15 54 67 111 67 66 5 6 6 6 63 63 63 6 54 5 45 108 90 3 3 6 91 5 108 90 3 19 6 91 5 5 97 5 55 108 90 54 19 91 54 54 54 4 3 3 3 3 3 3 3 4 54 6 97 27 24 50 71 70 33 23 70 71 20 5 3 3 3 3 6 13 5 3 3 3 3 19 4 6 5 143 4 143 6 5 5 108 90 3 19 6 91 16 15 46 49 5 108 90 3 3 6 91 5 5 81 5 67 3 67 6 106 67 67 67 67 67 23 12 11', 801: '136 49 24 47 50 67 27 67 67 97 122 45 45 45 5 106 106 106 106 106 6 6 6 6 6 6 6 6 6 6 6 6 6 6 6 6 6 6 6 6 6 6 6 6 6 6 6 6 6 6 6 6 6 6 6 6 6 6 6 6 6 6 6 6 6 6 6 6 6 6 6 6 6 6 6 6 6 6 6 6 6 6 6 6 6 6 6 6 6 6 6 6 6 6 6 6 6 6 6 6 6 6 6 6 6 6 6 6 6 6 6 6 6 6 6 6 6 6 6 6 6 6 6 6 6 6 6 6 6 6 6 6 6 6 6 6 6 6 6 6 6 6 6 6 6 6 6 6 6 6 6 6 6 6 6 6 6 6 6 6 6 6 6 6 6 6 6 6 6 6 6 6 6 6 6 6 6 6 6 6 6 6 6 6 6 6 6 6 6 6 6 6 6 6 6 6 6 6 6 6 6 6 6 6 6 6 6 6 6 6 6 6 6 6 6 6 6 6 6 6 6 6 6 6 6 6 6 6 6 6 6 6 6 6 6 6 6 6 6 6 6 6 6 6 6 6 6 6 6 6 6 6 6 6 6 6 6 6 6 6 6 6 6 6 6 6 6 6 6 6 6 6 6 6 54 108 106 5 55 45 141 141 141 141 106 6 57 54 16 15 54 67 111 67 66 5 6 6 6 63 63 63 6 54 5 45 108 90 3 3 6 91 5 108 90 3 19 6 91 97 5 55 108 90 54 19 91 54 54 54 4 3 3 3 3 3 3 3 4 54 6 97 27 24 50 71 70 33 23 70 71 5 108 90 3 19 6 91 16 15 46 49 5 108 90 3 3 6 91 5 5 81 5 67 3 67 6 106 67 67 67 67 67 23 12 11', 816: '136 49 24 47 50 67 27 67 67 97 122 45 45 45 5 106 106 106 106 106 6 6 6 6 6 6 6 6 6 6 6 6 6 6 6 6 6 6 6 6 6 6 6 6 6 6 6 6 6 6 6 6 6 6 6 6 6 6 6 6 6 6 6 6 6 6 6 6 6 6 6 6 6 6 6 6 6 6 6 6 6 6 6 6 6 6 6 6 6 6 6 6 6 6 6 6 6 6 6 6 6 6 6 6 6 6 6 6 6 6 6 6 6 6 6 6 6 6 6 6 6 6 6 6 6 6 6 6 6 6 6 6 6 6 6 6 6 6 6 6 6 6 6 6 6 6 6 6 6 6 6 6 6 6 6 6 6 6 6 6 6 6 6 6 6 6 6 6 6 6 6 6 6 6 6 6 6 6 6 6 6 6 6 6 6 6 6 6 6 6 6 6 6 6 6 6 6 6 6 6 6 6 6 6 6 6 6 6 6 6 6 6 6 6 6 6 6 6 6 6 6 6 6 6 6 6 6 6 6 6 6 6 6 6 6 6 6 6 6 6 6 6 6 6 6 6 6 6 6 6 6 6 6 6 6 6 6 6 6 6 6 6 6 6 6 6 6 6 6 6 6 6 6 6 54 108 106 5 55 45 141 141 141 141 106 6 57 54 16 15 54 67 111 67 66 5 6 6 6 63 63 63 6 54 5 45 108 90 3 3 6 91 5 108 90 3 19 6 91 5 5 97 5 55 108 90 54 19 91 54 54 54 4 3 3 3 3 3 3 3 4 54 6 97 27 24 50 71 70 33 23 70 71 20 5 3 3 3 3 6 13 5 3 3 3 3 19 4 6 5 143 4 143 6 5 5 108 90 3 19 6 91 16 15 46 49 5 108 90 3 3 6 91 5 5 81 5 67 3 67 6 106 67 67 67 67 67 23 12 11', 828: '136 49 24 47 50 67 27 67 67 97 122 45 45 45 5 106 106 106 106 106 6 6 6 6 6 6 6 6 6 6 6 6 6 6 6 6 6 6 6 6 6 6 6 6 6 6 6 6 6 6 6 6 6 6 6 6 6 6 6 6 6 6 6 6 6 6 6 6 6 6 6 6 6 6 6 6 6 6 6 6 6 6 6 6 6 6 6 6 6 6 6 6 6 6 6 6 6 6 6 6 6 6 6 6 6 6 6 6 6 6 6 6 6 6 6 6 6 6 6 6 6 6 6 6 6 6 6 6 6 6 6 6 6 6 6 6 6 6 6 6 6 6 6 6 6 6 6 6 6 6 6 6 6 6 6 6 6 6 6 6 6 6 6 6 6 6 6 6 6 6 6 6 6 6 6 6 6 6 6 6 6 6 6 6 6 6 6 6 6 6 6 6 6 6 6 6 6 6 6 6 6 6 6 6 6 6 6 6 6 6 6 6 6 6 6 6 6 6 6 6 6 6 6 6 6 6 6 6 6 6 6 6 6 6 6 6 6 6 6 6 6 6 6 6 6 6 6 6 6 6 6 6 6 6 6 6 6 6 6 6 6 6 6 6 6 6 6 6 6 6 6 6 6 6 54 108 106 5 55 45 141 141 141 141 106 6 57 54 16 15 54 67 111 67 66 5 6 6 6 63 63 63 6 54 5 45 108 90 3 3 6 91 5 108 90 3 19 6 91 5 5 3 3 3 3 3 6 97 5 55 108 90 54 19 91 54 54 54 4 3 3 3 3 3 3 3 4 54 6 97 27 24 50 71 70 33 23 70 71 20 5 3 3 3 3 6 13 5 3 3 3 3 19 4 6 5 143 4 143 6 5 5 108 90 3 19 6 91 16 15 46 49 5 108 90 3 3 6 91 5 5 81 102 102 13 5 3 6 13 4 5 67 3 67 6 106 67 67 67 67 67 23 12 11', 336: '90 125 106 5 90 6 5 3 90 90 90 90 6 125 91 125 125 136 49 24 47 50 45 45 5 122 54 5 19 3 5 19 3 13 106 5 55 108 90 141 106 5 3 6 5 108 90 6 5 45 108 90 3 3 6 91 5 108 90 3 19 6 91 5 3 6 106 5 3 6 5 3 6 106 5 3 6 5 3 6 106 5 3 6 5 3 6 106 5 3 6 5 3 6 106 5 3 6 5 3 6 106 5 3 6 5 3 6 106 5 3 6 5 3 6 106 5 3 6 5 3 6 106 45 5 3 6 5 3 6 106 5 3 6 5 3 6 106 5 3 6 5 3 6 106 5 3 6 5 3 6 106 5 3 6 5 3 6 106 5 3 6 5 3 6 106 5 3 6 5 3 6 106 5 3 6 5 3 6 106 5 3 6 5 3 6 106 5 3 6 5 3 6 106 5 3 6 5 3 6 106 5 3 6 5 3 6 106 5 3 6 5 3 6 106 5 3 6 5 3 6 106 5 3 6 5 3 6 45 106 5 3 6 5 3 6 106 5 3 6 5 3 6 106 5 3 6 5 3 6 106 5 3 6 5 3 6 106 5 3 6 5 3 6 106 5 3 6 5 3 6 106 5 3 6 5 3 6 106 5 3 6 5 3 6 106 5 3 6 5 3 6 106 5 3 6 5 3 6 106 5 3 6 5 3 6 106 5 3 6 5 3 6 106 5 3 6 5 3 6 106 45 5 3 6 5 3 6 106 5 3 6 5 3 6 141 106 5 3 6 5 3 6 106 5 3 6 5 3 6 106 5 3 6 5 3 6 106 5 3 6 5 3 6 106 5 3 6 5 3 6 141 5 3 6 13 4 1', 398: '90 125 106 5 90 6 5 3 90 90 90 90 6 125 91 125 125 136 49 24 47 50 45 45 5 122 54 5 19 3 5 19 3 13 106 5 55 108 90 141 106 5 3 6 5 108 90 6 5 45 108 90 3 3 6 91 5 108 90 3 19 6 91 5 3 6 106 5 3 6 5 3 6 106 5 3 6 5 3 6 106 5 3 6 5 3 6 106 5 3 6 5 3 6 106 5 3 6 5 3 6 106 5 3 6 5 3 6 106 5 3 6 5 3 6 106 5 3 6 5 3 6 106 45 5 3 6 5 3 6 106 5 3 6 5 3 6 106 5 3 6 5 3 6 106 5 3 6 5 3 6 106 5 3 6 5 3 6 106 5 3 6 5 3 6 106 5 3 6 5 3 6 106 5 3 6 5 3 6 106 5 3 6 5 3 6 106 5 3 6 5 3 6 106 5 3 6 5 3 6 106 5 3 6 5 3 6 106 5 3 6 5 3 6 106 5 3 6 5 3 6 106 5 3 6 5 3 6 106 45 5 3 6 5 3 6 106 5 3 6 5 3 6 106 5 3 6 5 3 6 106 5 3 6 5 3 6 106 5 3 6 5 3 6 106 5 3 6 5 3 6 106 5 3 6 5 3 6 106 5 3 6 5 3 6 106 5 3 6 5 3 6 106 5 3 6 5 3 6 106 5 3 6 5 3 6 106 5 3 6 5 3 6 106 5 3 6 5 3 6 106 45 5 3 6 5 3 6 106 5 3 6 5 3 6 141 106 5 3 6 5 3 6 106 5 3 6 5 3 6 106 5 3 6 5 3 6 106 5 3 6 5 3 6 106 5 3 6 5 3 6 106 5 3 6 5 3 6 106 5 3 6 5 3 6 106 5 3 6 5 3 6 106 5 3 6 5 3 6 141 5 3 6 13 4 1', 780: '90 125 106 5 90 6 5 3 90 90 90 90 6 125 91 125 125 136 49 24 47 50 45 45 5 122 54 5 19 3 5 19 3 13 106 5 55 108 90 54 4 141 106 5 3 6 5 108 90 6 5 45 108 90 3 3 6 91 5 108 90 3 19 6 91 5 3 6 106 5 3 6 5 3 6 106 5 3 6 5 3 6 106 5 3 6 5 3 6 106 5 3 6 5 3 6 106 5 3 6 5 3 6 106 5 3 6 5 3 6 106 5 3 6 5 3 6 106 5 3 6 5 3 6 106 45 5 3 6 5 3 6 106 5 3 6 5 3 6 106 5 3 6 5 3 6 106 5 3 6 5 3 6 106 5 3 6 5 3 6 106 5 3 6 5 3 6 106 5 3 6 5 3 6 106 5 3 6 5 3 6 106 5 3 6 5 3 6 106 5 3 6 5 3 6 106 5 3 6 5 3 6 106 5 3 6 5 3 6 106 5 3 6 5 3 6 106 5 3 6 5 3 6 106 5 3 6 5 3 6 45 141 5 3 6 13 4 4 4 4 4 4 4 4 4 4 4 4 4 4 4 4 4 4 4 4 4 4 4 4 1', 798: '90 125 106 5 90 6 5 3 90 90 90 90 6 125 91 125 125 136 49 24 47 50 45 45 5 122 54 5 19 3 5 19 3 13 24 106 5 55 108 90 54 4 141 106 106 106 106 106 106 106 106 106 5 3 6 5 108 90 6 5 45 108 90 3 3 6 91 5 108 90 3 19 6 91 5 3 6 106 106 5 3 6 5 3 6 106 106 106 106 106 106 106 106 106 106 106 106 106 141 4 4 1', 799: '90 125 106 5 90 6 5 3 90 90 90 90 6 125 91 125 125 136 49 24 47 50 45 45 5 122 54 5 19 3 5 19 3 13 106 5 55 108 90 54 4 141 106 5 3 6 5 108 90 6 5 45 108 90 3 3 6 91 5 108 90 3 19 6 91 5 3 6 106 5 3 6 5 3 6 106 5 3 6 5 3 6 106 5 3 6 5 3 6 106 5 3 6 5 3 6 106 5 3 6 5 3 6 106 5 3 6 5 3 6 106 5 3 6 5 3 6 106 5 3 6 5 108 90 3 19 6 91 5 3 6 106 45 5 3 6 5 3 6 106 5 3 6 5 3 6 106 5 3 6 5 3 6 106 5 3 6 5 3 6 106 5 3 6 5 3 6 106 5 3 6 5 3 6 106 5 3 6 5 3 6 106 5 3 6 5 3 6 106 5 3 6 5 3 6 106 5 3 6 5 3 6 106 5 3 6 5 3 6 106 5 3 6 5 3 6 106 5 3 6 5 3 6 106 5 3 6 5 3 6 106 45 5 3 6 5 3 6 141 5 3 6 13 4 4 4 4 4 4 4 4 4 4 4 4 4 4 4 4 4 4 4 4 4 4 4 4 1', 813: '90 125 106 5 90 6 5 3 90 90 90 90 6 125 91 125 125 136 49 24 47 50 45 45 5 122 54 5 19 3 5 19 3 13 24 106 5 55 108 90 54 4 141 106 5 3 6 106 5 3 6 106 5 3 6 106 5 3 6 106 5 3 6 106 5 3 6 106 5 3 6 106 5 3 6 106 5 3 6 5 108 90 6 5 45 108 90 3 3 6 91 5 108 90 3 19 6 91 5 3 6 106 5 3 6 106 5 3 6 5 3 6 106 5 3 6 106 5 3 6 106 5 3 6 106 5 3 6 106 5 3 6 106 5 3 6 106 5 3 6 5 3 6 106 5 3 6 5 3 6 106 5 3 6 5 3 6 106 5 3 6 5 3 6 106 5 3 6 5 3 6 106 5 3 6 106 5 3 6 141 4 4 4 4 4 4 4 1'}\n"
          ]
        }
      ]
    },
    {
      "cell_type": "code",
      "metadata": {
        "id": "NsCcWNeDl0B7",
        "outputId": "38a158ea-7820-446d-a157-c00f7ac24f47",
        "colab": {
          "base_uri": "https://localhost:8080/"
        }
      },
      "source": [
        "normal_seq_per_pid"
      ],
      "execution_count": 35,
      "outputs": [
        {
          "output_type": "execute_result",
          "data": {
            "text/plain": [
              "{150: '90 125 106 5 90 6 5 3 90 90 90 90 6 125 91 125 125 136 49 24 47 50 122 54 5 19 3 5 19 3 13 45 45 106 5 55 108 90 141 106 5 3 6 5 108 90 6 5 45 108 90 3 3 6 91 5 108 90 3 19 6 91 5 3 6 106 5 3 6 5 3 6 106 5 3 6 5 3 6 106 5 3 6 5 3 6 106 5 3 6 5 3 6 106 5 3 6 5 3 6 106 5 3 6 5 3 6 106 45 5 3 6 5 3 6 106 5 3 6 5 3 6 106 5 3 6 5 3 6 106 5 3 6 5 3 6 106 5 3 6 5 3 6 106 5 3 6 5 3 6 141 5 3 6 13 4 1 90 125 106 5 90 6 5 3 90 90 90 90 6 125 91 125 125 136 49 24 47 50 122 54 5 19 3 5 19 3 13 45 45 106 5 55 108 90 141 106 5 3 6 5 108 90 6 5 45 108 90 3 3 6 91 5 108 90 3 19 6 91 5 3 6 106 5 3 6 5 3 6 106 5 3 6 5 3 6 106 5 3 6 5 3 6 106 5 3 6 5 3 6 106 5 3 6 5 3 6 106 5 3 6 5 3 6 106 45 5 3 6 5 3 6 106 5 3 6 5 3 6 106 5 3 6 5 3 6 106 5 3 6 5 3 6 106 5 3 6 5 3 6 106 5 3 6 5 3 6 141 5 3 6 13 4 1',\n",
              " 159: '90 125 106 5 90 6 5 3 90 90 90 90 6 125 91 125 125 136 49 24 47 50 122 54 5 19 3 5 19 3 13 45 45 106 5 55 108 90 141 106 5 3 6 5 108 90 6 5 45 108 90 3 3 6 91 5 108 90 3 19 6 91 5 3 6 106 5 3 6 5 3 6 106 5 3 6 5 3 6 106 5 3 6 5 3 6 106 5 3 6 5 3 6 106 5 3 6 5 3 6 106 5 3 6 5 3 6 106 45 5 3 6 5 3 6 106 5 3 6 5 3 6 106 5 3 6 5 3 6 106 5 3 6 5 3 6 106 5 3 6 5 3 6 106 5 3 6 5 3 6 106 5 3 6 5 3 6 141 5 3 6 13 4 1 90 125 106 5 90 6 5 3 90 90 90 90 6 125 91 125 125 136 49 24 47 50 122 54 5 19 3 5 19 3 13 45 45 106 5 55 108 90 141 106 5 3 6 5 108 90 6 5 45 108 90 3 3 6 91 5 108 90 3 19 6 91 5 3 6 106 5 3 6 5 3 6 106 5 3 6 5 3 6 106 5 3 6 5 3 6 106 5 3 6 5 3 6 106 5 3 6 5 3 6 106 5 3 6 5 3 6 106 45 5 3 6 5 3 6 106 5 3 6 5 3 6 106 5 3 6 5 3 6 106 5 3 6 5 3 6 106 5 3 6 5 3 6 106 5 3 6 5 3 6 106 5 3 6 5 3 6 141 5 3 6 13 4 1',\n",
              " 170: '90 125 106 5 90 6 5 3 90 90 90 90 6 125 91 125 125 136 49 24 47 50 122 54 5 19 3 5 19 3 13 45 45 106 5 55 108 90 141 106 5 3 6 5 108 90 6 5 45 108 90 3 3 6 91 5 108 90 3 19 6 91 5 3 6 106 5 3 6 5 3 6 106 5 3 6 5 3 6 106 5 3 6 5 3 6 106 5 3 6 5 3 6 106 5 3 6 5 3 6 106 5 3 6 5 3 6 106 45 5 3 6 5 3 6 106 5 3 6 5 3 6 106 5 3 6 5 3 6 106 5 3 6 5 3 6 106 5 3 6 5 3 6 106 5 3 6 5 3 6 106 5 3 6 5 3 6 106 5 3 6 5 3 6 141 5 3 6 13 4 1 90 125 106 5 90 6 5 3 90 90 90 90 6 125 91 125 125 136 49 24 47 50 122 54 5 19 3 5 19 3 13 45 45 106 5 55 108 90 141 106 5 3 6 5 108 90 6 5 45 108 90 3 3 6 91 5 108 90 3 19 6 91 5 3 6 106 5 3 6 5 3 6 106 5 3 6 5 3 6 106 5 3 6 5 3 6 106 5 3 6 5 3 6 106 5 3 6 5 3 6 106 5 3 6 5 3 6 106 45 5 3 6 5 3 6 106 5 3 6 5 3 6 106 5 3 6 5 3 6 106 5 3 6 5 3 6 106 5 3 6 5 3 6 106 5 3 6 5 3 6 106 5 3 6 5 3 6 106 5 3 6 5 3 6 141 5 3 6 13 4 1',\n",
              " 182: '90 125 106 5 90 6 5 3 90 90 90 90 6 125 91 125 125 136 49 24 47 50 122 54 5 19 3 5 19 3 13 45 45 106 5 55 108 90 141 106 5 3 6 5 108 90 6 5 45 108 90 3 3 6 91 5 108 90 3 19 6 91 5 3 6 106 5 3 6 5 3 6 106 5 3 6 5 3 6 106 5 3 6 5 3 6 106 5 3 6 5 3 6 106 5 3 6 5 3 6 106 5 3 6 5 3 6 106 45 5 3 6 5 3 6 106 5 3 6 5 3 6 106 5 3 6 5 3 6 106 5 3 6 5 3 6 106 5 3 6 5 3 6 106 5 3 6 5 3 6 106 5 3 6 5 3 6 106 5 3 6 5 3 6 106 5 3 6 5 3 6 141 5 3 6 13 4 1 90 125 106 5 90 6 5 3 90 90 90 90 6 125 91 125 125 136 49 24 47 50 122 54 5 19 3 5 19 3 13 45 45 106 5 55 108 90 141 106 5 3 6 5 108 90 6 5 45 108 90 3 3 6 91 5 108 90 3 19 6 91 5 3 6 106 5 3 6 5 3 6 106 5 3 6 5 3 6 106 5 3 6 5 3 6 106 5 3 6 5 3 6 106 5 3 6 5 3 6 106 5 3 6 5 3 6 106 45 5 3 6 5 3 6 106 5 3 6 5 3 6 106 5 3 6 5 3 6 106 5 3 6 5 3 6 106 5 3 6 5 3 6 106 5 3 6 5 3 6 106 5 3 6 5 3 6 106 5 3 6 5 3 6 106 5 3 6 5 3 6 141 5 3 6 13 4 1',\n",
              " 193: '90 125 106 5 90 6 5 3 90 90 90 90 6 125 91 125 125 136 49 24 47 50 122 54 5 19 3 5 19 3 13 45 45 106 5 55 108 90 141 106 5 3 6 5 108 90 6 5 45 108 90 3 3 6 91 5 108 90 3 19 6 91 5 3 6 106 5 3 6 5 3 6 106 5 3 6 5 3 6 106 5 3 6 5 3 6 106 5 3 6 5 3 6 106 5 3 6 5 3 6 106 5 3 6 5 3 6 106 45 5 3 6 5 3 6 106 5 3 6 5 3 6 106 5 3 6 5 3 6 106 5 3 6 5 3 6 106 5 3 6 5 3 6 106 5 3 6 5 3 6 106 5 3 6 5 3 6 106 5 3 6 5 3 6 106 5 3 6 5 3 6 106 5 3 6 5 3 6 141 5 3 6 13 4 1 90 125 106 5 90 6 5 3 90 90 90 90 6 125 91 125 125 136 49 24 47 50 122 54 5 19 3 5 19 3 13 45 45 106 5 55 108 90 141 106 5 3 6 5 108 90 6 5 45 108 90 3 3 6 91 5 108 90 3 19 6 91 5 3 6 106 5 3 6 5 3 6 106 5 3 6 5 3 6 106 5 3 6 5 3 6 106 5 3 6 5 3 6 106 5 3 6 5 3 6 106 5 3 6 5 3 6 106 45 5 3 6 5 3 6 106 5 3 6 5 3 6 106 5 3 6 5 3 6 106 5 3 6 5 3 6 106 5 3 6 5 3 6 106 5 3 6 5 3 6 106 5 3 6 5 3 6 106 5 3 6 5 3 6 106 5 3 6 5 3 6 106 5 3 6 5 3 6 141 5 3 6 13 4 1',\n",
              " 325: '90 125 106 5 90 6 5 3 90 90 90 90 6 125 91 125 125 136 49 24 47 50 122 54 5 19 3 5 19 3 13 45 45 106 5 55 108 90 141 106 5 3 6 5 108 90 6 5 45 108 90 3 3 6 91 5 108 90 3 19 6 91 5 3 6 106 5 3 6 5 3 6 106 5 3 6 5 3 6 106 5 3 6 5 3 6 106 5 3 6 5 3 6 106 5 3 6 5 3 6 106 5 3 6 5 3 6 106 45 5 3 6 5 3 6 106 5 3 6 5 3 6 106 5 3 6 5 3 6 106 5 3 6 5 3 6 106 5 3 6 5 3 6 106 5 3 6 5 3 6 106 5 3 6 5 3 6 106 5 3 6 5 3 6 106 5 3 6 5 3 6 106 5 3 6 5 3 6 106 5 3 6 5 3 6 106 5 3 6 5 3 6 106 5 3 6 5 3 6 106 5 3 6 5 3 6 106 5 3 6 5 3 6 106 45 5 3 6 5 3 6 106 5 3 6 5 3 6 106 5 3 6 5 3 6 106 5 3 6 5 3 6 106 5 3 6 5 3 6 106 5 3 6 5 3 6 106 5 3 6 5 3 6 106 5 3 6 5 3 6 106 5 3 6 5 3 6 106 5 3 6 5 3 6 106 5 3 6 5 3 6 106 5 3 6 5 3 6 106 45 5 3 6 5 3 6 106 5 3 6 5 3 6 106 5 3 6 5 3 6 106 5 3 6 5 3 6 106 5 3 6 5 3 6 141 106 5 3 6 5 3 6 106 5 3 6 5 3 6 106 5 3 6 5 3 6 141 5 3 6 13 4 1',\n",
              " 326: '90 125 106 5 90 6 5 3 90 90 90 90 6 125 91 125 125 136 49 24 47 50 122 54 5 19 3 5 19 3 13 45 45 106 5 55 108 90 141 106 5 3 6 5 108 90 6 5 45 108 90 3 3 6 91 5 108 90 3 19 6 91 5 3 6 106 5 3 6 5 3 6 106 5 3 6 5 3 6 106 5 3 6 5 3 6 106 5 3 6 5 3 6 106 5 3 6 5 3 6 106 5 3 6 5 3 6 106 45 5 3 6 5 3 6 106 5 3 6 5 3 6 106 5 3 6 5 3 6 106 5 3 6 5 3 6 106 5 3 6 5 3 6 106 5 3 6 5 3 6 106 5 3 6 5 3 6 106 5 3 6 5 3 6 106 5 3 6 5 3 6 106 5 3 6 5 3 6 106 5 3 6 5 3 6 106 5 3 6 5 3 6 106 5 3 6 5 3 6 106 5 3 6 5 3 6 106 5 3 6 5 3 6 45 106 5 3 6 5 3 6 106 5 3 6 5 3 6 106 5 3 6 5 3 6 106 5 3 6 5 3 6 106 5 3 6 5 3 6 106 5 3 6 5 3 6 106 5 3 6 5 3 6 106 5 3 6 5 3 6 106 5 3 6 5 3 6 106 5 3 6 5 3 6 106 5 3 6 5 3 6 106 5 3 6 5 3 6 106 5 3 6 5 3 6 106 45 5 3 6 5 3 6 106 5 3 6 5 3 6 106 5 3 6 5 3 6 106 5 3 6 5 3 6 141 106 5 3 6 5 3 6 106 5 3 6 5 3 6 141 5 3 6 13 4 1',\n",
              " 387: '90 125 106 5 90 6 5 3 90 90 90 90 6 125 91 125 125 136 49 24 47 50 122 54 5 19 3 5 19 3 13 45 45 106 5 55 108 90 141 106 5 3 6 5 108 90 6 5 45 108 90 3 3 6 91 5 108 90 3 19 6 91 5 3 6 106 5 3 6 5 3 6 106 5 3 6 5 3 6 106 5 3 6 5 3 6 106 5 3 6 5 3 6 106 5 3 6 5 3 6 106 5 3 6 5 3 6 106 45 5 3 6 5 3 6 106 5 3 6 5 3 6 106 5 3 6 5 3 6 106 5 3 6 5 3 6 106 5 3 6 5 3 6 106 5 3 6 5 3 6 106 5 3 6 5 3 6 106 5 3 6 5 3 6 106 5 3 6 5 3 6 106 5 3 6 5 3 6 106 5 3 6 5 3 6 106 5 3 6 5 3 6 106 5 3 6 5 3 6 106 5 3 6 5 3 6 106 5 3 6 5 3 6 106 45 5 3 6 5 3 6 106 5 3 6 5 3 6 106 5 3 6 5 3 6 106 5 3 6 5 3 6 106 5 3 6 5 3 6 106 5 3 6 5 3 6 106 5 3 6 5 3 6 106 5 3 6 5 3 6 106 5 3 6 5 3 6 106 5 3 6 5 3 6 106 5 3 6 5 3 6 106 5 3 6 5 3 6 106 5 3 6 5 3 6 106 45 5 3 6 5 3 6 106 5 3 6 5 3 6 106 5 3 6 5 3 6 106 141 106 5 3 6 5 3 6 141 5 3 6 13 4 1',\n",
              " 395: '90 125 106 5 90 6 5 3 90 90 90 90 6 125 91 125 125 136 49 24 47 50 122 54 5 19 3 5 19 3 13 45 45 106 5 55 108 90 141 106 5 3 6 5 108 90 6 5 45 108 90 3 3 6 91 5 108 90 3 19 6 91 5 3 6 106 5 3 6 5 3 6 106 5 3 6 5 3 6 106 5 3 6 5 3 6 106 5 3 6 5 3 6 106 5 3 6 5 3 6 106 5 3 6 5 3 6 106 45 5 3 6 5 3 6 106 5 3 6 5 3 6 106 5 3 6 5 3 6 106 5 3 6 5 3 6 106 5 3 6 5 3 6 106 5 3 6 5 3 6 106 5 3 6 5 3 6 106 5 3 6 5 3 6 106 5 3 6 5 3 6 106 5 3 6 5 3 6 106 5 3 6 5 3 6 106 5 3 6 5 3 6 106 5 3 6 5 3 6 106 5 3 6 5 3 6 106 5 3 6 5 3 6 45 106 5 3 6 5 3 6 106 5 3 6 5 3 6 106 5 3 6 5 3 6 106 5 3 6 5 3 6 106 5 3 6 5 3 6 106 5 3 6 5 3 6 106 5 3 6 5 3 6 106 5 3 6 5 3 6 106 5 3 6 5 3 6 106 5 3 6 5 3 6 106 5 3 6 5 3 6 106 5 3 6 5 3 6 106 5 3 6 5 3 6 106 45 5 3 6 5 3 6 106 5 3 6 5 3 6 106 5 3 6 5 3 6 106 5 3 6 5 3 6 141 106 5 3 6 5 3 6 106 5 3 6 5 3 6 106 5 3 6 5 3 6 106 5 3 6 5 3 6 106 5 3 6 5 3 6 106 5 3 6 5 3 6 106 5 3 6 5 3 6 106 5 3 6 5 3 6 106 45 5 3 6 5 3 6 106 5 3 6 5 3 6 106 5 3 6 5 3 6 106 5 3 6 5 3 6 106 5 3 6 5 3 6 106 5 3 6 5 3 6 106 5 3 6 5 3 6 141 5 3 6 13 4 1',\n",
              " 484: '90 125 106 5 90 6 5 3 90 90 90 90 6 125 91 125 125 136 49 24 47 50 122 54 5 19 3 5 19 3 13 24 45 45 106 5 55 108 90 54 4 141 106 5 3 6 106 5 3 6 106 5 3 6 106 5 3 6 106 5 3 6 106 5 3 6 106 5 3 6 106 5 3 6 5 108 90 6 5 45 108 90 3 3 6 91 5 108 90 3 19 6 91 5 3 6 106 5 3 6 5 3 6 106 5 3 6 106 5 3 6 106 5 3 6 106 5 3 6 106 5 3 6 106 5 3 6 106 5 3 6 106 5 3 6 5 3 6 106 5 3 6 5 3 6 106 5 3 6 5 3 6 106 5 3 6 5 3 6 106 5 3 6 5 3 6 106 45 5 3 6 5 3 6 106 5 3 6 106 5 3 6 106 5 3 6 141 4 4 4 4 4 4 4 4 1',\n",
              " 509: '90 125 106 5 90 6 5 3 90 90 90 6 5 3 90 90 90 6 125 5 3 90 90 90 6 125 5 3 90 90 90 90 6 125 91 125 125 125 125 136 49 24 47 50 67 27 67 67 97 122 45 45 5 106 106 106 106 106 6 6 6 6 6 6 6 6 6 6 6 6 6 6 6 6 6 6 6 6 6 6 6 6 6 6 6 6 6 6 6 6 6 6 6 6 6 6 6 6 6 6 6 6 6 6 6 6 6 6 6 6 6 6 6 6 6 6 6 6 6 6 6 6 6 6 6 6 6 6 6 6 6 6 6 6 6 6 6 6 6 6 6 6 6 6 6 6 6 6 6 6 6 6 6 6 6 6 6 6 6 6 6 6 6 6 6 6 6 6 6 6 6 6 6 6 6 6 6 6 6 6 6 6 6 6 6 6 6 6 6 6 6 6 6 6 6 6 6 6 6 6 6 6 6 6 6 6 6 6 6 6 6 6 6 6 6 6 6 6 6 6 6 6 6 6 6 6 6 6 6 6 6 6 6 6 6 6 6 6 6 6 6 6 6 6 6 6 6 6 6 6 6 6 6 6 6 6 6 6 6 6 6 6 6 6 6 6 6 6 6 6 6 6 6 6 6 6 6 6 6 6 6 6 6 6 6 6 6 6 6 6 6 6 6 6 6 6 6 6 6 6 6 6 6 6 6 6 6 6 6 6 6 6 54 108 106 5 55 45 141 141 141 141 106 6 57 54 16 15 54 67 111 67 66 5 6 6 6 63 63 63 6 54 106 5 108 90 3 106 5 90 6 5 3 90 90 90 6 125 91 106 5 90 6 5 3 90 90 90 6 125 5 3 90 90 90 90 6 125 91 106 5 90 6 5 3 90 90 90 6 125 91 106 5 90 6 5 3 90 90 90 90 6 125 91 3 6 91 5 108 90 3 106 5 90 6 5 3 90 90 90 6 125 91 3 6 91 5 45 108 90 3 3 6 91 5 108 90 3 19 6 91 5 108 90 3 3 6 91 76 75 24 5 108 90 3 19 6 91 13 13 13 13 13 13 13 13 13 5 5 13 54 54 13 4 54 3 54 4 5 108 90 3 19 6 91 13 13 13 13 13 13 13 13 13 5 5 13 76 75 5 5 108 90 3 3 6 91 76 75 24 5 108 90 3 19 6 91 13 13 13 13 13 13 13 13 13 5 5 13 13 13 13 13 13 76 75 5 108 90 19 3 19 6 91 27 24 50 71 70 33 23 70 71 20 5 3 3 3 3 13 19 4 6 5 67 27 143 27 4 143 6 5 19 3 5 3 6 13 108 90 54 4 19 13 4 6 5 108 90 3 19 6 91 16 15 46 49 5 108 90 3 3 6 91 5 5 81 5 108 90 3 3 6 91 76 75 24 76 75 5 108 90 3 3 6 91 76 75 24 24 54 54 108 106 5 55 141 141 141 141 106 6 5 3 3 3 3 5 108 90 3 19 6 91 13 13 13 13 13 13 13 13 13 5 5 13 13 13 13 13 6 54 54 108 106 5 55 141 141 141 141 106 6 5 3 3 3 3 13 13 13 13 13 13 6 102 102 13 20 4 6 76 75 5 67 3 67 6 106 67 67 67 67 67 23 12 2 67 114 67 5 108 90 3 3 6 91 76 75 24 102 102 13 20 4 6 76 75 91 91 91 91 91 91 1',\n",
              " 510: '11',\n",
              " 531: '90 125 106 5 90 6 5 3 90 90 90 6 5 3 90 90 90 6 125 5 3 90 90 90 6 125 5 3 90 90 90 90 6 125 91 125 125 125 125 136 49 24 47 50 67 27 67 67 97 122 45 45 5 106 106 106 106 106 6 6 6 6 6 6 6 6 6 6 6 6 6 6 6 6 6 6 6 6 6 6 6 6 6 6 6 6 6 6 6 6 6 6 6 6 6 6 6 6 6 6 6 6 6 6 6 6 6 6 6 6 6 6 6 6 6 6 6 6 6 6 6 6 6 6 6 6 6 6 6 6 6 6 6 6 6 6 6 6 6 6 6 6 6 6 6 6 6 6 6 6 6 6 6 6 6 6 6 6 6 6 6 6 6 6 6 6 6 6 6 6 6 6 6 6 6 6 6 6 6 6 6 6 6 6 6 6 6 6 6 6 6 6 6 6 6 6 6 6 6 6 6 6 6 6 6 6 6 6 6 6 6 6 6 6 6 6 6 6 6 6 6 6 6 6 6 6 6 6 6 6 6 6 6 6 6 6 6 6 6 6 6 6 6 6 6 6 6 6 6 6 6 6 6 6 6 6 6 6 6 6 6 6 6 6 6 6 6 6 6 6 6 6 6 6 6 6 6 6 6 6 6 6 6 6 6 6 6 6 6 6 6 6 6 6 6 6 6 6 6 6 6 6 6 6 6 6 6 6 6 6 6 6 54 108 106 5 55 45 141 141 141 141 106 6 57 54 16 15 54 67 111 67 66 5 6 6 6 63 63 63 6 54 106 5 108 90 3 106 5 90 6 5 3 90 90 90 6 125 91 106 5 90 6 5 3 90 90 90 6 125 5 3 90 90 90 90 6 125 91 106 5 90 6 5 3 90 90 90 6 125 91 106 5 90 6 5 3 90 90 90 90 6 125 91 3 6 91 5 108 90 3 106 5 90 6 5 3 90 90 90 6 125 91 3 6 91 5 45 108 90 3 3 6 91 5 108 90 3 19 6 91 5 108 90 3 3 6 91 76 75 24 5 108 90 3 19 6 91 13 13 13 13 13 13 13 13 13 5 5 13 54 54 13 4 54 3 54 4 5 108 90 3 19 6 91 13 13 13 13 13 13 13 13 13 5 5 13 76 75 5 5 108 90 3 3 6 91 76 75 24 5 108 90 3 19 6 91 13 13 13 13 13 13 13 13 13 5 5 13 13 13 13 13 13 76 75 5 108 90 19 3 19 6 91 27 24 50 71 70 33 23 70 71 20 5 3 3 3 3 13 19 4 6 5 67 27 143 27 4 143 6 5 19 3 19 13 4 6 5 108 90 3 19 6 91 16 15 46 49 5 108 90 3 3 6 91 5 5 81 5 108 90 3 3 6 91 76 75 24 76 75 5 108 90 3 3 6 91 76 75 24 24 54 54 108 106 5 55 141 141 141 141 106 6 5 3 3 3 3 5 108 90 3 19 6 91 13 13 13 13 13 13 13 13 13 5 5 13 13 13 13 13 6 54 54 108 106 5 55 141 141 141 141 106 6 5 3 3 3 3 13 13 13 13 13 13 6 102 102 13 5 3 6 13 20 4 6 76 75 5 67 3 67 6 106 67 67 67 67 67 23 12 2 67 114 67 5 108 90 3 3 6 91 76 75 24 102 102 13 20 4 6 76 75 91 91 91 91 91 91 1',\n",
              " 598: '90 125 106 5 90 6 5 3 90 90 90 6 5 3 90 90 90 6 125 5 3 90 90 90 6 125 5 3 90 90 90 90 6 125 91 125 125 125 125 136 49 24 47 50 67 27 67 67 97 122 45 45 5 106 106 106 106 106 6 6 6 6 6 6 6 6 6 6 6 6 6 6 6 6 6 6 6 6 6 6 6 6 6 6 6 6 6 6 6 6 6 6 6 6 6 6 6 6 6 6 6 6 6 6 6 6 6 6 6 6 6 6 6 6 6 6 6 6 6 6 6 6 6 6 6 6 6 6 6 6 6 6 6 6 6 6 6 6 6 6 6 6 6 6 6 6 6 6 6 6 6 6 6 6 6 6 6 6 6 6 6 6 6 6 6 6 6 6 6 6 6 6 6 6 6 6 6 6 6 6 6 6 6 6 6 6 6 6 6 6 6 6 6 6 6 6 6 6 6 6 6 6 6 6 6 6 6 6 6 6 6 6 6 6 6 6 6 6 6 6 6 6 6 6 6 6 6 6 6 6 6 6 6 6 6 6 6 6 6 6 6 6 6 6 6 6 6 6 6 6 6 6 6 6 6 6 6 6 6 6 6 6 6 6 6 6 6 6 6 6 6 6 6 6 6 6 6 6 6 6 6 6 6 6 6 6 6 6 6 6 6 6 6 6 6 6 6 6 6 6 6 6 6 6 6 6 6 6 6 6 6 6 54 108 106 5 55 45 141 141 141 141 106 6 57 54 16 15 54 67 111 67 66 5 6 6 6 63 63 63 6 54 106 5 108 90 3 106 5 90 6 5 3 90 90 90 6 125 91 106 5 90 6 5 3 90 90 90 6 125 5 3 90 90 90 90 6 125 91 106 5 90 6 5 3 90 90 90 6 125 91 106 5 90 6 5 3 90 90 90 90 6 125 91 3 6 91 5 108 90 3 106 5 90 6 5 3 90 90 90 6 125 91 3 6 91 5 45 108 90 3 3 6 91 5 108 90 3 19 6 91 5 108 90 3 3 6 91 76 75 24 5 108 90 3 19 6 91 13 13 13 13 13 13 13 13 13 5 5 13 54 54 13 4 54 3 54 4 5 108 90 3 19 6 91 13 13 13 13 13 13 13 13 13 5 5 13 76 75 5 5 108 90 3 3 6 91 76 75 24 5 108 90 3 19 6 91 13 13 13 13 13 13 13 13 13 5 5 13 13 13 13 13 13 76 75 5 108 90 19 3 19 6 91 27 24 50 71 70 33 23 70 71 20 5 3 3 3 3 13 19 4 6 5 67 27 143 27 4 143 6 5 19 3 5 3 6 13 108 90 54 4 19 13 4 6 5 108 90 3 19 6 91 16 15 46 49 5 108 90 3 3 6 91 5 5 81 5 108 90 3 3 6 91 76 75 24 76 75 5 108 90 3 3 6 91 76 75 24 24 54 54 108 106 5 55 141 141 141 141 106 6 5 3 3 3 3 5 108 90 3 19 6 91 13 13 13 13 13 13 13 13 13 5 5 13 13 13 13 13 6 54 54 108 106 5 55 141 141 141 141 106 6 5 3 3 3 3 13 13 13 13 13 13 6 102 102 13 20 4 6 76 75 5 67 3 67 6 106 67 67 67 67 67 23 12 2 67 114 67 5 108 90 3 3 6 91 76 75 24 102 102 13 20 4 6 76 75 91 91 91 91 91 91 1',\n",
              " 625: '90 125 106 5 90 6 5 3 90 90 90 6 5 3 90 90 90 6 125 5 3 90 90 90 6 125 5 3 90 90 90 90 6 125 91 125 125 125 125 136 49 24 47 50 67 27 67 67 97 122 45 45 5 106 106 106 106 106 6 6 6 6 6 6 6 6 6 6 6 6 6 6 6 6 6 6 6 6 6 6 6 6 6 6 6 6 6 6 6 6 6 6 6 6 6 6 6 6 6 6 6 6 6 6 6 6 6 6 6 6 6 6 6 6 6 6 6 6 6 6 6 6 6 6 6 6 6 6 6 6 6 6 6 6 6 6 6 6 6 6 6 6 6 6 6 6 6 6 6 6 6 6 6 6 6 6 6 6 6 6 6 6 6 6 6 6 6 6 6 6 6 6 6 6 6 6 6 6 6 6 6 6 6 6 6 6 6 6 6 6 6 6 6 6 6 6 6 6 6 6 6 6 6 6 6 6 6 6 6 6 6 6 6 6 6 6 6 6 6 6 6 6 6 6 6 6 6 6 6 6 6 6 6 6 6 6 6 6 6 6 6 6 6 6 6 6 6 6 6 6 6 6 6 6 6 6 6 6 6 6 6 6 6 6 6 6 6 6 6 6 6 6 6 6 6 6 6 6 6 6 6 6 6 6 6 6 6 6 6 6 6 6 6 6 6 6 6 6 6 6 6 6 6 6 6 6 6 6 6 6 6 6 54 108 106 5 55 45 141 141 141 141 106 6 57 54 16 15 54 67 111 67 66 5 6 6 6 63 63 63 6 54 106 5 108 90 3 106 5 90 6 5 3 90 90 90 6 125 91 106 5 90 6 5 3 90 90 90 6 125 5 3 90 90 90 90 6 125 91 106 5 90 6 5 3 90 90 90 6 125 91 106 5 90 6 5 3 90 90 90 90 6 125 91 3 6 91 5 108 90 3 106 5 90 6 5 3 90 90 90 6 125 91 3 6 91 5 45 108 90 3 3 6 91 5 108 90 3 19 6 91 5 108 90 3 3 6 91 76 75 24 5 108 90 3 19 6 91 13 13 13 13 13 13 13 13 13 5 5 13 54 54 13 4 54 3 54 4 5 108 90 3 19 6 91 13 13 13 13 13 13 13 13 13 5 5 13 76 75 5 5 108 90 3 3 6 91 76 75 24 5 108 90 3 19 6 91 13 13 13 13 13 13 13 13 13 5 5 13 13 13 13 13 13 76 75 5 108 90 19 3 19 6 91 27 24 50 71 70 33 23 70 71 20 5 3 3 3 3 13 19 4 6 5 67 27 143 27 4 143 6 5 19 3 5 3 6 13 108 90 54 4 19 13 4 6 5 108 90 3 19 6 91 16 15 46 49 5 108 90 3 3 6 91 5 5 81 5 108 90 3 3 6 91 76 75 24 76 75 5 108 90 3 3 6 91 76 75 24 24 54 54 108 106 5 55 141 141 141 141 106 6 5 3 3 3 3 5 108 90 3 19 6 91 13 13 13 13 13 13 13 13 13 5 5 13 13 13 13 13 6 54 54 108 106 5 55 141 141 141 141 106 6 5 3 3 3 3 13 13 13 13 13 13 6 102 102 13 20 4 6 76 75 5 67 3 67 6 106 67 67 67 67 67 23 12 2 67 114 67 5 108 90 3 3 6 91 76 75 24 102 102 13 20 4 6 76 75 91 91 91 91 91 91 1',\n",
              " 725: '11',\n",
              " 738: '90 125 106 5 90 6 5 3 90 90 90 90 6 125 91 125 125 136 49 24 47 50 122 54 5 19 3 5 19 3 13 24 45 45 106 5 55 108 90 54 4 141 106 106 106 106 106 106 106 106 106 5 3 6 5 108 90 6 5 45 108 90 3 3 6 91 5 108 90 3 19 6 91 5 3 6 106 106 5 3 6 5 3 6 106 106 106 106 106 106 106 5 3 6 5 3 6 106 106 106 106 106 106 106 141 4 4 4 1',\n",
              " 979: '11',\n",
              " 999: '90 125 106 5 90 6 5 3 90 90 90 90 6 125 91 125 125 136 49 24 47 50 122 54 5 19 3 5 19 3 13 45 45 106 5 55 108 90 54 4 141 106 5 3 6 5 108 90 6 5 45 108 90 3 3 6 91 5 108 90 3 19 6 91 5 3 6 106 5 3 6 5 3 6 106 5 3 6 5 3 6 106 5 3 6 5 3 6 106 5 3 6 5 3 6 106 5 3 6 5 3 6 106 5 3 6 5 3 6 106 45 5 3 6 5 108 90 3 19 6 91 5 3 6 106 5 3 6 5 3 6 106 5 3 6 5 3 6 106 5 3 6 5 3 6 106 5 3 6 5 3 6 106 5 3 6 5 3 6 106 5 3 6 5 3 6 106 5 3 6 5 3 6 106 5 3 6 5 3 6 106 5 3 6 5 3 6 106 5 3 6 5 3 6 106 5 3 6 5 3 6 106 5 3 6 5 3 6 106 5 3 6 5 3 6 106 45 5 3 6 5 3 6 106 5 3 6 5 3 6 106 5 3 6 5 3 6 106 5 3 6 5 3 6 141 5 3 6 13 4 4 4 4 4 4 4 4 4 4 4 4 4 4 4 4 4 4 4 4 4 4 4 4 4 1',\n",
              " 1262: '90 125 106 5 90 6 5 3 90 90 90 6 5 3 90 90 90 6 125 5 3 90 90 90 6 125 5 3 90 90 90 90 6 125 91 125 125 125 125 136 49 24 47 50 67 27 67 67 97 122 45 45 5 106 106 106 106 106 6 6 6 6 6 6 6 6 6 6 6 6 6 6 6 6 6 6 6 6 6 6 6 6 6 6 6 6 6 6 6 6 6 6 6 6 6 6 6 6 6 6 6 6 6 6 6 6 6 6 6 6 6 6 6 6 6 6 6 6 6 6 6 6 6 6 6 6 6 6 6 6 6 6 6 6 6 6 6 6 6 6 6 6 6 6 6 6 6 6 6 6 6 6 6 6 6 6 6 6 6 6 6 6 6 6 6 6 6 6 6 6 6 6 6 6 6 6 6 6 6 6 6 6 6 6 6 6 6 6 6 6 6 6 6 6 6 6 6 6 6 6 6 6 6 6 6 6 6 6 6 6 6 6 6 6 6 6 6 6 6 6 6 6 6 6 6 6 6 6 6 6 6 6 6 6 6 6 6 6 6 6 6 6 6 6 6 6 6 6 6 6 6 6 6 6 6 6 6 6 6 6 6 6 6 6 6 6 6 6 6 6 6 6 6 6 6 6 6 6 6 6 6 6 6 6 6 6 6 6 6 6 6 6 6 6 6 6 6 6 6 6 6 6 6 6 6 6 6 6 6 6 6 6 54 108 106 5 55 45 141 141 141 141 106 6 57 54 16 15 54 67 111 67 66 5 6 6 6 63 63 63 6 54 106 5 108 90 3 106 5 90 6 5 3 90 90 90 6 125 91 106 5 90 6 5 3 90 90 90 6 125 5 3 90 90 90 90 6 125 91 106 5 90 6 5 3 90 90 90 6 125 91 106 5 90 6 5 3 90 90 90 90 6 125 91 3 6 91 5 108 90 3 106 5 90 6 5 3 90 90 90 6 125 91 3 6 91 5 45 108 90 3 3 6 91 5 108 90 3 19 6 91 5 108 90 3 3 6 91 76 75 24 5 108 90 3 19 6 91 13 13 13 13 13 13 13 13 13 5 5 13 54 54 13 4 54 3 54 4 5 108 90 3 19 6 91 13 13 13 13 13 13 13 13 13 5 5 13 76 75 5 5 108 90 3 3 6 91 76 75 24 5 108 90 3 19 6 91 13 13 13 13 13 13 13 13 13 5 5 13 13 13 13 13 13 76 75 5 108 90 19 3 19 6 91 27 24 50 71 70 33 23 70 71 20 5 3 3 3 3 13 19 4 6 5 67 27 143 27 4 143 6 5 19 3 5 3 6 13 108 90 54 4 19 13 4 6 5 108 90 3 19 6 91 16 15 46 49 5 108 90 3 3 6 91 5 5 81 5 108 90 3 3 6 91 76 75 24 76 75 5 108 90 3 3 6 91 76 75 24 24 54 54 108 106 5 55 141 141 141 141 106 6 5 3 3 3 3 5 108 90 3 19 6 91 13 13 13 13 13 13 13 13 13 5 5 13 13 13 13 13 6 54 54 108 106 5 55 141 141 141 141 106 6 5 3 3 3 3 13 13 13 13 13 13 6 102 102 13 20 4 6 76 75 5 67 3 67 6 106 67 67 67 67 67 23 12 2 67 114 67 5 108 90 3 3 6 91 76 75 24 102 102 13 20 4 6 76 75 91 91 91 91 91 91 1',\n",
              " 1705: '11',\n",
              " 2188: '90 125 106 5 90 6 5 3 90 90 90 6 5 3 90 90 90 6 125 5 3 90 90 90 6 125 5 3 90 90 90 90 6 125 91 125 125 125 125 136 49 24 47 50 67 27 67 67 97 122 45 45 5 106 106 106 106 106 6 6 6 6 6 6 6 6 6 6 6 6 6 6 6 6 6 6 6 6 6 6 6 6 6 6 6 6 6 6 6 6 6 6 6 6 6 6 6 6 6 6 6 6 6 6 6 6 6 6 6 6 6 6 6 6 6 6 6 6 6 6 6 6 6 6 6 6 6 6 6 6 6 6 6 6 6 6 6 6 6 6 6 6 6 6 6 6 6 6 6 6 6 6 6 6 6 6 6 6 6 6 6 6 6 6 6 6 6 6 6 6 6 6 6 6 6 6 6 6 6 6 6 6 6 6 6 6 6 6 6 6 6 6 6 6 6 6 6 6 6 6 6 6 6 6 6 6 6 6 6 6 6 6 6 6 6 6 6 6 6 6 6 6 6 6 6 6 6 6 6 6 6 6 6 6 6 6 6 6 6 6 6 6 6 6 6 6 6 6 6 6 6 6 6 6 6 6 6 6 6 6 6 6 6 6 6 6 6 6 6 6 6 6 6 6 6 6 6 6 6 6 6 6 6 6 6 6 6 6 6 6 6 6 6 6 6 6 6 6 6 6 6 6 6 6 6 6 6 6 6 6 6 6 54 108 106 5 55 45 141 141 141 141 106 6 57 54 16 15 54 67 111 67 66 5 6 6 6 63 63 63 6 54 106 5 108 90 3 106 5 90 6 5 3 90 90 90 6 125 91 106 5 90 6 5 3 90 90 90 6 125 5 3 90 90 90 90 6 125 91 106 5 90 6 5 3 90 90 90 6 125 91 106 5 90 6 5 3 90 90 90 90 6 125 91 3 6 91 5 108 90 3 106 5 90 6 5 3 90 90 90 6 125 91 3 6 91 5 45 108 90 3 3 6 91 5 108 90 3 19 6 91 5 108 90 3 3 6 91 76 75 24 5 108 90 3 19 6 91 13 13 13 13 13 13 13 13 13 5 5 13 54 54 13 4 54 3 54 4 5 108 90 3 19 6 91 13 13 13 13 13 13 13 13 13 5 5 13 76 75 5 5 108 90 3 3 6 91 76 75 24 5 108 90 3 19 6 91 13 13 13 13 13 13 13 13 13 5 5 13 13 13 13 13 13 76 75 5 108 90 19 3 19 6 91 27 24 50 71 70 33 23 70 71 20 5 3 3 3 3 13 19 4 6 5 67 27 143 27 4 143 6 5 19 3 5 3 6 13 108 90 54 4 19 13 4 6 5 108 90 3 19 6 91 16 15 46 49 5 108 90 3 3 6 91 5 5 81 5 108 90 3 3 6 91 76 75 24 76 75 5 108 90 3 3 6 91 76 75 24 24 54 54 108 106 5 55 141 141 141 141 106 6 5 3 3 3 3 5 108 90 3 19 6 91 13 13 13 13 13 13 13 13 13 5 5 13 13 13 13 13 6 54 54 108 106 5 55 141 141 141 141 106 6 5 3 3 3 3 13 13 13 13 13 13 6 102 102 13 20 4 6 76 75 5 67 3 67 6 106 67 67 67 67 67 23 12 2 67 114 67 5 108 90 3 3 6 91 76 75 24 102 102 13 20 4 6 76 75 91 91 91 91 91 91 1',\n",
              " 2782: '11',\n",
              " 3278: '90 125 106 5 90 6 5 3 90 90 90 6 5 3 90 90 90 6 125 5 3 90 90 90 6 125 5 3 90 90 90 90 6 125 91 125 125 125 125 136 49 24 47 50 67 27 67 67 97 122 45 45 5 106 106 106 106 106 6 6 6 6 6 6 6 6 6 6 6 6 6 6 6 6 6 6 6 6 6 6 6 6 6 6 6 6 6 6 6 6 6 6 6 6 6 6 6 6 6 6 6 6 6 6 6 6 6 6 6 6 6 6 6 6 6 6 6 6 6 6 6 6 6 6 6 6 6 6 6 6 6 6 6 6 6 6 6 6 6 6 6 6 6 6 6 6 6 6 6 6 6 6 6 6 6 6 6 6 6 6 6 6 6 6 6 6 6 6 6 6 6 6 6 6 6 6 6 6 6 6 6 6 6 6 6 6 6 6 6 6 6 6 6 6 6 6 6 6 6 6 6 6 6 6 6 6 6 6 6 6 6 6 6 6 6 6 6 6 6 6 6 6 6 6 6 6 6 6 6 6 6 6 6 6 6 6 6 6 6 6 6 6 6 6 6 6 6 6 6 6 6 6 6 6 6 6 6 6 6 6 6 6 6 6 6 6 6 6 6 6 6 6 6 6 6 6 6 6 6 6 6 6 6 6 6 6 6 6 6 6 6 6 6 6 6 6 6 6 6 6 6 6 6 6 6 6 6 6 6 6 6 6 54 108 106 5 55 45 141 141 141 141 106 6 57 54 16 15 54 67 111 67 66 5 6 6 6 63 63 63 6 54 106 5 108 90 3 106 5 90 6 5 3 90 90 90 6 125 91 106 5 90 6 5 3 90 90 90 6 125 5 3 90 90 90 90 6 125 91 106 5 90 6 5 3 90 90 90 6 125 91 106 5 90 6 5 3 90 90 90 90 6 125 91 3 6 91 5 108 90 3 106 5 90 6 5 3 90 90 90 6 125 91 3 6 91 5 45 108 90 3 3 6 91 5 108 90 3 19 6 91 106 5 108 90 3 19 6 91 5 108 90 3 3 6 91 76 75 24 5 108 90 3 19 6 91 13 13 13 13 13 13 13 13 13 5 5 13 54 54 13 4 54 3 54 4 5 108 90 3 19 6 91 13 13 13 13 13 13 13 13 13 5 5 13 76 75 5 5 108 90 3 3 6 91 76 75 24 5 108 90 3 19 6 91 13 13 13 13 13 13 13 13 13 5 5 13 13 13 13 13 13 76 75 5 108 90 19 3 19 6 91 27 24 50 71 70 33 23 70 71 20 5 3 3 3 3 13 19 4 6 5 67 27 143 27 4 143 6 5 19 3 5 3 6 13 108 90 54 4 19 13 4 6 5 108 90 3 19 6 91 16 15 46 49 5 108 90 3 3 6 91 5 5 81 5 108 90 3 3 6 91 76 75 24 76 75 5 108 90 3 3 6 91 76 75 24 24 54 54 108 106 5 55 141 141 141 141 106 6 5 3 3 3 3 5 108 90 3 19 6 91 13 13 13 13 13 13 13 13 13 5 5 13 13 13 13 13 6 54 54 108 106 5 55 141 141 141 141 106 6 5 3 3 3 3 13 13 13 13 13 13 6 102 102 13 20 4 6 76 75 102 102 13 4 5 67 3 67 6 106 4 67 67 67 67 67 23 12 2 67 114 67 5 108 90 3 3 6 91 76 75 24 13 20 4 6 76 75 91 91 91 91 91 91 1',\n",
              " 3279: '11',\n",
              " 3299: '90 125 106 5 90 6 5 3 90 90 90 90 6 125 91 125 125 136 49 24 47 50 122 54 5 19 3 5 19 3 13 45 45 106 5 55 108 90 54 4 141 106 5 3 6 5 108 90 6 5 45 108 90 3 3 6 91 5 108 90 3 19 6 91 5 3 6 106 5 3 6 5 3 6 106 5 3 6 5 3 6 106 5 3 6 5 3 6 106 5 3 6 5 3 6 106 5 3 6 5 3 6 106 5 3 6 5 3 6 106 45 5 3 6 5 3 6 106 5 3 6 5 3 6 106 5 3 6 5 3 6 106 5 3 6 5 3 6 106 5 3 6 5 3 6 106 5 3 6 5 3 6 106 5 3 6 5 3 6 106 5 3 6 5 3 6 106 5 3 6 5 3 6 106 5 3 6 5 3 6 106 5 3 6 5 3 6 106 5 3 6 5 3 6 106 5 3 6 5 3 6 106 5 3 6 5 3 6 106 45 5 3 6 5 3 6 106 5 3 6 5 3 6 106 5 3 6 5 3 6 106 5 3 6 5 3 6 141 5 3 6 13 4 4 4 4 4 4 4 4 4 4 4 4 4 4 4 4 4 4 4 4 4 4 4 4 4 1',\n",
              " 3302: '90 125 106 5 90 6 5 3 90 90 90 6 5 3 90 90 90 6 125 5 3 90 90 90 6 125 5 3 90 90 90 90 6 125 91 125 125 125 125 136 49 24 47 50 67 27 67 67 97 122 45 45 5 106 106 106 106 106 6 6 6 6 6 6 6 6 6 6 6 6 6 6 6 6 6 6 6 6 6 6 6 6 6 6 6 6 6 6 6 6 6 6 6 6 6 6 6 6 6 6 6 6 6 6 6 6 6 6 6 6 6 6 6 6 6 6 6 6 6 6 6 6 6 6 6 6 6 6 6 6 6 6 6 6 6 6 6 6 6 6 6 6 6 6 6 6 6 6 6 6 6 6 6 6 6 6 6 6 6 6 6 6 6 6 6 6 6 6 6 6 6 6 6 6 6 6 6 6 6 6 6 6 6 6 6 6 6 6 6 6 6 6 6 6 6 6 6 6 6 6 6 6 6 6 6 6 6 6 6 6 6 6 6 6 6 6 6 6 6 6 6 6 6 6 6 6 6 6 6 6 6 6 6 6 6 6 6 6 6 6 6 6 6 6 6 6 6 6 6 6 6 6 6 6 6 6 6 6 6 6 6 6 6 6 6 6 6 6 6 6 6 6 6 6 6 6 6 6 6 6 6 6 6 6 6 6 6 6 6 6 6 6 6 6 6 6 6 6 6 6 6 6 6 6 6 6 6 6 6 6 6 6 54 108 106 5 55 45 141 141 141 141 106 6 57 54 16 15 54 67 111 67 66 5 6 6 6 63 63 63 6 54 106 5 108 90 3 106 5 90 6 5 3 90 90 90 6 125 91 106 5 90 6 5 3 90 90 90 6 125 5 3 90 90 90 90 6 125 91 106 5 90 6 5 3 90 90 90 6 125 91 106 5 90 6 5 3 90 90 90 90 6 125 91 3 6 91 5 108 90 3 106 5 90 6 5 3 90 90 90 6 125 91 3 6 91 5 45 108 90 3 3 6 91 5 108 90 3 19 6 91 5 108 90 3 3 6 91 76 75 24 5 108 90 3 19 6 91 13 13 13 13 13 13 13 13 13 5 5 13 54 54 13 4 54 3 54 4 5 108 90 3 19 6 91 13 13 13 13 13 13 13 13 13 5 5 13 76 75 5 5 108 90 3 3 6 91 76 75 24 5 108 90 3 19 6 91 13 13 13 13 13 13 13 13 13 5 5 13 13 13 13 13 13 76 75 5 108 90 19 3 19 6 91 27 24 50 71 70 33 23 70 71 20 5 3 3 3 3 13 19 4 6 5 67 27 143 27 4 143 6 5 19 3 5 3 6 13 108 90 54 4 19 13 4 6 5 108 90 3 19 6 91 16 15 46 49 5 108 90 3 3 6 91 5 5 81 5 108 90 3 3 6 91 76 75 24 76 75 5 108 90 3 3 6 91 76 75 24 24 54 54 108 106 5 55 141 141 141 141 106 6 5 3 3 3 3 5 108 90 3 19 6 91 13 13 13 13 13 13 13 13 13 5 5 13 13 13 13 13 6 54 54 108 106 5 55 141 141 141 141 106 6 5 3 3 3 3 13 13 13 13 13 13 6 102 102 13 20 4 6 76 75 5 67 3 67 6 106 67 67 67 67 67 23 12 2 67 114',\n",
              " 3737: '90 125 106 5 90 6 5 3 90 90 90 90 6 125 91 125 125 136 49 24 47 50 122 54 5 19 3 5 19 3 13 45 45 106 5 55 108 90 141 106 5 3 6 5 108 90 6 5 45 108 90 3 3 6 91 5 108 90 3 19 6 91 5 3 6 106 5 3 6 5 3 6 106 5 3 6 5 3 6 106 5 3 6 5 3 6 106 5 3 6 5 3 6 106 5 3 6 5 3 6 106 5 3 6 5 3 6 106 45 5 3 6 5 3 6 106 5 3 6 5 108 90 3 19 6 91 5 3 6 106 5 3 6 5 3 6 106 5 3 6 5 3 6 106 5 3 6 5 3 6 106 5 3 6 5 3 6 106 5 3 6 5 3 6 106 5 3 6 5 3 6 106 5 3 6 5 3 6 106 5 3 6 5 3 6 106 5 3 6 5 3 6 106 5 3 6 5 3 6 106 5 3 6 5 3 6 106 5 3 6 5 3 6 106 45 5 3 6 5 3 6 106 5 3 6 5 3 6 106 5 3 6 5 3 6 106 5 3 6 5 3 6 106 5 3 6 5 3 6 106 5 3 6 5 3 6 106 5 3 6 5 3 6 106 5 3 6 5 3 6 106 5 3 6 5 3 6 106 5 3 6 5 3 6 106 5 3 6 5 3 6 106 5 3 6 5 3 6 106 5 3 6 5 3 6 106 45 5 3 6 5 3 6 106 5 3 6 5 3 6 106 5 3 6 5 3 6 106 5 3 6 5 3 6 106 5 3 6 5 3 6 141 106 5 3 6 5 3 6 106 5 3 6 5 3 6 106 5 3 6 5 3 6 106 5 3 6 5 3 6 106 5 3 6 5 3 6 106 5 3 6 5 3 6 106 5 3 6 5 3 6 141 5 3 6 13 4 1',\n",
              " 4120: '90 125 106 5 90 6 5 3 90 90 90 90 6 125 91 125 125 136 49 24 47 50 122 54 5 19 3 5 19 3 13 24 45 45 106 5 55 108 90 54 4 141 106 106 106 106 106 106 106 106 106 106 106 106 106 106 106 106 106 106 106 106 106 106 106 106 106 106 106 106 106 106 106 106 106 106 106 106 106 106 106 141 106 106 106 5 3 6 5 108 90 6 5 45 108 90 3 3 6 91 5 108 90 3 6 91 5 3 6 106 106 5 3 6 5 3 6 141 4 4 1',\n",
              " 4121: '90 125 106 5 90 6 5 3 90 90 90 90 6 125 91 125 125 136 49 24 47 50 122 54 5 19 3 5 19 3 13 45 45 106 5 55 108 90 54 4 141 106 5 3 6 5 108 90 6 5 45 108 90 3 3 6 91 5 108 90 3 19 6 91 5 3 6 106 5 3 6 5 3 6 106 5 3 6 5 3 6 106 5 3 6 5 3 6 106 5 3 6 5 3 6 106 5 3 6 5 3 6 106 5 3 6 5 3 6 106 45 5 3 6 5 3 6 106 5 3 6 5 108 90 3 19 6 91 5 3 6 106 5 3 6 5 3 6 106 5 3 6 5 3 6 106 5 3 6 5 3 6 106 5 3 6 5 3 6 106 5 3 6 5 3 6 106 5 3 6 5 3 6 106 5 3 6 5 3 6 106 5 3 6 5 3 6 106 5 3 6 5 3 6 106 5 3 6 5 3 6 106 5 3 6 5 3 6 106 5 3 6 5 3 6 106 45 5 3 6 5 3 6 106 5 3 6 5 3 6 106 5 3 6 5 3 6 106 5 3 6 5 3 6 106 5 3 6 5 3 6 106 5 3 6 5 3 6 106 5 3 6 5 3 6 106 5 3 6 5 3 6 106 5 3 6 5 3 6 106 5 3 6 5 3 6 106 5 3 6 5 3 6 106 5 3 6 5 3 6 106 5 3 6 5 3 6 106 45 5 3 6 5 3 6 106 5 3 6 5 3 6 106 5 3 6 5 3 6 106 5 3 6 5 3 6 106 5 3 6 5 3 6 141 106 5 3 6 5 3 6 106 5 3 6 5 3 6 106 5 3 6 5 108 90 3 6 91 5 3 6 106 5 3 6 5 3 6 106 5 3 6 5 3 6 141 5 3 6 13 4 4 4 4 4 4 4 4 4 4 4 4 4 4 4 4 4 4 4 4 4 4 4 4 4 4 4 4 4 4 4 4 4 4 4 4 4 4 4 4 4 4 4 4 1',\n",
              " 4147: '90 125 106 5 90 6 5 3 90 90 90 90 6 125 91 125 125 136 49 24 47 50 122 54 5 19 3 5 19 3 13 45 45 106 5 55 108 90 141 106 5 3 6 5 108 90 6 5 45 108 90 3 3 6 91 5 108 90 3 19 6 91 5 3 6 106 5 3 6 5 3 6 106 5 3 6 5 3 6 106 5 3 6 5 3 6 106 5 3 6 5 3 6 106 5 3 6 5 3 6 106 5 3 6 5 3 6 106 45 5 3 6 5 3 6 106 5 3 6 5 108 90 3 19 6 91 5 3 6 106 5 3 6 5 3 6 106 5 3 6 5 3 6 106 5 3 6 5 3 6 106 5 3 6 5 3 6 106 5 3 6 5 3 6 106 5 3 6 5 3 6 106 5 3 6 5 3 6 106 5 3 6 5 3 6 106 5 3 6 5 3 6 106 5 3 6 5 3 6 106 5 3 6 5 3 6 106 5 3 6 5 3 6 106 45 5 3 6 5 3 6 106 5 3 6 5 3 6 106 5 3 6 5 3 6 106 5 3 6 5 3 6 106 5 3 6 5 3 6 106 5 3 6 5 3 6 106 5 3 6 5 3 6 106 5 3 6 5 3 6 106 5 3 6 5 3 6 106 5 3 6 5 3 6 106 5 3 6 5 3 6 106 5 3 6 5 3 6 106 5 3 6 5 3 6 106 45 5 3 6 5 3 6 106 5 3 6 5 3 6 106 5 3 6 5 3 6 106 5 3 6 5 3 6 106 5 3 6 5 3 6 141 106 5 3 6 5 3 6 106 5 3 6 5 3 6 106 5 3 6 5 108 90 3 6 91 5 3 6 106 5 3 6 5 3 6 106 5 3 6 5 3 6 106 5 3 6 5 3 6 106 5 3 6 5 3 6 106 45 5 3 6 5 3 6 141 5 3 6 13 4 1',\n",
              " 4190: '90 125 106 5 90 6 5 3 90 90 90 90 6 125 91 125 125 136 49 24 47 50 122 54 5 19 3 5 19 3 13 45 45 106 5 55 108 90 54 4 141 106 5 3 6 5 108 90 6 5 45 108 90 3 3 6 91 5 108 90 3 19 6 91 5 3 6 106 5 3 6 5 3 6 106 5 3 6 5 3 6 106 5 3 6 5 3 6 106 5 3 6 5 3 6 106 5 3 6 5 3 6 106 5 3 6 5 3 6 106 45 5 3 6 5 3 6 106 5 3 6 5 108 90 3 19 6 91 5 3 6 106 5 3 6 5 3 6 106 5 3 6 5 3 6 106 5 3 6 5 3 6 106 5 3 6 5 3 6 106 5 3 6 5 3 6 106 5 3 6 5 3 6 106 5 3 6 5 3 6 106 5 3 6 5 3 6 106 5 3 6 5 3 6 106 5 3 6 5 3 6 106 5 3 6 5 3 6 106 5 3 6 5 3 6 106 45 5 3 6 5 3 6 106 5 3 6 5 3 6 106 5 3 6 5 3 6 106 5 3 6 5 3 6 106 5 3 6 5 3 6 106 5 3 6 5 3 6 106 5 3 6 5 3 6 106 5 3 6 5 3 6 106 5 3 6 5 3 6 106 5 3 6 5 3 6 106 5 3 6 5 3 6 106 5 3 6 5 3 6 106 5 3 6 5 3 6 106 45 5 3 6 5 3 6 106 5 3 6 5 3 6 106 5 3 6 5 3 6 106 5 3 6 5 3 6 106 5 3 6 5 3 6 141 106 5 3 6 5 3 6 106 5 3 6 5 3 6 106 5 3 6 5 108 90 3 6 91 5 3 6 106 5 3 6 5 3 6 106 5 3 6 5 3 6 141 5 3 6 13 4 4 4 4 4 4 4 4 4 4 4 4 4 4 4 4 4 4 4 4 4 4 4 4 4 4 4 4 4 4 4 4 4 4 4 4 4 4 4 4 4 4 4 4 1',\n",
              " 4938: '90 125 106 5 90 6 5 3 90 90 90 6 5 3 90 90 90 6 125 5 3 90 90 90 6 125 5 3 90 90 90 90 6 125 91 125 125 125 125 136 49 24 47 50 67 27 67 67 97 122 45 45 5 106 106 106 106 106 6 6 6 6 6 6 6 6 6 6 6 6 6 6 6 6 6 6 6 6 6 6 6 6 6 6 6 6 6 6 6 6 6 6 6 6 6 6 6 6 6 6 6 6 6 6 6 6 6 6 6 6 6 6 6 6 6 6 6 6 6 6 6 6 6 6 6 6 6 6 6 6 6 6 6 6 6 6 6 6 6 6 6 6 6 6 6 6 6 6 6 6 6 6 6 6 6 6 6 6 6 6 6 6 6 6 6 6 6 6 6 6 6 6 6 6 6 6 6 6 6 6 6 6 6 6 6 6 6 6 6 6 6 6 6 6 6 6 6 6 6 6 6 6 6 6 6 6 6 6 6 6 6 6 6 6 6 6 6 6 6 6 6 6 6 6 6 6 6 6 6 6 6 6 6 6 6 6 6 6 6 6 6 6 6 6 6 6 6 6 6 6 6 6 6 6 6 6 6 6 6 6 6 6 6 6 6 6 6 6 6 6 6 6 6 6 6 6 6 6 6 6 6 6 6 6 6 6 6 6 6 6 6 6 6 6 6 6 6 6 6 6 6 6 6 6 6 6 6 6 6 6 6 6 54 108 106 5 55 45 141 141 141 141 106 6 57 54 16 15 54 67 111 67 66 5 6 6 6 63 63 63 6 54 106 5 108 90 3 106 5 90 6 5 3 90 90 90 6 125 91 106 5 90 6 5 3 90 90 90 6 125 5 3 90 90 90 90 6 125 91 106 5 90 6 5 3 90 90 90 6 125 91 106 5 90 6 5 3 90 90 90 90 6 125 91 3 6 91 5 108 90 3 106 5 90 6 5 3 90 90 90 6 125 91 3 6 91 5 45 108 90 3 3 6 91 5 108 90 3 19 6 91 5 108 90 3 3 6 91 76 75 24 5 108 90 3 19 6 91 13 13 13 13 13 13 13 13 13 5 5 13 54 54 13 4 54 3 54 4 5 108 90 3 19 6 91 13 13 13 13 13 13 13 13 13 5 5 13 76 75 5 5 108 90 3 3 6 91 76 75 24 5 108 90 3 19 6 91 13 13 13 13 13 13 13 13 13 5 5 13 13 13 13 13 13 76 75 5 108 90 19 3 19 6 91 27 24 50 71 70 33 23 70 71 20 5 3 3 3 3 13 19 4 6 5 67 27 143 27 4 143 6 5 19 3 5 3 6 13 108 90 54 4 19 13 4 6 5 108 90 3 19 6 91 16 15 46 49 5 108 90 3 3 6 91 5 5 81 5 108 90 3 3 6 91 76 75 24 76 75 5 108 90 3 3 6 91 76 75 24 24 54 54 108 106 5 55 141 141 141 141 106 6 5 3 3 3 3 5 108 90 3 19 6 91 13 13 13 13 13 13 13 13 13 5 5 13 13 13 13 13 6 54 54 108 106 5 55 141 141 141 141 106 6 5 3 3 3 3 13 13 13 13 13 13 6 102 102 13 20 4 6 76 75 5 67 3 67 6 106 67 67 67 67 67 23 12 2 67 114 67 5 108 90 3 3 6 91 76 75 24 102 102 13 20 4 6 76 75 91 91 91 91 91 91 1',\n",
              " 5246: '11',\n",
              " 8088: '11',\n",
              " 8954: '90 125 106 5 90 6 5 3 90 90 90 6 5 3 90 90 90 6 125 5 3 90 90 90 6 125 5 3 90 90 90 90 6 125 91 125 125 125 125 136 49 24 47 50 67 27 67 67 97 122 45 45 5 106 106 106 106 106 6 6 6 6 6 6 6 6 6 6 6 6 6 6 6 6 6 6 6 6 6 6 6 6 6 6 6 6 6 6 6 6 6 6 6 6 6 6 6 6 6 6 6 6 6 6 6 6 6 6 6 6 6 6 6 6 6 6 6 6 6 6 6 6 6 6 6 6 6 6 6 6 6 6 6 6 6 6 6 6 6 6 6 6 6 6 6 6 6 6 6 6 6 6 6 6 6 6 6 6 6 6 6 6 6 6 6 6 6 6 6 6 6 6 6 6 6 6 6 6 6 6 6 6 6 6 6 6 6 6 6 6 6 6 6 6 6 6 6 6 6 6 6 6 6 6 6 6 6 6 6 6 6 6 6 6 6 6 6 6 6 6 6 6 6 6 6 6 6 6 6 6 6 6 6 6 6 6 6 6 6 6 6 6 6 6 6 6 6 6 6 6 6 6 6 6 6 6 6 6 6 6 6 6 6 6 6 6 6 6 6 6 6 6 6 6 6 6 6 6 6 6 6 6 6 6 6 6 6 6 6 6 6 6 6 6 6 6 6 6 6 6 6 6 6 6 6 6 6 6 6 6 6 6 54 108 106 5 55 45 141 141 141 141 106 6 57 54 16 15 54 67 111 67 66 5 6 6 6 63 63 63 6 54 106 5 108 90 3 106 5 90 6 5 3 90 90 90 6 125 91 106 5 90 6 5 3 90 90 90 6 125 5 3 90 90 90 90 6 125 91 106 5 90 6 5 3 90 90 90 6 125 91 106 5 90 6 5 3 90 90 90 90 6 125 91 3 6 91 5 108 90 3 106 5 90 6 5 3 90 90 90 6 125 91 3 6 91 5 45 108 90 3 3 6 91 5 108 90 3 19 6 91 106 5 108 90 3 19 6 91 5 108 90 3 3 6 91 76 75 24 5 108 90 3 19 6 91 13 13 13 13 13 13 13 13 13 5 5 13 54 54 13 4 54 3 54 4 5 108 90 3 19 6 91 13 13 13 13 13 13 13 13 13 5 5 13 76 75 5 5 108 90 3 3 6 91 76 75 24 5 108 90 3 19 6 91 13 13 13 13 13 13 13 13 13 5 5 13 13 13 13 13 13 76 75 5 108 90 19 3 19 6 91 27 24 50 71 70 33 23 70 71 20 5 3 3 3 3 13 19 4 6 5 67 27 143 27 4 143 6 5 19 3 5 3 6 13 108 90 54 4 19 13 4 6 5 108 90 3 19 6 91 16 15 46 49 5 108 90 3 3 6 91 5 5 81 5 108 90 3 3 6 91 76 75 24 76 75 5 108 90 3 3 6 91 76 75 24 24 54 54 108 106 5 55 141 141 141 141 106 6 5 3 3 3 3 5 108 90 3 19 6 91 13 13 13 13 13 13 13 13 13 5 5 13 13 13 13 13 6 54 54 108 106 5 55 141 141 141 141 106 6 5 3 3 3 3 13 13 13 13 13 13 6 102 102 13 20 4 6 76 75 102 102 13 4 5 67 3 67 6 106 4 67 67 67 67 67 23 12 2 67 114',\n",
              " 8955: '11',\n",
              " 9280: '90 125 106 5 90 6 5 3 90 90 90 6 5 3 90 90 90 6 125 5 3 90 90 90 6 125 5 3 90 90 90 90 6 125 91 125 125 125 125 136 49 24 47 50 67 27 67 67 97 122 45 45 5 106 106 106 106 106 6 6 6 6 6 6 6 6 6 6 6 6 6 6 6 6 6 6 6 6 6 6 6 6 6 6 6 6 6 6 6 6 6 6 6 6 6 6 6 6 6 6 6 6 6 6 6 6 6 6 6 6 6 6 6 6 6 6 6 6 6 6 6 6 6 6 6 6 6 6 6 6 6 6 6 6 6 6 6 6 6 6 6 6 6 6 6 6 6 6 6 6 6 6 6 6 6 6 6 6 6 6 6 6 6 6 6 6 6 6 6 6 6 6 6 6 6 6 6 6 6 6 6 6 6 6 6 6 6 6 6 6 6 6 6 6 6 6 6 6 6 6 6 6 6 6 6 6 6 6 6 6 6 6 6 6 6 6 6 6 6 6 6 6 6 6 6 6 6 6 6 6 6 6 6 6 6 6 6 6 6 6 6 6 6 6 6 6 6 6 6 6 6 6 6 6 6 6 6 6 6 6 6 6 6 6 6 6 6 6 6 6 6 6 6 6 6 6 6 6 6 6 6 6 6 6 6 6 6 6 6 6 6 6 6 6 6 6 6 6 6 6 6 6 6 6 6 6 6 6 6 6 6 6 54 108 106 5 55 45 141 141 141 141 106 6 57 54 16 15 54 67 111 67 66 5 6 6 6 63 63 63 6 54 106 5 108 90 3 106 5 90 6 5 3 90 90 90 6 125 91 106 5 90 6 5 3 90 90 90 6 125 5 3 90 90 90 90 6 125 91 106 5 90 6 5 3 90 90 90 6 125 91 106 5 90 6 5 3 90 90 90 90 6 125 91 3 6 91 5 108 90 3 106 5 90 6 5 3 90 90 90 6 125 91 3 6 91 5 45 108 90 3 3 6 91 5 108 90 3 19 6 91 5 108 90 3 3 6 91 76 75 24 5 108 90 3 19 6 91 13 13 13 13 13 13 13 13 13 5 5 13 54 54 13 4 54 3 54 4 5 108 90 3 19 6 91 13 13 13 13 13 13 13 13 13 5 5 13 76 75 5 5 108 90 3 3 6 91 76 75 24 5 108 90 3 19 6 91 13 13 13 13 13 13 13 13 13 5 5 13 13 13 13 13 13 76 75 5 108 90 19 3 19 6 91 27 24 50 71 70 33 23 70 71 20 5 3 3 3 3 13 19 4 6 5 67 27 143 27 4 143 6 5 19 3 5 3 6 13 108 90 54 4 19 13 4 6 5 108 90 3 19 6 91 16 15 46 49 5 108 90 3 3 6 91 5 5 81 5 108 90 3 3 6 91 76 75 24 76 75 5 108 90 3 3 6 91 76 75 24 24 54 54 108 106 5 55 141 141 141 141 106 6 5 3 3 3 3 5 108 90 3 19 6 91 13 13 13 13 13 13 13 13 13 5 5 13 13 13 13 13 6 54 54 108 106 5 55 141 141 141 141 106 6 5 3 3 3 3 13 13 13 13 13 13 6 102 102 13 20 4 6 76 75 5 67 3 67 6 106 67 67 67 67 67 23 12 2 67 114 67 5 108 90 3 3 6 91 76 75 24 102 102 13 20 4 6 76 75 91 91 91 91 91 91 1',\n",
              " 15210: '11',\n",
              " 17809: '11',\n",
              " 17832: '90 125 106 5 90 6 5 3 90 90 90 90 6 125 91 125 125 136 49 24 47 50 122 54 5 19 3 5 19 3 13 45 45 106 5 55 108 90 54 4 141 106 5 3 6 5 108 90 6 5 45 108 90 3 3 6 91 5 108 90 3 19 6 91 5 3 6 106 5 3 6 5 3 6 106 5 3 6 5 3 6 106 5 3 6 5 3 6 106 5 3 6 5 3 6 106 5 3 6 5 3 6 106 5 3 6 5 3 6 106 45 5 3 6 5 108 90 3 19 6 91 5 3 6 106 5 3 6 5 3 6 106 5 3 6 5 3 6 106 5 3 6 5 3 6 106 5 3 6 5 3 6 106 5 3 6 5 3 6 106 5 3 6 5 3 6 106 5 3 6 5 3 6 106 5 3 6 5 3 6 106 5 3 6 5 3 6 106 5 3 6 5 3 6 106 5 3 6 5 3 6 106 5 3 6 5 3 6 106 5 3 6 5 3 6 106 45 5 3 6 5 3 6 106 5 3 6 5 3 6 106 5 3 6 5 3 6 106 5 3 6 5 3 6 141 5 3 6 13 4 4 4 4 4 4 4 4 4 4 4 4 4 4 4 4 4 4 4 4 4 4 4 4 4 1',\n",
              " 19563: '90 125 106 5 90 6 5 3 90 90 90 6 5 3 90 90 90 6 125 5 3 90 90 90 6 125 5 3 90 90 90 90 6 125 91 125 125 125 125 136 49 24 47 50 67 27 67 67 97 122 45 45 5 106 106 106 106 106 6 6 6 6 6 6 6 6 6 6 6 6 6 6 6 6 6 6 6 6 6 6 6 6 6 6 6 6 6 6 6 6 6 6 6 6 6 6 6 6 6 6 6 6 6 6 6 6 6 6 6 6 6 6 6 6 6 6 6 6 6 6 6 6 6 6 6 6 6 6 6 6 6 6 6 6 6 6 6 6 6 6 6 6 6 6 6 6 6 6 6 6 6 6 6 6 6 6 6 6 6 6 6 6 6 6 6 6 6 6 6 6 6 6 6 6 6 6 6 6 6 6 6 6 6 6 6 6 6 6 6 6 6 6 6 6 6 6 6 6 6 6 6 6 6 6 6 6 6 6 6 6 6 6 6 6 6 6 6 6 6 6 6 6 6 6 6 6 6 6 6 6 6 6 6 6 6 6 6 6 6 6 6 6 6 6 6 6 6 6 6 6 6 6 6 6 6 6 6 6 6 6 6 6 6 6 6 6 6 6 6 6 6 6 6 6 6 6 6 6 6 6 6 6 6 6 6 6 6 6 6 6 6 6 6 6 6 6 6 6 6 6 6 6 6 6 6 6 6 6 6 6 6 6 54 108 106 5 55 45 141 141 141 141 106 6 57 54 16 15 54 67 111 67 66 5 6 6 6 63 63 63 6 54 106 5 108 90 3 106 5 90 6 5 3 90 90 90 6 125 91 106 5 90 6 5 3 90 90 90 6 125 5 3 90 90 90 90 6 125 91 106 5 90 6 5 3 90 90 90 6 125 91 106 5 90 6 5 3 90 90 90 90 6 125 91 3 6 91 5 108 90 3 106 5 90 6 5 3 90 90 90 6 125 91 3 6 91 5 45 108 90 3 3 6 91 5 108 90 3 19 6 91 106 5 108 90 3 19 6 91 5 108 90 3 3 6 91 76 75 24 5 108 90 3 19 6 91 13 13 13 13 13 13 13 13 13 5 5 13 54 54 13 4 54 3 54 4 5 108 90 3 19 6 91 13 13 13 13 13 13 13 13 13 5 5 13 76 75 5 5 108 90 3 3 6 91 76 75 24 5 108 90 3 19 6 91 13 13 13 13 13 13 13 13 13 5 5 13 13 13 13 13 13 76 75 5 108 90 19 3 19 6 91 27 24 50 71 70 33 23 70 71 20 5 3 3 3 3 13 19 4 6 5 67 27 143 27 4 143 6 5 19 3 19 13 4 6 5 108 90 3 19 6 91 16 15 46 49 5 108 90 3 3 6 91 5 5 81 5 108 90 3 3 6 91 76 75 24 76 75 5 108 90 3 3 6 91 76 75 24 24 54 54 108 106 5 55 141 141 141 141 106 6 5 3 3 3 3 5 108 90 3 19 6 91 13 13 13 13 13 13 13 13 13 5 5 13 13 13 13 13 6 54 54 108 106 5 55 141 141 141 141 106 6 5 3 3 3 3 13 13 13 13 13 13 6 102 102 13 5 3 6 13 20 4 6 76 75 102 102 13 4 5 67 3 67 6 106 108 90 54 4 67 67 67 67 67 23 12 2 67 114',\n",
              " 19573: '11'}"
            ]
          },
          "metadata": {},
          "execution_count": 35
        }
      ]
    },
    {
      "cell_type": "code",
      "metadata": {
        "id": "w3M7Z4L6modm",
        "outputId": "9ba32875-e600-4d93-f6c1-678c80c59322",
        "colab": {
          "base_uri": "https://localhost:8080/"
        }
      },
      "source": [
        "# Drop a sequence if its total len is less than 3\n",
        "def remove_small_seq(pid_seq_dict):\n",
        "  removed_pid = []\n",
        "  for pid in pid_seq_dict:\n",
        "    seq_list = pid_seq_dict[pid].split()\n",
        "    if len(seq_list) < 3:\n",
        "      print('Remove PID %d which only has %d syscals in its sequence: %s' % (pid, len(seq_list), pid_seq_dict[pid]))\n",
        "      removed_pid.append(pid)\n",
        "\n",
        "  [pid_seq_dict.pop(pid) for pid in removed_pid]\n",
        "  return pid_seq_dict\n",
        "\n",
        "# Clean small intrusion sequences\n",
        "print('Clean small normal seq: \\nNum PID in Normal before:', len(normal_seq_per_pid))\n",
        "normal_seq_per_pid = remove_small_seq(normal_seq_per_pid)\n",
        "print('Num PID in Normal after:', len(normal_seq_per_pid))\n",
        "\n",
        "# Clean small intrusion sequences\n",
        "print('\\n\\nClean small intrusion seq: \\nNum PID in Intrusion before:', len(intrusion_seq_per_pid))\n",
        "intrusion_seq_per_pid = remove_small_seq(intrusion_seq_per_pid)\n",
        "print('Num PID in Intrusion after:', len(intrusion_seq_per_pid))"
      ],
      "execution_count": 36,
      "outputs": [
        {
          "output_type": "stream",
          "name": "stdout",
          "text": [
            "Clean small normal seq: \n",
            "Num PID in Normal before: 43\n",
            "Remove PID 510 which only has 1 syscals in its sequence: 11\n",
            "Remove PID 17809 which only has 1 syscals in its sequence: 11\n",
            "Remove PID 19573 which only has 1 syscals in its sequence: 11\n",
            "Remove PID 725 which only has 1 syscals in its sequence: 11\n",
            "Remove PID 5246 which only has 1 syscals in its sequence: 11\n",
            "Remove PID 2782 which only has 1 syscals in its sequence: 11\n",
            "Remove PID 8088 which only has 1 syscals in its sequence: 11\n",
            "Remove PID 8955 which only has 1 syscals in its sequence: 11\n",
            "Remove PID 979 which only has 1 syscals in its sequence: 11\n",
            "Remove PID 1705 which only has 1 syscals in its sequence: 11\n",
            "Remove PID 3279 which only has 1 syscals in its sequence: 11\n",
            "Remove PID 15210 which only has 1 syscals in its sequence: 11\n",
            "Num PID in Normal after: 31\n",
            "\n",
            "\n",
            "Clean small intrusion seq: \n",
            "Num PID in Intrusion before: 34\n",
            "Remove PID 469 which only has 1 syscals in its sequence: 11\n",
            "Remove PID 488 which only has 1 syscals in its sequence: 11\n",
            "Remove PID 504 which only has 1 syscals in its sequence: 11\n",
            "Remove PID 555 which only has 1 syscals in its sequence: 11\n",
            "Num PID in Intrusion after: 30\n"
          ]
        }
      ]
    },
    {
      "cell_type": "code",
      "metadata": {
        "colab": {
          "base_uri": "https://localhost:8080/",
          "height": 419
        },
        "id": "ph244VM5_86n",
        "outputId": "5c50ec26-a83f-4142-c122-a7e4e6df9c20"
      },
      "source": [
        "## Parse an entire Syscall seq per PID into smaller sequences of size 15\n",
        "def parse_seq(seq_per_pid):\n",
        "  sequences = pd.DataFrame()\n",
        "  for p in seq_per_pid:\n",
        "    token = word_tokenize(seq_per_pid[p])  # Tokenize the string of sequence\n",
        "\n",
        "    # Parse the sequence into length of 15\n",
        "    sequences=sequences.append(list(nltk.ngrams(token,15))) #, pad_right=True, right_pad_symbol=-1)))\n",
        "    #print('PID %d - seq len: %d'% (p, len(sequences)))\n",
        "  return sequences\n",
        "\n",
        "normal = parse_seq(normal_seq_per_pid)\n",
        "\n",
        "normal"
      ],
      "execution_count": 37,
      "outputs": [
        {
          "output_type": "execute_result",
          "data": {
            "text/html": [
              "<div>\n",
              "<style scoped>\n",
              "    .dataframe tbody tr th:only-of-type {\n",
              "        vertical-align: middle;\n",
              "    }\n",
              "\n",
              "    .dataframe tbody tr th {\n",
              "        vertical-align: top;\n",
              "    }\n",
              "\n",
              "    .dataframe thead th {\n",
              "        text-align: right;\n",
              "    }\n",
              "</style>\n",
              "<table border=\"1\" class=\"dataframe\">\n",
              "  <thead>\n",
              "    <tr style=\"text-align: right;\">\n",
              "      <th></th>\n",
              "      <th>0</th>\n",
              "      <th>1</th>\n",
              "      <th>2</th>\n",
              "      <th>3</th>\n",
              "      <th>4</th>\n",
              "      <th>5</th>\n",
              "      <th>6</th>\n",
              "      <th>7</th>\n",
              "      <th>8</th>\n",
              "      <th>9</th>\n",
              "      <th>10</th>\n",
              "      <th>11</th>\n",
              "      <th>12</th>\n",
              "      <th>13</th>\n",
              "      <th>14</th>\n",
              "    </tr>\n",
              "  </thead>\n",
              "  <tbody>\n",
              "    <tr>\n",
              "      <th>0</th>\n",
              "      <td>90</td>\n",
              "      <td>125</td>\n",
              "      <td>106</td>\n",
              "      <td>5</td>\n",
              "      <td>90</td>\n",
              "      <td>6</td>\n",
              "      <td>5</td>\n",
              "      <td>3</td>\n",
              "      <td>90</td>\n",
              "      <td>90</td>\n",
              "      <td>90</td>\n",
              "      <td>6</td>\n",
              "      <td>5</td>\n",
              "      <td>3</td>\n",
              "      <td>90</td>\n",
              "    </tr>\n",
              "    <tr>\n",
              "      <th>1</th>\n",
              "      <td>125</td>\n",
              "      <td>106</td>\n",
              "      <td>5</td>\n",
              "      <td>90</td>\n",
              "      <td>6</td>\n",
              "      <td>5</td>\n",
              "      <td>3</td>\n",
              "      <td>90</td>\n",
              "      <td>90</td>\n",
              "      <td>90</td>\n",
              "      <td>6</td>\n",
              "      <td>5</td>\n",
              "      <td>3</td>\n",
              "      <td>90</td>\n",
              "      <td>90</td>\n",
              "    </tr>\n",
              "    <tr>\n",
              "      <th>2</th>\n",
              "      <td>106</td>\n",
              "      <td>5</td>\n",
              "      <td>90</td>\n",
              "      <td>6</td>\n",
              "      <td>5</td>\n",
              "      <td>3</td>\n",
              "      <td>90</td>\n",
              "      <td>90</td>\n",
              "      <td>90</td>\n",
              "      <td>6</td>\n",
              "      <td>5</td>\n",
              "      <td>3</td>\n",
              "      <td>90</td>\n",
              "      <td>90</td>\n",
              "      <td>90</td>\n",
              "    </tr>\n",
              "    <tr>\n",
              "      <th>3</th>\n",
              "      <td>5</td>\n",
              "      <td>90</td>\n",
              "      <td>6</td>\n",
              "      <td>5</td>\n",
              "      <td>3</td>\n",
              "      <td>90</td>\n",
              "      <td>90</td>\n",
              "      <td>90</td>\n",
              "      <td>6</td>\n",
              "      <td>5</td>\n",
              "      <td>3</td>\n",
              "      <td>90</td>\n",
              "      <td>90</td>\n",
              "      <td>90</td>\n",
              "      <td>6</td>\n",
              "    </tr>\n",
              "    <tr>\n",
              "      <th>4</th>\n",
              "      <td>90</td>\n",
              "      <td>6</td>\n",
              "      <td>5</td>\n",
              "      <td>3</td>\n",
              "      <td>90</td>\n",
              "      <td>90</td>\n",
              "      <td>90</td>\n",
              "      <td>6</td>\n",
              "      <td>5</td>\n",
              "      <td>3</td>\n",
              "      <td>90</td>\n",
              "      <td>90</td>\n",
              "      <td>90</td>\n",
              "      <td>6</td>\n",
              "      <td>125</td>\n",
              "    </tr>\n",
              "    <tr>\n",
              "      <th>...</th>\n",
              "      <td>...</td>\n",
              "      <td>...</td>\n",
              "      <td>...</td>\n",
              "      <td>...</td>\n",
              "      <td>...</td>\n",
              "      <td>...</td>\n",
              "      <td>...</td>\n",
              "      <td>...</td>\n",
              "      <td>...</td>\n",
              "      <td>...</td>\n",
              "      <td>...</td>\n",
              "      <td>...</td>\n",
              "      <td>...</td>\n",
              "      <td>...</td>\n",
              "      <td>...</td>\n",
              "    </tr>\n",
              "    <tr>\n",
              "      <th>249</th>\n",
              "      <td>4</td>\n",
              "      <td>4</td>\n",
              "      <td>4</td>\n",
              "      <td>4</td>\n",
              "      <td>4</td>\n",
              "      <td>4</td>\n",
              "      <td>4</td>\n",
              "      <td>4</td>\n",
              "      <td>4</td>\n",
              "      <td>4</td>\n",
              "      <td>4</td>\n",
              "      <td>4</td>\n",
              "      <td>4</td>\n",
              "      <td>4</td>\n",
              "      <td>4</td>\n",
              "    </tr>\n",
              "    <tr>\n",
              "      <th>250</th>\n",
              "      <td>4</td>\n",
              "      <td>4</td>\n",
              "      <td>4</td>\n",
              "      <td>4</td>\n",
              "      <td>4</td>\n",
              "      <td>4</td>\n",
              "      <td>4</td>\n",
              "      <td>4</td>\n",
              "      <td>4</td>\n",
              "      <td>4</td>\n",
              "      <td>4</td>\n",
              "      <td>4</td>\n",
              "      <td>4</td>\n",
              "      <td>4</td>\n",
              "      <td>4</td>\n",
              "    </tr>\n",
              "    <tr>\n",
              "      <th>251</th>\n",
              "      <td>4</td>\n",
              "      <td>4</td>\n",
              "      <td>4</td>\n",
              "      <td>4</td>\n",
              "      <td>4</td>\n",
              "      <td>4</td>\n",
              "      <td>4</td>\n",
              "      <td>4</td>\n",
              "      <td>4</td>\n",
              "      <td>4</td>\n",
              "      <td>4</td>\n",
              "      <td>4</td>\n",
              "      <td>4</td>\n",
              "      <td>4</td>\n",
              "      <td>4</td>\n",
              "    </tr>\n",
              "    <tr>\n",
              "      <th>252</th>\n",
              "      <td>4</td>\n",
              "      <td>4</td>\n",
              "      <td>4</td>\n",
              "      <td>4</td>\n",
              "      <td>4</td>\n",
              "      <td>4</td>\n",
              "      <td>4</td>\n",
              "      <td>4</td>\n",
              "      <td>4</td>\n",
              "      <td>4</td>\n",
              "      <td>4</td>\n",
              "      <td>4</td>\n",
              "      <td>4</td>\n",
              "      <td>4</td>\n",
              "      <td>4</td>\n",
              "    </tr>\n",
              "    <tr>\n",
              "      <th>253</th>\n",
              "      <td>4</td>\n",
              "      <td>4</td>\n",
              "      <td>4</td>\n",
              "      <td>4</td>\n",
              "      <td>4</td>\n",
              "      <td>4</td>\n",
              "      <td>4</td>\n",
              "      <td>4</td>\n",
              "      <td>4</td>\n",
              "      <td>4</td>\n",
              "      <td>4</td>\n",
              "      <td>4</td>\n",
              "      <td>4</td>\n",
              "      <td>4</td>\n",
              "      <td>1</td>\n",
              "    </tr>\n",
              "  </tbody>\n",
              "</table>\n",
              "<p>14604 rows × 15 columns</p>\n",
              "</div>"
            ],
            "text/plain": [
              "      0    1    2   3   4   5   6   7   8   9   10  11  12  13   14\n",
              "0     90  125  106   5  90   6   5   3  90  90  90   6   5   3   90\n",
              "1    125  106    5  90   6   5   3  90  90  90   6   5   3  90   90\n",
              "2    106    5   90   6   5   3  90  90  90   6   5   3  90  90   90\n",
              "3      5   90    6   5   3  90  90  90   6   5   3  90  90  90    6\n",
              "4     90    6    5   3  90  90  90   6   5   3  90  90  90   6  125\n",
              "..   ...  ...  ...  ..  ..  ..  ..  ..  ..  ..  ..  ..  ..  ..  ...\n",
              "249    4    4    4   4   4   4   4   4   4   4   4   4   4   4    4\n",
              "250    4    4    4   4   4   4   4   4   4   4   4   4   4   4    4\n",
              "251    4    4    4   4   4   4   4   4   4   4   4   4   4   4    4\n",
              "252    4    4    4   4   4   4   4   4   4   4   4   4   4   4    4\n",
              "253    4    4    4   4   4   4   4   4   4   4   4   4   4   4    1\n",
              "\n",
              "[14604 rows x 15 columns]"
            ]
          },
          "metadata": {},
          "execution_count": 37
        }
      ]
    },
    {
      "cell_type": "code",
      "metadata": {
        "colab": {
          "base_uri": "https://localhost:8080/",
          "height": 436
        },
        "id": "oyAnefsOQiIU",
        "outputId": "030b8b6d-e2bc-4a72-cfbe-3a2a6c199f17"
      },
      "source": [
        "print('Parsing Intrusion')\n",
        "intrusion = parse_seq(intrusion_seq_per_pid)\n",
        "intrusion"
      ],
      "execution_count": 38,
      "outputs": [
        {
          "output_type": "stream",
          "name": "stdout",
          "text": [
            "Parsing Intrusion\n"
          ]
        },
        {
          "output_type": "execute_result",
          "data": {
            "text/html": [
              "<div>\n",
              "<style scoped>\n",
              "    .dataframe tbody tr th:only-of-type {\n",
              "        vertical-align: middle;\n",
              "    }\n",
              "\n",
              "    .dataframe tbody tr th {\n",
              "        vertical-align: top;\n",
              "    }\n",
              "\n",
              "    .dataframe thead th {\n",
              "        text-align: right;\n",
              "    }\n",
              "</style>\n",
              "<table border=\"1\" class=\"dataframe\">\n",
              "  <thead>\n",
              "    <tr style=\"text-align: right;\">\n",
              "      <th></th>\n",
              "      <th>0</th>\n",
              "      <th>1</th>\n",
              "      <th>2</th>\n",
              "      <th>3</th>\n",
              "      <th>4</th>\n",
              "      <th>5</th>\n",
              "      <th>6</th>\n",
              "      <th>7</th>\n",
              "      <th>8</th>\n",
              "      <th>9</th>\n",
              "      <th>10</th>\n",
              "      <th>11</th>\n",
              "      <th>12</th>\n",
              "      <th>13</th>\n",
              "      <th>14</th>\n",
              "    </tr>\n",
              "  </thead>\n",
              "  <tbody>\n",
              "    <tr>\n",
              "      <th>0</th>\n",
              "      <td>90</td>\n",
              "      <td>125</td>\n",
              "      <td>106</td>\n",
              "      <td>5</td>\n",
              "      <td>90</td>\n",
              "      <td>6</td>\n",
              "      <td>5</td>\n",
              "      <td>3</td>\n",
              "      <td>90</td>\n",
              "      <td>90</td>\n",
              "      <td>90</td>\n",
              "      <td>6</td>\n",
              "      <td>5</td>\n",
              "      <td>3</td>\n",
              "      <td>90</td>\n",
              "    </tr>\n",
              "    <tr>\n",
              "      <th>1</th>\n",
              "      <td>125</td>\n",
              "      <td>106</td>\n",
              "      <td>5</td>\n",
              "      <td>90</td>\n",
              "      <td>6</td>\n",
              "      <td>5</td>\n",
              "      <td>3</td>\n",
              "      <td>90</td>\n",
              "      <td>90</td>\n",
              "      <td>90</td>\n",
              "      <td>6</td>\n",
              "      <td>5</td>\n",
              "      <td>3</td>\n",
              "      <td>90</td>\n",
              "      <td>90</td>\n",
              "    </tr>\n",
              "    <tr>\n",
              "      <th>2</th>\n",
              "      <td>106</td>\n",
              "      <td>5</td>\n",
              "      <td>90</td>\n",
              "      <td>6</td>\n",
              "      <td>5</td>\n",
              "      <td>3</td>\n",
              "      <td>90</td>\n",
              "      <td>90</td>\n",
              "      <td>90</td>\n",
              "      <td>6</td>\n",
              "      <td>5</td>\n",
              "      <td>3</td>\n",
              "      <td>90</td>\n",
              "      <td>90</td>\n",
              "      <td>90</td>\n",
              "    </tr>\n",
              "    <tr>\n",
              "      <th>3</th>\n",
              "      <td>5</td>\n",
              "      <td>90</td>\n",
              "      <td>6</td>\n",
              "      <td>5</td>\n",
              "      <td>3</td>\n",
              "      <td>90</td>\n",
              "      <td>90</td>\n",
              "      <td>90</td>\n",
              "      <td>6</td>\n",
              "      <td>5</td>\n",
              "      <td>3</td>\n",
              "      <td>90</td>\n",
              "      <td>90</td>\n",
              "      <td>90</td>\n",
              "      <td>6</td>\n",
              "    </tr>\n",
              "    <tr>\n",
              "      <th>4</th>\n",
              "      <td>90</td>\n",
              "      <td>6</td>\n",
              "      <td>5</td>\n",
              "      <td>3</td>\n",
              "      <td>90</td>\n",
              "      <td>90</td>\n",
              "      <td>90</td>\n",
              "      <td>6</td>\n",
              "      <td>5</td>\n",
              "      <td>3</td>\n",
              "      <td>90</td>\n",
              "      <td>90</td>\n",
              "      <td>90</td>\n",
              "      <td>6</td>\n",
              "      <td>125</td>\n",
              "    </tr>\n",
              "    <tr>\n",
              "      <th>...</th>\n",
              "      <td>...</td>\n",
              "      <td>...</td>\n",
              "      <td>...</td>\n",
              "      <td>...</td>\n",
              "      <td>...</td>\n",
              "      <td>...</td>\n",
              "      <td>...</td>\n",
              "      <td>...</td>\n",
              "      <td>...</td>\n",
              "      <td>...</td>\n",
              "      <td>...</td>\n",
              "      <td>...</td>\n",
              "      <td>...</td>\n",
              "      <td>...</td>\n",
              "      <td>...</td>\n",
              "    </tr>\n",
              "    <tr>\n",
              "      <th>169</th>\n",
              "      <td>3</td>\n",
              "      <td>6</td>\n",
              "      <td>106</td>\n",
              "      <td>5</td>\n",
              "      <td>3</td>\n",
              "      <td>6</td>\n",
              "      <td>106</td>\n",
              "      <td>5</td>\n",
              "      <td>3</td>\n",
              "      <td>6</td>\n",
              "      <td>141</td>\n",
              "      <td>4</td>\n",
              "      <td>4</td>\n",
              "      <td>4</td>\n",
              "      <td>4</td>\n",
              "    </tr>\n",
              "    <tr>\n",
              "      <th>170</th>\n",
              "      <td>6</td>\n",
              "      <td>106</td>\n",
              "      <td>5</td>\n",
              "      <td>3</td>\n",
              "      <td>6</td>\n",
              "      <td>106</td>\n",
              "      <td>5</td>\n",
              "      <td>3</td>\n",
              "      <td>6</td>\n",
              "      <td>141</td>\n",
              "      <td>4</td>\n",
              "      <td>4</td>\n",
              "      <td>4</td>\n",
              "      <td>4</td>\n",
              "      <td>4</td>\n",
              "    </tr>\n",
              "    <tr>\n",
              "      <th>171</th>\n",
              "      <td>106</td>\n",
              "      <td>5</td>\n",
              "      <td>3</td>\n",
              "      <td>6</td>\n",
              "      <td>106</td>\n",
              "      <td>5</td>\n",
              "      <td>3</td>\n",
              "      <td>6</td>\n",
              "      <td>141</td>\n",
              "      <td>4</td>\n",
              "      <td>4</td>\n",
              "      <td>4</td>\n",
              "      <td>4</td>\n",
              "      <td>4</td>\n",
              "      <td>4</td>\n",
              "    </tr>\n",
              "    <tr>\n",
              "      <th>172</th>\n",
              "      <td>5</td>\n",
              "      <td>3</td>\n",
              "      <td>6</td>\n",
              "      <td>106</td>\n",
              "      <td>5</td>\n",
              "      <td>3</td>\n",
              "      <td>6</td>\n",
              "      <td>141</td>\n",
              "      <td>4</td>\n",
              "      <td>4</td>\n",
              "      <td>4</td>\n",
              "      <td>4</td>\n",
              "      <td>4</td>\n",
              "      <td>4</td>\n",
              "      <td>4</td>\n",
              "    </tr>\n",
              "    <tr>\n",
              "      <th>173</th>\n",
              "      <td>3</td>\n",
              "      <td>6</td>\n",
              "      <td>106</td>\n",
              "      <td>5</td>\n",
              "      <td>3</td>\n",
              "      <td>6</td>\n",
              "      <td>141</td>\n",
              "      <td>4</td>\n",
              "      <td>4</td>\n",
              "      <td>4</td>\n",
              "      <td>4</td>\n",
              "      <td>4</td>\n",
              "      <td>4</td>\n",
              "      <td>4</td>\n",
              "      <td>1</td>\n",
              "    </tr>\n",
              "  </tbody>\n",
              "</table>\n",
              "<p>11401 rows × 15 columns</p>\n",
              "</div>"
            ],
            "text/plain": [
              "      0    1    2    3    4    5    6    7    8    9    10  11  12  13   14\n",
              "0     90  125  106    5   90    6    5    3   90   90   90   6   5   3   90\n",
              "1    125  106    5   90    6    5    3   90   90   90    6   5   3  90   90\n",
              "2    106    5   90    6    5    3   90   90   90    6    5   3  90  90   90\n",
              "3      5   90    6    5    3   90   90   90    6    5    3  90  90  90    6\n",
              "4     90    6    5    3   90   90   90    6    5    3   90  90  90   6  125\n",
              "..   ...  ...  ...  ...  ...  ...  ...  ...  ...  ...  ...  ..  ..  ..  ...\n",
              "169    3    6  106    5    3    6  106    5    3    6  141   4   4   4    4\n",
              "170    6  106    5    3    6  106    5    3    6  141    4   4   4   4    4\n",
              "171  106    5    3    6  106    5    3    6  141    4    4   4   4   4    4\n",
              "172    5    3    6  106    5    3    6  141    4    4    4   4   4   4    4\n",
              "173    3    6  106    5    3    6  141    4    4    4    4   4   4   4    1\n",
              "\n",
              "[11401 rows x 15 columns]"
            ]
          },
          "metadata": {},
          "execution_count": 38
        }
      ]
    },
    {
      "cell_type": "markdown",
      "metadata": {
        "id": "RE-KOfLEESHE"
      },
      "source": [
        "> ## **EDA - Histogram of original data**\n",
        "\n"
      ]
    },
    {
      "cell_type": "markdown",
      "metadata": {
        "id": "z-ze-8EJlT1V"
      },
      "source": [
        "plt.figure(figsize=(20,6))\n",
        "plt.hist(normal['Syscall'], label='Normal', alpha=0.6, density=True)\n",
        "plt.hist(intrusion['Syscall'], label='Intrusion', color='tomato', alpha=0.6, density=True)\n",
        "plt.legend()\n",
        "plt.ylabel('Proportions')\n",
        "plt.xlabel('Syscall num')\n",
        "plt.grid(axis='y', alpha=0.75)\n",
        "plt.xticks(np.arange(0,200,10))\n",
        "plt.title('An Overlaid Histogram of Syscall Proportions in Normal and Intrusion Data from ' + DATA,y=1.02, fontsize=15)\n",
        "plt.show()"
      ]
    },
    {
      "cell_type": "markdown",
      "metadata": {
        "id": "5WjkWBLbqW3u"
      },
      "source": [
        "Start tokenizing system calls into 6-grams"
      ]
    },
    {
      "cell_type": "markdown",
      "metadata": {
        "id": "376udEA5GdPB"
      },
      "source": [
        " ## **Data Cleaning**\n",
        " Remove rows that exist in both normal and intrusion df\n",
        "\n"
      ]
    },
    {
      "cell_type": "code",
      "metadata": {
        "colab": {
          "base_uri": "https://localhost:8080/"
        },
        "id": "HdvbPMAOl-Cn",
        "outputId": "742e2725-2325-4684-b7a1-182fcb3f90f9"
      },
      "source": [
        "## Get % of duplicates in both datasets\n",
        "\n",
        "# Convert normal df to set, and intrusion df to set\n",
        "normal_list = normal.values.tolist()\n",
        "intrusion_list = intrusion.values.tolist()\n",
        "normal_set = set(tuple(i) for i in normal_list)\n",
        "intrusion_set = set(tuple(i) for i in intrusion_list)\n",
        "print('List sz vs. Set sz of normal sequences: %d vs. %d'% (len(normal_list),len(normal_set)) )\n",
        "print('List sz vs. Set sz of intrusion sequences: %d vs. %d'% (len(intrusion_list),len(intrusion_set)) )\n",
        "\n",
        "# Only remove intrusion sequences that exist in normal set because these sequences are just general actions which should not be labelled intrusion\n",
        "c_intrusion = intrusion_set - normal_set\n",
        "#c_normal = normal_set - intrusion_set\n",
        "if len(c_intrusion) == 0 and len(c_normal) == 0:\n",
        "  print(DATA+' No Duplication!')\n",
        "if len(c_intrusion) > 0:\n",
        "  intrusion = pd.DataFrame(c_intrusion)\n",
        "else:\n",
        "  intrusion = pd.DataFrame(intrusion_set)\n",
        "\n",
        "#if len(c_normal) > 0:\n",
        "#  normal = pd.DataFrame(c_normal)\n",
        "#else:\n",
        "normal = pd.DataFrame(normal_set)\n",
        "\n",
        "print('After cleaning: \\nNormal sz:', len(normal), ' Intrusion sz:', len(c_intrusion) )"
      ],
      "execution_count": 39,
      "outputs": [
        {
          "output_type": "stream",
          "name": "stdout",
          "text": [
            "List sz vs. Set sz of normal sequences: 14604 vs. 933\n",
            "List sz vs. Set sz of intrusion sequences: 11401 vs. 1290\n",
            "After cleaning: \n",
            "Normal sz: 933  Intrusion sz: 548\n"
          ]
        }
      ]
    },
    {
      "cell_type": "code",
      "metadata": {
        "colab": {
          "base_uri": "https://localhost:8080/",
          "height": 419
        },
        "id": "MuylikQOw7da",
        "outputId": "39cf8d7a-9cff-49a9-dd46-4d7f77d95003"
      },
      "source": [
        "normal"
      ],
      "execution_count": 40,
      "outputs": [
        {
          "output_type": "execute_result",
          "data": {
            "text/html": [
              "<div>\n",
              "<style scoped>\n",
              "    .dataframe tbody tr th:only-of-type {\n",
              "        vertical-align: middle;\n",
              "    }\n",
              "\n",
              "    .dataframe tbody tr th {\n",
              "        vertical-align: top;\n",
              "    }\n",
              "\n",
              "    .dataframe thead th {\n",
              "        text-align: right;\n",
              "    }\n",
              "</style>\n",
              "<table border=\"1\" class=\"dataframe\">\n",
              "  <thead>\n",
              "    <tr style=\"text-align: right;\">\n",
              "      <th></th>\n",
              "      <th>0</th>\n",
              "      <th>1</th>\n",
              "      <th>2</th>\n",
              "      <th>3</th>\n",
              "      <th>4</th>\n",
              "      <th>5</th>\n",
              "      <th>6</th>\n",
              "      <th>7</th>\n",
              "      <th>8</th>\n",
              "      <th>9</th>\n",
              "      <th>10</th>\n",
              "      <th>11</th>\n",
              "      <th>12</th>\n",
              "      <th>13</th>\n",
              "      <th>14</th>\n",
              "    </tr>\n",
              "  </thead>\n",
              "  <tbody>\n",
              "    <tr>\n",
              "      <th>0</th>\n",
              "      <td>3</td>\n",
              "      <td>6</td>\n",
              "      <td>106</td>\n",
              "      <td>45</td>\n",
              "      <td>5</td>\n",
              "      <td>3</td>\n",
              "      <td>6</td>\n",
              "      <td>5</td>\n",
              "      <td>3</td>\n",
              "      <td>6</td>\n",
              "      <td>141</td>\n",
              "      <td>5</td>\n",
              "      <td>3</td>\n",
              "      <td>6</td>\n",
              "      <td>13</td>\n",
              "    </tr>\n",
              "    <tr>\n",
              "      <th>1</th>\n",
              "      <td>106</td>\n",
              "      <td>45</td>\n",
              "      <td>5</td>\n",
              "      <td>3</td>\n",
              "      <td>6</td>\n",
              "      <td>5</td>\n",
              "      <td>108</td>\n",
              "      <td>90</td>\n",
              "      <td>3</td>\n",
              "      <td>19</td>\n",
              "      <td>6</td>\n",
              "      <td>91</td>\n",
              "      <td>5</td>\n",
              "      <td>3</td>\n",
              "      <td>6</td>\n",
              "    </tr>\n",
              "    <tr>\n",
              "      <th>2</th>\n",
              "      <td>75</td>\n",
              "      <td>24</td>\n",
              "      <td>102</td>\n",
              "      <td>102</td>\n",
              "      <td>13</td>\n",
              "      <td>20</td>\n",
              "      <td>4</td>\n",
              "      <td>6</td>\n",
              "      <td>76</td>\n",
              "      <td>75</td>\n",
              "      <td>91</td>\n",
              "      <td>91</td>\n",
              "      <td>91</td>\n",
              "      <td>91</td>\n",
              "      <td>91</td>\n",
              "    </tr>\n",
              "    <tr>\n",
              "      <th>3</th>\n",
              "      <td>3</td>\n",
              "      <td>6</td>\n",
              "      <td>5</td>\n",
              "      <td>3</td>\n",
              "      <td>6</td>\n",
              "      <td>106</td>\n",
              "      <td>5</td>\n",
              "      <td>3</td>\n",
              "      <td>6</td>\n",
              "      <td>5</td>\n",
              "      <td>3</td>\n",
              "      <td>6</td>\n",
              "      <td>45</td>\n",
              "      <td>106</td>\n",
              "      <td>5</td>\n",
              "    </tr>\n",
              "    <tr>\n",
              "      <th>4</th>\n",
              "      <td>6</td>\n",
              "      <td>91</td>\n",
              "      <td>76</td>\n",
              "      <td>75</td>\n",
              "      <td>24</td>\n",
              "      <td>24</td>\n",
              "      <td>54</td>\n",
              "      <td>54</td>\n",
              "      <td>108</td>\n",
              "      <td>106</td>\n",
              "      <td>5</td>\n",
              "      <td>55</td>\n",
              "      <td>141</td>\n",
              "      <td>141</td>\n",
              "      <td>141</td>\n",
              "    </tr>\n",
              "    <tr>\n",
              "      <th>...</th>\n",
              "      <td>...</td>\n",
              "      <td>...</td>\n",
              "      <td>...</td>\n",
              "      <td>...</td>\n",
              "      <td>...</td>\n",
              "      <td>...</td>\n",
              "      <td>...</td>\n",
              "      <td>...</td>\n",
              "      <td>...</td>\n",
              "      <td>...</td>\n",
              "      <td>...</td>\n",
              "      <td>...</td>\n",
              "      <td>...</td>\n",
              "      <td>...</td>\n",
              "      <td>...</td>\n",
              "    </tr>\n",
              "    <tr>\n",
              "      <th>928</th>\n",
              "      <td>3</td>\n",
              "      <td>6</td>\n",
              "      <td>5</td>\n",
              "      <td>3</td>\n",
              "      <td>6</td>\n",
              "      <td>106</td>\n",
              "      <td>106</td>\n",
              "      <td>106</td>\n",
              "      <td>106</td>\n",
              "      <td>106</td>\n",
              "      <td>106</td>\n",
              "      <td>106</td>\n",
              "      <td>5</td>\n",
              "      <td>3</td>\n",
              "      <td>6</td>\n",
              "    </tr>\n",
              "    <tr>\n",
              "      <th>929</th>\n",
              "      <td>90</td>\n",
              "      <td>3</td>\n",
              "      <td>3</td>\n",
              "      <td>6</td>\n",
              "      <td>91</td>\n",
              "      <td>76</td>\n",
              "      <td>75</td>\n",
              "      <td>24</td>\n",
              "      <td>76</td>\n",
              "      <td>75</td>\n",
              "      <td>5</td>\n",
              "      <td>108</td>\n",
              "      <td>90</td>\n",
              "      <td>3</td>\n",
              "      <td>3</td>\n",
              "    </tr>\n",
              "    <tr>\n",
              "      <th>930</th>\n",
              "      <td>5</td>\n",
              "      <td>108</td>\n",
              "      <td>90</td>\n",
              "      <td>6</td>\n",
              "      <td>5</td>\n",
              "      <td>45</td>\n",
              "      <td>108</td>\n",
              "      <td>90</td>\n",
              "      <td>3</td>\n",
              "      <td>3</td>\n",
              "      <td>6</td>\n",
              "      <td>91</td>\n",
              "      <td>5</td>\n",
              "      <td>108</td>\n",
              "      <td>90</td>\n",
              "    </tr>\n",
              "    <tr>\n",
              "      <th>931</th>\n",
              "      <td>3</td>\n",
              "      <td>6</td>\n",
              "      <td>106</td>\n",
              "      <td>106</td>\n",
              "      <td>106</td>\n",
              "      <td>106</td>\n",
              "      <td>106</td>\n",
              "      <td>106</td>\n",
              "      <td>106</td>\n",
              "      <td>5</td>\n",
              "      <td>3</td>\n",
              "      <td>6</td>\n",
              "      <td>5</td>\n",
              "      <td>3</td>\n",
              "      <td>6</td>\n",
              "    </tr>\n",
              "    <tr>\n",
              "      <th>932</th>\n",
              "      <td>108</td>\n",
              "      <td>90</td>\n",
              "      <td>6</td>\n",
              "      <td>5</td>\n",
              "      <td>45</td>\n",
              "      <td>108</td>\n",
              "      <td>90</td>\n",
              "      <td>3</td>\n",
              "      <td>3</td>\n",
              "      <td>6</td>\n",
              "      <td>91</td>\n",
              "      <td>5</td>\n",
              "      <td>108</td>\n",
              "      <td>90</td>\n",
              "      <td>3</td>\n",
              "    </tr>\n",
              "  </tbody>\n",
              "</table>\n",
              "<p>933 rows × 15 columns</p>\n",
              "</div>"
            ],
            "text/plain": [
              "      0    1    2    3    4    5    6    7    8    9    10   11   12   13   14\n",
              "0      3    6  106   45    5    3    6    5    3    6  141    5    3    6   13\n",
              "1    106   45    5    3    6    5  108   90    3   19    6   91    5    3    6\n",
              "2     75   24  102  102   13   20    4    6   76   75   91   91   91   91   91\n",
              "3      3    6    5    3    6  106    5    3    6    5    3    6   45  106    5\n",
              "4      6   91   76   75   24   24   54   54  108  106    5   55  141  141  141\n",
              "..   ...  ...  ...  ...  ...  ...  ...  ...  ...  ...  ...  ...  ...  ...  ...\n",
              "928    3    6    5    3    6  106  106  106  106  106  106  106    5    3    6\n",
              "929   90    3    3    6   91   76   75   24   76   75    5  108   90    3    3\n",
              "930    5  108   90    6    5   45  108   90    3    3    6   91    5  108   90\n",
              "931    3    6  106  106  106  106  106  106  106    5    3    6    5    3    6\n",
              "932  108   90    6    5   45  108   90    3    3    6   91    5  108   90    3\n",
              "\n",
              "[933 rows x 15 columns]"
            ]
          },
          "metadata": {},
          "execution_count": 40
        }
      ]
    },
    {
      "cell_type": "code",
      "metadata": {
        "id": "_b5U4P_HrSEm",
        "colab": {
          "base_uri": "https://localhost:8080/",
          "height": 419
        },
        "outputId": "b9995c44-547f-4694-bf90-244ed617d3ba"
      },
      "source": [
        "intrusion"
      ],
      "execution_count": 41,
      "outputs": [
        {
          "output_type": "execute_result",
          "data": {
            "text/html": [
              "<div>\n",
              "<style scoped>\n",
              "    .dataframe tbody tr th:only-of-type {\n",
              "        vertical-align: middle;\n",
              "    }\n",
              "\n",
              "    .dataframe tbody tr th {\n",
              "        vertical-align: top;\n",
              "    }\n",
              "\n",
              "    .dataframe thead th {\n",
              "        text-align: right;\n",
              "    }\n",
              "</style>\n",
              "<table border=\"1\" class=\"dataframe\">\n",
              "  <thead>\n",
              "    <tr style=\"text-align: right;\">\n",
              "      <th></th>\n",
              "      <th>0</th>\n",
              "      <th>1</th>\n",
              "      <th>2</th>\n",
              "      <th>3</th>\n",
              "      <th>4</th>\n",
              "      <th>5</th>\n",
              "      <th>6</th>\n",
              "      <th>7</th>\n",
              "      <th>8</th>\n",
              "      <th>9</th>\n",
              "      <th>10</th>\n",
              "      <th>11</th>\n",
              "      <th>12</th>\n",
              "      <th>13</th>\n",
              "      <th>14</th>\n",
              "    </tr>\n",
              "  </thead>\n",
              "  <tbody>\n",
              "    <tr>\n",
              "      <th>0</th>\n",
              "      <td>19</td>\n",
              "      <td>3</td>\n",
              "      <td>13</td>\n",
              "      <td>106</td>\n",
              "      <td>5</td>\n",
              "      <td>55</td>\n",
              "      <td>108</td>\n",
              "      <td>90</td>\n",
              "      <td>141</td>\n",
              "      <td>106</td>\n",
              "      <td>5</td>\n",
              "      <td>3</td>\n",
              "      <td>6</td>\n",
              "      <td>5</td>\n",
              "      <td>108</td>\n",
              "    </tr>\n",
              "    <tr>\n",
              "      <th>1</th>\n",
              "      <td>90</td>\n",
              "      <td>3</td>\n",
              "      <td>19</td>\n",
              "      <td>6</td>\n",
              "      <td>91</td>\n",
              "      <td>5</td>\n",
              "      <td>5</td>\n",
              "      <td>3</td>\n",
              "      <td>3</td>\n",
              "      <td>3</td>\n",
              "      <td>3</td>\n",
              "      <td>3</td>\n",
              "      <td>6</td>\n",
              "      <td>97</td>\n",
              "      <td>5</td>\n",
              "    </tr>\n",
              "    <tr>\n",
              "      <th>2</th>\n",
              "      <td>5</td>\n",
              "      <td>19</td>\n",
              "      <td>3</td>\n",
              "      <td>13</td>\n",
              "      <td>106</td>\n",
              "      <td>5</td>\n",
              "      <td>55</td>\n",
              "      <td>108</td>\n",
              "      <td>90</td>\n",
              "      <td>141</td>\n",
              "      <td>106</td>\n",
              "      <td>5</td>\n",
              "      <td>3</td>\n",
              "      <td>6</td>\n",
              "      <td>5</td>\n",
              "    </tr>\n",
              "    <tr>\n",
              "      <th>3</th>\n",
              "      <td>91</td>\n",
              "      <td>3</td>\n",
              "      <td>6</td>\n",
              "      <td>91</td>\n",
              "      <td>27</td>\n",
              "      <td>24</td>\n",
              "      <td>50</td>\n",
              "      <td>71</td>\n",
              "      <td>70</td>\n",
              "      <td>33</td>\n",
              "      <td>23</td>\n",
              "      <td>70</td>\n",
              "      <td>71</td>\n",
              "      <td>5</td>\n",
              "      <td>45</td>\n",
              "    </tr>\n",
              "    <tr>\n",
              "      <th>4</th>\n",
              "      <td>24</td>\n",
              "      <td>45</td>\n",
              "      <td>45</td>\n",
              "      <td>5</td>\n",
              "      <td>106</td>\n",
              "      <td>5</td>\n",
              "      <td>55</td>\n",
              "      <td>108</td>\n",
              "      <td>90</td>\n",
              "      <td>54</td>\n",
              "      <td>4</td>\n",
              "      <td>141</td>\n",
              "      <td>106</td>\n",
              "      <td>5</td>\n",
              "      <td>3</td>\n",
              "    </tr>\n",
              "    <tr>\n",
              "      <th>...</th>\n",
              "      <td>...</td>\n",
              "      <td>...</td>\n",
              "      <td>...</td>\n",
              "      <td>...</td>\n",
              "      <td>...</td>\n",
              "      <td>...</td>\n",
              "      <td>...</td>\n",
              "      <td>...</td>\n",
              "      <td>...</td>\n",
              "      <td>...</td>\n",
              "      <td>...</td>\n",
              "      <td>...</td>\n",
              "      <td>...</td>\n",
              "      <td>...</td>\n",
              "      <td>...</td>\n",
              "    </tr>\n",
              "    <tr>\n",
              "      <th>543</th>\n",
              "      <td>122</td>\n",
              "      <td>54</td>\n",
              "      <td>5</td>\n",
              "      <td>19</td>\n",
              "      <td>3</td>\n",
              "      <td>5</td>\n",
              "      <td>19</td>\n",
              "      <td>3</td>\n",
              "      <td>13</td>\n",
              "      <td>24</td>\n",
              "      <td>106</td>\n",
              "      <td>5</td>\n",
              "      <td>55</td>\n",
              "      <td>108</td>\n",
              "      <td>90</td>\n",
              "    </tr>\n",
              "    <tr>\n",
              "      <th>544</th>\n",
              "      <td>6</td>\n",
              "      <td>91</td>\n",
              "      <td>5</td>\n",
              "      <td>5</td>\n",
              "      <td>108</td>\n",
              "      <td>90</td>\n",
              "      <td>3</td>\n",
              "      <td>3</td>\n",
              "      <td>6</td>\n",
              "      <td>91</td>\n",
              "      <td>5</td>\n",
              "      <td>5</td>\n",
              "      <td>102</td>\n",
              "      <td>102</td>\n",
              "      <td>13</td>\n",
              "    </tr>\n",
              "    <tr>\n",
              "      <th>545</th>\n",
              "      <td>19</td>\n",
              "      <td>6</td>\n",
              "      <td>91</td>\n",
              "      <td>5</td>\n",
              "      <td>3</td>\n",
              "      <td>6</td>\n",
              "      <td>106</td>\n",
              "      <td>5</td>\n",
              "      <td>3</td>\n",
              "      <td>6</td>\n",
              "      <td>106</td>\n",
              "      <td>5</td>\n",
              "      <td>3</td>\n",
              "      <td>6</td>\n",
              "      <td>5</td>\n",
              "    </tr>\n",
              "    <tr>\n",
              "      <th>546</th>\n",
              "      <td>4</td>\n",
              "      <td>143</td>\n",
              "      <td>6</td>\n",
              "      <td>5</td>\n",
              "      <td>5</td>\n",
              "      <td>108</td>\n",
              "      <td>90</td>\n",
              "      <td>3</td>\n",
              "      <td>19</td>\n",
              "      <td>6</td>\n",
              "      <td>91</td>\n",
              "      <td>16</td>\n",
              "      <td>15</td>\n",
              "      <td>46</td>\n",
              "      <td>49</td>\n",
              "    </tr>\n",
              "    <tr>\n",
              "      <th>547</th>\n",
              "      <td>4</td>\n",
              "      <td>5</td>\n",
              "      <td>67</td>\n",
              "      <td>3</td>\n",
              "      <td>67</td>\n",
              "      <td>6</td>\n",
              "      <td>106</td>\n",
              "      <td>67</td>\n",
              "      <td>67</td>\n",
              "      <td>67</td>\n",
              "      <td>67</td>\n",
              "      <td>67</td>\n",
              "      <td>23</td>\n",
              "      <td>12</td>\n",
              "      <td>11</td>\n",
              "    </tr>\n",
              "  </tbody>\n",
              "</table>\n",
              "<p>548 rows × 15 columns</p>\n",
              "</div>"
            ],
            "text/plain": [
              "      0    1   2    3    4    5    6    7    8    9    10   11   12   13   14\n",
              "0     19    3  13  106    5   55  108   90  141  106    5    3    6    5  108\n",
              "1     90    3  19    6   91    5    5    3    3    3    3    3    6   97    5\n",
              "2      5   19   3   13  106    5   55  108   90  141  106    5    3    6    5\n",
              "3     91    3   6   91   27   24   50   71   70   33   23   70   71    5   45\n",
              "4     24   45  45    5  106    5   55  108   90   54    4  141  106    5    3\n",
              "..   ...  ...  ..  ...  ...  ...  ...  ...  ...  ...  ...  ...  ...  ...  ...\n",
              "543  122   54   5   19    3    5   19    3   13   24  106    5   55  108   90\n",
              "544    6   91   5    5  108   90    3    3    6   91    5    5  102  102   13\n",
              "545   19    6  91    5    3    6  106    5    3    6  106    5    3    6    5\n",
              "546    4  143   6    5    5  108   90    3   19    6   91   16   15   46   49\n",
              "547    4    5  67    3   67    6  106   67   67   67   67   67   23   12   11\n",
              "\n",
              "[548 rows x 15 columns]"
            ]
          },
          "metadata": {},
          "execution_count": 41
        }
      ]
    },
    {
      "cell_type": "markdown",
      "metadata": {
        "id": "8GMYBPNarqFf"
      },
      "source": [
        "## **Histogram of Processed Data**"
      ]
    },
    {
      "cell_type": "code",
      "metadata": {
        "id": "CB8QSEMJ4h0b",
        "colab": {
          "base_uri": "https://localhost:8080/",
          "height": 413
        },
        "outputId": "3dc5dcfe-04d0-45c0-904f-f3363b0e8f13"
      },
      "source": [
        "# After Cleaning\n",
        "plt.figure(figsize=(20,6))\n",
        "plt.hist(normal[0], label='Normal', alpha=0.6, density=True)\n",
        "plt.hist(intrusion[0], label='Intrusion', color='tomato', alpha=0.6, density=True)\n",
        "plt.legend()\n",
        "plt.ylabel('Proportions')\n",
        "plt.xlabel('Syscall num')\n",
        "plt.grid(axis='y', alpha=0.75)\n",
        "#plt.xticks(np.arange(0,200,10))\n",
        "plt.title('An Overlaid Histogram of Syscall Proportions in Normal and Intrusion Data from ' + DATA,y=1.02, fontsize=15)\n",
        "plt.show()"
      ],
      "execution_count": 42,
      "outputs": [
        {
          "output_type": "display_data",
          "data": {
            "image/png": "[encoded data removed]",
            "text/plain": [
              "<Figure size 1440x432 with 1 Axes>"
            ]
          },
          "metadata": {
            "needs_background": "light"
          }
        }
      ]
    },
    {
      "cell_type": "markdown",
      "metadata": {
        "id": "Qk_fLEaHr0SL"
      },
      "source": [
        "**Labeling Sequences**"
      ]
    },
    {
      "cell_type": "code",
      "metadata": {
        "id": "0KILRKFiA2EV",
        "colab": {
          "base_uri": "https://localhost:8080/"
        },
        "outputId": "f173d531-51d9-4e41-d513-7fd1d531f270"
      },
      "source": [
        "# Intrusion sequences is labeled 1. Rename columns of the dataframe\n",
        "intrusion['Label'] = 1\n",
        "\n",
        "print(intrusion.head(5), '\\n')"
      ],
      "execution_count": 43,
      "outputs": [
        {
          "output_type": "stream",
          "name": "stdout",
          "text": [
            "    0   1   2    3    4   5    6    7    8    9   10   11   12  13   14  Label\n",
            "0  19   3  13  106    5  55  108   90  141  106    5    3    6   5  108      1\n",
            "1  90   3  19    6   91   5    5    3    3    3    3    3    6  97    5      1\n",
            "2   5  19   3   13  106   5   55  108   90  141  106    5    3   6    5      1\n",
            "3  91   3   6   91   27  24   50   71   70   33   23   70   71   5   45      1\n",
            "4  24  45  45    5  106   5   55  108   90   54    4  141  106   5    3      1 \n",
            "\n"
          ]
        }
      ]
    },
    {
      "cell_type": "code",
      "metadata": {
        "id": "oN2KngnOyG5E",
        "colab": {
          "base_uri": "https://localhost:8080/"
        },
        "outputId": "61bcaa1a-a1ec-4714-dfaa-7d901c1a0d2d"
      },
      "source": [
        "# Normal sequences is labeled 0. Rename columns of the dataframe\n",
        "normal['Label'] = 0\n",
        "print(normal.head(5), '\\n')\n",
        "\n",
        "print('Normal len:',len(normal),'\\nIntrusion len:', len(intrusion))"
      ],
      "execution_count": 44,
      "outputs": [
        {
          "output_type": "stream",
          "name": "stdout",
          "text": [
            "     0   1    2    3   4    5    6   7    8    9   10  11   12   13   14  Label\n",
            "0    3   6  106   45   5    3    6   5    3    6  141   5    3    6   13      0\n",
            "1  106  45    5    3   6    5  108  90    3   19    6  91    5    3    6      0\n",
            "2   75  24  102  102  13   20    4   6   76   75   91  91   91   91   91      0\n",
            "3    3   6    5    3   6  106    5   3    6    5    3   6   45  106    5      0\n",
            "4    6  91   76   75  24   24   54  54  108  106    5  55  141  141  141      0 \n",
            "\n",
            "Normal len: 933 \n",
            "Intrusion len: 548\n"
          ]
        }
      ]
    },
    {
      "cell_type": "markdown",
      "metadata": {
        "id": "7ohcyx-nmoYj"
      },
      "source": [
        "## **Partition Training and Testing dataset 70/30**"
      ]
    },
    {
      "cell_type": "markdown",
      "metadata": {
        "id": "RQ7j7n01sZE1"
      },
      "source": [
        "If there is not enough data from either class, bootstrap to generate more data and create a balanced sample"
      ]
    },
    {
      "cell_type": "code",
      "metadata": {
        "colab": {
          "base_uri": "https://localhost:8080/"
        },
        "id": "Dcj-XXjMZ57h",
        "outputId": "b1121709-dcaa-4282-c29c-c27a4f7f5ad7"
      },
      "source": [
        "# combine normal and intrusion data and split them into training and testing sets\n",
        "df = normal.append(intrusion, ignore_index=True).astype(int)\n",
        "print('Df sz:', df.shape)\n",
        "\n",
        "# Spliting into training and testing\n",
        "x_train, x_test, y_train, y_test = train_test_split(df.iloc[:,:-1], df['Label'], test_size = 0.30, shuffle=True)\n",
        "\n",
        "# Reset index of training and testing sets\n",
        "x_train.reset_index(drop=True, inplace=True); y_train.reset_index(drop=True, inplace=True)\n",
        "x_test.reset_index(drop=True, inplace=True);  y_test.reset_index(drop=True, inplace=True)\n",
        "\n",
        "print('Train sz:',len(x_train), len(y_train))\n",
        "intrusion_train = y_train.loc[y_train == 1]\n",
        "normal_train = y_train.loc[y_train == 0]\n",
        "print('Train set: Intrusion vs. Normal cases', len(y_train.iloc[intrusion_train] ), len(y_train.iloc[normal_train] ))\n",
        "\n",
        "print('Test sz:', len(x_test), len(y_test))\n",
        "intrusion_test = y_test.loc[y_test == 1]\n",
        "normal_test = y_test.loc[y_test == 0]\n",
        "print('Test set: Intrusion vs. Normal cases', len(y_test.iloc[intrusion_test] ), len(y_test.iloc[normal_test] ))"
      ],
      "execution_count": 46,
      "outputs": [
        {
          "output_type": "stream",
          "name": "stdout",
          "text": [
            "Df sz: (1481, 16)\n",
            "Train sz: 1036 1036\n",
            "Train set: Intrusion vs. Normal cases 393 643\n",
            "Test sz: 445 445\n",
            "Test set: Intrusion vs. Normal cases 155 290\n"
          ]
        }
      ]
    },
    {
      "cell_type": "code",
      "metadata": {
        "colab": {
          "base_uri": "https://localhost:8080/",
          "height": 419
        },
        "id": "c7NZyzbVcNTk",
        "outputId": "6bada8a8-c72c-4d70-9b99-a7fda0f564ac"
      },
      "source": [
        "# Bootstrap training data\n",
        "## Lived-name has more intrusion cases than normal cases (189 > 71) --> bootstrap normal cases only\n",
        "x_train['Label'] = y_train\n",
        "if len(intrusion_train) > len(normal_train):\n",
        "  x_train = x_train.iloc[intrusion_train.index].append(x_train.iloc[normal_train.index].sample(n = len(intrusion_train), replace=True), ignore_index=True) #upsampled normal data and add to train set\n",
        "else:\n",
        "  x_train = x_train.iloc[normal_train.index].append(x_train.iloc[intrusion_train.index].sample(n = len(normal_train), replace=True), ignore_index=True) #upsampled intrusion data and add to train set\n",
        "\n",
        "#x_train = x_train.append(x_train.sample(frac=1), ignore_index=True) # Bootstrap training data in case there is not enough data\n",
        "x_train = x_train.sample(frac=1) # Shuffle data\n",
        "x_train.reset_index(drop=True, inplace=True)\n",
        "y_train = x_train['Label']\n",
        "x_train.drop(columns='Label', inplace=True)\n",
        "x_train"
      ],
      "execution_count": 48,
      "outputs": [
        {
          "output_type": "execute_result",
          "data": {
            "text/html": [
              "<div>\n",
              "<style scoped>\n",
              "    .dataframe tbody tr th:only-of-type {\n",
              "        vertical-align: middle;\n",
              "    }\n",
              "\n",
              "    .dataframe tbody tr th {\n",
              "        vertical-align: top;\n",
              "    }\n",
              "\n",
              "    .dataframe thead th {\n",
              "        text-align: right;\n",
              "    }\n",
              "</style>\n",
              "<table border=\"1\" class=\"dataframe\">\n",
              "  <thead>\n",
              "    <tr style=\"text-align: right;\">\n",
              "      <th></th>\n",
              "      <th>0</th>\n",
              "      <th>1</th>\n",
              "      <th>2</th>\n",
              "      <th>3</th>\n",
              "      <th>4</th>\n",
              "      <th>5</th>\n",
              "      <th>6</th>\n",
              "      <th>7</th>\n",
              "      <th>8</th>\n",
              "      <th>9</th>\n",
              "      <th>10</th>\n",
              "      <th>11</th>\n",
              "      <th>12</th>\n",
              "      <th>13</th>\n",
              "      <th>14</th>\n",
              "    </tr>\n",
              "  </thead>\n",
              "  <tbody>\n",
              "    <tr>\n",
              "      <th>0</th>\n",
              "      <td>90</td>\n",
              "      <td>3</td>\n",
              "      <td>3</td>\n",
              "      <td>106</td>\n",
              "      <td>5</td>\n",
              "      <td>55</td>\n",
              "      <td>108</td>\n",
              "      <td>90</td>\n",
              "      <td>54</td>\n",
              "      <td>4</td>\n",
              "      <td>141</td>\n",
              "      <td>106</td>\n",
              "      <td>106</td>\n",
              "      <td>106</td>\n",
              "      <td>106</td>\n",
              "    </tr>\n",
              "    <tr>\n",
              "      <th>1</th>\n",
              "      <td>6</td>\n",
              "      <td>91</td>\n",
              "      <td>5</td>\n",
              "      <td>108</td>\n",
              "      <td>90</td>\n",
              "      <td>3</td>\n",
              "      <td>19</td>\n",
              "      <td>6</td>\n",
              "      <td>91</td>\n",
              "      <td>106</td>\n",
              "      <td>5</td>\n",
              "      <td>108</td>\n",
              "      <td>90</td>\n",
              "      <td>3</td>\n",
              "      <td>19</td>\n",
              "    </tr>\n",
              "    <tr>\n",
              "      <th>2</th>\n",
              "      <td>5</td>\n",
              "      <td>19</td>\n",
              "      <td>3</td>\n",
              "      <td>5</td>\n",
              "      <td>19</td>\n",
              "      <td>3</td>\n",
              "      <td>13</td>\n",
              "      <td>45</td>\n",
              "      <td>45</td>\n",
              "      <td>106</td>\n",
              "      <td>5</td>\n",
              "      <td>55</td>\n",
              "      <td>108</td>\n",
              "      <td>90</td>\n",
              "      <td>141</td>\n",
              "    </tr>\n",
              "    <tr>\n",
              "      <th>3</th>\n",
              "      <td>106</td>\n",
              "      <td>6</td>\n",
              "      <td>5</td>\n",
              "      <td>3</td>\n",
              "      <td>3</td>\n",
              "      <td>3</td>\n",
              "      <td>3</td>\n",
              "      <td>5</td>\n",
              "      <td>108</td>\n",
              "      <td>90</td>\n",
              "      <td>3</td>\n",
              "      <td>19</td>\n",
              "      <td>6</td>\n",
              "      <td>91</td>\n",
              "      <td>13</td>\n",
              "    </tr>\n",
              "    <tr>\n",
              "      <th>4</th>\n",
              "      <td>50</td>\n",
              "      <td>122</td>\n",
              "      <td>54</td>\n",
              "      <td>5</td>\n",
              "      <td>19</td>\n",
              "      <td>3</td>\n",
              "      <td>5</td>\n",
              "      <td>19</td>\n",
              "      <td>3</td>\n",
              "      <td>13</td>\n",
              "      <td>24</td>\n",
              "      <td>45</td>\n",
              "      <td>45</td>\n",
              "      <td>5</td>\n",
              "      <td>106</td>\n",
              "    </tr>\n",
              "    <tr>\n",
              "      <th>...</th>\n",
              "      <td>...</td>\n",
              "      <td>...</td>\n",
              "      <td>...</td>\n",
              "      <td>...</td>\n",
              "      <td>...</td>\n",
              "      <td>...</td>\n",
              "      <td>...</td>\n",
              "      <td>...</td>\n",
              "      <td>...</td>\n",
              "      <td>...</td>\n",
              "      <td>...</td>\n",
              "      <td>...</td>\n",
              "      <td>...</td>\n",
              "      <td>...</td>\n",
              "      <td>...</td>\n",
              "    </tr>\n",
              "    <tr>\n",
              "      <th>1281</th>\n",
              "      <td>3</td>\n",
              "      <td>13</td>\n",
              "      <td>106</td>\n",
              "      <td>5</td>\n",
              "      <td>55</td>\n",
              "      <td>108</td>\n",
              "      <td>90</td>\n",
              "      <td>54</td>\n",
              "      <td>4</td>\n",
              "      <td>141</td>\n",
              "      <td>106</td>\n",
              "      <td>5</td>\n",
              "      <td>3</td>\n",
              "      <td>6</td>\n",
              "      <td>5</td>\n",
              "    </tr>\n",
              "    <tr>\n",
              "      <th>1282</th>\n",
              "      <td>19</td>\n",
              "      <td>3</td>\n",
              "      <td>5</td>\n",
              "      <td>19</td>\n",
              "      <td>3</td>\n",
              "      <td>13</td>\n",
              "      <td>106</td>\n",
              "      <td>5</td>\n",
              "      <td>55</td>\n",
              "      <td>108</td>\n",
              "      <td>90</td>\n",
              "      <td>54</td>\n",
              "      <td>4</td>\n",
              "      <td>141</td>\n",
              "      <td>106</td>\n",
              "    </tr>\n",
              "    <tr>\n",
              "      <th>1283</th>\n",
              "      <td>106</td>\n",
              "      <td>5</td>\n",
              "      <td>3</td>\n",
              "      <td>6</td>\n",
              "      <td>5</td>\n",
              "      <td>3</td>\n",
              "      <td>6</td>\n",
              "      <td>106</td>\n",
              "      <td>45</td>\n",
              "      <td>5</td>\n",
              "      <td>3</td>\n",
              "      <td>6</td>\n",
              "      <td>5</td>\n",
              "      <td>3</td>\n",
              "      <td>6</td>\n",
              "    </tr>\n",
              "    <tr>\n",
              "      <th>1284</th>\n",
              "      <td>5</td>\n",
              "      <td>19</td>\n",
              "      <td>3</td>\n",
              "      <td>19</td>\n",
              "      <td>13</td>\n",
              "      <td>4</td>\n",
              "      <td>6</td>\n",
              "      <td>5</td>\n",
              "      <td>108</td>\n",
              "      <td>90</td>\n",
              "      <td>3</td>\n",
              "      <td>19</td>\n",
              "      <td>6</td>\n",
              "      <td>91</td>\n",
              "      <td>16</td>\n",
              "    </tr>\n",
              "    <tr>\n",
              "      <th>1285</th>\n",
              "      <td>90</td>\n",
              "      <td>3</td>\n",
              "      <td>19</td>\n",
              "      <td>6</td>\n",
              "      <td>91</td>\n",
              "      <td>16</td>\n",
              "      <td>15</td>\n",
              "      <td>46</td>\n",
              "      <td>49</td>\n",
              "      <td>5</td>\n",
              "      <td>108</td>\n",
              "      <td>90</td>\n",
              "      <td>3</td>\n",
              "      <td>3</td>\n",
              "      <td>6</td>\n",
              "    </tr>\n",
              "  </tbody>\n",
              "</table>\n",
              "<p>1286 rows × 15 columns</p>\n",
              "</div>"
            ],
            "text/plain": [
              "       0    1    2    3   4    5    6    7    8    9    10   11   12   13   14\n",
              "0      90    3    3  106   5   55  108   90   54    4  141  106  106  106  106\n",
              "1       6   91    5  108  90    3   19    6   91  106    5  108   90    3   19\n",
              "2       5   19    3    5  19    3   13   45   45  106    5   55  108   90  141\n",
              "3     106    6    5    3   3    3    3    5  108   90    3   19    6   91   13\n",
              "4      50  122   54    5  19    3    5   19    3   13   24   45   45    5  106\n",
              "...   ...  ...  ...  ...  ..  ...  ...  ...  ...  ...  ...  ...  ...  ...  ...\n",
              "1281    3   13  106    5  55  108   90   54    4  141  106    5    3    6    5\n",
              "1282   19    3    5   19   3   13  106    5   55  108   90   54    4  141  106\n",
              "1283  106    5    3    6   5    3    6  106   45    5    3    6    5    3    6\n",
              "1284    5   19    3   19  13    4    6    5  108   90    3   19    6   91   16\n",
              "1285   90    3   19    6  91   16   15   46   49    5  108   90    3    3    6\n",
              "\n",
              "[1286 rows x 15 columns]"
            ]
          },
          "metadata": {},
          "execution_count": 48
        }
      ]
    },
    {
      "cell_type": "code",
      "metadata": {
        "colab": {
          "base_uri": "https://localhost:8080/"
        },
        "id": "DnDDh0TWsyS7",
        "outputId": "93c72a8f-b824-43ba-fe55-cdc189ee5fdd"
      },
      "source": [
        "y_train"
      ],
      "execution_count": 49,
      "outputs": [
        {
          "output_type": "execute_result",
          "data": {
            "text/plain": [
              "0       1\n",
              "1       0\n",
              "2       0\n",
              "3       0\n",
              "4       1\n",
              "       ..\n",
              "1281    1\n",
              "1282    1\n",
              "1283    0\n",
              "1284    0\n",
              "1285    0\n",
              "Name: Label, Length: 1286, dtype: int64"
            ]
          },
          "metadata": {},
          "execution_count": 49
        }
      ]
    },
    {
      "cell_type": "markdown",
      "metadata": {
        "id": "-0UCA-ZuXHX_"
      },
      "source": [
        "\n",
        "# **Performance Measures**\n",
        "\n",
        "\n",
        "1.   Function calc_false_positive: Calculates FPR\n",
        "2.   Function print_performance: Formats printing performance metrics and ROC curve for each model\n",
        "3.   Function color_confusion_matrix: prints out a heatmap of confusion matrix in blue color scale\n",
        "\n",
        "\n",
        "\n",
        "\n"
      ]
    },
    {
      "cell_type": "code",
      "metadata": {
        "id": "XA1PZX4XBNLO"
      },
      "source": [
        "# This function calculate False Positive Rate given a confusion matrix\n",
        "def calc_false_positive (cmatrix):\n",
        "  specificity = cmatrix[0,0]/(cmatrix[0,0] + cmatrix[0,1])\n",
        "  return 1-specificity\n",
        "\n",
        "# This function prints performance metrics and ROC curve given the model name, true labels and predicted labels\n",
        "def print_performance( model_name, true_labels, pred_labels):\n",
        "  # rows are actual, columns are predicted\n",
        "  cmatrix = confusion_matrix(true_labels, pred_labels)\n",
        "  fpr = calc_false_positive(cmatrix)\n",
        "\n",
        "  print('Confusion Matrix: \\n',cmatrix)\n",
        "  print('\\nTesting Accuracy: %.2f'% metrics.accuracy_score(true_labels, pred_labels))\n",
        "  print('Precision:%.2f'%  metrics.precision_score(true_labels, pred_labels))\n",
        "  print('Recall: %.2f'% metrics.recall_score(true_labels, pred_labels))\n",
        "  print('False Positive Rate: %.2f'% fpr)\n",
        "  print('\\nClassification report:', classification_report(true_labels, pred_labels), sep='\\n')\n",
        "  print('AUC: %.2f'% roc_auc_score(true_labels, pred_labels))\n",
        "\n",
        "  false_positive_rate, recall, thresholds = roc_curve(true_labels, pred_labels)\n",
        "  roc_auc = auc(false_positive_rate, recall)\n",
        "  plt.figure()\n",
        "  plt.title( model_name+' ROC Curve on ' + DATA)\n",
        "  plt.plot(false_positive_rate, recall, 'b', label = 'AUC = %0.2f' %roc_auc)\n",
        "  plt.legend(loc='lower right')\n",
        "  plt.plot([0,1], [0,1], 'r--')\n",
        "  plt.xlim([0.0,1.0])\n",
        "  plt.ylim([0.0,1.1])\n",
        "  plt.ylabel('Recall')\n",
        "  plt.xlabel('False Positive Rate (1-Specificity)')\n",
        "  #plt.savefig(model_name+'-ROC.jpg')\n",
        "  plt.show()\n",
        "\n",
        "# Plot a heatmap of confusion matrix given the model name, a classifier model, testing data and the predicted label\n",
        "def color_confusion_matrix( model_name, model, x_test, y_test, y_predicted):\n",
        "  class_names = ['Normal', 'Intrusion']\n",
        "\n",
        "  fig, ax = plt.subplots(figsize=(6, 6))\n",
        "  plot_confusion_matrix(model, x_test, y_test, display_labels=class_names, \n",
        "                        values_format='d', ax = ax, cmap=plt.cm.Blues)\n",
        "  plt.title('Confusion Matrix of ' + str(model_name))\n",
        "  #plt.savefig(model_name+'-CM.jpg')\n",
        "  plt.show()\n",
        "\n",
        "  cmatrix = confusion_matrix(y_test, y_predicted)\n",
        "  print(cmatrix)"
      ],
      "execution_count": 50,
      "outputs": []
    },
    {
      "cell_type": "markdown",
      "metadata": {
        "id": "s-keFefagnSl"
      },
      "source": [
        "# **K-means**"
      ]
    },
    {
      "cell_type": "code",
      "metadata": {
        "id": "a0DPPwlWKeoA",
        "colab": {
          "base_uri": "https://localhost:8080/",
          "height": 669
        },
        "outputId": "999dbddf-9733-49cc-da1e-d64c18be60cc"
      },
      "source": [
        "from sklearn.cluster import KMeans\n",
        "from sklearn import metrics\n",
        "from sklearn.metrics import adjusted_rand_score\n",
        "\n",
        "# Choose K cluster = 2\n",
        "kmeans = KMeans(n_clusters=2)\n",
        "# Fit Kmeans to the training set\n",
        "kmeans.fit(x_train)\n",
        "\n",
        "\n",
        "# Recording TPR and FPR to plot TRAINING ROC curves\n",
        "y_pred = kmeans.predict(x_train)\n",
        "KM_train = {}\n",
        "KM_train['fpr'], KM_train['tpr'], thresh = roc_curve(y_train, y_pred)\n",
        "KM_train['auc'] = roc_auc_score(y_train, y_pred)\n",
        "\n",
        "## TESTING K-MEANS\n",
        "y_predicted = kmeans.predict(x_test)\n",
        "\n",
        "print_performance('Kmeans',y_test, y_predicted)\n",
        "\n",
        "# Number of iterations before converging\n",
        "print('Number of iterations before converging:', kmeans.n_iter_)\n",
        "\n",
        "\n",
        "# Recording TPR and FPR for the TESTING ROC curves\n",
        "KM_test = {}\n",
        "KM_test['fpr'], KM_test['tpr'], thresh = roc_curve(y_test, y_predicted)\n",
        "KM_test['auc'] = roc_auc_score(y_test, y_predicted)\n",
        "\n",
        "\n",
        "print('Train AUC: %.3f vs Test AUC: %.3f' %(KM_train['auc'], KM_test['auc']))"
      ],
      "execution_count": 51,
      "outputs": [
        {
          "output_type": "stream",
          "name": "stdout",
          "text": [
            "Confusion Matrix: \n",
            " [[125 165]\n",
            " [ 47 108]]\n",
            "\n",
            "Testing Accuracy: 0.52\n",
            "Precision:0.40\n",
            "Recall: 0.70\n",
            "False Positive Rate: 0.57\n",
            "\n",
            "Classification report:\n",
            "              precision    recall  f1-score   support\n",
            "\n",
            "           0       0.73      0.43      0.54       290\n",
            "           1       0.40      0.70      0.50       155\n",
            "\n",
            "    accuracy                           0.52       445\n",
            "   macro avg       0.56      0.56      0.52       445\n",
            "weighted avg       0.61      0.52      0.53       445\n",
            "\n",
            "AUC: 0.56\n"
          ]
        },
        {
          "output_type": "display_data",
          "data": {
            "image/png": "[encoded data removed]",
            "text/plain": [
              "<Figure size 432x288 with 1 Axes>"
            ]
          },
          "metadata": {
            "needs_background": "light"
          }
        },
        {
          "output_type": "stream",
          "name": "stdout",
          "text": [
            "Number of iterations before converging: 19\n",
            "Train AUC: 0.551 vs Test AUC: 0.564\n"
          ]
        }
      ]
    },
    {
      "cell_type": "markdown",
      "metadata": {
        "id": "CKMnutnOgsZ5"
      },
      "source": [
        "# **Logistic Regression**"
      ]
    },
    {
      "cell_type": "code",
      "metadata": {
        "id": "mk83mqk_fC9k",
        "colab": {
          "base_uri": "https://localhost:8080/",
          "height": 652
        },
        "outputId": "00e1e743-7722-49b6-b968-1b0397782cad"
      },
      "source": [
        "from sklearn.linear_model import LogisticRegression\n",
        "\n",
        "# Fit the model on the training set\n",
        "lgModel = LogisticRegression().fit(x_train, y_train)\n",
        "y_pred = lgModel.predict(x_train)\n",
        "\n",
        "# Recording TPR and FPR for the TESTING ROC curves\n",
        "LR_train = {}\n",
        "LR_train['fpr'], LR_train['tpr'], thresh = roc_curve(y_train, y_pred)\n",
        "LR_train['auc'] = roc_auc_score(y_train, y_pred)\n",
        "\n",
        "\n",
        "## TESTING Logistic Regression\n",
        "y_predicted = lgModel.predict(x_test)\n",
        "\n",
        "# Evaluating Performance on Testing data\n",
        "print_performance('Logistic Regression', y_test, y_predicted)\n",
        "\n",
        "# Recording TPR and FPR for the multi-ROC curves\n",
        "LR_test = {}\n",
        "LR_test['fpr'], LR_test['tpr'], thresh = roc_curve(y_test, y_predicted)\n",
        "LR_test['auc'] = roc_auc_score(y_test, y_predicted)\n",
        "\n",
        "print('Train AUC: %.3f vs Test AUC: %.3f' %(LR_train['auc'], LR_test['auc']))"
      ],
      "execution_count": 52,
      "outputs": [
        {
          "output_type": "stream",
          "name": "stdout",
          "text": [
            "Confusion Matrix: \n",
            " [[139 151]\n",
            " [ 63  92]]\n",
            "\n",
            "Testing Accuracy: 0.52\n",
            "Precision:0.38\n",
            "Recall: 0.59\n",
            "False Positive Rate: 0.52\n",
            "\n",
            "Classification report:\n",
            "              precision    recall  f1-score   support\n",
            "\n",
            "           0       0.69      0.48      0.57       290\n",
            "           1       0.38      0.59      0.46       155\n",
            "\n",
            "    accuracy                           0.52       445\n",
            "   macro avg       0.53      0.54      0.51       445\n",
            "weighted avg       0.58      0.52      0.53       445\n",
            "\n",
            "AUC: 0.54\n"
          ]
        },
        {
          "output_type": "display_data",
          "data": {
            "image/png": "[encoded data removed]",
            "text/plain": [
              "<Figure size 432x288 with 1 Axes>"
            ]
          },
          "metadata": {
            "needs_background": "light"
          }
        },
        {
          "output_type": "stream",
          "name": "stdout",
          "text": [
            "Train AUC: 0.561 vs Test AUC: 0.536\n"
          ]
        }
      ]
    },
    {
      "cell_type": "markdown",
      "metadata": {
        "id": "boOPLuv1zl0p"
      },
      "source": [
        "# **SVM**\n",
        "\n",
        "This model uses a Polynomial kernel, and the rest of the parameters are as default\n",
        "\n",
        "\n",
        "\n",
        "\n"
      ]
    },
    {
      "cell_type": "code",
      "metadata": {
        "id": "383ioOTmI5-u",
        "colab": {
          "base_uri": "https://localhost:8080/",
          "height": 686
        },
        "outputId": "189de1d6-c5b7-4cdc-9105-948c1410db3d"
      },
      "source": [
        "from sklearn import svm\n",
        "\n",
        "#### Create a SVM classifier using polynomial Kernel\n",
        "print('\\n****Polynomial kernel model: ')\n",
        "svm_model = svm.SVC(kernel = 'poly')\n",
        "\n",
        "#Train the  & Get accuracy from training\n",
        "svm_model.fit(x_train, y_train)\n",
        "y_pred = svm_model.predict(x_train)\n",
        "\n",
        "# Recording TPR and FPR for plotting TRAINING ROC curves\n",
        "SVM_train = {}\n",
        "SVM_train['fpr'], SVM_train['tpr'], thresh = roc_curve(y_train, y_pred)\n",
        "SVM_train['auc'] = roc_auc_score(y_train, y_pred)\n",
        "\n",
        "\n",
        "# Test the model w testing data\n",
        "y_predicted = svm_model.predict(x_test)\n",
        "\n",
        "# Evaluate the model \n",
        "print_performance('SVM', y_test, y_predicted)\n",
        "\n",
        "# Recording TPR and FPR for TESTING-ROC curves\n",
        "SVM_test = {}\n",
        "SVM_test['fpr'], SVM_test['tpr'], thresh = roc_curve(y_test, y_predicted)\n",
        "SVM_test['auc'] = roc_auc_score(y_test, y_predicted)\n",
        "\n",
        "print('Train AUC: %.3f vs Test AUC: %.3f' %(SVM_train['auc'], SVM_test['auc']))"
      ],
      "execution_count": 53,
      "outputs": [
        {
          "output_type": "stream",
          "name": "stdout",
          "text": [
            "\n",
            "****Polynomial kernel model: \n",
            "Confusion Matrix: \n",
            " [[179 111]\n",
            " [ 66  89]]\n",
            "\n",
            "Testing Accuracy: 0.60\n",
            "Precision:0.45\n",
            "Recall: 0.57\n",
            "False Positive Rate: 0.38\n",
            "\n",
            "Classification report:\n",
            "              precision    recall  f1-score   support\n",
            "\n",
            "           0       0.73      0.62      0.67       290\n",
            "           1       0.45      0.57      0.50       155\n",
            "\n",
            "    accuracy                           0.60       445\n",
            "   macro avg       0.59      0.60      0.59       445\n",
            "weighted avg       0.63      0.60      0.61       445\n",
            "\n",
            "AUC: 0.60\n"
          ]
        },
        {
          "output_type": "display_data",
          "data": {
            "image/png": "[encoded data removed]",
            "text/plain": [
              "<Figure size 432x288 with 1 Axes>"
            ]
          },
          "metadata": {
            "needs_background": "light"
          }
        },
        {
          "output_type": "stream",
          "name": "stdout",
          "text": [
            "Train AUC: 0.819 vs Test AUC: 0.596\n"
          ]
        }
      ]
    },
    {
      "cell_type": "code",
      "metadata": {
        "id": "XKSizyx2J1-0",
        "colab": {
          "base_uri": "https://localhost:8080/",
          "height": 393
        },
        "outputId": "cbc0c111-d75f-461a-bb20-faec41d5d628"
      },
      "source": [
        "# Plot a heatmap confusion matrix\n",
        "color_confusion_matrix('SVM', svm_model, x_test, y_test, y_predicted)"
      ],
      "execution_count": 54,
      "outputs": [
        {
          "output_type": "display_data",
          "data": {
            "image/png": "[encoded data removed]",
            "text/plain": [
              "<Figure size 432x432 with 2 Axes>"
            ]
          },
          "metadata": {
            "needs_background": "light"
          }
        },
        {
          "output_type": "stream",
          "name": "stdout",
          "text": [
            "[[179 111]\n",
            " [ 66  89]]\n"
          ]
        }
      ]
    },
    {
      "cell_type": "markdown",
      "metadata": {
        "id": "CyAknSAkQ3be"
      },
      "source": [
        "# **Neural Net**\n",
        "\n",
        "This model contains 3 layers: input layer of 6 nodes, a fully connected layer of 6 nodes and an output layer of 2 nodes"
      ]
    },
    {
      "cell_type": "code",
      "metadata": {
        "id": "USe11YPvQ3bf"
      },
      "source": [
        "# Scale syscall number to between 0 and 1\n",
        "# The maximum syscall number in UNM data is 181\n",
        "max_syscall = 181\n",
        "x_train_nn = x_train/max_syscall\n",
        "x_test_nn = x_test/max_syscall"
      ],
      "execution_count": 55,
      "outputs": []
    },
    {
      "cell_type": "code",
      "metadata": {
        "id": "kuOUNJieQ3bg",
        "colab": {
          "base_uri": "https://localhost:8080/"
        },
        "outputId": "acb4f4e2-a196-42a7-d9b1-e3374c6bce61"
      },
      "source": [
        "import tensorflow as tf\n",
        "from tensorflow import keras\n",
        "INPUT_SZ = len(x_train.columns)\n",
        "nn_model = keras.Sequential([\n",
        "    keras.layers.Input(shape = (INPUT_SZ,)),           # model expect input to be a vector of 6 numbers\n",
        "    keras.layers.Dense(INPUT_SZ, activation = 'relu'), \n",
        "    keras.layers.Dense(2, activation = 'sigmoid')\n",
        "])\n",
        "\n",
        "nn_model.compile(optimizer='adam',\n",
        "              loss='sparse_categorical_crossentropy',\n",
        "              metrics=['accuracy'])\n",
        "\n",
        "# Fit the model to training set\n",
        "history = nn_model.fit(x_train_nn, y_train, epochs=10, batch_size=16, verbose=1)  "
      ],
      "execution_count": 56,
      "outputs": [
        {
          "output_type": "stream",
          "name": "stdout",
          "text": [
            "Epoch 1/10\n",
            "81/81 [==============================] - 3s 3ms/step - loss: 0.7113 - accuracy: 0.5016\n",
            "Epoch 2/10\n",
            "81/81 [==============================] - 0s 3ms/step - loss: 0.6999 - accuracy: 0.5031\n",
            "Epoch 3/10\n",
            "81/81 [==============================] - 0s 3ms/step - loss: 0.6942 - accuracy: 0.5257\n",
            "Epoch 4/10\n",
            "81/81 [==============================] - 0s 3ms/step - loss: 0.6890 - accuracy: 0.5272\n",
            "Epoch 5/10\n",
            "81/81 [==============================] - 0s 3ms/step - loss: 0.6851 - accuracy: 0.5358\n",
            "Epoch 6/10\n",
            "81/81 [==============================] - 0s 3ms/step - loss: 0.6815 - accuracy: 0.5575\n",
            "Epoch 7/10\n",
            "81/81 [==============================] - 0s 3ms/step - loss: 0.6787 - accuracy: 0.5653\n",
            "Epoch 8/10\n",
            "81/81 [==============================] - 0s 3ms/step - loss: 0.6756 - accuracy: 0.5653\n",
            "Epoch 9/10\n",
            "81/81 [==============================] - 0s 3ms/step - loss: 0.6735 - accuracy: 0.5879\n",
            "Epoch 10/10\n",
            "81/81 [==============================] - 0s 3ms/step - loss: 0.6711 - accuracy: 0.5894\n"
          ]
        }
      ]
    },
    {
      "cell_type": "code",
      "metadata": {
        "id": "RGUvRkXUjo3K"
      },
      "source": [
        "# Get predicted Training labels\n",
        "y_pred = np.argmax(nn_model.predict(x_train_nn), axis=-1)\n",
        "\n",
        "# Recording TPR and FPR for the TRAINING ROC curves\n",
        "NN_train = {}\n",
        "NN_train['fpr'], NN_train['tpr'], thresh = roc_curve(y_train, y_pred)\n",
        "NN_train['auc'] = roc_auc_score(y_train, y_pred)\n",
        "#print_performance(y_train, y_predicted)"
      ],
      "execution_count": 57,
      "outputs": []
    },
    {
      "cell_type": "code",
      "metadata": {
        "id": "BGujVI6TQ3bg",
        "colab": {
          "base_uri": "https://localhost:8080/",
          "height": 686
        },
        "outputId": "6bf1be1f-d871-49db-9c8a-c2c8c843bbc6"
      },
      "source": [
        "# Get the loss and accuracy on testing set\n",
        "test_loss, test_acc = nn_model.evaluate(x_test_nn,  y_test, verbose=1) \n",
        "y_predicted = np.argmax(nn_model.predict(x_test_nn), axis=-1)\n",
        "\n",
        "\n",
        "print('Test accuracy:', test_acc,' Test loss:', test_loss)\n",
        "print_performance('Neural Network', y_test, y_predicted)\n",
        "\n",
        "# Recording TPR and FPR for the TESTING-ROC curves\n",
        "NN_test = {}\n",
        "NN_test['fpr'], NN_test['tpr'], thresh = roc_curve(y_test, y_predicted)\n",
        "NN_test['auc'] = roc_auc_score(y_test, y_predicted)\n",
        "\n",
        "print('Train AUC: %.3f vs Test AUC: %.3f' %(NN_train['auc'], NN_test['auc']))"
      ],
      "execution_count": 58,
      "outputs": [
        {
          "output_type": "stream",
          "name": "stdout",
          "text": [
            "14/14 [==============================] - 0s 3ms/step - loss: 0.6874 - accuracy: 0.5348\n",
            "Test accuracy: 0.5348314642906189  Test loss: 0.6873511672019958\n",
            "Confusion Matrix: \n",
            " [[141 149]\n",
            " [ 58  97]]\n",
            "\n",
            "Testing Accuracy: 0.53\n",
            "Precision:0.39\n",
            "Recall: 0.63\n",
            "False Positive Rate: 0.51\n",
            "\n",
            "Classification report:\n",
            "              precision    recall  f1-score   support\n",
            "\n",
            "           0       0.71      0.49      0.58       290\n",
            "           1       0.39      0.63      0.48       155\n",
            "\n",
            "    accuracy                           0.53       445\n",
            "   macro avg       0.55      0.56      0.53       445\n",
            "weighted avg       0.60      0.53      0.54       445\n",
            "\n",
            "AUC: 0.56\n"
          ]
        },
        {
          "output_type": "display_data",
          "data": {
            "image/png": "[encoded data removed]",
            "text/plain": [
              "<Figure size 432x288 with 1 Axes>"
            ]
          },
          "metadata": {
            "needs_background": "light"
          }
        },
        {
          "output_type": "stream",
          "name": "stdout",
          "text": [
            "Train AUC: 0.595 vs Test AUC: 0.556\n"
          ]
        }
      ]
    },
    {
      "cell_type": "code",
      "metadata": {
        "id": "mehetMzFUBrt",
        "colab": {
          "base_uri": "https://localhost:8080/"
        },
        "outputId": "8060ec20-d2e7-4b4e-8bd7-6606ca8fe647"
      },
      "source": [
        "nn_model.summary()\n",
        "\n",
        "#history.history"
      ],
      "execution_count": 59,
      "outputs": [
        {
          "output_type": "stream",
          "name": "stdout",
          "text": [
            "Model: \"sequential\"\n",
            "_________________________________________________________________\n",
            "Layer (type)                 Output Shape              Param #   \n",
            "=================================================================\n",
            "dense (Dense)                (None, 15)                240       \n",
            "_________________________________________________________________\n",
            "dense_1 (Dense)              (None, 2)                 32        \n",
            "=================================================================\n",
            "Total params: 272\n",
            "Trainable params: 272\n",
            "Non-trainable params: 0\n",
            "_________________________________________________________________\n"
          ]
        }
      ]
    },
    {
      "cell_type": "markdown",
      "metadata": {
        "id": "eak45tL1s7AT"
      },
      "source": [
        "# **Decision Tree**\n",
        "\n",
        "This model uses GINI criterion to split the data and requires at least 10 observations to split and 5 observations in the leaf."
      ]
    },
    {
      "cell_type": "code",
      "metadata": {
        "id": "h_mhdZxSs6Z5",
        "colab": {
          "base_uri": "https://localhost:8080/",
          "height": 1000
        },
        "outputId": "d60f3bbc-9353-48e4-b8b3-400cac32af1b"
      },
      "source": [
        "from sklearn.tree import DecisionTreeClassifier\n",
        "\n",
        "# Create and Train DecTree model\n",
        "decTree = DecisionTreeClassifier(criterion='gini', min_samples_split=10,min_samples_leaf=5,max_features='auto')\n",
        "decTree = decTree.fit(x_train, y_train)\n",
        "\n",
        "# Recording TPR and FPR for the TRAINING ROC curves\n",
        "y_pred = decTree.predict(x_train)\n",
        "DT_train = {}\n",
        "DT_train['fpr'], DT_train['tpr'], thresh = roc_curve(y_train, y_pred)\n",
        "DT_train['auc'] = roc_auc_score(y_train, y_pred)\n",
        "\n",
        "# Predict testing data\n",
        "y_predicted = decTree.predict(x_test)\n",
        "\n",
        "# Print performance measures\n",
        "print_performance('Decision Tree', y_test, y_predicted)\n",
        "\n",
        "# Color Confusion Matrix\n",
        "color_confusion_matrix('Decision Tree', decTree, x_test, y_test, y_predicted)\n",
        "\n",
        "# Recording TPR and FPR for TESTING-ROC curves\n",
        "DT_test = {}\n",
        "DT_test['fpr'], DT_test['tpr'], thresh = roc_curve(y_test, y_predicted)\n",
        "DT_test['auc'] = roc_auc_score(y_test, y_predicted)\n",
        "\n",
        "print('Train AUC: %.3f vs Test AUC: %.3f' %(DT_train['auc'], DT_test['auc']))"
      ],
      "execution_count": 60,
      "outputs": [
        {
          "output_type": "stream",
          "name": "stdout",
          "text": [
            "Confusion Matrix: \n",
            " [[211  79]\n",
            " [ 91  64]]\n",
            "\n",
            "Testing Accuracy: 0.62\n",
            "Precision:0.45\n",
            "Recall: 0.41\n",
            "False Positive Rate: 0.27\n",
            "\n",
            "Classification report:\n",
            "              precision    recall  f1-score   support\n",
            "\n",
            "           0       0.70      0.73      0.71       290\n",
            "           1       0.45      0.41      0.43       155\n",
            "\n",
            "    accuracy                           0.62       445\n",
            "   macro avg       0.57      0.57      0.57       445\n",
            "weighted avg       0.61      0.62      0.61       445\n",
            "\n",
            "AUC: 0.57\n"
          ]
        },
        {
          "output_type": "display_data",
          "data": {
            "image/png": "[encoded data removed]",
            "text/plain": [
              "<Figure size 432x288 with 1 Axes>"
            ]
          },
          "metadata": {
            "needs_background": "light"
          }
        },
        {
          "output_type": "display_data",
          "data": {
            "image/png": "[encoded data removed]",
            "text/plain": [
              "<Figure size 432x432 with 2 Axes>"
            ]
          },
          "metadata": {
            "needs_background": "light"
          }
        },
        {
          "output_type": "stream",
          "name": "stdout",
          "text": [
            "[[211  79]\n",
            " [ 91  64]]\n",
            "Train AUC: 0.854 vs Test AUC: 0.570\n"
          ]
        }
      ]
    },
    {
      "cell_type": "markdown",
      "metadata": {
        "id": "mOGaush6RBtf"
      },
      "source": [
        "# **Random Forest**\n",
        "\n",
        "This model has no max depth and allows bootstrapping observations during training. It uses GINI criterion to split and requires a minimum of 10 observations to split and the leaf node must have above 5 observations.\n"
      ]
    },
    {
      "cell_type": "code",
      "metadata": {
        "id": "C-g6W8k4k_A3",
        "colab": {
          "base_uri": "https://localhost:8080/",
          "height": 1000
        },
        "outputId": "664aa506-5827-4611-d962-3a458ce4f98c"
      },
      "source": [
        "from sklearn.ensemble import RandomForestClassifier\n",
        "\n",
        "# Build model\n",
        "randomForest = RandomForestClassifier(max_depth=None, min_samples_split=10, min_samples_leaf=5, \n",
        "                                      max_features='auto', bootstrap=True,verbose=0, criterion='gini')\n",
        "# Train the model with training set\n",
        "randomForest.fit(x_train, y_train)\n",
        "\n",
        "# Recording TPR and FPR for the TRAINING ROC curves\n",
        "y_pred = randomForest.predict(x_train)\n",
        "RF_train = {}\n",
        "RF_train['fpr'], RF_train['tpr'], thresh = roc_curve(y_train, y_pred)\n",
        "RF_train['auc'] = roc_auc_score(y_train, y_pred)\n",
        "\n",
        "# Predict the labels for testing set\n",
        "y_predicted = randomForest.predict(x_test)\n",
        "\n",
        "# Print performance measures\n",
        "print_performance('Random Forest', y_test, y_predicted)\n",
        "\n",
        "# Color Confusion Matrix\n",
        "color_confusion_matrix('Random Forest', randomForest, x_test, y_test, y_predicted)\n",
        "\n",
        "# Recording TPR and FPR for the multi-ROC curves\n",
        "RF_test = {}\n",
        "RF_test['fpr'], RF_test['tpr'], thresh = roc_curve(y_test, y_predicted)\n",
        "RF_test['auc'] = roc_auc_score(y_test, y_predicted)\n",
        "\n",
        "print('Train AUC: %.3f vs Test AUC: %.3f' %(RF_train['auc'], RF_test['auc']))"
      ],
      "execution_count": 61,
      "outputs": [
        {
          "output_type": "stream",
          "name": "stdout",
          "text": [
            "Confusion Matrix: \n",
            " [[225  65]\n",
            " [ 85  70]]\n",
            "\n",
            "Testing Accuracy: 0.66\n",
            "Precision:0.52\n",
            "Recall: 0.45\n",
            "False Positive Rate: 0.22\n",
            "\n",
            "Classification report:\n",
            "              precision    recall  f1-score   support\n",
            "\n",
            "           0       0.73      0.78      0.75       290\n",
            "           1       0.52      0.45      0.48       155\n",
            "\n",
            "    accuracy                           0.66       445\n",
            "   macro avg       0.62      0.61      0.62       445\n",
            "weighted avg       0.65      0.66      0.66       445\n",
            "\n",
            "AUC: 0.61\n"
          ]
        },
        {
          "output_type": "display_data",
          "data": {
            "image/png": "[encoded data removed]",
            "text/plain": [
              "<Figure size 432x288 with 1 Axes>"
            ]
          },
          "metadata": {
            "needs_background": "light"
          }
        },
        {
          "output_type": "display_data",
          "data": {
            "image/png": "[encoded data removed]",
            "text/plain": [
              "<Figure size 432x432 with 2 Axes>"
            ]
          },
          "metadata": {
            "needs_background": "light"
          }
        },
        {
          "output_type": "stream",
          "name": "stdout",
          "text": [
            "[[225  65]\n",
            " [ 85  70]]\n",
            "Train AUC: 0.946 vs Test AUC: 0.614\n"
          ]
        }
      ]
    },
    {
      "cell_type": "markdown",
      "metadata": {
        "id": "doGliXotvRgg"
      },
      "source": [
        "# **KNN**\n",
        "\n",
        "This model classifies each observation based on 3 nearest neighbors with uniform weight."
      ]
    },
    {
      "cell_type": "code",
      "metadata": {
        "id": "vHH_-Veot_FD",
        "colab": {
          "base_uri": "https://localhost:8080/",
          "height": 1000
        },
        "outputId": "bd247e40-c16e-44e0-c714-904ddaf0205d"
      },
      "source": [
        "from sklearn.neighbors import KNeighborsClassifier\n",
        "\n",
        "# Creat and Train KNN model\n",
        "KNN = KNeighborsClassifier(n_neighbors=3, weights='uniform')\n",
        "KNN.fit(x_train, y_train)\n",
        "\n",
        "# Recording TPR and FPR for the TRAINING ROC curves\n",
        "y_pred = KNN.predict(x_train)\n",
        "KNN_train = {}\n",
        "KNN_train['fpr'], KNN_train['tpr'], thresh = roc_curve(y_train, y_pred)\n",
        "KNN_train['auc'] = roc_auc_score(y_train, y_pred)\n",
        "\n",
        "# Predict testing data\n",
        "y_predicted = KNN.predict(x_test)\n",
        "\n",
        "# Print performance measures\n",
        "print_performance('KNN', y_test, y_predicted)\n",
        "\n",
        "# Color Confusion Matrix\n",
        "color_confusion_matrix('KNN', KNN, x_test, y_test, y_predicted)\n",
        "\n",
        "# Recording TPR and FPR for TESTING-ROC curves\n",
        "KNN_test = {}\n",
        "KNN_test['fpr'], KNN_test['tpr'], thresh = roc_curve(y_test, y_predicted)\n",
        "KNN_test['auc'] = roc_auc_score(y_test, y_predicted)\n",
        "\n",
        "print('Train AUC: %.3f vs Test AUC: %.3f' %(KNN_train['auc'], KNN_test['auc']))"
      ],
      "execution_count": 62,
      "outputs": [
        {
          "output_type": "stream",
          "name": "stdout",
          "text": [
            "Confusion Matrix: \n",
            " [[182 108]\n",
            " [ 62  93]]\n",
            "\n",
            "Testing Accuracy: 0.62\n",
            "Precision:0.46\n",
            "Recall: 0.60\n",
            "False Positive Rate: 0.37\n",
            "\n",
            "Classification report:\n",
            "              precision    recall  f1-score   support\n",
            "\n",
            "           0       0.75      0.63      0.68       290\n",
            "           1       0.46      0.60      0.52       155\n",
            "\n",
            "    accuracy                           0.62       445\n",
            "   macro avg       0.60      0.61      0.60       445\n",
            "weighted avg       0.65      0.62      0.63       445\n",
            "\n",
            "AUC: 0.61\n"
          ]
        },
        {
          "output_type": "display_data",
          "data": {
            "image/png": "[encoded data removed]",
            "text/plain": [
              "<Figure size 432x288 with 1 Axes>"
            ]
          },
          "metadata": {
            "needs_background": "light"
          }
        },
        {
          "output_type": "display_data",
          "data": {
            "image/png": "[encoded data removed]",
            "text/plain": [
              "<Figure size 432x432 with 2 Axes>"
            ]
          },
          "metadata": {
            "needs_background": "light"
          }
        },
        {
          "output_type": "stream",
          "name": "stdout",
          "text": [
            "[[182 108]\n",
            " [ 62  93]]\n",
            "Train AUC: 0.853 vs Test AUC: 0.614\n"
          ]
        }
      ]
    },
    {
      "cell_type": "markdown",
      "metadata": {
        "id": "Rv2CQsOUxLSv"
      },
      "source": [
        "# **Naive Bayes**"
      ]
    },
    {
      "cell_type": "code",
      "metadata": {
        "id": "DCLL6xLRwU1s",
        "colab": {
          "base_uri": "https://localhost:8080/",
          "height": 652
        },
        "outputId": "5514cfb1-2cce-46ed-d206-2efa5252c0e8"
      },
      "source": [
        "from sklearn.naive_bayes import GaussianNB\n",
        "\n",
        "# Create a Gaussian Naive Bayes classifier and train with training set\n",
        "NaiveBayes = GaussianNB()\n",
        "NaiveBayes.fit(x_train, y_train)\n",
        "\n",
        "# Recording TPR and FPR for the TRAINING ROC curves\n",
        "y_pred = NaiveBayes.predict(x_train)\n",
        "NB_train = {}\n",
        "NB_train['fpr'], NB_train['tpr'], thresh = roc_curve(y_train, y_pred)\n",
        "NB_train['auc'] = roc_auc_score(y_train, y_pred)\n",
        "\n",
        "# Predict testing data\n",
        "y_predicted = NaiveBayes.predict(x_test)\n",
        "\n",
        "# Print performance measures\n",
        "print_performance('Naive Bayes', y_test, y_predicted)\n",
        "\n",
        "# Recording TPR and FPR for the TESTING-ROC curves\n",
        "NB_test = {}\n",
        "NB_test['fpr'], NB_test['tpr'], thresh = roc_curve(y_test, y_predicted)\n",
        "NB_test['auc'] = roc_auc_score(y_test, y_predicted)\n",
        "\n",
        "print('Train AUC: %.3f vs Test AUC: %.3f' %(NB_train['auc'], NB_test['auc']))"
      ],
      "execution_count": 63,
      "outputs": [
        {
          "output_type": "stream",
          "name": "stdout",
          "text": [
            "Confusion Matrix: \n",
            " [[139 151]\n",
            " [ 55 100]]\n",
            "\n",
            "Testing Accuracy: 0.54\n",
            "Precision:0.40\n",
            "Recall: 0.65\n",
            "False Positive Rate: 0.52\n",
            "\n",
            "Classification report:\n",
            "              precision    recall  f1-score   support\n",
            "\n",
            "           0       0.72      0.48      0.57       290\n",
            "           1       0.40      0.65      0.49       155\n",
            "\n",
            "    accuracy                           0.54       445\n",
            "   macro avg       0.56      0.56      0.53       445\n",
            "weighted avg       0.61      0.54      0.55       445\n",
            "\n",
            "AUC: 0.56\n"
          ]
        },
        {
          "output_type": "display_data",
          "data": {
            "image/png": "[encoded data removed]",
            "text/plain": [
              "<Figure size 432x288 with 1 Axes>"
            ]
          },
          "metadata": {
            "needs_background": "light"
          }
        },
        {
          "output_type": "stream",
          "name": "stdout",
          "text": [
            "Train AUC: 0.561 vs Test AUC: 0.562\n"
          ]
        }
      ]
    },
    {
      "cell_type": "markdown",
      "metadata": {
        "id": "uEo_klFtXk2P"
      },
      "source": [
        "# **Graphing multi-ROC Curves**"
      ]
    },
    {
      "cell_type": "code",
      "metadata": {
        "id": "aytUbSONXhhJ"
      },
      "source": [
        "# Graphing overlaid ROC curves, where each one represents a model AUC score\n",
        "def graph_multi_ROC ():\n",
        "  # Set color for each model\n",
        "  colors = {'KM': 'lightcoral','LR': 'darkorange', 'SVM':'lime', 'NB': 'steelblue',\n",
        "            'NN': 'purple','DT': 'magenta','RF': 'deeppink','KNN': 'darkturquoise',\n",
        "            'BERT': 'darkred', 'GPT': 'blue'}\n",
        "  # Set marker for each model          \n",
        "  markers = {'KM':'1--','LR': 'v--', 'SVM': '^--', 'NN': '*--', 'DT': 'o--', 'RF': '+--', 'KNN': '.--', 'NB': 'x--', 'BERT':'<--', 'GPT': '>--'}\n",
        "  \n",
        "  plt.figure(figsize=(9,6))\n",
        "\n",
        "  plt.plot(KM_test.get('fpr'), KM_test.get('tpr'), markers.get('KM'), color=colors.get('KM'),  label=\"KM - AUC=\" + str(KM_test.get('auc').round(3)))\n",
        "  plt.plot(LR_test.get('fpr'), LR_test.get('tpr'), markers.get('LR'), color=colors.get('LR'),  label=\"LR - AUC=\" + str(LR_test.get('auc').round(3)))\n",
        "  plt.plot(SVM_test.get('fpr'),SVM_test.get('tpr'),markers.get('SVM'),color=colors.get('SVM'), label=\"SVM - AUC=\"+ str(SVM_test.get('auc').round(3)))\n",
        "  plt.plot(NN_test.get('fpr'), NN_test.get('tpr'), markers.get('NN'), color=colors.get('NN'),  label=\"NN - AUC=\" + str(NN_test.get('auc').round(3)))\n",
        "  plt.plot(DT_test.get('fpr'), DT_test.get('tpr'), markers.get('DT'), color=colors.get('DT'),  label=\"DT - AUC=\" + str(DT_test.get('auc').round(3)))\n",
        "  plt.plot(RF_test.get('fpr'), RF_test.get('tpr'), markers.get('RF'), color=colors.get('RF'),  label=\"RF - AUC=\" + str(RF_test.get('auc').round(3)))\n",
        "  plt.plot(KNN_test.get('fpr'),KNN_test.get('tpr'),markers.get('KNN'),color=colors.get('KNN'), label=\"KNN - AUC=\"+ str(KNN_test.get('auc').round(3)))\n",
        "  plt.plot(NB_test.get('fpr'), NB_test.get('tpr'), markers.get('NB'), color=colors.get('NB'),  label=\"NB - AUC=\" + str(NB_test.get('auc').round(3)))\n",
        "  plt.plot(BERT_test.get('fpr'),BERT_test.get('tpr'), markers.get('BERT'), color=colors.get('BERT'),  label=\"BERT - AUC=\"+ str(BERT_test.get('auc').round(3)))\n",
        "  plt.plot(GPT_test.get('fpr'),GPT_test.get('tpr'), markers.get('GPT'), color=colors.get('GPT'),  label=\"GPT-2 - AUC=\"+ str(GPT_test.get('auc').round(3)))\n",
        "\n",
        "  plt.plot([0,1], [0,1], 'k--', label='Random Chances')\n",
        "  plt.xlim([0.0,1.0])\n",
        "  plt.ylim([0.0,1.02])\n",
        "  plt.ylabel('Recall')\n",
        "  plt.xlabel('False Positive Rate (1-Specificity)')\n",
        "  plt.legend(loc='lower right') \n",
        "  plt.title( 'Testing ROCs on ' + DATA)\n",
        "  #plt.savefig(DATA_I+'-'+train_or_test+'.jpg', dpi = 80)\n",
        "  plt.show()"
      ],
      "execution_count": 64,
      "outputs": []
    },
    {
      "cell_type": "markdown",
      "metadata": {
        "id": "bZ-JMcBqmnN9"
      },
      "source": [
        "# **BERT**\n"
      ]
    },
    {
      "cell_type": "code",
      "metadata": {
        "colab": {
          "base_uri": "https://localhost:8080/",
          "height": 799
        },
        "id": "7k6L-u3Lmmpb",
        "outputId": "f9f2baa3-774c-4d9c-ff17-27378a5ff0bf"
      },
      "source": [
        "!pip install pytorch_pretrained_bert pytorch-nlp"
      ],
      "execution_count": 65,
      "outputs": [
        {
          "output_type": "stream",
          "name": "stdout",
          "text": [
            "Collecting pytorch_pretrained_bert\n",
            "  Downloading pytorch_pretrained_bert-0.6.2-py3-none-any.whl (123 kB)\n",
            "\u001b[K     |████████████████████████████████| 123 kB 5.3 MB/s \n",
            "\u001b[?25hCollecting pytorch-nlp\n",
            "  Downloading pytorch_nlp-0.5.0-py3-none-any.whl (90 kB)\n",
            "\u001b[K     |████████████████████████████████| 90 kB 8.1 MB/s \n",
            "\u001b[?25hRequirement already satisfied: torch>=0.4.1 in /usr/local/lib/python3.7/dist-packages (from pytorch_pretrained_bert) (1.9.0+cu111)\n",
            "Requirement already satisfied: tqdm in /usr/local/lib/python3.7/dist-packages (from pytorch_pretrained_bert) (4.62.3)\n",
            "Collecting boto3\n",
            "  Downloading boto3-1.18.58-py3-none-any.whl (131 kB)\n",
            "\u001b[K     |████████████████████████████████| 131 kB 44.4 MB/s \n",
            "\u001b[?25hRequirement already satisfied: regex in /usr/local/lib/python3.7/dist-packages (from pytorch_pretrained_bert) (2019.12.20)\n",
            "Requirement already satisfied: numpy in /usr/local/lib/python3.7/dist-packages (from pytorch_pretrained_bert) (1.19.5)\n",
            "Requirement already satisfied: requests in /usr/local/lib/python3.7/dist-packages (from pytorch_pretrained_bert) (2.23.0)\n",
            "Requirement already satisfied: typing-extensions in /usr/local/lib/python3.7/dist-packages (from torch>=0.4.1->pytorch_pretrained_bert) (3.7.4.3)\n",
            "Collecting jmespath<1.0.0,>=0.7.1\n",
            "  Downloading jmespath-0.10.0-py2.py3-none-any.whl (24 kB)\n",
            "Collecting s3transfer<0.6.0,>=0.5.0\n",
            "  Downloading s3transfer-0.5.0-py3-none-any.whl (79 kB)\n",
            "\u001b[K     |████████████████████████████████| 79 kB 7.5 MB/s \n",
            "\u001b[?25hCollecting botocore<1.22.0,>=1.21.58\n",
            "  Downloading botocore-1.21.58-py3-none-any.whl (8.0 MB)\n",
            "\u001b[K     |████████████████████████████████| 8.0 MB 45.8 MB/s \n",
            "\u001b[?25hCollecting urllib3<1.27,>=1.25.4\n",
            "  Downloading urllib3-1.26.7-py2.py3-none-any.whl (138 kB)\n",
            "\u001b[K     |████████████████████████████████| 138 kB 53.5 MB/s \n",
            "\u001b[?25hRequirement already satisfied: python-dateutil<3.0.0,>=2.1 in /usr/local/lib/python3.7/dist-packages (from botocore<1.22.0,>=1.21.58->boto3->pytorch_pretrained_bert) (2.8.2)\n",
            "Requirement already satisfied: six>=1.5 in /usr/local/lib/python3.7/dist-packages (from python-dateutil<3.0.0,>=2.1->botocore<1.22.0,>=1.21.58->boto3->pytorch_pretrained_bert) (1.15.0)\n",
            "  Downloading urllib3-1.25.11-py2.py3-none-any.whl (127 kB)\n",
            "\u001b[K     |████████████████████████████████| 127 kB 47.8 MB/s \n",
            "\u001b[?25hRequirement already satisfied: idna<3,>=2.5 in /usr/local/lib/python3.7/dist-packages (from requests->pytorch_pretrained_bert) (2.10)\n",
            "Requirement already satisfied: chardet<4,>=3.0.2 in /usr/local/lib/python3.7/dist-packages (from requests->pytorch_pretrained_bert) (3.0.4)\n",
            "Requirement already satisfied: certifi>=2017.4.17 in /usr/local/lib/python3.7/dist-packages (from requests->pytorch_pretrained_bert) (2021.5.30)\n",
            "Installing collected packages: urllib3, jmespath, botocore, s3transfer, boto3, pytorch-pretrained-bert, pytorch-nlp\n",
            "  Attempting uninstall: urllib3\n",
            "    Found existing installation: urllib3 1.24.3\n",
            "    Uninstalling urllib3-1.24.3:\n",
            "      Successfully uninstalled urllib3-1.24.3\n",
            "\u001b[31mERROR: pip's dependency resolver does not currently take into account all the packages that are installed. This behaviour is the source of the following dependency conflicts.\n",
            "datascience 0.10.6 requires folium==0.2.1, but you have folium 0.8.3 which is incompatible.\u001b[0m\n",
            "Successfully installed boto3-1.18.58 botocore-1.21.58 jmespath-0.10.0 pytorch-nlp-0.5.0 pytorch-pretrained-bert-0.6.2 s3transfer-0.5.0 urllib3-1.25.11\n"
          ]
        },
        {
          "output_type": "display_data",
          "data": {
            "application/vnd.colab-display-data+json": {
              "pip_warning": {
                "packages": [
                  "urllib3"
                ]
              }
            }
          },
          "metadata": {}
        }
      ]
    },
    {
      "cell_type": "code",
      "metadata": {
        "id": "TsHMmMB76B9W"
      },
      "source": [
        "from pytorch_pretrained_bert import BertModel\n",
        "from torch import nn\n",
        "from pytorch_pretrained_bert import BertTokenizer\n",
        "from keras.preprocessing.sequence import pad_sequences\n",
        "import torch\n",
        "from torch.utils.data import TensorDataset, DataLoader, RandomSampler, SequentialSampler\n",
        "from torch.optim import Adam\n",
        "from torch.nn.utils import clip_grad_norm_\n",
        "from IPython.display import clear_output"
      ],
      "execution_count": 66,
      "outputs": []
    },
    {
      "cell_type": "markdown",
      "metadata": {
        "id": "J_NgiJJQm6Xx"
      },
      "source": [
        "**Prepare for Train and test data for BERT**"
      ]
    },
    {
      "cell_type": "code",
      "metadata": {
        "id": "fDMTse2Jm0Bc",
        "colab": {
          "base_uri": "https://localhost:8080/"
        },
        "outputId": "0689472b-18d2-453f-c480-4e937dfc136d"
      },
      "source": [
        "train_texts = []\n",
        "for i in range(x_train.shape[0]):\n",
        "     train_texts.append(\" \".join(np.array(x_train.iloc[i,:]).astype(str)))\n",
        "train_texts = tuple(train_texts) \n",
        "\n",
        "test_texts = []\n",
        "for i in range(x_test.shape[0]):\n",
        "     test_texts.append(\" \".join(np.array(x_test.iloc[i,:]).astype(str)))\n",
        "test_texts = tuple(test_texts) \n",
        "\n",
        "train_labels = tuple(y_train.tolist())\n",
        "test_labels = tuple(y_test.tolist())\n",
        "\n",
        "len(train_texts), len(train_labels), len(test_texts), len(test_labels)"
      ],
      "execution_count": 67,
      "outputs": [
        {
          "output_type": "execute_result",
          "data": {
            "text/plain": [
              "(1286, 1286, 445, 445)"
            ]
          },
          "metadata": {},
          "execution_count": 67
        }
      ]
    },
    {
      "cell_type": "code",
      "metadata": {
        "id": "Gf2Lbwylm_ia",
        "colab": {
          "base_uri": "https://localhost:8080/"
        },
        "outputId": "e0e471d9-6b03-412b-e3b6-4844f669c1f0"
      },
      "source": [
        "# Tokenizer \n",
        "tokenizer = BertTokenizer.from_pretrained('bert-base-uncased', do_lower_case=True)\n",
        "\n",
        "# Example\n",
        "tokenizer.tokenize(train_texts[8])"
      ],
      "execution_count": 68,
      "outputs": [
        {
          "output_type": "stream",
          "name": "stderr",
          "text": [
            "100%|██████████| 231508/231508 [00:00<00:00, 2382011.14B/s]\n"
          ]
        },
        {
          "output_type": "execute_result",
          "data": {
            "text/plain": [
              "['6',\n",
              " '125',\n",
              " '5',\n",
              " '3',\n",
              " '90',\n",
              " '90',\n",
              " '90',\n",
              " '90',\n",
              " '6',\n",
              " '125',\n",
              " '91',\n",
              " '125',\n",
              " '125',\n",
              " '125',\n",
              " '125']"
            ]
          },
          "metadata": {},
          "execution_count": 68
        }
      ]
    },
    {
      "cell_type": "code",
      "metadata": {
        "id": "_dp_XAarnZqN",
        "colab": {
          "base_uri": "https://localhost:8080/"
        },
        "outputId": "69433662-995f-48b5-9a78-b70d14e9c32e"
      },
      "source": [
        "# Convert to tokens using tokenizer\n",
        "train_tokens = list(map(lambda t: ['[CLS]'] + tokenizer.tokenize(t)[:20] + ['[SEP]'], train_texts))\n",
        "test_tokens = list(map(lambda t: ['[CLS]'] + tokenizer.tokenize(t)[:20] + ['[SEP]'], test_texts))\n",
        "\n",
        "print('Number of Training Sequences:',len(train_tokens), '\\nNumber of Testing Sequences:', len(test_tokens) )       "
      ],
      "execution_count": 69,
      "outputs": [
        {
          "output_type": "stream",
          "name": "stdout",
          "text": [
            "Number of Training Sequences: 1286 \n",
            "Number of Testing Sequences: 445\n"
          ]
        }
      ]
    },
    {
      "cell_type": "code",
      "metadata": {
        "id": "8MH_bWrznbYv",
        "colab": {
          "base_uri": "https://localhost:8080/"
        },
        "outputId": "ed6c77d1-908d-4281-d954-c235ad774aa1"
      },
      "source": [
        "# Following is to convert List of words to list of numbers. (Words are replaced by their index in dictionar)\n",
        "train_tokens_ids = pad_sequences(list(map(tokenizer.convert_tokens_to_ids, train_tokens)), maxlen=20, truncating=\"post\", padding=\"post\", dtype=\"int\")\n",
        "test_tokens_ids = pad_sequences(list(map(tokenizer.convert_tokens_to_ids, test_tokens)), maxlen=20, truncating=\"post\", padding=\"post\", dtype=\"int\")\n",
        "\n",
        "train_tokens_ids.shape, test_tokens_ids.shape"
      ],
      "execution_count": 70,
      "outputs": [
        {
          "output_type": "execute_result",
          "data": {
            "text/plain": [
              "((1286, 20), (445, 20))"
            ]
          },
          "metadata": {},
          "execution_count": 70
        }
      ]
    },
    {
      "cell_type": "code",
      "metadata": {
        "id": "2B9WKzfendjw",
        "colab": {
          "base_uri": "https://localhost:8080/"
        },
        "outputId": "4af44e23-1ab8-4fb1-c686-ef11120573ba"
      },
      "source": [
        "# Prepare labels\n",
        "# True if intrusion or False if normal\n",
        "train_y = np.array(train_labels) == 1\n",
        "test_y = np.array(test_labels) == 1\n",
        "train_y.shape, test_y.shape, np.mean(train_y), np.mean(test_y)"
      ],
      "execution_count": 71,
      "outputs": [
        {
          "output_type": "execute_result",
          "data": {
            "text/plain": [
              "((1286,), (445,), 0.5, 0.34831460674157305)"
            ]
          },
          "metadata": {},
          "execution_count": 71
        }
      ]
    },
    {
      "cell_type": "code",
      "metadata": {
        "id": "B1q-b-LKnfbH"
      },
      "source": [
        "# To mask the paddings\n",
        "train_masks = [[float(i > 0) for i in ii] for ii in train_tokens_ids]\n",
        "test_masks = [[float(i > 0) for i in ii] for ii in test_tokens_ids]"
      ],
      "execution_count": 72,
      "outputs": []
    },
    {
      "cell_type": "code",
      "metadata": {
        "id": "7tZ3gKOtng_v"
      },
      "source": [
        "# Define BERT model\n",
        "class BertBinaryClassifier(nn.Module):\n",
        "    def __init__(self, dropout=0.1):\n",
        "        super(BertBinaryClassifier, self).__init__()\n",
        "\n",
        "        self.bert = BertModel.from_pretrained('bert-base-uncased')\n",
        "        self.dropout = nn.Dropout(dropout)\n",
        "        self.linear = nn.Linear(768, 1)\n",
        "        self.sigmoid = nn.Sigmoid()\n",
        "    \n",
        "    def forward(self, tokens, masks=None):\n",
        "        # First Layer\n",
        "        _, pooled_output = self.bert(tokens, attention_mask=masks, output_all_encoded_layers=False)\n",
        "\n",
        "        dropout_output = self.dropout(pooled_output)\n",
        "\n",
        "        linear_output = self.linear(dropout_output)\n",
        "        \n",
        "        # output layer\n",
        "        proba = self.sigmoid(linear_output)\n",
        "        \n",
        "        return proba\n",
        "      \n",
        "    def train_m(self,x,y,train_mask,epochs,batchsize):\n",
        "      train_tokens_tensor = torch.tensor(x)\n",
        "      train_y_tensor = torch.tensor(y.reshape(-1, 1)).float()\n",
        "      train_masks_tensor = torch.tensor(train_mask)\n",
        "\n",
        "      train_dataset = TensorDataset(train_tokens_tensor, train_masks_tensor, train_y_tensor)\n",
        "      train_sampler = RandomSampler(train_dataset)\n",
        "      train_dataloader = DataLoader(train_dataset, sampler=train_sampler, batch_size=batchsize) \n",
        "\n",
        "\n",
        "      param_optimizer = list(self.sigmoid.named_parameters()) \n",
        "      optimizer_grouped_parameters = [{\"params\": [p for n, p in param_optimizer]}]\n",
        "      optimizer = Adam(self.bert.parameters(), lr=2e-5)\n",
        "      for epoch_num in range(epochs):\n",
        "          self.train() # Training Flag\n",
        "          train_loss = 0\n",
        "          for step_num, batch_data in enumerate(train_dataloader):\n",
        "              \n",
        "              # Load batch on device memory\n",
        "              token_ids, masks, labels = tuple(t.to(device) for t in batch_data)\n",
        "\n",
        "              # Get the output of the model for provided input\n",
        "              logits = self(token_ids, masks)\n",
        "              \n",
        "              # Loss function\n",
        "              loss_func = nn.BCELoss()\n",
        "\n",
        "              # Calculate Loss\n",
        "              batch_loss = loss_func(logits, labels)\n",
        "              train_loss += batch_loss.item()\n",
        "              \n",
        "              # backpropagate the error\n",
        "              self.zero_grad()\n",
        "              batch_loss.backward()\n",
        "              \n",
        "              # Update the Weights of the Model\n",
        "              clip_grad_norm_(parameters=self.parameters(), max_norm=1.0)\n",
        "              optimizer.step()\n",
        "              \n",
        "              clear_output(wait=True)\n",
        "              print('Epoch: ', epoch_num + 1)\n",
        "              print(\"\\r\" + \"{0}/{1} loss: {2} \".format(step_num, len(train_labels) / batchsize, train_loss / (step_num + 1)))        "
      ],
      "execution_count": 73,
      "outputs": []
    },
    {
      "cell_type": "code",
      "metadata": {
        "id": "MA0ADfkpnjgv",
        "colab": {
          "base_uri": "https://localhost:8080/"
        },
        "outputId": "57ffc85f-21cb-4431-cb0a-3fd832e947e3"
      },
      "source": [
        "device = torch.device(\"cuda\" if torch.cuda.is_available() else \"cpu\")\n",
        "device"
      ],
      "execution_count": 74,
      "outputs": [
        {
          "output_type": "execute_result",
          "data": {
            "text/plain": [
              "device(type='cuda')"
            ]
          },
          "metadata": {},
          "execution_count": 74
        }
      ]
    },
    {
      "cell_type": "code",
      "metadata": {
        "id": "1CZERb2Onk_v",
        "colab": {
          "base_uri": "https://localhost:8080/"
        },
        "outputId": "d3ab45be-b930-43c1-cd9d-5dbffb567581"
      },
      "source": [
        "bert_clf = BertBinaryClassifier()\n",
        "bert_clf = bert_clf.cuda()"
      ],
      "execution_count": 75,
      "outputs": [
        {
          "output_type": "stream",
          "name": "stderr",
          "text": [
            "100%|██████████| 407873900/407873900 [00:11<00:00, 35706550.17B/s]\n"
          ]
        }
      ]
    },
    {
      "cell_type": "markdown",
      "metadata": {
        "id": "pjM08A0OoGro"
      },
      "source": [
        "**Fine Tune BERT**"
      ]
    },
    {
      "cell_type": "code",
      "metadata": {
        "id": "uUS_cifIn1_Y",
        "colab": {
          "base_uri": "https://localhost:8080/"
        },
        "outputId": "42213bbf-8243-4f75-adf6-3b11a90e52f6"
      },
      "source": [
        "# Train BERT NLP\n",
        "bert_clf.train_m(train_tokens_ids,train_y,train_masks,8,16)"
      ],
      "execution_count": 76,
      "outputs": [
        {
          "output_type": "stream",
          "name": "stdout",
          "text": [
            "Epoch:  8\n",
            "\r80/80.375 loss: 0.13654950567532653 \n"
          ]
        }
      ]
    },
    {
      "cell_type": "markdown",
      "metadata": {
        "id": "RUTlJLsooNrq"
      },
      "source": [
        "**Evaluate on Testing Set**"
      ]
    },
    {
      "cell_type": "code",
      "metadata": {
        "id": "ly5Mhn9SoKxw"
      },
      "source": [
        "# Convert token ids to tensor \n",
        "test_tokens_tensor = torch.tensor(test_tokens_ids)\n",
        "\n",
        "# Convert labels to tensors\n",
        "test_y_tensor = torch.tensor(test_y.reshape(-1, 1)).float()\n",
        "\n",
        "# Convert to tensro for maks\n",
        "test_masks_tensor = torch.tensor(test_masks)\n",
        "\n",
        "\n",
        "# Load Token, token mask and label into Dataloader\n",
        "test_dataset = TensorDataset(test_tokens_tensor, test_masks_tensor, test_y_tensor)\n",
        "\n",
        "# Define sampler\n",
        "test_sampler = SequentialSampler(test_dataset)\n",
        "\n",
        "# Defile test data loader\n",
        "test_dataloader = DataLoader(test_dataset, sampler=test_sampler, batch_size=16)"
      ],
      "execution_count": 77,
      "outputs": []
    },
    {
      "cell_type": "code",
      "metadata": {
        "id": "Q1gC8UusoWfo"
      },
      "source": [
        "bert_clf.eval() # Define eval\n",
        "bert_predicted = [] # To Store predicted result\n",
        "all_logits = [] # Actual output that is between 0 to 1 is stored here\n",
        "\n",
        "with torch.no_grad():\n",
        "    for step_num, batch_data in enumerate(test_dataloader):\n",
        "\n",
        "        # Load the batch on gpu memory\n",
        "        token_ids, masks, labels = tuple(t.to(device) for t in batch_data)\n",
        "\n",
        "        # Calculate ouput of bert\n",
        "        logits = bert_clf(token_ids, masks)\n",
        "\n",
        "        # Get the numpy logits\n",
        "        numpy_logits = logits.cpu().detach().numpy()  # Detach from the GPU memory\n",
        "        \n",
        "        # Using the threshold find binary \n",
        "        bert_predicted += list(numpy_logits[:, 0] > 0.5)  # Threshold conversion\n",
        "        all_logits += list(numpy_logits[:, 0])"
      ],
      "execution_count": 78,
      "outputs": []
    },
    {
      "cell_type": "code",
      "metadata": {
        "id": "hKmOvtXDoiL9",
        "colab": {
          "base_uri": "https://localhost:8080/",
          "height": 635
        },
        "outputId": "542abc3e-c7ed-4108-a582-82426188e3b2"
      },
      "source": [
        "print_performance('BERT',test_y, bert_predicted)\n",
        "\n",
        "# Recording TPR and FPR for the TESTING-ROC curves\n",
        "BERT_test = {}\n",
        "BERT_test['fpr'], BERT_test['tpr'], thresh = roc_curve(test_y, bert_predicted)\n",
        "BERT_test['auc'] = roc_auc_score(test_y, bert_predicted)"
      ],
      "execution_count": 79,
      "outputs": [
        {
          "output_type": "stream",
          "name": "stdout",
          "text": [
            "Confusion Matrix: \n",
            " [[270  20]\n",
            " [ 33 122]]\n",
            "\n",
            "Testing Accuracy: 0.88\n",
            "Precision:0.86\n",
            "Recall: 0.79\n",
            "False Positive Rate: 0.07\n",
            "\n",
            "Classification report:\n",
            "              precision    recall  f1-score   support\n",
            "\n",
            "       False       0.89      0.93      0.91       290\n",
            "        True       0.86      0.79      0.82       155\n",
            "\n",
            "    accuracy                           0.88       445\n",
            "   macro avg       0.88      0.86      0.87       445\n",
            "weighted avg       0.88      0.88      0.88       445\n",
            "\n",
            "AUC: 0.86\n"
          ]
        },
        {
          "output_type": "display_data",
          "data": {
            "image/png": "[encoded data removed]",
            "text/plain": [
              "<Figure size 432x288 with 1 Axes>"
            ]
          },
          "metadata": {
            "needs_background": "light"
          }
        }
      ]
    },
    {
      "cell_type": "markdown",
      "metadata": {
        "id": "mSuD_5c43X10"
      },
      "source": [
        "# **GPT-2**"
      ]
    },
    {
      "cell_type": "code",
      "metadata": {
        "id": "3HueSQ1KsukV",
        "colab": {
          "base_uri": "https://localhost:8080/"
        },
        "outputId": "f5ca4633-ebc5-42b7-c1a2-f3b209680a0a"
      },
      "source": [
        "!pip install transformers\n",
        "\n",
        "from transformers import GPT2Tokenizer, GPT2ForSequenceClassification"
      ],
      "execution_count": 80,
      "outputs": [
        {
          "output_type": "stream",
          "name": "stdout",
          "text": [
            "Collecting transformers\n",
            "  Downloading transformers-4.11.3-py3-none-any.whl (2.9 MB)\n",
            "\u001b[K     |████████████████████████████████| 2.9 MB 5.3 MB/s \n",
            "\u001b[?25hRequirement already satisfied: importlib-metadata in /usr/local/lib/python3.7/dist-packages (from transformers) (4.8.1)\n",
            "Requirement already satisfied: tqdm>=4.27 in /usr/local/lib/python3.7/dist-packages (from transformers) (4.62.3)\n",
            "Requirement already satisfied: packaging>=20.0 in /usr/local/lib/python3.7/dist-packages (from transformers) (21.0)\n",
            "Requirement already satisfied: requests in /usr/local/lib/python3.7/dist-packages (from transformers) (2.23.0)\n",
            "Collecting tokenizers<0.11,>=0.10.1\n",
            "  Downloading tokenizers-0.10.3-cp37-cp37m-manylinux_2_5_x86_64.manylinux1_x86_64.manylinux_2_12_x86_64.manylinux2010_x86_64.whl (3.3 MB)\n",
            "\u001b[K     |████████████████████████████████| 3.3 MB 33.7 MB/s \n",
            "\u001b[?25hCollecting huggingface-hub>=0.0.17\n",
            "  Downloading huggingface_hub-0.0.19-py3-none-any.whl (56 kB)\n",
            "\u001b[K     |████████████████████████████████| 56 kB 4.7 MB/s \n",
            "\u001b[?25hCollecting pyyaml>=5.1\n",
            "  Downloading PyYAML-5.4.1-cp37-cp37m-manylinux1_x86_64.whl (636 kB)\n",
            "\u001b[K     |████████████████████████████████| 636 kB 41.7 MB/s \n",
            "\u001b[?25hRequirement already satisfied: filelock in /usr/local/lib/python3.7/dist-packages (from transformers) (3.3.0)\n",
            "Requirement already satisfied: numpy>=1.17 in /usr/local/lib/python3.7/dist-packages (from transformers) (1.19.5)\n",
            "Requirement already satisfied: regex!=2019.12.17 in /usr/local/lib/python3.7/dist-packages (from transformers) (2019.12.20)\n",
            "Collecting sacremoses\n",
            "  Downloading sacremoses-0.0.46-py3-none-any.whl (895 kB)\n",
            "\u001b[K     |████████████████████████████████| 895 kB 51.3 MB/s \n",
            "\u001b[?25hRequirement already satisfied: typing-extensions in /usr/local/lib/python3.7/dist-packages (from huggingface-hub>=0.0.17->transformers) (3.7.4.3)\n",
            "Requirement already satisfied: pyparsing>=2.0.2 in /usr/local/lib/python3.7/dist-packages (from packaging>=20.0->transformers) (2.4.7)\n",
            "Requirement already satisfied: zipp>=0.5 in /usr/local/lib/python3.7/dist-packages (from importlib-metadata->transformers) (3.6.0)\n",
            "Requirement already satisfied: idna<3,>=2.5 in /usr/local/lib/python3.7/dist-packages (from requests->transformers) (2.10)\n",
            "Requirement already satisfied: chardet<4,>=3.0.2 in /usr/local/lib/python3.7/dist-packages (from requests->transformers) (3.0.4)\n",
            "Requirement already satisfied: certifi>=2017.4.17 in /usr/local/lib/python3.7/dist-packages (from requests->transformers) (2021.5.30)\n",
            "Requirement already satisfied: urllib3!=1.25.0,!=1.25.1,<1.26,>=1.21.1 in /usr/local/lib/python3.7/dist-packages (from requests->transformers) (1.25.11)\n",
            "Requirement already satisfied: joblib in /usr/local/lib/python3.7/dist-packages (from sacremoses->transformers) (1.0.1)\n",
            "Requirement already satisfied: click in /usr/local/lib/python3.7/dist-packages (from sacremoses->transformers) (7.1.2)\n",
            "Requirement already satisfied: six in /usr/local/lib/python3.7/dist-packages (from sacremoses->transformers) (1.15.0)\n",
            "Installing collected packages: pyyaml, tokenizers, sacremoses, huggingface-hub, transformers\n",
            "  Attempting uninstall: pyyaml\n",
            "    Found existing installation: PyYAML 3.13\n",
            "    Uninstalling PyYAML-3.13:\n",
            "      Successfully uninstalled PyYAML-3.13\n",
            "Successfully installed huggingface-hub-0.0.19 pyyaml-5.4.1 sacremoses-0.0.46 tokenizers-0.10.3 transformers-4.11.3\n"
          ]
        }
      ]
    },
    {
      "cell_type": "code",
      "metadata": {
        "id": "5-gD9nyo4S1D",
        "colab": {
          "base_uri": "https://localhost:8080/",
          "height": 145
        },
        "outputId": "082bd905-f4a3-4a15-ca46-07aa548e46ce"
      },
      "source": [
        "tokenizer = GPT2Tokenizer.from_pretrained('microsoft/DialoGPT-small')"
      ],
      "execution_count": 81,
      "outputs": [
        {
          "output_type": "display_data",
          "data": {
            "application/vnd.jupyter.widget-view+json": {
              "model_id": "3290faa1e09149789355737903b7b9e5",
              "version_minor": 0,
              "version_major": 2
            },
            "text/plain": [
              "Downloading:   0%|          | 0.00/0.99M [00:00<?, ?B/s]"
            ]
          },
          "metadata": {}
        },
        {
          "output_type": "display_data",
          "data": {
            "application/vnd.jupyter.widget-view+json": {
              "model_id": "e944287818c64a798ea1b267bf28fb08",
              "version_minor": 0,
              "version_major": 2
            },
            "text/plain": [
              "Downloading:   0%|          | 0.00/446k [00:00<?, ?B/s]"
            ]
          },
          "metadata": {}
        },
        {
          "output_type": "display_data",
          "data": {
            "application/vnd.jupyter.widget-view+json": {
              "model_id": "3df0387cc6e9437293a623d8cdb98f94",
              "version_minor": 0,
              "version_major": 2
            },
            "text/plain": [
              "Downloading:   0%|          | 0.00/26.0 [00:00<?, ?B/s]"
            ]
          },
          "metadata": {}
        },
        {
          "output_type": "display_data",
          "data": {
            "application/vnd.jupyter.widget-view+json": {
              "model_id": "c1f7a76717664d688c94df9b191b0729",
              "version_minor": 0,
              "version_major": 2
            },
            "text/plain": [
              "Downloading:   0%|          | 0.00/641 [00:00<?, ?B/s]"
            ]
          },
          "metadata": {}
        }
      ]
    },
    {
      "cell_type": "code",
      "metadata": {
        "id": "LkYOrTFA4YUN"
      },
      "source": [
        "# Padding sequences from the right to a max length of 20\n",
        "tokenizer.padding_side = \"right\"\n",
        "tokenizer.pad_token = tokenizer.eos_token\n",
        "train_tokens = tokenizer(train_texts,return_tensors='pt',truncation=True,padding=True,max_length=20)\n",
        "test_tokens = tokenizer(test_texts,return_tensors='pt',truncation=True,padding=True,max_length=20)"
      ],
      "execution_count": 82,
      "outputs": []
    },
    {
      "cell_type": "code",
      "metadata": {
        "id": "oHRofoti4g24",
        "colab": {
          "base_uri": "https://localhost:8080/"
        },
        "outputId": "74cf171b-acc1-4a80-88f5-1df0330b9df5"
      },
      "source": [
        "# Following is to convert List of words to list of numbers. (Words are replaced by their index in dictionar)\n",
        "\n",
        "train_tokens_ids = train_tokens.input_ids\n",
        "test_tokens_ids = test_tokens.input_ids\n",
        "\n",
        "train_tokens_ids.shape, test_tokens_ids.shape"
      ],
      "execution_count": 83,
      "outputs": [
        {
          "output_type": "execute_result",
          "data": {
            "text/plain": [
              "(torch.Size([1286, 15]), torch.Size([445, 15]))"
            ]
          },
          "metadata": {},
          "execution_count": 83
        }
      ]
    },
    {
      "cell_type": "code",
      "metadata": {
        "id": "udvDwEdz4haO"
      },
      "source": [
        "train_masks = train_tokens.attention_mask\n",
        "test_masks = test_tokens.attention_mask"
      ],
      "execution_count": 84,
      "outputs": []
    },
    {
      "cell_type": "markdown",
      "metadata": {
        "id": "23qklJA_6Q2L"
      },
      "source": [
        "**Create GPT-2 Classifer**"
      ]
    },
    {
      "cell_type": "code",
      "metadata": {
        "id": "2LiNms1g6PqS"
      },
      "source": [
        "class GTP2BinaryClassifier(nn.Module):\n",
        "    def __init__(self, dropout=0.1):\n",
        "        super(GTP2BinaryClassifier, self).__init__()\n",
        "        self.gtp2 = GPT2ForSequenceClassification.from_pretrained('microsoft/DialoGPT-small')\n",
        "      \n",
        "    def train_m(self,x,y,train_mask,epochs,batchsize):\n",
        "      train_tokens_tensor = torch.tensor(x)\n",
        "      train_y_tensor = torch.tensor(y.reshape(-1, 1)).long()\n",
        "      train_masks_tensor = torch.tensor(train_mask)\n",
        "\n",
        "      train_dataset = TensorDataset(train_tokens_tensor, train_masks_tensor, train_y_tensor)\n",
        "      train_sampler = RandomSampler(train_dataset)\n",
        "      train_dataloader = DataLoader(train_dataset, sampler=train_sampler, batch_size=batchsize) \n",
        "\n",
        "\n",
        "      # param_optimizer = list(self.gtp2.parameters()) \n",
        "      # optimizer_grouped_parameters = [{\"params\": [p for n, p in param_optimizer]}]\n",
        "      optimizer = Adam(self.gtp2.parameters(), lr=5e-5)\n",
        "      for epoch_num in range(epochs):\n",
        "          self.gtp2.train() # Training Flag\n",
        "          train_loss = 0\n",
        "          for step_num, batch_data in enumerate(train_dataloader):\n",
        "              \n",
        "              # Load batch on device memory\n",
        "              token_ids, masks, labels = tuple(t.to(device) for t in batch_data)\n",
        "              self.zero_grad()\n",
        "\n",
        "              # Get the output of the model for provided input\n",
        "              outputs = self.gtp2(token_ids,attention_mask=masks,labels=labels)\n",
        "              loss, logits = outputs[:2]\n",
        "              # logits = self(token_ids, masks)\n",
        "              \n",
        "              # Total Loss\n",
        "              train_loss += loss.item()\n",
        "              \n",
        "              # Backward pass the loss\n",
        "              loss.backward()\n",
        "              torch.nn.utils.clip_grad_norm_(self.gtp2.parameters(), 1.0)\n",
        "              \n",
        "              optimizer.step()\n",
        "              logits = logits.detach().cpu().numpy()\n",
        "\n",
        "              clear_output(wait=True)\n",
        "        \n",
        "              print('Epoch: ', epoch_num + 1)\n",
        "              print(\"\\r\" + \"{0}/{1} loss: {2} \".format(step_num, len(train_labels) / batchsize, train_loss / (step_num + 1)))\n",
        "        "
      ],
      "execution_count": 85,
      "outputs": []
    },
    {
      "cell_type": "code",
      "metadata": {
        "id": "MPZ0MZU06Xxu",
        "colab": {
          "base_uri": "https://localhost:8080/",
          "height": 154
        },
        "outputId": "acb102d9-e399-466e-c26c-da20ad9a7fa6"
      },
      "source": [
        "gtp_clf = GTP2BinaryClassifier()\n",
        "gtp_clf = gtp_clf.cuda()"
      ],
      "execution_count": 86,
      "outputs": [
        {
          "output_type": "display_data",
          "data": {
            "application/vnd.jupyter.widget-view+json": {
              "model_id": "22bd43eafab14bbcb94437dc76abab54",
              "version_minor": 0,
              "version_major": 2
            },
            "text/plain": [
              "Downloading:   0%|          | 0.00/335M [00:00<?, ?B/s]"
            ]
          },
          "metadata": {}
        },
        {
          "output_type": "stream",
          "name": "stderr",
          "text": [
            "Some weights of the model checkpoint at microsoft/DialoGPT-small were not used when initializing GPT2ForSequenceClassification: ['lm_head.weight']\n",
            "- This IS expected if you are initializing GPT2ForSequenceClassification from the checkpoint of a model trained on another task or with another architecture (e.g. initializing a BertForSequenceClassification model from a BertForPreTraining model).\n",
            "- This IS NOT expected if you are initializing GPT2ForSequenceClassification from the checkpoint of a model that you expect to be exactly identical (initializing a BertForSequenceClassification model from a BertForSequenceClassification model).\n",
            "Some weights of GPT2ForSequenceClassification were not initialized from the model checkpoint at microsoft/DialoGPT-small and are newly initialized: ['score.weight']\n",
            "You should probably TRAIN this model on a down-stream task to be able to use it for predictions and inference.\n"
          ]
        }
      ]
    },
    {
      "cell_type": "code",
      "metadata": {
        "id": "uc6BBhJ_6gQL",
        "colab": {
          "base_uri": "https://localhost:8080/"
        },
        "outputId": "577c7fe8-042c-41ea-8f23-aee21131dae0"
      },
      "source": [
        "# Configure the Padding token id\n",
        "gtp_clf.gtp2.config.pad_token_id = tokenizer.eos_token_id\n",
        "gtp_clf.train_m(train_tokens_ids,train_y,train_masks,8,16)"
      ],
      "execution_count": 87,
      "outputs": [
        {
          "output_type": "stream",
          "name": "stdout",
          "text": [
            "Epoch:  8\n",
            "\r80/80.375 loss: 0.22804400263883082 \n"
          ]
        }
      ]
    },
    {
      "cell_type": "markdown",
      "metadata": {
        "id": "bIQXu7cL6n1g"
      },
      "source": [
        "**Evaluate on Testing Set**"
      ]
    },
    {
      "cell_type": "code",
      "metadata": {
        "id": "fpBPha-z6gyA",
        "colab": {
          "base_uri": "https://localhost:8080/"
        },
        "outputId": "bf7d872e-c362-4194-93a9-db099f1427f8"
      },
      "source": [
        "test_tokens_tensor = torch.tensor(test_tokens_ids)\n",
        "test_y_tensor = torch.tensor(test_y.reshape(-1, 1)).long()\n",
        "\n",
        "test_masks_tensor = torch.tensor(test_masks)\n",
        "\n",
        "\n",
        "test_dataset = TensorDataset(test_tokens_tensor, test_masks_tensor, test_y_tensor)\n",
        "test_sampler = SequentialSampler(test_dataset)\n",
        "test_dataloader = DataLoader(test_dataset, sampler=test_sampler, batch_size=16)\n"
      ],
      "execution_count": 88,
      "outputs": [
        {
          "output_type": "stream",
          "name": "stderr",
          "text": [
            "/usr/local/lib/python3.7/dist-packages/ipykernel_launcher.py:1: UserWarning: To copy construct from a tensor, it is recommended to use sourceTensor.clone().detach() or sourceTensor.clone().detach().requires_grad_(True), rather than torch.tensor(sourceTensor).\n",
            "  \"\"\"Entry point for launching an IPython kernel.\n",
            "/usr/local/lib/python3.7/dist-packages/ipykernel_launcher.py:4: UserWarning: To copy construct from a tensor, it is recommended to use sourceTensor.clone().detach() or sourceTensor.clone().detach().requires_grad_(True), rather than torch.tensor(sourceTensor).\n",
            "  after removing the cwd from sys.path.\n"
          ]
        }
      ]
    },
    {
      "cell_type": "code",
      "metadata": {
        "id": "9QSujIkh6s79"
      },
      "source": [
        "# Evaluate Model\n",
        "gtp_clf.eval() # Define eval\n",
        "gpt_predicted = [] # Store Result\n",
        "with torch.no_grad():\n",
        "    for step_num, batch_data in enumerate(test_dataloader):\n",
        "\n",
        "        token_ids, masks, labels = tuple(t.to(device) for t in batch_data)\n",
        "\n",
        "        # ----------------------------------------------------------------\n",
        "        outputs = gtp_clf.gtp2(token_ids,attention_mask=masks,labels=labels)\n",
        "        loss, logits = outputs[:2]\n",
        "        numpy_logits = logits.detach().cpu().numpy()\n",
        "        # ----------------------------------------------------------------\n",
        "        gpt_predicted +=list(numpy_logits.argmax(axis=-1).flatten().tolist())"
      ],
      "execution_count": 89,
      "outputs": []
    },
    {
      "cell_type": "code",
      "metadata": {
        "id": "Ke386Aoj6xXG",
        "colab": {
          "base_uri": "https://localhost:8080/",
          "height": 635
        },
        "outputId": "d33f8ff4-7090-44fe-a27f-5a85ce0f3da5"
      },
      "source": [
        "print_performance('GPT2',test_y, gpt_predicted)\n",
        "\n",
        "# Recording TPR and FPR for the TESTING-ROC curves\n",
        "GPT_test = {}\n",
        "GPT_test['fpr'], GPT_test['tpr'], thresh = roc_curve(test_y, gpt_predicted)\n",
        "GPT_test['auc'] = roc_auc_score(test_y, gpt_predicted) "
      ],
      "execution_count": 90,
      "outputs": [
        {
          "output_type": "stream",
          "name": "stdout",
          "text": [
            "Confusion Matrix: \n",
            " [[264  26]\n",
            " [ 46 109]]\n",
            "\n",
            "Testing Accuracy: 0.84\n",
            "Precision:0.81\n",
            "Recall: 0.70\n",
            "False Positive Rate: 0.09\n",
            "\n",
            "Classification report:\n",
            "              precision    recall  f1-score   support\n",
            "\n",
            "       False       0.85      0.91      0.88       290\n",
            "        True       0.81      0.70      0.75       155\n",
            "\n",
            "    accuracy                           0.84       445\n",
            "   macro avg       0.83      0.81      0.82       445\n",
            "weighted avg       0.84      0.84      0.84       445\n",
            "\n",
            "AUC: 0.81\n"
          ]
        },
        {
          "output_type": "display_data",
          "data": {
            "image/png": "[encoded data removed]",
            "text/plain": [
              "<Figure size 432x288 with 1 Axes>"
            ]
          },
          "metadata": {
            "needs_background": "light"
          }
        }
      ]
    },
    {
      "cell_type": "code",
      "metadata": {
        "id": "DJgQwUXi62OA",
        "colab": {
          "base_uri": "https://localhost:8080/",
          "height": 404
        },
        "outputId": "0d49b697-1099-437a-f44a-7c346de0b4d4"
      },
      "source": [
        "# Ploting the overlaid ROC curves on testing results:\n",
        "graph_multi_ROC()"
      ],
      "execution_count": 91,
      "outputs": [
        {
          "output_type": "display_data",
          "data": {
            "image/png": "[encoded data removed]",
            "text/plain": [
              "<Figure size 648x432 with 1 Axes>"
            ]
          },
          "metadata": {
            "needs_background": "light"
          }
        }
      ]
    },
    {
      "cell_type": "markdown",
      "metadata": {
        "id": "CtoZZkWd8e-a"
      },
      "source": [
        "# **End**"
      ]
    },
    {
      "cell_type": "markdown",
      "metadata": {
        "id": "ZQNi0zQY7QYT"
      },
      "source": [
        "## **Note**\n",
        "\n",
        "BERT and GPT outperform the other algs.\n",
        "In Live Lpr, original intrusion data have 164227 sequences, but only 202 of them are unique. Normal data has 92 unique records --> lack of data especially intrusion data. --> upsampled to get intrusion = normal and double the data by upsampling. ==? Result is improved a lot more\n",
        "\n",
        "In MIT Live Lpr, when we bootstrap data to get normal = intrusion, BERT and GPT achieve 0.97 and 0.98, while the others only get 0.45 to 0.74 accuracy. When data from both classes are bootstraped to double the amount, BERT achieve 0.99 accuracy abd RF increase accuracy by 0.02, while the rest does not have any improvement.\n"
      ]
    },
    {
      "cell_type": "code",
      "metadata": {
        "id": "tLlkDYpKcLEq"
      },
      "source": [
        ""
      ],
      "execution_count": 91,
      "outputs": []
    }
  ]
}